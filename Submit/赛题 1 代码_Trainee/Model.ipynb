{
 "cells": [
  {
   "cell_type": "code",
   "execution_count": 4,
   "metadata": {
    "ExecuteTime": {
     "end_time": "2019-04-23T15:52:09.102134Z",
     "start_time": "2019-04-23T15:52:08.012626Z"
    },
    "colab": {
     "base_uri": "https://localhost:8080/",
     "height": 389
    },
    "colab_type": "code",
    "id": "vcp_9E-GxSYT",
    "outputId": "7ef6d415-d974-4f49-cd2f-e1f2caec6d22"
   },
   "outputs": [
    {
     "data": {
      "text/html": [
       "<div>\n",
       "<style scoped>\n",
       "    .dataframe tbody tr th:only-of-type {\n",
       "        vertical-align: middle;\n",
       "    }\n",
       "\n",
       "    .dataframe tbody tr th {\n",
       "        vertical-align: top;\n",
       "    }\n",
       "\n",
       "    .dataframe thead th {\n",
       "        text-align: right;\n",
       "    }\n",
       "</style>\n",
       "<table border=\"1\" class=\"dataframe\">\n",
       "  <thead>\n",
       "    <tr style=\"text-align: right;\">\n",
       "      <th></th>\n",
       "      <th>企业编号</th>\n",
       "      <th>企业总评分</th>\n",
       "      <th>软著数量</th>\n",
       "      <th>作品著作数量</th>\n",
       "      <th>项目数量</th>\n",
       "      <th>纳税A级年份_2014</th>\n",
       "      <th>纳税A级年份_2015</th>\n",
       "      <th>纳税A级年份_2016</th>\n",
       "      <th>纳税A级年份_2017</th>\n",
       "      <th>纳税A级年份增长1</th>\n",
       "      <th>...</th>\n",
       "      <th>应收账款周转天数(天)_mean</th>\n",
       "      <th>应收账款周转天数(天)_max</th>\n",
       "      <th>应收账款周转天数(天)_min</th>\n",
       "      <th>应收账款周转天数(天)_std</th>\n",
       "      <th>应收账款周转天数(天)滚动增长_mean</th>\n",
       "      <th>存货周转天数(天)_mean</th>\n",
       "      <th>存货周转天数(天)_max</th>\n",
       "      <th>存货周转天数(天)_min</th>\n",
       "      <th>存货周转天数(天)_std</th>\n",
       "      <th>存货周转天数(天)滚动增长_mean</th>\n",
       "    </tr>\n",
       "  </thead>\n",
       "  <tbody>\n",
       "    <tr>\n",
       "      <th>0</th>\n",
       "      <td>1001</td>\n",
       "      <td>75.374276</td>\n",
       "      <td>1.0</td>\n",
       "      <td>1.0</td>\n",
       "      <td>1.0</td>\n",
       "      <td>1.0</td>\n",
       "      <td>2.0</td>\n",
       "      <td>1.0</td>\n",
       "      <td>1.0</td>\n",
       "      <td>1.0</td>\n",
       "      <td>...</td>\n",
       "      <td>107.589270</td>\n",
       "      <td>191.707773</td>\n",
       "      <td>63.791689</td>\n",
       "      <td>44.495607</td>\n",
       "      <td>0.151392</td>\n",
       "      <td>414.778035</td>\n",
       "      <td>1089.655763</td>\n",
       "      <td>176.283983</td>\n",
       "      <td>325.371499</td>\n",
       "      <td>1.562757</td>\n",
       "    </tr>\n",
       "    <tr>\n",
       "      <th>1</th>\n",
       "      <td>1002</td>\n",
       "      <td>79.830122</td>\n",
       "      <td>2.0</td>\n",
       "      <td>0.0</td>\n",
       "      <td>1.0</td>\n",
       "      <td>1.0</td>\n",
       "      <td>1.0</td>\n",
       "      <td>2.0</td>\n",
       "      <td>0.0</td>\n",
       "      <td>0.0</td>\n",
       "      <td>...</td>\n",
       "      <td>46.903333</td>\n",
       "      <td>56.590000</td>\n",
       "      <td>39.830000</td>\n",
       "      <td>6.234116</td>\n",
       "      <td>0.023916</td>\n",
       "      <td>6.506667</td>\n",
       "      <td>7.040000</td>\n",
       "      <td>5.010000</td>\n",
       "      <td>0.702335</td>\n",
       "      <td>0.045330</td>\n",
       "    </tr>\n",
       "    <tr>\n",
       "      <th>2</th>\n",
       "      <td>1003</td>\n",
       "      <td>78.318264</td>\n",
       "      <td>2.0</td>\n",
       "      <td>0.0</td>\n",
       "      <td>1.0</td>\n",
       "      <td>1.0</td>\n",
       "      <td>1.0</td>\n",
       "      <td>0.0</td>\n",
       "      <td>1.0</td>\n",
       "      <td>0.0</td>\n",
       "      <td>...</td>\n",
       "      <td>84.275556</td>\n",
       "      <td>139.910000</td>\n",
       "      <td>56.020000</td>\n",
       "      <td>33.143654</td>\n",
       "      <td>-0.040224</td>\n",
       "      <td>54.918889</td>\n",
       "      <td>75.540000</td>\n",
       "      <td>38.010000</td>\n",
       "      <td>11.089465</td>\n",
       "      <td>0.031792</td>\n",
       "    </tr>\n",
       "    <tr>\n",
       "      <th>3</th>\n",
       "      <td>1004</td>\n",
       "      <td>83.253376</td>\n",
       "      <td>0.0</td>\n",
       "      <td>6.0</td>\n",
       "      <td>1.0</td>\n",
       "      <td>0.0</td>\n",
       "      <td>0.0</td>\n",
       "      <td>2.0</td>\n",
       "      <td>1.0</td>\n",
       "      <td>0.0</td>\n",
       "      <td>...</td>\n",
       "      <td>26.720000</td>\n",
       "      <td>35.360000</td>\n",
       "      <td>17.290000</td>\n",
       "      <td>6.024438</td>\n",
       "      <td>0.081857</td>\n",
       "      <td>6.954444</td>\n",
       "      <td>7.900000</td>\n",
       "      <td>6.240000</td>\n",
       "      <td>0.618448</td>\n",
       "      <td>0.021711</td>\n",
       "    </tr>\n",
       "    <tr>\n",
       "      <th>4</th>\n",
       "      <td>1005</td>\n",
       "      <td>83.291493</td>\n",
       "      <td>6.0</td>\n",
       "      <td>0.0</td>\n",
       "      <td>1.0</td>\n",
       "      <td>0.0</td>\n",
       "      <td>0.0</td>\n",
       "      <td>0.0</td>\n",
       "      <td>0.0</td>\n",
       "      <td>0.0</td>\n",
       "      <td>...</td>\n",
       "      <td>94.050000</td>\n",
       "      <td>110.260000</td>\n",
       "      <td>77.850000</td>\n",
       "      <td>9.652235</td>\n",
       "      <td>0.012921</td>\n",
       "      <td>108.584444</td>\n",
       "      <td>357.190000</td>\n",
       "      <td>44.160000</td>\n",
       "      <td>101.728838</td>\n",
       "      <td>0.344086</td>\n",
       "    </tr>\n",
       "  </tbody>\n",
       "</table>\n",
       "<p>5 rows × 336 columns</p>\n",
       "</div>"
      ],
      "text/plain": [
       "   企业编号      企业总评分  软著数量  作品著作数量  项目数量  纳税A级年份_2014  纳税A级年份_2015  纳税A级年份_2016  \\\n",
       "0  1001  75.374276   1.0     1.0   1.0          1.0          2.0          1.0   \n",
       "1  1002  79.830122   2.0     0.0   1.0          1.0          1.0          2.0   \n",
       "2  1003  78.318264   2.0     0.0   1.0          1.0          1.0          0.0   \n",
       "3  1004  83.253376   0.0     6.0   1.0          0.0          0.0          2.0   \n",
       "4  1005  83.291493   6.0     0.0   1.0          0.0          0.0          0.0   \n",
       "\n",
       "   纳税A级年份_2017  纳税A级年份增长1  ...  应收账款周转天数(天)_mean  应收账款周转天数(天)_max  \\\n",
       "0          1.0        1.0  ...        107.589270       191.707773   \n",
       "1          0.0        0.0  ...         46.903333        56.590000   \n",
       "2          1.0        0.0  ...         84.275556       139.910000   \n",
       "3          1.0        0.0  ...         26.720000        35.360000   \n",
       "4          0.0        0.0  ...         94.050000       110.260000   \n",
       "\n",
       "   应收账款周转天数(天)_min  应收账款周转天数(天)_std  应收账款周转天数(天)滚动增长_mean  存货周转天数(天)_mean  \\\n",
       "0        63.791689        44.495607              0.151392      414.778035   \n",
       "1        39.830000         6.234116              0.023916        6.506667   \n",
       "2        56.020000        33.143654             -0.040224       54.918889   \n",
       "3        17.290000         6.024438              0.081857        6.954444   \n",
       "4        77.850000         9.652235              0.012921      108.584444   \n",
       "\n",
       "   存货周转天数(天)_max  存货周转天数(天)_min  存货周转天数(天)_std  存货周转天数(天)滚动增长_mean  \n",
       "0    1089.655763     176.283983     325.371499            1.562757  \n",
       "1       7.040000       5.010000       0.702335            0.045330  \n",
       "2      75.540000      38.010000      11.089465            0.031792  \n",
       "3       7.900000       6.240000       0.618448            0.021711  \n",
       "4     357.190000      44.160000     101.728838            0.344086  \n",
       "\n",
       "[5 rows x 336 columns]"
      ]
     },
     "execution_count": 4,
     "metadata": {},
     "output_type": "execute_result"
    }
   ],
   "source": [
    "import numpy as np\n",
    "import pandas as pd\n",
    "import datetime\n",
    "import time\n",
    "\n",
    "import lightgbm as lgb\n",
    "\n",
    "\n",
    "from sklearn.model_selection import StratifiedKFold\n",
    "from sklearn.model_selection import GridSearchCV\n",
    "from sklearn.metrics import mean_squared_error\n",
    "from sklearn.metrics import accuracy_score\n",
    "from sklearn.model_selection import KFold\n",
    "from sklearn.model_selection import train_test_split\n",
    "from sklearn.preprocessing import StandardScaler\n",
    "from sklearn.feature_selection import RFE\n",
    "from sklearn.metrics import r2_score\n",
    "\n",
    "import itertools\n",
    "\n",
    "import warnings\n",
    "import json\n",
    "\n",
    "warnings.filterwarnings('ignore')\n",
    "\n",
    "\n",
    "df = pd.read_csv(r'./train_data.csv')\n",
    "df.head(5)"
   ]
  },
  {
   "cell_type": "markdown",
   "metadata": {
    "colab_type": "text",
    "id": "_qllQkscxrgz"
   },
   "source": [
    "# Train data"
   ]
  },
  {
   "cell_type": "code",
   "execution_count": 3,
   "metadata": {
    "ExecuteTime": {
     "end_time": "2019-04-23T15:30:38.337873Z",
     "start_time": "2019-04-23T15:30:38.223463Z"
    },
    "colab": {
     "base_uri": "https://localhost:8080/",
     "height": 34
    },
    "colab_type": "code",
    "id": "TmFLHyt5xe88",
    "outputId": "b04d8b4f-33ec-4f79-a960-7290a38fcfed"
   },
   "outputs": [
    {
     "name": "stdout",
     "output_type": "stream",
     "text": [
      "(2364, 335) (592, 335) (2364,) (592,)\n"
     ]
    }
   ],
   "source": [
    "y = df[['企业编号', '企业总评分']]\n",
    "x = df.drop(['企业总评分'], axis=1)\n",
    "\n",
    "xtrain, xtest, ytrain, ytest = train_test_split(\n",
    "    x, y, test_size=0.2, random_state=31)\n",
    "ytrain_id = ytrain['企业编号']\n",
    "ytrain = ytrain['企业总评分']\n",
    "ytest_id = ytest['企业编号']\n",
    "ytest = ytest['企业总评分']\n",
    "print(xtrain.shape, xtest.shape, ytrain.shape, ytest.shape)\n",
    "\n",
    "id_train = xtrain['企业编号']\n",
    "id_test = xtest['企业编号']\n",
    "xtrain.drop(['企业编号'], axis=1, inplace=True)\n",
    "xtest.drop(['企业编号'], axis=1, inplace=True)\n",
    "feature_name=xtrain.columns.values"
   ]
  },
  {
   "cell_type": "code",
   "execution_count": 4,
   "metadata": {
    "ExecuteTime": {
     "end_time": "2019-04-23T15:30:40.158262Z",
     "start_time": "2019-04-23T15:30:40.152938Z"
    },
    "colab": {},
    "colab_type": "code",
    "id": "4p0dH1E_xhNw"
   },
   "outputs": [],
   "source": [
    "estimator = lgb.LGBMRegressor(objective='regression',\n",
    "                              num_leaves=20,\n",
    "                              learning_rate=0.005,\n",
    "                              n_estimators=1500,\n",
    "                              max_depth=7,\n",
    "                              boosting='gbdt',\n",
    "                              metric='rmse',\n",
    "                              max_bin=35,\n",
    "                              n_jobs=-1,\n",
    "                              min_child_samples=100,\n",
    "                              bagging_seed=11,\n",
    "                              bagging_fraction=0.7,\n",
    "                              bagging_freq=1,\n",
    "                              min_data_in_leaf=20\n",
    "                             )"
   ]
  },
  {
   "cell_type": "markdown",
   "metadata": {
    "colab_type": "text",
    "id": "8xaB7qwIxuRQ"
   },
   "source": [
    "# RFE"
   ]
  },
  {
   "cell_type": "code",
   "execution_count": 0,
   "metadata": {
    "colab": {},
    "colab_type": "code",
    "id": "fTaTZ-oDxi_4"
   },
   "outputs": [],
   "source": [
    "for i in range(334,120, -5):\n",
    "    selector = RFE(estimator, i, step=1)\n",
    "    selector = selector.fit(xtrain, ytrain)\n",
    "    pre=selector.predict(xtest)\n",
    "    print(i, np.sqrt(mean_squared_error(pre,ytest)))\n",
    "# The best is 124"
   ]
  },
  {
   "cell_type": "code",
   "execution_count": 5,
   "metadata": {
    "ExecuteTime": {
     "end_time": "2019-04-23T15:39:28.636528Z",
     "start_time": "2019-04-23T15:30:44.830908Z"
    },
    "colab": {},
    "colab_type": "code",
    "id": "0nhbCCpkxk2L"
   },
   "outputs": [
    {
     "name": "stdout",
     "output_type": "stream",
     "text": [
      "3.0834744809212484 0.4290226823986045\n"
     ]
    }
   ],
   "source": [
    "selector = RFE(estimator, 124, step=1)\n",
    "selector = selector.fit(xtrain, ytrain)\n",
    "pre=selector.predict(xtest)\n",
    "print(np.sqrt(mean_squared_error(pre,ytest)), r2_score(pre,ytest))"
   ]
  },
  {
   "cell_type": "markdown",
   "metadata": {
    "colab_type": "text",
    "id": "gOm8YciIxoqr"
   },
   "source": [
    "# Test data"
   ]
  },
  {
   "cell_type": "code",
   "execution_count": 5,
   "metadata": {
    "ExecuteTime": {
     "end_time": "2019-04-23T15:52:12.412210Z",
     "start_time": "2019-04-23T15:52:12.326099Z"
    },
    "colab": {},
    "colab_type": "code",
    "id": "ol-MQHFdxn2_"
   },
   "outputs": [],
   "source": [
    "test_df = pd.read_csv(r'./test_data.csv')\n",
    "X_test = test_df.drop(['企业编号'], axis=1)\n",
    "X_test.replace([np.inf, -np.inf], np.nan, inplace=True)\n",
    "X_test = X_test.fillna(0)\n",
    "test_id = test_df['企业编号']"
   ]
  },
  {
   "cell_type": "code",
   "execution_count": 8,
   "metadata": {
    "ExecuteTime": {
     "end_time": "2019-04-23T15:52:49.482897Z",
     "start_time": "2019-04-23T15:52:49.447775Z"
    }
   },
   "outputs": [
    {
     "data": {
      "text/html": [
       "<div>\n",
       "<style scoped>\n",
       "    .dataframe tbody tr th:only-of-type {\n",
       "        vertical-align: middle;\n",
       "    }\n",
       "\n",
       "    .dataframe tbody tr th {\n",
       "        vertical-align: top;\n",
       "    }\n",
       "\n",
       "    .dataframe thead th {\n",
       "        text-align: right;\n",
       "    }\n",
       "</style>\n",
       "<table border=\"1\" class=\"dataframe\">\n",
       "  <thead>\n",
       "    <tr style=\"text-align: right;\">\n",
       "      <th></th>\n",
       "      <th>企业编号</th>\n",
       "      <th>软著数量</th>\n",
       "      <th>作品著作数量</th>\n",
       "      <th>项目数量</th>\n",
       "      <th>纳税A级年份_2014</th>\n",
       "      <th>纳税A级年份_2015</th>\n",
       "      <th>纳税A级年份_2016</th>\n",
       "      <th>纳税A级年份_2017</th>\n",
       "      <th>纳税A级年份增长1</th>\n",
       "      <th>纳税A级年份增长2</th>\n",
       "      <th>...</th>\n",
       "      <th>应收账款周转天数(天)_mean</th>\n",
       "      <th>应收账款周转天数(天)_max</th>\n",
       "      <th>应收账款周转天数(天)_min</th>\n",
       "      <th>应收账款周转天数(天)_std</th>\n",
       "      <th>应收账款周转天数(天)滚动增长_mean</th>\n",
       "      <th>存货周转天数(天)_mean</th>\n",
       "      <th>存货周转天数(天)_max</th>\n",
       "      <th>存货周转天数(天)_min</th>\n",
       "      <th>存货周转天数(天)_std</th>\n",
       "      <th>存货周转天数(天)滚动增长_mean</th>\n",
       "    </tr>\n",
       "  </thead>\n",
       "  <tbody>\n",
       "    <tr>\n",
       "      <th>0</th>\n",
       "      <td>4001</td>\n",
       "      <td>188.0</td>\n",
       "      <td>12.0</td>\n",
       "      <td>1.0</td>\n",
       "      <td>1.0</td>\n",
       "      <td>1.0</td>\n",
       "      <td>2.0</td>\n",
       "      <td>0.0</td>\n",
       "      <td>0.0</td>\n",
       "      <td>1.0</td>\n",
       "      <td>...</td>\n",
       "      <td>-0.053552</td>\n",
       "      <td>853.253333</td>\n",
       "      <td>1078.28</td>\n",
       "      <td>647.43</td>\n",
       "      <td>132.634622</td>\n",
       "      <td>0.012903</td>\n",
       "      <td>0.0</td>\n",
       "      <td>0.0</td>\n",
       "      <td>0.0</td>\n",
       "      <td>0.0</td>\n",
       "    </tr>\n",
       "    <tr>\n",
       "      <th>1</th>\n",
       "      <td>4002</td>\n",
       "      <td>42.0</td>\n",
       "      <td>0.0</td>\n",
       "      <td>1.0</td>\n",
       "      <td>1.0</td>\n",
       "      <td>1.0</td>\n",
       "      <td>1.0</td>\n",
       "      <td>1.0</td>\n",
       "      <td>0.0</td>\n",
       "      <td>0.0</td>\n",
       "      <td>...</td>\n",
       "      <td>-0.053116</td>\n",
       "      <td>100.236667</td>\n",
       "      <td>160.28</td>\n",
       "      <td>69.50</td>\n",
       "      <td>31.849951</td>\n",
       "      <td>-0.045968</td>\n",
       "      <td>0.0</td>\n",
       "      <td>0.0</td>\n",
       "      <td>0.0</td>\n",
       "      <td>0.0</td>\n",
       "    </tr>\n",
       "    <tr>\n",
       "      <th>2</th>\n",
       "      <td>4003</td>\n",
       "      <td>0.0</td>\n",
       "      <td>0.0</td>\n",
       "      <td>2.0</td>\n",
       "      <td>2.0</td>\n",
       "      <td>2.0</td>\n",
       "      <td>2.0</td>\n",
       "      <td>0.0</td>\n",
       "      <td>0.0</td>\n",
       "      <td>0.0</td>\n",
       "      <td>...</td>\n",
       "      <td>0.023584</td>\n",
       "      <td>45.646111</td>\n",
       "      <td>63.87</td>\n",
       "      <td>25.49</td>\n",
       "      <td>11.654292</td>\n",
       "      <td>0.031598</td>\n",
       "      <td>0.0</td>\n",
       "      <td>0.0</td>\n",
       "      <td>0.0</td>\n",
       "      <td>0.0</td>\n",
       "    </tr>\n",
       "    <tr>\n",
       "      <th>3</th>\n",
       "      <td>4004</td>\n",
       "      <td>0.0</td>\n",
       "      <td>0.0</td>\n",
       "      <td>1.0</td>\n",
       "      <td>0.0</td>\n",
       "      <td>0.0</td>\n",
       "      <td>0.0</td>\n",
       "      <td>0.0</td>\n",
       "      <td>0.0</td>\n",
       "      <td>0.0</td>\n",
       "      <td>...</td>\n",
       "      <td>-0.012479</td>\n",
       "      <td>1.691111</td>\n",
       "      <td>2.17</td>\n",
       "      <td>1.45</td>\n",
       "      <td>0.212394</td>\n",
       "      <td>0.048454</td>\n",
       "      <td>0.0</td>\n",
       "      <td>0.0</td>\n",
       "      <td>0.0</td>\n",
       "      <td>0.0</td>\n",
       "    </tr>\n",
       "    <tr>\n",
       "      <th>4</th>\n",
       "      <td>4005</td>\n",
       "      <td>19.0</td>\n",
       "      <td>0.0</td>\n",
       "      <td>1.0</td>\n",
       "      <td>1.0</td>\n",
       "      <td>1.0</td>\n",
       "      <td>0.0</td>\n",
       "      <td>1.0</td>\n",
       "      <td>0.0</td>\n",
       "      <td>-1.0</td>\n",
       "      <td>...</td>\n",
       "      <td>-0.097558</td>\n",
       "      <td>616.920000</td>\n",
       "      <td>904.24</td>\n",
       "      <td>329.91</td>\n",
       "      <td>191.017424</td>\n",
       "      <td>-0.054086</td>\n",
       "      <td>0.0</td>\n",
       "      <td>0.0</td>\n",
       "      <td>0.0</td>\n",
       "      <td>0.0</td>\n",
       "    </tr>\n",
       "  </tbody>\n",
       "</table>\n",
       "<p>5 rows × 335 columns</p>\n",
       "</div>"
      ],
      "text/plain": [
       "   企业编号   软著数量  作品著作数量  项目数量  纳税A级年份_2014  纳税A级年份_2015  纳税A级年份_2016  \\\n",
       "0  4001  188.0    12.0   1.0          1.0          1.0          2.0   \n",
       "1  4002   42.0     0.0   1.0          1.0          1.0          1.0   \n",
       "2  4003    0.0     0.0   2.0          2.0          2.0          2.0   \n",
       "3  4004    0.0     0.0   1.0          0.0          0.0          0.0   \n",
       "4  4005   19.0     0.0   1.0          1.0          1.0          0.0   \n",
       "\n",
       "   纳税A级年份_2017  纳税A级年份增长1  纳税A级年份增长2  ...  应收账款周转天数(天)_mean  应收账款周转天数(天)_max  \\\n",
       "0          0.0        0.0        1.0  ...         -0.053552       853.253333   \n",
       "1          1.0        0.0        0.0  ...         -0.053116       100.236667   \n",
       "2          0.0        0.0        0.0  ...          0.023584        45.646111   \n",
       "3          0.0        0.0        0.0  ...         -0.012479         1.691111   \n",
       "4          1.0        0.0       -1.0  ...         -0.097558       616.920000   \n",
       "\n",
       "   应收账款周转天数(天)_min  应收账款周转天数(天)_std  应收账款周转天数(天)滚动增长_mean  存货周转天数(天)_mean  \\\n",
       "0          1078.28           647.43            132.634622        0.012903   \n",
       "1           160.28            69.50             31.849951       -0.045968   \n",
       "2            63.87            25.49             11.654292        0.031598   \n",
       "3             2.17             1.45              0.212394        0.048454   \n",
       "4           904.24           329.91            191.017424       -0.054086   \n",
       "\n",
       "   存货周转天数(天)_max  存货周转天数(天)_min  存货周转天数(天)_std  存货周转天数(天)滚动增长_mean  \n",
       "0            0.0            0.0            0.0                 0.0  \n",
       "1            0.0            0.0            0.0                 0.0  \n",
       "2            0.0            0.0            0.0                 0.0  \n",
       "3            0.0            0.0            0.0                 0.0  \n",
       "4            0.0            0.0            0.0                 0.0  \n",
       "\n",
       "[5 rows x 335 columns]"
      ]
     },
     "execution_count": 8,
     "metadata": {},
     "output_type": "execute_result"
    }
   ],
   "source": [
    "test_df.head(5)"
   ]
  },
  {
   "cell_type": "code",
   "execution_count": 2,
   "metadata": {
    "ExecuteTime": {
     "end_time": "2019-04-23T15:51:52.776587Z",
     "start_time": "2019-04-23T15:51:52.767096Z"
    },
    "colab": {},
    "colab_type": "code",
    "id": "Il3-Op5Oyj-j"
   },
   "outputs": [
    {
     "ename": "NameError",
     "evalue": "name 'selector' is not defined",
     "output_type": "error",
     "traceback": [
      "\u001b[0;31m---------------------------------------------------------------------------\u001b[0m",
      "\u001b[0;31mNameError\u001b[0m                                 Traceback (most recent call last)",
      "\u001b[0;32m<ipython-input-2-2218c751b849>\u001b[0m in \u001b[0;36m<module>\u001b[0;34m\u001b[0m\n\u001b[0;32m----> 1\u001b[0;31m \u001b[0mpre\u001b[0m\u001b[0;34m=\u001b[0m\u001b[0mselector\u001b[0m\u001b[0;34m.\u001b[0m\u001b[0mpredict\u001b[0m\u001b[0;34m(\u001b[0m\u001b[0mX_test\u001b[0m\u001b[0;34m)\u001b[0m\u001b[0;34m\u001b[0m\u001b[0;34m\u001b[0m\u001b[0m\n\u001b[0m",
      "\u001b[0;31mNameError\u001b[0m: name 'selector' is not defined"
     ]
    }
   ],
   "source": [
    "pre=selector.predict(X_test)"
   ]
  },
  {
   "cell_type": "code",
   "execution_count": 8,
   "metadata": {
    "ExecuteTime": {
     "end_time": "2019-04-23T15:40:53.015957Z",
     "start_time": "2019-04-23T15:40:53.011815Z"
    },
    "colab": {},
    "colab_type": "code",
    "id": "DhIlnCFlyooj"
   },
   "outputs": [],
   "source": [
    "result = pd.DataFrame({\n",
    "    '企业编号': test_id,\n",
    "    'pre_rating': pd.Series(pre)\n",
    "})"
   ]
  },
  {
   "cell_type": "code",
   "execution_count": 9,
   "metadata": {
    "ExecuteTime": {
     "end_time": "2019-04-23T15:40:54.717588Z",
     "start_time": "2019-04-23T15:40:54.359548Z"
    },
    "colab": {},
    "colab_type": "code",
    "id": "6kfVTnS8y43X"
   },
   "outputs": [],
   "source": [
    "result.to_excel(r'./赛题1结果_Trainee.xlsx', index=False,header=False)"
   ]
  },
  {
   "cell_type": "code",
   "execution_count": null,
   "metadata": {},
   "outputs": [],
   "source": []
  }
 ],
 "metadata": {
  "colab": {
   "collapsed_sections": [],
   "name": "Untitled0.ipynb",
   "provenance": [],
   "version": "0.3.2"
  },
  "kernelspec": {
   "display_name": "Python 3",
   "language": "python",
   "name": "python3"
  },
  "language_info": {
   "codemirror_mode": {
    "name": "ipython",
    "version": 3
   },
   "file_extension": ".py",
   "mimetype": "text/x-python",
   "name": "python",
   "nbconvert_exporter": "python",
   "pygments_lexer": "ipython3",
   "version": "3.6.8"
  },
  "toc": {
   "base_numbering": 1,
   "nav_menu": {},
   "number_sections": true,
   "sideBar": true,
   "skip_h1_title": false,
   "title_cell": "Table of Contents",
   "title_sidebar": "Contents",
   "toc_cell": false,
   "toc_position": {},
   "toc_section_display": true,
   "toc_window_display": false
  },
  "varInspector": {
   "cols": {
    "lenName": 16,
    "lenType": 16,
    "lenVar": 40
   },
   "kernels_config": {
    "python": {
     "delete_cmd_postfix": "",
     "delete_cmd_prefix": "del ",
     "library": "var_list.py",
     "varRefreshCmd": "print(var_dic_list())"
    },
    "r": {
     "delete_cmd_postfix": ") ",
     "delete_cmd_prefix": "rm(",
     "library": "var_list.r",
     "varRefreshCmd": "cat(var_dic_list()) "
    }
   },
   "types_to_exclude": [
    "module",
    "function",
    "builtin_function_or_method",
    "instance",
    "_Feature"
   ],
   "window_display": false
  }
 },
 "nbformat": 4,
 "nbformat_minor": 1
}
