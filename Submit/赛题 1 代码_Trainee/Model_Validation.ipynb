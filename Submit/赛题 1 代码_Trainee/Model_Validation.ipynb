{
 "cells": [
  {
   "cell_type": "code",
   "execution_count": 1,
   "metadata": {
    "ExecuteTime": {
     "end_time": "2019-04-28T14:05:55.692678Z",
     "start_time": "2019-04-28T14:05:53.550446Z"
    },
    "colab": {
     "base_uri": "https://localhost:8080/",
     "height": 389
    },
    "colab_type": "code",
    "id": "vcp_9E-GxSYT",
    "outputId": "7ef6d415-d974-4f49-cd2f-e1f2caec6d22"
   },
   "outputs": [
    {
     "data": {
      "text/html": [
       "<div>\n",
       "<style scoped>\n",
       "    .dataframe tbody tr th:only-of-type {\n",
       "        vertical-align: middle;\n",
       "    }\n",
       "\n",
       "    .dataframe tbody tr th {\n",
       "        vertical-align: top;\n",
       "    }\n",
       "\n",
       "    .dataframe thead th {\n",
       "        text-align: right;\n",
       "    }\n",
       "</style>\n",
       "<table border=\"1\" class=\"dataframe\">\n",
       "  <thead>\n",
       "    <tr style=\"text-align: right;\">\n",
       "      <th></th>\n",
       "      <th>企业编号</th>\n",
       "      <th>企业总评分</th>\n",
       "      <th>软著数量</th>\n",
       "      <th>作品著作数量</th>\n",
       "      <th>项目数量</th>\n",
       "      <th>纳税A级年份_2014</th>\n",
       "      <th>纳税A级年份_2015</th>\n",
       "      <th>纳税A级年份_2016</th>\n",
       "      <th>纳税A级年份_2017</th>\n",
       "      <th>纳税A级年份增长1</th>\n",
       "      <th>...</th>\n",
       "      <th>应收账款周转天数(天)_mean</th>\n",
       "      <th>应收账款周转天数(天)_max</th>\n",
       "      <th>应收账款周转天数(天)_min</th>\n",
       "      <th>应收账款周转天数(天)_std</th>\n",
       "      <th>应收账款周转天数(天)滚动增长_mean</th>\n",
       "      <th>存货周转天数(天)_mean</th>\n",
       "      <th>存货周转天数(天)_max</th>\n",
       "      <th>存货周转天数(天)_min</th>\n",
       "      <th>存货周转天数(天)_std</th>\n",
       "      <th>存货周转天数(天)滚动增长_mean</th>\n",
       "    </tr>\n",
       "  </thead>\n",
       "  <tbody>\n",
       "    <tr>\n",
       "      <th>0</th>\n",
       "      <td>1001</td>\n",
       "      <td>75.374276</td>\n",
       "      <td>1.0</td>\n",
       "      <td>1.0</td>\n",
       "      <td>1.0</td>\n",
       "      <td>1.0</td>\n",
       "      <td>2.0</td>\n",
       "      <td>1.0</td>\n",
       "      <td>1.0</td>\n",
       "      <td>1.0</td>\n",
       "      <td>...</td>\n",
       "      <td>107.589270</td>\n",
       "      <td>191.707773</td>\n",
       "      <td>63.791689</td>\n",
       "      <td>44.495607</td>\n",
       "      <td>0.151392</td>\n",
       "      <td>414.778035</td>\n",
       "      <td>1089.655763</td>\n",
       "      <td>176.283983</td>\n",
       "      <td>325.371499</td>\n",
       "      <td>1.562757</td>\n",
       "    </tr>\n",
       "    <tr>\n",
       "      <th>1</th>\n",
       "      <td>1002</td>\n",
       "      <td>79.830122</td>\n",
       "      <td>2.0</td>\n",
       "      <td>0.0</td>\n",
       "      <td>1.0</td>\n",
       "      <td>1.0</td>\n",
       "      <td>1.0</td>\n",
       "      <td>2.0</td>\n",
       "      <td>0.0</td>\n",
       "      <td>0.0</td>\n",
       "      <td>...</td>\n",
       "      <td>46.903333</td>\n",
       "      <td>56.590000</td>\n",
       "      <td>39.830000</td>\n",
       "      <td>6.234116</td>\n",
       "      <td>0.023916</td>\n",
       "      <td>6.506667</td>\n",
       "      <td>7.040000</td>\n",
       "      <td>5.010000</td>\n",
       "      <td>0.702335</td>\n",
       "      <td>0.045330</td>\n",
       "    </tr>\n",
       "    <tr>\n",
       "      <th>2</th>\n",
       "      <td>1003</td>\n",
       "      <td>78.318264</td>\n",
       "      <td>2.0</td>\n",
       "      <td>0.0</td>\n",
       "      <td>1.0</td>\n",
       "      <td>1.0</td>\n",
       "      <td>1.0</td>\n",
       "      <td>0.0</td>\n",
       "      <td>1.0</td>\n",
       "      <td>0.0</td>\n",
       "      <td>...</td>\n",
       "      <td>84.275556</td>\n",
       "      <td>139.910000</td>\n",
       "      <td>56.020000</td>\n",
       "      <td>33.143654</td>\n",
       "      <td>-0.040224</td>\n",
       "      <td>54.918889</td>\n",
       "      <td>75.540000</td>\n",
       "      <td>38.010000</td>\n",
       "      <td>11.089465</td>\n",
       "      <td>0.031792</td>\n",
       "    </tr>\n",
       "    <tr>\n",
       "      <th>3</th>\n",
       "      <td>1004</td>\n",
       "      <td>83.253376</td>\n",
       "      <td>0.0</td>\n",
       "      <td>6.0</td>\n",
       "      <td>1.0</td>\n",
       "      <td>0.0</td>\n",
       "      <td>0.0</td>\n",
       "      <td>2.0</td>\n",
       "      <td>1.0</td>\n",
       "      <td>0.0</td>\n",
       "      <td>...</td>\n",
       "      <td>26.720000</td>\n",
       "      <td>35.360000</td>\n",
       "      <td>17.290000</td>\n",
       "      <td>6.024438</td>\n",
       "      <td>0.081857</td>\n",
       "      <td>6.954444</td>\n",
       "      <td>7.900000</td>\n",
       "      <td>6.240000</td>\n",
       "      <td>0.618448</td>\n",
       "      <td>0.021711</td>\n",
       "    </tr>\n",
       "    <tr>\n",
       "      <th>4</th>\n",
       "      <td>1005</td>\n",
       "      <td>83.291493</td>\n",
       "      <td>6.0</td>\n",
       "      <td>0.0</td>\n",
       "      <td>1.0</td>\n",
       "      <td>0.0</td>\n",
       "      <td>0.0</td>\n",
       "      <td>0.0</td>\n",
       "      <td>0.0</td>\n",
       "      <td>0.0</td>\n",
       "      <td>...</td>\n",
       "      <td>94.050000</td>\n",
       "      <td>110.260000</td>\n",
       "      <td>77.850000</td>\n",
       "      <td>9.652235</td>\n",
       "      <td>0.012921</td>\n",
       "      <td>108.584444</td>\n",
       "      <td>357.190000</td>\n",
       "      <td>44.160000</td>\n",
       "      <td>101.728838</td>\n",
       "      <td>0.344086</td>\n",
       "    </tr>\n",
       "  </tbody>\n",
       "</table>\n",
       "<p>5 rows × 336 columns</p>\n",
       "</div>"
      ],
      "text/plain": [
       "   企业编号      企业总评分  软著数量  作品著作数量  项目数量  纳税A级年份_2014  纳税A级年份_2015  纳税A级年份_2016  \\\n",
       "0  1001  75.374276   1.0     1.0   1.0          1.0          2.0          1.0   \n",
       "1  1002  79.830122   2.0     0.0   1.0          1.0          1.0          2.0   \n",
       "2  1003  78.318264   2.0     0.0   1.0          1.0          1.0          0.0   \n",
       "3  1004  83.253376   0.0     6.0   1.0          0.0          0.0          2.0   \n",
       "4  1005  83.291493   6.0     0.0   1.0          0.0          0.0          0.0   \n",
       "\n",
       "   纳税A级年份_2017  纳税A级年份增长1  ...  应收账款周转天数(天)_mean  应收账款周转天数(天)_max  \\\n",
       "0          1.0        1.0  ...        107.589270       191.707773   \n",
       "1          0.0        0.0  ...         46.903333        56.590000   \n",
       "2          1.0        0.0  ...         84.275556       139.910000   \n",
       "3          1.0        0.0  ...         26.720000        35.360000   \n",
       "4          0.0        0.0  ...         94.050000       110.260000   \n",
       "\n",
       "   应收账款周转天数(天)_min  应收账款周转天数(天)_std  应收账款周转天数(天)滚动增长_mean  存货周转天数(天)_mean  \\\n",
       "0        63.791689        44.495607              0.151392      414.778035   \n",
       "1        39.830000         6.234116              0.023916        6.506667   \n",
       "2        56.020000        33.143654             -0.040224       54.918889   \n",
       "3        17.290000         6.024438              0.081857        6.954444   \n",
       "4        77.850000         9.652235              0.012921      108.584444   \n",
       "\n",
       "   存货周转天数(天)_max  存货周转天数(天)_min  存货周转天数(天)_std  存货周转天数(天)滚动增长_mean  \n",
       "0    1089.655763     176.283983     325.371499            1.562757  \n",
       "1       7.040000       5.010000       0.702335            0.045330  \n",
       "2      75.540000      38.010000      11.089465            0.031792  \n",
       "3       7.900000       6.240000       0.618448            0.021711  \n",
       "4     357.190000      44.160000     101.728838            0.344086  \n",
       "\n",
       "[5 rows x 336 columns]"
      ]
     },
     "execution_count": 1,
     "metadata": {},
     "output_type": "execute_result"
    }
   ],
   "source": [
    "import numpy as np\n",
    "import pandas as pd\n",
    "import datetime\n",
    "import time\n",
    "\n",
    "import lightgbm as lgb\n",
    "\n",
    "\n",
    "from sklearn.model_selection import StratifiedKFold\n",
    "from sklearn.model_selection import GridSearchCV\n",
    "from sklearn.metrics import mean_squared_error\n",
    "from sklearn.metrics import accuracy_score\n",
    "from sklearn.model_selection import KFold\n",
    "from sklearn.model_selection import train_test_split\n",
    "from sklearn.preprocessing import StandardScaler\n",
    "from sklearn.feature_selection import RFE\n",
    "from sklearn.metrics import r2_score\n",
    "\n",
    "import itertools\n",
    "\n",
    "import warnings\n",
    "import json\n",
    "\n",
    "warnings.filterwarnings('ignore')\n",
    "\n",
    "\n",
    "df = pd.read_csv(r'./train_data.csv')\n",
    "df.head(5)"
   ]
  },
  {
   "cell_type": "markdown",
   "metadata": {
    "colab_type": "text",
    "id": "_qllQkscxrgz"
   },
   "source": [
    "# Train data"
   ]
  },
  {
   "cell_type": "code",
   "execution_count": 2,
   "metadata": {
    "ExecuteTime": {
     "end_time": "2019-04-28T14:05:58.460324Z",
     "start_time": "2019-04-28T14:05:58.341051Z"
    },
    "colab": {
     "base_uri": "https://localhost:8080/",
     "height": 34
    },
    "colab_type": "code",
    "id": "TmFLHyt5xe88",
    "outputId": "b04d8b4f-33ec-4f79-a960-7290a38fcfed"
   },
   "outputs": [
    {
     "name": "stdout",
     "output_type": "stream",
     "text": [
      "(2364, 335) (592, 335) (2364,) (592,)\n"
     ]
    }
   ],
   "source": [
    "y = df[['企业编号', '企业总评分']]\n",
    "x = df.drop(['企业总评分'], axis=1)\n",
    "\n",
    "xtrain, xtest, ytrain, ytest = train_test_split(\n",
    "    x, y, test_size=0.2, random_state=31)\n",
    "ytrain_id = ytrain['企业编号']\n",
    "ytrain = ytrain['企业总评分']\n",
    "ytest_id = ytest['企业编号']\n",
    "ytest = ytest['企业总评分']\n",
    "print(xtrain.shape, xtest.shape, ytrain.shape, ytest.shape)\n",
    "\n",
    "id_train = xtrain['企业编号']\n",
    "id_test = xtest['企业编号']\n",
    "xtrain.drop(['企业编号'], axis=1, inplace=True)\n",
    "xtest.drop(['企业编号'], axis=1, inplace=True)\n",
    "feature_name = xtrain.columns.values"
   ]
  },
  {
   "cell_type": "code",
   "execution_count": 3,
   "metadata": {
    "ExecuteTime": {
     "end_time": "2019-04-28T14:06:01.015871Z",
     "start_time": "2019-04-28T14:06:01.005103Z"
    },
    "colab": {},
    "colab_type": "code",
    "id": "4p0dH1E_xhNw"
   },
   "outputs": [],
   "source": [
    "estimator = lgb.LGBMRegressor(objective='regression',\n",
    "                              num_leaves=20,\n",
    "                              learning_rate=0.005,\n",
    "                              n_estimators=1500,\n",
    "                              max_depth=7,\n",
    "                              boosting='gbdt',\n",
    "                              metric='rmse',\n",
    "                              max_bin=35,\n",
    "                              n_jobs=-1,\n",
    "                              min_child_samples=100,\n",
    "                              bagging_seed=11,\n",
    "                              bagging_fraction=0.7,\n",
    "                              bagging_freq=1,\n",
    "                              min_data_in_leaf=20\n",
    "                              )"
   ]
  },
  {
   "cell_type": "markdown",
   "metadata": {
    "colab_type": "text",
    "id": "8xaB7qwIxuRQ"
   },
   "source": [
    "# RFE"
   ]
  },
  {
   "cell_type": "code",
   "execution_count": 0,
   "metadata": {
    "colab": {},
    "colab_type": "code",
    "id": "fTaTZ-oDxi_4"
   },
   "outputs": [],
   "source": [
    "for i in range(334, 120, -5):\n",
    "    selector = RFE(estimator, i, step=1)\n",
    "    selector = selector.fit(xtrain, ytrain)\n",
    "    pre = selector.predict(xtest)\n",
    "    print(i, np.sqrt(mean_squared_error(pre, ytest)))\n",
    "# The best is 124"
   ]
  },
  {
   "cell_type": "code",
   "execution_count": 4,
   "metadata": {
    "ExecuteTime": {
     "end_time": "2019-04-28T14:28:08.417188Z",
     "start_time": "2019-04-28T14:06:41.963226Z"
    },
    "colab": {},
    "colab_type": "code",
    "id": "0nhbCCpkxk2L"
   },
   "outputs": [
    {
     "name": "stdout",
     "output_type": "stream",
     "text": [
      "3.0914263498786956 0.42624261246261586\n"
     ]
    }
   ],
   "source": [
    "selector = RFE(estimator, 124, step=1)\n",
    "selector = selector.fit(xtrain, ytrain)\n",
    "pre = selector.predict(xtest)\n",
    "print(np.sqrt(mean_squared_error(pre, ytest)), r2_score(pre, ytest))"
   ]
  },
  {
   "cell_type": "markdown",
   "metadata": {
    "colab_type": "text",
    "id": "gOm8YciIxoqr"
   },
   "source": [
    "# Test data"
   ]
  },
  {
   "cell_type": "code",
   "execution_count": 5,
   "metadata": {
    "ExecuteTime": {
     "end_time": "2019-04-28T14:28:08.821653Z",
     "start_time": "2019-04-28T14:28:08.627588Z"
    },
    "colab": {},
    "colab_type": "code",
    "id": "ol-MQHFdxn2_"
   },
   "outputs": [],
   "source": [
    "test_df = pd.read_csv(r'./test_data.csv')\n",
    "X_test = test_df.drop(['企业编号'], axis=1)\n",
    "X_test.replace([np.inf, -np.inf], np.nan, inplace=True)\n",
    "X_test = X_test.fillna(0)\n",
    "test_id = test_df['企业编号']"
   ]
  },
  {
   "cell_type": "code",
   "execution_count": 6,
   "metadata": {
    "ExecuteTime": {
     "end_time": "2019-04-28T14:28:09.143454Z",
     "start_time": "2019-04-28T14:28:09.110454Z"
    }
   },
   "outputs": [
    {
     "data": {
      "text/html": [
       "<div>\n",
       "<style scoped>\n",
       "    .dataframe tbody tr th:only-of-type {\n",
       "        vertical-align: middle;\n",
       "    }\n",
       "\n",
       "    .dataframe tbody tr th {\n",
       "        vertical-align: top;\n",
       "    }\n",
       "\n",
       "    .dataframe thead th {\n",
       "        text-align: right;\n",
       "    }\n",
       "</style>\n",
       "<table border=\"1\" class=\"dataframe\">\n",
       "  <thead>\n",
       "    <tr style=\"text-align: right;\">\n",
       "      <th></th>\n",
       "      <th>企业编号</th>\n",
       "      <th>软著数量</th>\n",
       "      <th>作品著作数量</th>\n",
       "      <th>项目数量</th>\n",
       "      <th>纳税A级年份_2014</th>\n",
       "      <th>纳税A级年份_2015</th>\n",
       "      <th>纳税A级年份_2016</th>\n",
       "      <th>纳税A级年份_2017</th>\n",
       "      <th>纳税A级年份增长1</th>\n",
       "      <th>纳税A级年份增长2</th>\n",
       "      <th>...</th>\n",
       "      <th>应收账款周转天数(天)_mean</th>\n",
       "      <th>应收账款周转天数(天)_max</th>\n",
       "      <th>应收账款周转天数(天)_min</th>\n",
       "      <th>应收账款周转天数(天)_std</th>\n",
       "      <th>应收账款周转天数(天)滚动增长_mean</th>\n",
       "      <th>存货周转天数(天)_mean</th>\n",
       "      <th>存货周转天数(天)_max</th>\n",
       "      <th>存货周转天数(天)_min</th>\n",
       "      <th>存货周转天数(天)_std</th>\n",
       "      <th>存货周转天数(天)滚动增长_mean</th>\n",
       "    </tr>\n",
       "  </thead>\n",
       "  <tbody>\n",
       "    <tr>\n",
       "      <th>0</th>\n",
       "      <td>4001</td>\n",
       "      <td>188.0</td>\n",
       "      <td>12.0</td>\n",
       "      <td>1.0</td>\n",
       "      <td>1.0</td>\n",
       "      <td>1.0</td>\n",
       "      <td>2.0</td>\n",
       "      <td>0.0</td>\n",
       "      <td>0.0</td>\n",
       "      <td>1.0</td>\n",
       "      <td>...</td>\n",
       "      <td>-0.053552</td>\n",
       "      <td>853.253333</td>\n",
       "      <td>1078.28</td>\n",
       "      <td>647.43</td>\n",
       "      <td>132.634622</td>\n",
       "      <td>0.012903</td>\n",
       "      <td>0.0</td>\n",
       "      <td>0.0</td>\n",
       "      <td>0.0</td>\n",
       "      <td>0.0</td>\n",
       "    </tr>\n",
       "    <tr>\n",
       "      <th>1</th>\n",
       "      <td>4002</td>\n",
       "      <td>42.0</td>\n",
       "      <td>0.0</td>\n",
       "      <td>1.0</td>\n",
       "      <td>1.0</td>\n",
       "      <td>1.0</td>\n",
       "      <td>1.0</td>\n",
       "      <td>1.0</td>\n",
       "      <td>0.0</td>\n",
       "      <td>0.0</td>\n",
       "      <td>...</td>\n",
       "      <td>-0.053116</td>\n",
       "      <td>100.236667</td>\n",
       "      <td>160.28</td>\n",
       "      <td>69.50</td>\n",
       "      <td>31.849951</td>\n",
       "      <td>-0.045968</td>\n",
       "      <td>0.0</td>\n",
       "      <td>0.0</td>\n",
       "      <td>0.0</td>\n",
       "      <td>0.0</td>\n",
       "    </tr>\n",
       "    <tr>\n",
       "      <th>2</th>\n",
       "      <td>4003</td>\n",
       "      <td>0.0</td>\n",
       "      <td>0.0</td>\n",
       "      <td>2.0</td>\n",
       "      <td>2.0</td>\n",
       "      <td>2.0</td>\n",
       "      <td>2.0</td>\n",
       "      <td>0.0</td>\n",
       "      <td>0.0</td>\n",
       "      <td>0.0</td>\n",
       "      <td>...</td>\n",
       "      <td>0.023584</td>\n",
       "      <td>45.646111</td>\n",
       "      <td>63.87</td>\n",
       "      <td>25.49</td>\n",
       "      <td>11.654292</td>\n",
       "      <td>0.031598</td>\n",
       "      <td>0.0</td>\n",
       "      <td>0.0</td>\n",
       "      <td>0.0</td>\n",
       "      <td>0.0</td>\n",
       "    </tr>\n",
       "    <tr>\n",
       "      <th>3</th>\n",
       "      <td>4004</td>\n",
       "      <td>0.0</td>\n",
       "      <td>0.0</td>\n",
       "      <td>1.0</td>\n",
       "      <td>0.0</td>\n",
       "      <td>0.0</td>\n",
       "      <td>0.0</td>\n",
       "      <td>0.0</td>\n",
       "      <td>0.0</td>\n",
       "      <td>0.0</td>\n",
       "      <td>...</td>\n",
       "      <td>-0.012479</td>\n",
       "      <td>1.691111</td>\n",
       "      <td>2.17</td>\n",
       "      <td>1.45</td>\n",
       "      <td>0.212394</td>\n",
       "      <td>0.048454</td>\n",
       "      <td>0.0</td>\n",
       "      <td>0.0</td>\n",
       "      <td>0.0</td>\n",
       "      <td>0.0</td>\n",
       "    </tr>\n",
       "    <tr>\n",
       "      <th>4</th>\n",
       "      <td>4005</td>\n",
       "      <td>19.0</td>\n",
       "      <td>0.0</td>\n",
       "      <td>1.0</td>\n",
       "      <td>1.0</td>\n",
       "      <td>1.0</td>\n",
       "      <td>0.0</td>\n",
       "      <td>1.0</td>\n",
       "      <td>0.0</td>\n",
       "      <td>-1.0</td>\n",
       "      <td>...</td>\n",
       "      <td>-0.097558</td>\n",
       "      <td>616.920000</td>\n",
       "      <td>904.24</td>\n",
       "      <td>329.91</td>\n",
       "      <td>191.017424</td>\n",
       "      <td>-0.054086</td>\n",
       "      <td>0.0</td>\n",
       "      <td>0.0</td>\n",
       "      <td>0.0</td>\n",
       "      <td>0.0</td>\n",
       "    </tr>\n",
       "  </tbody>\n",
       "</table>\n",
       "<p>5 rows × 335 columns</p>\n",
       "</div>"
      ],
      "text/plain": [
       "   企业编号   软著数量  作品著作数量  项目数量  纳税A级年份_2014  纳税A级年份_2015  纳税A级年份_2016  \\\n",
       "0  4001  188.0    12.0   1.0          1.0          1.0          2.0   \n",
       "1  4002   42.0     0.0   1.0          1.0          1.0          1.0   \n",
       "2  4003    0.0     0.0   2.0          2.0          2.0          2.0   \n",
       "3  4004    0.0     0.0   1.0          0.0          0.0          0.0   \n",
       "4  4005   19.0     0.0   1.0          1.0          1.0          0.0   \n",
       "\n",
       "   纳税A级年份_2017  纳税A级年份增长1  纳税A级年份增长2  ...  应收账款周转天数(天)_mean  应收账款周转天数(天)_max  \\\n",
       "0          0.0        0.0        1.0  ...         -0.053552       853.253333   \n",
       "1          1.0        0.0        0.0  ...         -0.053116       100.236667   \n",
       "2          0.0        0.0        0.0  ...          0.023584        45.646111   \n",
       "3          0.0        0.0        0.0  ...         -0.012479         1.691111   \n",
       "4          1.0        0.0       -1.0  ...         -0.097558       616.920000   \n",
       "\n",
       "   应收账款周转天数(天)_min  应收账款周转天数(天)_std  应收账款周转天数(天)滚动增长_mean  存货周转天数(天)_mean  \\\n",
       "0          1078.28           647.43            132.634622        0.012903   \n",
       "1           160.28            69.50             31.849951       -0.045968   \n",
       "2            63.87            25.49             11.654292        0.031598   \n",
       "3             2.17             1.45              0.212394        0.048454   \n",
       "4           904.24           329.91            191.017424       -0.054086   \n",
       "\n",
       "   存货周转天数(天)_max  存货周转天数(天)_min  存货周转天数(天)_std  存货周转天数(天)滚动增长_mean  \n",
       "0            0.0            0.0            0.0                 0.0  \n",
       "1            0.0            0.0            0.0                 0.0  \n",
       "2            0.0            0.0            0.0                 0.0  \n",
       "3            0.0            0.0            0.0                 0.0  \n",
       "4            0.0            0.0            0.0                 0.0  \n",
       "\n",
       "[5 rows x 335 columns]"
      ]
     },
     "execution_count": 6,
     "metadata": {},
     "output_type": "execute_result"
    }
   ],
   "source": [
    "test_df.head(5)"
   ]
  },
  {
   "cell_type": "code",
   "execution_count": 7,
   "metadata": {
    "ExecuteTime": {
     "end_time": "2019-04-28T14:28:09.444904Z",
     "start_time": "2019-04-28T14:28:09.416236Z"
    },
    "colab": {},
    "colab_type": "code",
    "id": "Il3-Op5Oyj-j"
   },
   "outputs": [],
   "source": [
    "pre = selector.predict(X_test)"
   ]
  },
  {
   "cell_type": "code",
   "execution_count": 29,
   "metadata": {
    "ExecuteTime": {
     "end_time": "2019-04-28T15:03:53.846891Z",
     "start_time": "2019-04-28T15:03:53.832818Z"
    }
   },
   "outputs": [
    {
     "data": {
      "text/plain": [
       "array([90.77802032, 88.63823513, 81.2188751 , 79.55067551, 88.91477832,\n",
       "       82.75860031, 85.67400315, 85.54302917, 83.77771987, 86.21060123,\n",
       "       86.605372  , 83.00275649, 81.48670908, 81.65139362, 84.12174345,\n",
       "       84.62060389, 86.04768756, 85.30019194, 84.60560685, 87.10072435,\n",
       "       84.53515458, 80.44381285, 82.7006676 , 84.73956797, 85.26982366,\n",
       "       82.01186393, 81.11491703, 80.32427226, 84.43252362, 82.47032861,\n",
       "       84.56428188, 78.62224408, 84.97578661, 87.95468996, 82.74784602,\n",
       "       87.38528768, 81.3220463 , 84.35176437, 81.12684509, 83.87039829,\n",
       "       83.86520632, 80.44961347, 80.58680561, 83.2308124 , 81.22325753,\n",
       "       84.96372232, 88.15350749, 82.55453637, 82.92442939, 84.35188388,\n",
       "       83.403397  , 87.66743141, 80.20242315, 86.59796346, 85.73295898,\n",
       "       82.17495475, 86.04821792, 85.49279881, 83.47177898, 86.41876697,\n",
       "       83.6772916 , 86.98257265, 88.408019  , 82.66224587, 84.36776631,\n",
       "       84.36825004, 83.23733396, 83.47359347, 86.89021767, 83.358189  ,\n",
       "       90.24146599, 83.33590908, 88.50679776, 84.78207106, 87.63532729,\n",
       "       84.31802237, 85.49318079, 77.58864661, 82.39138013, 85.49316951,\n",
       "       83.67560743, 81.96020913, 90.73430427, 88.36428195, 88.31690672,\n",
       "       83.29937581, 85.6811376 , 81.19659026, 84.98307493, 83.90184189,\n",
       "       84.54160767, 82.76504514, 88.39377462, 87.80197412, 85.14424524,\n",
       "       82.63776069, 84.82682805, 87.65698762, 85.5939603 , 78.96665542,\n",
       "       82.67652249, 81.86337118, 86.12445026, 84.7912511 , 84.00792477,\n",
       "       82.48303573, 86.2812528 , 81.48902999, 85.08845509, 85.32717125,\n",
       "       90.33235907, 83.74664964, 83.65256037, 86.48394555, 84.89944377,\n",
       "       81.81239824, 85.5831298 , 86.13918537, 80.70225811, 86.08755779,\n",
       "       83.90844856, 85.10754987, 78.84610182, 84.27061437, 86.16084231,\n",
       "       86.26011195, 84.26114732, 81.64008586, 84.54244717, 82.02264387,\n",
       "       82.63740081, 80.32965373, 82.09360983, 84.15826614, 89.00348428,\n",
       "       81.50142242, 80.87437543, 90.10599876, 90.1002897 , 81.60138091,\n",
       "       84.72244736, 85.55752212, 80.79351387, 90.39200999, 83.93239811,\n",
       "       87.23655183, 83.17328896, 82.96959928, 82.62894104, 89.28584668,\n",
       "       81.00283642, 89.37513417, 89.44483869, 89.74756056, 87.75670245,\n",
       "       83.24264093, 84.39632616, 84.4808029 , 85.42040958, 90.51608005,\n",
       "       82.17301077, 85.1179443 , 84.70643909, 84.52617195, 82.79126934,\n",
       "       82.20818482, 83.14890395, 84.18610114, 85.50651738, 90.86373972,\n",
       "       85.85324091, 83.75854877, 85.07721893, 84.838811  , 80.7391877 ,\n",
       "       84.0099976 , 80.95443298, 82.22566686, 83.20675754, 83.22761232,\n",
       "       83.00086576, 86.42724747, 81.7660276 , 83.38143411, 86.7746769 ,\n",
       "       79.67030622, 82.92231251, 82.44829509, 86.08529736, 84.45805946,\n",
       "       86.06875051, 83.37237556, 85.11562753, 81.72622534, 83.28531658,\n",
       "       84.13568324, 84.81191322, 81.35206942, 81.48365139, 84.13154362,\n",
       "       84.02337225, 83.66507386, 83.9490286 , 82.79703286, 83.80569848,\n",
       "       83.67803156, 80.38626276, 86.51145672, 81.80604091, 83.08094078,\n",
       "       89.75244896, 85.51183254, 84.89821588, 81.25749867, 82.87281234,\n",
       "       84.62488741, 81.52344449, 83.87359894, 86.35801268, 85.66340921,\n",
       "       83.54224817, 81.55654423, 81.67977034, 86.2861727 , 85.39628828,\n",
       "       80.69561138, 83.8040242 , 87.50297939, 85.58752628, 88.12592923,\n",
       "       87.43561929, 82.17167038, 81.41514425, 90.15263135, 86.05259459,\n",
       "       77.93295056, 87.76444403, 87.27678571, 81.09675897, 80.94488637,\n",
       "       84.58809707, 84.44919034, 85.10602568, 84.22608233, 83.4590075 ,\n",
       "       83.20239051, 81.00947741, 84.57488245, 87.42316886, 82.29243726,\n",
       "       84.23338057, 84.27154255, 82.63669774, 86.41189867, 85.84591068,\n",
       "       85.52951432, 82.84479623, 81.31828652, 88.07188752, 87.71417304,\n",
       "       81.50437997, 88.20083182, 85.08478107, 83.03464282, 83.08854374,\n",
       "       83.37976222, 81.94182902, 83.11274194, 81.09785781, 88.55571545,\n",
       "       83.34880156, 76.77554554, 81.88366021, 82.22341821, 83.40258314,\n",
       "       90.02158932, 81.84485866, 87.85033561, 86.90668444, 83.80946541,\n",
       "       81.19545651, 84.02392   , 85.81090381, 84.78063905, 82.38330179,\n",
       "       82.24679699, 83.39276746, 87.6148567 , 86.90267473, 82.91359704,\n",
       "       84.84263581, 87.78379641, 87.94647935, 84.75687124, 90.14574033,\n",
       "       84.8303649 , 79.87798538, 83.1036541 , 79.35119211, 83.31685575,\n",
       "       80.95524337, 83.80243063, 84.96694062, 83.86143696, 85.080091  ,\n",
       "       85.13029307, 76.31520397, 85.0021074 , 82.51414319, 83.82424424,\n",
       "       83.02229531, 81.39900925, 82.6266905 , 82.95436089, 79.44807708,\n",
       "       81.77830421, 77.48970416, 82.42166077, 83.09041185, 82.76437158,\n",
       "       83.17443932, 87.96712573, 87.15515903, 80.6898861 , 81.68759583,\n",
       "       83.03844512, 82.56978118, 90.31456609, 89.56292589, 81.64396197,\n",
       "       81.87235186, 87.50888202, 80.42981827, 88.28097637, 83.10534634,\n",
       "       84.82695249, 82.76948986, 85.86030829, 85.27027174, 83.1120104 ,\n",
       "       84.72504178, 83.71463549, 89.00472747, 84.11223395, 81.11611605,\n",
       "       82.00755124, 81.58915222, 84.19608375, 82.11664365, 83.00624091,\n",
       "       82.55987538, 81.45721224, 85.46073563, 84.28091571, 83.47419527,\n",
       "       79.24686815, 86.55117974, 79.72756604, 81.42922054, 83.53819932,\n",
       "       82.08592307, 81.04495944, 83.8681505 , 81.93332708, 78.12404095,\n",
       "       84.80531996, 86.53264248, 80.89223555, 83.20055757, 82.37579866,\n",
       "       86.75872625, 81.46646996, 83.82074836, 82.32820737, 83.26580347,\n",
       "       81.67387444, 86.489132  , 84.66017875, 80.28681665, 84.47841526,\n",
       "       90.50536286, 81.61575035, 82.70202225, 81.87787136, 77.343121  ,\n",
       "       83.15584983, 82.11741219, 79.72608244, 81.38663359, 80.52768859,\n",
       "       85.50037833, 81.40880533, 79.34427962, 78.16087187, 80.74059243,\n",
       "       81.95003525, 80.15484484, 86.1185954 , 81.49908636, 80.77022501,\n",
       "       80.06250702, 81.16017821, 80.86652316, 86.10983153, 84.40497194,\n",
       "       80.92199054, 80.8198072 , 80.89362686, 80.55202194, 81.11605024,\n",
       "       79.20143237, 80.46686643, 77.22683766, 80.94229161, 80.79065047,\n",
       "       85.37498071, 81.25544626, 81.28677145, 81.15097226, 80.84146781,\n",
       "       81.06806573, 79.90825058, 82.60305102, 77.77831471, 80.69263027,\n",
       "       83.25369989, 83.22721648, 80.91059038, 83.13138407, 80.90384635,\n",
       "       77.8615579 , 77.19295871, 82.97273896, 78.52270445, 79.64958079,\n",
       "       81.36668641, 82.24528025, 78.71836286, 80.82928269, 79.36966846,\n",
       "       81.53852377, 81.10602718, 85.65941493, 82.81168676, 85.0896944 ,\n",
       "       80.78332296, 84.63257908, 81.83498404, 80.61386911, 80.22912304,\n",
       "       84.76743938, 81.26327076, 80.92308437, 80.56834298, 77.71875485,\n",
       "       81.61529445, 80.2119881 , 80.9601861 , 81.35085533, 80.94825262,\n",
       "       82.80267901, 83.80036703, 80.63210752, 82.69121327, 79.67599054,\n",
       "       81.18976358, 82.11021981, 81.18642271, 81.00226818, 80.92840066,\n",
       "       81.1080224 , 81.78179033, 81.03052437, 80.89335656, 79.94650854,\n",
       "       79.36324039, 81.16454871, 82.06892922, 83.70705832, 80.21215719,\n",
       "       82.42748955, 80.96162385, 79.65476616, 77.45769235, 81.27122179,\n",
       "       80.72052016, 78.65796338, 80.73922057, 77.52461676, 78.87095406,\n",
       "       80.92197104, 78.29365197, 79.53265197, 80.51251472, 81.54054888,\n",
       "       84.78319791, 80.70243999, 81.9235832 , 79.4085526 , 81.80102408,\n",
       "       77.31939799, 82.41670693, 82.32582127, 81.25663275, 78.37257855,\n",
       "       80.30830405, 80.41567295, 80.04206672, 81.65478878, 80.18379038,\n",
       "       79.82177406, 81.12968864, 84.2210734 , 84.388934  , 79.43128126,\n",
       "       81.75476285, 80.78118792, 80.01720274, 82.79212834, 90.40302045])"
      ]
     },
     "execution_count": 29,
     "metadata": {},
     "output_type": "execute_result"
    }
   ],
   "source": [
    "pre"
   ]
  },
  {
   "cell_type": "code",
   "execution_count": 8,
   "metadata": {
    "ExecuteTime": {
     "end_time": "2019-04-28T14:28:09.737837Z",
     "start_time": "2019-04-28T14:28:09.730448Z"
    },
    "colab": {},
    "colab_type": "code",
    "id": "DhIlnCFlyooj"
   },
   "outputs": [],
   "source": [
    "result = pd.DataFrame({\n",
    "    '企业编号': test_id,\n",
    "    'pre_rating': pd.Series(pre)\n",
    "})"
   ]
  },
  {
   "cell_type": "code",
   "execution_count": 32,
   "metadata": {
    "ExecuteTime": {
     "end_time": "2019-04-28T15:15:01.987497Z",
     "start_time": "2019-04-28T15:15:01.666988Z"
    },
    "colab": {},
    "colab_type": "code",
    "id": "6kfVTnS8y43X"
   },
   "outputs": [],
   "source": [
    "result.to_excel(r'./赛题 1 结果_Trainee.xlsx', index=False, header=False)"
   ]
  },
  {
   "cell_type": "markdown",
   "metadata": {},
   "source": [
    "# Result Validation"
   ]
  },
  {
   "cell_type": "code",
   "execution_count": 17,
   "metadata": {
    "ExecuteTime": {
     "end_time": "2019-04-28T14:39:49.887742Z",
     "start_time": "2019-04-28T14:39:49.842869Z"
    }
   },
   "outputs": [
    {
     "data": {
      "text/html": [
       "<div>\n",
       "<style scoped>\n",
       "    .dataframe tbody tr th:only-of-type {\n",
       "        vertical-align: middle;\n",
       "    }\n",
       "\n",
       "    .dataframe tbody tr th {\n",
       "        vertical-align: top;\n",
       "    }\n",
       "\n",
       "    .dataframe thead th {\n",
       "        text-align: right;\n",
       "    }\n",
       "</style>\n",
       "<table border=\"1\" class=\"dataframe\">\n",
       "  <thead>\n",
       "    <tr style=\"text-align: right;\">\n",
       "      <th></th>\n",
       "      <th>企业编号</th>\n",
       "      <th>pre_rating</th>\n",
       "    </tr>\n",
       "  </thead>\n",
       "  <tbody>\n",
       "    <tr>\n",
       "      <th>0</th>\n",
       "      <td>4001</td>\n",
       "      <td>93.076923</td>\n",
       "    </tr>\n",
       "    <tr>\n",
       "      <th>1</th>\n",
       "      <td>4002</td>\n",
       "      <td>93.907074</td>\n",
       "    </tr>\n",
       "    <tr>\n",
       "      <th>2</th>\n",
       "      <td>4003</td>\n",
       "      <td>82.012192</td>\n",
       "    </tr>\n",
       "    <tr>\n",
       "      <th>3</th>\n",
       "      <td>4004</td>\n",
       "      <td>81.780574</td>\n",
       "    </tr>\n",
       "    <tr>\n",
       "      <th>4</th>\n",
       "      <td>4005</td>\n",
       "      <td>91.538988</td>\n",
       "    </tr>\n",
       "  </tbody>\n",
       "</table>\n",
       "</div>"
      ],
      "text/plain": [
       "   企业编号  pre_rating\n",
       "0  4001   93.076923\n",
       "1  4002   93.907074\n",
       "2  4003   82.012192\n",
       "3  4004   81.780574\n",
       "4  4005   91.538988"
      ]
     },
     "execution_count": 17,
     "metadata": {},
     "output_type": "execute_result"
    }
   ],
   "source": [
    "# 可以看出，官方提供的得分并不是整数\n",
    "real_rating = pd.read_excel('./Mission1_Real.xlsx', header=None)\n",
    "real_rating.columns = ['企业编号', 'pre_rating']\n",
    "real_rating.head()"
   ]
  },
  {
   "cell_type": "code",
   "execution_count": 15,
   "metadata": {
    "ExecuteTime": {
     "end_time": "2019-04-28T14:38:20.910445Z",
     "start_time": "2019-04-28T14:38:20.901428Z"
    }
   },
   "outputs": [
    {
     "data": {
      "text/plain": [
       "(520, 2)"
      ]
     },
     "execution_count": 15,
     "metadata": {},
     "output_type": "execute_result"
    }
   ],
   "source": [
    "# result.shape\n",
    "# real_rating.shape"
   ]
  },
  {
   "cell_type": "code",
   "execution_count": 20,
   "metadata": {
    "ExecuteTime": {
     "end_time": "2019-04-28T14:41:15.859567Z",
     "start_time": "2019-04-28T14:41:15.845712Z"
    }
   },
   "outputs": [
    {
     "data": {
      "text/plain": [
       "3.69927227770752"
      ]
     },
     "execution_count": 20,
     "metadata": {},
     "output_type": "execute_result"
    }
   ],
   "source": [
    "np.sqrt(mean_squared_error(result['pre_rating'].astype(int).values,\n",
    "                           real_rating['pre_rating'].astype(int).values))"
   ]
  },
  {
   "cell_type": "code",
   "execution_count": 23,
   "metadata": {
    "ExecuteTime": {
     "end_time": "2019-04-28T14:44:26.296413Z",
     "start_time": "2019-04-28T14:44:26.253436Z"
    }
   },
   "outputs": [
    {
     "data": {
      "text/html": [
       "<div>\n",
       "<style scoped>\n",
       "    .dataframe tbody tr th:only-of-type {\n",
       "        vertical-align: middle;\n",
       "    }\n",
       "\n",
       "    .dataframe tbody tr th {\n",
       "        vertical-align: top;\n",
       "    }\n",
       "\n",
       "    .dataframe thead th {\n",
       "        text-align: right;\n",
       "    }\n",
       "</style>\n",
       "<table border=\"1\" class=\"dataframe\">\n",
       "  <thead>\n",
       "    <tr style=\"text-align: right;\">\n",
       "      <th></th>\n",
       "      <th>企业编号</th>\n",
       "      <th>pre_rating</th>\n",
       "    </tr>\n",
       "  </thead>\n",
       "  <tbody>\n",
       "    <tr>\n",
       "      <th>0</th>\n",
       "      <td>4001</td>\n",
       "      <td>90</td>\n",
       "    </tr>\n",
       "    <tr>\n",
       "      <th>1</th>\n",
       "      <td>4002</td>\n",
       "      <td>88</td>\n",
       "    </tr>\n",
       "    <tr>\n",
       "      <th>2</th>\n",
       "      <td>4003</td>\n",
       "      <td>81</td>\n",
       "    </tr>\n",
       "    <tr>\n",
       "      <th>3</th>\n",
       "      <td>4004</td>\n",
       "      <td>79</td>\n",
       "    </tr>\n",
       "    <tr>\n",
       "      <th>4</th>\n",
       "      <td>4005</td>\n",
       "      <td>88</td>\n",
       "    </tr>\n",
       "  </tbody>\n",
       "</table>\n",
       "</div>"
      ],
      "text/plain": [
       "   企业编号  pre_rating\n",
       "0  4001          90\n",
       "1  4002          88\n",
       "2  4003          81\n",
       "3  4004          79\n",
       "4  4005          88"
      ]
     },
     "execution_count": 23,
     "metadata": {},
     "output_type": "execute_result"
    }
   ],
   "source": [
    "pre_data = pd.read_excel(r'./赛题 1 结果_Trainee.xlsx', header=None)\n",
    "pre_data.columns = ['企业编号', 'pre_rating']\n",
    "pre_data.head()"
   ]
  },
  {
   "cell_type": "code",
   "execution_count": 31,
   "metadata": {
    "ExecuteTime": {
     "end_time": "2019-04-28T15:04:21.566699Z",
     "start_time": "2019-04-28T15:04:21.554993Z"
    }
   },
   "outputs": [
    {
     "data": {
      "text/plain": [
       "3.693318683603019"
      ]
     },
     "execution_count": 31,
     "metadata": {},
     "output_type": "execute_result"
    }
   ],
   "source": [
    "# 重新跑了一次模型，参数未变，模型未变，取模型预测值（未取整数），与官方提供的真实得分（未取整数）做rmse\n",
    "np.sqrt(mean_squared_error(pre,\n",
    "                           real_rating['pre_rating'].values))\n",
    "# 得分为3.69"
   ]
  },
  {
   "cell_type": "code",
   "execution_count": 39,
   "metadata": {
    "ExecuteTime": {
     "end_time": "2019-04-28T16:40:17.213289Z",
     "start_time": "2019-04-28T16:40:17.201520Z"
    }
   },
   "outputs": [
    {
     "data": {
      "text/plain": [
       "3.600994180484945"
      ]
     },
     "execution_count": 39,
     "metadata": {},
     "output_type": "execute_result"
    }
   ],
   "source": [
    "# 重新跑了一次模型，参数未变，模型未变，取模型预测值（未取整数），与官方提供的真实得分（取整数）做rmse\n",
    "np.sqrt(mean_squared_error(pre,\n",
    "                           real_rating['pre_rating'].astype(int).values))\n",
    "# 得分为3.60"
   ]
  },
  {
   "cell_type": "code",
   "execution_count": 24,
   "metadata": {
    "ExecuteTime": {
     "end_time": "2019-04-28T14:44:56.006734Z",
     "start_time": "2019-04-28T14:44:56.001174Z"
    }
   },
   "outputs": [
    {
     "data": {
      "text/plain": [
       "3.69927227770752"
      ]
     },
     "execution_count": 24,
     "metadata": {},
     "output_type": "execute_result"
    }
   ],
   "source": [
    "# 取Trainee团队提交的成绩，取整数，与官方提供的真实得分（取整数）做rmse\n",
    "np.sqrt(mean_squared_error(pre_data['pre_rating'].astype(int).values,\n",
    "                           real_rating['pre_rating'].astype(int).values))\n",
    "# 得分为3.69"
   ]
  },
  {
   "cell_type": "code",
   "execution_count": 25,
   "metadata": {
    "ExecuteTime": {
     "end_time": "2019-04-28T14:58:07.114113Z",
     "start_time": "2019-04-28T14:58:07.105837Z"
    }
   },
   "outputs": [
    {
     "data": {
      "text/plain": [
       "3.855974497318089"
      ]
     },
     "execution_count": 25,
     "metadata": {},
     "output_type": "execute_result"
    }
   ],
   "source": [
    "# 取Trainee团队提交的成绩，取整数，与官方提供的真实得分（未取整数）做rmse\n",
    "np.sqrt(mean_squared_error(pre_data['pre_rating'].values,\n",
    "                           real_rating['pre_rating'].values))\n",
    "# 得分未3.85， 这分数才对应上官方告知Trainee团队的比赛得分"
   ]
  },
  {
   "cell_type": "code",
   "execution_count": 28,
   "metadata": {
    "ExecuteTime": {
     "end_time": "2019-04-28T15:03:25.701585Z",
     "start_time": "2019-04-28T15:03:25.687334Z"
    }
   },
   "outputs": [
    {
     "data": {
      "text/html": [
       "<div>\n",
       "<style scoped>\n",
       "    .dataframe tbody tr th:only-of-type {\n",
       "        vertical-align: middle;\n",
       "    }\n",
       "\n",
       "    .dataframe tbody tr th {\n",
       "        vertical-align: top;\n",
       "    }\n",
       "\n",
       "    .dataframe thead th {\n",
       "        text-align: right;\n",
       "    }\n",
       "</style>\n",
       "<table border=\"1\" class=\"dataframe\">\n",
       "  <thead>\n",
       "    <tr style=\"text-align: right;\">\n",
       "      <th></th>\n",
       "      <th>企业编号</th>\n",
       "      <th>pre_rating</th>\n",
       "    </tr>\n",
       "  </thead>\n",
       "  <tbody>\n",
       "    <tr>\n",
       "      <th>0</th>\n",
       "      <td>4001</td>\n",
       "      <td>90</td>\n",
       "    </tr>\n",
       "    <tr>\n",
       "      <th>1</th>\n",
       "      <td>4002</td>\n",
       "      <td>88</td>\n",
       "    </tr>\n",
       "    <tr>\n",
       "      <th>2</th>\n",
       "      <td>4003</td>\n",
       "      <td>81</td>\n",
       "    </tr>\n",
       "    <tr>\n",
       "      <th>3</th>\n",
       "      <td>4004</td>\n",
       "      <td>79</td>\n",
       "    </tr>\n",
       "    <tr>\n",
       "      <th>4</th>\n",
       "      <td>4005</td>\n",
       "      <td>88</td>\n",
       "    </tr>\n",
       "  </tbody>\n",
       "</table>\n",
       "</div>"
      ],
      "text/plain": [
       "   企业编号  pre_rating\n",
       "0  4001          90\n",
       "1  4002          88\n",
       "2  4003          81\n",
       "3  4004          79\n",
       "4  4005          88"
      ]
     },
     "execution_count": 28,
     "metadata": {},
     "output_type": "execute_result"
    }
   ],
   "source": [
    "pre_data.head()"
   ]
  },
  {
   "cell_type": "markdown",
   "metadata": {},
   "source": [
    "# Feature Validation"
   ]
  },
  {
   "cell_type": "code",
   "execution_count": 33,
   "metadata": {
    "ExecuteTime": {
     "end_time": "2019-04-28T16:33:41.655437Z",
     "start_time": "2019-04-28T16:33:41.648724Z"
    }
   },
   "outputs": [],
   "source": [
    "estimator_v = lgb.LGBMRegressor(objective='regression',\n",
    "                                num_leaves=20,\n",
    "                                learning_rate=0.005,\n",
    "                                n_estimators=1500,\n",
    "                                max_depth=7,\n",
    "                                boosting='gbdt',\n",
    "                                metric='rmse',\n",
    "                                max_bin=35,\n",
    "                                n_jobs=-1,\n",
    "                                min_child_samples=100,\n",
    "                                bagging_seed=11,\n",
    "                                bagging_fraction=0.7,\n",
    "                                bagging_freq=1,\n",
    "                                min_data_in_leaf=20\n",
    "                                )"
   ]
  },
  {
   "cell_type": "code",
   "execution_count": 34,
   "metadata": {
    "ExecuteTime": {
     "end_time": "2019-04-28T16:34:09.636669Z",
     "start_time": "2019-04-28T16:34:03.510925Z"
    }
   },
   "outputs": [
    {
     "data": {
      "text/plain": [
       "LGBMRegressor(bagging_fraction=0.7, bagging_freq=1, bagging_seed=11,\n",
       "       boosting='gbdt', boosting_type='gbdt', class_weight=None,\n",
       "       colsample_bytree=1.0, importance_type='split', learning_rate=0.005,\n",
       "       max_bin=35, max_depth=7, metric='rmse', min_child_samples=100,\n",
       "       min_child_weight=0.001, min_data_in_leaf=20, min_split_gain=0.0,\n",
       "       n_estimators=1500, n_jobs=-1, num_leaves=20, objective='regression',\n",
       "       random_state=None, reg_alpha=0.0, reg_lambda=0.0, silent=True,\n",
       "       subsample=1.0, subsample_for_bin=200000, subsample_freq=0)"
      ]
     },
     "execution_count": 34,
     "metadata": {},
     "output_type": "execute_result"
    }
   ],
   "source": [
    "estimator_v.fit(xtrain, ytrain)"
   ]
  },
  {
   "cell_type": "code",
   "execution_count": 35,
   "metadata": {
    "ExecuteTime": {
     "end_time": "2019-04-28T16:34:48.604614Z",
     "start_time": "2019-04-28T16:34:48.507018Z"
    }
   },
   "outputs": [],
   "source": [
    "pre_v = estimator_v.predict(X_test)"
   ]
  },
  {
   "cell_type": "code",
   "execution_count": 36,
   "metadata": {
    "ExecuteTime": {
     "end_time": "2019-04-28T16:35:04.072731Z",
     "start_time": "2019-04-28T16:35:04.062908Z"
    }
   },
   "outputs": [
    {
     "data": {
      "text/plain": [
       "3.6519087051653103"
      ]
     },
     "execution_count": 36,
     "metadata": {},
     "output_type": "execute_result"
    }
   ],
   "source": [
    "np.sqrt(mean_squared_error(pre_v,\n",
    "                           real_rating['pre_rating'].values))"
   ]
  },
  {
   "cell_type": "code",
   "execution_count": 37,
   "metadata": {
    "ExecuteTime": {
     "end_time": "2019-04-28T16:36:39.558656Z",
     "start_time": "2019-04-28T16:36:39.547178Z"
    }
   },
   "outputs": [
    {
     "data": {
      "text/plain": [
       "3.831554603992627"
      ]
     },
     "execution_count": 37,
     "metadata": {},
     "output_type": "execute_result"
    }
   ],
   "source": [
    "np.sqrt(mean_squared_error(pre_v.astype(int),\n",
    "                           real_rating['pre_rating'].values))"
   ]
  },
  {
   "cell_type": "code",
   "execution_count": 38,
   "metadata": {
    "ExecuteTime": {
     "end_time": "2019-04-28T16:36:55.219770Z",
     "start_time": "2019-04-28T16:36:55.203991Z"
    }
   },
   "outputs": [
    {
     "data": {
      "text/plain": [
       "3.6948508869673047"
      ]
     },
     "execution_count": 38,
     "metadata": {},
     "output_type": "execute_result"
    }
   ],
   "source": [
    "np.sqrt(mean_squared_error(pre_v.astype(int),\n",
    "                           real_rating['pre_rating'].astype(int).values))"
   ]
  },
  {
   "cell_type": "code",
   "execution_count": null,
   "metadata": {},
   "outputs": [],
   "source": []
  }
 ],
 "metadata": {
  "colab": {
   "collapsed_sections": [],
   "name": "Untitled0.ipynb",
   "provenance": [],
   "version": "0.3.2"
  },
  "kernelspec": {
   "display_name": "Python 3",
   "language": "python",
   "name": "python3"
  },
  "language_info": {
   "codemirror_mode": {
    "name": "ipython",
    "version": 3
   },
   "file_extension": ".py",
   "mimetype": "text/x-python",
   "name": "python",
   "nbconvert_exporter": "python",
   "pygments_lexer": "ipython3",
   "version": "3.6.8"
  },
  "toc": {
   "base_numbering": 1,
   "nav_menu": {},
   "number_sections": true,
   "sideBar": true,
   "skip_h1_title": false,
   "title_cell": "Table of Contents",
   "title_sidebar": "Contents",
   "toc_cell": false,
   "toc_position": {},
   "toc_section_display": true,
   "toc_window_display": false
  },
  "varInspector": {
   "cols": {
    "lenName": 16,
    "lenType": 16,
    "lenVar": 40
   },
   "kernels_config": {
    "python": {
     "delete_cmd_postfix": "",
     "delete_cmd_prefix": "del ",
     "library": "var_list.py",
     "varRefreshCmd": "print(var_dic_list())"
    },
    "r": {
     "delete_cmd_postfix": ") ",
     "delete_cmd_prefix": "rm(",
     "library": "var_list.r",
     "varRefreshCmd": "cat(var_dic_list()) "
    }
   },
   "types_to_exclude": [
    "module",
    "function",
    "builtin_function_or_method",
    "instance",
    "_Feature"
   ],
   "window_display": false
  }
 },
 "nbformat": 4,
 "nbformat_minor": 1
}
