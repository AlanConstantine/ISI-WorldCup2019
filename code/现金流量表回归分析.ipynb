{
 "cells": [
  {
   "cell_type": "code",
   "execution_count": null,
   "metadata": {},
   "outputs": [],
   "source": [
    "#现金流量表分析\n",
    "#除投资流入=取得投资收益所收到的现金+处置固定资产、无形资产和其他长期资产收回的现金净额 外其他回归评分均在0.99以上"
   ]
  },
  {
   "cell_type": "code",
   "execution_count": 13,
   "metadata": {},
   "outputs": [
    {
     "name": "stdout",
     "output_type": "stream",
     "text": [
      "<class 'pandas.core.frame.DataFrame'>\n",
      "RangeIndex: 19621 entries, 0 to 19620\n",
      "Data columns (total 27 columns):\n",
      "企业编号                               19621 non-null int64\n",
      "标题                                 19621 non-null object\n",
      "日期                                 19621 non-null object\n",
      "经营:销售商品、提供劳务收到的现金(元)               19191 non-null object\n",
      "经营:收到的税费返还(元)                      13718 non-null object\n",
      "经营:收到其他与经营活动有关的现金(元)               19602 non-null object\n",
      "经营:经营活动现金流入小计(元)                   19621 non-null float64\n",
      "经营:购买商品、接受劳务支付的现金(元)               19160 non-null object\n",
      "经营:支付给职工以及为职工支付的现金(元)              19620 non-null float64\n",
      "经营:支付的各项税费(元)                      19620 non-null float64\n",
      "经营:支付其他与经营活动有关的现金(元)               19620 non-null float64\n",
      "经营:经营活动现金流出小计(元)                   19621 non-null object\n",
      "经营:经营活动产生的现金流量净额(元)                19621 non-null float64\n",
      "投资:取得投资收益所收到的现金(元)                 14283 non-null object\n",
      "投资:处置固定资产、无形资产和其他长期资产收回的现金净额(元)    16016 non-null object\n",
      "投资:投资活动现金流入小计(元)                   18723 non-null object\n",
      "投资:购建固定资产、无形资产和其他长期资产支付的现金(元)      19532 non-null object\n",
      "投资:投资支付的现金(元)                      14010 non-null object\n",
      "投资:投资活动现金流出小计(元)                   19567 non-null object\n",
      "投资:投资活动产生的现金流量净额(元)                19583 non-null object\n",
      "筹资:吸收投资收到的现金(元)                    9092 non-null object\n",
      "筹资:取得借款收到的现金(元)                    15548 non-null object\n",
      "筹资:筹资活动现金流入小计(元)                   17443 non-null object\n",
      "筹资:偿还债务支付的现金(元)                    16206 non-null object\n",
      "筹资:分配股利、利润或偿付利息支付的现金(元)            18651 non-null object\n",
      "筹资:筹资活动现金流出小计(元)                   18948 non-null object\n",
      "筹资活动产生的现金流量净额(元)                   19114 non-null object\n",
      "dtypes: float64(5), int64(1), object(21)\n",
      "memory usage: 4.0+ MB\n",
      "<class 'pandas.core.frame.DataFrame'>\n",
      "Int64Index: 3373 entries, 24 to 19608\n",
      "Data columns (total 27 columns):\n",
      "企业编号                               3373 non-null int64\n",
      "标题                                 3373 non-null object\n",
      "日期                                 3373 non-null object\n",
      "经营:销售商品、提供劳务收到的现金(元)               3373 non-null float64\n",
      "经营:收到的税费返还(元)                      3373 non-null float64\n",
      "经营:收到其他与经营活动有关的现金(元)               3373 non-null float64\n",
      "经营:经营活动现金流入小计(元)                   3373 non-null float64\n",
      "经营:购买商品、接受劳务支付的现金(元)               3373 non-null float64\n",
      "经营:支付给职工以及为职工支付的现金(元)              3373 non-null float64\n",
      "经营:支付的各项税费(元)                      3373 non-null float64\n",
      "经营:支付其他与经营活动有关的现金(元)               3373 non-null float64\n",
      "经营:经营活动现金流出小计(元)                   3373 non-null float64\n",
      "经营:经营活动产生的现金流量净额(元)                3373 non-null float64\n",
      "投资:取得投资收益所收到的现金(元)                 3373 non-null float64\n",
      "投资:处置固定资产、无形资产和其他长期资产收回的现金净额(元)    3373 non-null float64\n",
      "投资:投资活动现金流入小计(元)                   3373 non-null float64\n",
      "投资:购建固定资产、无形资产和其他长期资产支付的现金(元)      3373 non-null float64\n",
      "投资:投资支付的现金(元)                      3373 non-null float64\n",
      "投资:投资活动现金流出小计(元)                   3373 non-null float64\n",
      "投资:投资活动产生的现金流量净额(元)                3373 non-null float64\n",
      "筹资:吸收投资收到的现金(元)                    3373 non-null float64\n",
      "筹资:取得借款收到的现金(元)                    3373 non-null float64\n",
      "筹资:筹资活动现金流入小计(元)                   3373 non-null float64\n",
      "筹资:偿还债务支付的现金(元)                    3373 non-null float64\n",
      "筹资:分配股利、利润或偿付利息支付的现金(元)            3373 non-null float64\n",
      "筹资:筹资活动现金流出小计(元)                   3373 non-null float64\n",
      "筹资活动产生的现金流量净额(元)                   3373 non-null float64\n",
      "dtypes: float64(24), int64(1), object(2)\n",
      "memory usage: 737.8+ KB\n"
     ]
    }
   ],
   "source": [
    "import pandas as pd\n",
    "df= pd.read_excel(r'.././Documents/赛题1数据集/上市信息财务信息-现金流量表(单位消除).xlsx')\n",
    "df.info()\n",
    "A= ['经营:销售商品、提供劳务收到的现金(元)',\n",
    "  '经营:收到的税费返还(元)',\n",
    "  '经营:收到其他与经营活动有关的现金(元)',\n",
    "  '经营:经营活动现金流入小计(元)',\n",
    "  '经营:购买商品、接受劳务支付的现金(元)',\n",
    "  '经营:支付给职工以及为职工支付的现金(元)',\n",
    "  '经营:支付的各项税费(元)',\n",
    "  '经营:支付其他与经营活动有关的现金(元)',\n",
    "  '经营:经营活动现金流出小计(元)',\n",
    "  '经营:经营活动产生的现金流量净额(元)',\n",
    "  '投资:取得投资收益所收到的现金(元)',\n",
    "  '投资:处置固定资产、无形资产和其他长期资产收回的现金净额(元)',\n",
    "  '投资:投资活动现金流入小计(元)',\n",
    "  '投资:购建固定资产、无形资产和其他长期资产支付的现金(元)',\n",
    "  '投资:投资支付的现金(元)',\n",
    "  '投资:投资活动现金流出小计(元)',\n",
    "  '投资:投资活动产生的现金流量净额(元)',\n",
    "  '筹资:吸收投资收到的现金(元)',\n",
    "  '筹资:取得借款收到的现金(元)',\n",
    "  '筹资:筹资活动现金流入小计(元)',\n",
    "  '筹资:偿还债务支付的现金(元)',\n",
    "  '筹资:分配股利、利润或偿付利息支付的现金(元)',\n",
    "  '筹资:筹资活动现金流出小计(元)',\n",
    "  '筹资活动产生的现金流量净额(元)']\n",
    "for arr in A:\n",
    "    df[arr]=pd.to_numeric(df[arr],errors='coerce')\n",
    "df1=df.dropna()\n",
    "df1.info()\n",
    "#统一剔除缺失值 完整样本/总样本=3373/19621 =17.19%，较少 分开剔除"
   ]
  },
  {
   "cell_type": "code",
   "execution_count": 22,
   "metadata": {},
   "outputs": [],
   "source": [
    "#经营活动现金流入小计=销售商品、提供劳务收到的现金+收到的税费返还+收到其他与经营活动有关的现金\n",
    "#经营活动现金流出小计=购买商品、接受劳务支付的现金+支付给职工以及为职工支付的现金+支付的各项税费+支付其他与经营活动有关的现金\n",
    "#经营活动产生的现金流量净额=经营活动现金流入小计-经营活动现金流出小计\n",
    "#投资活动现金流入小计=取得投资收益所收到的现金+取得投资收益所收到的现金\n",
    "#投资活动现金流出小计=购建固定资产、无形资产和其他长期资产支付的现金+投资支付的现金\n",
    "#投资活动产生的现金流量净额=投资活动现金流入小计-投资活动现金流出小计\n",
    "#筹资活动现金流入小计=吸收投资收到的现金+取得借款收到的现金\n",
    "#筹资活动现金流出小计=偿还债务支付的现金+分配股利、利润或偿付利息支付的现金\n",
    "#筹资活动产生的现金流量净额=筹资活动现金流入小计-筹资活动现金流出小计\n",
    "import warnings\n",
    "warnings.filterwarnings('ignore')"
   ]
  },
  {
   "cell_type": "code",
   "execution_count": 83,
   "metadata": {},
   "outputs": [
    {
     "name": "stdout",
     "output_type": "stream",
     "text": [
      "<class 'pandas.core.frame.DataFrame'>\n",
      "RangeIndex: 19621 entries, 0 to 19620\n",
      "Data columns (total 4 columns):\n",
      "销售现金    19183 non-null float64\n",
      "税费返还    13269 non-null float64\n",
      "其他      19601 non-null float64\n",
      "流入小计    19621 non-null float64\n",
      "dtypes: float64(4)\n",
      "memory usage: 613.2 KB\n",
      "<class 'pandas.core.frame.DataFrame'>\n",
      "Int64Index: 13247 entries, 12 to 19620\n",
      "Data columns (total 4 columns):\n",
      "销售现金    13247 non-null float64\n",
      "税费返还    13247 non-null float64\n",
      "其他      13247 non-null float64\n",
      "流入小计    13247 non-null float64\n",
      "dtypes: float64(4)\n",
      "memory usage: 517.5 KB\n"
     ]
    }
   ],
   "source": [
    "data_1= {'销售现金':df['经营:销售商品、提供劳务收到的现金(元)'],'税费返还': df['经营:收到的税费返还(元)'],\n",
    "         '其他': df['经营:收到其他与经营活动有关的现金(元)'],'流入小计':df['经营:经营活动现金流入小计(元)'],}\n",
    "data_1= pd.DataFrame(data_1) \n",
    "data_1.info()\n",
    "data_11=data_1.dropna()\n",
    "data_11.info()\n",
    "#完整样本占比：13247/19620=67.5%"
   ]
  },
  {
   "cell_type": "code",
   "execution_count": 84,
   "metadata": {},
   "outputs": [
    {
     "name": "stdout",
     "output_type": "stream",
     "text": [
      "最佳拟合线:截距 48764051.123924255 ,回归系数： [1.00233253 0.85308521 1.02173734]\n",
      "回归得分: 0.9995081571235447\n"
     ]
    }
   ],
   "source": [
    "from sklearn.model_selection import train_test_split\n",
    "from sklearn.linear_model import LinearRegression\n",
    "X_train,X_test,Y_train,Y_test = train_test_split(data_11.iloc[:,:3],data_11['流入小计'],train_size=.80)\n",
    "model = LinearRegression()\n",
    "model.fit(X_train,Y_train)\n",
    "a1 = model.intercept_ \n",
    "b1 = model.coef_\n",
    "print(\"最佳拟合线:截距\",a1,\",回归系数：\",b1)\n",
    "score = model.score(X_test,Y_test)\n",
    "print(\"回归得分:\",score)"
   ]
  },
  {
   "cell_type": "code",
   "execution_count": 23,
   "metadata": {},
   "outputs": [
    {
     "name": "stdout",
     "output_type": "stream",
     "text": [
      "<class 'pandas.core.frame.DataFrame'>\n",
      "RangeIndex: 19621 entries, 0 to 19620\n",
      "Data columns (total 5 columns):\n",
      "购买商品     19146 non-null float64\n",
      "支付给职工    19620 non-null float64\n",
      "税费       19620 non-null float64\n",
      "其他       19620 non-null float64\n",
      "流出小计     19613 non-null float64\n",
      "dtypes: float64(5)\n",
      "memory usage: 766.5 KB\n",
      "<class 'pandas.core.frame.DataFrame'>\n",
      "Int64Index: 19143 entries, 6 to 19620\n",
      "Data columns (total 5 columns):\n",
      "购买商品     19143 non-null float64\n",
      "支付给职工    19143 non-null float64\n",
      "税费       19143 non-null float64\n",
      "其他       19143 non-null float64\n",
      "流出小计     19143 non-null float64\n",
      "dtypes: float64(5)\n",
      "memory usage: 897.3 KB\n",
      "最佳拟合线:截距 22534073.71549511 ,回归系数： [1.00860851 1.01224918 0.94482043 1.04337193]\n",
      "回归得分: 0.9978246627941434\n"
     ]
    }
   ],
   "source": [
    "data_2 = {'购买商品':df['经营:购买商品、接受劳务支付的现金(元)'],\n",
    "        '支付给职工': df['经营:支付给职工以及为职工支付的现金(元)'],\n",
    "        '税费': df['经营:支付的各项税费(元)'],'其他': df['经营:支付其他与经营活动有关的现金(元)'],\n",
    "          '流出小计': df['经营:经营活动现金流出小计(元)'],}\n",
    "data_2= pd.DataFrame(data_2)\n",
    "data_2.info()\n",
    "data_21=data_2.dropna()\n",
    "data_21.info()\n",
    "#完整样本占比：19143/19620=97.5%\n",
    "#回归\n",
    "X_train,X_test,Y_train,Y_test = train_test_split(data_21.iloc[:,:4],data_21['流出小计'],train_size=.80)\n",
    "model = LinearRegression()\n",
    "model.fit(X_train,Y_train)\n",
    "a2= model.intercept_ \n",
    "b2= model.coef_\n",
    "print(\"最佳拟合线:截距\",a2,\",回归系数：\",b2)\n",
    "score = model.score(X_test,Y_test)\n",
    "print(\"回归得分:\",score)\n"
   ]
  },
  {
   "cell_type": "code",
   "execution_count": 53,
   "metadata": {},
   "outputs": [
    {
     "name": "stdout",
     "output_type": "stream",
     "text": [
      "<class 'pandas.core.frame.DataFrame'>\n",
      "RangeIndex: 19621 entries, 0 to 19620\n",
      "Data columns (total 3 columns):\n",
      "流入小记    19621 non-null float64\n",
      "流出小计    19613 non-null float64\n",
      "合计      19621 non-null float64\n",
      "dtypes: float64(3)\n",
      "memory usage: 459.9 KB\n",
      "<class 'pandas.core.frame.DataFrame'>\n",
      "Int64Index: 19613 entries, 0 to 19620\n",
      "Data columns (total 3 columns):\n",
      "流入小记    19613 non-null float64\n",
      "流出小计    19613 non-null float64\n",
      "合计      19613 non-null float64\n",
      "dtypes: float64(3)\n",
      "memory usage: 612.9 KB\n",
      "最佳拟合线:截距 -19563.44036579132 ,回归系数： [ 0.99999947 -0.99999918]\n",
      "回归得分: 0.9999975735450422\n"
     ]
    },
    {
     "data": {
      "text/plain": [
       "3487"
      ]
     },
     "execution_count": 53,
     "metadata": {},
     "output_type": "execute_result"
    }
   ],
   "source": [
    "import pandas as pd\n",
    "from sklearn.model_selection import train_test_split\n",
    "from sklearn.linear_model import LinearRegression\n",
    "data_3= {'流入小记':df['经营:经营活动现金流入小计(元)'],'流出小计': df['经营:经营活动现金流出小计(元)'],\n",
    "         '合计':df['经营:经营活动产生的现金流量净额(元)'],}\n",
    "data_3= pd.DataFrame(data_3) \n",
    "data_3.info()\n",
    "data_31=data_3.dropna()\n",
    "data_31.info()\n",
    "X_train,X_test,Y_train,Y_test = train_test_split(data_31.iloc[:,:2],data_31['合计'],train_size=.80)\n",
    "model = LinearRegression()\n",
    "model.fit(X_train,Y_train)\n",
    "a2= model.intercept_ \n",
    "b2= model.coef_\n",
    "print(\"最佳拟合线:截距\",a2,\",回归系数：\",b2)\n",
    "score = model.score(X_test,Y_test)\n",
    "print(\"回归得分:\",score)\n",
    "len(data_31.loc[(data_31['流入小记']-data_31['流出小计']==data_31['合计'])])\n"
   ]
  },
  {
   "cell_type": "code",
   "execution_count": 56,
   "metadata": {},
   "outputs": [
    {
     "name": "stdout",
     "output_type": "stream",
     "text": [
      "<class 'pandas.core.frame.DataFrame'>\n",
      "RangeIndex: 19621 entries, 0 to 19620\n",
      "Data columns (total 3 columns):\n",
      "投资收益      13782 non-null float64\n",
      "处置固定资产    15692 non-null float64\n",
      "合计        18602 non-null float64\n",
      "dtypes: float64(3)\n",
      "memory usage: 459.9 KB\n",
      "<class 'pandas.core.frame.DataFrame'>\n",
      "Int64Index: 11594 entries, 9 to 19620\n",
      "Data columns (total 3 columns):\n",
      "投资收益      11594 non-null float64\n",
      "处置固定资产    11594 non-null float64\n",
      "合计        11594 non-null float64\n",
      "dtypes: float64(3)\n",
      "memory usage: 362.3 KB\n",
      "最佳拟合线:截距 2262316187.5189047 ,回归系数： [16.53629021 20.11732709]\n",
      "回归得分: 0.5207902387889137\n"
     ]
    }
   ],
   "source": [
    "data_4= {'投资收益':df['投资:取得投资收益所收到的现金(元)'],\n",
    "         '处置固定资产':df['投资:处置固定资产、无形资产和其他长期资产收回的现金净额(元)'],\n",
    "         '合计':df['投资:投资活动现金流入小计(元)'],}\n",
    "data_4= pd.DataFrame(data_4) \n",
    "data_4.info()\n",
    "data_41=data_4.dropna()\n",
    "data_41.info()\n",
    "X_train,X_test,Y_train,Y_test = train_test_split(data_41.iloc[:,:2],data_41['合计'],train_size=.80)\n",
    "model = LinearRegression()\n",
    "model.fit(X_train,Y_train)\n",
    "a2= model.intercept_ \n",
    "b2= model.coef_\n",
    "print(\"最佳拟合线:截距\",a2,\",回归系数：\",b2)\n",
    "score = model.score(X_test,Y_test)\n",
    "print(\"回归得分:\",score)"
   ]
  },
  {
   "cell_type": "code",
   "execution_count": 63,
   "metadata": {},
   "outputs": [
    {
     "name": "stdout",
     "output_type": "stream",
     "text": [
      "<class 'pandas.core.frame.DataFrame'>\n",
      "RangeIndex: 19621 entries, 0 to 19620\n",
      "Data columns (total 3 columns):\n",
      "固定资产    19510 non-null float64\n",
      "投资支付    13450 non-null float64\n",
      "合计      19550 non-null float64\n",
      "dtypes: float64(3)\n",
      "memory usage: 459.9 KB\n",
      "<class 'pandas.core.frame.DataFrame'>\n",
      "Int64Index: 13423 entries, 0 to 19619\n",
      "Data columns (total 3 columns):\n",
      "固定资产    13423 non-null float64\n",
      "投资支付    13423 non-null float64\n",
      "合计      13423 non-null float64\n",
      "dtypes: float64(3)\n",
      "memory usage: 419.5 KB\n",
      "最佳拟合线:截距 695267744.8394012 ,回归系数： [1.15011908 1.01559183]\n",
      "回归得分: 0.998505009346997\n"
     ]
    },
    {
     "data": {
      "text/plain": [
       "5594"
      ]
     },
     "execution_count": 63,
     "metadata": {},
     "output_type": "execute_result"
    }
   ],
   "source": [
    "data_5= {'固定资产':df['投资:购建固定资产、无形资产和其他长期资产支付的现金(元)'],\n",
    "         '投资支付':df['投资:投资支付的现金(元)'],\n",
    "         '合计':df['投资:投资活动现金流出小计(元)'],}\n",
    "data_5= pd.DataFrame(data_5) \n",
    "data_5.info()\n",
    "data_51=data_5.dropna()\n",
    "data_51.info()\n",
    "X_train,X_test,Y_train,Y_test = train_test_split(data_51.iloc[:,:2],data_51['合计'],train_size=.80)\n",
    "model = LinearRegression()\n",
    "model.fit(X_train,Y_train)\n",
    "a2= model.intercept_ \n",
    "b2= model.coef_\n",
    "print(\"最佳拟合线:截距\",a2,\",回归系数：\",b2)\n",
    "score = model.score(X_test,Y_test)\n",
    "print(\"回归得分:\",score)\n",
    "len(data_51.loc[(data_51['固定资产']+data_51['投资支付']==data_51['合计'])])"
   ]
  },
  {
   "cell_type": "code",
   "execution_count": 67,
   "metadata": {},
   "outputs": [
    {
     "name": "stdout",
     "output_type": "stream",
     "text": [
      "<class 'pandas.core.frame.DataFrame'>\n",
      "RangeIndex: 19621 entries, 0 to 19620\n",
      "Data columns (total 3 columns):\n",
      "流出    19550 non-null float64\n",
      "流入    18602 non-null float64\n",
      "合计    19566 non-null float64\n",
      "dtypes: float64(3)\n",
      "memory usage: 459.9 KB\n",
      "<class 'pandas.core.frame.DataFrame'>\n",
      "Int64Index: 18589 entries, 0 to 19620\n",
      "Data columns (total 3 columns):\n",
      "流出    18589 non-null float64\n",
      "流入    18589 non-null float64\n",
      "合计    18589 non-null float64\n",
      "dtypes: float64(3)\n",
      "memory usage: 580.9 KB\n",
      "最佳拟合线:截距 -150417.09425616264 ,回归系数： [-0.99999995  1.00000001]\n",
      "回归得分: 0.9999999952820134\n"
     ]
    },
    {
     "data": {
      "text/plain": [
       "9143"
      ]
     },
     "execution_count": 67,
     "metadata": {},
     "output_type": "execute_result"
    }
   ],
   "source": [
    "data_6= {'流出':df['投资:投资活动现金流出小计(元)'],\n",
    "         '流入':df['投资:投资活动现金流入小计(元)'],\n",
    "         '合计':df['投资:投资活动产生的现金流量净额(元)'],}\n",
    "data_6= pd.DataFrame(data_6) \n",
    "data_6.info()\n",
    "data_61=data_6.dropna()\n",
    "data_61.info()\n",
    "X_train,X_test,Y_train,Y_test = train_test_split(data_61.iloc[:,:2],data_61['合计'],train_size=.80)\n",
    "model = LinearRegression()\n",
    "model.fit(X_train,Y_train)\n",
    "a2= model.intercept_ \n",
    "b2= model.coef_\n",
    "print(\"最佳拟合线:截距\",a2,\",回归系数：\",b2)\n",
    "score = model.score(X_test,Y_test)\n",
    "print(\"回归得分:\",score)\n",
    "len(data_61.loc[(data_61['流入']-data_61['流出']==data_61['合计'])])"
   ]
  },
  {
   "cell_type": "code",
   "execution_count": 71,
   "metadata": {},
   "outputs": [
    {
     "name": "stdout",
     "output_type": "stream",
     "text": [
      "<class 'pandas.core.frame.DataFrame'>\n",
      "RangeIndex: 19621 entries, 0 to 19620\n",
      "Data columns (total 3 columns):\n",
      "吸收投资    8226 non-null float64\n",
      "取得借款    15267 non-null float64\n",
      "合计      17268 non-null float64\n",
      "dtypes: float64(3)\n",
      "memory usage: 459.9 KB\n",
      "<class 'pandas.core.frame.DataFrame'>\n",
      "Int64Index: 7005 entries, 9 to 19614\n",
      "Data columns (total 3 columns):\n",
      "吸收投资    7005 non-null float64\n",
      "取得借款    7005 non-null float64\n",
      "合计      7005 non-null float64\n",
      "dtypes: float64(3)\n",
      "memory usage: 218.9 KB\n",
      "最佳拟合线:截距 130664468.0332346 ,回归系数： [0.84509513 1.32383957]\n",
      "回归得分: 0.8054007079532632\n"
     ]
    },
    {
     "data": {
      "text/plain": [
       "2753"
      ]
     },
     "execution_count": 71,
     "metadata": {},
     "output_type": "execute_result"
    }
   ],
   "source": [
    "data_7= {'吸收投资':df['筹资:吸收投资收到的现金(元)'],\n",
    "         '取得借款':df['筹资:取得借款收到的现金(元)'],\n",
    "         '合计':df['筹资:筹资活动现金流入小计(元)'],}\n",
    "data_7= pd.DataFrame(data_7) \n",
    "data_7.info()\n",
    "data_71=data_7.dropna()\n",
    "data_71.info()\n",
    "X_train,X_test,Y_train,Y_test = train_test_split(data_71.iloc[:,:2],data_71['合计'],train_size=.80)\n",
    "model = LinearRegression()\n",
    "model.fit(X_train,Y_train)\n",
    "a2= model.intercept_ \n",
    "b2= model.coef_\n",
    "print(\"最佳拟合线:截距\",a2,\",回归系数：\",b2)\n",
    "score = model.score(X_test,Y_test)\n",
    "print(\"回归得分:\",score)\n",
    "len(data_71.loc[(data_71['吸收投资']+data_71['取得借款']==data_71['合计'])])"
   ]
  },
  {
   "cell_type": "code",
   "execution_count": 75,
   "metadata": {},
   "outputs": [
    {
     "name": "stdout",
     "output_type": "stream",
     "text": [
      "<class 'pandas.core.frame.DataFrame'>\n",
      "RangeIndex: 19621 entries, 0 to 19620\n",
      "Data columns (total 3 columns):\n",
      "偿还债务    15976 non-null float64\n",
      "分配股利    18567 non-null float64\n",
      "合计      18883 non-null float64\n",
      "dtypes: float64(3)\n",
      "memory usage: 459.9 KB\n",
      "<class 'pandas.core.frame.DataFrame'>\n",
      "Int64Index: 15902 entries, 0 to 19614\n",
      "Data columns (total 3 columns):\n",
      "偿还债务    15902 non-null float64\n",
      "分配股利    15902 non-null float64\n",
      "合计      15902 non-null float64\n",
      "dtypes: float64(3)\n",
      "memory usage: 496.9 KB\n",
      "最佳拟合线:截距 632676037.2362518 ,回归系数： [1.00049338 1.21476481]\n",
      "回归得分: 0.999262346945336\n"
     ]
    },
    {
     "data": {
      "text/plain": [
       "4499"
      ]
     },
     "execution_count": 75,
     "metadata": {},
     "output_type": "execute_result"
    }
   ],
   "source": [
    "data_8= {'偿还债务':df['筹资:偿还债务支付的现金(元)'],\n",
    "         '分配股利':df['筹资:分配股利、利润或偿付利息支付的现金(元)'],\n",
    "         '合计':df['筹资:筹资活动现金流出小计(元)'],}\n",
    "data_8= pd.DataFrame(data_8) \n",
    "data_8.info()\n",
    "data_81=data_8.dropna()\n",
    "data_81.info()\n",
    "X_train,X_test,Y_train,Y_test = train_test_split(data_81.iloc[:,:2],data_81['合计'],train_size=.80)\n",
    "model = LinearRegression()\n",
    "model.fit(X_train,Y_train)\n",
    "a2= model.intercept_ \n",
    "b2= model.coef_\n",
    "print(\"最佳拟合线:截距\",a2,\",回归系数：\",b2)\n",
    "score = model.score(X_test,Y_test)\n",
    "print(\"回归得分:\",score)\n",
    "len(data_81.loc[(data_81['偿还债务']+data_81['分配股利']==data_81['合计'])])"
   ]
  },
  {
   "cell_type": "code",
   "execution_count": 77,
   "metadata": {},
   "outputs": [
    {
     "name": "stdout",
     "output_type": "stream",
     "text": [
      "<class 'pandas.core.frame.DataFrame'>\n",
      "RangeIndex: 19621 entries, 0 to 19620\n",
      "Data columns (total 3 columns):\n",
      "流入    17268 non-null float64\n",
      "流出    18883 non-null float64\n",
      "合计    19066 non-null float64\n",
      "dtypes: float64(3)\n",
      "memory usage: 459.9 KB\n",
      "<class 'pandas.core.frame.DataFrame'>\n",
      "Int64Index: 17096 entries, 0 to 19620\n",
      "Data columns (total 3 columns):\n",
      "流入    17096 non-null float64\n",
      "流出    17096 non-null float64\n",
      "合计    17096 non-null float64\n",
      "dtypes: float64(3)\n",
      "memory usage: 534.2 KB\n",
      "最佳拟合线:截距 4510.179338216782 ,回归系数： [ 1.00000132 -1.00000135]\n",
      "回归得分: 0.9999997931384991\n"
     ]
    },
    {
     "data": {
      "text/plain": [
       "7596"
      ]
     },
     "execution_count": 77,
     "metadata": {},
     "output_type": "execute_result"
    }
   ],
   "source": [
    "data_9= {'流入':df['筹资:筹资活动现金流入小计(元)'],'流出':df['筹资:筹资活动现金流出小计(元)'],\n",
    "        '合计':df['筹资活动产生的现金流量净额(元)'],}\n",
    "data_9= pd.DataFrame(data_9) \n",
    "data_9.info()\n",
    "data_91=data_9.dropna()\n",
    "data_91.info()\n",
    "X_train,X_test,Y_train,Y_test = train_test_split(data_91.iloc[:,:2],data_91['合计'],train_size=.80)\n",
    "model = LinearRegression()\n",
    "model.fit(X_train,Y_train)\n",
    "a2= model.intercept_ \n",
    "b2= model.coef_\n",
    "print(\"最佳拟合线:截距\",a2,\",回归系数：\",b2)\n",
    "score = model.score(X_test,Y_test)\n",
    "print(\"回归得分:\",score)\n",
    "len(data_91.loc[(data_91['流入']-data_91['流出']==data_91['合计'])])"
   ]
  },
  {
   "cell_type": "code",
   "execution_count": null,
   "metadata": {},
   "outputs": [],
   "source": []
  }
 ],
 "metadata": {
  "kernelspec": {
   "display_name": "Python 3",
   "language": "python",
   "name": "python3"
  },
  "language_info": {
   "codemirror_mode": {
    "name": "ipython",
    "version": 3
   },
   "file_extension": ".py",
   "mimetype": "text/x-python",
   "name": "python",
   "nbconvert_exporter": "python",
   "pygments_lexer": "ipython3",
   "version": "3.7.2"
  }
 },
 "nbformat": 4,
 "nbformat_minor": 2
}
