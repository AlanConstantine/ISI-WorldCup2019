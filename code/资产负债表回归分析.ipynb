{
 "cells": [
  {
   "cell_type": "code",
   "execution_count": null,
   "metadata": {},
   "outputs": [],
   "source": [
    "#资产负债表分析思路，首先根据财务的一些关联对数据进行分块分析，相关性，线性回归模型拟合\n",
    "##结果：\n",
    "#财务公式                                                             \t线性回归系数\t                                                                       评分\t选取做回归的样本占总样本比例\n",
    "#流动资产合计=货币资金+应收账款+其它应收款+存货 \t[1.48661497 1.06789572 1.35391323 0.94856807] b:23869542.65\t0.9979  \t90%\n",
    "#资产合计=长期股权投资+固定资产+无形资产+流动资产\t [1.95809827 1.17303345 1.1051202  1.04137252] b:34492226.29\t0.9922\t60%\n",
    "#流动负债=应付账款+预收账款\t                                 [1.50860737 1.60131861] b:146408452.47\t                                   0.9917  \t77%\n",
    "#负债合计=流动负债+长期负债\t                              [1.00009591 0.99979242] b:-36142.11\t                                       0.9999\t90%\n",
    "#权益合计=实收资本+资本公积金+盈余公积金\t       [2.13877318 1.60430789 4.67835892] b:-72396553.92\t              0.8915\t94%\n",
    "#资产合计=负债合计+权益合计                         \t[0.99993462 1.00009754] b:-13083\t                                        0.9999\t96%"
   ]
  },
  {
   "cell_type": "code",
   "execution_count": 40,
   "metadata": {},
   "outputs": [
    {
     "name": "stdout",
     "output_type": "stream",
     "text": [
      "<class 'pandas.core.frame.DataFrame'>\n",
      "RangeIndex: 19620 entries, 0 to 19619\n",
      "Data columns (total 24 columns):\n",
      "企业编号               19620 non-null int64\n",
      "标题                 19620 non-null object\n",
      "日期                 19620 non-null object\n",
      "资产:货币资金(元)         18862 non-null object\n",
      "资产:应收账款(元)         18291 non-null object\n",
      "资产:其它应收款(元)        18460 non-null object\n",
      "资产:存货(元)           18115 non-null object\n",
      "资产:流动资产合计(元)       18455 non-null object\n",
      "资产:长期股权投资(元)       12873 non-null object\n",
      "资产:累计折旧(元)         1446 non-null object\n",
      "资产:固定资产(元)         18854 non-null object\n",
      "资产:无形资产(元)         18595 non-null object\n",
      "资产:资产总计(元)         18862 non-null object\n",
      "负债:应付账款(元)         15646 non-null object\n",
      "负债:预收账款(元)         18117 non-null object\n",
      "负债:存货跌价准备(元)       1446 non-null object\n",
      "负债:流动负债合计(元)       18455 non-null object\n",
      "负债:长期负债合计(元)       17729 non-null object\n",
      "负债:负债合计(元)         18862 non-null object\n",
      "权益:实收资本(或股本)(元)    18851 non-null object\n",
      "权益:资本公积金(元)        18731 non-null object\n",
      "权益:盈余公积金(元)        18669 non-null object\n",
      "权益:股东权益合计(元)       18854 non-null object\n",
      "流动比率               1446 non-null object\n",
      "dtypes: int64(1), object(23)\n",
      "memory usage: 3.6+ MB\n",
      "<class 'pandas.core.frame.DataFrame'>\n",
      "Int64Index: 9298 entries, 7 to 19613\n",
      "Data columns (total 21 columns):\n",
      "企业编号               9298 non-null int64\n",
      "标题                 9298 non-null object\n",
      "日期                 9298 non-null object\n",
      "资产:货币资金(元)         9298 non-null float64\n",
      "资产:应收账款(元)         9298 non-null float64\n",
      "资产:其它应收款(元)        9298 non-null float64\n",
      "资产:存货(元)           9298 non-null float64\n",
      "资产:流动资产合计(元)       9298 non-null float64\n",
      "资产:长期股权投资(元)       9298 non-null float64\n",
      "资产:固定资产(元)         9298 non-null float64\n",
      "资产:无形资产(元)         9298 non-null float64\n",
      "资产:资产总计(元)         9298 non-null float64\n",
      "负债:应付账款(元)         9298 non-null float64\n",
      "负债:预收账款(元)         9298 non-null float64\n",
      "负债:流动负债合计(元)       9298 non-null float64\n",
      "负债:长期负债合计(元)       9298 non-null float64\n",
      "负债:负债合计(元)         9298 non-null float64\n",
      "权益:实收资本(或股本)(元)    9298 non-null float64\n",
      "权益:资本公积金(元)        9298 non-null float64\n",
      "权益:盈余公积金(元)        9298 non-null float64\n",
      "权益:股东权益合计(元)       9298 non-null float64\n",
      "dtypes: float64(18), int64(1), object(2)\n",
      "memory usage: 1.6+ MB\n"
     ]
    }
   ],
   "source": [
    "import pandas as pd\n",
    "df= pd.read_excel(r'.././Documents/赛题1数据集/上市信息财务信息-资产负债表(单位消除).xlsx')\n",
    "A= ['资产:货币资金(元)', '资产:应收账款(元)', '资产:其它应收款(元)', '资产:存货(元)', '资产:流动资产合计(元)',  '资产:长期股权投资(元)', '资产:固定资产(元)', '资产:无形资产(元)', '资产:资产总计(元)', '负债:应付账款(元)', '负债:预收账款(元)',\n",
    "  '负债:流动负债合计(元)', '负债:长期负债合计(元)','负债:负债合计(元)', '权益:实收资本(或股本)(元)','权益:资本公积金(元)', '权益:盈余公积金(元)',\n",
    "  '权益:股东权益合计(元)']\n",
    "df.info()\n",
    "df=df.drop(columns=['资产:累计折旧(元)','流动比率','负债:存货跌价准备(元)'])\n",
    "for arr in A:\n",
    "    df[arr]=pd.to_numeric(df[arr],errors='coerce')\n",
    "df_asset=df.dropna()\n",
    "df_asset.info()\n",
    "#总样本：19620\n",
    "#完整样本：9298\n",
    "#比例：50% 根据资产，负债，权益，分别做回归，这样完整样本率也比较高\n",
    "\n"
   ]
  },
  {
   "cell_type": "code",
   "execution_count": 44,
   "metadata": {},
   "outputs": [
    {
     "name": "stdout",
     "output_type": "stream",
     "text": [
      "<class 'pandas.core.frame.DataFrame'>\n",
      "RangeIndex: 19620 entries, 0 to 19619\n",
      "Data columns (total 5 columns):\n",
      "货金        18831 non-null float64\n",
      "应收        18236 non-null float64\n",
      "其他应收      18421 non-null float64\n",
      "存货        18054 non-null float64\n",
      "流动资产合计    18424 non-null float64\n",
      "dtypes: float64(5)\n",
      "memory usage: 766.5 KB\n",
      "<class 'pandas.core.frame.DataFrame'>\n",
      "Int64Index: 17739 entries, 6 to 19619\n",
      "Data columns (total 5 columns):\n",
      "货金        17739 non-null float64\n",
      "应收        17739 non-null float64\n",
      "其他应收      17739 non-null float64\n",
      "存货        17739 non-null float64\n",
      "流动资产合计    17739 non-null float64\n",
      "dtypes: float64(5)\n",
      "memory usage: 831.5 KB\n"
     ]
    },
    {
     "data": {
      "text/html": [
       "<div>\n",
       "<style scoped>\n",
       "    .dataframe tbody tr th:only-of-type {\n",
       "        vertical-align: middle;\n",
       "    }\n",
       "\n",
       "    .dataframe tbody tr th {\n",
       "        vertical-align: top;\n",
       "    }\n",
       "\n",
       "    .dataframe thead th {\n",
       "        text-align: right;\n",
       "    }\n",
       "</style>\n",
       "<table border=\"1\" class=\"dataframe\">\n",
       "  <thead>\n",
       "    <tr style=\"text-align: right;\">\n",
       "      <th></th>\n",
       "      <th>货金</th>\n",
       "      <th>应收</th>\n",
       "      <th>其他应收</th>\n",
       "      <th>存货</th>\n",
       "      <th>流动资产合计</th>\n",
       "    </tr>\n",
       "  </thead>\n",
       "  <tbody>\n",
       "    <tr>\n",
       "      <th>货金</th>\n",
       "      <td>1.000000</td>\n",
       "      <td>0.947492</td>\n",
       "      <td>0.922604</td>\n",
       "      <td>0.941661</td>\n",
       "      <td>0.976030</td>\n",
       "    </tr>\n",
       "    <tr>\n",
       "      <th>应收</th>\n",
       "      <td>0.947492</td>\n",
       "      <td>1.000000</td>\n",
       "      <td>0.901809</td>\n",
       "      <td>0.925919</td>\n",
       "      <td>0.968374</td>\n",
       "    </tr>\n",
       "    <tr>\n",
       "      <th>其他应收</th>\n",
       "      <td>0.922604</td>\n",
       "      <td>0.901809</td>\n",
       "      <td>1.000000</td>\n",
       "      <td>0.987842</td>\n",
       "      <td>0.970685</td>\n",
       "    </tr>\n",
       "    <tr>\n",
       "      <th>存货</th>\n",
       "      <td>0.941661</td>\n",
       "      <td>0.925919</td>\n",
       "      <td>0.987842</td>\n",
       "      <td>1.000000</td>\n",
       "      <td>0.985829</td>\n",
       "    </tr>\n",
       "    <tr>\n",
       "      <th>流动资产合计</th>\n",
       "      <td>0.976030</td>\n",
       "      <td>0.968374</td>\n",
       "      <td>0.970685</td>\n",
       "      <td>0.985829</td>\n",
       "      <td>1.000000</td>\n",
       "    </tr>\n",
       "  </tbody>\n",
       "</table>\n",
       "</div>"
      ],
      "text/plain": [
       "              货金        应收      其他应收        存货    流动资产合计\n",
       "货金      1.000000  0.947492  0.922604  0.941661  0.976030\n",
       "应收      0.947492  1.000000  0.901809  0.925919  0.968374\n",
       "其他应收    0.922604  0.901809  1.000000  0.987842  0.970685\n",
       "存货      0.941661  0.925919  0.987842  1.000000  0.985829\n",
       "流动资产合计  0.976030  0.968374  0.970685  0.985829  1.000000"
      ]
     },
     "execution_count": 44,
     "metadata": {},
     "output_type": "execute_result"
    }
   ],
   "source": [
    "#流动资产相关性分析\n",
    "data_1= {'货金':df['资产:货币资金(元)'],'应收': df['资产:应收账款(元)'],'其他应收': df['资产:其它应收款(元)'],\n",
    "         '存货': df['资产:存货(元)'],'流动资产合计':df['资产:流动资产合计(元)']}\n",
    "data_1= pd.DataFrame(data_1) \n",
    "data_1.info()\n",
    "data_11=data_1.dropna()\n",
    "data_11.info()\n",
    "#流动资产类完整样本占比：17739/19620=90%\n",
    "data_11.corr()\n",
    "#l流动资产和其他各项特征相关性较大"
   ]
  },
  {
   "cell_type": "code",
   "execution_count": 66,
   "metadata": {},
   "outputs": [
    {
     "name": "stdout",
     "output_type": "stream",
     "text": [
      "最佳拟合线:截距 23869542.650865078 ,回归系数： [1.48661497 1.06789572 1.35391323 0.94856807]\n",
      "回归得分: 0.9978899267742676\n"
     ]
    },
    {
     "name": "stderr",
     "output_type": "stream",
     "text": [
      "/Library/Frameworks/Python.framework/Versions/3.7/lib/python3.7/site-packages/sklearn/model_selection/_split.py:2179: FutureWarning: From version 0.21, test_size will always complement train_size unless both are specified.\n",
      "  FutureWarning)\n"
     ]
    }
   ],
   "source": [
    "#流动资产线性回归\n",
    "from sklearn.model_selection import train_test_split\n",
    "from sklearn.linear_model import LinearRegression\n",
    "X_train,X_test,Y_train,Y_test = train_test_split(data_11.iloc[:,:4],data_11['流动资产合计'],train_size=.80)\n",
    "model = LinearRegression()\n",
    "model.fit(X_train,Y_train)\n",
    "a1 = model.intercept_ \n",
    "b1 = model.coef_\n",
    "print(\"最佳拟合线:截距\",a1,\",回归系数：\",b1)\n",
    "score = model.score(X_test,Y_test)\n",
    "print(\"回归得分:\",score)\n",
    "#回归模型得分较高，建议用流动资产作为其他特征的特征替代"
   ]
  },
  {
   "cell_type": "code",
   "execution_count": 58,
   "metadata": {},
   "outputs": [
    {
     "name": "stdout",
     "output_type": "stream",
     "text": [
      "<class 'pandas.core.frame.DataFrame'>\n",
      "RangeIndex: 19620 entries, 0 to 19619\n",
      "Data columns (total 5 columns):\n",
      "长投        12342 non-null float64\n",
      "固定资产      18823 non-null float64\n",
      "无形资产      18540 non-null float64\n",
      "流动资产合计    18424 non-null float64\n",
      "总计        18836 non-null float64\n",
      "dtypes: float64(5)\n",
      "memory usage: 766.5 KB\n",
      "<class 'pandas.core.frame.DataFrame'>\n",
      "Int64Index: 11884 entries, 6 to 19613\n",
      "Data columns (total 5 columns):\n",
      "长投        11884 non-null float64\n",
      "固定资产      11884 non-null float64\n",
      "无形资产      11884 non-null float64\n",
      "流动资产合计    11884 non-null float64\n",
      "总计        11884 non-null float64\n",
      "dtypes: float64(5)\n",
      "memory usage: 557.1 KB\n",
      "最佳拟合线:截距 34492226.29191351 ,回归系数： [1.95809827 1.17303345 1.1051202  1.04137252]\n",
      "回归得分: 0.992227005087436\n"
     ]
    },
    {
     "name": "stderr",
     "output_type": "stream",
     "text": [
      "/Library/Frameworks/Python.framework/Versions/3.7/lib/python3.7/site-packages/sklearn/model_selection/_split.py:2179: FutureWarning: From version 0.21, test_size will always complement train_size unless both are specified.\n",
      "  FutureWarning)\n"
     ]
    }
   ],
   "source": [
    "#资产大类分析\n",
    "data_3= {'长投':df['资产:长期股权投资(元)'],'固定资产': df['资产:固定资产(元)'],'无形资产': df['资产:无形资产(元)'],\n",
    "         '流动资产合计':df['资产:流动资产合计(元)'],'总计': df['资产:资产总计(元)'],}\n",
    "data_3= pd.DataFrame(data_3) \n",
    "data_3.info()\n",
    "data_31=data_3.dropna()\n",
    "data_31.info()\n",
    "#资产大类完整样本占比：11884/19620=60%\n",
    "#回归\n",
    "X_train,X_test,Y_train,Y_test = train_test_split(data_31.iloc[:,:4],data_31['总计'],train_size=.80)\n",
    "model = LinearRegression()\n",
    "model.fit(X_train,Y_train)\n",
    "a3 = model.intercept_ \n",
    "b3 = model.coef_\n",
    "print(\"最佳拟合线:截距\",a3,\",回归系数：\",b3)\n",
    "score = model.score(X_test,Y_test)\n",
    "print(\"回归得分:\",score)\n",
    "#高度拟合"
   ]
  },
  {
   "cell_type": "code",
   "execution_count": 59,
   "metadata": {},
   "outputs": [
    {
     "name": "stdout",
     "output_type": "stream",
     "text": [
      "<class 'pandas.core.frame.DataFrame'>\n",
      "RangeIndex: 19620 entries, 0 to 19619\n",
      "Data columns (total 3 columns):\n",
      "应付      15595 non-null float64\n",
      "预收      18068 non-null float64\n",
      "流动负债    18424 non-null float64\n",
      "dtypes: float64(3)\n",
      "memory usage: 459.9 KB\n",
      "<class 'pandas.core.frame.DataFrame'>\n",
      "Int64Index: 15161 entries, 7 to 19619\n",
      "Data columns (total 3 columns):\n",
      "应付      15161 non-null float64\n",
      "预收      15161 non-null float64\n",
      "流动负债    15161 non-null float64\n",
      "dtypes: float64(3)\n",
      "memory usage: 473.8 KB\n",
      "最佳拟合线:截距 146408452.4728253 ,回归系数： [1.50860737 1.60131861]\n",
      "回归得分: 0.9917740743049736\n"
     ]
    },
    {
     "name": "stderr",
     "output_type": "stream",
     "text": [
      "/Library/Frameworks/Python.framework/Versions/3.7/lib/python3.7/site-packages/sklearn/model_selection/_split.py:2179: FutureWarning: From version 0.21, test_size will always complement train_size unless both are specified.\n",
      "  FutureWarning)\n"
     ]
    }
   ],
   "source": [
    "#流动负债回归\n",
    "data_2 = {'应付':df['负债:应付账款(元)'],\n",
    "        '预收': df['负债:(元)'],\n",
    "        '流动负债': df['负债:流动负债合计(元)'],}\n",
    "data_2= pd.DataFrame(data_2)\n",
    "data_2.info()\n",
    "data_21=data_2.dropna()\n",
    "data_21.info()\n",
    "#流动负债类完整样本占比：15161/19620=77%\n",
    "#回归\n",
    "X_train,X_test,Y_train,Y_test = train_test_split(data_21.iloc[:,:2],data_21['流动负债'],train_size=.80)\n",
    "model = LinearRegression()\n",
    "model.fit(X_train,Y_train)\n",
    "a2= model.intercept_ \n",
    "b2= model.coef_\n",
    "print(\"最佳拟合线:截距\",a2,\",回归系数：\",b2)\n",
    "score = model.score(X_test,Y_test)\n",
    "print(\"回归得分:\",score)\n",
    "\n"
   ]
  },
  {
   "cell_type": "code",
   "execution_count": 61,
   "metadata": {},
   "outputs": [
    {
     "name": "stdout",
     "output_type": "stream",
     "text": [
      "<class 'pandas.core.frame.DataFrame'>\n",
      "RangeIndex: 19620 entries, 0 to 19619\n",
      "Data columns (total 3 columns):\n",
      "流动负债    18424 non-null float64\n",
      "长负      17643 non-null float64\n",
      "负债合计    18831 non-null float64\n",
      "dtypes: float64(3)\n",
      "memory usage: 459.9 KB\n",
      "<class 'pandas.core.frame.DataFrame'>\n",
      "Int64Index: 17643 entries, 6 to 19619\n",
      "Data columns (total 3 columns):\n",
      "流动负债    17643 non-null float64\n",
      "长负      17643 non-null float64\n",
      "负债合计    17643 non-null float64\n",
      "dtypes: float64(3)\n",
      "memory usage: 551.3 KB\n",
      "最佳拟合线:截距 -36142.11179125309 ,回归系数： [1.00009591 0.99979242]\n",
      "回归得分: 0.9999999339252738\n"
     ]
    },
    {
     "name": "stderr",
     "output_type": "stream",
     "text": [
      "/Library/Frameworks/Python.framework/Versions/3.7/lib/python3.7/site-packages/sklearn/model_selection/_split.py:2179: FutureWarning: From version 0.21, test_size will always complement train_size unless both are specified.\n",
      "  FutureWarning)\n"
     ]
    }
   ],
   "source": [
    "data_4 = {'流动负债':df['负债:流动负债合计(元)'],\n",
    "        '长负': df['负债:长期负债合计(元)'],\n",
    "        '负债合计':df[\"负债:负债合计(元)\"] ,}\n",
    "data_4= pd.DataFrame(data_4)\n",
    "data_4.info()\n",
    "data_41=data_4.dropna()\n",
    "data_41.info()\n",
    "#负债大类完整样本占比：17643/19620=90%\n",
    "#回归\n",
    "X_train,X_test,Y_train,Y_test = train_test_split(data_41.iloc[:,:2],data_41['负债合计'],train_size=.80)\n",
    "model = LinearRegression()\n",
    "model.fit(X_train,Y_train)\n",
    "a4= model.intercept_ \n",
    "b4= model.coef_\n",
    "print(\"最佳拟合线:截距\",a4,\",回归系数：\",b4)\n",
    "score = model.score(X_test,Y_test)\n",
    "print(\"回归得分:\",score)\n",
    "#回归效果较好"
   ]
  },
  {
   "cell_type": "code",
   "execution_count": 62,
   "metadata": {},
   "outputs": [
    {
     "name": "stdout",
     "output_type": "stream",
     "text": [
      "<class 'pandas.core.frame.DataFrame'>\n",
      "RangeIndex: 19620 entries, 0 to 19619\n",
      "Data columns (total 4 columns):\n",
      "实收    18820 non-null float64\n",
      "资积    18689 non-null float64\n",
      "盈积    18610 non-null float64\n",
      "合计    18823 non-null float64\n",
      "dtypes: float64(4)\n",
      "memory usage: 613.2 KB\n",
      "<class 'pandas.core.frame.DataFrame'>\n",
      "Int64Index: 18481 entries, 0 to 19619\n",
      "Data columns (total 4 columns):\n",
      "实收    18481 non-null float64\n",
      "资积    18481 non-null float64\n",
      "盈积    18481 non-null float64\n",
      "合计    18481 non-null float64\n",
      "dtypes: float64(4)\n",
      "memory usage: 721.9 KB\n",
      "最佳拟合线:截距 -72396553.92239672 ,回归系数： [2.13877318 1.60430789 4.67835892]\n",
      "回归得分: 0.8914955247568054\n"
     ]
    },
    {
     "name": "stderr",
     "output_type": "stream",
     "text": [
      "/Library/Frameworks/Python.framework/Versions/3.7/lib/python3.7/site-packages/sklearn/model_selection/_split.py:2179: FutureWarning: From version 0.21, test_size will always complement train_size unless both are specified.\n",
      "  FutureWarning)\n"
     ]
    }
   ],
   "source": [
    "#权益回归分析\n",
    "data_5 = {'实收':df['权益:实收资本(或股本)(元)'],\n",
    "        '资积': df['权益:资本公积金(元)'],\n",
    "        '盈积': df['权益:盈余公积金(元)'],'合计':df[\"权益:股东权益合计(元)\"],}\n",
    "data_5= pd.DataFrame(data_5)\n",
    "data_5.info()\n",
    "data_51=data_5.dropna()\n",
    "data_51.info()\n",
    "#权益类完整样本占比：18481/19620=94%\n",
    "X_train,X_test,Y_train,Y_test = train_test_split(data_51.iloc[:,:3],data_51['合计'],train_size=.80)\n",
    "model = LinearRegression()\n",
    "model.fit(X_train,Y_train)\n",
    "a5= model.intercept_ \n",
    "b5= model.coef_\n",
    "print(\"最佳拟合线:截距\",a5,\",回归系数：\",b5)\n",
    "score = model.score(X_test,Y_test)\n",
    "print(\"回归得分:\",score)\n",
    "#回归效果较好"
   ]
  },
  {
   "cell_type": "code",
   "execution_count": 63,
   "metadata": {},
   "outputs": [
    {
     "name": "stdout",
     "output_type": "stream",
     "text": [
      "<class 'pandas.core.frame.DataFrame'>\n",
      "RangeIndex: 19620 entries, 0 to 19619\n",
      "Data columns (total 3 columns):\n",
      "资产    18836 non-null float64\n",
      "负债    18831 non-null float64\n",
      "权益    18823 non-null float64\n",
      "dtypes: float64(3)\n",
      "memory usage: 459.9 KB\n",
      "<class 'pandas.core.frame.DataFrame'>\n",
      "Int64Index: 18823 entries, 0 to 19619\n",
      "Data columns (total 3 columns):\n",
      "资产    18823 non-null float64\n",
      "负债    18823 non-null float64\n",
      "权益    18823 non-null float64\n",
      "dtypes: float64(3)\n",
      "memory usage: 588.2 KB\n"
     ]
    },
    {
     "data": {
      "text/html": [
       "<div>\n",
       "<style scoped>\n",
       "    .dataframe tbody tr th:only-of-type {\n",
       "        vertical-align: middle;\n",
       "    }\n",
       "\n",
       "    .dataframe tbody tr th {\n",
       "        vertical-align: top;\n",
       "    }\n",
       "\n",
       "    .dataframe thead th {\n",
       "        text-align: right;\n",
       "    }\n",
       "</style>\n",
       "<table border=\"1\" class=\"dataframe\">\n",
       "  <thead>\n",
       "    <tr style=\"text-align: right;\">\n",
       "      <th></th>\n",
       "      <th>资产</th>\n",
       "      <th>负债</th>\n",
       "      <th>权益</th>\n",
       "    </tr>\n",
       "  </thead>\n",
       "  <tbody>\n",
       "    <tr>\n",
       "      <th>资产</th>\n",
       "      <td>1.000000</td>\n",
       "      <td>0.997025</td>\n",
       "      <td>0.960150</td>\n",
       "    </tr>\n",
       "    <tr>\n",
       "      <th>负债</th>\n",
       "      <td>0.997025</td>\n",
       "      <td>1.000000</td>\n",
       "      <td>0.935752</td>\n",
       "    </tr>\n",
       "    <tr>\n",
       "      <th>权益</th>\n",
       "      <td>0.960150</td>\n",
       "      <td>0.935752</td>\n",
       "      <td>1.000000</td>\n",
       "    </tr>\n",
       "  </tbody>\n",
       "</table>\n",
       "</div>"
      ],
      "text/plain": [
       "          资产        负债        权益\n",
       "资产  1.000000  0.997025  0.960150\n",
       "负债  0.997025  1.000000  0.935752\n",
       "权益  0.960150  0.935752  1.000000"
      ]
     },
     "execution_count": 63,
     "metadata": {},
     "output_type": "execute_result"
    }
   ],
   "source": [
    "#资产，负债，所有者权益做相关性分析\n",
    "data = {'资产':df['资产:资产总计(元)'],\n",
    "        '负债': df['负债:负债合计(元)'],\n",
    "        '权益': df['权益:股东权益合计(元)'],}\n",
    "data= pd.DataFrame(data)\n",
    "data.head(n=5)\n",
    "data.info()\n",
    "data1=data.dropna()\n",
    "data1.info()\n",
    "#总样本：19620\n",
    "#完整样本：18823\n",
    "#比例：95.9%\n",
    "data1.corr()"
   ]
  },
  {
   "cell_type": "code",
   "execution_count": 67,
   "metadata": {},
   "outputs": [
    {
     "name": "stdout",
     "output_type": "stream",
     "text": [
      "最佳拟合线:截距 -13083.008670687675 ,回归系数： [0.99993462 1.00009754]\n",
      "回归得分: 0.9999999227067733\n"
     ]
    },
    {
     "name": "stderr",
     "output_type": "stream",
     "text": [
      "/Library/Frameworks/Python.framework/Versions/3.7/lib/python3.7/site-packages/sklearn/model_selection/_split.py:2179: FutureWarning: From version 0.21, test_size will always complement train_size unless both are specified.\n",
      "  FutureWarning)\n"
     ]
    }
   ],
   "source": [
    "#资产负债权益三个特征回归分析\n",
    "X_train,X_test,Y_train,Y_test = train_test_split(data1.iloc[:,1:3],data1['资产'],train_size=.80)\n",
    "model = LinearRegression()\n",
    "model.fit(X_train,Y_train)\n",
    "a  = model.intercept_ \n",
    "b = model.coef_\n",
    "print(\"最佳拟合线:截距\",a,\",回归系数：\",b)\n",
    "#资产=负债+权益-38545。\n",
    "score = model.score(X_test,Y_test)\n",
    "print(\"回归得分:\",score)\n",
    "#本来打算通过回归可以计算缺失值，但是发现这三者基本是同时缺失的，放弃此方法"
   ]
  },
  {
   "cell_type": "code",
   "execution_count": null,
   "metadata": {},
   "outputs": [],
   "source": []
  }
 ],
 "metadata": {
  "kernelspec": {
   "display_name": "Python 3",
   "language": "python",
   "name": "python3"
  },
  "language_info": {
   "codemirror_mode": {
    "name": "ipython",
    "version": 3
   },
   "file_extension": ".py",
   "mimetype": "text/x-python",
   "name": "python",
   "nbconvert_exporter": "python",
   "pygments_lexer": "ipython3",
   "version": "3.7.2"
  }
 },
 "nbformat": 4,
 "nbformat_minor": 2
}
