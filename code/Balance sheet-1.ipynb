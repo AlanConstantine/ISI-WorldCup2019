{
 "cells": [
  {
   "cell_type": "code",
   "execution_count": 34,
   "metadata": {},
   "outputs": [
    {
     "name": "stdout",
     "output_type": "stream",
     "text": [
      "<class 'pandas.core.frame.DataFrame'>\n",
      "RangeIndex: 19620 entries, 0 to 19619\n",
      "Data columns (total 24 columns):\n",
      "企业编号               19620 non-null int64\n",
      "标题                 19620 non-null object\n",
      "日期                 19620 non-null object\n",
      "资产:货币资金(元)         18862 non-null object\n",
      "资产:应收账款(元)         18291 non-null object\n",
      "资产:其它应收款(元)        18460 non-null object\n",
      "资产:存货(元)           18115 non-null object\n",
      "资产:流动资产合计(元)       18455 non-null object\n",
      "资产:长期股权投资(元)       12873 non-null object\n",
      "资产:累计折旧(元)         1446 non-null object\n",
      "资产:固定资产(元)         18854 non-null object\n",
      "资产:无形资产(元)         18595 non-null object\n",
      "资产:资产总计(元)         18862 non-null object\n",
      "负债:应付账款(元)         15646 non-null object\n",
      "负债:预收账款(元)         18117 non-null object\n",
      "负债:存货跌价准备(元)       1446 non-null object\n",
      "负债:流动负债合计(元)       18455 non-null object\n",
      "负债:长期负债合计(元)       17729 non-null object\n",
      "负债:负债合计(元)         18862 non-null object\n",
      "权益:实收资本(或股本)(元)    18851 non-null object\n",
      "权益:资本公积金(元)        18731 non-null object\n",
      "权益:盈余公积金(元)        18669 non-null object\n",
      "权益:股东权益合计(元)       18854 non-null object\n",
      "流动比率               1446 non-null object\n",
      "dtypes: int64(1), object(23)\n",
      "memory usage: 3.6+ MB\n",
      "<class 'pandas.core.frame.DataFrame'>\n",
      "Int64Index: 431 entries, 583 to 19527\n",
      "Data columns (total 22 columns):\n",
      "企业编号               431 non-null int64\n",
      "标题                 431 non-null object\n",
      "日期                 431 non-null object\n",
      "资产:货币资金(元)         431 non-null float64\n",
      "资产:应收账款(元)         431 non-null float64\n",
      "资产:其它应收款(元)        431 non-null float64\n",
      "资产:存货(元)           431 non-null float64\n",
      "资产:流动资产合计(元)       431 non-null float64\n",
      "资产:长期股权投资(元)       431 non-null float64\n",
      "资产:累计折旧(元)         431 non-null float64\n",
      "资产:固定资产(元)         431 non-null float64\n",
      "资产:无形资产(元)         431 non-null float64\n",
      "资产:资产总计(元)         431 non-null float64\n",
      "负债:应付账款(元)         431 non-null float64\n",
      "负债:预收账款(元)         431 non-null float64\n",
      "负债:流动负债合计(元)       431 non-null float64\n",
      "负债:长期负债合计(元)       431 non-null float64\n",
      "负债:负债合计(元)         431 non-null float64\n",
      "权益:实收资本(或股本)(元)    431 non-null float64\n",
      "权益:资本公积金(元)        431 non-null float64\n",
      "权益:盈余公积金(元)        431 non-null float64\n",
      "权益:股东权益合计(元)       431 non-null float64\n",
      "dtypes: float64(19), int64(1), object(2)\n",
      "memory usage: 77.4+ KB\n"
     ]
    }
   ],
   "source": [
    "import pandas as pd\n",
    "df= pd.read_excel('/Users/zengxiaoyu/Documents/赛题1数据集/上市信息财务信息-资产负债表(单位消除).xlsx')\n",
    "A= ['资产:货币资金(元)', '资产:应收账款(元)', '资产:其它应收款(元)', '资产:存货(元)', '资产:流动资产合计(元)',  '资产:长期股权投资(元)',\n",
    "  '资产:累计折旧(元)', '资产:固定资产(元)', '资产:无形资产(元)', '资产:资产总计(元)', '负债:应付账款(元)', '负债:预收账款(元)',\n",
    "  '负债:流动负债合计(元)', '负债:长期负债合计(元)','负债:负债合计(元)', '权益:实收资本(或股本)(元)','权益:资本公积金(元)', '权益:盈余公积金(元)',\n",
    "  '权益:股东权益合计(元)']\n",
    "df.info()\n",
    "df=df.drop(columns=['流动比率','负债:存货跌价准备(元)'])\n",
    "for arr in A:\n",
    "    df[arr]=pd.to_numeric(df[arr],errors='coerce')\n",
    "#df_asset=df.dropna()\n",
    "#df_asset.info()\n",
    "#总样本：19620\n",
    "#完整样本：431\n",
    "#比例：2% 因此放弃一起做相关性分析 单独选择做\n",
    "\n"
   ]
  },
  {
   "cell_type": "code",
   "execution_count": 44,
   "metadata": {},
   "outputs": [
    {
     "name": "stdout",
     "output_type": "stream",
     "text": [
      "<class 'pandas.core.frame.DataFrame'>\n",
      "RangeIndex: 19620 entries, 0 to 19619\n",
      "Data columns (total 3 columns):\n",
      "资产    18836 non-null float64\n",
      "负债    18831 non-null float64\n",
      "权益    18823 non-null float64\n",
      "dtypes: float64(3)\n",
      "memory usage: 459.9 KB\n",
      "<class 'pandas.core.frame.DataFrame'>\n",
      "Int64Index: 18823 entries, 0 to 19619\n",
      "Data columns (total 3 columns):\n",
      "资产    18823 non-null float64\n",
      "负债    18823 non-null float64\n",
      "权益    18823 non-null float64\n",
      "dtypes: float64(3)\n",
      "memory usage: 588.2 KB\n"
     ]
    },
    {
     "data": {
      "text/html": [
       "<div>\n",
       "<style scoped>\n",
       "    .dataframe tbody tr th:only-of-type {\n",
       "        vertical-align: middle;\n",
       "    }\n",
       "\n",
       "    .dataframe tbody tr th {\n",
       "        vertical-align: top;\n",
       "    }\n",
       "\n",
       "    .dataframe thead th {\n",
       "        text-align: right;\n",
       "    }\n",
       "</style>\n",
       "<table border=\"1\" class=\"dataframe\">\n",
       "  <thead>\n",
       "    <tr style=\"text-align: right;\">\n",
       "      <th></th>\n",
       "      <th>资产</th>\n",
       "      <th>负债</th>\n",
       "      <th>权益</th>\n",
       "    </tr>\n",
       "  </thead>\n",
       "  <tbody>\n",
       "    <tr>\n",
       "      <th>资产</th>\n",
       "      <td>1.000000</td>\n",
       "      <td>0.997025</td>\n",
       "      <td>0.960150</td>\n",
       "    </tr>\n",
       "    <tr>\n",
       "      <th>负债</th>\n",
       "      <td>0.997025</td>\n",
       "      <td>1.000000</td>\n",
       "      <td>0.935752</td>\n",
       "    </tr>\n",
       "    <tr>\n",
       "      <th>权益</th>\n",
       "      <td>0.960150</td>\n",
       "      <td>0.935752</td>\n",
       "      <td>1.000000</td>\n",
       "    </tr>\n",
       "  </tbody>\n",
       "</table>\n",
       "</div>"
      ],
      "text/plain": [
       "          资产        负债        权益\n",
       "资产  1.000000  0.997025  0.960150\n",
       "负债  0.997025  1.000000  0.935752\n",
       "权益  0.960150  0.935752  1.000000"
      ]
     },
     "execution_count": 44,
     "metadata": {},
     "output_type": "execute_result"
    }
   ],
   "source": [
    "#资产，负债，所有者权益做相关性分析\n",
    "data = {'资产':df['资产:资产总计(元)'],\n",
    "        '负债': df['负债:负债合计(元)'],\n",
    "        '权益': df['权益:股东权益合计(元)'],}\n",
    "data= pd.DataFrame(data)\n",
    "data.head(n=5)\n",
    "data.info()\n",
    "data1=data.dropna()\n",
    "data1.info()\n",
    "#总样本：19620\n",
    "#完整样本：18823\n",
    "#比例：95.9%\n",
    "data1.corr()"
   ]
  },
  {
   "cell_type": "code",
   "execution_count": 49,
   "metadata": {},
   "outputs": [
    {
     "name": "stdout",
     "output_type": "stream",
     "text": [
      "原始数据特征: (18823, 3) ,训练数据特征: (15058, 2) ,测试数据特征: (3765, 2)\n",
      "最佳拟合线:截距 -38545.85972392559 ,回归系数： [0.99986532 1.00029731]\n"
     ]
    },
    {
     "name": "stderr",
     "output_type": "stream",
     "text": [
      "/Library/Frameworks/Python.framework/Versions/3.7/lib/python3.7/site-packages/ipykernel_launcher.py:4: DeprecationWarning: \n",
      ".ix is deprecated. Please use\n",
      ".loc for label based indexing or\n",
      ".iloc for positional indexing\n",
      "\n",
      "See the documentation here:\n",
      "http://pandas.pydata.org/pandas-docs/stable/indexing.html#ix-indexer-is-deprecated\n",
      "  after removing the cwd from sys.path.\n",
      "/Library/Frameworks/Python.framework/Versions/3.7/lib/python3.7/site-packages/sklearn/model_selection/_split.py:2179: FutureWarning: From version 0.21, test_size will always complement train_size unless both are specified.\n",
      "  FutureWarning)\n",
      "/Library/Frameworks/Python.framework/Versions/3.7/lib/python3.7/site-packages/ipykernel_launcher.py:5: DeprecationWarning: \n",
      ".ix is deprecated. Please use\n",
      ".loc for label based indexing or\n",
      ".iloc for positional indexing\n",
      "\n",
      "See the documentation here:\n",
      "http://pandas.pydata.org/pandas-docs/stable/indexing.html#ix-indexer-is-deprecated\n",
      "  \"\"\"\n"
     ]
    }
   ],
   "source": [
    "#以上三个特征回归分析\n",
    "from sklearn.model_selection import train_test_split\n",
    "from sklearn.linear_model import LinearRegression\n",
    "X_train,X_test,Y_train,Y_test = train_test_split(data1.ix[:,1:3],data1['资产'],train_size=.80)\n",
    "print(\"原始数据特征:\",data1.ix[:,:3].shape,\n",
    "      \",训练数据特征:\",X_train.shape,\n",
    "      \",测试数据特征:\",X_test.shape)\n",
    "model = LinearRegression()\n",
    "model.fit(X_train,Y_train)\n",
    "a  = model.intercept_ \n",
    "b = model.coef_\n",
    "print(\"最佳拟合线:截距\",a,\",回归系数：\",b)\n",
    "#资产=负债+权益-38545。\n"
   ]
  },
  {
   "cell_type": "code",
   "execution_count": null,
   "metadata": {},
   "outputs": [],
   "source": []
  },
  {
   "cell_type": "code",
   "execution_count": null,
   "metadata": {},
   "outputs": [],
   "source": []
  }
 ],
 "metadata": {
  "kernelspec": {
   "display_name": "Python 3",
   "language": "python",
   "name": "python3"
  },
  "language_info": {
   "codemirror_mode": {
    "name": "ipython",
    "version": 3
   },
   "file_extension": ".py",
   "mimetype": "text/x-python",
   "name": "python",
   "nbconvert_exporter": "python",
   "pygments_lexer": "ipython3",
   "version": "3.7.2"
  }
 },
 "nbformat": 4,
 "nbformat_minor": 2
}
