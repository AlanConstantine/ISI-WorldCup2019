{
 "cells": [
  {
   "cell_type": "code",
   "execution_count": 10,
   "metadata": {
    "ExecuteTime": {
     "end_time": "2019-03-07T12:13:03.969364Z",
     "start_time": "2019-03-07T12:13:03.947295Z"
    }
   },
   "outputs": [
    {
     "name": "stdout",
     "output_type": "stream",
     "text": [
      "./Dataset/26_ListedFinancialInformation-GrowthCapabilityIndicators.xlsx Done!\n",
      "./Dataset/23_Trademark.xlsx Done!\n",
      "./Dataset/9_CustomsImportandExportCredit.xlsx Done!\n",
      "./Dataset/21_FinancingInformation.xlsx Done!\n",
      "./Dataset/22_SoftCopyright.xlsx Done!\n",
      "./Dataset/12_AnnualReport-ExternalGuaranteeInformation.xlsx Done!\n",
      "./Dataset/5_LandPurchase-LandpurchasebyLargeRealEstateCompanies.xlsx Done!\n",
      "./Dataset/1_Product.xlsx Done!\n",
      "./Dataset/35_Bidding.xlsx Done!\n",
      "./Dataset/28_ListedFinancialInformation-CashFlowStatement.xlsx Done!\n",
      "./Dataset/11_TaxAyear.xlsx Done!\n",
      "./Dataset/13_AnnualReport-ForeignInvestmentInformation.xlsx Done!\n",
      "./Dataset/18_AnnualReport-SocialSecurityInformation.xlsx Done!\n",
      "./Dataset/38_CopyrightoftheWork.xlsx Done!\n",
      "./Dataset/34_BondInformation.xlsx Done!\n",
      "./Dataset/32_Projectinformation.xlsx Done!\n",
      "./Dataset/36_Patent.xlsx Done!\n",
      "./Dataset/2_BasicInformationofBusinessandIndustry.xlsx Done!\n",
      "./Dataset/10_Competitors.xlsx Done!\n",
      "./Dataset/30_ListedFinancialInformation-OperationalCapabilityIndicators.xlsx Done!\n",
      "./Dataset/8_LandPurchase-MarketTrading-LandTransfer.xlsx Done!\n",
      "./Dataset/37_Certification.xlsx Done!\n",
      "./Dataset/20_CorporateRating.xlsx Done!\n",
      "./Dataset/24_ListedFinancialInformation-PerShareIndicator.xlsx Done!\n",
      "./Dataset/14_AnnualReport-Shareholder(Initiator)andFundingInformation.xlsx Done!\n",
      "./Dataset/19_AnnualReport-WebsiteorOutletInformation.xlsx Done!\n",
      "./Dataset/33_GeneralTaxpayer.xlsx Done!\n",
      "./Dataset/7_LandPurchase-MarketTrading-LandMortgage.xlsx Done!\n",
      "./Dataset/3_LandPurchase-LandPlotPublicity.xlsx Done!\n",
      "./Dataset/25_ListedFinancialInformation-FinancialRiskIndicators.xlsx Done!\n",
      "./Dataset/16_AnnualReport-BasicInformation.xlsx Done!\n",
      "./Dataset/29_ListedFinancialInformation-ProfitabilityIndicators.xlsx Done!\n",
      "./Dataset/17_AnnualReport-CorporateAssetStatusInformation.xlsx Done!\n",
      "./Dataset/15_AnnualReport-ShareholderEquityTransfer.xlsx Done!\n",
      "./Dataset/6_Landpurchase-ResultAnnouncement.xlsx Done!\n",
      "./Dataset/31_ListedFinancialInformation-BalanceSheet.xlsx Done!\n",
      "./Dataset/4_LandPurchase-BulkTransferofRealEstate.xlsx Done!\n",
      "./Dataset/27_ListedFinancialInformation-IncomeStatement.xlsx Done!\n"
     ]
    }
   ],
   "source": [
    "import os\n",
    "mainpath = r'./Dataset'\n",
    "\n",
    "for root, dir, files in os.walk(mainpath):\n",
    "    for file in files:\n",
    "        filename = root+'/'+file\n",
    "        newname = filename\n",
    "        newname = newname.replace('.xlsx', '').replace(' ', '')\n",
    "        newname = '.'+(newname.replace('.', '_')+'.xlsx')[1:]\n",
    "        try:\n",
    "            os.rename(filename, newname)\n",
    "        except Exception as e:\n",
    "            raise e\n",
    "        print(newname, 'Done!')"
   ]
  },
  {
   "cell_type": "code",
   "execution_count": null,
   "metadata": {},
   "outputs": [],
   "source": []
  }
 ],
 "metadata": {
  "kernelspec": {
   "display_name": "Python 3",
   "language": "python",
   "name": "python3"
  },
  "language_info": {
   "codemirror_mode": {
    "name": "ipython",
    "version": 3
   },
   "file_extension": ".py",
   "mimetype": "text/x-python",
   "name": "python",
   "nbconvert_exporter": "python",
   "pygments_lexer": "ipython3",
   "version": "3.6.8"
  },
  "toc": {
   "base_numbering": 1,
   "nav_menu": {},
   "number_sections": true,
   "sideBar": true,
   "skip_h1_title": false,
   "title_cell": "Table of Contents",
   "title_sidebar": "Contents",
   "toc_cell": false,
   "toc_position": {},
   "toc_section_display": true,
   "toc_window_display": false
  },
  "varInspector": {
   "cols": {
    "lenName": 16,
    "lenType": 16,
    "lenVar": 40
   },
   "kernels_config": {
    "python": {
     "delete_cmd_postfix": "",
     "delete_cmd_prefix": "del ",
     "library": "var_list.py",
     "varRefreshCmd": "print(var_dic_list())"
    },
    "r": {
     "delete_cmd_postfix": ") ",
     "delete_cmd_prefix": "rm(",
     "library": "var_list.r",
     "varRefreshCmd": "cat(var_dic_list()) "
    }
   },
   "types_to_exclude": [
    "module",
    "function",
    "builtin_function_or_method",
    "instance",
    "_Feature"
   ],
   "window_display": false
  }
 },
 "nbformat": 4,
 "nbformat_minor": 2
}
