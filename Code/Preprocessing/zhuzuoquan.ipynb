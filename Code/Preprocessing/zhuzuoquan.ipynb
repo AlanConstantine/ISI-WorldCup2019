{
 "cells": [
  {
   "cell_type": "code",
   "execution_count": 2,
   "metadata": {
    "ExecuteTime": {
     "end_time": "2019-03-17T11:32:13.817237Z",
     "start_time": "2019-03-17T11:32:13.115590Z"
    }
   },
   "outputs": [],
   "source": [
    "from IPython.display import display\n",
    "import matplotlib.pyplot as plt\n",
    "import pandas as pd\n",
    "import numpy as np\n",
    "import seaborn as sns\n",
    "import matplotlib as mpl\n",
    "import warnings\n",
    "import time\n",
    "from collections import Counter\n",
    "warnings.filterwarnings(\"ignore\")\n",
    "\n",
    "\n",
    "plt.style.use(\"fivethirtyeight\")\n",
    "\n",
    "sns.set_style({'font.sans-serif': ['simsun', 'Arial']})\n",
    "sns.set_style('darkgrid', {'font.sans-serif': ['simhei', 'Arial']})\n",
    "%matplotlib inline"
   ]
  },
  {
   "cell_type": "markdown",
   "metadata": {},
   "source": [
    "# 软著著作权"
   ]
  },
  {
   "cell_type": "code",
   "execution_count": 3,
   "metadata": {
    "ExecuteTime": {
     "end_time": "2019-03-17T11:32:17.798381Z",
     "start_time": "2019-03-17T11:32:13.820340Z"
    }
   },
   "outputs": [],
   "source": [
    "df_soft_bpk = pd.read_excel(r'../../Data/CompInfo/软著著作权.xlsx')\n",
    "df_soft = df_soft_bpk.copy()"
   ]
  },
  {
   "cell_type": "code",
   "execution_count": 4,
   "metadata": {
    "ExecuteTime": {
     "end_time": "2019-03-17T11:32:17.826691Z",
     "start_time": "2019-03-17T11:32:17.800992Z"
    }
   },
   "outputs": [
    {
     "name": "stdout",
     "output_type": "stream",
     "text": [
      "<class 'pandas.core.frame.DataFrame'>\n",
      "RangeIndex: 36858 entries, 0 to 36857\n",
      "Data columns (total 4 columns):\n",
      "企业编号           36858 non-null int64\n",
      "软件全称           36858 non-null object\n",
      "软件著作权版本号       30878 non-null object\n",
      "软件著作权登记批准日期    36818 non-null object\n",
      "dtypes: int64(1), object(3)\n",
      "memory usage: 1.1+ MB\n"
     ]
    }
   ],
   "source": [
    "df_soft.info()"
   ]
  },
  {
   "cell_type": "code",
   "execution_count": 5,
   "metadata": {
    "ExecuteTime": {
     "end_time": "2019-03-17T11:32:17.892698Z",
     "start_time": "2019-03-17T11:32:17.830853Z"
    }
   },
   "outputs": [],
   "source": [
    "new_df_soft = pd.DataFrame(df_soft['企业编号'].value_counts())\n",
    "new_df_soft.columns = ['软著数量']\n",
    "new_df_soft['企业编号'] = new_df_soft.index\n",
    "new_df_soft.sort_values(by=['企业编号'], inplace=True)\n",
    "new_df_soft = new_df_soft[['企业编号', '软著数量']]\n",
    "new_df_soft = new_df_soft.set_index(np.arange(0, len(new_df_soft)))\n",
    "# new_df_soft['软著数量'].describe()\n",
    "# new_df_soft.info()"
   ]
  },
  {
   "cell_type": "markdown",
   "metadata": {},
   "source": [
    "# 作品著作"
   ]
  },
  {
   "cell_type": "code",
   "execution_count": 6,
   "metadata": {
    "ExecuteTime": {
     "end_time": "2019-03-17T11:32:21.047762Z",
     "start_time": "2019-03-17T11:32:17.897777Z"
    }
   },
   "outputs": [],
   "source": [
    "df_zuopin_bpk = pd.read_excel(r'../../Data/CompInfo/作品著作权.xlsx')\n",
    "df_zuopin = df_zuopin_bpk.copy()"
   ]
  },
  {
   "cell_type": "code",
   "execution_count": 7,
   "metadata": {
    "ExecuteTime": {
     "end_time": "2019-03-17T11:32:21.066653Z",
     "start_time": "2019-03-17T11:32:21.050109Z"
    },
    "collapsed": true
   },
   "outputs": [
    {
     "name": "stdout",
     "output_type": "stream",
     "text": [
      "<class 'pandas.core.frame.DataFrame'>\n",
      "RangeIndex: 33555 entries, 0 to 33554\n",
      "Data columns (total 5 columns):\n",
      "企业编号           33555 non-null int64\n",
      "作品著作权类别        33379 non-null object\n",
      "作品著作权登记日期      33178 non-null object\n",
      "作品著作权创作完成日期    32177 non-null object\n",
      "作品著作权首次发布日期    22118 non-null object\n",
      "dtypes: int64(1), object(4)\n",
      "memory usage: 1.3+ MB\n"
     ]
    }
   ],
   "source": [
    "df_zuopin.info()"
   ]
  },
  {
   "cell_type": "code",
   "execution_count": 8,
   "metadata": {
    "ExecuteTime": {
     "end_time": "2019-03-17T11:32:21.155627Z",
     "start_time": "2019-03-17T11:32:21.069822Z"
    },
    "collapsed": true
   },
   "outputs": [
    {
     "data": {
      "text/plain": [
       "美术                     15292\n",
       "文字                     12532\n",
       "F 美术                    1610\n",
       "类似摄制电影方法创作的作品            929\n",
       "其他                       787\n",
       "工程设计图、产品设计图              556\n",
       "摄影                       436\n",
       "美术作品                     333\n",
       "L 其他作品                   226\n",
       "地图、示意图                   187\n",
       "图形                       182\n",
       "J 工程设计图、产品设计图             78\n",
       "变更                        51\n",
       "音乐                        29\n",
       "文字作品                      26\n",
       "作品著作权证书                   23\n",
       "I 类似摄制电影方法创作作品            18\n",
       "B 音乐                      16\n",
       "摄影作品                      13\n",
       "工程设计图、产品设计图作品              8\n",
       "建筑                         5\n",
       "A 文字                       5\n",
       "上海明师科技发展有限公司               4\n",
       "模型                         4\n",
       "赵炜坚                        2\n",
       "张斌                         2\n",
       "佛山市顺德区孔雀廊娱乐唱片有限公司          2\n",
       "音乐作品                       2\n",
       "G 摄影                       2\n",
       "电影和类似摄制电影方法创作的作品           1\n",
       "上海浦东新区陆家嘴财富管理培训中心          1\n",
       "上海思茸信息科技有限公司               1\n",
       "西域圣果                       1\n",
       "上海烛龙信息科技有限公司               1\n",
       "万全                         1\n",
       "张记皇冠                       1\n",
       "电影                         1\n",
       "其他作品                       1\n",
       "上海畅声网络科技有限公司               1\n",
       "高学网络科技（上海）有限公司             1\n",
       "电影作品和类似摄制电影的方法创造的作品        1\n",
       "李鹏                         1\n",
       "H 电影                       1\n",
       "澄心轩                        1\n",
       "舞蹈                         1\n",
       "陈宇鹏                        1\n",
       "曲艺                         1\n",
       "K 地图、示意图                   1\n",
       "Name: 作品著作权类别, dtype: int64"
      ]
     },
     "execution_count": 8,
     "metadata": {},
     "output_type": "execute_result"
    }
   ],
   "source": [
    "df_zuopin = df_zuopin_bpk.copy()\n",
    "df_zuopin['作品著作权类别'].value_counts()"
   ]
  },
  {
   "cell_type": "code",
   "execution_count": 9,
   "metadata": {
    "ExecuteTime": {
     "end_time": "2019-03-17T11:32:21.215490Z",
     "start_time": "2019-03-17T11:32:21.158050Z"
    }
   },
   "outputs": [],
   "source": [
    "# df_zuopin['作品著作权类别'] = df_zuopin['作品著作权类别'].str.replace(\n",
    "#     r'[A-Z]{1}\\s', '', regex=True)\n",
    "# df_zuopin['作品著作权类别'] = df_zuopin['作品著作权类别'].str.replace(\n",
    "#     r'作品', '', regex=True)\n",
    "# df_zuopin['作品著作权类别'] = df_zuopin['作品著作权类别'].str.replace(\n",
    "#     r'类似摄制电影方法创作','电影和类似摄制电影方法创作', regex=True)\n",
    "# df_zuopin['作品著作权类别'].value_counts()"
   ]
  },
  {
   "cell_type": "code",
   "execution_count": 10,
   "metadata": {
    "ExecuteTime": {
     "end_time": "2019-03-17T11:32:21.323948Z",
     "start_time": "2019-03-17T11:32:21.219402Z"
    },
    "collapsed": true
   },
   "outputs": [
    {
     "data": {
      "text/html": [
       "<div>\n",
       "<style scoped>\n",
       "    .dataframe tbody tr th:only-of-type {\n",
       "        vertical-align: middle;\n",
       "    }\n",
       "\n",
       "    .dataframe tbody tr th {\n",
       "        vertical-align: top;\n",
       "    }\n",
       "\n",
       "    .dataframe thead th {\n",
       "        text-align: right;\n",
       "    }\n",
       "</style>\n",
       "<table border=\"1\" class=\"dataframe\">\n",
       "  <thead>\n",
       "    <tr style=\"text-align: right;\">\n",
       "      <th></th>\n",
       "      <th>企业编号</th>\n",
       "      <th>作品著作数量</th>\n",
       "    </tr>\n",
       "  </thead>\n",
       "  <tbody>\n",
       "    <tr>\n",
       "      <th>0</th>\n",
       "      <td>1001</td>\n",
       "      <td>1</td>\n",
       "    </tr>\n",
       "    <tr>\n",
       "      <th>1</th>\n",
       "      <td>1004</td>\n",
       "      <td>6</td>\n",
       "    </tr>\n",
       "    <tr>\n",
       "      <th>2</th>\n",
       "      <td>1006</td>\n",
       "      <td>1</td>\n",
       "    </tr>\n",
       "    <tr>\n",
       "      <th>3</th>\n",
       "      <td>1011</td>\n",
       "      <td>3</td>\n",
       "    </tr>\n",
       "    <tr>\n",
       "      <th>4</th>\n",
       "      <td>1015</td>\n",
       "      <td>1</td>\n",
       "    </tr>\n",
       "    <tr>\n",
       "      <th>5</th>\n",
       "      <td>1019</td>\n",
       "      <td>4</td>\n",
       "    </tr>\n",
       "    <tr>\n",
       "      <th>6</th>\n",
       "      <td>1024</td>\n",
       "      <td>5726</td>\n",
       "    </tr>\n",
       "    <tr>\n",
       "      <th>7</th>\n",
       "      <td>1028</td>\n",
       "      <td>1</td>\n",
       "    </tr>\n",
       "    <tr>\n",
       "      <th>8</th>\n",
       "      <td>1043</td>\n",
       "      <td>31</td>\n",
       "    </tr>\n",
       "    <tr>\n",
       "      <th>9</th>\n",
       "      <td>1045</td>\n",
       "      <td>3</td>\n",
       "    </tr>\n",
       "    <tr>\n",
       "      <th>10</th>\n",
       "      <td>1048</td>\n",
       "      <td>1</td>\n",
       "    </tr>\n",
       "    <tr>\n",
       "      <th>11</th>\n",
       "      <td>1051</td>\n",
       "      <td>2</td>\n",
       "    </tr>\n",
       "    <tr>\n",
       "      <th>12</th>\n",
       "      <td>1055</td>\n",
       "      <td>3</td>\n",
       "    </tr>\n",
       "    <tr>\n",
       "      <th>13</th>\n",
       "      <td>1056</td>\n",
       "      <td>10</td>\n",
       "    </tr>\n",
       "    <tr>\n",
       "      <th>14</th>\n",
       "      <td>1061</td>\n",
       "      <td>7</td>\n",
       "    </tr>\n",
       "    <tr>\n",
       "      <th>15</th>\n",
       "      <td>1066</td>\n",
       "      <td>32</td>\n",
       "    </tr>\n",
       "    <tr>\n",
       "      <th>16</th>\n",
       "      <td>1070</td>\n",
       "      <td>15</td>\n",
       "    </tr>\n",
       "    <tr>\n",
       "      <th>17</th>\n",
       "      <td>1073</td>\n",
       "      <td>1</td>\n",
       "    </tr>\n",
       "    <tr>\n",
       "      <th>18</th>\n",
       "      <td>1080</td>\n",
       "      <td>5</td>\n",
       "    </tr>\n",
       "    <tr>\n",
       "      <th>19</th>\n",
       "      <td>1083</td>\n",
       "      <td>3</td>\n",
       "    </tr>\n",
       "  </tbody>\n",
       "</table>\n",
       "</div>"
      ],
      "text/plain": [
       "    企业编号  作品著作数量\n",
       "0   1001       1\n",
       "1   1004       6\n",
       "2   1006       1\n",
       "3   1011       3\n",
       "4   1015       1\n",
       "5   1019       4\n",
       "6   1024    5726\n",
       "7   1028       1\n",
       "8   1043      31\n",
       "9   1045       3\n",
       "10  1048       1\n",
       "11  1051       2\n",
       "12  1055       3\n",
       "13  1056      10\n",
       "14  1061       7\n",
       "15  1066      32\n",
       "16  1070      15\n",
       "17  1073       1\n",
       "18  1080       5\n",
       "19  1083       3"
      ]
     },
     "execution_count": 10,
     "metadata": {},
     "output_type": "execute_result"
    }
   ],
   "source": [
    "new_df_zuopin = pd.DataFrame(df_zuopin['企业编号'].value_counts())\n",
    "new_df_zuopin.columns = ['作品著作数量']\n",
    "new_df_zuopin['企业编号'] = new_df_zuopin.index\n",
    "new_df_zuopin.sort_values(by=['企业编号'], inplace=True)\n",
    "new_df_zuopin = new_df_zuopin[['企业编号', '作品著作数量']]\n",
    "new_df_zuopin = new_df_zuopin.set_index(np.arange(0, len(new_df_zuopin)))\n",
    "new_df_zuopin.head(n=20)"
   ]
  },
  {
   "cell_type": "code",
   "execution_count": 25,
   "metadata": {
    "ExecuteTime": {
     "end_time": "2019-03-17T11:50:01.726241Z",
     "start_time": "2019-03-17T11:50:01.702952Z"
    },
    "collapsed": true
   },
   "outputs": [
    {
     "data": {
      "text/html": [
       "<div>\n",
       "<style scoped>\n",
       "    .dataframe tbody tr th:only-of-type {\n",
       "        vertical-align: middle;\n",
       "    }\n",
       "\n",
       "    .dataframe tbody tr th {\n",
       "        vertical-align: top;\n",
       "    }\n",
       "\n",
       "    .dataframe thead th {\n",
       "        text-align: right;\n",
       "    }\n",
       "</style>\n",
       "<table border=\"1\" class=\"dataframe\">\n",
       "  <thead>\n",
       "    <tr style=\"text-align: right;\">\n",
       "      <th></th>\n",
       "      <th>企业编号</th>\n",
       "      <th>软著数量</th>\n",
       "      <th>作品著作数量</th>\n",
       "    </tr>\n",
       "  </thead>\n",
       "  <tbody>\n",
       "    <tr>\n",
       "      <th>0</th>\n",
       "      <td>1001</td>\n",
       "      <td>1</td>\n",
       "      <td>1</td>\n",
       "    </tr>\n",
       "    <tr>\n",
       "      <th>1</th>\n",
       "      <td>1002</td>\n",
       "      <td>2</td>\n",
       "      <td>0</td>\n",
       "    </tr>\n",
       "    <tr>\n",
       "      <th>2</th>\n",
       "      <td>1003</td>\n",
       "      <td>2</td>\n",
       "      <td>0</td>\n",
       "    </tr>\n",
       "    <tr>\n",
       "      <th>3</th>\n",
       "      <td>1005</td>\n",
       "      <td>6</td>\n",
       "      <td>0</td>\n",
       "    </tr>\n",
       "    <tr>\n",
       "      <th>4</th>\n",
       "      <td>1006</td>\n",
       "      <td>2</td>\n",
       "      <td>1</td>\n",
       "    </tr>\n",
       "    <tr>\n",
       "      <th>5</th>\n",
       "      <td>1011</td>\n",
       "      <td>13</td>\n",
       "      <td>3</td>\n",
       "    </tr>\n",
       "    <tr>\n",
       "      <th>6</th>\n",
       "      <td>1012</td>\n",
       "      <td>15</td>\n",
       "      <td>0</td>\n",
       "    </tr>\n",
       "    <tr>\n",
       "      <th>7</th>\n",
       "      <td>1013</td>\n",
       "      <td>4</td>\n",
       "      <td>0</td>\n",
       "    </tr>\n",
       "    <tr>\n",
       "      <th>8</th>\n",
       "      <td>1014</td>\n",
       "      <td>41</td>\n",
       "      <td>0</td>\n",
       "    </tr>\n",
       "    <tr>\n",
       "      <th>9</th>\n",
       "      <td>1019</td>\n",
       "      <td>20</td>\n",
       "      <td>4</td>\n",
       "    </tr>\n",
       "  </tbody>\n",
       "</table>\n",
       "</div>"
      ],
      "text/plain": [
       "   企业编号  软著数量  作品著作数量\n",
       "0  1001     1       1\n",
       "1  1002     2       0\n",
       "2  1003     2       0\n",
       "3  1005     6       0\n",
       "4  1006     2       1\n",
       "5  1011    13       3\n",
       "6  1012    15       0\n",
       "7  1013     4       0\n",
       "8  1014    41       0\n",
       "9  1019    20       4"
      ]
     },
     "execution_count": 25,
     "metadata": {},
     "output_type": "execute_result"
    }
   ],
   "source": [
    "merge_zhuzuo_zuopin = (pd.merge(new_df_soft, new_df_zuopin,\n",
    "                                on='企业编号', how='outer')).fillna(0).astype(int)\n",
    "merge_zhuzuo_zuopin.head(n=10)"
   ]
  },
  {
   "cell_type": "code",
   "execution_count": 12,
   "metadata": {
    "ExecuteTime": {
     "end_time": "2019-03-17T11:32:21.606400Z",
     "start_time": "2019-03-17T11:32:21.419989Z"
    }
   },
   "outputs": [],
   "source": [
    "# merge.to_excel(r'./PreprocessedData/软件与作品著作权.xlsx', index=False)"
   ]
  },
  {
   "cell_type": "markdown",
   "metadata": {},
   "source": [
    "# 项目信息"
   ]
  },
  {
   "cell_type": "code",
   "execution_count": 13,
   "metadata": {
    "ExecuteTime": {
     "end_time": "2019-03-17T11:38:54.315177Z",
     "start_time": "2019-03-17T11:38:53.843154Z"
    }
   },
   "outputs": [],
   "source": [
    "df_project_bkp = pd.read_excel(r'../../Data/CompInfo/项目信息.xlsx')\n",
    "df_project = df_project_bkp.copy()"
   ]
  },
  {
   "cell_type": "code",
   "execution_count": 14,
   "metadata": {
    "ExecuteTime": {
     "end_time": "2019-03-17T11:39:04.631505Z",
     "start_time": "2019-03-17T11:39:04.618182Z"
    },
    "collapsed": true
   },
   "outputs": [
    {
     "name": "stdout",
     "output_type": "stream",
     "text": [
      "<class 'pandas.core.frame.DataFrame'>\n",
      "RangeIndex: 3054 entries, 0 to 3053\n",
      "Data columns (total 7 columns):\n",
      "企业编号      3054 non-null int64\n",
      "行业        170 non-null object\n",
      "标签        3047 non-null object\n",
      "企业规模      168 non-null object\n",
      "运营状态      2934 non-null object\n",
      "简介        3026 non-null object\n",
      "项目成立时间    2876 non-null object\n",
      "dtypes: int64(1), object(6)\n",
      "memory usage: 167.1+ KB\n"
     ]
    }
   ],
   "source": [
    "df_project.info()"
   ]
  },
  {
   "cell_type": "code",
   "execution_count": 15,
   "metadata": {
    "ExecuteTime": {
     "end_time": "2019-03-17T11:40:31.648030Z",
     "start_time": "2019-03-17T11:40:31.633318Z"
    }
   },
   "outputs": [
    {
     "data": {
      "text/plain": [
       "运营中    2932\n",
       "融资中       2\n",
       "Name: 运营状态, dtype: int64"
      ]
     },
     "execution_count": 15,
     "metadata": {},
     "output_type": "execute_result"
    }
   ],
   "source": [
    "df_project['运营状态'].value_counts()"
   ]
  },
  {
   "cell_type": "code",
   "execution_count": 20,
   "metadata": {
    "ExecuteTime": {
     "end_time": "2019-03-17T11:48:52.711796Z",
     "start_time": "2019-03-17T11:48:52.682182Z"
    },
    "collapsed": true
   },
   "outputs": [
    {
     "data": {
      "text/html": [
       "<div>\n",
       "<style scoped>\n",
       "    .dataframe tbody tr th:only-of-type {\n",
       "        vertical-align: middle;\n",
       "    }\n",
       "\n",
       "    .dataframe tbody tr th {\n",
       "        vertical-align: top;\n",
       "    }\n",
       "\n",
       "    .dataframe thead th {\n",
       "        text-align: right;\n",
       "    }\n",
       "</style>\n",
       "<table border=\"1\" class=\"dataframe\">\n",
       "  <thead>\n",
       "    <tr style=\"text-align: right;\">\n",
       "      <th></th>\n",
       "      <th>企业编号</th>\n",
       "      <th>项目数量</th>\n",
       "    </tr>\n",
       "  </thead>\n",
       "  <tbody>\n",
       "    <tr>\n",
       "      <th>0</th>\n",
       "      <td>1001</td>\n",
       "      <td>1</td>\n",
       "    </tr>\n",
       "    <tr>\n",
       "      <th>1</th>\n",
       "      <td>1002</td>\n",
       "      <td>1</td>\n",
       "    </tr>\n",
       "    <tr>\n",
       "      <th>2</th>\n",
       "      <td>1003</td>\n",
       "      <td>1</td>\n",
       "    </tr>\n",
       "    <tr>\n",
       "      <th>3</th>\n",
       "      <td>1004</td>\n",
       "      <td>1</td>\n",
       "    </tr>\n",
       "    <tr>\n",
       "      <th>4</th>\n",
       "      <td>1005</td>\n",
       "      <td>1</td>\n",
       "    </tr>\n",
       "    <tr>\n",
       "      <th>5</th>\n",
       "      <td>1006</td>\n",
       "      <td>1</td>\n",
       "    </tr>\n",
       "    <tr>\n",
       "      <th>6</th>\n",
       "      <td>1007</td>\n",
       "      <td>1</td>\n",
       "    </tr>\n",
       "    <tr>\n",
       "      <th>7</th>\n",
       "      <td>1008</td>\n",
       "      <td>1</td>\n",
       "    </tr>\n",
       "    <tr>\n",
       "      <th>8</th>\n",
       "      <td>1009</td>\n",
       "      <td>2</td>\n",
       "    </tr>\n",
       "    <tr>\n",
       "      <th>9</th>\n",
       "      <td>1010</td>\n",
       "      <td>1</td>\n",
       "    </tr>\n",
       "    <tr>\n",
       "      <th>10</th>\n",
       "      <td>1011</td>\n",
       "      <td>1</td>\n",
       "    </tr>\n",
       "    <tr>\n",
       "      <th>11</th>\n",
       "      <td>1012</td>\n",
       "      <td>1</td>\n",
       "    </tr>\n",
       "    <tr>\n",
       "      <th>12</th>\n",
       "      <td>1013</td>\n",
       "      <td>1</td>\n",
       "    </tr>\n",
       "    <tr>\n",
       "      <th>13</th>\n",
       "      <td>1015</td>\n",
       "      <td>1</td>\n",
       "    </tr>\n",
       "    <tr>\n",
       "      <th>14</th>\n",
       "      <td>1016</td>\n",
       "      <td>1</td>\n",
       "    </tr>\n",
       "    <tr>\n",
       "      <th>15</th>\n",
       "      <td>1017</td>\n",
       "      <td>1</td>\n",
       "    </tr>\n",
       "    <tr>\n",
       "      <th>16</th>\n",
       "      <td>1018</td>\n",
       "      <td>1</td>\n",
       "    </tr>\n",
       "    <tr>\n",
       "      <th>17</th>\n",
       "      <td>1019</td>\n",
       "      <td>1</td>\n",
       "    </tr>\n",
       "    <tr>\n",
       "      <th>18</th>\n",
       "      <td>1020</td>\n",
       "      <td>1</td>\n",
       "    </tr>\n",
       "    <tr>\n",
       "      <th>19</th>\n",
       "      <td>1021</td>\n",
       "      <td>1</td>\n",
       "    </tr>\n",
       "  </tbody>\n",
       "</table>\n",
       "</div>"
      ],
      "text/plain": [
       "    企业编号  项目数量\n",
       "0   1001     1\n",
       "1   1002     1\n",
       "2   1003     1\n",
       "3   1004     1\n",
       "4   1005     1\n",
       "5   1006     1\n",
       "6   1007     1\n",
       "7   1008     1\n",
       "8   1009     2\n",
       "9   1010     1\n",
       "10  1011     1\n",
       "11  1012     1\n",
       "12  1013     1\n",
       "13  1015     1\n",
       "14  1016     1\n",
       "15  1017     1\n",
       "16  1018     1\n",
       "17  1019     1\n",
       "18  1020     1\n",
       "19  1021     1"
      ]
     },
     "execution_count": 20,
     "metadata": {},
     "output_type": "execute_result"
    }
   ],
   "source": [
    "new_df_project = pd.DataFrame(\n",
    "    df_project.loc[(df_project['运营状态'] == '运营中'), '企业编号'].value_counts())\n",
    "new_df_project.columns = ['项目数量']\n",
    "new_df_project['企业编号'] = new_df_project.index\n",
    "new_df_project.sort_values(by=['企业编号'], inplace=True)\n",
    "new_df_project = new_df_project[['企业编号', '项目数量']]\n",
    "new_df_project = new_df_project.set_index(np.arange(0, len(new_df_project)))\n",
    "new_df_project.head(n=20)"
   ]
  },
  {
   "cell_type": "code",
   "execution_count": 26,
   "metadata": {
    "ExecuteTime": {
     "end_time": "2019-03-17T11:50:20.473438Z",
     "start_time": "2019-03-17T11:50:20.440347Z"
    }
   },
   "outputs": [
    {
     "data": {
      "text/html": [
       "<div>\n",
       "<style scoped>\n",
       "    .dataframe tbody tr th:only-of-type {\n",
       "        vertical-align: middle;\n",
       "    }\n",
       "\n",
       "    .dataframe tbody tr th {\n",
       "        vertical-align: top;\n",
       "    }\n",
       "\n",
       "    .dataframe thead th {\n",
       "        text-align: right;\n",
       "    }\n",
       "</style>\n",
       "<table border=\"1\" class=\"dataframe\">\n",
       "  <thead>\n",
       "    <tr style=\"text-align: right;\">\n",
       "      <th></th>\n",
       "      <th>企业编号</th>\n",
       "      <th>软著数量</th>\n",
       "      <th>作品著作数量</th>\n",
       "      <th>项目数量</th>\n",
       "    </tr>\n",
       "  </thead>\n",
       "  <tbody>\n",
       "    <tr>\n",
       "      <th>0</th>\n",
       "      <td>1001</td>\n",
       "      <td>1</td>\n",
       "      <td>1</td>\n",
       "      <td>1</td>\n",
       "    </tr>\n",
       "    <tr>\n",
       "      <th>1</th>\n",
       "      <td>1002</td>\n",
       "      <td>2</td>\n",
       "      <td>0</td>\n",
       "      <td>1</td>\n",
       "    </tr>\n",
       "    <tr>\n",
       "      <th>2</th>\n",
       "      <td>1003</td>\n",
       "      <td>2</td>\n",
       "      <td>0</td>\n",
       "      <td>1</td>\n",
       "    </tr>\n",
       "    <tr>\n",
       "      <th>3</th>\n",
       "      <td>1005</td>\n",
       "      <td>6</td>\n",
       "      <td>0</td>\n",
       "      <td>1</td>\n",
       "    </tr>\n",
       "    <tr>\n",
       "      <th>4</th>\n",
       "      <td>1006</td>\n",
       "      <td>2</td>\n",
       "      <td>1</td>\n",
       "      <td>1</td>\n",
       "    </tr>\n",
       "    <tr>\n",
       "      <th>5</th>\n",
       "      <td>1011</td>\n",
       "      <td>13</td>\n",
       "      <td>3</td>\n",
       "      <td>1</td>\n",
       "    </tr>\n",
       "    <tr>\n",
       "      <th>6</th>\n",
       "      <td>1012</td>\n",
       "      <td>15</td>\n",
       "      <td>0</td>\n",
       "      <td>1</td>\n",
       "    </tr>\n",
       "    <tr>\n",
       "      <th>7</th>\n",
       "      <td>1013</td>\n",
       "      <td>4</td>\n",
       "      <td>0</td>\n",
       "      <td>1</td>\n",
       "    </tr>\n",
       "    <tr>\n",
       "      <th>8</th>\n",
       "      <td>1014</td>\n",
       "      <td>41</td>\n",
       "      <td>0</td>\n",
       "      <td>0</td>\n",
       "    </tr>\n",
       "    <tr>\n",
       "      <th>9</th>\n",
       "      <td>1019</td>\n",
       "      <td>20</td>\n",
       "      <td>4</td>\n",
       "      <td>1</td>\n",
       "    </tr>\n",
       "    <tr>\n",
       "      <th>10</th>\n",
       "      <td>1021</td>\n",
       "      <td>16</td>\n",
       "      <td>0</td>\n",
       "      <td>1</td>\n",
       "    </tr>\n",
       "    <tr>\n",
       "      <th>11</th>\n",
       "      <td>1022</td>\n",
       "      <td>473</td>\n",
       "      <td>0</td>\n",
       "      <td>1</td>\n",
       "    </tr>\n",
       "    <tr>\n",
       "      <th>12</th>\n",
       "      <td>1023</td>\n",
       "      <td>1</td>\n",
       "      <td>0</td>\n",
       "      <td>1</td>\n",
       "    </tr>\n",
       "    <tr>\n",
       "      <th>13</th>\n",
       "      <td>1024</td>\n",
       "      <td>9</td>\n",
       "      <td>5726</td>\n",
       "      <td>1</td>\n",
       "    </tr>\n",
       "    <tr>\n",
       "      <th>14</th>\n",
       "      <td>1025</td>\n",
       "      <td>28</td>\n",
       "      <td>0</td>\n",
       "      <td>1</td>\n",
       "    </tr>\n",
       "    <tr>\n",
       "      <th>15</th>\n",
       "      <td>1029</td>\n",
       "      <td>114</td>\n",
       "      <td>0</td>\n",
       "      <td>1</td>\n",
       "    </tr>\n",
       "    <tr>\n",
       "      <th>16</th>\n",
       "      <td>1038</td>\n",
       "      <td>44</td>\n",
       "      <td>0</td>\n",
       "      <td>1</td>\n",
       "    </tr>\n",
       "    <tr>\n",
       "      <th>17</th>\n",
       "      <td>1043</td>\n",
       "      <td>449</td>\n",
       "      <td>31</td>\n",
       "      <td>1</td>\n",
       "    </tr>\n",
       "    <tr>\n",
       "      <th>18</th>\n",
       "      <td>1048</td>\n",
       "      <td>115</td>\n",
       "      <td>1</td>\n",
       "      <td>1</td>\n",
       "    </tr>\n",
       "    <tr>\n",
       "      <th>19</th>\n",
       "      <td>1050</td>\n",
       "      <td>17</td>\n",
       "      <td>0</td>\n",
       "      <td>1</td>\n",
       "    </tr>\n",
       "  </tbody>\n",
       "</table>\n",
       "</div>"
      ],
      "text/plain": [
       "    企业编号  软著数量  作品著作数量  项目数量\n",
       "0   1001     1       1     1\n",
       "1   1002     2       0     1\n",
       "2   1003     2       0     1\n",
       "3   1005     6       0     1\n",
       "4   1006     2       1     1\n",
       "5   1011    13       3     1\n",
       "6   1012    15       0     1\n",
       "7   1013     4       0     1\n",
       "8   1014    41       0     0\n",
       "9   1019    20       4     1\n",
       "10  1021    16       0     1\n",
       "11  1022   473       0     1\n",
       "12  1023     1       0     1\n",
       "13  1024     9    5726     1\n",
       "14  1025    28       0     1\n",
       "15  1029   114       0     1\n",
       "16  1038    44       0     1\n",
       "17  1043   449      31     1\n",
       "18  1048   115       1     1\n",
       "19  1050    17       0     1"
      ]
     },
     "execution_count": 26,
     "metadata": {},
     "output_type": "execute_result"
    }
   ],
   "source": [
    "merge_zhuzuo_zuopin_project = (pd.merge(merge_zhuzuo_zuopin, new_df_project,\n",
    "                                        on='企业编号', how='outer')).fillna(0).astype(int)\n",
    "merge_zhuzuo_zuopin_project.head(n=20)"
   ]
  },
  {
   "cell_type": "markdown",
   "metadata": {},
   "source": [
    "# 纳税A级年份"
   ]
  },
  {
   "cell_type": "code",
   "execution_count": 27,
   "metadata": {
    "ExecuteTime": {
     "end_time": "2019-03-17T11:56:10.620303Z",
     "start_time": "2019-03-17T11:56:10.142710Z"
    }
   },
   "outputs": [],
   "source": [
    "df_nashuiyear_bkp = pd.read_excel(r'../../Data/CompInfo/纳税A级年份.xlsx')\n",
    "df_nashuiyear = df_nashuiyear_bkp.copy()"
   ]
  },
  {
   "cell_type": "code",
   "execution_count": 28,
   "metadata": {
    "ExecuteTime": {
     "end_time": "2019-03-17T11:56:25.318440Z",
     "start_time": "2019-03-17T11:56:25.300435Z"
    }
   },
   "outputs": [
    {
     "name": "stdout",
     "output_type": "stream",
     "text": [
      "<class 'pandas.core.frame.DataFrame'>\n",
      "RangeIndex: 7927 entries, 0 to 7926\n",
      "Data columns (total 2 columns):\n",
      "企业编号      7927 non-null int64\n",
      "纳税A级年份    7927 non-null int64\n",
      "dtypes: int64(2)\n",
      "memory usage: 123.9 KB\n"
     ]
    }
   ],
   "source": [
    "df_nashuiyear.info()"
   ]
  },
  {
   "cell_type": "code",
   "execution_count": 29,
   "metadata": {
    "ExecuteTime": {
     "end_time": "2019-03-17T11:56:55.428317Z",
     "start_time": "2019-03-17T11:56:55.412539Z"
    }
   },
   "outputs": [
    {
     "data": {
      "text/plain": [
       "2016    2380\n",
       "2017    1978\n",
       "2015    1858\n",
       "2014    1711\n",
       "Name: 纳税A级年份, dtype: int64"
      ]
     },
     "execution_count": 29,
     "metadata": {},
     "output_type": "execute_result"
    }
   ],
   "source": [
    "df_nashuiyear['纳税A级年份'].value_counts()"
   ]
  },
  {
   "cell_type": "code",
   "execution_count": 46,
   "metadata": {
    "ExecuteTime": {
     "end_time": "2019-03-17T12:45:50.547820Z",
     "start_time": "2019-03-17T12:45:50.519155Z"
    }
   },
   "outputs": [
    {
     "data": {
      "text/html": [
       "<div>\n",
       "<style scoped>\n",
       "    .dataframe tbody tr th:only-of-type {\n",
       "        vertical-align: middle;\n",
       "    }\n",
       "\n",
       "    .dataframe tbody tr th {\n",
       "        vertical-align: top;\n",
       "    }\n",
       "\n",
       "    .dataframe thead th {\n",
       "        text-align: right;\n",
       "    }\n",
       "</style>\n",
       "<table border=\"1\" class=\"dataframe\">\n",
       "  <thead>\n",
       "    <tr style=\"text-align: right;\">\n",
       "      <th></th>\n",
       "      <th>企业编号</th>\n",
       "      <th>纳税A级年份_2014</th>\n",
       "      <th>纳税A级年份_2015</th>\n",
       "      <th>纳税A级年份_2016</th>\n",
       "      <th>纳税A级年份_2017</th>\n",
       "    </tr>\n",
       "  </thead>\n",
       "  <tbody>\n",
       "    <tr>\n",
       "      <th>0</th>\n",
       "      <td>1001</td>\n",
       "      <td>1</td>\n",
       "      <td>2</td>\n",
       "      <td>1</td>\n",
       "      <td>1</td>\n",
       "    </tr>\n",
       "    <tr>\n",
       "      <th>1</th>\n",
       "      <td>1002</td>\n",
       "      <td>1</td>\n",
       "      <td>1</td>\n",
       "      <td>2</td>\n",
       "      <td>0</td>\n",
       "    </tr>\n",
       "    <tr>\n",
       "      <th>2</th>\n",
       "      <td>1003</td>\n",
       "      <td>1</td>\n",
       "      <td>1</td>\n",
       "      <td>0</td>\n",
       "      <td>1</td>\n",
       "    </tr>\n",
       "    <tr>\n",
       "      <th>3</th>\n",
       "      <td>1004</td>\n",
       "      <td>0</td>\n",
       "      <td>0</td>\n",
       "      <td>2</td>\n",
       "      <td>1</td>\n",
       "    </tr>\n",
       "    <tr>\n",
       "      <th>4</th>\n",
       "      <td>1006</td>\n",
       "      <td>1</td>\n",
       "      <td>1</td>\n",
       "      <td>1</td>\n",
       "      <td>0</td>\n",
       "    </tr>\n",
       "  </tbody>\n",
       "</table>\n",
       "</div>"
      ],
      "text/plain": [
       "   企业编号  纳税A级年份_2014  纳税A级年份_2015  纳税A级年份_2016  纳税A级年份_2017\n",
       "0  1001            1            2            1            1\n",
       "1  1002            1            1            2            0\n",
       "2  1003            1            1            0            1\n",
       "3  1004            0            0            2            1\n",
       "4  1006            1            1            1            0"
      ]
     },
     "execution_count": 46,
     "metadata": {},
     "output_type": "execute_result"
    }
   ],
   "source": [
    "new_df_nashuiyear = df_nashuiyear.groupby(['企业编号', '纳税A级年份'])[\n",
    "    '纳税A级年份'].count().unstack()\n",
    "\n",
    "new_df_nashuiyear['企业编号'] = new_df_nashuiyear.index\n",
    "new_df_nashuiyear = new_df_nashuiyear[['企业编号', 2014, 2015, 2016, 2017]]\n",
    "columns = {'企业编号': '企业编号', 2014: '纳税A级年份_2014', 2015: '纳税A级年份_2015',\n",
    "           2016: '纳税A级年份_2016', 2017: '纳税A级年份_2017'}\n",
    "columns = ['企业编号', '纳税A级年份_2014', '纳税A级年份_2015', '纳税A级年份_2016', '纳税A级年份_2017']\n",
    "# new_df_nashuiyear.rename(columns, inplace=True)\n",
    "new_df_nashuiyear.columns = columns\n",
    "new_df_nashuiyear = new_df_nashuiyear.set_index(\n",
    "    np.arange(0, len(new_df_nashuiyear))).fillna(0).astype(int)\n",
    "new_df_nashuiyear.head(n=5)"
   ]
  },
  {
   "cell_type": "code",
   "execution_count": 47,
   "metadata": {
    "ExecuteTime": {
     "end_time": "2019-03-17T12:46:45.706681Z",
     "start_time": "2019-03-17T12:46:45.674611Z"
    }
   },
   "outputs": [
    {
     "data": {
      "text/html": [
       "<div>\n",
       "<style scoped>\n",
       "    .dataframe tbody tr th:only-of-type {\n",
       "        vertical-align: middle;\n",
       "    }\n",
       "\n",
       "    .dataframe tbody tr th {\n",
       "        vertical-align: top;\n",
       "    }\n",
       "\n",
       "    .dataframe thead th {\n",
       "        text-align: right;\n",
       "    }\n",
       "</style>\n",
       "<table border=\"1\" class=\"dataframe\">\n",
       "  <thead>\n",
       "    <tr style=\"text-align: right;\">\n",
       "      <th></th>\n",
       "      <th>企业编号</th>\n",
       "      <th>软著数量</th>\n",
       "      <th>作品著作数量</th>\n",
       "      <th>项目数量</th>\n",
       "      <th>纳税A级年份_2014</th>\n",
       "      <th>纳税A级年份_2015</th>\n",
       "      <th>纳税A级年份_2016</th>\n",
       "      <th>纳税A级年份_2017</th>\n",
       "    </tr>\n",
       "  </thead>\n",
       "  <tbody>\n",
       "    <tr>\n",
       "      <th>0</th>\n",
       "      <td>1001</td>\n",
       "      <td>1</td>\n",
       "      <td>1</td>\n",
       "      <td>1</td>\n",
       "      <td>1</td>\n",
       "      <td>2</td>\n",
       "      <td>1</td>\n",
       "      <td>1</td>\n",
       "    </tr>\n",
       "    <tr>\n",
       "      <th>1</th>\n",
       "      <td>1002</td>\n",
       "      <td>2</td>\n",
       "      <td>0</td>\n",
       "      <td>1</td>\n",
       "      <td>1</td>\n",
       "      <td>1</td>\n",
       "      <td>2</td>\n",
       "      <td>0</td>\n",
       "    </tr>\n",
       "    <tr>\n",
       "      <th>2</th>\n",
       "      <td>1003</td>\n",
       "      <td>2</td>\n",
       "      <td>0</td>\n",
       "      <td>1</td>\n",
       "      <td>1</td>\n",
       "      <td>1</td>\n",
       "      <td>0</td>\n",
       "      <td>1</td>\n",
       "    </tr>\n",
       "    <tr>\n",
       "      <th>3</th>\n",
       "      <td>1005</td>\n",
       "      <td>6</td>\n",
       "      <td>0</td>\n",
       "      <td>1</td>\n",
       "      <td>0</td>\n",
       "      <td>0</td>\n",
       "      <td>0</td>\n",
       "      <td>0</td>\n",
       "    </tr>\n",
       "    <tr>\n",
       "      <th>4</th>\n",
       "      <td>1006</td>\n",
       "      <td>2</td>\n",
       "      <td>1</td>\n",
       "      <td>1</td>\n",
       "      <td>1</td>\n",
       "      <td>1</td>\n",
       "      <td>1</td>\n",
       "      <td>0</td>\n",
       "    </tr>\n",
       "    <tr>\n",
       "      <th>5</th>\n",
       "      <td>1011</td>\n",
       "      <td>13</td>\n",
       "      <td>3</td>\n",
       "      <td>1</td>\n",
       "      <td>0</td>\n",
       "      <td>0</td>\n",
       "      <td>0</td>\n",
       "      <td>1</td>\n",
       "    </tr>\n",
       "    <tr>\n",
       "      <th>6</th>\n",
       "      <td>1012</td>\n",
       "      <td>15</td>\n",
       "      <td>0</td>\n",
       "      <td>1</td>\n",
       "      <td>1</td>\n",
       "      <td>1</td>\n",
       "      <td>1</td>\n",
       "      <td>1</td>\n",
       "    </tr>\n",
       "    <tr>\n",
       "      <th>7</th>\n",
       "      <td>1013</td>\n",
       "      <td>4</td>\n",
       "      <td>0</td>\n",
       "      <td>1</td>\n",
       "      <td>1</td>\n",
       "      <td>0</td>\n",
       "      <td>1</td>\n",
       "      <td>1</td>\n",
       "    </tr>\n",
       "    <tr>\n",
       "      <th>8</th>\n",
       "      <td>1014</td>\n",
       "      <td>41</td>\n",
       "      <td>0</td>\n",
       "      <td>0</td>\n",
       "      <td>1</td>\n",
       "      <td>1</td>\n",
       "      <td>1</td>\n",
       "      <td>1</td>\n",
       "    </tr>\n",
       "    <tr>\n",
       "      <th>9</th>\n",
       "      <td>1019</td>\n",
       "      <td>20</td>\n",
       "      <td>4</td>\n",
       "      <td>1</td>\n",
       "      <td>0</td>\n",
       "      <td>1</td>\n",
       "      <td>0</td>\n",
       "      <td>0</td>\n",
       "    </tr>\n",
       "    <tr>\n",
       "      <th>10</th>\n",
       "      <td>1021</td>\n",
       "      <td>16</td>\n",
       "      <td>0</td>\n",
       "      <td>1</td>\n",
       "      <td>0</td>\n",
       "      <td>1</td>\n",
       "      <td>0</td>\n",
       "      <td>0</td>\n",
       "    </tr>\n",
       "    <tr>\n",
       "      <th>11</th>\n",
       "      <td>1022</td>\n",
       "      <td>473</td>\n",
       "      <td>0</td>\n",
       "      <td>1</td>\n",
       "      <td>1</td>\n",
       "      <td>0</td>\n",
       "      <td>0</td>\n",
       "      <td>1</td>\n",
       "    </tr>\n",
       "    <tr>\n",
       "      <th>12</th>\n",
       "      <td>1023</td>\n",
       "      <td>1</td>\n",
       "      <td>0</td>\n",
       "      <td>1</td>\n",
       "      <td>1</td>\n",
       "      <td>1</td>\n",
       "      <td>2</td>\n",
       "      <td>2</td>\n",
       "    </tr>\n",
       "    <tr>\n",
       "      <th>13</th>\n",
       "      <td>1024</td>\n",
       "      <td>9</td>\n",
       "      <td>5726</td>\n",
       "      <td>1</td>\n",
       "      <td>1</td>\n",
       "      <td>1</td>\n",
       "      <td>2</td>\n",
       "      <td>1</td>\n",
       "    </tr>\n",
       "    <tr>\n",
       "      <th>14</th>\n",
       "      <td>1025</td>\n",
       "      <td>28</td>\n",
       "      <td>0</td>\n",
       "      <td>1</td>\n",
       "      <td>1</td>\n",
       "      <td>0</td>\n",
       "      <td>0</td>\n",
       "      <td>0</td>\n",
       "    </tr>\n",
       "    <tr>\n",
       "      <th>15</th>\n",
       "      <td>1029</td>\n",
       "      <td>114</td>\n",
       "      <td>0</td>\n",
       "      <td>1</td>\n",
       "      <td>1</td>\n",
       "      <td>1</td>\n",
       "      <td>2</td>\n",
       "      <td>1</td>\n",
       "    </tr>\n",
       "    <tr>\n",
       "      <th>16</th>\n",
       "      <td>1038</td>\n",
       "      <td>44</td>\n",
       "      <td>0</td>\n",
       "      <td>1</td>\n",
       "      <td>0</td>\n",
       "      <td>1</td>\n",
       "      <td>1</td>\n",
       "      <td>1</td>\n",
       "    </tr>\n",
       "    <tr>\n",
       "      <th>17</th>\n",
       "      <td>1043</td>\n",
       "      <td>449</td>\n",
       "      <td>31</td>\n",
       "      <td>1</td>\n",
       "      <td>1</td>\n",
       "      <td>1</td>\n",
       "      <td>2</td>\n",
       "      <td>1</td>\n",
       "    </tr>\n",
       "    <tr>\n",
       "      <th>18</th>\n",
       "      <td>1048</td>\n",
       "      <td>115</td>\n",
       "      <td>1</td>\n",
       "      <td>1</td>\n",
       "      <td>1</td>\n",
       "      <td>2</td>\n",
       "      <td>2</td>\n",
       "      <td>1</td>\n",
       "    </tr>\n",
       "    <tr>\n",
       "      <th>19</th>\n",
       "      <td>1050</td>\n",
       "      <td>17</td>\n",
       "      <td>0</td>\n",
       "      <td>1</td>\n",
       "      <td>1</td>\n",
       "      <td>1</td>\n",
       "      <td>1</td>\n",
       "      <td>1</td>\n",
       "    </tr>\n",
       "  </tbody>\n",
       "</table>\n",
       "</div>"
      ],
      "text/plain": [
       "    企业编号  软著数量  作品著作数量  项目数量  纳税A级年份_2014  纳税A级年份_2015  纳税A级年份_2016  \\\n",
       "0   1001     1       1     1            1            2            1   \n",
       "1   1002     2       0     1            1            1            2   \n",
       "2   1003     2       0     1            1            1            0   \n",
       "3   1005     6       0     1            0            0            0   \n",
       "4   1006     2       1     1            1            1            1   \n",
       "5   1011    13       3     1            0            0            0   \n",
       "6   1012    15       0     1            1            1            1   \n",
       "7   1013     4       0     1            1            0            1   \n",
       "8   1014    41       0     0            1            1            1   \n",
       "9   1019    20       4     1            0            1            0   \n",
       "10  1021    16       0     1            0            1            0   \n",
       "11  1022   473       0     1            1            0            0   \n",
       "12  1023     1       0     1            1            1            2   \n",
       "13  1024     9    5726     1            1            1            2   \n",
       "14  1025    28       0     1            1            0            0   \n",
       "15  1029   114       0     1            1            1            2   \n",
       "16  1038    44       0     1            0            1            1   \n",
       "17  1043   449      31     1            1            1            2   \n",
       "18  1048   115       1     1            1            2            2   \n",
       "19  1050    17       0     1            1            1            1   \n",
       "\n",
       "    纳税A级年份_2017  \n",
       "0             1  \n",
       "1             0  \n",
       "2             1  \n",
       "3             0  \n",
       "4             0  \n",
       "5             1  \n",
       "6             1  \n",
       "7             1  \n",
       "8             1  \n",
       "9             0  \n",
       "10            0  \n",
       "11            1  \n",
       "12            2  \n",
       "13            1  \n",
       "14            0  \n",
       "15            1  \n",
       "16            1  \n",
       "17            1  \n",
       "18            1  \n",
       "19            1  "
      ]
     },
     "execution_count": 47,
     "metadata": {},
     "output_type": "execute_result"
    }
   ],
   "source": [
    "merge_zhuzuo_zuopin_project_nashui = (pd.merge(merge_zhuzuo_zuopin_project, new_df_nashuiyear,\n",
    "                                               on='企业编号', how='outer')).fillna(0).astype(int)\n",
    "merge_zhuzuo_zuopin_project_nashui.head(n=20)"
   ]
  },
  {
   "cell_type": "markdown",
   "metadata": {},
   "source": [
    "# 融资情况"
   ]
  },
  {
   "cell_type": "code",
   "execution_count": 49,
   "metadata": {
    "ExecuteTime": {
     "end_time": "2019-03-17T12:57:29.849184Z",
     "start_time": "2019-03-17T12:57:29.353148Z"
    }
   },
   "outputs": [],
   "source": [
    "# df_rongzi_bkp = pd.read_excel(r'../../Data/CompInfo/融资信息.xlsx')\n",
    "# df_rongzi = df_rongzi_bkp.copy()"
   ]
  },
  {
   "cell_type": "code",
   "execution_count": 51,
   "metadata": {
    "ExecuteTime": {
     "end_time": "2019-03-17T12:57:39.625267Z",
     "start_time": "2019-03-17T12:57:39.605387Z"
    },
    "collapsed": true
   },
   "outputs": [
    {
     "name": "stdout",
     "output_type": "stream",
     "text": [
      "<class 'pandas.core.frame.DataFrame'>\n",
      "RangeIndex: 4526 entries, 0 to 4525\n",
      "Data columns (total 4 columns):\n",
      "企业编号    4526 non-null int64\n",
      "融资日期    4516 non-null object\n",
      "轮次      4526 non-null object\n",
      "投资金额    4482 non-null object\n",
      "dtypes: int64(1), object(3)\n",
      "memory usage: 141.5+ KB\n"
     ]
    }
   ],
   "source": [
    "# df_rongzi.info()"
   ]
  },
  {
   "cell_type": "code",
   "execution_count": 52,
   "metadata": {
    "ExecuteTime": {
     "end_time": "2019-03-17T12:59:50.330357Z",
     "start_time": "2019-03-17T12:59:50.321155Z"
    },
    "collapsed": true
   },
   "outputs": [
    {
     "data": {
      "text/plain": [
       "IPO        2886\n",
       "战略投资        629\n",
       "A轮          283\n",
       "上市          138\n",
       "主板定向增发      126\n",
       "B轮           94\n",
       "天使轮          80\n",
       "股权转让         79\n",
       "被收购          36\n",
       "C轮           34\n",
       "新三板          29\n",
       "Pre-A轮       16\n",
       "D轮           15\n",
       "上市后          13\n",
       "新三板定增        11\n",
       "债权融资          9\n",
       "IPO后          7\n",
       "E轮            6\n",
       "Pre-IPO       5\n",
       "A+轮           5\n",
       "私有化           5\n",
       "后期阶段          4\n",
       "E轮及以后         4\n",
       "B+轮           3\n",
       "种子轮           3\n",
       "F轮            2\n",
       "并购            2\n",
       "战略合并          1\n",
       "C+轮           1\n",
       "Name: 轮次, dtype: int64"
      ]
     },
     "execution_count": 52,
     "metadata": {},
     "output_type": "execute_result"
    }
   ],
   "source": [
    "# df_rongzi['轮次'].value_counts()"
   ]
  },
  {
   "cell_type": "markdown",
   "metadata": {},
   "source": [
    "# 资质认证"
   ]
  },
  {
   "cell_type": "code",
   "execution_count": 53,
   "metadata": {
    "ExecuteTime": {
     "end_time": "2019-03-17T13:07:06.441583Z",
     "start_time": "2019-03-17T13:06:51.242776Z"
    }
   },
   "outputs": [],
   "source": [
    "df_zizhi_bkp = pd.read_excel(r'../../Data/CompInfo/资质认证.xlsx')\n",
    "df_zizhi = df_zizhi_bkp.copy()"
   ]
  },
  {
   "cell_type": "code",
   "execution_count": 54,
   "metadata": {
    "ExecuteTime": {
     "end_time": "2019-03-17T13:07:23.055136Z",
     "start_time": "2019-03-17T13:07:22.997445Z"
    }
   },
   "outputs": [
    {
     "name": "stdout",
     "output_type": "stream",
     "text": [
      "<class 'pandas.core.frame.DataFrame'>\n",
      "RangeIndex: 169898 entries, 0 to 169897\n",
      "Data columns (total 5 columns):\n",
      "企业编号       169898 non-null int64\n",
      "证书名称       169898 non-null object\n",
      "有效期起止日期    161662 non-null object\n",
      "有效期截至日期    124035 non-null object\n",
      "状态         148665 non-null object\n",
      "dtypes: int64(1), object(4)\n",
      "memory usage: 6.5+ MB\n"
     ]
    }
   ],
   "source": [
    "df_zizhi.info()"
   ]
  },
  {
   "cell_type": "code",
   "execution_count": 59,
   "metadata": {
    "ExecuteTime": {
     "end_time": "2019-03-17T13:15:42.211191Z",
     "start_time": "2019-03-17T13:15:42.168310Z"
    }
   },
   "outputs": [
    {
     "data": {
      "text/plain": [
       "有效           70917\n",
       "已注销          28220\n",
       "注销           15805\n",
       "已撤销          12601\n",
       "过期失效          9762\n",
       "撤销            9719\n",
       "暂停             580\n",
       "已暂停            494\n",
       "当前批件           238\n",
       "已过期            212\n",
       "延续              41\n",
       "变更              23\n",
       "正常              16\n",
       "历史批件            14\n",
       "旧版               7\n",
       "注销(非申请)          5\n",
       "新立               5\n",
       "无效（依申请注销）        3\n",
       "无效（逾期未换证）        2\n",
       "证书注销             1\n",
       "Name: 状态, dtype: int64"
      ]
     },
     "execution_count": 59,
     "metadata": {},
     "output_type": "execute_result"
    }
   ],
   "source": [
    "df_zizhi = df_zizhi_bkp.copy()\n",
    "df_zizhi['状态'].value_counts()"
   ]
  },
  {
   "cell_type": "code",
   "execution_count": 62,
   "metadata": {
    "ExecuteTime": {
     "end_time": "2019-03-17T13:27:47.263136Z",
     "start_time": "2019-03-17T13:27:47.210031Z"
    }
   },
   "outputs": [
    {
     "ename": "ValueError",
     "evalue": "The truth value of a Series is ambiguous. Use a.empty, a.bool(), a.item(), a.any() or a.all().",
     "output_type": "error",
     "traceback": [
      "\u001b[0;31m---------------------------------------------------------------------------\u001b[0m",
      "\u001b[0;31mValueError\u001b[0m                                Traceback (most recent call last)",
      "\u001b[0;32m<ipython-input-62-b11dc6afe07c>\u001b[0m in \u001b[0;36m<module>\u001b[0;34m\u001b[0m\n\u001b[1;32m      2\u001b[0m \u001b[0mnew_df_zizhi\u001b[0m \u001b[0;34m=\u001b[0m \u001b[0mdf_zizhi\u001b[0m\u001b[0;34m.\u001b[0m\u001b[0mloc\u001b[0m\u001b[0;34m[\u001b[0m\u001b[0;34m(\u001b[0m\u001b[0mdf_zizhi\u001b[0m\u001b[0;34m[\u001b[0m\u001b[0;34m'状态'\u001b[0m\u001b[0;34m]\u001b[0m\u001b[0;34m.\u001b[0m\u001b[0mnotnull\u001b[0m\u001b[0;34m(\u001b[0m\u001b[0;34m)\u001b[0m\u001b[0;34m)\u001b[0m\u001b[0;34m]\u001b[0m\u001b[0;34m\u001b[0m\u001b[0;34m\u001b[0m\u001b[0m\n\u001b[1;32m      3\u001b[0m \u001b[0mnew_df_zizhi\u001b[0m \u001b[0;34m=\u001b[0m \u001b[0mnew_df_zizhi\u001b[0m\u001b[0;34m.\u001b[0m\u001b[0mloc\u001b[0m\u001b[0;34m[\u001b[0m\u001b[0;34m(\u001b[0m\u001b[0mnew_df_zizhi\u001b[0m\u001b[0;34m[\u001b[0m\u001b[0;34m'有效期截至日期'\u001b[0m\u001b[0;34m]\u001b[0m\u001b[0;34m.\u001b[0m\u001b[0mnotnull\u001b[0m\u001b[0;34m(\u001b[0m\u001b[0;34m)\u001b[0m\u001b[0;34m)\u001b[0m\u001b[0;34m]\u001b[0m\u001b[0;34m\u001b[0m\u001b[0;34m\u001b[0m\u001b[0m\n\u001b[0;32m----> 4\u001b[0;31m \u001b[0mnew_df_zizhi\u001b[0m \u001b[0;34m=\u001b[0m \u001b[0mnew_df_zizhi\u001b[0m\u001b[0;34m.\u001b[0m\u001b[0mloc\u001b[0m\u001b[0;34m[\u001b[0m\u001b[0;34m(\u001b[0m\u001b[0mdf_zizhi\u001b[0m\u001b[0;34m[\u001b[0m\u001b[0;34m'状态'\u001b[0m\u001b[0;34m]\u001b[0m \u001b[0;32min\u001b[0m \u001b[0mstatus\u001b[0m\u001b[0;34m)\u001b[0m\u001b[0;34m]\u001b[0m\u001b[0;34m\u001b[0m\u001b[0;34m\u001b[0m\u001b[0m\n\u001b[0m\u001b[1;32m      5\u001b[0m \u001b[0;31m# df_zizhi = df_zizhi.loc[(df_zizhi['状态 '] == '有效')]\u001b[0m\u001b[0;34m\u001b[0m\u001b[0;34m\u001b[0m\u001b[0;34m\u001b[0m\u001b[0m\n",
      "\u001b[0;32m~/anaconda3/lib/python3.6/site-packages/pandas/core/generic.py\u001b[0m in \u001b[0;36m__nonzero__\u001b[0;34m(self)\u001b[0m\n\u001b[1;32m   1477\u001b[0m         raise ValueError(\"The truth value of a {0} is ambiguous. \"\n\u001b[1;32m   1478\u001b[0m                          \u001b[0;34m\"Use a.empty, a.bool(), a.item(), a.any() or a.all().\"\u001b[0m\u001b[0;34m\u001b[0m\u001b[0;34m\u001b[0m\u001b[0m\n\u001b[0;32m-> 1479\u001b[0;31m                          .format(self.__class__.__name__))\n\u001b[0m\u001b[1;32m   1480\u001b[0m \u001b[0;34m\u001b[0m\u001b[0m\n\u001b[1;32m   1481\u001b[0m     \u001b[0m__bool__\u001b[0m \u001b[0;34m=\u001b[0m \u001b[0m__nonzero__\u001b[0m\u001b[0;34m\u001b[0m\u001b[0;34m\u001b[0m\u001b[0m\n",
      "\u001b[0;31mValueError\u001b[0m: The truth value of a Series is ambiguous. Use a.empty, a.bool(), a.item(), a.any() or a.all()."
     ]
    }
   ],
   "source": [
    "status = ['有效', '延续', '变更', '正常', '新立']\n",
    "new_df_zizhi = df_zizhi.loc[(df_zizhi['状态'].notnull() and df_zizhi['有效期截至日期'].notnull())]\n",
    "# new_df_zizhi = new_df_zizhi.loc[(new_df_zizhi['有效期截至日期'].notnull())]\n",
    "# df_zizhi = df_zizhi.loc[(df_zizhi['状态 '] == '有效')]"
   ]
  },
  {
   "cell_type": "code",
   "execution_count": null,
   "metadata": {},
   "outputs": [],
   "source": []
  }
 ],
 "metadata": {
  "kernelspec": {
   "display_name": "Python 3",
   "language": "python",
   "name": "python3"
  },
  "language_info": {
   "codemirror_mode": {
    "name": "ipython",
    "version": 3
   },
   "file_extension": ".py",
   "mimetype": "text/x-python",
   "name": "python",
   "nbconvert_exporter": "python",
   "pygments_lexer": "ipython3",
   "version": "3.6.8"
  },
  "toc": {
   "base_numbering": 1,
   "nav_menu": {},
   "number_sections": true,
   "sideBar": true,
   "skip_h1_title": false,
   "title_cell": "Table of Contents",
   "title_sidebar": "Contents",
   "toc_cell": false,
   "toc_position": {},
   "toc_section_display": true,
   "toc_window_display": false
  },
  "varInspector": {
   "cols": {
    "lenName": 16,
    "lenType": 16,
    "lenVar": 40
   },
   "kernels_config": {
    "python": {
     "delete_cmd_postfix": "",
     "delete_cmd_prefix": "del ",
     "library": "var_list.py",
     "varRefreshCmd": "print(var_dic_list())"
    },
    "r": {
     "delete_cmd_postfix": ") ",
     "delete_cmd_prefix": "rm(",
     "library": "var_list.r",
     "varRefreshCmd": "cat(var_dic_list()) "
    }
   },
   "types_to_exclude": [
    "module",
    "function",
    "builtin_function_or_method",
    "instance",
    "_Feature"
   ],
   "window_display": false
  }
 },
 "nbformat": 4,
 "nbformat_minor": 2
}
