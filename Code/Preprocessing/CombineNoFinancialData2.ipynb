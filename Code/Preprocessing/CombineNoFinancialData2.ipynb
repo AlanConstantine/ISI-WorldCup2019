{
 "cells": [
  {
   "cell_type": "code",
   "execution_count": 1,
   "metadata": {
    "ExecuteTime": {
     "end_time": "2019-03-23T14:50:19.877986Z",
     "start_time": "2019-03-23T14:50:19.128727Z"
    }
   },
   "outputs": [],
   "source": [
    "from IPython.display import display\n",
    "import matplotlib.pyplot as plt\n",
    "import pandas as pd\n",
    "import numpy as np\n",
    "import seaborn as sns\n",
    "import matplotlib as mpl\n",
    "import warnings\n",
    "import time\n",
    "from collections import Counter\n",
    "warnings.filterwarnings(\"ignore\")\n",
    "\n",
    "\n",
    "plt.style.use(\"fivethirtyeight\")\n",
    "\n",
    "sns.set_style({'font.sans-serif': ['simsun', 'Arial']})\n",
    "sns.set_style('darkgrid', {'font.sans-serif': ['simhei', 'Arial']})\n",
    "%matplotlib inline"
   ]
  },
  {
   "cell_type": "code",
   "execution_count": 2,
   "metadata": {
    "ExecuteTime": {
     "end_time": "2019-03-23T14:50:19.883206Z",
     "start_time": "2019-03-23T14:50:19.880504Z"
    }
   },
   "outputs": [],
   "source": [
    "res = {}"
   ]
  },
  {
   "cell_type": "markdown",
   "metadata": {},
   "source": [
    "# 年报-对外投资信息"
   ]
  },
  {
   "cell_type": "code",
   "execution_count": 3,
   "metadata": {
    "ExecuteTime": {
     "end_time": "2019-03-23T14:50:24.685325Z",
     "start_time": "2019-03-23T14:50:19.886746Z"
    }
   },
   "outputs": [],
   "source": [
    "df_nianbao_touzi_bkp = pd.read_excel(r'../../Data/CompInfo/年报-对外投资信息.xlsx')"
   ]
  },
  {
   "cell_type": "code",
   "execution_count": 4,
   "metadata": {
    "ExecuteTime": {
     "end_time": "2019-03-23T14:50:24.713251Z",
     "start_time": "2019-03-23T14:50:24.689223Z"
    }
   },
   "outputs": [],
   "source": [
    "df_nianbao_touzi = df_nianbao_touzi_bkp.copy()"
   ]
  },
  {
   "cell_type": "code",
   "execution_count": 5,
   "metadata": {
    "ExecuteTime": {
     "end_time": "2019-03-23T14:50:24.796051Z",
     "start_time": "2019-03-23T14:50:24.716349Z"
    }
   },
   "outputs": [
    {
     "name": "stdout",
     "output_type": "stream",
     "text": [
      "<class 'pandas.core.frame.DataFrame'>\n",
      "RangeIndex: 93369 entries, 0 to 93368\n",
      "Data columns (total 4 columns):\n",
      "企业编号    93369 non-null int64\n",
      "投资金额    1456 non-null float64\n",
      "投资占比    1456 non-null float64\n",
      "年报年份    93367 non-null float64\n",
      "dtypes: float64(3), int64(1)\n",
      "memory usage: 2.8 MB\n"
     ]
    }
   ],
   "source": [
    "df_nianbao_touzi.info()"
   ]
  },
  {
   "cell_type": "code",
   "execution_count": 6,
   "metadata": {
    "ExecuteTime": {
     "end_time": "2019-03-23T14:50:24.880287Z",
     "start_time": "2019-03-23T14:50:24.798055Z"
    }
   },
   "outputs": [
    {
     "data": {
      "text/html": [
       "<div>\n",
       "<style scoped>\n",
       "    .dataframe tbody tr th:only-of-type {\n",
       "        vertical-align: middle;\n",
       "    }\n",
       "\n",
       "    .dataframe tbody tr th {\n",
       "        vertical-align: top;\n",
       "    }\n",
       "\n",
       "    .dataframe thead th {\n",
       "        text-align: right;\n",
       "    }\n",
       "</style>\n",
       "<table border=\"1\" class=\"dataframe\">\n",
       "  <thead>\n",
       "    <tr style=\"text-align: right;\">\n",
       "      <th></th>\n",
       "      <th>投资金额_sum</th>\n",
       "      <th>投资金额_min</th>\n",
       "      <th>投资金额_max</th>\n",
       "      <th>投资次数</th>\n",
       "      <th>企业编号</th>\n",
       "    </tr>\n",
       "    <tr>\n",
       "      <th>企业编号</th>\n",
       "      <th></th>\n",
       "      <th></th>\n",
       "      <th></th>\n",
       "      <th></th>\n",
       "      <th></th>\n",
       "    </tr>\n",
       "  </thead>\n",
       "  <tbody>\n",
       "    <tr>\n",
       "      <th>1028</th>\n",
       "      <td>3703345.70</td>\n",
       "      <td>11600.0</td>\n",
       "      <td>3208193.70</td>\n",
       "      <td>7</td>\n",
       "      <td>1028</td>\n",
       "    </tr>\n",
       "    <tr>\n",
       "      <th>1134</th>\n",
       "      <td>170384.71</td>\n",
       "      <td>3.0</td>\n",
       "      <td>25505.71</td>\n",
       "      <td>56</td>\n",
       "      <td>1134</td>\n",
       "    </tr>\n",
       "  </tbody>\n",
       "</table>\n",
       "</div>"
      ],
      "text/plain": [
       "        投资金额_sum  投资金额_min    投资金额_max  投资次数  企业编号\n",
       "企业编号                                              \n",
       "1028  3703345.70   11600.0  3208193.70     7  1028\n",
       "1134   170384.71       3.0    25505.71    56  1134"
      ]
     },
     "execution_count": 6,
     "metadata": {},
     "output_type": "execute_result"
    }
   ],
   "source": [
    "df_nianbao_touzi_clean = df_nianbao_touzi.loc[(\n",
    "    df_nianbao_touzi['投资金额'].notnull())]\n",
    "\n",
    "agg_func = {\n",
    "    '投资金额': ['sum', 'min', 'max'],\n",
    "    '企业编号': ['count']\n",
    "}\n",
    "df_nianbao_touzi_group = df_nianbao_touzi_clean.groupby(\n",
    "    ['企业编号']).agg(agg_func)\n",
    "df_nianbao_touzi_group.columns = [\n",
    "    '_'.join(col).strip() for col in df_nianbao_touzi_group.columns.values]\n",
    "df_nianbao_touzi_group['企业编号'] = df_nianbao_touzi_group.index\n",
    "df_nianbao_touzi_group.rename(columns={'企业编号_count': '投资次数'}, inplace=True)\n",
    "df_nianbao_touzi_group.head(n=2)"
   ]
  },
  {
   "cell_type": "code",
   "execution_count": 7,
   "metadata": {
    "ExecuteTime": {
     "end_time": "2019-03-23T14:50:24.965980Z",
     "start_time": "2019-03-23T14:50:24.882178Z"
    }
   },
   "outputs": [],
   "source": [
    "res['年报-对外投资信息'] = df_nianbao_touzi_group"
   ]
  },
  {
   "cell_type": "markdown",
   "metadata": {},
   "source": [
    "# 年报-股东股权转让"
   ]
  },
  {
   "cell_type": "code",
   "execution_count": 8,
   "metadata": {
    "ExecuteTime": {
     "end_time": "2019-03-23T14:50:25.617458Z",
     "start_time": "2019-03-23T14:50:24.972049Z"
    }
   },
   "outputs": [],
   "source": [
    "df_nianbao_gudongguquanzhuanrang_bkp = pd.read_excel(\n",
    "    r'../../Data/CompInfo/年报-股东股权转让.xlsx')"
   ]
  },
  {
   "cell_type": "code",
   "execution_count": 11,
   "metadata": {
    "ExecuteTime": {
     "end_time": "2019-03-23T14:51:43.808026Z",
     "start_time": "2019-03-23T14:51:43.788576Z"
    }
   },
   "outputs": [
    {
     "name": "stdout",
     "output_type": "stream",
     "text": [
      "<class 'pandas.core.frame.DataFrame'>\n",
      "RangeIndex: 6855 entries, 0 to 6854\n",
      "Data columns (total 5 columns):\n",
      "企业编号       6855 non-null int64\n",
      "变更前股权比例    5010 non-null object\n",
      "变更后股权比例    5015 non-null object\n",
      "股权变更日期     5022 non-null object\n",
      "年报年份       6849 non-null float64\n",
      "dtypes: float64(1), int64(1), object(3)\n",
      "memory usage: 267.9+ KB\n"
     ]
    }
   ],
   "source": [
    "df_nianbao_gudongguquanzhuanrang = df_nianbao_gudongguquanzhuanrang_bkp.copy()\n",
    "df_nianbao_gudongguquanzhuanrang.info()"
   ]
  },
  {
   "cell_type": "code",
   "execution_count": 12,
   "metadata": {
    "ExecuteTime": {
     "end_time": "2019-03-23T14:51:46.969311Z",
     "start_time": "2019-03-23T14:51:46.830889Z"
    }
   },
   "outputs": [
    {
     "data": {
      "text/html": [
       "<div>\n",
       "<style scoped>\n",
       "    .dataframe tbody tr th:only-of-type {\n",
       "        vertical-align: middle;\n",
       "    }\n",
       "\n",
       "    .dataframe tbody tr th {\n",
       "        vertical-align: top;\n",
       "    }\n",
       "\n",
       "    .dataframe thead th {\n",
       "        text-align: right;\n",
       "    }\n",
       "</style>\n",
       "<table border=\"1\" class=\"dataframe\">\n",
       "  <thead>\n",
       "    <tr style=\"text-align: right;\">\n",
       "      <th></th>\n",
       "      <th>变更股权比例差_sum</th>\n",
       "      <th>变更股权比例差_max</th>\n",
       "      <th>变更股权比例差_min</th>\n",
       "      <th>变更前股权比例_sum</th>\n",
       "      <th>变更后股权比例_sum</th>\n",
       "      <th>变更次数</th>\n",
       "      <th>企业编号</th>\n",
       "    </tr>\n",
       "    <tr>\n",
       "      <th>企业编号</th>\n",
       "      <th></th>\n",
       "      <th></th>\n",
       "      <th></th>\n",
       "      <th></th>\n",
       "      <th></th>\n",
       "      <th></th>\n",
       "      <th></th>\n",
       "    </tr>\n",
       "  </thead>\n",
       "  <tbody>\n",
       "    <tr>\n",
       "      <th>1001</th>\n",
       "      <td>5.24</td>\n",
       "      <td>2.60</td>\n",
       "      <td>-0.80</td>\n",
       "      <td>90.35</td>\n",
       "      <td>95.59</td>\n",
       "      <td>11</td>\n",
       "      <td>1001</td>\n",
       "    </tr>\n",
       "    <tr>\n",
       "      <th>1002</th>\n",
       "      <td>-10.91</td>\n",
       "      <td>-10.91</td>\n",
       "      <td>-10.91</td>\n",
       "      <td>61.96</td>\n",
       "      <td>51.05</td>\n",
       "      <td>1</td>\n",
       "      <td>1002</td>\n",
       "    </tr>\n",
       "    <tr>\n",
       "      <th>1013</th>\n",
       "      <td>-13.89</td>\n",
       "      <td>1.11</td>\n",
       "      <td>-15.00</td>\n",
       "      <td>43.90</td>\n",
       "      <td>30.01</td>\n",
       "      <td>2</td>\n",
       "      <td>1013</td>\n",
       "    </tr>\n",
       "  </tbody>\n",
       "</table>\n",
       "</div>"
      ],
      "text/plain": [
       "      变更股权比例差_sum  变更股权比例差_max  变更股权比例差_min  变更前股权比例_sum  变更后股权比例_sum  变更次数  \\\n",
       "企业编号                                                                          \n",
       "1001         5.24         2.60        -0.80        90.35        95.59    11   \n",
       "1002       -10.91       -10.91       -10.91        61.96        51.05     1   \n",
       "1013       -13.89         1.11       -15.00        43.90        30.01     2   \n",
       "\n",
       "      企业编号  \n",
       "企业编号        \n",
       "1001  1001  \n",
       "1002  1002  \n",
       "1013  1013  "
      ]
     },
     "execution_count": 12,
     "metadata": {},
     "output_type": "execute_result"
    }
   ],
   "source": [
    "df_nianbao_gudongguquanzhuanrang['变更前股权比例'] = df_nianbao_gudongguquanzhuanrang['变更前股权比例'].str.rstrip(\n",
    "    '%').astype(float)\n",
    "df_nianbao_gudongguquanzhuanrang_clean = df_nianbao_gudongguquanzhuanrang.loc[(\n",
    "    df_nianbao_gudongguquanzhuanrang['变更后股权比例'].notnull())]\n",
    "df_nianbao_gudongguquanzhuanrang_clean['变更后股权比例'] = df_nianbao_gudongguquanzhuanrang_clean[~df_nianbao_gudongguquanzhuanrang_clean[\"变更后股权比例\"].str.contains(\n",
    "    '-')]['变更后股权比例'].str.rstrip('%').astype(float)\n",
    "\n",
    "df_nianbao_gudongguquanzhuanrang_clean['变更股权比例差'] = df_nianbao_gudongguquanzhuanrang_clean['变更后股权比例'] - \\\n",
    "    df_nianbao_gudongguquanzhuanrang_clean['变更前股权比例']\n",
    "# df_nianbao_gudongguquanzhuanrang_clean.head(n=3)\n",
    "agg_func = {\n",
    "    '变更股权比例差': ['sum', 'max', 'min'],\n",
    "    '变更前股权比例': ['sum'],\n",
    "    '变更后股权比例': ['sum'],\n",
    "    '企业编号': ['count']\n",
    "}\n",
    "df_nianbao_gudongguquanzhuanrang_clean_new = df_nianbao_gudongguquanzhuanrang_clean.groupby([\n",
    "                                                                                            '企业编号']).agg(agg_func)\n",
    "df_nianbao_gudongguquanzhuanrang_clean_new.columns = [\n",
    "    '_'.join(col) for col in df_nianbao_gudongguquanzhuanrang_clean_new.columns.values]\n",
    "df_nianbao_gudongguquanzhuanrang_clean_new.columns = [\n",
    "    '变更股权比例差_sum', '变更股权比例差_max', '变更股权比例差_min', '变更前股权比例_sum', '变更后股权比例_sum', '变更次数']\n",
    "df_nianbao_gudongguquanzhuanrang_clean_new['企业编号'] = df_nianbao_gudongguquanzhuanrang_clean_new.index\n",
    "df_nianbao_gudongguquanzhuanrang_clean_new.head(n=3)"
   ]
  },
  {
   "cell_type": "code",
   "execution_count": 13,
   "metadata": {
    "ExecuteTime": {
     "end_time": "2019-03-23T14:51:51.644627Z",
     "start_time": "2019-03-23T14:51:51.637505Z"
    }
   },
   "outputs": [],
   "source": [
    "res['年报-股东股权转让'] = df_nianbao_gudongguquanzhuanrang_clean_new"
   ]
  },
  {
   "cell_type": "markdown",
   "metadata": {},
   "source": [
    "# 工商基本信息表"
   ]
  },
  {
   "cell_type": "code",
   "execution_count": 14,
   "metadata": {
    "ExecuteTime": {
     "end_time": "2019-03-23T14:51:55.429327Z",
     "start_time": "2019-03-23T14:51:54.639798Z"
    }
   },
   "outputs": [],
   "source": [
    "df_gongshangxinxi_bkp = pd.read_excel(r'../../Data/CompInfo/工商基本信息表.xlsx')"
   ]
  },
  {
   "cell_type": "code",
   "execution_count": 74,
   "metadata": {
    "ExecuteTime": {
     "end_time": "2019-03-23T16:28:03.144088Z",
     "start_time": "2019-03-23T16:28:03.122602Z"
    }
   },
   "outputs": [
    {
     "name": "stdout",
     "output_type": "stream",
     "text": [
      "<class 'pandas.core.frame.DataFrame'>\n",
      "RangeIndex: 3000 entries, 0 to 2999\n",
      "Data columns (total 19 columns):\n",
      "企业编号          3000 non-null int64\n",
      "注册资本（万元）      3000 non-null float64\n",
      "注册资本币种(正则)    3000 non-null object\n",
      "成立日期          3000 non-null object\n",
      "经营状态          3000 non-null object\n",
      "行业大类（代码）      2999 non-null object\n",
      "行业小类（代码）      2999 non-null object\n",
      "类型            3000 non-null object\n",
      "省份代码          3000 non-null int64\n",
      "城市代码          3000 non-null int64\n",
      "地区代码          3000 non-null int64\n",
      "是否上市          3000 non-null object\n",
      "经营期限自         2987 non-null object\n",
      "经营期限至         521 non-null object\n",
      "登记机关区域代码      2992 non-null float64\n",
      "发照日期          2979 non-null object\n",
      "员工人数          2986 non-null float64\n",
      "注销原因          227 non-null object\n",
      "注销时间          1 non-null object\n",
      "dtypes: float64(3), int64(4), object(12)\n",
      "memory usage: 445.4+ KB\n"
     ]
    }
   ],
   "source": [
    "df_gongshangxinxi = df_gongshangxinxi_bkp.copy()\n",
    "df_gongshangxinxi.info()"
   ]
  },
  {
   "cell_type": "code",
   "execution_count": 75,
   "metadata": {
    "ExecuteTime": {
     "end_time": "2019-03-23T16:28:05.728969Z",
     "start_time": "2019-03-23T16:28:05.720792Z"
    }
   },
   "outputs": [
    {
     "data": {
      "text/plain": [
       "存续（在营、开业、在册）    1762\n",
       "在营（开业）企业         401\n",
       "存续               362\n",
       "开业               343\n",
       "在业                63\n",
       "存续(在营、开业、在册)      48\n",
       "迁出                21\n",
       "Name: 经营状态, dtype: int64"
      ]
     },
     "execution_count": 75,
     "metadata": {},
     "output_type": "execute_result"
    }
   ],
   "source": [
    "df_gongshangxinxi['经营状态'].value_counts()"
   ]
  },
  {
   "cell_type": "code",
   "execution_count": 76,
   "metadata": {
    "ExecuteTime": {
     "end_time": "2019-03-23T16:28:08.279773Z",
     "start_time": "2019-03-23T16:28:08.258887Z"
    }
   },
   "outputs": [
    {
     "data": {
      "text/plain": [
       "开业              2569\n",
       "存续               362\n",
       "存续(在营、开业、在册)      48\n",
       "迁出                21\n",
       "Name: 经营状态, dtype: int64"
      ]
     },
     "execution_count": 76,
     "metadata": {},
     "output_type": "execute_result"
    }
   ],
   "source": [
    "df_gongshangxinxi['经营状态'] = df_gongshangxinxi['经营状态'].str.replace(\n",
    "    '存续（在营、开业、在册）', '开业')\n",
    "df_gongshangxinxi['经营状态'] = df_gongshangxinxi['经营状态'].str.replace(\n",
    "    '在业', '开业')\n",
    "df_gongshangxinxi['经营状态'] = df_gongshangxinxi['经营状态'].str.replace(\n",
    "    '在营（开业）企业', '开业')\n",
    "df_gongshangxinxi['经营状态'].value_counts()"
   ]
  },
  {
   "cell_type": "code",
   "execution_count": 77,
   "metadata": {
    "ExecuteTime": {
     "end_time": "2019-03-23T16:28:10.832332Z",
     "start_time": "2019-03-23T16:28:10.817075Z"
    }
   },
   "outputs": [],
   "source": [
    "zhuangtai = df_gongshangxinxi.groupby(['企业编号', '经营状态'])[\n",
    "    '经营状态'].count().unstack().fillna(0).astype(int)\n",
    "zhuangtai['企业编号'] = zhuangtai.index\n",
    "zhuangtai['开业'] = zhuangtai['存续']+zhuangtai['存续(在营、开业、在册)']+zhuangtai['开业']\n",
    "zhuangtai = pd.DataFrame(\n",
    "    {'企业编号': zhuangtai['企业编号'], '经营状态_开业': zhuangtai['开业'], '经营状态_迁出': zhuangtai['迁出']})\n",
    "res['经营状态'] = zhuangtai"
   ]
  },
  {
   "cell_type": "code",
   "execution_count": 78,
   "metadata": {
    "ExecuteTime": {
     "end_time": "2019-03-23T16:28:13.406576Z",
     "start_time": "2019-03-23T16:28:13.394074Z"
    }
   },
   "outputs": [],
   "source": [
    "df_hangye = df_gongshangxinxi.groupby(['企业编号', '行业大类（代码）'])[\n",
    "    '行业大类（代码）'].count().unstack().fillna(0).astype(int)\n",
    "df_hangye.columns = ['行业大类_'+col for col in df_hangye.columns.values]\n",
    "df_hangye['企业编号'] = df_hangye.index\n",
    "res['行业大类'] = df_hangye"
   ]
  },
  {
   "cell_type": "code",
   "execution_count": 79,
   "metadata": {
    "ExecuteTime": {
     "end_time": "2019-03-23T16:28:15.972884Z",
     "start_time": "2019-03-23T16:28:15.952614Z"
    }
   },
   "outputs": [],
   "source": [
    "df_gongshangxinxi['是否上市'] = df_gongshangxinxi['是否上市'].str.replace('Y', '1')\n",
    "df_gongshangxinxi['是否上市'] = df_gongshangxinxi['是否上市'].str.replace('N', '0')\n",
    "df_gongshangxinxi['是否上市'] = df_gongshangxinxi['是否上市'].astype(int)"
   ]
  },
  {
   "cell_type": "code",
   "execution_count": 80,
   "metadata": {
    "ExecuteTime": {
     "end_time": "2019-03-23T16:28:18.454884Z",
     "start_time": "2019-03-23T16:28:18.425040Z"
    }
   },
   "outputs": [
    {
     "data": {
      "text/html": [
       "<div>\n",
       "<style scoped>\n",
       "    .dataframe tbody tr th:only-of-type {\n",
       "        vertical-align: middle;\n",
       "    }\n",
       "\n",
       "    .dataframe tbody tr th {\n",
       "        vertical-align: top;\n",
       "    }\n",
       "\n",
       "    .dataframe thead th {\n",
       "        text-align: right;\n",
       "    }\n",
       "</style>\n",
       "<table border=\"1\" class=\"dataframe\">\n",
       "  <thead>\n",
       "    <tr style=\"text-align: right;\">\n",
       "      <th></th>\n",
       "      <th>企业编号</th>\n",
       "      <th>注册资本（万元）</th>\n",
       "      <th>注册资本币种(正则)</th>\n",
       "      <th>成立日期</th>\n",
       "      <th>经营状态</th>\n",
       "      <th>行业大类（代码）</th>\n",
       "      <th>行业小类（代码）</th>\n",
       "      <th>类型</th>\n",
       "      <th>省份代码</th>\n",
       "      <th>城市代码</th>\n",
       "      <th>地区代码</th>\n",
       "      <th>是否上市</th>\n",
       "      <th>经营期限自</th>\n",
       "      <th>经营期限至</th>\n",
       "      <th>登记机关区域代码</th>\n",
       "      <th>发照日期</th>\n",
       "      <th>员工人数</th>\n",
       "      <th>注销原因</th>\n",
       "      <th>注销时间</th>\n",
       "    </tr>\n",
       "  </thead>\n",
       "  <tbody>\n",
       "    <tr>\n",
       "      <th>1309</th>\n",
       "      <td>2310</td>\n",
       "      <td>17.429525</td>\n",
       "      <td>美元</td>\n",
       "      <td>2000-05-15</td>\n",
       "      <td>开业</td>\n",
       "      <td>C</td>\n",
       "      <td>29</td>\n",
       "      <td>外企</td>\n",
       "      <td>44</td>\n",
       "      <td>4406</td>\n",
       "      <td>440600</td>\n",
       "      <td>1</td>\n",
       "      <td>2000-05-15</td>\n",
       "      <td>2015-05-14</td>\n",
       "      <td>440600.0</td>\n",
       "      <td>2008-05-19</td>\n",
       "      <td>14.0</td>\n",
       "      <td>NaN</td>\n",
       "      <td>NaN</td>\n",
       "    </tr>\n",
       "  </tbody>\n",
       "</table>\n",
       "</div>"
      ],
      "text/plain": [
       "      企业编号   注册资本（万元） 注册资本币种(正则)        成立日期 经营状态 行业大类（代码） 行业小类（代码）  类型  省份代码  \\\n",
       "1309  2310  17.429525         美元  2000-05-15   开业        C       29  外企    44   \n",
       "\n",
       "      城市代码    地区代码  是否上市       经营期限自       经营期限至  登记机关区域代码        发照日期  员工人数  \\\n",
       "1309  4406  440600     1  2000-05-15  2015-05-14  440600.0  2008-05-19  14.0   \n",
       "\n",
       "     注销原因 注销时间  \n",
       "1309  NaN  NaN  "
      ]
     },
     "execution_count": 80,
     "metadata": {},
     "output_type": "execute_result"
    }
   ],
   "source": [
    "df_gongshangxinxi.loc[df_gongshangxinxi['注册资本币种(正则)'] == '美元', [\n",
    "    '注册资本（万元）']] = df_gongshangxinxi.loc[df_gongshangxinxi['注册资本币种(正则)'] == '美元', ['注册资本（万元）']]*8.2777\n",
    "df_gongshangxinxi.loc[df_gongshangxinxi['注册资本币种(正则)'] == '美元']"
   ]
  },
  {
   "cell_type": "code",
   "execution_count": 81,
   "metadata": {
    "ExecuteTime": {
     "end_time": "2019-03-23T16:28:20.946533Z",
     "start_time": "2019-03-23T16:28:20.941928Z"
    }
   },
   "outputs": [],
   "source": [
    "temp = pd.DataFrame({'企业编号': df_gongshangxinxi['企业编号'],\n",
    "                     '注册资本（万元）': df_gongshangxinxi['注册资本（万元）'],\n",
    "                     '是否上市': df_gongshangxinxi['是否上市']})\n",
    "res['merge_注册资本_是否上市'] = temp"
   ]
  },
  {
   "cell_type": "code",
   "execution_count": 82,
   "metadata": {
    "ExecuteTime": {
     "end_time": "2019-03-23T16:28:23.452770Z",
     "start_time": "2019-03-23T16:28:23.444965Z"
    }
   },
   "outputs": [],
   "source": [
    "df_gongshangxinxi['成立日期'] = pd.to_datetime(df_gongshangxinxi['成立日期'])"
   ]
  },
  {
   "cell_type": "code",
   "execution_count": 83,
   "metadata": {
    "ExecuteTime": {
     "end_time": "2019-03-23T16:28:26.027519Z",
     "start_time": "2019-03-23T16:28:26.017552Z"
    }
   },
   "outputs": [],
   "source": [
    "df_gongshangxinxi['成立年数'] = round(abs(df_gongshangxinxi['成立日期'].sub(pd.to_datetime(\n",
    "    time.strftime('%Y-%m-%d', time.localtime(time.time()))), axis=0).dt.days)/365).astype(int)"
   ]
  },
  {
   "cell_type": "code",
   "execution_count": 101,
   "metadata": {
    "ExecuteTime": {
     "end_time": "2019-03-23T16:39:57.253157Z",
     "start_time": "2019-03-23T16:39:57.214229Z"
    }
   },
   "outputs": [
    {
     "data": {
      "text/html": [
       "<div>\n",
       "<style scoped>\n",
       "    .dataframe tbody tr th:only-of-type {\n",
       "        vertical-align: middle;\n",
       "    }\n",
       "\n",
       "    .dataframe tbody tr th {\n",
       "        vertical-align: top;\n",
       "    }\n",
       "\n",
       "    .dataframe thead th {\n",
       "        text-align: right;\n",
       "    }\n",
       "</style>\n",
       "<table border=\"1\" class=\"dataframe\">\n",
       "  <thead>\n",
       "    <tr style=\"text-align: right;\">\n",
       "      <th></th>\n",
       "      <th>企业编号</th>\n",
       "      <th>注册资本（万元）</th>\n",
       "      <th>注册资本币种(正则)</th>\n",
       "      <th>成立日期</th>\n",
       "      <th>经营状态</th>\n",
       "      <th>行业大类（代码）</th>\n",
       "      <th>行业小类（代码）</th>\n",
       "      <th>类型</th>\n",
       "      <th>省份代码</th>\n",
       "      <th>城市代码</th>\n",
       "      <th>...</th>\n",
       "      <th>经营期限自</th>\n",
       "      <th>经营期限至</th>\n",
       "      <th>登记机关区域代码</th>\n",
       "      <th>发照日期</th>\n",
       "      <th>员工人数</th>\n",
       "      <th>注销原因</th>\n",
       "      <th>注销时间</th>\n",
       "      <th>成立年数</th>\n",
       "      <th>是否注销</th>\n",
       "      <th>是否外企</th>\n",
       "    </tr>\n",
       "  </thead>\n",
       "  <tbody>\n",
       "    <tr>\n",
       "      <th>0</th>\n",
       "      <td>1001</td>\n",
       "      <td>746.138857</td>\n",
       "      <td>人民币</td>\n",
       "      <td>1992-10-19</td>\n",
       "      <td>开业</td>\n",
       "      <td>J</td>\n",
       "      <td>66</td>\n",
       "      <td>民营</td>\n",
       "      <td>31</td>\n",
       "      <td>3100</td>\n",
       "      <td>...</td>\n",
       "      <td>1992-10-19</td>\n",
       "      <td>NaN</td>\n",
       "      <td>310100.0</td>\n",
       "      <td>1992-10-19</td>\n",
       "      <td>19.0</td>\n",
       "      <td>NaN</td>\n",
       "      <td>NaN</td>\n",
       "      <td>26</td>\n",
       "      <td>0</td>\n",
       "      <td>NaN</td>\n",
       "    </tr>\n",
       "    <tr>\n",
       "      <th>1</th>\n",
       "      <td>1002</td>\n",
       "      <td>82.772800</td>\n",
       "      <td>人民币</td>\n",
       "      <td>2000-09-19</td>\n",
       "      <td>开业</td>\n",
       "      <td>O</td>\n",
       "      <td>80</td>\n",
       "      <td>民营</td>\n",
       "      <td>44</td>\n",
       "      <td>4400</td>\n",
       "      <td>...</td>\n",
       "      <td>2000-09-19</td>\n",
       "      <td>NaN</td>\n",
       "      <td>440000.0</td>\n",
       "      <td>2017-12-21</td>\n",
       "      <td>12.0</td>\n",
       "      <td>NaN</td>\n",
       "      <td>NaN</td>\n",
       "      <td>19</td>\n",
       "      <td>0</td>\n",
       "      <td>NaN</td>\n",
       "    </tr>\n",
       "    <tr>\n",
       "      <th>2</th>\n",
       "      <td>1003</td>\n",
       "      <td>80.000000</td>\n",
       "      <td>人民币</td>\n",
       "      <td>1999-07-21</td>\n",
       "      <td>开业</td>\n",
       "      <td>C</td>\n",
       "      <td>36</td>\n",
       "      <td>民营</td>\n",
       "      <td>42</td>\n",
       "      <td>4200</td>\n",
       "      <td>...</td>\n",
       "      <td>1999-07-21</td>\n",
       "      <td>NaN</td>\n",
       "      <td>420000.0</td>\n",
       "      <td>2018-10-22</td>\n",
       "      <td>11.0</td>\n",
       "      <td>NaN</td>\n",
       "      <td>NaN</td>\n",
       "      <td>20</td>\n",
       "      <td>0</td>\n",
       "      <td>NaN</td>\n",
       "    </tr>\n",
       "  </tbody>\n",
       "</table>\n",
       "<p>3 rows × 22 columns</p>\n",
       "</div>"
      ],
      "text/plain": [
       "   企业编号    注册资本（万元） 注册资本币种(正则)       成立日期 经营状态 行业大类（代码） 行业小类（代码）  类型  省份代码  \\\n",
       "0  1001  746.138857        人民币 1992-10-19   开业        J       66  民营    31   \n",
       "1  1002   82.772800        人民币 2000-09-19   开业        O       80  民营    44   \n",
       "2  1003   80.000000        人民币 1999-07-21   开业        C       36  民营    42   \n",
       "\n",
       "   城市代码  ...       经营期限自  经营期限至  登记机关区域代码        发照日期  员工人数 注销原因  注销时间 成立年数  \\\n",
       "0  3100  ...  1992-10-19    NaN  310100.0  1992-10-19  19.0  NaN   NaN   26   \n",
       "1  4400  ...  2000-09-19    NaN  440000.0  2017-12-21  12.0  NaN   NaN   19   \n",
       "2  4200  ...  1999-07-21    NaN  420000.0  2018-10-22  11.0  NaN   NaN   20   \n",
       "\n",
       "  是否注销  是否外企  \n",
       "0    0   NaN  \n",
       "1    0   NaN  \n",
       "2    0   NaN  \n",
       "\n",
       "[3 rows x 22 columns]"
      ]
     },
     "execution_count": 101,
     "metadata": {},
     "output_type": "execute_result"
    }
   ],
   "source": [
    "df_gongshangxinxi.head(n=3)"
   ]
  },
  {
   "cell_type": "code",
   "execution_count": 86,
   "metadata": {
    "ExecuteTime": {
     "end_time": "2019-03-23T16:29:31.120399Z",
     "start_time": "2019-03-23T16:29:31.108011Z"
    }
   },
   "outputs": [],
   "source": [
    "df_gongshangxinxi['是否注销'] = df_gongshangxinxi['注销原因'].fillna(0)\n",
    "df_gongshangxinxi.loc[(df_gongshangxinxi['注销原因'].notnull()), '是否注销'] = 1"
   ]
  },
  {
   "cell_type": "code",
   "execution_count": 98,
   "metadata": {
    "ExecuteTime": {
     "end_time": "2019-03-23T16:37:47.777299Z",
     "start_time": "2019-03-23T16:37:47.748950Z"
    }
   },
   "outputs": [],
   "source": [
    "waiqi = df_gongshangxinxi.groupby(['企业编号', '类型'])['类型'].count(\n",
    ").unstack().fillna(0).astype(int)\n",
    "waiqi['企业编号'] = waiqi.index"
   ]
  },
  {
   "cell_type": "code",
   "execution_count": 104,
   "metadata": {
    "ExecuteTime": {
     "end_time": "2019-03-23T16:40:38.097877Z",
     "start_time": "2019-03-23T16:40:38.073309Z"
    }
   },
   "outputs": [],
   "source": [
    "res['merge_成立年数_是否注销_是否外企'] = pd.DataFrame({\n",
    "    '是否注销': df_gongshangxinxi['是否注销'],\n",
    "    '是否外企': waiqi['外企'],\n",
    "    '企业编号': waiqi['企业编号'],\n",
    "    '成立年数': df_gongshangxinxi['成立年数']\n",
    "})"
   ]
  },
  {
   "cell_type": "markdown",
   "metadata": {},
   "source": [
    "# 年报企业基本信息"
   ]
  },
  {
   "cell_type": "code",
   "execution_count": 105,
   "metadata": {
    "ExecuteTime": {
     "end_time": "2019-03-24T02:31:29.461551Z",
     "start_time": "2019-03-24T02:31:26.535144Z"
    }
   },
   "outputs": [],
   "source": [
    "df_qiyejiben_bkp = pd.read_excel(r'../../Data/CompInfo/年报-企业基本信息.xlsx')"
   ]
  },
  {
   "cell_type": "code",
   "execution_count": 106,
   "metadata": {
    "ExecuteTime": {
     "end_time": "2019-03-24T02:31:53.714479Z",
     "start_time": "2019-03-24T02:31:53.699007Z"
    }
   },
   "outputs": [],
   "source": [
    "df_qiyejiben = df_qiyejiben_bkp.copy()"
   ]
  },
  {
   "cell_type": "code",
   "execution_count": 107,
   "metadata": {
    "ExecuteTime": {
     "end_time": "2019-03-24T02:32:42.316306Z",
     "start_time": "2019-03-24T02:32:42.292537Z"
    }
   },
   "outputs": [
    {
     "name": "stdout",
     "output_type": "stream",
     "text": [
      "<class 'pandas.core.frame.DataFrame'>\n",
      "RangeIndex: 15056 entries, 0 to 15055\n",
      "Data columns (total 10 columns):\n",
      "企业编号                  15056 non-null int64\n",
      "注册资本                  1750 non-null object\n",
      "企业经营状态                14837 non-null object\n",
      "从业人数                  14838 non-null object\n",
      "是否有网站或网点              14838 non-null object\n",
      "企业是否有投资信息或购买其他公司股权    14835 non-null object\n",
      "有限责任公司本年度是否发生股东股权转    14836 non-null object\n",
      "是否提供对外担保              14827 non-null object\n",
      "发布日期                  15039 non-null object\n",
      "年报年份                  15048 non-null float64\n",
      "dtypes: float64(1), int64(1), object(8)\n",
      "memory usage: 1.1+ MB\n"
     ]
    }
   ],
   "source": [
    "df_qiyejiben.info()"
   ]
  },
  {
   "cell_type": "code",
   "execution_count": 108,
   "metadata": {
    "ExecuteTime": {
     "end_time": "2019-03-24T02:33:41.148427Z",
     "start_time": "2019-03-24T02:33:41.132813Z"
    }
   },
   "outputs": [
    {
     "data": {
      "text/plain": [
       "开业         13590\n",
       "正常开业         739\n",
       "开业/正常经营      420\n",
       "存续            64\n",
       "其他            10\n",
       "歇业             7\n",
       "清算             6\n",
       "停业             1\n",
       "Name: 企业经营状态, dtype: int64"
      ]
     },
     "execution_count": 108,
     "metadata": {},
     "output_type": "execute_result"
    }
   ],
   "source": [
    "df_qiyejiben['企业经营状态'].value_counts()"
   ]
  },
  {
   "cell_type": "code",
   "execution_count": 113,
   "metadata": {
    "ExecuteTime": {
     "end_time": "2019-03-24T03:02:41.748535Z",
     "start_time": "2019-03-24T03:02:41.723386Z"
    }
   },
   "outputs": [],
   "source": [
    "jingyingzhaungtai = df_qiyejiben.groupby(['企业编号', '企业经营状态'])[\n",
    "    '企业经营状态'].count().unstack().fillna(0).astype(int)\n",
    "jingyingzhaungtai['企业编号'] = jingyingzhaungtai.index\n",
    "jingyingzhaungtai['开业'] = jingyingzhaungtai['开业'] + \\\n",
    "    jingyingzhaungtai['开业/正常经营'] + \\\n",
    "    jingyingzhaungtai['正常开业']+jingyingzhaungtai['存续']\n",
    "res['企业基本信息经营状态'] = pd.DataFrame({\n",
    "    '企业编号': jingyingzhaungtai['企业编号'],\n",
    "    '停业': jingyingzhaungtai['停业'],\n",
    "    '其他': jingyingzhaungtai['其他'],\n",
    "    '开业': jingyingzhaungtai['开业'],\n",
    "    '歇业': jingyingzhaungtai['歇业'],\n",
    "    '清算': jingyingzhaungtai['清算'],\n",
    "})"
   ]
  },
  {
   "cell_type": "markdown",
   "metadata": {},
   "source": [
    "# 年报-的对外提供保证担保信息"
   ]
  },
  {
   "cell_type": "code",
   "execution_count": 114,
   "metadata": {
    "ExecuteTime": {
     "end_time": "2019-03-24T03:07:48.791380Z",
     "start_time": "2019-03-24T03:07:46.867861Z"
    }
   },
   "outputs": [],
   "source": [
    "df_duiwaidanbao_bkp = pd.read_excel(r'../../Data/CompInfo/年报-的对外提供保证担保信息.xlsx')"
   ]
  },
  {
   "cell_type": "code",
   "execution_count": 115,
   "metadata": {
    "ExecuteTime": {
     "end_time": "2019-03-24T03:07:59.773584Z",
     "start_time": "2019-03-24T03:07:59.763142Z"
    }
   },
   "outputs": [],
   "source": [
    "df_duiwaidanbao = df_duiwaidanbao_bkp.copy()"
   ]
  },
  {
   "cell_type": "code",
   "execution_count": 116,
   "metadata": {
    "ExecuteTime": {
     "end_time": "2019-03-24T03:08:09.214799Z",
     "start_time": "2019-03-24T03:08:09.197666Z"
    }
   },
   "outputs": [
    {
     "name": "stdout",
     "output_type": "stream",
     "text": [
      "<class 'pandas.core.frame.DataFrame'>\n",
      "RangeIndex: 10875 entries, 0 to 10874\n",
      "Data columns (total 8 columns):\n",
      "企业编号       10875 non-null int64\n",
      "主债权数额      8777 non-null object\n",
      "保证担保的范围    594 non-null object\n",
      "保证的期间      8751 non-null object\n",
      "保证的方式      8754 non-null object\n",
      "主债权种类      8746 non-null object\n",
      "履行债务的期限    10864 non-null object\n",
      "年报年份       10875 non-null int64\n",
      "dtypes: int64(2), object(6)\n",
      "memory usage: 679.8+ KB\n"
     ]
    }
   ],
   "source": [
    "df_duiwaidanbao.info()"
   ]
  },
  {
   "cell_type": "code",
   "execution_count": 122,
   "metadata": {
    "ExecuteTime": {
     "end_time": "2019-03-24T03:17:30.037946Z",
     "start_time": "2019-03-24T03:17:30.020850Z"
    }
   },
   "outputs": [],
   "source": [
    "tmpdf = pd.DataFrame()\n",
    "tmpdf['担保次数'] = df_duiwaidanbao.groupby(['企业编号'])['企业编号'].count()\n",
    "tmpdf['企业编号'] = tmpdf.index\n",
    "res = {'企业担保次数': tmpdf}"
   ]
  },
  {
   "cell_type": "markdown",
   "metadata": {},
   "source": [
    "# 年报-网站或网点信息"
   ]
  },
  {
   "cell_type": "code",
   "execution_count": 124,
   "metadata": {
    "ExecuteTime": {
     "end_time": "2019-03-24T03:19:11.549376Z",
     "start_time": "2019-03-24T03:19:10.790793Z"
    }
   },
   "outputs": [],
   "source": [
    "df_wangzhan_bkp = pd.read_excel(r'../../Data/CompInfo/年报-网站或网点信息.xlsx')"
   ]
  },
  {
   "cell_type": "code",
   "execution_count": 125,
   "metadata": {
    "ExecuteTime": {
     "end_time": "2019-03-24T03:19:16.413329Z",
     "start_time": "2019-03-24T03:19:16.410314Z"
    }
   },
   "outputs": [],
   "source": [
    "df_wangzhan = df_wangzhan_bkp.copy()"
   ]
  },
  {
   "cell_type": "code",
   "execution_count": 126,
   "metadata": {
    "ExecuteTime": {
     "end_time": "2019-03-24T03:19:23.442965Z",
     "start_time": "2019-03-24T03:19:23.428059Z"
    }
   },
   "outputs": [
    {
     "name": "stdout",
     "output_type": "stream",
     "text": [
      "<class 'pandas.core.frame.DataFrame'>\n",
      "RangeIndex: 13553 entries, 0 to 13552\n",
      "Data columns (total 2 columns):\n",
      "企业编号    13553 non-null int64\n",
      "年报年份    13546 non-null float64\n",
      "dtypes: float64(1), int64(1)\n",
      "memory usage: 211.8 KB\n"
     ]
    }
   ],
   "source": [
    "df_wangzhan.info()"
   ]
  },
  {
   "cell_type": "code",
   "execution_count": 127,
   "metadata": {
    "ExecuteTime": {
     "end_time": "2019-03-24T03:21:02.386687Z",
     "start_time": "2019-03-24T03:21:02.371227Z"
    }
   },
   "outputs": [],
   "source": [
    "tmpdf = pd.DataFrame()\n",
    "tmpdf['网站或网点数'] = df_wangzhan.groupby(['企业编号'])['企业编号'].count()\n",
    "tmpdf['企业编号'] = tmpdf.index\n",
    "res = {'网站或网点数': tmpdf}"
   ]
  },
  {
   "cell_type": "markdown",
   "metadata": {},
   "source": [
    "# 债券信息"
   ]
  },
  {
   "cell_type": "code",
   "execution_count": 129,
   "metadata": {
    "ExecuteTime": {
     "end_time": "2019-03-24T03:23:57.644711Z",
     "start_time": "2019-03-24T03:23:57.113795Z"
    }
   },
   "outputs": [],
   "source": [
    "df_zaiquan_bkp = pd.read_excel(r'../../Data/CompInfo/债券信息.xlsx')"
   ]
  },
  {
   "cell_type": "code",
   "execution_count": 130,
   "metadata": {
    "ExecuteTime": {
     "end_time": "2019-03-24T03:24:11.747538Z",
     "start_time": "2019-03-24T03:24:11.741325Z"
    }
   },
   "outputs": [],
   "source": [
    "df_zaiquan = df_zaiquan_bkp.copy()"
   ]
  },
  {
   "cell_type": "code",
   "execution_count": 131,
   "metadata": {
    "ExecuteTime": {
     "end_time": "2019-03-24T03:24:21.870211Z",
     "start_time": "2019-03-24T03:24:21.851884Z"
    }
   },
   "outputs": [
    {
     "name": "stdout",
     "output_type": "stream",
     "text": [
      "<class 'pandas.core.frame.DataFrame'>\n",
      "RangeIndex: 2400 entries, 0 to 2399\n",
      "Data columns (total 14 columns):\n",
      "企业编号          2400 non-null int64\n",
      "债券信用评级        386 non-null object\n",
      "债券期限          2314 non-null object\n",
      "债券品种          2400 non-null object\n",
      "发行日期          2400 non-null object\n",
      "付息日期          2032 non-null object\n",
      "兑付日期          2313 non-null object\n",
      "计划发行总额（亿元）    2400 non-null float64\n",
      "实际发行总额（亿元）    35 non-null float64\n",
      "币种            2400 non-null object\n",
      "流通场所          17 non-null object\n",
      "票面利率（%）       2399 non-null float64\n",
      "主体信用评级        382 non-null object\n",
      "付息方式          2400 non-null object\n",
      "dtypes: float64(3), int64(1), object(10)\n",
      "memory usage: 262.6+ KB\n"
     ]
    }
   ],
   "source": [
    "df_zaiquan.info()"
   ]
  },
  {
   "cell_type": "code",
   "execution_count": 132,
   "metadata": {
    "ExecuteTime": {
     "end_time": "2019-03-24T03:24:47.577699Z",
     "start_time": "2019-03-24T03:24:47.565073Z"
    }
   },
   "outputs": [
    {
     "data": {
      "text/plain": [
       "AAA    228\n",
       "AA+     86\n",
       "AA      67\n",
       "B        2\n",
       "AA-      1\n",
       "C        1\n",
       "CC       1\n",
       "Name: 债券信用评级, dtype: int64"
      ]
     },
     "execution_count": 132,
     "metadata": {},
     "output_type": "execute_result"
    }
   ],
   "source": [
    "df_zaiquan['债券信用评级'].value_counts()"
   ]
  },
  {
   "cell_type": "code",
   "execution_count": 143,
   "metadata": {
    "ExecuteTime": {
     "end_time": "2019-03-24T03:48:07.451026Z",
     "start_time": "2019-03-24T03:48:07.423198Z"
    }
   },
   "outputs": [],
   "source": [
    "xinyongpingji = df_zaiquan.groupby(['企业编号', '债券信用评级'])[\n",
    "    '债券信用评级'].count().unstack().fillna(0).astype(int)\n",
    "xinyongpingji.columns = ['债券信用评级_'+col for col in xinyongpingji.columns.values]\n",
    "xinyongpingji['企业编号'] = xinyongpingji.index\n",
    "res = {'债券信用评级': xinyongpingji}\n",
    "# xinyongpingji"
   ]
  },
  {
   "cell_type": "code",
   "execution_count": 157,
   "metadata": {
    "ExecuteTime": {
     "end_time": "2019-03-24T03:56:13.170239Z",
     "start_time": "2019-03-24T03:56:13.157308Z"
    }
   },
   "outputs": [],
   "source": [
    "fuxifangshi = df_zaiquan.groupby(['企业编号', '付息方式'])[\n",
    "    '付息方式'].count().unstack().fillna(0).astype(int)\n",
    "fuxifangshi.columns = ['付息方式_'+col for col in fuxifangshi.columns.values]\n",
    "fuxifangshi['企业编号'] = fuxifangshi.index\n",
    "res = {'付息方式': fuxifangshi}"
   ]
  },
  {
   "cell_type": "code",
   "execution_count": 153,
   "metadata": {
    "ExecuteTime": {
     "end_time": "2019-03-24T03:54:44.873099Z",
     "start_time": "2019-03-24T03:54:44.854424Z"
    }
   },
   "outputs": [],
   "source": [
    "zaiquanzhonglei = df_zaiquan.groupby(['企业编号', '债券品种'])[\n",
    "    '债券品种'].count().unstack().fillna(0).astype(int)\n",
    "zaiquanzhonglei.columns = [\n",
    "    '债券品种_'+col for col in zaiquanzhonglei.columns.values]\n",
    "zaiquanzhonglei['企业编号'] = zaiquanzhonglei.index\n",
    "res = {'债券品种': zaiquanzhonglei}\n",
    "# zaiquanzhonglei"
   ]
  },
  {
   "cell_type": "code",
   "execution_count": 161,
   "metadata": {
    "ExecuteTime": {
     "end_time": "2019-03-24T03:59:49.521970Z",
     "start_time": "2019-03-24T03:59:49.511454Z"
    }
   },
   "outputs": [],
   "source": [
    "df_zaiquan['主体信用评级'] = df_zaiquan['主体信用评级'].str.rstrip('-')"
   ]
  },
  {
   "cell_type": "code",
   "execution_count": 168,
   "metadata": {
    "ExecuteTime": {
     "end_time": "2019-03-24T04:06:37.336716Z",
     "start_time": "2019-03-24T04:06:37.307063Z"
    }
   },
   "outputs": [],
   "source": [
    "# df_zaiquan['主体信用评级']\n",
    "zhutipingji = df_zaiquan.groupby(['企业编号', '主体信用评级'])[\n",
    "    '主体信用评级'].count().unstack().fillna(0).astype(int)\n",
    "zhutipingji.columns = ['主体信用评级_'+col for col in zhutipingji.columns.values]\n",
    "zhutipingji['企业编号'] = zhutipingji.index\n",
    "zhutipingji.drop(['主体信用评级_'], axis=1)\n",
    "# zhutipingji.head(n=4)\n",
    "# new_zhutipingji\n",
    "res = {'主体信用评级': pd.DataFrame({\n",
    "    '主体信用评级_A': zhutipingji['主体信用评级_A'],\n",
    "    '主体信用评级_AA': zhutipingji['主体信用评级_AA'],\n",
    "    '主体信用评级_AA+': zhutipingji['主体信用评级_AA+'],\n",
    "    '主体信用评级_AAA': zhutipingji['主体信用评级_AAA'],\n",
    "    '企业编号': zhutipingji['企业编号'],\n",
    "})}"
   ]
  },
  {
   "cell_type": "code",
   "execution_count": null,
   "metadata": {},
   "outputs": [],
   "source": []
  }
 ],
 "metadata": {
  "kernelspec": {
   "display_name": "Python 3",
   "language": "python",
   "name": "python3"
  },
  "language_info": {
   "codemirror_mode": {
    "name": "ipython",
    "version": 3
   },
   "file_extension": ".py",
   "mimetype": "text/x-python",
   "name": "python",
   "nbconvert_exporter": "python",
   "pygments_lexer": "ipython3",
   "version": "3.6.8"
  },
  "toc": {
   "base_numbering": 1,
   "nav_menu": {},
   "number_sections": true,
   "sideBar": true,
   "skip_h1_title": false,
   "title_cell": "Table of Contents",
   "title_sidebar": "Contents",
   "toc_cell": false,
   "toc_position": {},
   "toc_section_display": true,
   "toc_window_display": false
  },
  "varInspector": {
   "cols": {
    "lenName": 16,
    "lenType": 16,
    "lenVar": 40
   },
   "kernels_config": {
    "python": {
     "delete_cmd_postfix": "",
     "delete_cmd_prefix": "del ",
     "library": "var_list.py",
     "varRefreshCmd": "print(var_dic_list())"
    },
    "r": {
     "delete_cmd_postfix": ") ",
     "delete_cmd_prefix": "rm(",
     "library": "var_list.r",
     "varRefreshCmd": "cat(var_dic_list()) "
    }
   },
   "types_to_exclude": [
    "module",
    "function",
    "builtin_function_or_method",
    "instance",
    "_Feature"
   ],
   "window_display": false
  }
 },
 "nbformat": 4,
 "nbformat_minor": 2
}
