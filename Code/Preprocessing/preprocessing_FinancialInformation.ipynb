{
 "cells": [
  {
   "cell_type": "code",
   "execution_count": 1,
   "metadata": {
    "ExecuteTime": {
     "end_time": "2019-03-10T14:58:22.015816Z",
     "start_time": "2019-03-10T14:58:14.490708Z"
    }
   },
   "outputs": [],
   "source": [
    "from IPython.display import display\n",
    "import matplotlib.pyplot as plt\n",
    "import pandas as pd\n",
    "import numpy as np\n",
    "import seaborn as sns\n",
    "import matplotlib as mpl\n",
    "import warnings\n",
    "warnings.filterwarnings(\"ignore\")\n",
    "\n",
    "plt.style.use(\"fivethirtyeight\")\n",
    "sns.set_style({'font.sans-serif': ['simsun', 'Arial']})\n",
    "sns.set_style('darkgrid', {'font.sans-serif': ['simhei', 'Arial']})\n",
    "%matplotlib inline"
   ]
  },
  {
   "cell_type": "code",
   "execution_count": 3,
   "metadata": {
    "ExecuteTime": {
     "end_time": "2019-03-10T15:00:37.199649Z",
     "start_time": "2019-03-10T15:00:31.300512Z"
    }
   },
   "outputs": [
    {
     "data": {
      "text/html": [
       "<div>\n",
       "<style scoped>\n",
       "    .dataframe tbody tr th:only-of-type {\n",
       "        vertical-align: middle;\n",
       "    }\n",
       "\n",
       "    .dataframe tbody tr th {\n",
       "        vertical-align: top;\n",
       "    }\n",
       "\n",
       "    .dataframe thead th {\n",
       "        text-align: right;\n",
       "    }\n",
       "</style>\n",
       "<table border=\"1\" class=\"dataframe\">\n",
       "  <thead>\n",
       "    <tr style=\"text-align: right;\">\n",
       "      <th></th>\n",
       "      <th>企业编号</th>\n",
       "      <th>标题</th>\n",
       "      <th>日期</th>\n",
       "      <th>基本每股收益(元)</th>\n",
       "      <th>扣非每股收益(元)</th>\n",
       "      <th>稀释每股收益(元)</th>\n",
       "      <th>每股净资产(元)</th>\n",
       "      <th>每股公积金(元)</th>\n",
       "      <th>每股未分配利润(元)</th>\n",
       "      <th>每股经营现金流(元)</th>\n",
       "    </tr>\n",
       "  </thead>\n",
       "  <tbody>\n",
       "    <tr>\n",
       "      <th>0</th>\n",
       "      <td>1001</td>\n",
       "      <td>每股指标</td>\n",
       "      <td>2018-09-30</td>\n",
       "      <td>1.4400</td>\n",
       "      <td>1.4400</td>\n",
       "      <td>1.4400</td>\n",
       "      <td>14.4900</td>\n",
       "      <td>2.7855</td>\n",
       "      <td>4.3764</td>\n",
       "      <td>-12.3358</td>\n",
       "    </tr>\n",
       "    <tr>\n",
       "      <th>1</th>\n",
       "      <td>1001</td>\n",
       "      <td>每股指标</td>\n",
       "      <td>2018-06-30</td>\n",
       "      <td>0.9500</td>\n",
       "      <td>0.9500</td>\n",
       "      <td>0.9500</td>\n",
       "      <td>14.0000</td>\n",
       "      <td>2.7855</td>\n",
       "      <td>3.8790</td>\n",
       "      <td>-4.0234</td>\n",
       "    </tr>\n",
       "    <tr>\n",
       "      <th>2</th>\n",
       "      <td>1001</td>\n",
       "      <td>每股指标</td>\n",
       "      <td>2018-03-31</td>\n",
       "      <td>0.4600</td>\n",
       "      <td>0.4600</td>\n",
       "      <td>0.4600</td>\n",
       "      <td>13.5700</td>\n",
       "      <td>2.7855</td>\n",
       "      <td>4.0346</td>\n",
       "      <td>-1.6600</td>\n",
       "    </tr>\n",
       "    <tr>\n",
       "      <th>3</th>\n",
       "      <td>1001</td>\n",
       "      <td>每股指标</td>\n",
       "      <td>2017-12-31</td>\n",
       "      <td>1.8400</td>\n",
       "      <td>1.8400</td>\n",
       "      <td>1.8400</td>\n",
       "      <td>13.4700</td>\n",
       "      <td>2.7855</td>\n",
       "      <td>4.0817</td>\n",
       "      <td>-4.7926</td>\n",
       "    </tr>\n",
       "    <tr>\n",
       "      <th>4</th>\n",
       "      <td>1001</td>\n",
       "      <td>每股指标</td>\n",
       "      <td>2017-09-30</td>\n",
       "      <td>1.4500</td>\n",
       "      <td>1.4500</td>\n",
       "      <td>1.4500</td>\n",
       "      <td>13.2000</td>\n",
       "      <td>2.7855</td>\n",
       "      <td>3.6944</td>\n",
       "      <td>-3.3519</td>\n",
       "    </tr>\n",
       "  </tbody>\n",
       "</table>\n",
       "</div>"
      ],
      "text/plain": [
       "   企业编号    标题          日期 基本每股收益(元) 扣非每股收益(元) 稀释每股收益(元) 每股净资产(元) 每股公积金(元)  \\\n",
       "0  1001  每股指标  2018-09-30    1.4400    1.4400    1.4400  14.4900   2.7855   \n",
       "1  1001  每股指标  2018-06-30    0.9500    0.9500    0.9500  14.0000   2.7855   \n",
       "2  1001  每股指标  2018-03-31    0.4600    0.4600    0.4600  13.5700   2.7855   \n",
       "3  1001  每股指标  2017-12-31    1.8400    1.8400    1.8400  13.4700   2.7855   \n",
       "4  1001  每股指标  2017-09-30    1.4500    1.4500    1.4500  13.2000   2.7855   \n",
       "\n",
       "  每股未分配利润(元) 每股经营现金流(元)  \n",
       "0     4.3764   -12.3358  \n",
       "1     3.8790    -4.0234  \n",
       "2     4.0346    -1.6600  \n",
       "3     4.0817    -4.7926  \n",
       "4     3.6944    -3.3519  "
      ]
     },
     "metadata": {},
     "output_type": "display_data"
    }
   ],
   "source": [
    "df24_raw=pd.read_excel(r'../../Data/CompanyInfo/24_ListedFinancialInformation-PerShareIndicator.xlsx')\n",
    "display(df24_raw.head(n=5))"
   ]
  },
  {
   "cell_type": "code",
   "execution_count": 4,
   "metadata": {
    "ExecuteTime": {
     "end_time": "2019-03-10T15:05:20.606013Z",
     "start_time": "2019-03-10T15:05:20.553484Z"
    }
   },
   "outputs": [
    {
     "name": "stdout",
     "output_type": "stream",
     "text": [
      "<class 'pandas.core.frame.DataFrame'>\n",
      "RangeIndex: 28887 entries, 0 to 28886\n",
      "Data columns (total 10 columns):\n",
      "企业编号          28887 non-null int64\n",
      "标题            28887 non-null object\n",
      "日期            28887 non-null object\n",
      "基本每股收益(元)     28887 non-null object\n",
      "扣非每股收益(元)     28887 non-null object\n",
      "稀释每股收益(元)     26099 non-null object\n",
      "每股净资产(元)      26099 non-null object\n",
      "每股公积金(元)      26099 non-null object\n",
      "每股未分配利润(元)    26099 non-null object\n",
      "每股经营现金流(元)    26099 non-null object\n",
      "dtypes: int64(1), object(9)\n",
      "memory usage: 2.2+ MB\n"
     ]
    }
   ],
   "source": [
    "df24_raw.info()"
   ]
  },
  {
   "cell_type": "code",
   "execution_count": 8,
   "metadata": {
    "ExecuteTime": {
     "end_time": "2019-03-10T15:07:50.024095Z",
     "start_time": "2019-03-10T15:07:50.001033Z"
    }
   },
   "outputs": [
    {
     "data": {
      "text/html": [
       "<div>\n",
       "<style scoped>\n",
       "    .dataframe tbody tr th:only-of-type {\n",
       "        vertical-align: middle;\n",
       "    }\n",
       "\n",
       "    .dataframe tbody tr th {\n",
       "        vertical-align: top;\n",
       "    }\n",
       "\n",
       "    .dataframe thead th {\n",
       "        text-align: right;\n",
       "    }\n",
       "</style>\n",
       "<table border=\"1\" class=\"dataframe\">\n",
       "  <thead>\n",
       "    <tr style=\"text-align: right;\">\n",
       "      <th></th>\n",
       "      <th>企业编号</th>\n",
       "      <th>标题</th>\n",
       "      <th>日期</th>\n",
       "      <th>基本每股收益(元)</th>\n",
       "      <th>扣非每股收益(元)</th>\n",
       "      <th>稀释每股收益(元)</th>\n",
       "      <th>每股净资产(元)</th>\n",
       "      <th>每股公积金(元)</th>\n",
       "      <th>每股未分配利润(元)</th>\n",
       "      <th>每股经营现金流(元)</th>\n",
       "    </tr>\n",
       "  </thead>\n",
       "  <tbody>\n",
       "    <tr>\n",
       "      <th>2628</th>\n",
       "      <td>1276</td>\n",
       "      <td>每股指标</td>\n",
       "      <td>2018-09-30</td>\n",
       "      <td>0.3270</td>\n",
       "      <td>0.3270</td>\n",
       "      <td>NaN</td>\n",
       "      <td>NaN</td>\n",
       "      <td>NaN</td>\n",
       "      <td>NaN</td>\n",
       "      <td>NaN</td>\n",
       "    </tr>\n",
       "    <tr>\n",
       "      <th>2629</th>\n",
       "      <td>1276</td>\n",
       "      <td>每股指标</td>\n",
       "      <td>2018-06-30</td>\n",
       "      <td>0.2960</td>\n",
       "      <td>0.2960</td>\n",
       "      <td>NaN</td>\n",
       "      <td>NaN</td>\n",
       "      <td>NaN</td>\n",
       "      <td>NaN</td>\n",
       "      <td>NaN</td>\n",
       "    </tr>\n",
       "    <tr>\n",
       "      <th>2630</th>\n",
       "      <td>1276</td>\n",
       "      <td>每股指标</td>\n",
       "      <td>2018-03-31</td>\n",
       "      <td>0.2180</td>\n",
       "      <td>0.2180</td>\n",
       "      <td>NaN</td>\n",
       "      <td>NaN</td>\n",
       "      <td>NaN</td>\n",
       "      <td>NaN</td>\n",
       "      <td>NaN</td>\n",
       "    </tr>\n",
       "    <tr>\n",
       "      <th>2631</th>\n",
       "      <td>1276</td>\n",
       "      <td>每股指标</td>\n",
       "      <td>2017-12-31</td>\n",
       "      <td>0.4610</td>\n",
       "      <td>0.4610</td>\n",
       "      <td>NaN</td>\n",
       "      <td>NaN</td>\n",
       "      <td>NaN</td>\n",
       "      <td>NaN</td>\n",
       "      <td>NaN</td>\n",
       "    </tr>\n",
       "    <tr>\n",
       "      <th>2632</th>\n",
       "      <td>1276</td>\n",
       "      <td>每股指标</td>\n",
       "      <td>2017-09-30</td>\n",
       "      <td>0.3710</td>\n",
       "      <td>0.3710</td>\n",
       "      <td>NaN</td>\n",
       "      <td>NaN</td>\n",
       "      <td>NaN</td>\n",
       "      <td>NaN</td>\n",
       "      <td>NaN</td>\n",
       "    </tr>\n",
       "  </tbody>\n",
       "</table>\n",
       "</div>"
      ],
      "text/plain": [
       "      企业编号    标题          日期 基本每股收益(元) 扣非每股收益(元) 稀释每股收益(元) 每股净资产(元) 每股公积金(元)  \\\n",
       "2628  1276  每股指标  2018-09-30    0.3270    0.3270       NaN      NaN      NaN   \n",
       "2629  1276  每股指标  2018-06-30    0.2960    0.2960       NaN      NaN      NaN   \n",
       "2630  1276  每股指标  2018-03-31    0.2180    0.2180       NaN      NaN      NaN   \n",
       "2631  1276  每股指标  2017-12-31    0.4610    0.4610       NaN      NaN      NaN   \n",
       "2632  1276  每股指标  2017-09-30    0.3710    0.3710       NaN      NaN      NaN   \n",
       "\n",
       "     每股未分配利润(元) 每股经营现金流(元)  \n",
       "2628        NaN        NaN  \n",
       "2629        NaN        NaN  \n",
       "2630        NaN        NaN  \n",
       "2631        NaN        NaN  \n",
       "2632        NaN        NaN  "
      ]
     },
     "metadata": {},
     "output_type": "display_data"
    }
   ],
   "source": [
    "df24_lack=df24_raw.loc[df24_raw['稀释每股收益(元)'].isnull()]\n",
    "display(df24_lack.head(n=10))"
   ]
  },
  {
   "cell_type": "code",
   "execution_count": 14,
   "metadata": {
    "ExecuteTime": {
     "end_time": "2019-03-10T15:11:48.504590Z",
     "start_time": "2019-03-10T15:11:48.491695Z"
    }
   },
   "outputs": [
    {
     "data": {
      "text/plain": [
       "('共有', 292, '家企业缺失')"
      ]
     },
     "execution_count": 14,
     "metadata": {},
     "output_type": "execute_result"
    }
   ],
   "source": [
    "'共有',len(df24_lack['企业编号'].value_counts()),'家企业缺失'"
   ]
  },
  {
   "cell_type": "code",
   "execution_count": null,
   "metadata": {},
   "outputs": [],
   "source": []
  }
 ],
 "metadata": {
  "kernelspec": {
   "display_name": "Python 3",
   "language": "python",
   "name": "python3"
  },
  "language_info": {
   "codemirror_mode": {
    "name": "ipython",
    "version": 3
   },
   "file_extension": ".py",
   "mimetype": "text/x-python",
   "name": "python",
   "nbconvert_exporter": "python",
   "pygments_lexer": "ipython3",
   "version": "3.6.8"
  },
  "toc": {
   "base_numbering": 1,
   "nav_menu": {},
   "number_sections": true,
   "sideBar": true,
   "skip_h1_title": false,
   "title_cell": "Table of Contents",
   "title_sidebar": "Contents",
   "toc_cell": false,
   "toc_position": {},
   "toc_section_display": true,
   "toc_window_display": false
  },
  "varInspector": {
   "cols": {
    "lenName": 16,
    "lenType": 16,
    "lenVar": 40
   },
   "kernels_config": {
    "python": {
     "delete_cmd_postfix": "",
     "delete_cmd_prefix": "del ",
     "library": "var_list.py",
     "varRefreshCmd": "print(var_dic_list())"
    },
    "r": {
     "delete_cmd_postfix": ") ",
     "delete_cmd_prefix": "rm(",
     "library": "var_list.r",
     "varRefreshCmd": "cat(var_dic_list()) "
    }
   },
   "types_to_exclude": [
    "module",
    "function",
    "builtin_function_or_method",
    "instance",
    "_Feature"
   ],
   "window_display": false
  }
 },
 "nbformat": 4,
 "nbformat_minor": 2
}
