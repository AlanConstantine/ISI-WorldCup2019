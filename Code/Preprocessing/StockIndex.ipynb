{
 "cells": [
  {
   "cell_type": "code",
   "execution_count": 1,
   "metadata": {
    "ExecuteTime": {
     "end_time": "2019-03-25T08:14:12.202341Z",
     "start_time": "2019-03-25T08:14:09.063812Z"
    }
   },
   "outputs": [
    {
     "name": "stdout",
     "output_type": "stream",
     "text": [
      "<class 'pandas.core.frame.DataFrame'>\n",
      "RangeIndex: 28887 entries, 0 to 28886\n",
      "Data columns (total 10 columns):\n",
      "企业编号          28887 non-null int64\n",
      "标题            28887 non-null object\n",
      "日期            28887 non-null object\n",
      "基本每股收益(元)     28887 non-null object\n",
      "扣非每股收益(元)     28887 non-null object\n",
      "稀释每股收益(元)     26099 non-null object\n",
      "每股净资产(元)      26099 non-null object\n",
      "每股公积金(元)      26099 non-null object\n",
      "每股未分配利润(元)    26099 non-null object\n",
      "每股经营现金流(元)    26099 non-null object\n",
      "dtypes: int64(1), object(9)\n",
      "memory usage: 2.2+ MB\n"
     ]
    },
    {
     "data": {
      "text/plain": [
       "26099"
      ]
     },
     "execution_count": 1,
     "metadata": {},
     "output_type": "execute_result"
    }
   ],
   "source": [
    "import pandas as pd\n",
    "df_meiguzhibiao= pd.read_excel(r'../../Data/CompInfo/上市公司财务信息-每股指标.xlsx')\n",
    "df_meiguzhibiao.info()\n",
    "len(df_meiguzhibiao.loc[df_meiguzhibiao['扣非每股收益(元)']==df_meiguzhibiao['稀释每股收益(元)']])"
   ]
  },
  {
   "cell_type": "code",
   "execution_count": 2,
   "metadata": {
    "ExecuteTime": {
     "end_time": "2019-03-25T08:14:20.611279Z",
     "start_time": "2019-03-25T08:14:20.528062Z"
    }
   },
   "outputs": [],
   "source": [
    "A=['基本每股收益(元)','扣非每股收益(元)','稀释每股收益(元)','每股净资产(元)','每股公积金(元)','每股未分配利润(元)','每股经营现金流(元)']\n",
    "for arr in A:\n",
    "    df_meiguzhibiao[arr]=pd.to_numeric(df_meiguzhibiao[arr],errors='coerce')"
   ]
  },
  {
   "cell_type": "code",
   "execution_count": 3,
   "metadata": {
    "ExecuteTime": {
     "end_time": "2019-03-25T08:14:59.560815Z",
     "start_time": "2019-03-25T08:14:59.502090Z"
    }
   },
   "outputs": [
    {
     "data": {
      "text/html": [
       "<div>\n",
       "<style scoped>\n",
       "    .dataframe tbody tr th:only-of-type {\n",
       "        vertical-align: middle;\n",
       "    }\n",
       "\n",
       "    .dataframe tbody tr th {\n",
       "        vertical-align: top;\n",
       "    }\n",
       "\n",
       "    .dataframe thead th {\n",
       "        text-align: right;\n",
       "    }\n",
       "</style>\n",
       "<table border=\"1\" class=\"dataframe\">\n",
       "  <thead>\n",
       "    <tr style=\"text-align: right;\">\n",
       "      <th></th>\n",
       "      <th>基本每股收益_mean</th>\n",
       "      <th>基本每股收益_max</th>\n",
       "      <th>基本每股收益_min</th>\n",
       "      <th>基本每股收益_std</th>\n",
       "      <th>扣非每股收益_mean</th>\n",
       "      <th>扣非每股收益_max</th>\n",
       "      <th>扣非每股收益_min</th>\n",
       "      <th>扣非每股收益_std</th>\n",
       "      <th>每股净资产_mean</th>\n",
       "      <th>每股净资产_max</th>\n",
       "      <th>...</th>\n",
       "      <th>每股公积金_std</th>\n",
       "      <th>每股未分配利润_mean</th>\n",
       "      <th>每股未分配利润_max</th>\n",
       "      <th>每股未分配利润_min</th>\n",
       "      <th>每股未分配利润_std</th>\n",
       "      <th>每股经营现金流_mean</th>\n",
       "      <th>每股经营现金流_max</th>\n",
       "      <th>每股经营现金流_min</th>\n",
       "      <th>每股经营现金流_std</th>\n",
       "      <th>企业编号</th>\n",
       "    </tr>\n",
       "    <tr>\n",
       "      <th>企业编号</th>\n",
       "      <th></th>\n",
       "      <th></th>\n",
       "      <th></th>\n",
       "      <th></th>\n",
       "      <th></th>\n",
       "      <th></th>\n",
       "      <th></th>\n",
       "      <th></th>\n",
       "      <th></th>\n",
       "      <th></th>\n",
       "      <th></th>\n",
       "      <th></th>\n",
       "      <th></th>\n",
       "      <th></th>\n",
       "      <th></th>\n",
       "      <th></th>\n",
       "      <th></th>\n",
       "      <th></th>\n",
       "      <th></th>\n",
       "      <th></th>\n",
       "      <th></th>\n",
       "    </tr>\n",
       "  </thead>\n",
       "  <tbody>\n",
       "    <tr>\n",
       "      <th>1001</th>\n",
       "      <td>1.335222</td>\n",
       "      <td>2.4040</td>\n",
       "      <td>0.4600</td>\n",
       "      <td>0.637924</td>\n",
       "      <td>1.335222</td>\n",
       "      <td>2.4040</td>\n",
       "      <td>0.4600</td>\n",
       "      <td>0.637924</td>\n",
       "      <td>14.280667</td>\n",
       "      <td>16.2000</td>\n",
       "      <td>...</td>\n",
       "      <td>0.382363</td>\n",
       "      <td>4.114956</td>\n",
       "      <td>5.1276</td>\n",
       "      <td>3.3708</td>\n",
       "      <td>0.507274</td>\n",
       "      <td>-6.708933</td>\n",
       "      <td>-1.6600</td>\n",
       "      <td>-12.3358</td>\n",
       "      <td>3.473729</td>\n",
       "      <td>1001</td>\n",
       "    </tr>\n",
       "    <tr>\n",
       "      <th>1002</th>\n",
       "      <td>0.601111</td>\n",
       "      <td>1.2100</td>\n",
       "      <td>0.2100</td>\n",
       "      <td>0.322895</td>\n",
       "      <td>0.568889</td>\n",
       "      <td>0.9800</td>\n",
       "      <td>0.2100</td>\n",
       "      <td>0.280911</td>\n",
       "      <td>8.230900</td>\n",
       "      <td>9.6736</td>\n",
       "      <td>...</td>\n",
       "      <td>0.438704</td>\n",
       "      <td>3.494911</td>\n",
       "      <td>4.8382</td>\n",
       "      <td>2.4992</td>\n",
       "      <td>0.899151</td>\n",
       "      <td>0.950211</td>\n",
       "      <td>1.7009</td>\n",
       "      <td>0.3076</td>\n",
       "      <td>0.434158</td>\n",
       "      <td>1002</td>\n",
       "    </tr>\n",
       "    <tr>\n",
       "      <th>1003</th>\n",
       "      <td>0.100100</td>\n",
       "      <td>0.2069</td>\n",
       "      <td>0.0352</td>\n",
       "      <td>0.052533</td>\n",
       "      <td>0.100100</td>\n",
       "      <td>0.2069</td>\n",
       "      <td>0.0352</td>\n",
       "      <td>0.052533</td>\n",
       "      <td>3.345133</td>\n",
       "      <td>3.5143</td>\n",
       "      <td>...</td>\n",
       "      <td>0.000900</td>\n",
       "      <td>1.655433</td>\n",
       "      <td>1.8095</td>\n",
       "      <td>1.5825</td>\n",
       "      <td>0.079008</td>\n",
       "      <td>-0.252300</td>\n",
       "      <td>0.3714</td>\n",
       "      <td>-0.5147</td>\n",
       "      <td>0.255316</td>\n",
       "      <td>1003</td>\n",
       "    </tr>\n",
       "  </tbody>\n",
       "</table>\n",
       "<p>3 rows × 25 columns</p>\n",
       "</div>"
      ],
      "text/plain": [
       "      基本每股收益_mean  基本每股收益_max  基本每股收益_min  基本每股收益_std  扣非每股收益_mean  \\\n",
       "企业编号                                                                 \n",
       "1001     1.335222      2.4040      0.4600    0.637924     1.335222   \n",
       "1002     0.601111      1.2100      0.2100    0.322895     0.568889   \n",
       "1003     0.100100      0.2069      0.0352    0.052533     0.100100   \n",
       "\n",
       "      扣非每股收益_max  扣非每股收益_min  扣非每股收益_std  每股净资产_mean  每股净资产_max  ...   \\\n",
       "企业编号                                                             ...    \n",
       "1001      2.4040      0.4600    0.637924   14.280667    16.2000  ...    \n",
       "1002      0.9800      0.2100    0.280911    8.230900     9.6736  ...    \n",
       "1003      0.2069      0.0352    0.052533    3.345133     3.5143  ...    \n",
       "\n",
       "      每股公积金_std  每股未分配利润_mean  每股未分配利润_max  每股未分配利润_min  每股未分配利润_std  \\\n",
       "企业编号                                                                   \n",
       "1001   0.382363      4.114956       5.1276       3.3708     0.507274   \n",
       "1002   0.438704      3.494911       4.8382       2.4992     0.899151   \n",
       "1003   0.000900      1.655433       1.8095       1.5825     0.079008   \n",
       "\n",
       "      每股经营现金流_mean  每股经营现金流_max  每股经营现金流_min  每股经营现金流_std  企业编号  \n",
       "企业编号                                                             \n",
       "1001     -6.708933      -1.6600     -12.3358     3.473729  1001  \n",
       "1002      0.950211       1.7009       0.3076     0.434158  1002  \n",
       "1003     -0.252300       0.3714      -0.5147     0.255316  1003  \n",
       "\n",
       "[3 rows x 25 columns]"
      ]
     },
     "execution_count": 3,
     "metadata": {},
     "output_type": "execute_result"
    }
   ],
   "source": [
    "agg_func = {\n",
    "    '基本每股收益(元)': ['mean', 'max', 'min','std'],\n",
    "    '扣非每股收益(元)': ['mean', 'max', 'min','std'],\n",
    "    '每股净资产(元)': ['mean', 'max', 'min','std'],\n",
    "    '每股公积金(元)': ['mean', 'max', 'min','std'],\n",
    "    '每股未分配利润(元)':['mean', 'max', 'min','std'],\n",
    "    '每股经营现金流(元)':['mean','max','min','std'],\n",
    "}\n",
    "df_meiguzhibiao_new = df_meiguzhibiao.groupby(['企业编号']).agg(agg_func)\n",
    "df_meiguzhibiao_new.columns = ['_'.join(col) for col in df_meiguzhibiao_new.columns.values]\n",
    "df_meiguzhibiao_new.columns = [\n",
    "    '基本每股收益_mean', '基本每股收益_max', '基本每股收益_min', '基本每股收益_std','扣非每股收益_mean', '扣非每股收益_max', '扣非每股收益_min', '扣非每股收益_std',\n",
    "     '每股净资产_mean', '每股净资产_max', '每股净资产_min', '每股净资产_std', '每股公积金_mean', '每股公积金_max', '每股公积金_min', '每股公积金_std',\n",
    "     '每股未分配利润_mean', '每股未分配利润_max', '每股未分配利润_min', '每股未分配利润_std', '每股经营现金流_mean', '每股经营现金流_max', '每股经营现金流_min', '每股经营现金流_std']\n",
    "df_meiguzhibiao_new['企业编号'] = df_meiguzhibiao_new.index\n",
    "df_meiguzhibiao_new.head(n=3)"
   ]
  },
  {
   "cell_type": "code",
   "execution_count": 18,
   "metadata": {
    "ExecuteTime": {
     "end_time": "2019-03-25T08:22:11.576996Z",
     "start_time": "2019-03-25T08:22:11.474613Z"
    }
   },
   "outputs": [
    {
     "name": "stdout",
     "output_type": "stream",
     "text": [
      "<class 'pandas.core.frame.DataFrame'>\n",
      "Int64Index: 2986 entries, 1001 to 4000\n",
      "Data columns (total 25 columns):\n",
      "基本每股收益_mean     2986 non-null float64\n",
      "基本每股收益_max      2986 non-null float64\n",
      "基本每股收益_min      2986 non-null float64\n",
      "基本每股收益_std      2986 non-null float64\n",
      "扣非每股收益_mean     2953 non-null float64\n",
      "扣非每股收益_max      2953 non-null float64\n",
      "扣非每股收益_min      2953 non-null float64\n",
      "扣非每股收益_std      2943 non-null float64\n",
      "每股净资产_mean      2700 non-null float64\n",
      "每股净资产_max       2700 non-null float64\n",
      "每股净资产_min       2700 non-null float64\n",
      "每股净资产_std       2700 non-null float64\n",
      "每股公积金_mean      2695 non-null float64\n",
      "每股公积金_max       2695 non-null float64\n",
      "每股公积金_min       2695 non-null float64\n",
      "每股公积金_std       2695 non-null float64\n",
      "每股未分配利润_mean    2700 non-null float64\n",
      "每股未分配利润_max     2700 non-null float64\n",
      "每股未分配利润_min     2700 non-null float64\n",
      "每股未分配利润_std     2700 non-null float64\n",
      "每股经营现金流_mean    2700 non-null float64\n",
      "每股经营现金流_max     2700 non-null float64\n",
      "每股经营现金流_min     2700 non-null float64\n",
      "每股经营现金流_std     2700 non-null float64\n",
      "企业编号            2986 non-null int64\n",
      "dtypes: float64(24), int64(1)\n",
      "memory usage: 606.5 KB\n",
      "<class 'pandas.core.frame.DataFrame'>\n",
      "RangeIndex: 2995 entries, 0 to 2994\n",
      "Data columns (total 2 columns):\n",
      "企业编号     2995 non-null int64\n",
      "企业总评分    2995 non-null float64\n",
      "dtypes: float64(1), int64(1)\n",
      "memory usage: 46.9 KB\n"
     ]
    }
   ],
   "source": [
    "df_meiguzhibiao_xiangguanfenxi = df_meiguzhibiao_new.copy()\n",
    "df_meiguzhibiao_xiangguanfenxi.info()\n",
    "score = pd.read_excel(r'../../Data/CompInfo/企业评分.xlsx')\n",
    "score.info()"
   ]
  },
  {
   "cell_type": "code",
   "execution_count": 24,
   "metadata": {
    "ExecuteTime": {
     "end_time": "2019-03-25T08:26:38.556120Z",
     "start_time": "2019-03-25T08:26:38.542093Z"
    }
   },
   "outputs": [
    {
     "name": "stdout",
     "output_type": "stream",
     "text": [
      "<class 'pandas.core.frame.DataFrame'>\n",
      "Int64Index: 2995 entries, 0 to 2994\n",
      "Data columns (total 26 columns):\n",
      "基本每股收益_mean     2995 non-null float64\n",
      "基本每股收益_max      2995 non-null float64\n",
      "基本每股收益_min      2995 non-null float64\n",
      "基本每股收益_std      2995 non-null float64\n",
      "扣非每股收益_mean     2962 non-null float64\n",
      "扣非每股收益_max      2962 non-null float64\n",
      "扣非每股收益_min      2962 non-null float64\n",
      "扣非每股收益_std      2952 non-null float64\n",
      "每股净资产_mean      2713 non-null float64\n",
      "每股净资产_max       2713 non-null float64\n",
      "每股净资产_min       2713 non-null float64\n",
      "每股净资产_std       2713 non-null float64\n",
      "每股公积金_mean      2708 non-null float64\n",
      "每股公积金_max       2708 non-null float64\n",
      "每股公积金_min       2708 non-null float64\n",
      "每股公积金_std       2708 non-null float64\n",
      "每股未分配利润_mean    2713 non-null float64\n",
      "每股未分配利润_max     2713 non-null float64\n",
      "每股未分配利润_min     2713 non-null float64\n",
      "每股未分配利润_std     2713 non-null float64\n",
      "每股经营现金流_mean    2713 non-null float64\n",
      "每股经营现金流_max     2713 non-null float64\n",
      "每股经营现金流_min     2713 non-null float64\n",
      "每股经营现金流_std     2713 non-null float64\n",
      "企业编号            2995 non-null int64\n",
      "企业总评分           2995 non-null float64\n",
      "dtypes: float64(25), int64(1)\n",
      "memory usage: 631.8 KB\n"
     ]
    },
    {
     "name": "stderr",
     "output_type": "stream",
     "text": [
      "/Library/Frameworks/Python.framework/Versions/3.6/lib/python3.6/site-packages/ipykernel_launcher.py:1: FutureWarning: '企业编号' is both an index level and a column label.\n",
      "Defaulting to column, but this will raise an ambiguity error in a future version\n",
      "  \"\"\"Entry point for launching an IPython kernel.\n"
     ]
    }
   ],
   "source": [
    "cor = df_meiguzhibiao_xiangguanfenxi.merge(score, how='inner', on='企业编号')\n",
    "cor.info()\n",
    "# columns = ['企业总评分',\n",
    "#            '基本每股收益_mean', '基本每股收益_max', '基本每股收益_min', '基本每股收益_std', '扣非每股收益_mean', '扣非每股收益_max', '扣非每股收益_min', '扣非每股收益_std',\n",
    "#            '每股净资产_mean', '每股净资产_max', '每股净资产_min', '每股净资产_std', '每股公积金_mean', '每股公积金_max', '每股公积金_min', '每股公积金_std',\n",
    "#            '每股未分配利润_mean', '每股未分配利润_max', '每股未分配利润_min', '每股未分配利润_std', '每股经营现金流_mean', '每股经营现金流_max', '每股经营现金流_min', '每股经营现金流_std']\n",
    "# cor = pd.DataFrame(cor, columns=columns)\n",
    "# # cor.head(n=5)\n",
    "# cor.corr()"
   ]
  },
  {
   "cell_type": "code",
   "execution_count": null,
   "metadata": {},
   "outputs": [],
   "source": []
  }
 ],
 "metadata": {
  "kernelspec": {
   "display_name": "Python 3",
   "language": "python",
   "name": "python3"
  },
  "language_info": {
   "codemirror_mode": {
    "name": "ipython",
    "version": 3
   },
   "file_extension": ".py",
   "mimetype": "text/x-python",
   "name": "python",
   "nbconvert_exporter": "python",
   "pygments_lexer": "ipython3",
   "version": "3.6.2"
  },
  "toc": {
   "base_numbering": 1,
   "nav_menu": {},
   "number_sections": true,
   "sideBar": true,
   "skip_h1_title": false,
   "title_cell": "Table of Contents",
   "title_sidebar": "Contents",
   "toc_cell": false,
   "toc_position": {},
   "toc_section_display": true,
   "toc_window_display": false
  },
  "varInspector": {
   "cols": {
    "lenName": 16,
    "lenType": 16,
    "lenVar": 40
   },
   "kernels_config": {
    "python": {
     "delete_cmd_postfix": "",
     "delete_cmd_prefix": "del ",
     "library": "var_list.py",
     "varRefreshCmd": "print(var_dic_list())"
    },
    "r": {
     "delete_cmd_postfix": ") ",
     "delete_cmd_prefix": "rm(",
     "library": "var_list.r",
     "varRefreshCmd": "cat(var_dic_list()) "
    }
   },
   "types_to_exclude": [
    "module",
    "function",
    "builtin_function_or_method",
    "instance",
    "_Feature"
   ],
   "window_display": false
  }
 },
 "nbformat": 4,
 "nbformat_minor": 2
}
