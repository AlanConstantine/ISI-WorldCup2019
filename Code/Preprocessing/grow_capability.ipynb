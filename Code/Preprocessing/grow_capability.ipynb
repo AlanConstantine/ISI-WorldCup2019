{
 "cells": [
  {
   "cell_type": "code",
   "execution_count": 4,
   "metadata": {
    "ExecuteTime": {
     "end_time": "2019-03-21T14:13:48.478108Z",
     "start_time": "2019-03-21T14:13:47.774731Z"
    }
   },
   "outputs": [],
   "source": [
    "from IPython.display import display\n",
    "import matplotlib.pyplot as plt\n",
    "import pandas as pd\n",
    "import numpy as np\n",
    "import seaborn as sns\n",
    "import matplotlib as mpl\n",
    "import warnings\n",
    "import time\n",
    "from collections import Counter\n",
    "warnings.filterwarnings(\"ignore\")\n",
    "\n",
    "\n",
    "plt.style.use(\"fivethirtyeight\")\n",
    "\n",
    "sns.set_style({'font.sans-serif': ['simsun', 'Arial']})\n",
    "sns.set_style('darkgrid', {'font.sans-serif': ['simhei', 'Arial']})\n",
    "%matplotlib inline"
   ]
  },
  {
   "cell_type": "code",
   "execution_count": 5,
   "metadata": {
    "ExecuteTime": {
     "end_time": "2019-03-21T14:13:58.785520Z",
     "start_time": "2019-03-21T14:13:51.436607Z"
    }
   },
   "outputs": [],
   "source": [
    "df_increase_bkp = pd.read_excel(r'../../Data/CompInfo/上市信息财务信息-成长能力指标.xlsx')"
   ]
  },
  {
   "cell_type": "code",
   "execution_count": 6,
   "metadata": {
    "ExecuteTime": {
     "end_time": "2019-03-21T14:14:05.476798Z",
     "start_time": "2019-03-21T14:14:05.455234Z"
    }
   },
   "outputs": [],
   "source": [
    "df_increase = df_increase_bkp.copy()"
   ]
  },
  {
   "cell_type": "code",
   "execution_count": 7,
   "metadata": {
    "ExecuteTime": {
     "end_time": "2019-03-21T14:14:15.900425Z",
     "start_time": "2019-03-21T14:14:15.871248Z"
    }
   },
   "outputs": [
    {
     "data": {
      "text/plain": [
       "count     28887\n",
       "unique     6472\n",
       "top          --\n",
       "freq        702\n",
       "Name: 毛利润(元), dtype: object"
      ]
     },
     "execution_count": 7,
     "metadata": {},
     "output_type": "execute_result"
    }
   ],
   "source": [
    "df_increase['毛利润(元)'].describe()"
   ]
  },
  {
   "cell_type": "code",
   "execution_count": 23,
   "metadata": {
    "ExecuteTime": {
     "end_time": "2019-03-18T17:17:57.009931Z",
     "start_time": "2019-03-18T17:17:56.656579Z"
    }
   },
   "outputs": [
    {
     "name": "stdout",
     "output_type": "stream",
     "text": [
      "企业编号 0\n",
      "标题 0\n",
      "日期 0\n",
      "营业总收入(元) 10\n",
      "毛利润(元) 702\n",
      "归属净利润(元) 0\n",
      "扣非净利润(元) 481\n",
      "营业总收入同比增长(元) 658\n",
      "归属净利润同比增长(元) 3955\n",
      "扣非净利润同比增长(元) 5980\n",
      "营业总收入滚动环比增长(元) 1438\n",
      "归属净利润滚动环比增长(元) 2930\n",
      "扣非净利润滚动环比增长(元) 7979\n"
     ]
    }
   ],
   "source": [
    "for c in df_increase.columns:\n",
    "    print(\n",
    "        c, len(df_increase.loc[(df_increase[c].astype(str).str.contains('--'))]))"
   ]
  },
  {
   "cell_type": "code",
   "execution_count": 2,
   "metadata": {
    "ExecuteTime": {
     "end_time": "2019-03-21T14:13:22.876193Z",
     "start_time": "2019-03-21T14:13:22.855832Z"
    }
   },
   "outputs": [
    {
     "ename": "NameError",
     "evalue": "name 'df_increase' is not defined",
     "output_type": "error",
     "traceback": [
      "\u001b[0;31m---------------------------------------------------------------------------\u001b[0m",
      "\u001b[0;31mNameError\u001b[0m                                 Traceback (most recent call last)",
      "\u001b[0;32m<ipython-input-2-fad262f624a6>\u001b[0m in \u001b[0;36m<module>\u001b[0;34m\u001b[0m\n\u001b[1;32m      1\u001b[0m \u001b[0mA\u001b[0m \u001b[0;34m=\u001b[0m \u001b[0;34m[\u001b[0m\u001b[0;34m'营业总收入(元)'\u001b[0m\u001b[0;34m,\u001b[0m \u001b[0;34m'毛利润(元)'\u001b[0m\u001b[0;34m,\u001b[0m \u001b[0;34m'归属净利润(元)'\u001b[0m\u001b[0;34m,\u001b[0m \u001b[0;34m'扣非净利润(元)'\u001b[0m\u001b[0;34m]\u001b[0m\u001b[0;34m\u001b[0m\u001b[0;34m\u001b[0m\u001b[0m\n\u001b[1;32m      2\u001b[0m \u001b[0;32mfor\u001b[0m \u001b[0marr\u001b[0m \u001b[0;32min\u001b[0m \u001b[0mA\u001b[0m\u001b[0;34m:\u001b[0m\u001b[0;34m\u001b[0m\u001b[0;34m\u001b[0m\u001b[0m\n\u001b[0;32m----> 3\u001b[0;31m     df_increase.loc[(df_increase[arr].str.contains(\"亿\") == True), arr] = df_increase.loc[(\n\u001b[0m\u001b[1;32m      4\u001b[0m         df_increase[arr].str.contains(\"亿\") == True), arr].str.replace('亿', '').astype(float)*100000000\n\u001b[1;32m      5\u001b[0m     df_increase.loc[(df_increase[arr].str.contains(\"万\") == True), arr] = df.loc[(\n",
      "\u001b[0;31mNameError\u001b[0m: name 'df_increase' is not defined"
     ]
    }
   ],
   "source": [
    "A = ['营业总收入(元)', '毛利润(元)', '归属净利润(元)', '扣非净利润(元)']\n",
    "for arr in A:\n",
    "    df_increase.loc[(df_increase[arr].str.contains(\"亿\") == True), arr] = df_increase.loc[(\n",
    "        df_increase[arr].str.contains(\"亿\") == True), arr].str.replace('亿', '').astype(float)*100000000\n",
    "    df_increase.loc[(df_increase[arr].str.contains(\"万\") == True), arr] = df.loc[(\n",
    "        df_increase[arr].str.contains(\"万\") == True), arr].str.replace('万', '').astype(float)*10000"
   ]
  },
  {
   "cell_type": "code",
   "execution_count": null,
   "metadata": {},
   "outputs": [],
   "source": []
  }
 ],
 "metadata": {
  "kernelspec": {
   "display_name": "Python 3",
   "language": "python",
   "name": "python3"
  },
  "language_info": {
   "codemirror_mode": {
    "name": "ipython",
    "version": 3
   },
   "file_extension": ".py",
   "mimetype": "text/x-python",
   "name": "python",
   "nbconvert_exporter": "python",
   "pygments_lexer": "ipython3",
   "version": "3.6.8"
  },
  "toc": {
   "base_numbering": 1,
   "nav_menu": {},
   "number_sections": true,
   "sideBar": true,
   "skip_h1_title": false,
   "title_cell": "Table of Contents",
   "title_sidebar": "Contents",
   "toc_cell": false,
   "toc_position": {},
   "toc_section_display": true,
   "toc_window_display": false
  },
  "varInspector": {
   "cols": {
    "lenName": 16,
    "lenType": 16,
    "lenVar": 40
   },
   "kernels_config": {
    "python": {
     "delete_cmd_postfix": "",
     "delete_cmd_prefix": "del ",
     "library": "var_list.py",
     "varRefreshCmd": "print(var_dic_list())"
    },
    "r": {
     "delete_cmd_postfix": ") ",
     "delete_cmd_prefix": "rm(",
     "library": "var_list.r",
     "varRefreshCmd": "cat(var_dic_list()) "
    }
   },
   "types_to_exclude": [
    "module",
    "function",
    "builtin_function_or_method",
    "instance",
    "_Feature"
   ],
   "window_display": false
  }
 },
 "nbformat": 4,
 "nbformat_minor": 2
}
