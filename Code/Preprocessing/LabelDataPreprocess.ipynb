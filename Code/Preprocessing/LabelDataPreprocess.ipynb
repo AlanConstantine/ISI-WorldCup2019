{
 "cells": [
  {
   "cell_type": "code",
   "execution_count": 1,
   "metadata": {
    "ExecuteTime": {
     "end_time": "2019-03-14T23:04:54.438278Z",
     "start_time": "2019-03-14T23:04:53.735066Z"
    }
   },
   "outputs": [],
   "source": [
    "from IPython.display import display\n",
    "import matplotlib.pyplot as plt\n",
    "import pandas as pd\n",
    "import numpy as np\n",
    "import seaborn as sns\n",
    "import matplotlib as mpl\n",
    "import warnings\n",
    "warnings.filterwarnings(\"ignore\")\n",
    "\n",
    "plt.style.use(\"fivethirtyeight\")\n",
    "\n",
    "sns.set_style({'font.sans-serif': ['simsun', 'Arial']})\n",
    "sns.set_style('darkgrid', {'font.sans-serif': ['simhei', 'Arial']})\n",
    "%matplotlib inline"
   ]
  },
  {
   "cell_type": "markdown",
   "metadata": {},
   "source": [
    "# 专利.xlsx"
   ]
  },
  {
   "cell_type": "code",
   "execution_count": 2,
   "metadata": {
    "ExecuteTime": {
     "end_time": "2019-03-14T23:06:16.458115Z",
     "start_time": "2019-03-14T23:05:00.818870Z"
    }
   },
   "outputs": [],
   "source": [
    "df_zhuanli = pd.read_excel(r'../../Data/CompInfo/专利.xlsx')\n",
    "df_zhuanli_copy = df_zhuanli.copy()"
   ]
  },
  {
   "cell_type": "code",
   "execution_count": 3,
   "metadata": {
    "ExecuteTime": {
     "end_time": "2019-03-14T23:06:22.989417Z",
     "start_time": "2019-03-14T23:06:22.780489Z"
    }
   },
   "outputs": [
    {
     "name": "stdout",
     "output_type": "stream",
     "text": [
      "<class 'pandas.core.frame.DataFrame'>\n",
      "RangeIndex: 980360 entries, 0 to 980359\n",
      "Data columns (total 4 columns):\n",
      "企业编号     980360 non-null int64\n",
      "专利类型     980360 non-null object\n",
      "授权公告日    980360 non-null object\n",
      "申请日      980360 non-null object\n",
      "dtypes: int64(1), object(3)\n",
      "memory usage: 29.9+ MB\n"
     ]
    }
   ],
   "source": [
    "df_zhuanli.info()"
   ]
  },
  {
   "cell_type": "markdown",
   "metadata": {},
   "source": [
    "* 授权公告日是指专利部门作出授予专利权的决定，发给专利证书，同时予以登记和公告的日子。专利权自公告之日起生效。"
   ]
  },
  {
   "cell_type": "code",
   "execution_count": 4,
   "metadata": {
    "ExecuteTime": {
     "end_time": "2019-03-14T23:06:25.721291Z",
     "start_time": "2019-03-14T23:06:25.599791Z"
    }
   },
   "outputs": [
    {
     "data": {
      "text/html": [
       "<div>\n",
       "<style scoped>\n",
       "    .dataframe tbody tr th:only-of-type {\n",
       "        vertical-align: middle;\n",
       "    }\n",
       "\n",
       "    .dataframe tbody tr th {\n",
       "        vertical-align: top;\n",
       "    }\n",
       "\n",
       "    .dataframe thead th {\n",
       "        text-align: right;\n",
       "    }\n",
       "</style>\n",
       "<table border=\"1\" class=\"dataframe\">\n",
       "  <thead>\n",
       "    <tr style=\"text-align: right;\">\n",
       "      <th></th>\n",
       "      <th>企业编号</th>\n",
       "      <th>专利类型</th>\n",
       "      <th>授权公告日</th>\n",
       "      <th>申请日</th>\n",
       "    </tr>\n",
       "  </thead>\n",
       "  <tbody>\n",
       "    <tr>\n",
       "      <th>0</th>\n",
       "      <td>1001</td>\n",
       "      <td>发明公布</td>\n",
       "      <td>2006-09-08­</td>\n",
       "      <td>2008-03-12</td>\n",
       "    </tr>\n",
       "    <tr>\n",
       "      <th>1</th>\n",
       "      <td>1001</td>\n",
       "      <td>发明公布</td>\n",
       "      <td>2006-06-23­</td>\n",
       "      <td>2007-12-26</td>\n",
       "    </tr>\n",
       "    <tr>\n",
       "      <th>2</th>\n",
       "      <td>1001</td>\n",
       "      <td>发明公布</td>\n",
       "      <td>2006-06-23</td>\n",
       "      <td>2007-12-26</td>\n",
       "    </tr>\n",
       "    <tr>\n",
       "      <th>3</th>\n",
       "      <td>1001</td>\n",
       "      <td>发明公布</td>\n",
       "      <td>2006-09-08</td>\n",
       "      <td>2008-03-12</td>\n",
       "    </tr>\n",
       "    <tr>\n",
       "      <th>4</th>\n",
       "      <td>1002</td>\n",
       "      <td>实用新型</td>\n",
       "      <td>2010-09-26</td>\n",
       "      <td>2011-10-26</td>\n",
       "    </tr>\n",
       "  </tbody>\n",
       "</table>\n",
       "</div>"
      ],
      "text/plain": [
       "   企业编号  专利类型        授权公告日         申请日\n",
       "0  1001  发明公布  2006-09-08­  2008-03-12\n",
       "1  1001  发明公布  2006-06-23­  2007-12-26\n",
       "2  1001  发明公布   2006-06-23  2007-12-26\n",
       "3  1001  发明公布   2006-09-08  2008-03-12\n",
       "4  1002  实用新型   2010-09-26  2011-10-26"
      ]
     },
     "metadata": {},
     "output_type": "display_data"
    }
   ],
   "source": [
    "df_zhuanli = df_zhuanli_copy.copy()\n",
    "display(df_zhuanli.head(n=5))"
   ]
  },
  {
   "cell_type": "markdown",
   "metadata": {},
   "source": [
    "## 专利类型\n",
    "统计每个公司的每个专利数量"
   ]
  },
  {
   "cell_type": "code",
   "execution_count": 5,
   "metadata": {
    "ExecuteTime": {
     "end_time": "2019-03-14T23:06:29.362802Z",
     "start_time": "2019-03-14T23:06:29.278206Z"
    }
   },
   "outputs": [
    {
     "data": {
      "text/plain": [
       "发明公布      404207\n",
       "实用新型      300250\n",
       "发明授权      170671\n",
       "外观设计      104337\n",
       "发明公布更正       652\n",
       "发明专利         107\n",
       "实用新型更正        68\n",
       "外观设计更正        38\n",
       "发明授权更正        30\n",
       "Name: 专利类型, dtype: int64"
      ]
     },
     "execution_count": 5,
     "metadata": {},
     "output_type": "execute_result"
    }
   ],
   "source": [
    "df_zhuanli['专利类型'].value_counts()"
   ]
  },
  {
   "cell_type": "code",
   "execution_count": 6,
   "metadata": {
    "ExecuteTime": {
     "end_time": "2019-03-14T23:06:33.259208Z",
     "start_time": "2019-03-14T23:06:32.469313Z"
    }
   },
   "outputs": [
    {
     "data": {
      "text/plain": [
       "发明公布    404859\n",
       "实用新型    300318\n",
       "发明授权    170701\n",
       "外观设计    104375\n",
       "发明专利       107\n",
       "Name: 专利类型, dtype: int64"
      ]
     },
     "execution_count": 6,
     "metadata": {},
     "output_type": "execute_result"
    }
   ],
   "source": [
    "df_zhuanli['专利类型'] = df_zhuanli['专利类型'].str.replace('更正', '', regex=True)\n",
    "df_zhuanli['专利类型'].value_counts()"
   ]
  },
  {
   "cell_type": "markdown",
   "metadata": {},
   "source": [
    "## 时间处理"
   ]
  },
  {
   "cell_type": "code",
   "execution_count": 7,
   "metadata": {
    "ExecuteTime": {
     "end_time": "2019-03-14T23:06:41.263063Z",
     "start_time": "2019-03-14T23:06:39.193196Z"
    }
   },
   "outputs": [
    {
     "data": {
      "text/html": [
       "<div>\n",
       "<style scoped>\n",
       "    .dataframe tbody tr th:only-of-type {\n",
       "        vertical-align: middle;\n",
       "    }\n",
       "\n",
       "    .dataframe tbody tr th {\n",
       "        vertical-align: top;\n",
       "    }\n",
       "\n",
       "    .dataframe thead th {\n",
       "        text-align: right;\n",
       "    }\n",
       "</style>\n",
       "<table border=\"1\" class=\"dataframe\">\n",
       "  <thead>\n",
       "    <tr style=\"text-align: right;\">\n",
       "      <th></th>\n",
       "      <th>企业编号</th>\n",
       "      <th>专利类型</th>\n",
       "      <th>授权公告日</th>\n",
       "      <th>申请日</th>\n",
       "      <th>专利申请时间差</th>\n",
       "    </tr>\n",
       "  </thead>\n",
       "  <tbody>\n",
       "    <tr>\n",
       "      <th>0</th>\n",
       "      <td>1001</td>\n",
       "      <td>发明公布</td>\n",
       "      <td>2006-09-08</td>\n",
       "      <td>2008-03-12</td>\n",
       "      <td>551</td>\n",
       "    </tr>\n",
       "    <tr>\n",
       "      <th>1</th>\n",
       "      <td>1001</td>\n",
       "      <td>发明公布</td>\n",
       "      <td>2006-06-23</td>\n",
       "      <td>2007-12-26</td>\n",
       "      <td>551</td>\n",
       "    </tr>\n",
       "    <tr>\n",
       "      <th>2</th>\n",
       "      <td>1001</td>\n",
       "      <td>发明公布</td>\n",
       "      <td>2006-06-23</td>\n",
       "      <td>2007-12-26</td>\n",
       "      <td>551</td>\n",
       "    </tr>\n",
       "    <tr>\n",
       "      <th>3</th>\n",
       "      <td>1001</td>\n",
       "      <td>发明公布</td>\n",
       "      <td>2006-09-08</td>\n",
       "      <td>2008-03-12</td>\n",
       "      <td>551</td>\n",
       "    </tr>\n",
       "    <tr>\n",
       "      <th>4</th>\n",
       "      <td>1002</td>\n",
       "      <td>实用新型</td>\n",
       "      <td>2010-09-26</td>\n",
       "      <td>2011-10-26</td>\n",
       "      <td>395</td>\n",
       "    </tr>\n",
       "  </tbody>\n",
       "</table>\n",
       "</div>"
      ],
      "text/plain": [
       "   企业编号  专利类型      授权公告日        申请日  专利申请时间差\n",
       "0  1001  发明公布 2006-09-08 2008-03-12      551\n",
       "1  1001  发明公布 2006-06-23 2007-12-26      551\n",
       "2  1001  发明公布 2006-06-23 2007-12-26      551\n",
       "3  1001  发明公布 2006-09-08 2008-03-12      551\n",
       "4  1002  实用新型 2010-09-26 2011-10-26      395"
      ]
     },
     "metadata": {},
     "output_type": "display_data"
    }
   ],
   "source": [
    "df_zhuanli['授权公告日'] = df_zhuanli['授权公告日'].str.replace(\n",
    "    r'[^0-9\\-]', '', regex=True)\n",
    "df_zhuanli['申请日'] = df_zhuanli['申请日'].str.replace(r'[^0-9\\-]', '', regex=True)\n",
    "\n",
    "df_zhuanli['授权公告日'] = pd.to_datetime(df_zhuanli['授权公告日'])\n",
    "df_zhuanli['申请日'] = pd.to_datetime(df_zhuanli['申请日'])\n",
    "df_zhuanli['专利申请时间差'] = df_zhuanli['申请日'].sub(\n",
    "    df_zhuanli['授权公告日'], axis=0).dt.days\n",
    "df_zhuanli = df_zhuanli.drop(columns=['授权公告日', '申请日'])\n",
    "display(df_zhuanli.head(n=5))"
   ]
  },
  {
   "cell_type": "code",
   "execution_count": 60,
   "metadata": {
    "ExecuteTime": {
     "end_time": "2019-03-14T17:58:38.762463Z",
     "start_time": "2019-03-14T17:58:38.756086Z"
    }
   },
   "outputs": [],
   "source": [
    "# new_df_zhuanli = df_zhuanli.groupby(['企业编号', '专利类型'])['专利类型'].count().unstack()\n",
    "# new_df_zhuanli.columns = ['发明专利', '发明公布', '发明授权', '外观设计', '实用新型']\n",
    "# new_df_zhuanli['企业编号'] = new_df_zhuanli.index\n",
    "# columns = ['企业编号', '发明专利', '发明公布', '发明授权', '外观设计', '实用新型']\n",
    "# new_df_zhuanli = pd.DataFrame(new_df_zhuanli, columns=columns)\n",
    "# new_df_zhuanli = new_df_zhuanli.set_index(np.arange(0, len(new_df_zhuanli)))\n",
    "# new_df_zhuanli.head(n=5)"
   ]
  },
  {
   "cell_type": "code",
   "execution_count": 32,
   "metadata": {
    "ExecuteTime": {
     "end_time": "2019-03-14T23:33:29.293639Z",
     "start_time": "2019-03-14T23:33:29.095536Z"
    }
   },
   "outputs": [
    {
     "data": {
      "text/html": [
       "<div>\n",
       "<style scoped>\n",
       "    .dataframe tbody tr th:only-of-type {\n",
       "        vertical-align: middle;\n",
       "    }\n",
       "\n",
       "    .dataframe tbody tr th {\n",
       "        vertical-align: top;\n",
       "    }\n",
       "\n",
       "    .dataframe thead th {\n",
       "        text-align: right;\n",
       "    }\n",
       "</style>\n",
       "<table border=\"1\" class=\"dataframe\">\n",
       "  <thead>\n",
       "    <tr style=\"text-align: right;\">\n",
       "      <th></th>\n",
       "      <th>企业编号</th>\n",
       "      <th>专利类型_count_发明专利</th>\n",
       "      <th>专利类型_count_发明公布</th>\n",
       "      <th>专利类型_count_发明授权</th>\n",
       "      <th>专利类型_count_外观设计</th>\n",
       "      <th>专利类型_count_实用新型</th>\n",
       "      <th>专利申请时间差_mean_发明专利</th>\n",
       "      <th>专利申请时间差_mean_发明公布</th>\n",
       "      <th>专利申请时间差_mean_发明授权</th>\n",
       "      <th>专利申请时间差_mean_外观设计</th>\n",
       "      <th>专利申请时间差_mean_实用新型</th>\n",
       "      <th>专利申请时间差_std_发明专利</th>\n",
       "      <th>专利申请时间差_std_发明公布</th>\n",
       "      <th>专利申请时间差_std_发明授权</th>\n",
       "      <th>专利申请时间差_std_外观设计</th>\n",
       "      <th>专利申请时间差_std_实用新型</th>\n",
       "    </tr>\n",
       "  </thead>\n",
       "  <tbody>\n",
       "    <tr>\n",
       "      <th>0</th>\n",
       "      <td>1001</td>\n",
       "      <td>NaN</td>\n",
       "      <td>4.0</td>\n",
       "      <td>NaN</td>\n",
       "      <td>NaN</td>\n",
       "      <td>NaN</td>\n",
       "      <td>NaN</td>\n",
       "      <td>551.000000</td>\n",
       "      <td>NaN</td>\n",
       "      <td>NaN</td>\n",
       "      <td>NaN</td>\n",
       "      <td>NaN</td>\n",
       "      <td>0.000000</td>\n",
       "      <td>NaN</td>\n",
       "      <td>NaN</td>\n",
       "      <td>NaN</td>\n",
       "    </tr>\n",
       "    <tr>\n",
       "      <th>1</th>\n",
       "      <td>1002</td>\n",
       "      <td>NaN</td>\n",
       "      <td>1.0</td>\n",
       "      <td>NaN</td>\n",
       "      <td>NaN</td>\n",
       "      <td>1.0</td>\n",
       "      <td>NaN</td>\n",
       "      <td>159.000000</td>\n",
       "      <td>NaN</td>\n",
       "      <td>NaN</td>\n",
       "      <td>395.000000</td>\n",
       "      <td>NaN</td>\n",
       "      <td>NaN</td>\n",
       "      <td>NaN</td>\n",
       "      <td>NaN</td>\n",
       "      <td>NaN</td>\n",
       "    </tr>\n",
       "    <tr>\n",
       "      <th>2</th>\n",
       "      <td>1003</td>\n",
       "      <td>NaN</td>\n",
       "      <td>141.0</td>\n",
       "      <td>61.0</td>\n",
       "      <td>524.0</td>\n",
       "      <td>987.0</td>\n",
       "      <td>NaN</td>\n",
       "      <td>236.198582</td>\n",
       "      <td>764.95082</td>\n",
       "      <td>194.299618</td>\n",
       "      <td>214.126646</td>\n",
       "      <td>NaN</td>\n",
       "      <td>186.918211</td>\n",
       "      <td>213.41395</td>\n",
       "      <td>77.800082</td>\n",
       "      <td>68.021736</td>\n",
       "    </tr>\n",
       "    <tr>\n",
       "      <th>3</th>\n",
       "      <td>1004</td>\n",
       "      <td>NaN</td>\n",
       "      <td>1.0</td>\n",
       "      <td>NaN</td>\n",
       "      <td>5.0</td>\n",
       "      <td>1.0</td>\n",
       "      <td>NaN</td>\n",
       "      <td>219.000000</td>\n",
       "      <td>NaN</td>\n",
       "      <td>161.800000</td>\n",
       "      <td>349.000000</td>\n",
       "      <td>NaN</td>\n",
       "      <td>NaN</td>\n",
       "      <td>NaN</td>\n",
       "      <td>13.461055</td>\n",
       "      <td>NaN</td>\n",
       "    </tr>\n",
       "    <tr>\n",
       "      <th>4</th>\n",
       "      <td>1005</td>\n",
       "      <td>NaN</td>\n",
       "      <td>6.0</td>\n",
       "      <td>2.0</td>\n",
       "      <td>NaN</td>\n",
       "      <td>6.0</td>\n",
       "      <td>NaN</td>\n",
       "      <td>412.666667</td>\n",
       "      <td>622.00000</td>\n",
       "      <td>NaN</td>\n",
       "      <td>176.333333</td>\n",
       "      <td>NaN</td>\n",
       "      <td>249.936525</td>\n",
       "      <td>0.00000</td>\n",
       "      <td>NaN</td>\n",
       "      <td>14.109099</td>\n",
       "    </tr>\n",
       "  </tbody>\n",
       "</table>\n",
       "</div>"
      ],
      "text/plain": [
       "   企业编号  专利类型_count_发明专利  专利类型_count_发明公布  专利类型_count_发明授权  专利类型_count_外观设计  \\\n",
       "0  1001              NaN              4.0              NaN              NaN   \n",
       "1  1002              NaN              1.0              NaN              NaN   \n",
       "2  1003              NaN            141.0             61.0            524.0   \n",
       "3  1004              NaN              1.0              NaN              5.0   \n",
       "4  1005              NaN              6.0              2.0              NaN   \n",
       "\n",
       "   专利类型_count_实用新型  专利申请时间差_mean_发明专利  专利申请时间差_mean_发明公布  专利申请时间差_mean_发明授权  \\\n",
       "0              NaN                NaN         551.000000                NaN   \n",
       "1              1.0                NaN         159.000000                NaN   \n",
       "2            987.0                NaN         236.198582          764.95082   \n",
       "3              1.0                NaN         219.000000                NaN   \n",
       "4              6.0                NaN         412.666667          622.00000   \n",
       "\n",
       "   专利申请时间差_mean_外观设计  专利申请时间差_mean_实用新型  专利申请时间差_std_发明专利  专利申请时间差_std_发明公布  \\\n",
       "0                NaN                NaN               NaN          0.000000   \n",
       "1                NaN         395.000000               NaN               NaN   \n",
       "2         194.299618         214.126646               NaN        186.918211   \n",
       "3         161.800000         349.000000               NaN               NaN   \n",
       "4                NaN         176.333333               NaN        249.936525   \n",
       "\n",
       "   专利申请时间差_std_发明授权  专利申请时间差_std_外观设计  专利申请时间差_std_实用新型  \n",
       "0               NaN               NaN               NaN  \n",
       "1               NaN               NaN               NaN  \n",
       "2         213.41395         77.800082         68.021736  \n",
       "3               NaN         13.461055               NaN  \n",
       "4           0.00000               NaN         14.109099  "
      ]
     },
     "metadata": {},
     "output_type": "display_data"
    }
   ],
   "source": [
    "new_df_zhuanli = df_zhuanli.groupby(['企业编号', '专利类型']).agg(\n",
    "    {'专利类型': 'count', '专利申请时间差': ['mean', 'std']}).unstack()\n",
    "new_df_zhuanli.columns = [\"_\".join(x) for x in new_df_zhuanli.columns.ravel()]\n",
    "new_df_zhuanli['企业编号'] = new_df_zhuanli.index\n",
    "columns = ['企业编号',\n",
    "           '专利类型_count_发明专利',\n",
    "           '专利类型_count_发明公布',\n",
    "           '专利类型_count_发明授权',\n",
    "           '专利类型_count_外观设计',\n",
    "           '专利类型_count_实用新型',\n",
    "           '专利申请时间差_mean_发明专利',\n",
    "           '专利申请时间差_mean_发明公布',\n",
    "           '专利申请时间差_mean_发明授权',\n",
    "           '专利申请时间差_mean_外观设计',\n",
    "           '专利申请时间差_mean_实用新型',\n",
    "           '专利申请时间差_std_发明专利',\n",
    "           '专利申请时间差_std_发明公布',\n",
    "           '专利申请时间差_std_发明授权',\n",
    "           '专利申请时间差_std_外观设计',\n",
    "           '专利申请时间差_std_实用新型']\n",
    "new_df_zhuanli = pd.DataFrame(new_df_zhuanli, columns=columns)\n",
    "new_df_zhuanli = new_df_zhuanli.set_index(np.arange(0, len(new_df_zhuanli)))\n",
    "display(new_df_zhuanli.head(n=5))"
   ]
  },
  {
   "cell_type": "code",
   "execution_count": 33,
   "metadata": {
    "ExecuteTime": {
     "end_time": "2019-03-14T23:33:30.831745Z",
     "start_time": "2019-03-14T23:33:30.782947Z"
    }
   },
   "outputs": [
    {
     "data": {
      "text/html": [
       "<div>\n",
       "<style scoped>\n",
       "    .dataframe tbody tr th:only-of-type {\n",
       "        vertical-align: middle;\n",
       "    }\n",
       "\n",
       "    .dataframe tbody tr th {\n",
       "        vertical-align: top;\n",
       "    }\n",
       "\n",
       "    .dataframe thead th {\n",
       "        text-align: right;\n",
       "    }\n",
       "</style>\n",
       "<table border=\"1\" class=\"dataframe\">\n",
       "  <thead>\n",
       "    <tr style=\"text-align: right;\">\n",
       "      <th></th>\n",
       "      <th>企业编号</th>\n",
       "      <th>专利类型_count_发明专利</th>\n",
       "      <th>专利类型_count_发明公布</th>\n",
       "      <th>专利类型_count_发明授权</th>\n",
       "      <th>专利类型_count_外观设计</th>\n",
       "      <th>专利类型_count_实用新型</th>\n",
       "      <th>专利申请时间差_mean_发明专利</th>\n",
       "      <th>专利申请时间差_mean_发明公布</th>\n",
       "      <th>专利申请时间差_mean_发明授权</th>\n",
       "      <th>专利申请时间差_mean_外观设计</th>\n",
       "      <th>专利申请时间差_mean_实用新型</th>\n",
       "      <th>专利申请时间差_std_发明专利</th>\n",
       "      <th>专利申请时间差_std_发明公布</th>\n",
       "      <th>专利申请时间差_std_发明授权</th>\n",
       "      <th>专利申请时间差_std_外观设计</th>\n",
       "      <th>专利申请时间差_std_实用新型</th>\n",
       "    </tr>\n",
       "  </thead>\n",
       "  <tbody>\n",
       "    <tr>\n",
       "      <th>0</th>\n",
       "      <td>1001</td>\n",
       "      <td>0</td>\n",
       "      <td>4</td>\n",
       "      <td>0</td>\n",
       "      <td>0</td>\n",
       "      <td>0</td>\n",
       "      <td>NaN</td>\n",
       "      <td>551.000000</td>\n",
       "      <td>NaN</td>\n",
       "      <td>NaN</td>\n",
       "      <td>NaN</td>\n",
       "      <td>NaN</td>\n",
       "      <td>0.000000</td>\n",
       "      <td>NaN</td>\n",
       "      <td>NaN</td>\n",
       "      <td>NaN</td>\n",
       "    </tr>\n",
       "    <tr>\n",
       "      <th>1</th>\n",
       "      <td>1002</td>\n",
       "      <td>0</td>\n",
       "      <td>1</td>\n",
       "      <td>0</td>\n",
       "      <td>0</td>\n",
       "      <td>1</td>\n",
       "      <td>NaN</td>\n",
       "      <td>159.000000</td>\n",
       "      <td>NaN</td>\n",
       "      <td>NaN</td>\n",
       "      <td>395.000000</td>\n",
       "      <td>NaN</td>\n",
       "      <td>NaN</td>\n",
       "      <td>NaN</td>\n",
       "      <td>NaN</td>\n",
       "      <td>NaN</td>\n",
       "    </tr>\n",
       "    <tr>\n",
       "      <th>2</th>\n",
       "      <td>1003</td>\n",
       "      <td>0</td>\n",
       "      <td>141</td>\n",
       "      <td>61</td>\n",
       "      <td>524</td>\n",
       "      <td>987</td>\n",
       "      <td>NaN</td>\n",
       "      <td>236.198582</td>\n",
       "      <td>764.95082</td>\n",
       "      <td>194.299618</td>\n",
       "      <td>214.126646</td>\n",
       "      <td>NaN</td>\n",
       "      <td>186.918211</td>\n",
       "      <td>213.41395</td>\n",
       "      <td>77.800082</td>\n",
       "      <td>68.021736</td>\n",
       "    </tr>\n",
       "    <tr>\n",
       "      <th>3</th>\n",
       "      <td>1004</td>\n",
       "      <td>0</td>\n",
       "      <td>1</td>\n",
       "      <td>0</td>\n",
       "      <td>5</td>\n",
       "      <td>1</td>\n",
       "      <td>NaN</td>\n",
       "      <td>219.000000</td>\n",
       "      <td>NaN</td>\n",
       "      <td>161.800000</td>\n",
       "      <td>349.000000</td>\n",
       "      <td>NaN</td>\n",
       "      <td>NaN</td>\n",
       "      <td>NaN</td>\n",
       "      <td>13.461055</td>\n",
       "      <td>NaN</td>\n",
       "    </tr>\n",
       "    <tr>\n",
       "      <th>4</th>\n",
       "      <td>1005</td>\n",
       "      <td>0</td>\n",
       "      <td>6</td>\n",
       "      <td>2</td>\n",
       "      <td>0</td>\n",
       "      <td>6</td>\n",
       "      <td>NaN</td>\n",
       "      <td>412.666667</td>\n",
       "      <td>622.00000</td>\n",
       "      <td>NaN</td>\n",
       "      <td>176.333333</td>\n",
       "      <td>NaN</td>\n",
       "      <td>249.936525</td>\n",
       "      <td>0.00000</td>\n",
       "      <td>NaN</td>\n",
       "      <td>14.109099</td>\n",
       "    </tr>\n",
       "  </tbody>\n",
       "</table>\n",
       "</div>"
      ],
      "text/plain": [
       "   企业编号  专利类型_count_发明专利  专利类型_count_发明公布  专利类型_count_发明授权  专利类型_count_外观设计  \\\n",
       "0  1001                0                4                0                0   \n",
       "1  1002                0                1                0                0   \n",
       "2  1003                0              141               61              524   \n",
       "3  1004                0                1                0                5   \n",
       "4  1005                0                6                2                0   \n",
       "\n",
       "   专利类型_count_实用新型  专利申请时间差_mean_发明专利  专利申请时间差_mean_发明公布  专利申请时间差_mean_发明授权  \\\n",
       "0                0                NaN         551.000000                NaN   \n",
       "1                1                NaN         159.000000                NaN   \n",
       "2              987                NaN         236.198582          764.95082   \n",
       "3                1                NaN         219.000000                NaN   \n",
       "4                6                NaN         412.666667          622.00000   \n",
       "\n",
       "   专利申请时间差_mean_外观设计  专利申请时间差_mean_实用新型  专利申请时间差_std_发明专利  专利申请时间差_std_发明公布  \\\n",
       "0                NaN                NaN               NaN          0.000000   \n",
       "1                NaN         395.000000               NaN               NaN   \n",
       "2         194.299618         214.126646               NaN        186.918211   \n",
       "3         161.800000         349.000000               NaN               NaN   \n",
       "4                NaN         176.333333               NaN        249.936525   \n",
       "\n",
       "   专利申请时间差_std_发明授权  专利申请时间差_std_外观设计  专利申请时间差_std_实用新型  \n",
       "0               NaN               NaN               NaN  \n",
       "1               NaN               NaN               NaN  \n",
       "2         213.41395         77.800082         68.021736  \n",
       "3               NaN         13.461055               NaN  \n",
       "4           0.00000               NaN         14.109099  "
      ]
     },
     "metadata": {},
     "output_type": "display_data"
    }
   ],
   "source": [
    "for c in ['专利类型_count_发明专利',\n",
    "          '专利类型_count_发明公布',\n",
    "          '专利类型_count_发明授权',\n",
    "          '专利类型_count_外观设计',\n",
    "          '专利类型_count_实用新型']:\n",
    "    new_df_zhuanli.loc[(new_df_zhuanli[c].isnull() == True), c] = 0\n",
    "    new_df_zhuanli[c] = new_df_zhuanli[c].astype(int)\n",
    "display(new_df_zhuanli.head(n=5))"
   ]
  },
  {
   "cell_type": "code",
   "execution_count": null,
   "metadata": {},
   "outputs": [],
   "source": []
  }
 ],
 "metadata": {
  "kernelspec": {
   "display_name": "Python 3",
   "language": "python",
   "name": "python3"
  },
  "language_info": {
   "codemirror_mode": {
    "name": "ipython",
    "version": 3
   },
   "file_extension": ".py",
   "mimetype": "text/x-python",
   "name": "python",
   "nbconvert_exporter": "python",
   "pygments_lexer": "ipython3",
   "version": "3.6.8"
  },
  "toc": {
   "base_numbering": 1,
   "nav_menu": {},
   "number_sections": true,
   "sideBar": true,
   "skip_h1_title": false,
   "title_cell": "Table of Contents",
   "title_sidebar": "Contents",
   "toc_cell": false,
   "toc_position": {},
   "toc_section_display": true,
   "toc_window_display": false
  },
  "varInspector": {
   "cols": {
    "lenName": 16,
    "lenType": 16,
    "lenVar": 40
   },
   "kernels_config": {
    "python": {
     "delete_cmd_postfix": "",
     "delete_cmd_prefix": "del ",
     "library": "var_list.py",
     "varRefreshCmd": "print(var_dic_list())"
    },
    "r": {
     "delete_cmd_postfix": ") ",
     "delete_cmd_prefix": "rm(",
     "library": "var_list.r",
     "varRefreshCmd": "cat(var_dic_list()) "
    }
   },
   "types_to_exclude": [
    "module",
    "function",
    "builtin_function_or_method",
    "instance",
    "_Feature"
   ],
   "window_display": false
  }
 },
 "nbformat": 4,
 "nbformat_minor": 2
}
