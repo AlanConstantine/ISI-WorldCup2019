{
 "cells": [
  {
   "cell_type": "code",
   "execution_count": 5,
   "metadata": {
    "ExecuteTime": {
     "end_time": "2019-03-14T16:32:28.771484Z",
     "start_time": "2019-03-14T16:32:28.752853Z"
    }
   },
   "outputs": [],
   "source": [
    "from IPython.display import display\n",
    "import matplotlib.pyplot as plt\n",
    "import pandas as pd\n",
    "import numpy as np\n",
    "import seaborn as sns\n",
    "import matplotlib as mpl\n",
    "import warnings\n",
    "warnings.filterwarnings(\"ignore\")\n",
    "\n",
    "plt.style.use(\"fivethirtyeight\")\n",
    "\n",
    "sns.set_style({'font.sans-serif': ['simsun', 'Arial']})\n",
    "sns.set_style('darkgrid', {'font.sans-serif': ['simhei', 'Arial']})\n",
    "%matplotlib inline"
   ]
  },
  {
   "cell_type": "markdown",
   "metadata": {},
   "source": [
    "# 专利.xlsx"
   ]
  },
  {
   "cell_type": "code",
   "execution_count": 43,
   "metadata": {
    "ExecuteTime": {
     "end_time": "2019-03-14T17:45:28.638249Z",
     "start_time": "2019-03-14T17:44:13.321215Z"
    }
   },
   "outputs": [],
   "source": [
    "df_zhuanli = pd.read_excel(r'../../Data/CompInfo/专利.xlsx')"
   ]
  },
  {
   "cell_type": "code",
   "execution_count": 44,
   "metadata": {
    "ExecuteTime": {
     "end_time": "2019-03-14T17:46:34.219082Z",
     "start_time": "2019-03-14T17:46:34.018238Z"
    }
   },
   "outputs": [
    {
     "name": "stdout",
     "output_type": "stream",
     "text": [
      "<class 'pandas.core.frame.DataFrame'>\n",
      "RangeIndex: 980360 entries, 0 to 980359\n",
      "Data columns (total 4 columns):\n",
      "企业编号     980360 non-null int64\n",
      "专利类型     980360 non-null object\n",
      "授权公告日    980360 non-null object\n",
      "申请日      980360 non-null object\n",
      "dtypes: int64(1), object(3)\n",
      "memory usage: 29.9+ MB\n"
     ]
    }
   ],
   "source": [
    "df_zhuanli.info()"
   ]
  },
  {
   "cell_type": "code",
   "execution_count": 45,
   "metadata": {
    "ExecuteTime": {
     "end_time": "2019-03-14T17:46:38.836593Z",
     "start_time": "2019-03-14T17:46:38.766498Z"
    }
   },
   "outputs": [],
   "source": [
    "df_zhuanli_copy = df_zhuanli.copy()"
   ]
  },
  {
   "cell_type": "markdown",
   "metadata": {},
   "source": [
    "* 授权公告日是指专利部门作出授予专利权的决定，发给专利证书，同时予以登记和公告的日子。专利权自公告之日起生效。"
   ]
  },
  {
   "cell_type": "code",
   "execution_count": 46,
   "metadata": {
    "ExecuteTime": {
     "end_time": "2019-03-14T17:46:41.678472Z",
     "start_time": "2019-03-14T17:46:41.662183Z"
    }
   },
   "outputs": [
    {
     "data": {
      "text/html": [
       "<div>\n",
       "<style scoped>\n",
       "    .dataframe tbody tr th:only-of-type {\n",
       "        vertical-align: middle;\n",
       "    }\n",
       "\n",
       "    .dataframe tbody tr th {\n",
       "        vertical-align: top;\n",
       "    }\n",
       "\n",
       "    .dataframe thead th {\n",
       "        text-align: right;\n",
       "    }\n",
       "</style>\n",
       "<table border=\"1\" class=\"dataframe\">\n",
       "  <thead>\n",
       "    <tr style=\"text-align: right;\">\n",
       "      <th></th>\n",
       "      <th>企业编号</th>\n",
       "      <th>专利类型</th>\n",
       "      <th>授权公告日</th>\n",
       "      <th>申请日</th>\n",
       "    </tr>\n",
       "  </thead>\n",
       "  <tbody>\n",
       "    <tr>\n",
       "      <th>0</th>\n",
       "      <td>1001</td>\n",
       "      <td>发明公布</td>\n",
       "      <td>2006-09-08­</td>\n",
       "      <td>2008-03-12</td>\n",
       "    </tr>\n",
       "    <tr>\n",
       "      <th>1</th>\n",
       "      <td>1001</td>\n",
       "      <td>发明公布</td>\n",
       "      <td>2006-06-23­</td>\n",
       "      <td>2007-12-26</td>\n",
       "    </tr>\n",
       "    <tr>\n",
       "      <th>2</th>\n",
       "      <td>1001</td>\n",
       "      <td>发明公布</td>\n",
       "      <td>2006-06-23</td>\n",
       "      <td>2007-12-26</td>\n",
       "    </tr>\n",
       "    <tr>\n",
       "      <th>3</th>\n",
       "      <td>1001</td>\n",
       "      <td>发明公布</td>\n",
       "      <td>2006-09-08</td>\n",
       "      <td>2008-03-12</td>\n",
       "    </tr>\n",
       "    <tr>\n",
       "      <th>4</th>\n",
       "      <td>1002</td>\n",
       "      <td>实用新型</td>\n",
       "      <td>2010-09-26</td>\n",
       "      <td>2011-10-26</td>\n",
       "    </tr>\n",
       "  </tbody>\n",
       "</table>\n",
       "</div>"
      ],
      "text/plain": [
       "   企业编号  专利类型        授权公告日         申请日\n",
       "0  1001  发明公布  2006-09-08­  2008-03-12\n",
       "1  1001  发明公布  2006-06-23­  2007-12-26\n",
       "2  1001  发明公布   2006-06-23  2007-12-26\n",
       "3  1001  发明公布   2006-09-08  2008-03-12\n",
       "4  1002  实用新型   2010-09-26  2011-10-26"
      ]
     },
     "metadata": {},
     "output_type": "display_data"
    }
   ],
   "source": [
    "display(df_zhuanli.head(n=5))"
   ]
  },
  {
   "cell_type": "markdown",
   "metadata": {},
   "source": [
    "## 专利类型\n",
    "统计每个公司的每个专利数量"
   ]
  },
  {
   "cell_type": "code",
   "execution_count": 47,
   "metadata": {
    "ExecuteTime": {
     "end_time": "2019-03-14T17:46:44.344442Z",
     "start_time": "2019-03-14T17:46:44.254790Z"
    }
   },
   "outputs": [
    {
     "data": {
      "text/plain": [
       "发明公布      404207\n",
       "实用新型      300250\n",
       "发明授权      170671\n",
       "外观设计      104337\n",
       "发明公布更正       652\n",
       "发明专利         107\n",
       "实用新型更正        68\n",
       "外观设计更正        38\n",
       "发明授权更正        30\n",
       "Name: 专利类型, dtype: int64"
      ]
     },
     "execution_count": 47,
     "metadata": {},
     "output_type": "execute_result"
    }
   ],
   "source": [
    "df_zhuanli['专利类型'].value_counts()"
   ]
  },
  {
   "cell_type": "code",
   "execution_count": 48,
   "metadata": {
    "ExecuteTime": {
     "end_time": "2019-03-14T17:46:51.559044Z",
     "start_time": "2019-03-14T17:46:50.795146Z"
    }
   },
   "outputs": [],
   "source": [
    "df_zhuanli['专利类型'] = df_zhuanli['专利类型'].str.replace('更正', '', regex=True)"
   ]
  },
  {
   "cell_type": "code",
   "execution_count": 49,
   "metadata": {
    "ExecuteTime": {
     "end_time": "2019-03-14T17:46:53.027954Z",
     "start_time": "2019-03-14T17:46:52.941838Z"
    }
   },
   "outputs": [
    {
     "data": {
      "text/plain": [
       "发明公布    404859\n",
       "实用新型    300318\n",
       "发明授权    170701\n",
       "外观设计    104375\n",
       "发明专利       107\n",
       "Name: 专利类型, dtype: int64"
      ]
     },
     "execution_count": 49,
     "metadata": {},
     "output_type": "execute_result"
    }
   ],
   "source": [
    "df_zhuanli['专利类型'].value_counts()"
   ]
  },
  {
   "cell_type": "code",
   "execution_count": 54,
   "metadata": {
    "ExecuteTime": {
     "end_time": "2019-03-14T17:52:28.766284Z",
     "start_time": "2019-03-14T17:52:26.639660Z"
    }
   },
   "outputs": [
    {
     "data": {
      "text/html": [
       "<div>\n",
       "<style scoped>\n",
       "    .dataframe tbody tr th:only-of-type {\n",
       "        vertical-align: middle;\n",
       "    }\n",
       "\n",
       "    .dataframe tbody tr th {\n",
       "        vertical-align: top;\n",
       "    }\n",
       "\n",
       "    .dataframe thead th {\n",
       "        text-align: right;\n",
       "    }\n",
       "</style>\n",
       "<table border=\"1\" class=\"dataframe\">\n",
       "  <thead>\n",
       "    <tr style=\"text-align: right;\">\n",
       "      <th></th>\n",
       "      <th>企业编号</th>\n",
       "      <th>专利类型</th>\n",
       "      <th>授权公告日</th>\n",
       "      <th>申请日</th>\n",
       "      <th>专利申请时间差</th>\n",
       "    </tr>\n",
       "  </thead>\n",
       "  <tbody>\n",
       "    <tr>\n",
       "      <th>0</th>\n",
       "      <td>1001</td>\n",
       "      <td>发明公布</td>\n",
       "      <td>2006-09-08</td>\n",
       "      <td>2008-03-12</td>\n",
       "      <td>551</td>\n",
       "    </tr>\n",
       "    <tr>\n",
       "      <th>1</th>\n",
       "      <td>1001</td>\n",
       "      <td>发明公布</td>\n",
       "      <td>2006-06-23</td>\n",
       "      <td>2007-12-26</td>\n",
       "      <td>551</td>\n",
       "    </tr>\n",
       "    <tr>\n",
       "      <th>2</th>\n",
       "      <td>1001</td>\n",
       "      <td>发明公布</td>\n",
       "      <td>2006-06-23</td>\n",
       "      <td>2007-12-26</td>\n",
       "      <td>551</td>\n",
       "    </tr>\n",
       "    <tr>\n",
       "      <th>3</th>\n",
       "      <td>1001</td>\n",
       "      <td>发明公布</td>\n",
       "      <td>2006-09-08</td>\n",
       "      <td>2008-03-12</td>\n",
       "      <td>551</td>\n",
       "    </tr>\n",
       "    <tr>\n",
       "      <th>4</th>\n",
       "      <td>1002</td>\n",
       "      <td>实用新型</td>\n",
       "      <td>2010-09-26</td>\n",
       "      <td>2011-10-26</td>\n",
       "      <td>395</td>\n",
       "    </tr>\n",
       "  </tbody>\n",
       "</table>\n",
       "</div>"
      ],
      "text/plain": [
       "   企业编号  专利类型      授权公告日        申请日  专利申请时间差\n",
       "0  1001  发明公布 2006-09-08 2008-03-12      551\n",
       "1  1001  发明公布 2006-06-23 2007-12-26      551\n",
       "2  1001  发明公布 2006-06-23 2007-12-26      551\n",
       "3  1001  发明公布 2006-09-08 2008-03-12      551\n",
       "4  1002  实用新型 2010-09-26 2011-10-26      395"
      ]
     },
     "metadata": {},
     "output_type": "display_data"
    }
   ],
   "source": [
    "df_zhuanli['授权公告日'] = df_zhuanli['授权公告日'].str.replace(\n",
    "    r'[^0-9\\-]', '', regex=True)\n",
    "df_zhuanli['申请日'] = df_zhuanli['申请日'].str.replace(r'[^0-9\\-]', '', regex=True)\n",
    "\n",
    "df_zhuanli['授权公告日'] = pd.to_datetime(df_zhuanli['授权公告日'])\n",
    "df_zhuanli['申请日'] = pd.to_datetime(df_zhuanli['申请日'])\n",
    "df_zhuanli['专利申请时间差'] = df_zhuanli['申请日'].sub(\n",
    "    df_zhuanli['授权公告日'], axis=0).dt.days\n",
    "display(df_zhuanli.head(n=5))"
   ]
  },
  {
   "cell_type": "code",
   "execution_count": 58,
   "metadata": {
    "ExecuteTime": {
     "end_time": "2019-03-14T17:55:16.606822Z",
     "start_time": "2019-03-14T17:55:16.579990Z"
    }
   },
   "outputs": [
    {
     "data": {
      "text/html": [
       "<div>\n",
       "<style scoped>\n",
       "    .dataframe tbody tr th:only-of-type {\n",
       "        vertical-align: middle;\n",
       "    }\n",
       "\n",
       "    .dataframe tbody tr th {\n",
       "        vertical-align: top;\n",
       "    }\n",
       "\n",
       "    .dataframe thead th {\n",
       "        text-align: right;\n",
       "    }\n",
       "</style>\n",
       "<table border=\"1\" class=\"dataframe\">\n",
       "  <thead>\n",
       "    <tr style=\"text-align: right;\">\n",
       "      <th></th>\n",
       "      <th>企业编号</th>\n",
       "      <th>专利类型</th>\n",
       "      <th>专利申请时间差</th>\n",
       "    </tr>\n",
       "  </thead>\n",
       "  <tbody>\n",
       "    <tr>\n",
       "      <th>0</th>\n",
       "      <td>1001</td>\n",
       "      <td>发明公布</td>\n",
       "      <td>551</td>\n",
       "    </tr>\n",
       "    <tr>\n",
       "      <th>1</th>\n",
       "      <td>1001</td>\n",
       "      <td>发明公布</td>\n",
       "      <td>551</td>\n",
       "    </tr>\n",
       "    <tr>\n",
       "      <th>2</th>\n",
       "      <td>1001</td>\n",
       "      <td>发明公布</td>\n",
       "      <td>551</td>\n",
       "    </tr>\n",
       "    <tr>\n",
       "      <th>3</th>\n",
       "      <td>1001</td>\n",
       "      <td>发明公布</td>\n",
       "      <td>551</td>\n",
       "    </tr>\n",
       "    <tr>\n",
       "      <th>4</th>\n",
       "      <td>1002</td>\n",
       "      <td>实用新型</td>\n",
       "      <td>395</td>\n",
       "    </tr>\n",
       "  </tbody>\n",
       "</table>\n",
       "</div>"
      ],
      "text/plain": [
       "   企业编号  专利类型  专利申请时间差\n",
       "0  1001  发明公布      551\n",
       "1  1001  发明公布      551\n",
       "2  1001  发明公布      551\n",
       "3  1001  发明公布      551\n",
       "4  1002  实用新型      395"
      ]
     },
     "metadata": {},
     "output_type": "display_data"
    }
   ],
   "source": [
    "df_zhuanli = df_zhuanli.drop(columns=['授权公告日', '申请日'])\n",
    "display(df_zhuanli.head(n=5))"
   ]
  },
  {
   "cell_type": "code",
   "execution_count": null,
   "metadata": {},
   "outputs": [],
   "source": [
    "# new_df_zhuanli = df_zhuanli.groupby(['企业编号', '专利类型'])['专利类型'].count().unstack()\n",
    "# new_df_zhuanli.columns = ['发明专利', '发明公布', '发明授权', '外观设计', '实用新型']\n",
    "# new_df_zhuanli['企业编号'] = new_df_zhuanli.index\n",
    "# columns = ['企业编号', '发明专利', '发明公布', '发明授权', '外观设计', '实用新型']\n",
    "# new_df_zhuanli = pd.DataFrame(new_df_zhuanli, columns=columns)\n",
    "# new_df_zhuanli = new_df_zhuanli.set_index(np.arange(0, len(new_df_zhuanli)))\n",
    "# new_df_zhuanli.head(n=5)"
   ]
  }
 ],
 "metadata": {
  "kernelspec": {
   "display_name": "Python 3",
   "language": "python",
   "name": "python3"
  },
  "language_info": {
   "codemirror_mode": {
    "name": "ipython",
    "version": 3
   },
   "file_extension": ".py",
   "mimetype": "text/x-python",
   "name": "python",
   "nbconvert_exporter": "python",
   "pygments_lexer": "ipython3",
   "version": "3.6.8"
  },
  "toc": {
   "base_numbering": 1,
   "nav_menu": {},
   "number_sections": true,
   "sideBar": true,
   "skip_h1_title": false,
   "title_cell": "Table of Contents",
   "title_sidebar": "Contents",
   "toc_cell": false,
   "toc_position": {},
   "toc_section_display": true,
   "toc_window_display": false
  },
  "varInspector": {
   "cols": {
    "lenName": 16,
    "lenType": 16,
    "lenVar": 40
   },
   "kernels_config": {
    "python": {
     "delete_cmd_postfix": "",
     "delete_cmd_prefix": "del ",
     "library": "var_list.py",
     "varRefreshCmd": "print(var_dic_list())"
    },
    "r": {
     "delete_cmd_postfix": ") ",
     "delete_cmd_prefix": "rm(",
     "library": "var_list.r",
     "varRefreshCmd": "cat(var_dic_list()) "
    }
   },
   "types_to_exclude": [
    "module",
    "function",
    "builtin_function_or_method",
    "instance",
    "_Feature"
   ],
   "window_display": false
  }
 },
 "nbformat": 4,
 "nbformat_minor": 2
}
