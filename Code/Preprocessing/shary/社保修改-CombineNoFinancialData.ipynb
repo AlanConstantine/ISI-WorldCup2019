{
 "cells": [
  {
   "cell_type": "code",
   "execution_count": 3,
   "metadata": {
    "ExecuteTime": {
     "end_time": "2019-04-02T14:34:10.517279Z",
     "start_time": "2019-04-02T14:34:10.489238Z"
    }
   },
   "outputs": [
    {
     "data": {
      "text/plain": [
       "Timestamp('2019-04-02 00:00:00')"
      ]
     },
     "execution_count": 3,
     "metadata": {},
     "output_type": "execute_result"
    }
   ],
   "source": [
    "from IPython.display import display\n",
    "import matplotlib.pyplot as plt\n",
    "import pandas as pd\n",
    "import numpy as np\n",
    "import seaborn as sns\n",
    "import matplotlib as mpl\n",
    "import warnings\n",
    "import time\n",
    "from collections import Counter\n",
    "warnings.filterwarnings(\"ignore\")\n",
    "\n",
    "\n",
    "plt.style.use(\"fivethirtyeight\")\n",
    "\n",
    "sns.set_style({'font.sans-serif': ['simsun', 'Arial']})\n",
    "sns.set_style('darkgrid', {'font.sans-serif': ['simhei', 'Arial']})\n",
    "%matplotlib inline\n",
    "current_date = pd.to_datetime(\n",
    "    time.strftime('%Y-%m-%d', time.localtime(time.time())))\n",
    "\n",
    "res = {}\n",
    "data_path = r'../../../Data/CompInfo/'\n",
    "current_date"
   ]
  },
  {
   "cell_type": "markdown",
   "metadata": {},
   "source": [
    "# 软著著作权"
   ]
  },
  {
   "cell_type": "code",
   "execution_count": 3,
   "metadata": {
    "ExecuteTime": {
     "end_time": "2019-03-30T14:51:29.204508Z",
     "start_time": "2019-03-30T14:51:25.096139Z"
    }
   },
   "outputs": [],
   "source": [
    "df_soft_bpk = pd.read_excel(data_path+r'软著著作权.xlsx')\n",
    "df_soft = df_soft_bpk.copy()"
   ]
  },
  {
   "cell_type": "code",
   "execution_count": 4,
   "metadata": {
    "ExecuteTime": {
     "end_time": "2019-03-30T14:51:29.228173Z",
     "start_time": "2019-03-30T14:51:29.207188Z"
    }
   },
   "outputs": [
    {
     "name": "stdout",
     "output_type": "stream",
     "text": [
      "<class 'pandas.core.frame.DataFrame'>\n",
      "RangeIndex: 36858 entries, 0 to 36857\n",
      "Data columns (total 4 columns):\n",
      "企业编号           36858 non-null int64\n",
      "软件全称           36858 non-null object\n",
      "软件著作权版本号       30878 non-null object\n",
      "软件著作权登记批准日期    36818 non-null object\n",
      "dtypes: int64(1), object(3)\n",
      "memory usage: 1.1+ MB\n"
     ]
    }
   ],
   "source": [
    "df_soft.info()"
   ]
  },
  {
   "cell_type": "code",
   "execution_count": 154,
   "metadata": {
    "ExecuteTime": {
     "end_time": "2019-03-30T14:51:29.582994Z",
     "start_time": "2019-03-30T14:51:29.231871Z"
    }
   },
   "outputs": [],
   "source": [
    "new_df_soft = pd.DataFrame(df_soft['企业编号'].value_counts())\n",
    "new_df_soft.columns = ['软著数量']\n",
    "new_df_soft['企业编号'] = new_df_soft.index\n",
    "new_df_soft.sort_values(by=['企业编号'], inplace=True)\n",
    "new_df_soft = new_df_soft[['企业编号', '软著数量']]\n",
    "new_df_soft = new_df_soft.set_index(np.arange(0, len(new_df_soft)))\n",
    "res['软著著作权'] = new_df_soft"
   ]
  },
  {
   "cell_type": "markdown",
   "metadata": {},
   "source": [
    "# 作品著作"
   ]
  },
  {
   "cell_type": "code",
   "execution_count": 155,
   "metadata": {
    "ExecuteTime": {
     "end_time": "2019-03-30T14:51:32.880348Z",
     "start_time": "2019-03-30T14:51:29.587248Z"
    }
   },
   "outputs": [],
   "source": [
    "df_zuopin_bpk = pd.read_excel(data_path+r'作品著作权.xlsx')\n",
    "df_zuopin = df_zuopin_bpk.copy()"
   ]
  },
  {
   "cell_type": "code",
   "execution_count": 156,
   "metadata": {
    "ExecuteTime": {
     "end_time": "2019-03-30T14:51:32.902836Z",
     "start_time": "2019-03-30T14:51:32.882813Z"
    }
   },
   "outputs": [
    {
     "name": "stdout",
     "output_type": "stream",
     "text": [
      "<class 'pandas.core.frame.DataFrame'>\n",
      "RangeIndex: 33555 entries, 0 to 33554\n",
      "Data columns (total 5 columns):\n",
      "企业编号           33555 non-null int64\n",
      "作品著作权类别        33379 non-null object\n",
      "作品著作权登记日期      33178 non-null object\n",
      "作品著作权创作完成日期    32177 non-null object\n",
      "作品著作权首次发布日期    22118 non-null object\n",
      "dtypes: int64(1), object(4)\n",
      "memory usage: 1.3+ MB\n"
     ]
    }
   ],
   "source": [
    "df_zuopin.info()"
   ]
  },
  {
   "cell_type": "code",
   "execution_count": 157,
   "metadata": {
    "ExecuteTime": {
     "end_time": "2019-03-30T14:51:33.246633Z",
     "start_time": "2019-03-30T14:51:32.904442Z"
    }
   },
   "outputs": [],
   "source": [
    "df_zuopin = df_zuopin_bpk.copy()"
   ]
  },
  {
   "cell_type": "code",
   "execution_count": 158,
   "metadata": {
    "ExecuteTime": {
     "end_time": "2019-03-30T14:51:33.321379Z",
     "start_time": "2019-03-30T14:51:33.249756Z"
    }
   },
   "outputs": [],
   "source": [
    "new_df_zuopin = pd.DataFrame(df_zuopin['企业编号'].value_counts())\n",
    "new_df_zuopin.columns = ['作品著作数量']\n",
    "new_df_zuopin['企业编号'] = new_df_zuopin.index\n",
    "new_df_zuopin.sort_values(by=['企业编号'], inplace=True)\n",
    "new_df_zuopin = new_df_zuopin[['企业编号', '作品著作数量']]\n",
    "new_df_zuopin = new_df_zuopin.set_index(np.arange(0, len(new_df_zuopin)))"
   ]
  },
  {
   "cell_type": "code",
   "execution_count": 159,
   "metadata": {
    "ExecuteTime": {
     "end_time": "2019-03-30T14:51:33.404464Z",
     "start_time": "2019-03-30T14:51:33.323899Z"
    }
   },
   "outputs": [],
   "source": [
    "# merge_zhuzuo_zuopin = (pd.merge(new_df_soft, new_df_zuopin,\n",
    "#                                 on='企业编号', how='outer')).fillna(0).astype(int)\n",
    "res['作品著作'] = new_df_zuopin"
   ]
  },
  {
   "cell_type": "markdown",
   "metadata": {},
   "source": [
    "# 项目信息"
   ]
  },
  {
   "cell_type": "code",
   "execution_count": 160,
   "metadata": {
    "ExecuteTime": {
     "end_time": "2019-03-30T14:51:33.902036Z",
     "start_time": "2019-03-30T14:51:33.408473Z"
    }
   },
   "outputs": [],
   "source": [
    "df_project_bkp = pd.read_excel(data_path+r'项目信息.xlsx')\n",
    "df_project = df_project_bkp.copy()"
   ]
  },
  {
   "cell_type": "code",
   "execution_count": 161,
   "metadata": {
    "ExecuteTime": {
     "end_time": "2019-03-30T14:51:33.914859Z",
     "start_time": "2019-03-30T14:51:33.904681Z"
    }
   },
   "outputs": [
    {
     "name": "stdout",
     "output_type": "stream",
     "text": [
      "<class 'pandas.core.frame.DataFrame'>\n",
      "RangeIndex: 3054 entries, 0 to 3053\n",
      "Data columns (total 7 columns):\n",
      "企业编号      3054 non-null int64\n",
      "行业        170 non-null object\n",
      "标签        3047 non-null object\n",
      "企业规模      168 non-null object\n",
      "运营状态      2934 non-null object\n",
      "简介        3026 non-null object\n",
      "项目成立时间    2876 non-null object\n",
      "dtypes: int64(1), object(6)\n",
      "memory usage: 167.1+ KB\n"
     ]
    }
   ],
   "source": [
    "df_project.info()"
   ]
  },
  {
   "cell_type": "code",
   "execution_count": 162,
   "metadata": {
    "ExecuteTime": {
     "end_time": "2019-03-30T14:51:34.008718Z",
     "start_time": "2019-03-30T14:51:33.917185Z"
    }
   },
   "outputs": [
    {
     "data": {
      "text/plain": [
       "运营中    2932\n",
       "融资中       2\n",
       "Name: 运营状态, dtype: int64"
      ]
     },
     "execution_count": 162,
     "metadata": {},
     "output_type": "execute_result"
    }
   ],
   "source": [
    "df_project['运营状态'].value_counts()"
   ]
  },
  {
   "cell_type": "code",
   "execution_count": 163,
   "metadata": {
    "ExecuteTime": {
     "end_time": "2019-03-30T14:51:34.077424Z",
     "start_time": "2019-03-30T14:51:34.011516Z"
    }
   },
   "outputs": [],
   "source": [
    "new_df_project = pd.DataFrame(\n",
    "    df_project.loc[(df_project['运营状态'] == '运营中'), '企业编号'].value_counts())\n",
    "new_df_project.columns = ['项目数量']\n",
    "new_df_project['企业编号'] = new_df_project.index\n",
    "new_df_project.sort_values(by=['企业编号'], inplace=True)\n",
    "new_df_project = new_df_project[['企业编号', '项目数量']]\n",
    "new_df_project = new_df_project.set_index(np.arange(0, len(new_df_project)))\n",
    "# new_df_project.head(n=20)"
   ]
  },
  {
   "cell_type": "code",
   "execution_count": 164,
   "metadata": {
    "ExecuteTime": {
     "end_time": "2019-03-30T14:51:34.160257Z",
     "start_time": "2019-03-30T14:51:34.079599Z"
    }
   },
   "outputs": [],
   "source": [
    "# merge_zhuzuo_zuopin_project = (pd.merge(merge_zhuzuo_zuopin, new_df_project,\n",
    "#                                         on='企业编号', how='outer')).fillna(0).astype(int)\n",
    "res['项目信息'] = new_df_project"
   ]
  },
  {
   "cell_type": "markdown",
   "metadata": {},
   "source": [
    "# 纳税A级年份"
   ]
  },
  {
   "cell_type": "code",
   "execution_count": 165,
   "metadata": {
    "ExecuteTime": {
     "end_time": "2019-03-30T14:51:34.658322Z",
     "start_time": "2019-03-30T14:51:34.163445Z"
    }
   },
   "outputs": [],
   "source": [
    "df_nashuiyear_bkp = pd.read_excel(data_path+r'纳税A级年份.xlsx')\n",
    "df_nashuiyear = df_nashuiyear_bkp.copy()"
   ]
  },
  {
   "cell_type": "code",
   "execution_count": 166,
   "metadata": {
    "ExecuteTime": {
     "end_time": "2019-03-30T14:51:34.670014Z",
     "start_time": "2019-03-30T14:51:34.660518Z"
    }
   },
   "outputs": [
    {
     "name": "stdout",
     "output_type": "stream",
     "text": [
      "<class 'pandas.core.frame.DataFrame'>\n",
      "RangeIndex: 7927 entries, 0 to 7926\n",
      "Data columns (total 2 columns):\n",
      "企业编号      7927 non-null int64\n",
      "纳税A级年份    7927 non-null int64\n",
      "dtypes: int64(2)\n",
      "memory usage: 123.9 KB\n"
     ]
    }
   ],
   "source": [
    "df_nashuiyear.info()"
   ]
  },
  {
   "cell_type": "code",
   "execution_count": 167,
   "metadata": {
    "ExecuteTime": {
     "end_time": "2019-03-30T14:51:34.755240Z",
     "start_time": "2019-03-30T14:51:34.672455Z"
    }
   },
   "outputs": [
    {
     "data": {
      "text/plain": [
       "2016    2380\n",
       "2017    1978\n",
       "2015    1858\n",
       "2014    1711\n",
       "Name: 纳税A级年份, dtype: int64"
      ]
     },
     "execution_count": 167,
     "metadata": {},
     "output_type": "execute_result"
    }
   ],
   "source": [
    "df_nashuiyear['纳税A级年份'].value_counts()"
   ]
  },
  {
   "cell_type": "code",
   "execution_count": 168,
   "metadata": {
    "ExecuteTime": {
     "end_time": "2019-03-30T14:51:34.833824Z",
     "start_time": "2019-03-30T14:51:34.761462Z"
    }
   },
   "outputs": [],
   "source": [
    "new_df_nashuiyear = df_nashuiyear.groupby(['企业编号', '纳税A级年份'])[\n",
    "    '纳税A级年份'].count().unstack()\n",
    "\n",
    "new_df_nashuiyear['企业编号'] = new_df_nashuiyear.index\n",
    "new_df_nashuiyear = new_df_nashuiyear[['企业编号', 2014, 2015, 2016, 2017]]\n",
    "columns = {'企业编号': '企业编号', 2014: '纳税A级年份_2014', 2015: '纳税A级年份_2015',\n",
    "           2016: '纳税A级年份_2016', 2017: '纳税A级年份_2017'}\n",
    "columns = ['企业编号', '纳税A级年份_2014', '纳税A级年份_2015', '纳税A级年份_2016', '纳税A级年份_2017']\n",
    "# new_df_nashuiyear.rename(columns, inplace=True)\n",
    "new_df_nashuiyear.columns = columns\n",
    "new_df_nashuiyear = new_df_nashuiyear.set_index(\n",
    "    np.arange(0, len(new_df_nashuiyear))).fillna(0).astype(int)\n",
    "# new_df_nashuiyear.head(n=5)"
   ]
  },
  {
   "cell_type": "code",
   "execution_count": 169,
   "metadata": {
    "ExecuteTime": {
     "end_time": "2019-03-30T14:51:34.920040Z",
     "start_time": "2019-03-30T14:51:34.841882Z"
    }
   },
   "outputs": [],
   "source": [
    "# merge_zhuzuo_zuopin_project_nashui = (pd.merge(merge_zhuzuo_zuopin_project, new_df_nashuiyear,\n",
    "#                                                on='企业编号', how='outer')).fillna(0).astype(int)\n",
    "res['纳税A级年份'] = new_df_nashuiyear"
   ]
  },
  {
   "cell_type": "markdown",
   "metadata": {},
   "source": [
    "# 资质认证"
   ]
  },
  {
   "cell_type": "code",
   "execution_count": 170,
   "metadata": {
    "ExecuteTime": {
     "end_time": "2019-03-30T14:51:49.030145Z",
     "start_time": "2019-03-30T14:51:34.925121Z"
    }
   },
   "outputs": [],
   "source": [
    "df_zizhi_bkp = pd.read_excel(data_path+r'资质认证.xlsx')"
   ]
  },
  {
   "cell_type": "code",
   "execution_count": 171,
   "metadata": {
    "ExecuteTime": {
     "end_time": "2019-03-30T14:51:49.097660Z",
     "start_time": "2019-03-30T14:51:49.031959Z"
    }
   },
   "outputs": [
    {
     "name": "stdout",
     "output_type": "stream",
     "text": [
      "<class 'pandas.core.frame.DataFrame'>\n",
      "RangeIndex: 169898 entries, 0 to 169897\n",
      "Data columns (total 5 columns):\n",
      "企业编号       169898 non-null int64\n",
      "证书名称       169898 non-null object\n",
      "有效期起止日期    161662 non-null object\n",
      "有效期截至日期    124035 non-null object\n",
      "状态         148665 non-null object\n",
      "dtypes: int64(1), object(4)\n",
      "memory usage: 6.5+ MB\n"
     ]
    }
   ],
   "source": [
    "df_zizhi = df_zizhi_bkp.copy()\n",
    "df_zizhi.info()"
   ]
  },
  {
   "cell_type": "code",
   "execution_count": 172,
   "metadata": {
    "ExecuteTime": {
     "end_time": "2019-03-30T14:51:49.403536Z",
     "start_time": "2019-03-30T14:51:49.100335Z"
    }
   },
   "outputs": [
    {
     "data": {
      "text/plain": [
       "有效           70917\n",
       "已注销          28220\n",
       "注销           15805\n",
       "已撤销          12601\n",
       "过期失效          9762\n",
       "撤销            9719\n",
       "暂停             580\n",
       "已暂停            494\n",
       "当前批件           238\n",
       "已过期            212\n",
       "延续              41\n",
       "变更              23\n",
       "正常              16\n",
       "历史批件            14\n",
       "旧版               7\n",
       "注销(非申请)          5\n",
       "新立               5\n",
       "无效（依申请注销）        3\n",
       "无效（逾期未换证）        2\n",
       "证书注销             1\n",
       "Name: 状态, dtype: int64"
      ]
     },
     "execution_count": 172,
     "metadata": {},
     "output_type": "execute_result"
    }
   ],
   "source": [
    "df_zizhi = df_zizhi_bkp.copy()\n",
    "df_zizhi['状态'].value_counts()"
   ]
  },
  {
   "cell_type": "code",
   "execution_count": 173,
   "metadata": {
    "ExecuteTime": {
     "end_time": "2019-03-30T14:51:49.935765Z",
     "start_time": "2019-03-30T14:51:49.405509Z"
    }
   },
   "outputs": [],
   "source": [
    "status = ['有效', '延续', '变更', '正常', '新立']\n",
    "new_df_zizhi = df_zizhi.loc[(df_zizhi['有效期截至日期'].notnull())]\n",
    "new_df_zizhi = new_df_zizhi.loc[(new_df_zizhi['状态'].notnull())]\n",
    "new_df_zizhi['有效期截至日期'] = pd.to_datetime(new_df_zizhi['有效期截至日期'])\n",
    "\n",
    "\n",
    "# new_df_zizhi = new_df_zizhi.loc[(new_df_zizhi['有效期截至日期'].notnull())]\n",
    "# df_zizhi = df_zizhi.loc[(df_zizhi['状态 '] == '有效')]"
   ]
  },
  {
   "cell_type": "code",
   "execution_count": 174,
   "metadata": {
    "ExecuteTime": {
     "end_time": "2019-03-30T14:51:49.954993Z",
     "start_time": "2019-03-30T14:51:49.938007Z"
    }
   },
   "outputs": [
    {
     "data": {
      "text/plain": [
       "有效      59065\n",
       "已注销      3208\n",
       "注销       2149\n",
       "已撤销      1411\n",
       "撤销       1136\n",
       "已暂停       480\n",
       "暂停        427\n",
       "过期失效       47\n",
       "延续         21\n",
       "变更         18\n",
       "正常         16\n",
       "旧版          7\n",
       "新立          4\n",
       "证书注销        1\n",
       "Name: 状态, dtype: int64"
      ]
     },
     "execution_count": 174,
     "metadata": {},
     "output_type": "execute_result"
    }
   ],
   "source": [
    "new_df_zizhi = new_df_zizhi.loc[(new_df_zizhi['有效期截至日期'] > current_date)]\n",
    "new_df_zizhi['状态'].value_counts()"
   ]
  },
  {
   "cell_type": "code",
   "execution_count": 175,
   "metadata": {
    "ExecuteTime": {
     "end_time": "2019-03-30T14:51:50.105786Z",
     "start_time": "2019-03-30T14:51:49.957433Z"
    }
   },
   "outputs": [],
   "source": [
    "new_df_zizhi = new_df_zizhi.loc[(\n",
    "    new_df_zizhi['状态'].str.contains('[有效|延续|变更|正常|新立]'))]\n",
    "# new_df_zizhi.head(n=5)"
   ]
  },
  {
   "cell_type": "code",
   "execution_count": 176,
   "metadata": {
    "ExecuteTime": {
     "end_time": "2019-03-30T14:51:50.178953Z",
     "start_time": "2019-03-30T14:51:50.108294Z"
    }
   },
   "outputs": [
    {
     "data": {
      "text/html": [
       "<div>\n",
       "<style scoped>\n",
       "    .dataframe tbody tr th:only-of-type {\n",
       "        vertical-align: middle;\n",
       "    }\n",
       "\n",
       "    .dataframe tbody tr th {\n",
       "        vertical-align: top;\n",
       "    }\n",
       "\n",
       "    .dataframe thead th {\n",
       "        text-align: right;\n",
       "    }\n",
       "</style>\n",
       "<table border=\"1\" class=\"dataframe\">\n",
       "  <thead>\n",
       "    <tr style=\"text-align: right;\">\n",
       "      <th></th>\n",
       "      <th>企业编号</th>\n",
       "      <th>资质证书数量</th>\n",
       "    </tr>\n",
       "  </thead>\n",
       "  <tbody>\n",
       "    <tr>\n",
       "      <th>0</th>\n",
       "      <td>1001</td>\n",
       "      <td>9</td>\n",
       "    </tr>\n",
       "    <tr>\n",
       "      <th>1</th>\n",
       "      <td>1003</td>\n",
       "      <td>442</td>\n",
       "    </tr>\n",
       "    <tr>\n",
       "      <th>2</th>\n",
       "      <td>1004</td>\n",
       "      <td>1</td>\n",
       "    </tr>\n",
       "    <tr>\n",
       "      <th>3</th>\n",
       "      <td>1005</td>\n",
       "      <td>5</td>\n",
       "    </tr>\n",
       "    <tr>\n",
       "      <th>4</th>\n",
       "      <td>1006</td>\n",
       "      <td>6</td>\n",
       "    </tr>\n",
       "  </tbody>\n",
       "</table>\n",
       "</div>"
      ],
      "text/plain": [
       "   企业编号  资质证书数量\n",
       "0  1001       9\n",
       "1  1003     442\n",
       "2  1004       1\n",
       "3  1005       5\n",
       "4  1006       6"
      ]
     },
     "execution_count": 176,
     "metadata": {},
     "output_type": "execute_result"
    }
   ],
   "source": [
    "new_df_zizhi_count = pd.DataFrame(new_df_zizhi['企业编号'].value_counts())\n",
    "new_df_zizhi_count.columns = ['资质证书数量']\n",
    "new_df_zizhi_count['企业编号'] = new_df_zizhi_count.index\n",
    "new_df_zizhi_count.sort_values(by=['企业编号'], inplace=True)\n",
    "# new_df_zizhi_count\n",
    "new_df_zizhi_count = new_df_zizhi_count[['企业编号', '资质证书数量']]\n",
    "new_df_zizhi_count = new_df_zizhi_count.set_index(\n",
    "    np.arange(0, len(new_df_zizhi_count)))\n",
    "new_df_zizhi_count.head(n=5)"
   ]
  },
  {
   "cell_type": "code",
   "execution_count": 177,
   "metadata": {
    "ExecuteTime": {
     "end_time": "2019-03-30T14:51:50.259848Z",
     "start_time": "2019-03-30T14:51:50.182413Z"
    }
   },
   "outputs": [],
   "source": [
    "# merge_zhuzuo_zuopin_project_nashui_zizhi = (pd.merge(merge_zhuzuo_zuopin_project_nashui, new_df_zizhi,\n",
    "#                                                      on='企业编号', how='outer')).fillna(0).astype(int)\n",
    "res['资质认证'] = new_df_zizhi"
   ]
  },
  {
   "cell_type": "markdown",
   "metadata": {},
   "source": [
    "# 产品"
   ]
  },
  {
   "cell_type": "code",
   "execution_count": 178,
   "metadata": {
    "ExecuteTime": {
     "end_time": "2019-03-30T14:51:50.987514Z",
     "start_time": "2019-03-30T14:51:50.262633Z"
    }
   },
   "outputs": [],
   "source": [
    "df_product = pd.read_excel(data_path+r'产品.xlsx')\n",
    "new_df_product = df_product.groupby(\n",
    "    ['企业编号', '产品类型'])['产品类型'].count().unstack()\n",
    "\n",
    "new_df_product['企业编号'] = new_df_product.index\n",
    "columns = ['企业编号', 'android', 'ios', 'miniapp', 'website', 'wechat', 'weibo']\n",
    "new_df_product = pd.DataFrame(new_df_product, columns=columns)\n",
    "new_df_product = new_df_product.set_index(np.arange(0, len(new_df_product)))\n",
    "# new_df_product.head(n=10)"
   ]
  },
  {
   "cell_type": "code",
   "execution_count": 179,
   "metadata": {
    "ExecuteTime": {
     "end_time": "2019-03-30T14:51:50.993984Z",
     "start_time": "2019-03-30T14:51:50.989729Z"
    }
   },
   "outputs": [],
   "source": [
    "# merge_zhuzuo_zuopin_project_nashui_zizhi_product = (pd.merge(merge_zhuzuo_zuopin_project_nashui_zizhi, new_df_product,\n",
    "#                                                              on='企业编号', how='outer')).fillna(0).astype(int)\n",
    "res['产品'] = new_df_product"
   ]
  },
  {
   "cell_type": "markdown",
   "metadata": {},
   "source": [
    "# 专利"
   ]
  },
  {
   "cell_type": "code",
   "execution_count": 180,
   "metadata": {
    "ExecuteTime": {
     "end_time": "2019-03-30T14:53:07.964506Z",
     "start_time": "2019-03-30T14:51:50.995995Z"
    }
   },
   "outputs": [],
   "source": [
    "df_zhuanli = pd.read_excel(data_path+r'专利.xlsx')\n",
    "df_zhuanli['专利类型'] = df_zhuanli['专利类型'].str.replace('更正', '', regex=True)\n",
    "\n",
    "df_zhuanli['授权公告日'] = df_zhuanli['授权公告日'].str.replace(\n",
    "    r'[^0-9\\-]', '', regex=True)\n",
    "df_zhuanli['申请日'] = df_zhuanli['申请日'].str.replace(r'[^0-9\\-]', '', regex=True)\n",
    "\n",
    "df_zhuanli['授权公告日'] = pd.to_datetime(df_zhuanli['授权公告日'])\n",
    "df_zhuanli['申请日'] = pd.to_datetime(df_zhuanli['申请日'])"
   ]
  },
  {
   "cell_type": "code",
   "execution_count": 181,
   "metadata": {
    "ExecuteTime": {
     "end_time": "2019-03-30T14:53:08.462505Z",
     "start_time": "2019-03-30T14:53:07.966736Z"
    }
   },
   "outputs": [],
   "source": [
    "tmp1 = df_zhuanli.loc[(df_zhuanli['专利类型'] == '发明专利')]\n",
    "tmp1 = tmp1.loc[(abs(tmp1['申请日'].sub(pd.to_datetime(\n",
    "    time.strftime('%Y-%m-%d', time.localtime(time.time()))), axis=0).dt.days)/365) <= 20]\n",
    "\n",
    "tmp2 = df_zhuanli.loc[(df_zhuanli['专利类型'] == '发明公布')]\n",
    "tmp2 = tmp2.loc[(abs(tmp2['申请日'].sub(pd.to_datetime(\n",
    "    time.strftime('%Y-%m-%d', time.localtime(time.time()))), axis=0).dt.days)/365) <= 20]\n",
    "\n",
    "tmp3 = df_zhuanli.loc[(df_zhuanli['专利类型'] == '发明授权')]\n",
    "tmp3 = tmp3.loc[(abs(tmp3['申请日'].sub(pd.to_datetime(\n",
    "    time.strftime('%Y-%m-%d', time.localtime(time.time()))), axis=0).dt.days)/365) <= 20]\n",
    "\n",
    "tmp4 = df_zhuanli.loc[(df_zhuanli['专利类型'] == '外观设计')]\n",
    "tmp4 = tmp4.loc[(abs(tmp4['申请日'].sub(pd.to_datetime(\n",
    "    time.strftime('%Y-%m-%d', time.localtime(time.time()))), axis=0).dt.days)/365) <= 10]\n",
    "\n",
    "tmp5 = df_zhuanli.loc[(df_zhuanli['专利类型'] == '实用新型')]\n",
    "tmp5 = tmp5.loc[(abs(tmp5['申请日'].sub(pd.to_datetime(\n",
    "    time.strftime('%Y-%m-%d', time.localtime(time.time()))), axis=0).dt.days)/365) <= 10]\n",
    "\n",
    "filter_df_zhuanli = pd.concat([tmp1, tmp2, tmp3, tmp4, tmp5])"
   ]
  },
  {
   "cell_type": "code",
   "execution_count": 182,
   "metadata": {
    "ExecuteTime": {
     "end_time": "2019-03-30T14:53:08.616980Z",
     "start_time": "2019-03-30T14:53:08.464623Z"
    }
   },
   "outputs": [],
   "source": [
    "filter_df_zhuanli = filter_df_zhuanli.drop(columns=['授权公告日', '申请日'])\n",
    "new_df_zhuanli = filter_df_zhuanli.groupby(\n",
    "    ['企业编号', '专利类型'])['专利类型'].count().unstack()\n",
    "new_df_zhuanli['企业编号'] = new_df_zhuanli.index\n",
    "columns = ['企业编号', '发明专利', '发明公布', '发明授权', '外观设计', '实用新型']\n",
    "new_df_zhuanli = pd.DataFrame(new_df_zhuanli, columns=columns)\n",
    "new_df_zhuanli = new_df_zhuanli.set_index(np.arange(0, len(new_df_zhuanli)))\n",
    "# new_df_zhuanli.head(n=5)"
   ]
  },
  {
   "cell_type": "code",
   "execution_count": 183,
   "metadata": {
    "ExecuteTime": {
     "end_time": "2019-03-30T14:53:08.621671Z",
     "start_time": "2019-03-30T14:53:08.619068Z"
    }
   },
   "outputs": [],
   "source": [
    "# merge_zhuzuo_zuopin_project_nashui_zizhi_product_zhuanli = (pd.merge(merge_zhuzuo_zuopin_project_nashui_zizhi_product, new_df_zhuanli,\n",
    "#                                                                      on='企业编号', how='outer')).fillna(0).astype(int)\n",
    "res['专利'] = new_df_zhuanli"
   ]
  },
  {
   "cell_type": "markdown",
   "metadata": {},
   "source": [
    "# 竞品"
   ]
  },
  {
   "cell_type": "code",
   "execution_count": 184,
   "metadata": {
    "ExecuteTime": {
     "end_time": "2019-03-30T14:53:12.033126Z",
     "start_time": "2019-03-30T14:53:08.623960Z"
    }
   },
   "outputs": [],
   "source": [
    "df_jingpin_bkp = pd.read_excel(data_path+r'竞品.xlsx')"
   ]
  },
  {
   "cell_type": "code",
   "execution_count": 185,
   "metadata": {
    "ExecuteTime": {
     "end_time": "2019-03-30T14:53:12.063922Z",
     "start_time": "2019-03-30T14:53:12.035191Z"
    }
   },
   "outputs": [
    {
     "name": "stdout",
     "output_type": "stream",
     "text": [
      "<class 'pandas.core.frame.DataFrame'>\n",
      "RangeIndex: 33883 entries, 0 to 33882\n",
      "Data columns (total 7 columns):\n",
      "企业编号      33883 non-null int64\n",
      "竞品的行业     2076 non-null object\n",
      "竞品的标签     33875 non-null object\n",
      "竞品轮次      23416 non-null object\n",
      "竞品详细地址    31384 non-null object\n",
      "竞品运营状态    31002 non-null object\n",
      "竞品成立时间    31561 non-null object\n",
      "dtypes: int64(1), object(6)\n",
      "memory usage: 1.8+ MB\n"
     ]
    }
   ],
   "source": [
    "df_jingpin = df_jingpin_bkp.copy()\n",
    "df_jingpin.info()"
   ]
  },
  {
   "cell_type": "code",
   "execution_count": 186,
   "metadata": {
    "ExecuteTime": {
     "end_time": "2019-03-30T14:53:12.423045Z",
     "start_time": "2019-03-30T14:53:12.067046Z"
    }
   },
   "outputs": [],
   "source": [
    "df_jingpin = df_jingpin.loc[(df_jingpin['竞品运营状态'] == '运营中')]\n",
    "df_jingpin = df_jingpin.loc[(df_jingpin['竞品的标签'].notnull())]"
   ]
  },
  {
   "cell_type": "code",
   "execution_count": 187,
   "metadata": {
    "ExecuteTime": {
     "end_time": "2019-03-30T14:53:12.538559Z",
     "start_time": "2019-03-30T14:53:12.425782Z"
    }
   },
   "outputs": [],
   "source": [
    "new_df_jingpin = pd.DataFrame(df_jingpin['企业编号'].value_counts())\n",
    "new_df_jingpin.columns = ['竞品数量']\n",
    "new_df_jingpin['企业编号'] = new_df_jingpin.index\n",
    "new_df_jingpin.sort_values(by=['企业编号'], inplace=True)\n",
    "new_df_jingpin = new_df_jingpin[['企业编号', '竞品数量']]\n",
    "new_df_jingpin = new_df_jingpin.set_index(np.arange(0, len(new_df_jingpin)))\n",
    "# new_df_jingpin.head(n=20)"
   ]
  },
  {
   "cell_type": "code",
   "execution_count": 188,
   "metadata": {
    "ExecuteTime": {
     "end_time": "2019-03-30T14:53:12.601611Z",
     "start_time": "2019-03-30T14:53:12.541512Z"
    }
   },
   "outputs": [],
   "source": [
    "# merge_zhuzuo_zuopin_project_nashui_zizhi_product_zhuanli_jingpin = (pd.merge(merge_zhuzuo_zuopin_project_nashui_zizhi_product_zhuanli, new_df_jingpin,\n",
    "#                                                                              on='企业编号', how='outer')).fillna(0).astype(int)\n",
    "res['竞品'] = new_df_jingpin"
   ]
  },
  {
   "cell_type": "markdown",
   "metadata": {},
   "source": [
    "# 海关进出口信用"
   ]
  },
  {
   "cell_type": "code",
   "execution_count": 189,
   "metadata": {
    "ExecuteTime": {
     "end_time": "2019-03-30T14:53:12.953055Z",
     "start_time": "2019-03-30T14:53:12.607298Z"
    }
   },
   "outputs": [],
   "source": [
    "df_haiguan_bkp = pd.read_excel(data_path+r'海关进出口信用.xlsx')"
   ]
  },
  {
   "cell_type": "code",
   "execution_count": 190,
   "metadata": {
    "ExecuteTime": {
     "end_time": "2019-03-30T14:53:12.958736Z",
     "start_time": "2019-03-30T14:53:12.955553Z"
    }
   },
   "outputs": [],
   "source": [
    "df_haiguan = df_haiguan_bkp.copy()"
   ]
  },
  {
   "cell_type": "code",
   "execution_count": 191,
   "metadata": {
    "ExecuteTime": {
     "end_time": "2019-03-30T14:53:13.042343Z",
     "start_time": "2019-03-30T14:53:12.960614Z"
    }
   },
   "outputs": [
    {
     "name": "stdout",
     "output_type": "stream",
     "text": [
      "<class 'pandas.core.frame.DataFrame'>\n",
      "RangeIndex: 2609 entries, 0 to 2608\n",
      "Data columns (total 6 columns):\n",
      "企业编号      2609 non-null int64\n",
      "经济区划      2608 non-null object\n",
      "经营类别      2607 non-null object\n",
      "海关注销标志    1774 non-null object\n",
      "年报情况      2609 non-null object\n",
      "信用等级      1355 non-null object\n",
      "dtypes: int64(1), object(5)\n",
      "memory usage: 122.4+ KB\n"
     ]
    }
   ],
   "source": [
    "df_haiguan.info()"
   ]
  },
  {
   "cell_type": "code",
   "execution_count": 192,
   "metadata": {
    "ExecuteTime": {
     "end_time": "2019-03-30T14:53:13.097786Z",
     "start_time": "2019-03-30T14:53:13.045211Z"
    }
   },
   "outputs": [
    {
     "data": {
      "text/plain": [
       "进出口收发货人       2571\n",
       "加工生产企业          20\n",
       "报关企业             6\n",
       "保税仓库             5\n",
       "临时注册企业           3\n",
       "0000000001       1\n",
       "进出口运输工具负责人       1\n",
       "Name: 经营类别, dtype: int64"
      ]
     },
     "execution_count": 192,
     "metadata": {},
     "output_type": "execute_result"
    }
   ],
   "source": [
    "df_haiguan['经营类别'].value_counts()"
   ]
  },
  {
   "cell_type": "code",
   "execution_count": 193,
   "metadata": {
    "ExecuteTime": {
     "end_time": "2019-03-30T14:53:13.193838Z",
     "start_time": "2019-03-30T14:53:13.099944Z"
    }
   },
   "outputs": [
    {
     "data": {
      "text/plain": [
       "一般信用企业    913\n",
       "一般认证企业    318\n",
       "高级认证企业    123\n",
       "失信企业        1\n",
       "Name: 信用等级, dtype: int64"
      ]
     },
     "execution_count": 193,
     "metadata": {},
     "output_type": "execute_result"
    }
   ],
   "source": [
    "df_haiguan['信用等级'].value_counts()"
   ]
  },
  {
   "cell_type": "markdown",
   "metadata": {},
   "source": [
    "# 招投标"
   ]
  },
  {
   "cell_type": "code",
   "execution_count": 194,
   "metadata": {
    "ExecuteTime": {
     "end_time": "2019-03-30T14:53:28.957573Z",
     "start_time": "2019-03-30T14:53:13.196135Z"
    }
   },
   "outputs": [
    {
     "name": "stdout",
     "output_type": "stream",
     "text": [
      "<class 'pandas.core.frame.DataFrame'>\n",
      "RangeIndex: 158309 entries, 0 to 158308\n",
      "Data columns (total 5 columns):\n",
      "企业编号     158309 non-null int64\n",
      "公告类型     146194 non-null object\n",
      "中标或招标    158309 non-null object\n",
      "省份       158309 non-null object\n",
      "发布时间     158309 non-null object\n",
      "dtypes: int64(1), object(4)\n",
      "memory usage: 6.0+ MB\n"
     ]
    }
   ],
   "source": [
    "df_zhaotoubiao_bkp = pd.read_excel(data_path+r'招投标.xlsx')\n",
    "df_zhaotoubiao = df_zhaotoubiao_bkp.copy()\n",
    "df_zhaotoubiao.info()"
   ]
  },
  {
   "cell_type": "code",
   "execution_count": 195,
   "metadata": {
    "ExecuteTime": {
     "end_time": "2019-03-30T14:53:28.979014Z",
     "start_time": "2019-03-30T14:53:28.959625Z"
    }
   },
   "outputs": [
    {
     "data": {
      "text/plain": [
       "中标    139286\n",
       "招标     19023\n",
       "Name: 中标或招标, dtype: int64"
      ]
     },
     "execution_count": 195,
     "metadata": {},
     "output_type": "execute_result"
    }
   ],
   "source": [
    "df_zhaotoubiao['中标或招标'].value_counts()"
   ]
  },
  {
   "cell_type": "code",
   "execution_count": 196,
   "metadata": {
    "ExecuteTime": {
     "end_time": "2019-03-30T14:53:29.343593Z",
     "start_time": "2019-03-30T14:53:28.981463Z"
    }
   },
   "outputs": [
    {
     "data": {
      "text/plain": [
       "中标       110781\n",
       "成交        17653\n",
       "合同        11509\n",
       "预告         2777\n",
       "其它         1233\n",
       "招标          984\n",
       "废标          559\n",
       "单一          210\n",
       "流标          188\n",
       "变更          145\n",
       "询价           85\n",
       "竞谈           23\n",
       "拟建           18\n",
       "验收           15\n",
       "结果变更          8\n",
       "公开招标          2\n",
       "违规            1\n",
       "竞争性谈判         1\n",
       "其他            1\n",
       "竞价            1\n",
       "Name: 公告类型, dtype: int64"
      ]
     },
     "execution_count": 196,
     "metadata": {},
     "output_type": "execute_result"
    }
   ],
   "source": [
    "df_zhaotoubiao['公告类型'].value_counts()"
   ]
  },
  {
   "cell_type": "code",
   "execution_count": 197,
   "metadata": {
    "ExecuteTime": {
     "end_time": "2019-03-30T14:53:29.444988Z",
     "start_time": "2019-03-30T14:53:29.346414Z"
    }
   },
   "outputs": [
    {
     "data": {
      "text/html": [
       "<div>\n",
       "<style scoped>\n",
       "    .dataframe tbody tr th:only-of-type {\n",
       "        vertical-align: middle;\n",
       "    }\n",
       "\n",
       "    .dataframe tbody tr th {\n",
       "        vertical-align: top;\n",
       "    }\n",
       "\n",
       "    .dataframe thead th {\n",
       "        text-align: right;\n",
       "    }\n",
       "</style>\n",
       "<table border=\"1\" class=\"dataframe\">\n",
       "  <thead>\n",
       "    <tr style=\"text-align: right;\">\n",
       "      <th>中标或招标</th>\n",
       "      <th>企业编号</th>\n",
       "      <th>中标</th>\n",
       "    </tr>\n",
       "  </thead>\n",
       "  <tbody>\n",
       "    <tr>\n",
       "      <th>0</th>\n",
       "      <td>1001</td>\n",
       "      <td>74.0</td>\n",
       "    </tr>\n",
       "    <tr>\n",
       "      <th>1</th>\n",
       "      <td>1002</td>\n",
       "      <td>8.0</td>\n",
       "    </tr>\n",
       "    <tr>\n",
       "      <th>2</th>\n",
       "      <td>1003</td>\n",
       "      <td>17.0</td>\n",
       "    </tr>\n",
       "    <tr>\n",
       "      <th>3</th>\n",
       "      <td>1004</td>\n",
       "      <td>NaN</td>\n",
       "    </tr>\n",
       "    <tr>\n",
       "      <th>4</th>\n",
       "      <td>1005</td>\n",
       "      <td>46.0</td>\n",
       "    </tr>\n",
       "  </tbody>\n",
       "</table>\n",
       "</div>"
      ],
      "text/plain": [
       "中标或招标  企业编号    中标\n",
       "0      1001  74.0\n",
       "1      1002   8.0\n",
       "2      1003  17.0\n",
       "3      1004   NaN\n",
       "4      1005  46.0"
      ]
     },
     "execution_count": 197,
     "metadata": {},
     "output_type": "execute_result"
    }
   ],
   "source": [
    "new_df_zhaotoubiao = df_zhaotoubiao.groupby(\n",
    "    ['企业编号', '中标或招标'])['中标或招标'].count().unstack()\n",
    "\n",
    "\n",
    "new_df_zhaotoubiao['企业编号'] = new_df_zhaotoubiao.index\n",
    "new_df_zhaotoubiao = new_df_zhaotoubiao[['企业编号', '中标', '招标']]\n",
    "new_df_zhaotoubiao = new_df_zhaotoubiao.set_index(\n",
    "    np.arange(0, len(new_df_zhaotoubiao)))\n",
    "new_df_zhaotoubiao = new_df_zhaotoubiao.drop(['招标'], axis=1)\n",
    "new_df_zhaotoubiao.head(n=5)"
   ]
  },
  {
   "cell_type": "code",
   "execution_count": 198,
   "metadata": {
    "ExecuteTime": {
     "end_time": "2019-03-30T14:53:29.496171Z",
     "start_time": "2019-03-30T14:53:29.447809Z"
    }
   },
   "outputs": [],
   "source": [
    "# merge_zhaotuobiao = (pd.merge(merge_zhuzuo_zuopin_project_nashui_zizhi_product_zhuanli_jingpin, new_df_zhaotoubiao,\n",
    "#                               on='企业编号', how='outer')).fillna(0)\n",
    "res['招投标'] = new_df_zhaotoubiao"
   ]
  },
  {
   "cell_type": "markdown",
   "metadata": {
    "ExecuteTime": {
     "end_time": "2019-03-23T01:51:56.449688Z",
     "start_time": "2019-03-23T01:51:55.041438Z"
    }
   },
   "source": [
    "# 购地"
   ]
  },
  {
   "cell_type": "code",
   "execution_count": 199,
   "metadata": {
    "ExecuteTime": {
     "end_time": "2019-03-30T14:53:50.200892Z",
     "start_time": "2019-03-30T14:53:29.500576Z"
    },
    "scrolled": true
   },
   "outputs": [
    {
     "name": "stdout",
     "output_type": "stream",
     "text": [
      "<class 'pandas.core.frame.DataFrame'>\n",
      "RangeIndex: 20033 entries, 0 to 20032\n",
      "Data columns (total 9 columns):\n",
      "企业编号        20033 non-null int64\n",
      "行政区         19993 non-null object\n",
      "时间          20033 non-null object\n",
      "公示日期        5046 non-null object\n",
      "土地用途        20027 non-null object\n",
      "土地面积（公顷）    20033 non-null float64\n",
      "出让年限        3970 non-null object\n",
      "成交价（万元）     4894 non-null float64\n",
      "土地使用条件      2032 non-null object\n",
      "dtypes: float64(2), int64(1), object(6)\n",
      "memory usage: 1.4+ MB\n",
      "None \n",
      "地块公示\n",
      "=================\n",
      "<class 'pandas.core.frame.DataFrame'>\n",
      "RangeIndex: 20033 entries, 0 to 20032\n",
      "Data columns (total 11 columns):\n",
      "企业编号         20033 non-null int64\n",
      "行政区          19993 non-null object\n",
      "签订日期         20033 non-null object\n",
      "供地总面积（公顷）    20033 non-null float64\n",
      "约定动工时间       1084 non-null object\n",
      "土地用途         20027 non-null object\n",
      "供应方式         1032 non-null object\n",
      "最小容积率        513 non-null float64\n",
      "最大容积率        517 non-null float64\n",
      "成交价款（万元）     4894 non-null float64\n",
      "约定竣工时间       631 non-null object\n",
      "dtypes: float64(4), int64(1), object(6)\n",
      "memory usage: 1.7+ MB\n",
      "None \n",
      "房地产大企业购地情况\n",
      "=================\n",
      "<class 'pandas.core.frame.DataFrame'>\n",
      "RangeIndex: 33744 entries, 0 to 33743\n",
      "Data columns (total 10 columns):\n",
      "企业编号        33744 non-null int64\n",
      "成交时间        33744 non-null object\n",
      "土地面积(公顷)    33743 non-null float64\n",
      "土地用途        33737 non-null object\n",
      "土地使用年限      1331 non-null object\n",
      "土地级别        1541 non-null object\n",
      "土地使用权类型     1040 non-null object\n",
      "土地利用状况      2125 non-null object\n",
      "转让方式        1063 non-null object\n",
      "转让价格(万元)    1063 non-null float64\n",
      "dtypes: float64(2), int64(1), object(7)\n",
      "memory usage: 2.6+ MB\n",
      "None \n",
      "市场交易-土地转让\n",
      "=================\n",
      "<class 'pandas.core.frame.DataFrame'>\n",
      "RangeIndex: 33744 entries, 0 to 33743\n",
      "Data columns (total 10 columns):\n",
      "企业编号        33744 non-null int64\n",
      "签订日期        33744 non-null object\n",
      "供地总面积       33743 non-null float64\n",
      "约定动工时间      1089 non-null object\n",
      "土地用途        33737 non-null object\n",
      "供应方式        1039 non-null object\n",
      "容积率下限       513 non-null float64\n",
      "容积率上限       517 non-null float64\n",
      "成交价款（万元）    5007 non-null float64\n",
      "约定竣工时间      631 non-null object\n",
      "dtypes: float64(4), int64(1), object(5)\n",
      "memory usage: 2.6+ MB\n",
      "None \n",
      "房地产大地块出让情况\n",
      "=================\n",
      "<class 'pandas.core.frame.DataFrame'>\n",
      "RangeIndex: 33744 entries, 0 to 33743\n",
      "Data columns (total 11 columns):\n",
      "企业编号              33744 non-null int64\n",
      "土地抵押人性质           24353 non-null object\n",
      "抵押面积(公顷)          26410 non-null float64\n",
      "土地用途              33737 non-null object\n",
      "抵押土地用途            26403 non-null object\n",
      "抵押土地权属性质与使用权类型    25843 non-null object\n",
      "土地面积              33743 non-null float64\n",
      "评估金额(万元)          25479 non-null float64\n",
      "抵押金额(万元)          26387 non-null float64\n",
      "土地抵押登记起始时间        33744 non-null object\n",
      "土地抵押登记结束时间        26405 non-null object\n",
      "dtypes: float64(4), int64(1), object(6)\n",
      "memory usage: 2.8+ MB\n",
      "None \n",
      "市场交易-土地抵押\n",
      "=================\n",
      "<class 'pandas.core.frame.DataFrame'>\n",
      "RangeIndex: 33744 entries, 0 to 33743\n",
      "Data columns (total 18 columns):\n",
      "企业编号        33744 non-null int64\n",
      "总面积         33743 non-null float64\n",
      "土地用途        33737 non-null object\n",
      "供应方式        1039 non-null object\n",
      "签订日期        33744 non-null object\n",
      "土地来源        488 non-null object\n",
      "土地使用年限      1331 non-null object\n",
      "行业分类        486 non-null object\n",
      "土地级别        1541 non-null object\n",
      "成交价格（万元）    5007 non-null float64\n",
      "约定容积率上限     325 non-null float64\n",
      "约定容积率下限     345 non-null float64\n",
      "约定交地时间      478 non-null object\n",
      "约定开工时间      1089 non-null object\n",
      "约定竣工时间      457 non-null object\n",
      "实际开工时间      0 non-null float64\n",
      "实际竣工时间      0 non-null float64\n",
      "批准单位        477 non-null object\n",
      "dtypes: float64(6), int64(1), object(11)\n",
      "memory usage: 4.6+ MB\n",
      "None \n",
      "结果公告\n"
     ]
    }
   ],
   "source": [
    "df_goudi1_bkp = pd.read_excel(data_path+'购地-地块公示.xlsx')\n",
    "df_goudi2_bkp = pd.read_excel(data_path+'购地-市场交易-土地转让.xlsx')\n",
    "df_goudi3_bkp = pd.read_excel(data_path+'购地-房地产大企业购地情况.xlsx')\n",
    "df_goudi4_bkp = pd.read_excel(data_path+'购地-房地产大地块出让情况.xlsx')\n",
    "df_goudi5_bkp = pd.read_excel(data_path+'购地-市场交易-土地抵押.xlsx')\n",
    "df_goudi6_bkp = pd.read_excel(data_path+'购地-结果公告.xlsx')\n",
    "df_goudi1 = df_goudi1_bkp.copy()\n",
    "df_goudi2 = df_goudi2_bkp.copy()\n",
    "df_goudi3 = df_goudi3_bkp.copy()\n",
    "df_goudi4 = df_goudi4_bkp.copy()\n",
    "df_goudi5 = df_goudi5_bkp.copy()\n",
    "df_goudi6 = df_goudi6_bkp.copy()\n",
    "print(df_goudi1.info(), '\\n地块公示')\n",
    "print('=================')\n",
    "print(df_goudi3.info(), '\\n房地产大企业购地情况')\n",
    "print('=================')\n",
    "print(df_goudi2.info(), '\\n市场交易-土地转让')\n",
    "print('=================')\n",
    "print(df_goudi4.info(), '\\n房地产大地块出让情况')\n",
    "print('=================')\n",
    "print(df_goudi5.info(), '\\n市场交易-土地抵押')\n",
    "print('=================')\n",
    "print(df_goudi6.info(), '\\n结果公告')"
   ]
  },
  {
   "cell_type": "code",
   "execution_count": 200,
   "metadata": {
    "ExecuteTime": {
     "end_time": "2019-03-30T14:53:50.227344Z",
     "start_time": "2019-03-30T14:53:50.203992Z"
    }
   },
   "outputs": [
    {
     "name": "stdout",
     "output_type": "stream",
     "text": [
      "地块公示 vs 房地产大企业购地情况: True True\n",
      "市场交易-土地转让 vs 房地产大地块出让情况: True True\n",
      "市场交易-土地转让 vs 市场交易-土地抵押: False True\n",
      "市场交易-土地转让 vs 结果公告: True True\n"
     ]
    }
   ],
   "source": [
    "print('地块公示 vs 房地产大企业购地情况:', df_goudi1['土地面积（公顷）'].equals(\n",
    "    df_goudi3['供地总面积（公顷）']), df_goudi1['企业编号'].equals(\n",
    "    df_goudi3['企业编号']))\n",
    "print('市场交易-土地转让 vs 房地产大地块出让情况:',\n",
    "      df_goudi2['土地面积(公顷)'].equals(df_goudi4['供地总面积']), df_goudi2['企业编号'].equals(df_goudi4['企业编号']))\n",
    "print('市场交易-土地转让 vs 市场交易-土地抵押:',\n",
    "      df_goudi2['土地面积(公顷)'].equals(df_goudi5['抵押面积(公顷)']), df_goudi2['企业编号'].equals(df_goudi5['企业编号']))\n",
    "print('市场交易-土地转让 vs 结果公告:', df_goudi2['土地面积(公顷)'].equals(\n",
    "    df_goudi6['总面积']), df_goudi2['企业编号'].equals(df_goudi6['企业编号']))"
   ]
  },
  {
   "cell_type": "code",
   "execution_count": 201,
   "metadata": {
    "ExecuteTime": {
     "end_time": "2019-03-30T14:53:50.606706Z",
     "start_time": "2019-03-30T14:53:50.231018Z"
    }
   },
   "outputs": [
    {
     "data": {
      "text/html": [
       "<div>\n",
       "<style scoped>\n",
       "    .dataframe tbody tr th:only-of-type {\n",
       "        vertical-align: middle;\n",
       "    }\n",
       "\n",
       "    .dataframe tbody tr th {\n",
       "        vertical-align: top;\n",
       "    }\n",
       "\n",
       "    .dataframe thead th {\n",
       "        text-align: right;\n",
       "    }\n",
       "</style>\n",
       "<table border=\"1\" class=\"dataframe\">\n",
       "  <thead>\n",
       "    <tr style=\"text-align: right;\">\n",
       "      <th></th>\n",
       "      <th>土地面积（公顷）_sum</th>\n",
       "      <th>土地面积（公顷）_min</th>\n",
       "      <th>土地面积（公顷）_max</th>\n",
       "      <th>企业编号</th>\n",
       "    </tr>\n",
       "  </thead>\n",
       "  <tbody>\n",
       "    <tr>\n",
       "      <th>0</th>\n",
       "      <td>158135.998846</td>\n",
       "      <td>0.00030</td>\n",
       "      <td>80001.80000</td>\n",
       "      <td>1001</td>\n",
       "    </tr>\n",
       "    <tr>\n",
       "      <th>1</th>\n",
       "      <td>55.668100</td>\n",
       "      <td>4.15927</td>\n",
       "      <td>41.40896</td>\n",
       "      <td>1003</td>\n",
       "    </tr>\n",
       "    <tr>\n",
       "      <th>2</th>\n",
       "      <td>4.000000</td>\n",
       "      <td>0.60000</td>\n",
       "      <td>3.40000</td>\n",
       "      <td>1004</td>\n",
       "    </tr>\n",
       "  </tbody>\n",
       "</table>\n",
       "</div>"
      ],
      "text/plain": [
       "    土地面积（公顷）_sum  土地面积（公顷）_min  土地面积（公顷）_max  企业编号\n",
       "0  158135.998846       0.00030   80001.80000  1001\n",
       "1      55.668100       4.15927      41.40896  1003\n",
       "2       4.000000       0.60000       3.40000  1004"
      ]
     },
     "execution_count": 201,
     "metadata": {},
     "output_type": "execute_result"
    }
   ],
   "source": [
    "df_goudi1['土地面积（公顷）'] = df_goudi1['土地面积（公顷）'].astype(float)\n",
    "goudi_grouped = df_goudi1.groupby(['企业编号'])\n",
    "\n",
    "agg_goudi_func = {\n",
    "    '土地面积（公顷）': ['sum', 'min', 'max']\n",
    "}\n",
    "goudi_grouped_info = goudi_grouped.agg(agg_goudi_func)\n",
    "goudi_grouped_info.columns = [\n",
    "    '_'.join(col).strip() for col in goudi_grouped_info.columns.values]\n",
    "goudi_grouped_info['企业编号'] = goudi_grouped_info.index\n",
    "goudi_grouped_info = goudi_grouped_info.set_index(\n",
    "    np.arange(0, len(goudi_grouped_info)))\n",
    "goudi_grouped_info.head(n=3)\n",
    "# drop goudi3"
   ]
  },
  {
   "cell_type": "code",
   "execution_count": 202,
   "metadata": {
    "ExecuteTime": {
     "end_time": "2019-03-30T14:53:51.134780Z",
     "start_time": "2019-03-30T14:53:50.608873Z"
    }
   },
   "outputs": [
    {
     "data": {
      "text/html": [
       "<div>\n",
       "<style scoped>\n",
       "    .dataframe tbody tr th:only-of-type {\n",
       "        vertical-align: middle;\n",
       "    }\n",
       "\n",
       "    .dataframe tbody tr th {\n",
       "        vertical-align: top;\n",
       "    }\n",
       "\n",
       "    .dataframe thead th {\n",
       "        text-align: right;\n",
       "    }\n",
       "</style>\n",
       "<table border=\"1\" class=\"dataframe\">\n",
       "  <thead>\n",
       "    <tr style=\"text-align: right;\">\n",
       "      <th></th>\n",
       "      <th>评估金额(亿元)_sum</th>\n",
       "      <th>评估金额(亿元)_max</th>\n",
       "      <th>企业编号</th>\n",
       "    </tr>\n",
       "  </thead>\n",
       "  <tbody>\n",
       "    <tr>\n",
       "      <th>0</th>\n",
       "      <td>54454.534553</td>\n",
       "      <td>16793.953500</td>\n",
       "      <td>1001</td>\n",
       "    </tr>\n",
       "    <tr>\n",
       "      <th>1</th>\n",
       "      <td>1072.827287</td>\n",
       "      <td>304.009500</td>\n",
       "      <td>1010</td>\n",
       "    </tr>\n",
       "    <tr>\n",
       "      <th>2</th>\n",
       "      <td>1831.685186</td>\n",
       "      <td>40.403526</td>\n",
       "      <td>1011</td>\n",
       "    </tr>\n",
       "  </tbody>\n",
       "</table>\n",
       "</div>"
      ],
      "text/plain": [
       "   评估金额(亿元)_sum  评估金额(亿元)_max  企业编号\n",
       "0  54454.534553  16793.953500  1001\n",
       "1   1072.827287    304.009500  1010\n",
       "2   1831.685186     40.403526  1011"
      ]
     },
     "execution_count": 202,
     "metadata": {},
     "output_type": "execute_result"
    }
   ],
   "source": [
    "df_jine = df_goudi5.loc[(df_goudi5['评估金额(万元)'].notnull())]\n",
    "\n",
    "df_jine['评估金额(亿元)'] = df_jine['评估金额(万元)'].astype(float)/10000\n",
    "goudi_grouped_jine = df_jine.groupby(['企业编号'])\n",
    "\n",
    "agg_goudi_func = {\n",
    "    '评估金额(亿元)': ['sum', 'max']\n",
    "}\n",
    "goudi_grouped_jine_info = goudi_grouped_jine.agg(agg_goudi_func)\n",
    "goudi_grouped_jine_info.columns = [\n",
    "    '_'.join(col).strip() for col in goudi_grouped_jine_info.columns.values]\n",
    "goudi_grouped_jine_info['企业编号'] = goudi_grouped_jine_info.index\n",
    "goudi_grouped_jine_info = goudi_grouped_jine_info.set_index(\n",
    "    np.arange(0, len(goudi_grouped_jine_info)))\n",
    "goudi_grouped_jine_info.head(n=3)"
   ]
  },
  {
   "cell_type": "code",
   "execution_count": 203,
   "metadata": {
    "ExecuteTime": {
     "end_time": "2019-03-30T14:53:51.187337Z",
     "start_time": "2019-03-30T14:53:51.136423Z"
    }
   },
   "outputs": [
    {
     "data": {
      "text/html": [
       "<div>\n",
       "<style scoped>\n",
       "    .dataframe tbody tr th:only-of-type {\n",
       "        vertical-align: middle;\n",
       "    }\n",
       "\n",
       "    .dataframe tbody tr th {\n",
       "        vertical-align: top;\n",
       "    }\n",
       "\n",
       "    .dataframe thead th {\n",
       "        text-align: right;\n",
       "    }\n",
       "</style>\n",
       "<table border=\"1\" class=\"dataframe\">\n",
       "  <thead>\n",
       "    <tr style=\"text-align: right;\">\n",
       "      <th></th>\n",
       "      <th>企业编号</th>\n",
       "      <th>企业购地面积（公顷）_sum</th>\n",
       "      <th>企业购地面积（公顷）_min</th>\n",
       "      <th>企业购地面积（公顷）_max</th>\n",
       "      <th>土地评估金额(亿元)_sum</th>\n",
       "      <th>土地评估金额(亿元)_max</th>\n",
       "      <th>土地面积评估均值(公顷/亿元)</th>\n",
       "      <th>购地次数</th>\n",
       "      <th>抵押次数</th>\n",
       "    </tr>\n",
       "  </thead>\n",
       "  <tbody>\n",
       "    <tr>\n",
       "      <th>0</th>\n",
       "      <td>1001</td>\n",
       "      <td>158135.998846</td>\n",
       "      <td>0.00030</td>\n",
       "      <td>80001.80000</td>\n",
       "      <td>54454.534553</td>\n",
       "      <td>16793.9535</td>\n",
       "      <td>2.904001</td>\n",
       "      <td>1671.0</td>\n",
       "      <td>1528.0</td>\n",
       "    </tr>\n",
       "    <tr>\n",
       "      <th>1</th>\n",
       "      <td>1003</td>\n",
       "      <td>55.668100</td>\n",
       "      <td>4.15927</td>\n",
       "      <td>41.40896</td>\n",
       "      <td>NaN</td>\n",
       "      <td>NaN</td>\n",
       "      <td>NaN</td>\n",
       "      <td>3.0</td>\n",
       "      <td>NaN</td>\n",
       "    </tr>\n",
       "    <tr>\n",
       "      <th>2</th>\n",
       "      <td>1004</td>\n",
       "      <td>4.000000</td>\n",
       "      <td>0.60000</td>\n",
       "      <td>3.40000</td>\n",
       "      <td>NaN</td>\n",
       "      <td>NaN</td>\n",
       "      <td>NaN</td>\n",
       "      <td>2.0</td>\n",
       "      <td>NaN</td>\n",
       "    </tr>\n",
       "    <tr>\n",
       "      <th>3</th>\n",
       "      <td>1005</td>\n",
       "      <td>2.935250</td>\n",
       "      <td>2.93525</td>\n",
       "      <td>2.93525</td>\n",
       "      <td>NaN</td>\n",
       "      <td>NaN</td>\n",
       "      <td>NaN</td>\n",
       "      <td>1.0</td>\n",
       "      <td>NaN</td>\n",
       "    </tr>\n",
       "    <tr>\n",
       "      <th>4</th>\n",
       "      <td>1007</td>\n",
       "      <td>230.110791</td>\n",
       "      <td>30.49280</td>\n",
       "      <td>66.66667</td>\n",
       "      <td>NaN</td>\n",
       "      <td>NaN</td>\n",
       "      <td>NaN</td>\n",
       "      <td>4.0</td>\n",
       "      <td>NaN</td>\n",
       "    </tr>\n",
       "  </tbody>\n",
       "</table>\n",
       "</div>"
      ],
      "text/plain": [
       "   企业编号  企业购地面积（公顷）_sum  企业购地面积（公顷）_min  企业购地面积（公顷）_max  土地评估金额(亿元)_sum  \\\n",
       "0  1001   158135.998846         0.00030     80001.80000    54454.534553   \n",
       "1  1003       55.668100         4.15927        41.40896             NaN   \n",
       "2  1004        4.000000         0.60000         3.40000             NaN   \n",
       "3  1005        2.935250         2.93525         2.93525             NaN   \n",
       "4  1007      230.110791        30.49280        66.66667             NaN   \n",
       "\n",
       "   土地评估金额(亿元)_max  土地面积评估均值(公顷/亿元)    购地次数    抵押次数  \n",
       "0      16793.9535         2.904001  1671.0  1528.0  \n",
       "1             NaN              NaN     3.0     NaN  \n",
       "2             NaN              NaN     2.0     NaN  \n",
       "3             NaN              NaN     1.0     NaN  \n",
       "4             NaN              NaN     4.0     NaN  "
      ]
     },
     "execution_count": 203,
     "metadata": {},
     "output_type": "execute_result"
    }
   ],
   "source": [
    "merge_goudi = goudi_grouped_info.merge(\n",
    "    goudi_grouped_jine_info, how='outer', on='企业编号')\n",
    "merge_goudi['土地面积评估均值(公顷/亿元)'] = (merge_goudi['土地面积（公顷）_sum'] /\n",
    "                                  merge_goudi['评估金额(亿元)_sum']).replace(np.inf, np.nan)\n",
    "cols = ['企业编号', '土地面积（公顷）_sum', '土地面积（公顷）_min', '土地面积（公顷）_max',\n",
    "        '评估金额(亿元)_sum', '评估金额(亿元)_max', '土地面积评估均值(公顷/亿元)']\n",
    "merge_goudi = merge_goudi[cols]\n",
    "\n",
    "diyacishu = pd.DataFrame()\n",
    "diyacishu['抵押次数'] = df_goudi5.loc[(df_goudi5['评估金额(万元)'].notnull())].groupby(['企业编号'])[\n",
    "    '企业编号'].count()\n",
    "\n",
    "goudicishu = pd.DataFrame()\n",
    "goudicishu['购地次数'] = df_goudi1.loc[(df_goudi1['土地面积（公顷）'].notnull())].groupby(['企业编号'])[\n",
    "    '企业编号'].count()\n",
    "goudicishu = goudicishu.merge(\n",
    "    diyacishu, how='outer', on='企业编号')\n",
    "merge_goudi = merge_goudi.merge(goudicishu, how='outer', on='企业编号')\n",
    "merge_goudi.columns = ['企业编号', '企业购地面积（公顷）_sum', '企业购地面积（公顷）_min', '企业购地面积（公顷）_max',\n",
    "                       '土地评估金额(亿元)_sum', '土地评估金额(亿元)_max', '土地面积评估均值(公顷/亿元)', '购地次数', '抵押次数']\n",
    "merge_goudi.head(n=5)"
   ]
  },
  {
   "cell_type": "code",
   "execution_count": 204,
   "metadata": {
    "ExecuteTime": {
     "end_time": "2019-03-30T14:53:51.318067Z",
     "start_time": "2019-03-30T14:53:51.189348Z"
    }
   },
   "outputs": [
    {
     "name": "stdout",
     "output_type": "stream",
     "text": [
      "<class 'pandas.core.frame.DataFrame'>\n",
      "Int64Index: 1317 entries, 0 to 1316\n",
      "Data columns (total 9 columns):\n",
      "企业编号               1317 non-null int64\n",
      "企业购地面积（公顷）_sum     1316 non-null float64\n",
      "企业购地面积（公顷）_min     1316 non-null float64\n",
      "企业购地面积（公顷）_max     1316 non-null float64\n",
      "土地评估金额(亿元)_sum     216 non-null float64\n",
      "土地评估金额(亿元)_max     216 non-null float64\n",
      "土地面积评估均值(公顷/亿元)    211 non-null float64\n",
      "购地次数               1316 non-null float64\n",
      "抵押次数               216 non-null float64\n",
      "dtypes: float64(8), int64(1)\n",
      "memory usage: 102.9 KB\n"
     ]
    },
    {
     "data": {
      "text/html": [
       "<div>\n",
       "<style scoped>\n",
       "    .dataframe tbody tr th:only-of-type {\n",
       "        vertical-align: middle;\n",
       "    }\n",
       "\n",
       "    .dataframe tbody tr th {\n",
       "        vertical-align: top;\n",
       "    }\n",
       "\n",
       "    .dataframe thead th {\n",
       "        text-align: right;\n",
       "    }\n",
       "</style>\n",
       "<table border=\"1\" class=\"dataframe\">\n",
       "  <thead>\n",
       "    <tr style=\"text-align: right;\">\n",
       "      <th></th>\n",
       "      <th>企业编号</th>\n",
       "      <th>土地抵押人性质</th>\n",
       "      <th>抵押面积(公顷)</th>\n",
       "      <th>土地用途</th>\n",
       "      <th>抵押土地用途</th>\n",
       "      <th>抵押土地权属性质与使用权类型</th>\n",
       "      <th>土地面积</th>\n",
       "      <th>评估金额(万元)</th>\n",
       "      <th>抵押金额(万元)</th>\n",
       "      <th>土地抵押登记起始时间</th>\n",
       "      <th>土地抵押登记结束时间</th>\n",
       "    </tr>\n",
       "  </thead>\n",
       "  <tbody>\n",
       "    <tr>\n",
       "      <th>7</th>\n",
       "      <td>1001</td>\n",
       "      <td>有限公司</td>\n",
       "      <td>10.8261</td>\n",
       "      <td>工业用地</td>\n",
       "      <td>工业用地</td>\n",
       "      <td>国有出让</td>\n",
       "      <td>10.8261</td>\n",
       "      <td>2921.0000</td>\n",
       "      <td>1200.0000</td>\n",
       "      <td>2007-06-25 14:39:37</td>\n",
       "      <td>2008-06-25 14:39:37</td>\n",
       "    </tr>\n",
       "    <tr>\n",
       "      <th>8</th>\n",
       "      <td>1001</td>\n",
       "      <td>有限公司</td>\n",
       "      <td>3.2054</td>\n",
       "      <td>工业用地</td>\n",
       "      <td>工业用地</td>\n",
       "      <td>国有出让</td>\n",
       "      <td>3.2054</td>\n",
       "      <td>847.6500</td>\n",
       "      <td>400.0000</td>\n",
       "      <td>2007-08-17 14:48:15</td>\n",
       "      <td>2009-04-23 14:48:15</td>\n",
       "    </tr>\n",
       "    <tr>\n",
       "      <th>9</th>\n",
       "      <td>1001</td>\n",
       "      <td>企业</td>\n",
       "      <td>6.5283</td>\n",
       "      <td>住宅用地</td>\n",
       "      <td>住宅用地</td>\n",
       "      <td>国有</td>\n",
       "      <td>6.5283</td>\n",
       "      <td>9990.9100</td>\n",
       "      <td>4995.4550</td>\n",
       "      <td>2008-01-11 20:26:58</td>\n",
       "      <td>2011-12-11 20:26:58</td>\n",
       "    </tr>\n",
       "    <tr>\n",
       "      <th>10</th>\n",
       "      <td>1001</td>\n",
       "      <td>NaN</td>\n",
       "      <td>3.8533</td>\n",
       "      <td>其他普通商品住房用地</td>\n",
       "      <td>其他普通商品住房用地</td>\n",
       "      <td>出让地</td>\n",
       "      <td>3.8533</td>\n",
       "      <td>19386.0000</td>\n",
       "      <td>2516.0000</td>\n",
       "      <td>2008-04-03 11:14:03</td>\n",
       "      <td>2010-10-26 11:14:03</td>\n",
       "    </tr>\n",
       "    <tr>\n",
       "      <th>11</th>\n",
       "      <td>1001</td>\n",
       "      <td>股份制</td>\n",
       "      <td>3.7990</td>\n",
       "      <td>工矿仓储用地</td>\n",
       "      <td>工矿仓储用地</td>\n",
       "      <td>出让</td>\n",
       "      <td>3.7990</td>\n",
       "      <td>11049.0000</td>\n",
       "      <td>8850.0000</td>\n",
       "      <td>2008-04-25 09:35:17</td>\n",
       "      <td>2009-09-30 09:35:17</td>\n",
       "    </tr>\n",
       "    <tr>\n",
       "      <th>12</th>\n",
       "      <td>1001</td>\n",
       "      <td>股份制</td>\n",
       "      <td>2.6640</td>\n",
       "      <td>工业用地</td>\n",
       "      <td>工业用地</td>\n",
       "      <td>国有</td>\n",
       "      <td>2.6640</td>\n",
       "      <td>858.6100</td>\n",
       "      <td>429.3500</td>\n",
       "      <td>2008-07-24 16:54:48</td>\n",
       "      <td>2011-07-24 16:54:48</td>\n",
       "    </tr>\n",
       "    <tr>\n",
       "      <th>13</th>\n",
       "      <td>1001</td>\n",
       "      <td>有限公司</td>\n",
       "      <td>2.6911</td>\n",
       "      <td>工业用地</td>\n",
       "      <td>工业用地</td>\n",
       "      <td>国有出让</td>\n",
       "      <td>2.6911</td>\n",
       "      <td>2871.0000</td>\n",
       "      <td>1000.0000</td>\n",
       "      <td>2008-07-28 15:16:34</td>\n",
       "      <td>2010-07-29 15:16:34</td>\n",
       "    </tr>\n",
       "    <tr>\n",
       "      <th>14</th>\n",
       "      <td>1001</td>\n",
       "      <td>有限公司</td>\n",
       "      <td>1.0826</td>\n",
       "      <td>工业用地</td>\n",
       "      <td>工业用地</td>\n",
       "      <td>国有出让</td>\n",
       "      <td>1.0826</td>\n",
       "      <td>3172.0000</td>\n",
       "      <td>1500.0000</td>\n",
       "      <td>2008-07-29 15:17:11</td>\n",
       "      <td>2010-07-29 15:17:11</td>\n",
       "    </tr>\n",
       "    <tr>\n",
       "      <th>15</th>\n",
       "      <td>1001</td>\n",
       "      <td>NaN</td>\n",
       "      <td>0.1758</td>\n",
       "      <td>住宅用地</td>\n",
       "      <td>住宅用地</td>\n",
       "      <td>NaN</td>\n",
       "      <td>0.1758</td>\n",
       "      <td>282.0000</td>\n",
       "      <td>160.0000</td>\n",
       "      <td>2008-09-16 08:36:26</td>\n",
       "      <td>2011-09-16 08:36:26</td>\n",
       "    </tr>\n",
       "    <tr>\n",
       "      <th>16</th>\n",
       "      <td>1001</td>\n",
       "      <td>NaN</td>\n",
       "      <td>0.4633</td>\n",
       "      <td>住宅用地</td>\n",
       "      <td>住宅用地</td>\n",
       "      <td>NaN</td>\n",
       "      <td>0.4633</td>\n",
       "      <td>744.0000</td>\n",
       "      <td>410.0000</td>\n",
       "      <td>2008-09-16 10:45:23</td>\n",
       "      <td>2011-09-16 10:45:23</td>\n",
       "    </tr>\n",
       "    <tr>\n",
       "      <th>17</th>\n",
       "      <td>1001</td>\n",
       "      <td>NaN</td>\n",
       "      <td>1.2120</td>\n",
       "      <td>商务金融用地</td>\n",
       "      <td>商务金融用地</td>\n",
       "      <td>NaN</td>\n",
       "      <td>1.2120</td>\n",
       "      <td>1945.0000</td>\n",
       "      <td>1080.0000</td>\n",
       "      <td>2008-09-16 15:38:18</td>\n",
       "      <td>2011-09-16 15:38:18</td>\n",
       "    </tr>\n",
       "    <tr>\n",
       "      <th>18</th>\n",
       "      <td>1001</td>\n",
       "      <td>NaN</td>\n",
       "      <td>1.2929</td>\n",
       "      <td>商服用地</td>\n",
       "      <td>商服用地</td>\n",
       "      <td>NaN</td>\n",
       "      <td>1.2929</td>\n",
       "      <td>2075.0000</td>\n",
       "      <td>1150.0000</td>\n",
       "      <td>2008-09-16 17:05:48</td>\n",
       "      <td>2011-09-16 17:05:48</td>\n",
       "    </tr>\n",
       "    <tr>\n",
       "      <th>19</th>\n",
       "      <td>1001</td>\n",
       "      <td>有限公司</td>\n",
       "      <td>3.9700</td>\n",
       "      <td>工业用地</td>\n",
       "      <td>工业用地</td>\n",
       "      <td>国有土地使用权、出让</td>\n",
       "      <td>3.9700</td>\n",
       "      <td>587.0400</td>\n",
       "      <td>400.0000</td>\n",
       "      <td>2008-09-27 10:44:13</td>\n",
       "      <td>2009-09-26 10:44:13</td>\n",
       "    </tr>\n",
       "    <tr>\n",
       "      <th>20</th>\n",
       "      <td>1001</td>\n",
       "      <td>外资</td>\n",
       "      <td>1.2450</td>\n",
       "      <td>05</td>\n",
       "      <td>05</td>\n",
       "      <td>出让</td>\n",
       "      <td>1.2450</td>\n",
       "      <td>260498.6500</td>\n",
       "      <td>90000.0000</td>\n",
       "      <td>2008-10-23</td>\n",
       "      <td>2018-10-21</td>\n",
       "    </tr>\n",
       "    <tr>\n",
       "      <th>21</th>\n",
       "      <td>1001</td>\n",
       "      <td>有限责任公司</td>\n",
       "      <td>1.5867</td>\n",
       "      <td>工矿仓储用地</td>\n",
       "      <td>工矿仓储用地</td>\n",
       "      <td>国有出让</td>\n",
       "      <td>1.5867</td>\n",
       "      <td>476.0100</td>\n",
       "      <td>230.0000</td>\n",
       "      <td>2008-11-04 14:46:20</td>\n",
       "      <td>2011-11-03 14:46:20</td>\n",
       "    </tr>\n",
       "    <tr>\n",
       "      <th>22</th>\n",
       "      <td>1001</td>\n",
       "      <td>NaN</td>\n",
       "      <td>0.5898</td>\n",
       "      <td>其他商服用地</td>\n",
       "      <td>其他商服用地</td>\n",
       "      <td>国有</td>\n",
       "      <td>0.5898</td>\n",
       "      <td>1291.3793</td>\n",
       "      <td>600.0000</td>\n",
       "      <td>2008-11-10 08:34:43</td>\n",
       "      <td>2009-11-10 08:34:43</td>\n",
       "    </tr>\n",
       "    <tr>\n",
       "      <th>23</th>\n",
       "      <td>1001</td>\n",
       "      <td>集体股份合作制</td>\n",
       "      <td>0.3880</td>\n",
       "      <td>商服用地</td>\n",
       "      <td>商服用地</td>\n",
       "      <td>国有出让</td>\n",
       "      <td>0.3880</td>\n",
       "      <td>351.7104</td>\n",
       "      <td>100.0000</td>\n",
       "      <td>2008-11-26 17:32:04</td>\n",
       "      <td>2011-11-25 17:32:04</td>\n",
       "    </tr>\n",
       "    <tr>\n",
       "      <th>24</th>\n",
       "      <td>1001</td>\n",
       "      <td>个人</td>\n",
       "      <td>0.0010</td>\n",
       "      <td>住宅用地</td>\n",
       "      <td>住宅用地</td>\n",
       "      <td>国有土地使用权、划拨</td>\n",
       "      <td>0.0010</td>\n",
       "      <td>26.2900</td>\n",
       "      <td>13.0000</td>\n",
       "      <td>2008-11-27 17:04:01</td>\n",
       "      <td>2013-11-27 17:04:01</td>\n",
       "    </tr>\n",
       "    <tr>\n",
       "      <th>25</th>\n",
       "      <td>1001</td>\n",
       "      <td>个人</td>\n",
       "      <td>0.0009</td>\n",
       "      <td>住宅用地</td>\n",
       "      <td>住宅用地</td>\n",
       "      <td>国有土地使用权、划拨</td>\n",
       "      <td>0.0009</td>\n",
       "      <td>25.7400</td>\n",
       "      <td>10.0000</td>\n",
       "      <td>2008-12-01 17:20:12</td>\n",
       "      <td>2013-12-01 17:20:12</td>\n",
       "    </tr>\n",
       "    <tr>\n",
       "      <th>26</th>\n",
       "      <td>1001</td>\n",
       "      <td>个体工商户</td>\n",
       "      <td>0.0010</td>\n",
       "      <td>住宅用地</td>\n",
       "      <td>住宅用地</td>\n",
       "      <td>国有土地使用权、划拨</td>\n",
       "      <td>0.0010</td>\n",
       "      <td>33.5200</td>\n",
       "      <td>15.0000</td>\n",
       "      <td>2008-12-04 14:02:08</td>\n",
       "      <td>2013-12-04 14:02:08</td>\n",
       "    </tr>\n",
       "    <tr>\n",
       "      <th>27</th>\n",
       "      <td>1001</td>\n",
       "      <td>个人</td>\n",
       "      <td>0.0013</td>\n",
       "      <td>住宅用地</td>\n",
       "      <td>住宅用地</td>\n",
       "      <td>国有土地使用权、划拨</td>\n",
       "      <td>0.0013</td>\n",
       "      <td>50.4800</td>\n",
       "      <td>30.0000</td>\n",
       "      <td>2008-12-10 12:45:19</td>\n",
       "      <td>2018-12-10 12:45:19</td>\n",
       "    </tr>\n",
       "    <tr>\n",
       "      <th>28</th>\n",
       "      <td>1001</td>\n",
       "      <td>个人</td>\n",
       "      <td>0.0071</td>\n",
       "      <td>住宅用地</td>\n",
       "      <td>住宅用地</td>\n",
       "      <td>国有土地使用权、划拨</td>\n",
       "      <td>0.0071</td>\n",
       "      <td>438.9300</td>\n",
       "      <td>219.0000</td>\n",
       "      <td>2008-12-10 17:02:50</td>\n",
       "      <td>2018-12-10 17:02:50</td>\n",
       "    </tr>\n",
       "    <tr>\n",
       "      <th>29</th>\n",
       "      <td>1001</td>\n",
       "      <td>个人</td>\n",
       "      <td>0.0016</td>\n",
       "      <td>住宅用地</td>\n",
       "      <td>住宅用地</td>\n",
       "      <td>国有土地使用权、划拨</td>\n",
       "      <td>0.0016</td>\n",
       "      <td>64.5000</td>\n",
       "      <td>32.0000</td>\n",
       "      <td>2008-12-11 15:52:19</td>\n",
       "      <td>2018-12-11 15:52:19</td>\n",
       "    </tr>\n",
       "    <tr>\n",
       "      <th>30</th>\n",
       "      <td>1001</td>\n",
       "      <td>个人</td>\n",
       "      <td>0.0015</td>\n",
       "      <td>住宅用地</td>\n",
       "      <td>住宅用地</td>\n",
       "      <td>国有土地使用权、划拨</td>\n",
       "      <td>0.0015</td>\n",
       "      <td>50.2700</td>\n",
       "      <td>30.0000</td>\n",
       "      <td>2008-12-16 15:24:50</td>\n",
       "      <td>2018-12-26 15:24:50</td>\n",
       "    </tr>\n",
       "    <tr>\n",
       "      <th>31</th>\n",
       "      <td>1001</td>\n",
       "      <td>个人</td>\n",
       "      <td>0.0005</td>\n",
       "      <td>住宅用地</td>\n",
       "      <td>住宅用地</td>\n",
       "      <td>国有土地使用权、划拨</td>\n",
       "      <td>0.0005</td>\n",
       "      <td>48.6100</td>\n",
       "      <td>19.0000</td>\n",
       "      <td>2008-12-17 15:07:47</td>\n",
       "      <td>2013-12-17 15:07:47</td>\n",
       "    </tr>\n",
       "    <tr>\n",
       "      <th>32</th>\n",
       "      <td>1001</td>\n",
       "      <td>个人</td>\n",
       "      <td>0.0015</td>\n",
       "      <td>住宅用地</td>\n",
       "      <td>住宅用地</td>\n",
       "      <td>国有土地使用权、划拨</td>\n",
       "      <td>0.0015</td>\n",
       "      <td>56.1200</td>\n",
       "      <td>28.0000</td>\n",
       "      <td>2008-12-18 15:18:42</td>\n",
       "      <td>2016-12-18 15:18:42</td>\n",
       "    </tr>\n",
       "    <tr>\n",
       "      <th>33</th>\n",
       "      <td>1001</td>\n",
       "      <td>个人</td>\n",
       "      <td>0.0034</td>\n",
       "      <td>住宅用地</td>\n",
       "      <td>住宅用地</td>\n",
       "      <td>国有土地使用权、划拨</td>\n",
       "      <td>0.0034</td>\n",
       "      <td>201.9300</td>\n",
       "      <td>100.0000</td>\n",
       "      <td>2008-12-19 15:10:27</td>\n",
       "      <td>2009-12-19 15:10:27</td>\n",
       "    </tr>\n",
       "    <tr>\n",
       "      <th>34</th>\n",
       "      <td>1001</td>\n",
       "      <td>个人</td>\n",
       "      <td>0.0012</td>\n",
       "      <td>住宅用地</td>\n",
       "      <td>住宅用地</td>\n",
       "      <td>国有土地使用权、划拨</td>\n",
       "      <td>0.0012</td>\n",
       "      <td>25.1600</td>\n",
       "      <td>5.0000</td>\n",
       "      <td>2008-12-20 15:11:38</td>\n",
       "      <td>2011-12-20 15:11:38</td>\n",
       "    </tr>\n",
       "    <tr>\n",
       "      <th>35</th>\n",
       "      <td>1001</td>\n",
       "      <td>个人</td>\n",
       "      <td>0.0015</td>\n",
       "      <td>住宅用地</td>\n",
       "      <td>住宅用地</td>\n",
       "      <td>国有土地使用权、划拨</td>\n",
       "      <td>0.0015</td>\n",
       "      <td>50.3700</td>\n",
       "      <td>30.0000</td>\n",
       "      <td>2008-12-22 12:46:50</td>\n",
       "      <td>2016-12-22 12:46:50</td>\n",
       "    </tr>\n",
       "    <tr>\n",
       "      <th>36</th>\n",
       "      <td>1001</td>\n",
       "      <td>有限责任公司</td>\n",
       "      <td>0.6753</td>\n",
       "      <td>工矿仓储用地</td>\n",
       "      <td>工矿仓储用地</td>\n",
       "      <td>国有出让</td>\n",
       "      <td>0.6753</td>\n",
       "      <td>451.0000</td>\n",
       "      <td>220.0000</td>\n",
       "      <td>2008-12-23 14:41:06</td>\n",
       "      <td>2009-12-23 14:41:06</td>\n",
       "    </tr>\n",
       "    <tr>\n",
       "      <th>...</th>\n",
       "      <td>...</td>\n",
       "      <td>...</td>\n",
       "      <td>...</td>\n",
       "      <td>...</td>\n",
       "      <td>...</td>\n",
       "      <td>...</td>\n",
       "      <td>...</td>\n",
       "      <td>...</td>\n",
       "      <td>...</td>\n",
       "      <td>...</td>\n",
       "      <td>...</td>\n",
       "    </tr>\n",
       "    <tr>\n",
       "      <th>33572</th>\n",
       "      <td>3787</td>\n",
       "      <td>股份制</td>\n",
       "      <td>0.5507</td>\n",
       "      <td>工业用地</td>\n",
       "      <td>工业用地</td>\n",
       "      <td>出让</td>\n",
       "      <td>0.5507</td>\n",
       "      <td>155.3000</td>\n",
       "      <td>74.0000</td>\n",
       "      <td>2011-04-19</td>\n",
       "      <td>2012-04-18</td>\n",
       "    </tr>\n",
       "    <tr>\n",
       "      <th>33573</th>\n",
       "      <td>3787</td>\n",
       "      <td>有限责任公司</td>\n",
       "      <td>8.5000</td>\n",
       "      <td>工业用地</td>\n",
       "      <td>工业用地</td>\n",
       "      <td>国有土地使用权、出让</td>\n",
       "      <td>8.5000</td>\n",
       "      <td>1462.0000</td>\n",
       "      <td>730.0000</td>\n",
       "      <td>2011-10-11</td>\n",
       "      <td>2013-10-09</td>\n",
       "    </tr>\n",
       "    <tr>\n",
       "      <th>33606</th>\n",
       "      <td>3830</td>\n",
       "      <td>其他</td>\n",
       "      <td>0.0271</td>\n",
       "      <td>其他商服用地</td>\n",
       "      <td>其他商服用地</td>\n",
       "      <td>出让</td>\n",
       "      <td>0.0271</td>\n",
       "      <td>1000.0000</td>\n",
       "      <td>1000.0000</td>\n",
       "      <td>2008-12-08 13:49:25</td>\n",
       "      <td>2009-12-08 13:49:25</td>\n",
       "    </tr>\n",
       "    <tr>\n",
       "      <th>33609</th>\n",
       "      <td>3834</td>\n",
       "      <td>股份制</td>\n",
       "      <td>2.0969</td>\n",
       "      <td>工业用地</td>\n",
       "      <td>工业用地</td>\n",
       "      <td>出让</td>\n",
       "      <td>2.0969</td>\n",
       "      <td>1040.6000</td>\n",
       "      <td>574.2000</td>\n",
       "      <td>2012-07-17</td>\n",
       "      <td>2013-06-25</td>\n",
       "    </tr>\n",
       "    <tr>\n",
       "      <th>33620</th>\n",
       "      <td>3852</td>\n",
       "      <td>股份制</td>\n",
       "      <td>0.0600</td>\n",
       "      <td>商服用地</td>\n",
       "      <td>商服用地</td>\n",
       "      <td>国有 出让</td>\n",
       "      <td>2.1100</td>\n",
       "      <td>0.7500</td>\n",
       "      <td>0.5400</td>\n",
       "      <td>2012-10-15</td>\n",
       "      <td>2015-10-14</td>\n",
       "    </tr>\n",
       "    <tr>\n",
       "      <th>33626</th>\n",
       "      <td>3865</td>\n",
       "      <td>股份制</td>\n",
       "      <td>3.9600</td>\n",
       "      <td>工业用地</td>\n",
       "      <td>工业用地</td>\n",
       "      <td>出让</td>\n",
       "      <td>3.9600</td>\n",
       "      <td>3352.1000</td>\n",
       "      <td>1500.0000</td>\n",
       "      <td>2010-04-09</td>\n",
       "      <td>2011-04-08</td>\n",
       "    </tr>\n",
       "    <tr>\n",
       "      <th>33631</th>\n",
       "      <td>3878</td>\n",
       "      <td>个人</td>\n",
       "      <td>8.4749</td>\n",
       "      <td>061</td>\n",
       "      <td>061</td>\n",
       "      <td>国有；出让</td>\n",
       "      <td>8.4749</td>\n",
       "      <td>4858.6619</td>\n",
       "      <td>1500.0000</td>\n",
       "      <td>2010-03-17</td>\n",
       "      <td>2011-03-08</td>\n",
       "    </tr>\n",
       "    <tr>\n",
       "      <th>33645</th>\n",
       "      <td>3899</td>\n",
       "      <td>有限公司</td>\n",
       "      <td>8.2667</td>\n",
       "      <td>工业用地</td>\n",
       "      <td>工业用地</td>\n",
       "      <td>出让</td>\n",
       "      <td>8.2667</td>\n",
       "      <td>1432.0000</td>\n",
       "      <td>1000.0000</td>\n",
       "      <td>2010-04-01</td>\n",
       "      <td>2013-04-01</td>\n",
       "    </tr>\n",
       "    <tr>\n",
       "      <th>33648</th>\n",
       "      <td>3909</td>\n",
       "      <td>有限责任公司</td>\n",
       "      <td>2.7600</td>\n",
       "      <td>工业用地</td>\n",
       "      <td>工业用地</td>\n",
       "      <td>国有 出让</td>\n",
       "      <td>2.7600</td>\n",
       "      <td>4132.9900</td>\n",
       "      <td>2450.0000</td>\n",
       "      <td>2009-09-28</td>\n",
       "      <td>2012-09-27</td>\n",
       "    </tr>\n",
       "    <tr>\n",
       "      <th>33649</th>\n",
       "      <td>3909</td>\n",
       "      <td>有限责任公司</td>\n",
       "      <td>0.5300</td>\n",
       "      <td>工业用地</td>\n",
       "      <td>工业用地</td>\n",
       "      <td>国有 出让</td>\n",
       "      <td>0.5300</td>\n",
       "      <td>759.7300</td>\n",
       "      <td>350.0000</td>\n",
       "      <td>2010-03-31</td>\n",
       "      <td>2013-03-30</td>\n",
       "    </tr>\n",
       "    <tr>\n",
       "      <th>33656</th>\n",
       "      <td>3914</td>\n",
       "      <td>NaN</td>\n",
       "      <td>13.6843</td>\n",
       "      <td>工矿仓储用地</td>\n",
       "      <td>工矿仓储用地</td>\n",
       "      <td>出让</td>\n",
       "      <td>13.6843</td>\n",
       "      <td>2734.3695</td>\n",
       "      <td>2520.0000</td>\n",
       "      <td>2009-12-09</td>\n",
       "      <td>2012-12-09</td>\n",
       "    </tr>\n",
       "    <tr>\n",
       "      <th>33675</th>\n",
       "      <td>3929</td>\n",
       "      <td>公司</td>\n",
       "      <td>2.0479</td>\n",
       "      <td>工业用地</td>\n",
       "      <td>工业用地</td>\n",
       "      <td>国有</td>\n",
       "      <td>2.0479</td>\n",
       "      <td>1509.0660</td>\n",
       "      <td>750.0000</td>\n",
       "      <td>2009-12-03</td>\n",
       "      <td>2010-04-02</td>\n",
       "    </tr>\n",
       "    <tr>\n",
       "      <th>33676</th>\n",
       "      <td>3929</td>\n",
       "      <td>公司</td>\n",
       "      <td>1.6875</td>\n",
       "      <td>工业用地</td>\n",
       "      <td>工业用地</td>\n",
       "      <td>出让国有土地</td>\n",
       "      <td>1.6875</td>\n",
       "      <td>1231.8509</td>\n",
       "      <td>615.9300</td>\n",
       "      <td>2009-12-09</td>\n",
       "      <td>2010-12-08</td>\n",
       "    </tr>\n",
       "    <tr>\n",
       "      <th>33677</th>\n",
       "      <td>3929</td>\n",
       "      <td>公司</td>\n",
       "      <td>2.6408</td>\n",
       "      <td>工业用地</td>\n",
       "      <td>工业用地</td>\n",
       "      <td>出让国有土地</td>\n",
       "      <td>2.6408</td>\n",
       "      <td>1927.7840</td>\n",
       "      <td>963.8920</td>\n",
       "      <td>2009-12-09</td>\n",
       "      <td>2010-12-08</td>\n",
       "    </tr>\n",
       "    <tr>\n",
       "      <th>33679</th>\n",
       "      <td>3929</td>\n",
       "      <td>公司</td>\n",
       "      <td>2.6520</td>\n",
       "      <td>工业用地</td>\n",
       "      <td>工业用地</td>\n",
       "      <td>国有建设用地</td>\n",
       "      <td>2.6520</td>\n",
       "      <td>575.4840</td>\n",
       "      <td>279.0000</td>\n",
       "      <td>2010-02-04</td>\n",
       "      <td>2011-02-03</td>\n",
       "    </tr>\n",
       "    <tr>\n",
       "      <th>33680</th>\n",
       "      <td>3929</td>\n",
       "      <td>公司</td>\n",
       "      <td>9.1328</td>\n",
       "      <td>工业用地</td>\n",
       "      <td>工业用地</td>\n",
       "      <td>出让国有土地</td>\n",
       "      <td>9.1328</td>\n",
       "      <td>4932.0000</td>\n",
       "      <td>1747.6400</td>\n",
       "      <td>2010-02-09</td>\n",
       "      <td>2011-02-08</td>\n",
       "    </tr>\n",
       "    <tr>\n",
       "      <th>33681</th>\n",
       "      <td>3929</td>\n",
       "      <td>NaN</td>\n",
       "      <td>2.0479</td>\n",
       "      <td>工业用地</td>\n",
       "      <td>工业用地</td>\n",
       "      <td>出让国有土地</td>\n",
       "      <td>2.0479</td>\n",
       "      <td>1535.9130</td>\n",
       "      <td>900.0000</td>\n",
       "      <td>2010-06-02</td>\n",
       "      <td>2011-06-01</td>\n",
       "    </tr>\n",
       "    <tr>\n",
       "      <th>33682</th>\n",
       "      <td>3929</td>\n",
       "      <td>NaN</td>\n",
       "      <td>4.2390</td>\n",
       "      <td>工业用地</td>\n",
       "      <td>工业用地</td>\n",
       "      <td>出让国有土地</td>\n",
       "      <td>4.2390</td>\n",
       "      <td>3142.7098</td>\n",
       "      <td>900.0000</td>\n",
       "      <td>2010-06-21</td>\n",
       "      <td>2011-06-20</td>\n",
       "    </tr>\n",
       "    <tr>\n",
       "      <th>33685</th>\n",
       "      <td>3931</td>\n",
       "      <td>有限公司</td>\n",
       "      <td>8.3695</td>\n",
       "      <td>工业用地</td>\n",
       "      <td>工业用地</td>\n",
       "      <td>国有出让</td>\n",
       "      <td>8.3695</td>\n",
       "      <td>4151.2600</td>\n",
       "      <td>1000.0000</td>\n",
       "      <td>2009-08-27</td>\n",
       "      <td>2011-08-26</td>\n",
       "    </tr>\n",
       "    <tr>\n",
       "      <th>33689</th>\n",
       "      <td>3938</td>\n",
       "      <td>股份制</td>\n",
       "      <td>6.0569</td>\n",
       "      <td>工矿仓储用地</td>\n",
       "      <td>工矿仓储用地</td>\n",
       "      <td>国有土地使用权、出让</td>\n",
       "      <td>6.0569</td>\n",
       "      <td>3375.0985</td>\n",
       "      <td>3375.0985</td>\n",
       "      <td>2009-05-18 13:54:26</td>\n",
       "      <td>2009-05-27 13:54:26</td>\n",
       "    </tr>\n",
       "    <tr>\n",
       "      <th>33700</th>\n",
       "      <td>3956</td>\n",
       "      <td>股份制</td>\n",
       "      <td>1.2400</td>\n",
       "      <td>商务金融用地</td>\n",
       "      <td>商务金融用地</td>\n",
       "      <td>国有 出让</td>\n",
       "      <td>1.8700</td>\n",
       "      <td>1.0500</td>\n",
       "      <td>2.5000</td>\n",
       "      <td>2014-01-22</td>\n",
       "      <td>2022-01-22</td>\n",
       "    </tr>\n",
       "    <tr>\n",
       "      <th>33718</th>\n",
       "      <td>3975</td>\n",
       "      <td>有限公司</td>\n",
       "      <td>8.1791</td>\n",
       "      <td>工业用地</td>\n",
       "      <td>工业用地</td>\n",
       "      <td>国有出让土地</td>\n",
       "      <td>8.1791</td>\n",
       "      <td>1330.9000</td>\n",
       "      <td>773.0000</td>\n",
       "      <td>2010-09-21</td>\n",
       "      <td>2015-12-04</td>\n",
       "    </tr>\n",
       "    <tr>\n",
       "      <th>33719</th>\n",
       "      <td>3975</td>\n",
       "      <td>有限公司</td>\n",
       "      <td>7.1386</td>\n",
       "      <td>工业用地</td>\n",
       "      <td>工业用地</td>\n",
       "      <td>国有出让土地</td>\n",
       "      <td>7.5849</td>\n",
       "      <td>1988.2500</td>\n",
       "      <td>1126.0000</td>\n",
       "      <td>2010-09-21</td>\n",
       "      <td>2015-12-04</td>\n",
       "    </tr>\n",
       "    <tr>\n",
       "      <th>33720</th>\n",
       "      <td>3975</td>\n",
       "      <td>有限公司</td>\n",
       "      <td>15.2120</td>\n",
       "      <td>工业用地</td>\n",
       "      <td>工业用地</td>\n",
       "      <td>国有出让土地</td>\n",
       "      <td>15.2120</td>\n",
       "      <td>3669.9700</td>\n",
       "      <td>2218.0000</td>\n",
       "      <td>2010-09-21</td>\n",
       "      <td>2015-12-04</td>\n",
       "    </tr>\n",
       "    <tr>\n",
       "      <th>33721</th>\n",
       "      <td>3975</td>\n",
       "      <td>有限公司</td>\n",
       "      <td>7.3100</td>\n",
       "      <td>工业用地</td>\n",
       "      <td>工业用地</td>\n",
       "      <td>国有出让土地</td>\n",
       "      <td>7.3100</td>\n",
       "      <td>1785.0300</td>\n",
       "      <td>1066.0000</td>\n",
       "      <td>2010-09-21</td>\n",
       "      <td>2015-12-04</td>\n",
       "    </tr>\n",
       "    <tr>\n",
       "      <th>33733</th>\n",
       "      <td>3989</td>\n",
       "      <td>股份制</td>\n",
       "      <td>2.7500</td>\n",
       "      <td>工矿仓储用地</td>\n",
       "      <td>工矿仓储用地</td>\n",
       "      <td>出让</td>\n",
       "      <td>2.7500</td>\n",
       "      <td>4330.0000</td>\n",
       "      <td>3500.0000</td>\n",
       "      <td>2009-05-06 09:12:55</td>\n",
       "      <td>2010-01-19 09:12:55</td>\n",
       "    </tr>\n",
       "    <tr>\n",
       "      <th>33735</th>\n",
       "      <td>3993</td>\n",
       "      <td>私营</td>\n",
       "      <td>0.6704</td>\n",
       "      <td>工业用地</td>\n",
       "      <td>工业用地</td>\n",
       "      <td>国有出让</td>\n",
       "      <td>0.6704</td>\n",
       "      <td>4197.5000</td>\n",
       "      <td>1100.0000</td>\n",
       "      <td>2009-09-22</td>\n",
       "      <td>2010-07-22</td>\n",
       "    </tr>\n",
       "    <tr>\n",
       "      <th>33736</th>\n",
       "      <td>3993</td>\n",
       "      <td>私营</td>\n",
       "      <td>3.6690</td>\n",
       "      <td>工业用地</td>\n",
       "      <td>工业用地</td>\n",
       "      <td>国有出让</td>\n",
       "      <td>3.6690</td>\n",
       "      <td>7826.0300</td>\n",
       "      <td>5450.0000</td>\n",
       "      <td>2010-04-29</td>\n",
       "      <td>2015-05-04</td>\n",
       "    </tr>\n",
       "    <tr>\n",
       "      <th>33737</th>\n",
       "      <td>3993</td>\n",
       "      <td>股份</td>\n",
       "      <td>3.0183</td>\n",
       "      <td>工业用地</td>\n",
       "      <td>工业用地</td>\n",
       "      <td>国有出让</td>\n",
       "      <td>3.0183</td>\n",
       "      <td>6949.8300</td>\n",
       "      <td>3050.0000</td>\n",
       "      <td>2010-09-15</td>\n",
       "      <td>2015-05-04</td>\n",
       "    </tr>\n",
       "    <tr>\n",
       "      <th>33741</th>\n",
       "      <td>3998</td>\n",
       "      <td>国有</td>\n",
       "      <td>0.6700</td>\n",
       "      <td>采矿用地</td>\n",
       "      <td>采矿用地</td>\n",
       "      <td>出让</td>\n",
       "      <td>0.6700</td>\n",
       "      <td>400.0000</td>\n",
       "      <td>400.0000</td>\n",
       "      <td>2007-09-20</td>\n",
       "      <td>2010-09-20</td>\n",
       "    </tr>\n",
       "  </tbody>\n",
       "</table>\n",
       "<p>25479 rows × 11 columns</p>\n",
       "</div>"
      ],
      "text/plain": [
       "       企业编号  土地抵押人性质  抵押面积(公顷)        土地用途      抵押土地用途 抵押土地权属性质与使用权类型  \\\n",
       "7      1001     有限公司   10.8261        工业用地        工业用地           国有出让   \n",
       "8      1001     有限公司    3.2054        工业用地        工业用地           国有出让   \n",
       "9      1001       企业    6.5283        住宅用地        住宅用地             国有   \n",
       "10     1001      NaN    3.8533  其他普通商品住房用地  其他普通商品住房用地            出让地   \n",
       "11     1001      股份制    3.7990      工矿仓储用地      工矿仓储用地             出让   \n",
       "12     1001      股份制    2.6640        工业用地        工业用地             国有   \n",
       "13     1001     有限公司    2.6911        工业用地        工业用地           国有出让   \n",
       "14     1001     有限公司    1.0826        工业用地        工业用地           国有出让   \n",
       "15     1001      NaN    0.1758        住宅用地        住宅用地            NaN   \n",
       "16     1001      NaN    0.4633        住宅用地        住宅用地            NaN   \n",
       "17     1001      NaN    1.2120      商务金融用地      商务金融用地            NaN   \n",
       "18     1001      NaN    1.2929        商服用地        商服用地            NaN   \n",
       "19     1001     有限公司    3.9700        工业用地        工业用地     国有土地使用权、出让   \n",
       "20     1001       外资    1.2450          05          05             出让   \n",
       "21     1001   有限责任公司    1.5867      工矿仓储用地      工矿仓储用地           国有出让   \n",
       "22     1001      NaN    0.5898      其他商服用地      其他商服用地             国有   \n",
       "23     1001  集体股份合作制    0.3880        商服用地        商服用地           国有出让   \n",
       "24     1001       个人    0.0010        住宅用地        住宅用地     国有土地使用权、划拨   \n",
       "25     1001       个人    0.0009        住宅用地        住宅用地     国有土地使用权、划拨   \n",
       "26     1001    个体工商户    0.0010        住宅用地        住宅用地     国有土地使用权、划拨   \n",
       "27     1001       个人    0.0013        住宅用地        住宅用地     国有土地使用权、划拨   \n",
       "28     1001       个人    0.0071        住宅用地        住宅用地     国有土地使用权、划拨   \n",
       "29     1001       个人    0.0016        住宅用地        住宅用地     国有土地使用权、划拨   \n",
       "30     1001       个人    0.0015        住宅用地        住宅用地     国有土地使用权、划拨   \n",
       "31     1001       个人    0.0005        住宅用地        住宅用地     国有土地使用权、划拨   \n",
       "32     1001       个人    0.0015        住宅用地        住宅用地     国有土地使用权、划拨   \n",
       "33     1001       个人    0.0034        住宅用地        住宅用地     国有土地使用权、划拨   \n",
       "34     1001       个人    0.0012        住宅用地        住宅用地     国有土地使用权、划拨   \n",
       "35     1001       个人    0.0015        住宅用地        住宅用地     国有土地使用权、划拨   \n",
       "36     1001   有限责任公司    0.6753      工矿仓储用地      工矿仓储用地           国有出让   \n",
       "...     ...      ...       ...         ...         ...            ...   \n",
       "33572  3787      股份制    0.5507        工业用地        工业用地             出让   \n",
       "33573  3787   有限责任公司    8.5000        工业用地        工业用地     国有土地使用权、出让   \n",
       "33606  3830       其他    0.0271      其他商服用地      其他商服用地             出让   \n",
       "33609  3834      股份制    2.0969        工业用地        工业用地             出让   \n",
       "33620  3852      股份制    0.0600        商服用地        商服用地          国有 出让   \n",
       "33626  3865      股份制    3.9600        工业用地        工业用地             出让   \n",
       "33631  3878       个人    8.4749         061         061          国有；出让   \n",
       "33645  3899     有限公司    8.2667        工业用地        工业用地             出让   \n",
       "33648  3909   有限责任公司    2.7600        工业用地        工业用地          国有 出让   \n",
       "33649  3909   有限责任公司    0.5300        工业用地        工业用地          国有 出让   \n",
       "33656  3914      NaN   13.6843      工矿仓储用地      工矿仓储用地             出让   \n",
       "33675  3929       公司    2.0479        工业用地        工业用地             国有   \n",
       "33676  3929       公司    1.6875        工业用地        工业用地         出让国有土地   \n",
       "33677  3929       公司    2.6408        工业用地        工业用地         出让国有土地   \n",
       "33679  3929       公司    2.6520        工业用地        工业用地         国有建设用地   \n",
       "33680  3929       公司    9.1328        工业用地        工业用地         出让国有土地   \n",
       "33681  3929      NaN    2.0479        工业用地        工业用地         出让国有土地   \n",
       "33682  3929      NaN    4.2390        工业用地        工业用地         出让国有土地   \n",
       "33685  3931     有限公司    8.3695        工业用地        工业用地           国有出让   \n",
       "33689  3938      股份制    6.0569      工矿仓储用地      工矿仓储用地     国有土地使用权、出让   \n",
       "33700  3956      股份制    1.2400      商务金融用地      商务金融用地          国有 出让   \n",
       "33718  3975     有限公司    8.1791        工业用地        工业用地         国有出让土地   \n",
       "33719  3975     有限公司    7.1386        工业用地        工业用地         国有出让土地   \n",
       "33720  3975     有限公司   15.2120        工业用地        工业用地         国有出让土地   \n",
       "33721  3975     有限公司    7.3100        工业用地        工业用地         国有出让土地   \n",
       "33733  3989      股份制    2.7500      工矿仓储用地      工矿仓储用地             出让   \n",
       "33735  3993       私营    0.6704        工业用地        工业用地           国有出让   \n",
       "33736  3993       私营    3.6690        工业用地        工业用地           国有出让   \n",
       "33737  3993       股份    3.0183        工业用地        工业用地           国有出让   \n",
       "33741  3998       国有    0.6700        采矿用地        采矿用地             出让   \n",
       "\n",
       "          土地面积     评估金额(万元)    抵押金额(万元)           土地抵押登记起始时间  \\\n",
       "7      10.8261    2921.0000   1200.0000  2007-06-25 14:39:37   \n",
       "8       3.2054     847.6500    400.0000  2007-08-17 14:48:15   \n",
       "9       6.5283    9990.9100   4995.4550  2008-01-11 20:26:58   \n",
       "10      3.8533   19386.0000   2516.0000  2008-04-03 11:14:03   \n",
       "11      3.7990   11049.0000   8850.0000  2008-04-25 09:35:17   \n",
       "12      2.6640     858.6100    429.3500  2008-07-24 16:54:48   \n",
       "13      2.6911    2871.0000   1000.0000  2008-07-28 15:16:34   \n",
       "14      1.0826    3172.0000   1500.0000  2008-07-29 15:17:11   \n",
       "15      0.1758     282.0000    160.0000  2008-09-16 08:36:26   \n",
       "16      0.4633     744.0000    410.0000  2008-09-16 10:45:23   \n",
       "17      1.2120    1945.0000   1080.0000  2008-09-16 15:38:18   \n",
       "18      1.2929    2075.0000   1150.0000  2008-09-16 17:05:48   \n",
       "19      3.9700     587.0400    400.0000  2008-09-27 10:44:13   \n",
       "20      1.2450  260498.6500  90000.0000           2008-10-23   \n",
       "21      1.5867     476.0100    230.0000  2008-11-04 14:46:20   \n",
       "22      0.5898    1291.3793    600.0000  2008-11-10 08:34:43   \n",
       "23      0.3880     351.7104    100.0000  2008-11-26 17:32:04   \n",
       "24      0.0010      26.2900     13.0000  2008-11-27 17:04:01   \n",
       "25      0.0009      25.7400     10.0000  2008-12-01 17:20:12   \n",
       "26      0.0010      33.5200     15.0000  2008-12-04 14:02:08   \n",
       "27      0.0013      50.4800     30.0000  2008-12-10 12:45:19   \n",
       "28      0.0071     438.9300    219.0000  2008-12-10 17:02:50   \n",
       "29      0.0016      64.5000     32.0000  2008-12-11 15:52:19   \n",
       "30      0.0015      50.2700     30.0000  2008-12-16 15:24:50   \n",
       "31      0.0005      48.6100     19.0000  2008-12-17 15:07:47   \n",
       "32      0.0015      56.1200     28.0000  2008-12-18 15:18:42   \n",
       "33      0.0034     201.9300    100.0000  2008-12-19 15:10:27   \n",
       "34      0.0012      25.1600      5.0000  2008-12-20 15:11:38   \n",
       "35      0.0015      50.3700     30.0000  2008-12-22 12:46:50   \n",
       "36      0.6753     451.0000    220.0000  2008-12-23 14:41:06   \n",
       "...        ...          ...         ...                  ...   \n",
       "33572   0.5507     155.3000     74.0000           2011-04-19   \n",
       "33573   8.5000    1462.0000    730.0000           2011-10-11   \n",
       "33606   0.0271    1000.0000   1000.0000  2008-12-08 13:49:25   \n",
       "33609   2.0969    1040.6000    574.2000           2012-07-17   \n",
       "33620   2.1100       0.7500      0.5400           2012-10-15   \n",
       "33626   3.9600    3352.1000   1500.0000           2010-04-09   \n",
       "33631   8.4749    4858.6619   1500.0000           2010-03-17   \n",
       "33645   8.2667    1432.0000   1000.0000           2010-04-01   \n",
       "33648   2.7600    4132.9900   2450.0000           2009-09-28   \n",
       "33649   0.5300     759.7300    350.0000           2010-03-31   \n",
       "33656  13.6843    2734.3695   2520.0000           2009-12-09   \n",
       "33675   2.0479    1509.0660    750.0000           2009-12-03   \n",
       "33676   1.6875    1231.8509    615.9300           2009-12-09   \n",
       "33677   2.6408    1927.7840    963.8920           2009-12-09   \n",
       "33679   2.6520     575.4840    279.0000           2010-02-04   \n",
       "33680   9.1328    4932.0000   1747.6400           2010-02-09   \n",
       "33681   2.0479    1535.9130    900.0000           2010-06-02   \n",
       "33682   4.2390    3142.7098    900.0000           2010-06-21   \n",
       "33685   8.3695    4151.2600   1000.0000           2009-08-27   \n",
       "33689   6.0569    3375.0985   3375.0985  2009-05-18 13:54:26   \n",
       "33700   1.8700       1.0500      2.5000           2014-01-22   \n",
       "33718   8.1791    1330.9000    773.0000           2010-09-21   \n",
       "33719   7.5849    1988.2500   1126.0000           2010-09-21   \n",
       "33720  15.2120    3669.9700   2218.0000           2010-09-21   \n",
       "33721   7.3100    1785.0300   1066.0000           2010-09-21   \n",
       "33733   2.7500    4330.0000   3500.0000  2009-05-06 09:12:55   \n",
       "33735   0.6704    4197.5000   1100.0000           2009-09-22   \n",
       "33736   3.6690    7826.0300   5450.0000           2010-04-29   \n",
       "33737   3.0183    6949.8300   3050.0000           2010-09-15   \n",
       "33741   0.6700     400.0000    400.0000           2007-09-20   \n",
       "\n",
       "                土地抵押登记结束时间  \n",
       "7      2008-06-25 14:39:37  \n",
       "8      2009-04-23 14:48:15  \n",
       "9      2011-12-11 20:26:58  \n",
       "10     2010-10-26 11:14:03  \n",
       "11     2009-09-30 09:35:17  \n",
       "12     2011-07-24 16:54:48  \n",
       "13     2010-07-29 15:16:34  \n",
       "14     2010-07-29 15:17:11  \n",
       "15     2011-09-16 08:36:26  \n",
       "16     2011-09-16 10:45:23  \n",
       "17     2011-09-16 15:38:18  \n",
       "18     2011-09-16 17:05:48  \n",
       "19     2009-09-26 10:44:13  \n",
       "20              2018-10-21  \n",
       "21     2011-11-03 14:46:20  \n",
       "22     2009-11-10 08:34:43  \n",
       "23     2011-11-25 17:32:04  \n",
       "24     2013-11-27 17:04:01  \n",
       "25     2013-12-01 17:20:12  \n",
       "26     2013-12-04 14:02:08  \n",
       "27     2018-12-10 12:45:19  \n",
       "28     2018-12-10 17:02:50  \n",
       "29     2018-12-11 15:52:19  \n",
       "30     2018-12-26 15:24:50  \n",
       "31     2013-12-17 15:07:47  \n",
       "32     2016-12-18 15:18:42  \n",
       "33     2009-12-19 15:10:27  \n",
       "34     2011-12-20 15:11:38  \n",
       "35     2016-12-22 12:46:50  \n",
       "36     2009-12-23 14:41:06  \n",
       "...                    ...  \n",
       "33572           2012-04-18  \n",
       "33573           2013-10-09  \n",
       "33606  2009-12-08 13:49:25  \n",
       "33609           2013-06-25  \n",
       "33620           2015-10-14  \n",
       "33626           2011-04-08  \n",
       "33631           2011-03-08  \n",
       "33645           2013-04-01  \n",
       "33648           2012-09-27  \n",
       "33649           2013-03-30  \n",
       "33656           2012-12-09  \n",
       "33675           2010-04-02  \n",
       "33676           2010-12-08  \n",
       "33677           2010-12-08  \n",
       "33679           2011-02-03  \n",
       "33680           2011-02-08  \n",
       "33681           2011-06-01  \n",
       "33682           2011-06-20  \n",
       "33685           2011-08-26  \n",
       "33689  2009-05-27 13:54:26  \n",
       "33700           2022-01-22  \n",
       "33718           2015-12-04  \n",
       "33719           2015-12-04  \n",
       "33720           2015-12-04  \n",
       "33721           2015-12-04  \n",
       "33733  2010-01-19 09:12:55  \n",
       "33735           2010-07-22  \n",
       "33736           2015-05-04  \n",
       "33737           2015-05-04  \n",
       "33741           2010-09-20  \n",
       "\n",
       "[25479 rows x 11 columns]"
      ]
     },
     "execution_count": 204,
     "metadata": {},
     "output_type": "execute_result"
    }
   ],
   "source": [
    "merge_goudi.info()\n",
    "# df_goudi5_bkp['企业编号'].value_counts()\n",
    "df_goudi5_bkp.loc[(df_goudi5_bkp['评估金额(万元)'].notnull())]"
   ]
  },
  {
   "cell_type": "code",
   "execution_count": 205,
   "metadata": {
    "ExecuteTime": {
     "end_time": "2019-03-30T14:53:51.344014Z",
     "start_time": "2019-03-30T14:53:51.320033Z"
    }
   },
   "outputs": [],
   "source": [
    "res['企业购地'] = merge_goudi"
   ]
  },
  {
   "cell_type": "markdown",
   "metadata": {},
   "source": [
    "# 年报-对外投资信息"
   ]
  },
  {
   "cell_type": "code",
   "execution_count": 206,
   "metadata": {
    "ExecuteTime": {
     "end_time": "2019-03-30T14:53:56.146453Z",
     "start_time": "2019-03-30T14:53:51.346205Z"
    }
   },
   "outputs": [
    {
     "name": "stdout",
     "output_type": "stream",
     "text": [
      "<class 'pandas.core.frame.DataFrame'>\n",
      "RangeIndex: 93369 entries, 0 to 93368\n",
      "Data columns (total 4 columns):\n",
      "企业编号    93369 non-null int64\n",
      "投资金额    1456 non-null float64\n",
      "投资占比    1456 non-null float64\n",
      "年报年份    93367 non-null float64\n",
      "dtypes: float64(3), int64(1)\n",
      "memory usage: 2.8 MB\n"
     ]
    }
   ],
   "source": [
    "df_nianbao_touzi_bkp = pd.read_excel(data_path+r'年报-对外投资信息.xlsx')\n",
    "df_nianbao_touzi = df_nianbao_touzi_bkp.copy()\n",
    "df_nianbao_touzi.info()"
   ]
  },
  {
   "cell_type": "code",
   "execution_count": 207,
   "metadata": {
    "ExecuteTime": {
     "end_time": "2019-03-30T14:53:56.183213Z",
     "start_time": "2019-03-30T14:53:56.148918Z"
    }
   },
   "outputs": [
    {
     "data": {
      "text/html": [
       "<div>\n",
       "<style scoped>\n",
       "    .dataframe tbody tr th:only-of-type {\n",
       "        vertical-align: middle;\n",
       "    }\n",
       "\n",
       "    .dataframe tbody tr th {\n",
       "        vertical-align: top;\n",
       "    }\n",
       "\n",
       "    .dataframe thead th {\n",
       "        text-align: right;\n",
       "    }\n",
       "</style>\n",
       "<table border=\"1\" class=\"dataframe\">\n",
       "  <thead>\n",
       "    <tr style=\"text-align: right;\">\n",
       "      <th></th>\n",
       "      <th>投资金额_sum</th>\n",
       "      <th>投资金额_min</th>\n",
       "      <th>投资金额_max</th>\n",
       "      <th>投资次数</th>\n",
       "      <th>企业编号</th>\n",
       "    </tr>\n",
       "    <tr>\n",
       "      <th>企业编号</th>\n",
       "      <th></th>\n",
       "      <th></th>\n",
       "      <th></th>\n",
       "      <th></th>\n",
       "      <th></th>\n",
       "    </tr>\n",
       "  </thead>\n",
       "  <tbody>\n",
       "    <tr>\n",
       "      <th>1028</th>\n",
       "      <td>3703345.70</td>\n",
       "      <td>11600.0</td>\n",
       "      <td>3208193.70</td>\n",
       "      <td>7</td>\n",
       "      <td>1028</td>\n",
       "    </tr>\n",
       "    <tr>\n",
       "      <th>1134</th>\n",
       "      <td>170384.71</td>\n",
       "      <td>3.0</td>\n",
       "      <td>25505.71</td>\n",
       "      <td>56</td>\n",
       "      <td>1134</td>\n",
       "    </tr>\n",
       "  </tbody>\n",
       "</table>\n",
       "</div>"
      ],
      "text/plain": [
       "        投资金额_sum  投资金额_min    投资金额_max  投资次数  企业编号\n",
       "企业编号                                              \n",
       "1028  3703345.70   11600.0  3208193.70     7  1028\n",
       "1134   170384.71       3.0    25505.71    56  1134"
      ]
     },
     "execution_count": 207,
     "metadata": {},
     "output_type": "execute_result"
    }
   ],
   "source": [
    "df_nianbao_touzi_clean = df_nianbao_touzi.loc[(\n",
    "    df_nianbao_touzi['投资金额'].notnull())]\n",
    "\n",
    "agg_func = {\n",
    "    '投资金额': ['sum', 'min', 'max'],\n",
    "    '企业编号': ['count']\n",
    "}\n",
    "df_nianbao_touzi_group = df_nianbao_touzi_clean.groupby(\n",
    "    ['企业编号']).agg(agg_func)\n",
    "df_nianbao_touzi_group.columns = [\n",
    "    '_'.join(col).strip() for col in df_nianbao_touzi_group.columns.values]\n",
    "df_nianbao_touzi_group['企业编号'] = df_nianbao_touzi_group.index\n",
    "df_nianbao_touzi_group.rename(columns={'企业编号_count': '投资次数'}, inplace=True)\n",
    "df_nianbao_touzi_group.head(n=2)"
   ]
  },
  {
   "cell_type": "code",
   "execution_count": 208,
   "metadata": {
    "ExecuteTime": {
     "end_time": "2019-03-30T14:53:56.514480Z",
     "start_time": "2019-03-30T14:53:56.185202Z"
    }
   },
   "outputs": [],
   "source": [
    "res['年报-对外投资信息'] = df_nianbao_touzi_group"
   ]
  },
  {
   "cell_type": "markdown",
   "metadata": {},
   "source": [
    "# 年报-股东股权转让"
   ]
  },
  {
   "cell_type": "code",
   "execution_count": 209,
   "metadata": {
    "ExecuteTime": {
     "end_time": "2019-03-30T14:53:57.142806Z",
     "start_time": "2019-03-30T14:53:56.519292Z"
    }
   },
   "outputs": [],
   "source": [
    "df_nianbao_gudongguquanzhuanrang_bkp = pd.read_excel(\n",
    "    data_path+r'年报-股东股权转让.xlsx')"
   ]
  },
  {
   "cell_type": "code",
   "execution_count": 210,
   "metadata": {
    "ExecuteTime": {
     "end_time": "2019-03-30T14:53:57.161660Z",
     "start_time": "2019-03-30T14:53:57.145462Z"
    }
   },
   "outputs": [
    {
     "name": "stdout",
     "output_type": "stream",
     "text": [
      "<class 'pandas.core.frame.DataFrame'>\n",
      "RangeIndex: 6855 entries, 0 to 6854\n",
      "Data columns (total 5 columns):\n",
      "企业编号       6855 non-null int64\n",
      "变更前股权比例    5010 non-null object\n",
      "变更后股权比例    5015 non-null object\n",
      "股权变更日期     5022 non-null object\n",
      "年报年份       6849 non-null float64\n",
      "dtypes: float64(1), int64(1), object(3)\n",
      "memory usage: 267.9+ KB\n"
     ]
    }
   ],
   "source": [
    "df_nianbao_gudongguquanzhuanrang = df_nianbao_gudongguquanzhuanrang_bkp.copy()\n",
    "df_nianbao_gudongguquanzhuanrang.info()"
   ]
  },
  {
   "cell_type": "code",
   "execution_count": 211,
   "metadata": {
    "ExecuteTime": {
     "end_time": "2019-03-30T14:53:58.029301Z",
     "start_time": "2019-03-30T14:53:57.164094Z"
    }
   },
   "outputs": [
    {
     "data": {
      "text/html": [
       "<div>\n",
       "<style scoped>\n",
       "    .dataframe tbody tr th:only-of-type {\n",
       "        vertical-align: middle;\n",
       "    }\n",
       "\n",
       "    .dataframe tbody tr th {\n",
       "        vertical-align: top;\n",
       "    }\n",
       "\n",
       "    .dataframe thead th {\n",
       "        text-align: right;\n",
       "    }\n",
       "</style>\n",
       "<table border=\"1\" class=\"dataframe\">\n",
       "  <thead>\n",
       "    <tr style=\"text-align: right;\">\n",
       "      <th></th>\n",
       "      <th>变更股权比例差_sum</th>\n",
       "      <th>变更股权比例差_max</th>\n",
       "      <th>变更股权比例差_min</th>\n",
       "      <th>变更前股权比例_sum</th>\n",
       "      <th>变更后股权比例_sum</th>\n",
       "      <th>变更次数</th>\n",
       "      <th>企业编号</th>\n",
       "    </tr>\n",
       "    <tr>\n",
       "      <th>企业编号</th>\n",
       "      <th></th>\n",
       "      <th></th>\n",
       "      <th></th>\n",
       "      <th></th>\n",
       "      <th></th>\n",
       "      <th></th>\n",
       "      <th></th>\n",
       "    </tr>\n",
       "  </thead>\n",
       "  <tbody>\n",
       "    <tr>\n",
       "      <th>1001</th>\n",
       "      <td>5.24</td>\n",
       "      <td>2.60</td>\n",
       "      <td>-0.80</td>\n",
       "      <td>90.35</td>\n",
       "      <td>95.59</td>\n",
       "      <td>11</td>\n",
       "      <td>1001</td>\n",
       "    </tr>\n",
       "    <tr>\n",
       "      <th>1002</th>\n",
       "      <td>-10.91</td>\n",
       "      <td>-10.91</td>\n",
       "      <td>-10.91</td>\n",
       "      <td>61.96</td>\n",
       "      <td>51.05</td>\n",
       "      <td>1</td>\n",
       "      <td>1002</td>\n",
       "    </tr>\n",
       "    <tr>\n",
       "      <th>1013</th>\n",
       "      <td>-13.89</td>\n",
       "      <td>1.11</td>\n",
       "      <td>-15.00</td>\n",
       "      <td>43.90</td>\n",
       "      <td>30.01</td>\n",
       "      <td>2</td>\n",
       "      <td>1013</td>\n",
       "    </tr>\n",
       "  </tbody>\n",
       "</table>\n",
       "</div>"
      ],
      "text/plain": [
       "      变更股权比例差_sum  变更股权比例差_max  变更股权比例差_min  变更前股权比例_sum  变更后股权比例_sum  变更次数  \\\n",
       "企业编号                                                                          \n",
       "1001         5.24         2.60        -0.80        90.35        95.59    11   \n",
       "1002       -10.91       -10.91       -10.91        61.96        51.05     1   \n",
       "1013       -13.89         1.11       -15.00        43.90        30.01     2   \n",
       "\n",
       "      企业编号  \n",
       "企业编号        \n",
       "1001  1001  \n",
       "1002  1002  \n",
       "1013  1013  "
      ]
     },
     "execution_count": 211,
     "metadata": {},
     "output_type": "execute_result"
    }
   ],
   "source": [
    "df_nianbao_gudongguquanzhuanrang['变更前股权比例'] = df_nianbao_gudongguquanzhuanrang['变更前股权比例'].str.rstrip(\n",
    "    '%').astype(float)\n",
    "df_nianbao_gudongguquanzhuanrang_clean = df_nianbao_gudongguquanzhuanrang.loc[(\n",
    "    df_nianbao_gudongguquanzhuanrang['变更后股权比例'].notnull())]\n",
    "df_nianbao_gudongguquanzhuanrang_clean['变更后股权比例'] = df_nianbao_gudongguquanzhuanrang_clean[~df_nianbao_gudongguquanzhuanrang_clean[\"变更后股权比例\"].str.contains(\n",
    "    '-')]['变更后股权比例'].str.rstrip('%').astype(float)\n",
    "\n",
    "df_nianbao_gudongguquanzhuanrang_clean['变更股权比例差'] = df_nianbao_gudongguquanzhuanrang_clean['变更后股权比例'] - \\\n",
    "    df_nianbao_gudongguquanzhuanrang_clean['变更前股权比例']\n",
    "# df_nianbao_gudongguquanzhuanrang_clean.head(n=3)\n",
    "agg_func = {\n",
    "    '变更股权比例差': ['sum', 'max', 'min'],\n",
    "    '变更前股权比例': ['sum'],\n",
    "    '变更后股权比例': ['sum'],\n",
    "    '企业编号': ['count']\n",
    "}\n",
    "df_nianbao_gudongguquanzhuanrang_clean_new = df_nianbao_gudongguquanzhuanrang_clean.groupby([\n",
    "                                                                                            '企业编号']).agg(agg_func)\n",
    "df_nianbao_gudongguquanzhuanrang_clean_new.columns = [\n",
    "    '_'.join(col) for col in df_nianbao_gudongguquanzhuanrang_clean_new.columns.values]\n",
    "df_nianbao_gudongguquanzhuanrang_clean_new.columns = [\n",
    "    '变更股权比例差_sum', '变更股权比例差_max', '变更股权比例差_min', '变更前股权比例_sum', '变更后股权比例_sum', '变更次数']\n",
    "df_nianbao_gudongguquanzhuanrang_clean_new['企业编号'] = df_nianbao_gudongguquanzhuanrang_clean_new.index\n",
    "df_nianbao_gudongguquanzhuanrang_clean_new.head(n=3)"
   ]
  },
  {
   "cell_type": "code",
   "execution_count": 212,
   "metadata": {
    "ExecuteTime": {
     "end_time": "2019-03-30T14:53:58.034635Z",
     "start_time": "2019-03-30T14:53:58.031489Z"
    }
   },
   "outputs": [],
   "source": [
    "res['年报-股东股权转让'] = df_nianbao_gudongguquanzhuanrang_clean_new"
   ]
  },
  {
   "cell_type": "markdown",
   "metadata": {},
   "source": [
    "# 工商基本信息表"
   ]
  },
  {
   "cell_type": "code",
   "execution_count": 213,
   "metadata": {
    "ExecuteTime": {
     "end_time": "2019-03-30T14:53:58.919214Z",
     "start_time": "2019-03-30T14:53:58.036723Z"
    }
   },
   "outputs": [],
   "source": [
    "df_gongshangxinxi_bkp = pd.read_excel(data_path+r'工商基本信息表.xlsx')"
   ]
  },
  {
   "cell_type": "code",
   "execution_count": 214,
   "metadata": {
    "ExecuteTime": {
     "end_time": "2019-03-30T14:53:58.944745Z",
     "start_time": "2019-03-30T14:53:58.921618Z"
    }
   },
   "outputs": [
    {
     "name": "stdout",
     "output_type": "stream",
     "text": [
      "<class 'pandas.core.frame.DataFrame'>\n",
      "RangeIndex: 3000 entries, 0 to 2999\n",
      "Data columns (total 19 columns):\n",
      "企业编号          3000 non-null int64\n",
      "注册资本（万元）      3000 non-null float64\n",
      "注册资本币种(正则)    3000 non-null object\n",
      "成立日期          3000 non-null object\n",
      "经营状态          3000 non-null object\n",
      "行业大类（代码）      2999 non-null object\n",
      "行业小类（代码）      2999 non-null object\n",
      "类型            3000 non-null object\n",
      "省份代码          3000 non-null int64\n",
      "城市代码          3000 non-null int64\n",
      "地区代码          3000 non-null int64\n",
      "是否上市          3000 non-null object\n",
      "经营期限自         2987 non-null object\n",
      "经营期限至         521 non-null object\n",
      "登记机关区域代码      2992 non-null float64\n",
      "发照日期          2979 non-null object\n",
      "员工人数          2986 non-null float64\n",
      "注销原因          227 non-null object\n",
      "注销时间          1 non-null object\n",
      "dtypes: float64(3), int64(4), object(12)\n",
      "memory usage: 445.4+ KB\n"
     ]
    }
   ],
   "source": [
    "df_gongshangxinxi = df_gongshangxinxi_bkp.copy()\n",
    "df_gongshangxinxi.info()"
   ]
  },
  {
   "cell_type": "code",
   "execution_count": 215,
   "metadata": {
    "ExecuteTime": {
     "end_time": "2019-03-30T14:53:59.034025Z",
     "start_time": "2019-03-30T14:53:58.948543Z"
    }
   },
   "outputs": [
    {
     "data": {
      "text/plain": [
       "存续（在营、开业、在册）    1762\n",
       "在营（开业）企业         401\n",
       "存续               362\n",
       "开业               343\n",
       "在业                63\n",
       "存续(在营、开业、在册)      48\n",
       "迁出                21\n",
       "Name: 经营状态, dtype: int64"
      ]
     },
     "execution_count": 215,
     "metadata": {},
     "output_type": "execute_result"
    }
   ],
   "source": [
    "df_gongshangxinxi['经营状态'].value_counts()"
   ]
  },
  {
   "cell_type": "code",
   "execution_count": 216,
   "metadata": {
    "ExecuteTime": {
     "end_time": "2019-03-30T14:53:59.126101Z",
     "start_time": "2019-03-30T14:53:59.036473Z"
    }
   },
   "outputs": [
    {
     "data": {
      "text/plain": [
       "开业              2569\n",
       "存续               362\n",
       "存续(在营、开业、在册)      48\n",
       "迁出                21\n",
       "Name: 经营状态, dtype: int64"
      ]
     },
     "execution_count": 216,
     "metadata": {},
     "output_type": "execute_result"
    }
   ],
   "source": [
    "df_gongshangxinxi['经营状态'] = df_gongshangxinxi['经营状态'].str.replace(\n",
    "    '存续（在营、开业、在册）', '开业')\n",
    "df_gongshangxinxi['经营状态'] = df_gongshangxinxi['经营状态'].str.replace(\n",
    "    '在业', '开业')\n",
    "df_gongshangxinxi['经营状态'] = df_gongshangxinxi['经营状态'].str.replace(\n",
    "    '在营（开业）企业', '开业')\n",
    "df_gongshangxinxi['经营状态'].value_counts()"
   ]
  },
  {
   "cell_type": "code",
   "execution_count": 217,
   "metadata": {
    "ExecuteTime": {
     "end_time": "2019-03-30T14:53:59.236140Z",
     "start_time": "2019-03-30T14:53:59.128140Z"
    }
   },
   "outputs": [],
   "source": [
    "zhuangtai = df_gongshangxinxi.groupby(['企业编号', '经营状态'])[\n",
    "    '经营状态'].count().unstack().fillna(0).astype(int)\n",
    "zhuangtai['企业编号'] = zhuangtai.index\n",
    "zhuangtai['开业'] = zhuangtai['存续']+zhuangtai['存续(在营、开业、在册)']+zhuangtai['开业']\n",
    "zhuangtai = pd.DataFrame(\n",
    "    {'企业编号': zhuangtai['企业编号'], '经营状态_开业': zhuangtai['开业'], '经营状态_迁出': zhuangtai['迁出']})\n",
    "res['经营状态'] = zhuangtai"
   ]
  },
  {
   "cell_type": "code",
   "execution_count": 218,
   "metadata": {
    "ExecuteTime": {
     "end_time": "2019-03-30T14:53:59.330597Z",
     "start_time": "2019-03-30T14:53:59.238672Z"
    }
   },
   "outputs": [],
   "source": [
    "df_hangye = df_gongshangxinxi.groupby(['企业编号', '行业大类（代码）'])[\n",
    "    '行业大类（代码）'].count().unstack().fillna(0).astype(int)\n",
    "df_hangye.columns = ['行业大类_'+col for col in df_hangye.columns.values]\n",
    "df_hangye['企业编号'] = df_hangye.index\n",
    "res['行业大类'] = df_hangye"
   ]
  },
  {
   "cell_type": "code",
   "execution_count": 219,
   "metadata": {
    "ExecuteTime": {
     "end_time": "2019-03-30T14:53:59.430359Z",
     "start_time": "2019-03-30T14:53:59.332454Z"
    }
   },
   "outputs": [],
   "source": [
    "df_gongshangxinxi['是否上市'] = df_gongshangxinxi['是否上市'].str.replace('Y', '1')\n",
    "df_gongshangxinxi['是否上市'] = df_gongshangxinxi['是否上市'].str.replace('N', '0')\n",
    "df_gongshangxinxi['是否上市'] = df_gongshangxinxi['是否上市'].astype(int)"
   ]
  },
  {
   "cell_type": "code",
   "execution_count": 220,
   "metadata": {
    "ExecuteTime": {
     "end_time": "2019-03-30T14:53:59.563015Z",
     "start_time": "2019-03-30T14:53:59.432333Z"
    }
   },
   "outputs": [
    {
     "data": {
      "text/html": [
       "<div>\n",
       "<style scoped>\n",
       "    .dataframe tbody tr th:only-of-type {\n",
       "        vertical-align: middle;\n",
       "    }\n",
       "\n",
       "    .dataframe tbody tr th {\n",
       "        vertical-align: top;\n",
       "    }\n",
       "\n",
       "    .dataframe thead th {\n",
       "        text-align: right;\n",
       "    }\n",
       "</style>\n",
       "<table border=\"1\" class=\"dataframe\">\n",
       "  <thead>\n",
       "    <tr style=\"text-align: right;\">\n",
       "      <th></th>\n",
       "      <th>企业编号</th>\n",
       "      <th>注册资本（万元）</th>\n",
       "      <th>注册资本币种(正则)</th>\n",
       "      <th>成立日期</th>\n",
       "      <th>经营状态</th>\n",
       "      <th>行业大类（代码）</th>\n",
       "      <th>行业小类（代码）</th>\n",
       "      <th>类型</th>\n",
       "      <th>省份代码</th>\n",
       "      <th>城市代码</th>\n",
       "      <th>地区代码</th>\n",
       "      <th>是否上市</th>\n",
       "      <th>经营期限自</th>\n",
       "      <th>经营期限至</th>\n",
       "      <th>登记机关区域代码</th>\n",
       "      <th>发照日期</th>\n",
       "      <th>员工人数</th>\n",
       "      <th>注销原因</th>\n",
       "      <th>注销时间</th>\n",
       "    </tr>\n",
       "  </thead>\n",
       "  <tbody>\n",
       "    <tr>\n",
       "      <th>1309</th>\n",
       "      <td>2310</td>\n",
       "      <td>17.429525</td>\n",
       "      <td>美元</td>\n",
       "      <td>2000-05-15</td>\n",
       "      <td>开业</td>\n",
       "      <td>C</td>\n",
       "      <td>29</td>\n",
       "      <td>外企</td>\n",
       "      <td>44</td>\n",
       "      <td>4406</td>\n",
       "      <td>440600</td>\n",
       "      <td>1</td>\n",
       "      <td>2000-05-15</td>\n",
       "      <td>2015-05-14</td>\n",
       "      <td>440600.0</td>\n",
       "      <td>2008-05-19</td>\n",
       "      <td>14.0</td>\n",
       "      <td>NaN</td>\n",
       "      <td>NaN</td>\n",
       "    </tr>\n",
       "  </tbody>\n",
       "</table>\n",
       "</div>"
      ],
      "text/plain": [
       "      企业编号   注册资本（万元） 注册资本币种(正则)        成立日期 经营状态 行业大类（代码） 行业小类（代码）  类型  省份代码  \\\n",
       "1309  2310  17.429525         美元  2000-05-15   开业        C       29  外企    44   \n",
       "\n",
       "      城市代码    地区代码  是否上市       经营期限自       经营期限至  登记机关区域代码        发照日期  员工人数  \\\n",
       "1309  4406  440600     1  2000-05-15  2015-05-14  440600.0  2008-05-19  14.0   \n",
       "\n",
       "     注销原因 注销时间  \n",
       "1309  NaN  NaN  "
      ]
     },
     "execution_count": 220,
     "metadata": {},
     "output_type": "execute_result"
    }
   ],
   "source": [
    "df_gongshangxinxi.loc[df_gongshangxinxi['注册资本币种(正则)'] == '美元', [\n",
    "    '注册资本（万元）']] = df_gongshangxinxi.loc[df_gongshangxinxi['注册资本币种(正则)'] == '美元', ['注册资本（万元）']]*8.2777\n",
    "df_gongshangxinxi.loc[df_gongshangxinxi['注册资本币种(正则)'] == '美元']"
   ]
  },
  {
   "cell_type": "code",
   "execution_count": 221,
   "metadata": {
    "ExecuteTime": {
     "end_time": "2019-03-30T14:53:59.646937Z",
     "start_time": "2019-03-30T14:53:59.565013Z"
    }
   },
   "outputs": [],
   "source": [
    "temp = pd.DataFrame({'企业编号': df_gongshangxinxi['企业编号'],\n",
    "                     '注册资本（万元）': df_gongshangxinxi['注册资本（万元）'],\n",
    "                     '是否上市': df_gongshangxinxi['是否上市']})\n",
    "res['merge_注册资本_是否上市'] = temp"
   ]
  },
  {
   "cell_type": "code",
   "execution_count": 222,
   "metadata": {
    "ExecuteTime": {
     "end_time": "2019-03-30T14:53:59.758712Z",
     "start_time": "2019-03-30T14:53:59.650505Z"
    }
   },
   "outputs": [
    {
     "data": {
      "text/html": [
       "<div>\n",
       "<style scoped>\n",
       "    .dataframe tbody tr th:only-of-type {\n",
       "        vertical-align: middle;\n",
       "    }\n",
       "\n",
       "    .dataframe tbody tr th {\n",
       "        vertical-align: top;\n",
       "    }\n",
       "\n",
       "    .dataframe thead th {\n",
       "        text-align: right;\n",
       "    }\n",
       "</style>\n",
       "<table border=\"1\" class=\"dataframe\">\n",
       "  <thead>\n",
       "    <tr style=\"text-align: right;\">\n",
       "      <th></th>\n",
       "      <th>企业编号</th>\n",
       "      <th>注册资本（万元）</th>\n",
       "      <th>注册资本币种(正则)</th>\n",
       "      <th>成立日期</th>\n",
       "      <th>经营状态</th>\n",
       "      <th>行业大类（代码）</th>\n",
       "      <th>行业小类（代码）</th>\n",
       "      <th>类型</th>\n",
       "      <th>省份代码</th>\n",
       "      <th>城市代码</th>\n",
       "      <th>地区代码</th>\n",
       "      <th>是否上市</th>\n",
       "      <th>经营期限自</th>\n",
       "      <th>经营期限至</th>\n",
       "      <th>登记机关区域代码</th>\n",
       "      <th>发照日期</th>\n",
       "      <th>员工人数</th>\n",
       "      <th>注销原因</th>\n",
       "      <th>注销时间</th>\n",
       "      <th>成立年数</th>\n",
       "    </tr>\n",
       "  </thead>\n",
       "  <tbody>\n",
       "    <tr>\n",
       "      <th>0</th>\n",
       "      <td>1001</td>\n",
       "      <td>746.138857</td>\n",
       "      <td>人民币</td>\n",
       "      <td>1992-10-19</td>\n",
       "      <td>开业</td>\n",
       "      <td>J</td>\n",
       "      <td>66</td>\n",
       "      <td>民营</td>\n",
       "      <td>31</td>\n",
       "      <td>3100</td>\n",
       "      <td>310000</td>\n",
       "      <td>1</td>\n",
       "      <td>1992-10-19</td>\n",
       "      <td>NaN</td>\n",
       "      <td>310100.0</td>\n",
       "      <td>1992-10-19</td>\n",
       "      <td>19.0</td>\n",
       "      <td>NaN</td>\n",
       "      <td>NaN</td>\n",
       "      <td>26</td>\n",
       "    </tr>\n",
       "    <tr>\n",
       "      <th>1</th>\n",
       "      <td>1002</td>\n",
       "      <td>82.772800</td>\n",
       "      <td>人民币</td>\n",
       "      <td>2000-09-19</td>\n",
       "      <td>开业</td>\n",
       "      <td>O</td>\n",
       "      <td>80</td>\n",
       "      <td>民营</td>\n",
       "      <td>44</td>\n",
       "      <td>4400</td>\n",
       "      <td>440000</td>\n",
       "      <td>1</td>\n",
       "      <td>2000-09-19</td>\n",
       "      <td>NaN</td>\n",
       "      <td>440000.0</td>\n",
       "      <td>2017-12-21</td>\n",
       "      <td>12.0</td>\n",
       "      <td>NaN</td>\n",
       "      <td>NaN</td>\n",
       "      <td>19</td>\n",
       "    </tr>\n",
       "    <tr>\n",
       "      <th>2</th>\n",
       "      <td>1003</td>\n",
       "      <td>80.000000</td>\n",
       "      <td>人民币</td>\n",
       "      <td>1999-07-21</td>\n",
       "      <td>开业</td>\n",
       "      <td>C</td>\n",
       "      <td>36</td>\n",
       "      <td>民营</td>\n",
       "      <td>42</td>\n",
       "      <td>4200</td>\n",
       "      <td>420000</td>\n",
       "      <td>1</td>\n",
       "      <td>1999-07-21</td>\n",
       "      <td>NaN</td>\n",
       "      <td>420000.0</td>\n",
       "      <td>2018-10-22</td>\n",
       "      <td>11.0</td>\n",
       "      <td>NaN</td>\n",
       "      <td>NaN</td>\n",
       "      <td>20</td>\n",
       "    </tr>\n",
       "  </tbody>\n",
       "</table>\n",
       "</div>"
      ],
      "text/plain": [
       "   企业编号    注册资本（万元） 注册资本币种(正则)       成立日期 经营状态 行业大类（代码） 行业小类（代码）  类型  省份代码  \\\n",
       "0  1001  746.138857        人民币 1992-10-19   开业        J       66  民营    31   \n",
       "1  1002   82.772800        人民币 2000-09-19   开业        O       80  民营    44   \n",
       "2  1003   80.000000        人民币 1999-07-21   开业        C       36  民营    42   \n",
       "\n",
       "   城市代码    地区代码  是否上市       经营期限自 经营期限至  登记机关区域代码        发照日期  员工人数 注销原因 注销时间  \\\n",
       "0  3100  310000     1  1992-10-19   NaN  310100.0  1992-10-19  19.0  NaN  NaN   \n",
       "1  4400  440000     1  2000-09-19   NaN  440000.0  2017-12-21  12.0  NaN  NaN   \n",
       "2  4200  420000     1  1999-07-21   NaN  420000.0  2018-10-22  11.0  NaN  NaN   \n",
       "\n",
       "   成立年数  \n",
       "0    26  \n",
       "1    19  \n",
       "2    20  "
      ]
     },
     "execution_count": 222,
     "metadata": {},
     "output_type": "execute_result"
    }
   ],
   "source": [
    "df_gongshangxinxi['成立日期'] = pd.to_datetime(df_gongshangxinxi['成立日期'])\n",
    "df_gongshangxinxi['成立年数'] = round(abs(df_gongshangxinxi['成立日期'].sub(\n",
    "    current_date, axis=0).dt.days)/365).astype(int)\n",
    "df_gongshangxinxi.head(n=3)"
   ]
  },
  {
   "cell_type": "code",
   "execution_count": 223,
   "metadata": {
    "ExecuteTime": {
     "end_time": "2019-03-30T14:53:59.847411Z",
     "start_time": "2019-03-30T14:53:59.761009Z"
    }
   },
   "outputs": [],
   "source": [
    "df_gongshangxinxi['是否注销'] = df_gongshangxinxi['注销原因'].fillna(0)\n",
    "df_gongshangxinxi.loc[(df_gongshangxinxi['注销原因'].notnull()), '是否注销'] = 1"
   ]
  },
  {
   "cell_type": "code",
   "execution_count": 224,
   "metadata": {
    "ExecuteTime": {
     "end_time": "2019-03-30T14:53:59.932685Z",
     "start_time": "2019-03-30T14:53:59.850418Z"
    }
   },
   "outputs": [],
   "source": [
    "waiqi = df_gongshangxinxi.groupby(['企业编号', '类型'])[\n",
    "    '类型'].count().unstack().fillna(0).astype(int)\n",
    "waiqi['企业编号'] = waiqi.index\n",
    "res['merge_成立年数_是否注销_是否外企'] = pd.DataFrame({\n",
    "    '是否注销': df_gongshangxinxi['是否注销'],\n",
    "    '是否外企': waiqi['外企'],\n",
    "    '企业编号': waiqi['企业编号'],\n",
    "    '成立年数': df_gongshangxinxi['成立年数']\n",
    "})"
   ]
  },
  {
   "cell_type": "markdown",
   "metadata": {},
   "source": [
    "# 年报企业基本信息"
   ]
  },
  {
   "cell_type": "code",
   "execution_count": 225,
   "metadata": {
    "ExecuteTime": {
     "end_time": "2019-03-30T14:54:02.201605Z",
     "start_time": "2019-03-30T14:53:59.935463Z"
    }
   },
   "outputs": [],
   "source": [
    "df_qiyejiben_bkp = pd.read_excel(data_path+r'年报-企业基本信息.xlsx')"
   ]
  },
  {
   "cell_type": "code",
   "execution_count": 226,
   "metadata": {
    "ExecuteTime": {
     "end_time": "2019-03-30T14:54:02.226121Z",
     "start_time": "2019-03-30T14:54:02.203682Z"
    }
   },
   "outputs": [
    {
     "name": "stdout",
     "output_type": "stream",
     "text": [
      "<class 'pandas.core.frame.DataFrame'>\n",
      "RangeIndex: 15056 entries, 0 to 15055\n",
      "Data columns (total 10 columns):\n",
      "企业编号                  15056 non-null int64\n",
      "注册资本                  1750 non-null object\n",
      "企业经营状态                14837 non-null object\n",
      "从业人数                  14838 non-null object\n",
      "是否有网站或网点              14838 non-null object\n",
      "企业是否有投资信息或购买其他公司股权    14835 non-null object\n",
      "有限责任公司本年度是否发生股东股权转    14836 non-null object\n",
      "是否提供对外担保              14827 non-null object\n",
      "发布日期                  15039 non-null object\n",
      "年报年份                  15048 non-null float64\n",
      "dtypes: float64(1), int64(1), object(8)\n",
      "memory usage: 1.1+ MB\n"
     ]
    }
   ],
   "source": [
    "df_qiyejiben = df_qiyejiben_bkp.copy()\n",
    "df_qiyejiben.info()"
   ]
  },
  {
   "cell_type": "code",
   "execution_count": 227,
   "metadata": {
    "ExecuteTime": {
     "end_time": "2019-03-30T14:54:02.331530Z",
     "start_time": "2019-03-30T14:54:02.229169Z"
    }
   },
   "outputs": [
    {
     "data": {
      "text/plain": [
       "开业         13590\n",
       "正常开业         739\n",
       "开业/正常经营      420\n",
       "存续            64\n",
       "其他            10\n",
       "歇业             7\n",
       "清算             6\n",
       "停业             1\n",
       "Name: 企业经营状态, dtype: int64"
      ]
     },
     "execution_count": 227,
     "metadata": {},
     "output_type": "execute_result"
    }
   ],
   "source": [
    "df_qiyejiben['企业经营状态'].value_counts()"
   ]
  },
  {
   "cell_type": "code",
   "execution_count": 228,
   "metadata": {
    "ExecuteTime": {
     "end_time": "2019-03-30T14:54:02.400834Z",
     "start_time": "2019-03-30T14:54:02.334246Z"
    }
   },
   "outputs": [],
   "source": [
    "jingyingzhaungtai = df_qiyejiben.groupby(['企业编号', '企业经营状态'])[\n",
    "    '企业经营状态'].count().unstack().fillna(0).astype(int)\n",
    "jingyingzhaungtai['企业编号'] = jingyingzhaungtai.index\n",
    "jingyingzhaungtai['开业'] = jingyingzhaungtai['开业'] + \\\n",
    "    jingyingzhaungtai['开业/正常经营'] + \\\n",
    "    jingyingzhaungtai['正常开业']+jingyingzhaungtai['存续']\n",
    "res['企业基本信息经营状态'] = pd.DataFrame({\n",
    "    '企业编号': jingyingzhaungtai['企业编号'],\n",
    "    '停业': jingyingzhaungtai['停业'],\n",
    "    '其他': jingyingzhaungtai['其他'],\n",
    "    '开业': jingyingzhaungtai['开业'],\n",
    "    '歇业': jingyingzhaungtai['歇业'],\n",
    "    '清算': jingyingzhaungtai['清算'],\n",
    "})"
   ]
  },
  {
   "cell_type": "markdown",
   "metadata": {},
   "source": [
    "# 年报-的对外提供保证担保信息"
   ]
  },
  {
   "cell_type": "code",
   "execution_count": 229,
   "metadata": {
    "ExecuteTime": {
     "end_time": "2019-03-30T14:54:03.673446Z",
     "start_time": "2019-03-30T14:54:02.403737Z"
    }
   },
   "outputs": [],
   "source": [
    "df_duiwaidanbao_bkp = pd.read_excel(data_path+r'年报-的对外提供保证担保信息.xlsx')"
   ]
  },
  {
   "cell_type": "code",
   "execution_count": 230,
   "metadata": {
    "ExecuteTime": {
     "end_time": "2019-03-30T14:54:03.690234Z",
     "start_time": "2019-03-30T14:54:03.676251Z"
    }
   },
   "outputs": [
    {
     "name": "stdout",
     "output_type": "stream",
     "text": [
      "<class 'pandas.core.frame.DataFrame'>\n",
      "RangeIndex: 10875 entries, 0 to 10874\n",
      "Data columns (total 8 columns):\n",
      "企业编号       10875 non-null int64\n",
      "主债权数额      8777 non-null object\n",
      "保证担保的范围    594 non-null object\n",
      "保证的期间      8751 non-null object\n",
      "保证的方式      8754 non-null object\n",
      "主债权种类      8746 non-null object\n",
      "履行债务的期限    10864 non-null object\n",
      "年报年份       10875 non-null int64\n",
      "dtypes: int64(2), object(6)\n",
      "memory usage: 679.8+ KB\n"
     ]
    }
   ],
   "source": [
    "df_duiwaidanbao = df_duiwaidanbao_bkp.copy()\n",
    "df_duiwaidanbao.info()"
   ]
  },
  {
   "cell_type": "code",
   "execution_count": 231,
   "metadata": {
    "ExecuteTime": {
     "end_time": "2019-03-30T14:54:03.796673Z",
     "start_time": "2019-03-30T14:54:03.692626Z"
    }
   },
   "outputs": [],
   "source": [
    "tmpdf = pd.DataFrame()\n",
    "tmpdf['担保次数'] = df_duiwaidanbao.groupby(['企业编号'])['企业编号'].count()\n",
    "tmpdf['企业编号'] = tmpdf.index\n",
    "res['企业担保次数'] = tmpdf"
   ]
  },
  {
   "cell_type": "markdown",
   "metadata": {},
   "source": [
    "# 年报-网站或网点信息"
   ]
  },
  {
   "cell_type": "code",
   "execution_count": 232,
   "metadata": {
    "ExecuteTime": {
     "end_time": "2019-03-30T14:54:04.506511Z",
     "start_time": "2019-03-30T14:54:03.800034Z"
    }
   },
   "outputs": [],
   "source": [
    "df_wangzhan_bkp = pd.read_excel(data_path+r'年报-网站或网点信息.xlsx')"
   ]
  },
  {
   "cell_type": "code",
   "execution_count": 233,
   "metadata": {
    "ExecuteTime": {
     "end_time": "2019-03-30T14:54:04.518850Z",
     "start_time": "2019-03-30T14:54:04.508792Z"
    }
   },
   "outputs": [
    {
     "name": "stdout",
     "output_type": "stream",
     "text": [
      "<class 'pandas.core.frame.DataFrame'>\n",
      "RangeIndex: 13553 entries, 0 to 13552\n",
      "Data columns (total 2 columns):\n",
      "企业编号    13553 non-null int64\n",
      "年报年份    13546 non-null float64\n",
      "dtypes: float64(1), int64(1)\n",
      "memory usage: 211.8 KB\n"
     ]
    }
   ],
   "source": [
    "df_wangzhan = df_wangzhan_bkp.copy()\n",
    "df_wangzhan.info()"
   ]
  },
  {
   "cell_type": "code",
   "execution_count": 234,
   "metadata": {
    "ExecuteTime": {
     "end_time": "2019-03-30T14:54:04.619527Z",
     "start_time": "2019-03-30T14:54:04.521481Z"
    }
   },
   "outputs": [],
   "source": [
    "tmpdf = pd.DataFrame()\n",
    "tmpdf['网站或网点数'] = df_wangzhan.groupby(['企业编号'])['企业编号'].count()\n",
    "tmpdf['企业编号'] = tmpdf.index\n",
    "res['网站或网点数'] = tmpdf"
   ]
  },
  {
   "cell_type": "markdown",
   "metadata": {},
   "source": [
    "# 商标"
   ]
  },
  {
   "cell_type": "code",
   "execution_count": 235,
   "metadata": {
    "ExecuteTime": {
     "end_time": "2019-03-30T14:54:34.870269Z",
     "start_time": "2019-03-30T14:54:04.622027Z"
    }
   },
   "outputs": [],
   "source": [
    "df_shangbiao_bkp = pd.read_excel(data_path+r'商标.xlsx')"
   ]
  },
  {
   "cell_type": "code",
   "execution_count": 236,
   "metadata": {
    "ExecuteTime": {
     "end_time": "2019-03-30T14:54:35.004959Z",
     "start_time": "2019-03-30T14:54:34.871939Z"
    }
   },
   "outputs": [
    {
     "name": "stdout",
     "output_type": "stream",
     "text": [
      "<class 'pandas.core.frame.DataFrame'>\n",
      "RangeIndex: 345417 entries, 0 to 345416\n",
      "Data columns (total 6 columns):\n",
      "企业编号         345417 non-null int64\n",
      "商标状态         343755 non-null object\n",
      "申请日期         343433 non-null object\n",
      "专用权期限开始日期    0 non-null float64\n",
      "专用权期限结束日期    226554 non-null object\n",
      "商标使用期限时间段    340948 non-null object\n",
      "dtypes: float64(1), int64(1), object(4)\n",
      "memory usage: 15.8+ MB\n"
     ]
    }
   ],
   "source": [
    "df_shangbiao = df_shangbiao_bkp.copy()\n",
    "df_shangbiao.info()"
   ]
  },
  {
   "cell_type": "code",
   "execution_count": 237,
   "metadata": {
    "ExecuteTime": {
     "end_time": "2019-03-30T14:54:35.883418Z",
     "start_time": "2019-03-30T14:54:35.006800Z"
    }
   },
   "outputs": [
    {
     "data": {
      "text/plain": [
       "商标已注册                       42916\n",
       "注册                          22874\n",
       "商标注册申请完成                    22085\n",
       "商标续展完成                      19072\n",
       "商标变更完成                      14789\n",
       "核准证明打印发送                    14106\n",
       "变更商标申请人/注册人名义/地址完成           8903\n",
       "等待受理通知书发文                    8220\n",
       "等待受理通知发文                     7862\n",
       "商标注册申请注册公告排版完成               6928\n",
       "出具商标注册证明完成                   4775\n",
       "商标转让完成                       4651\n",
       "商标转让中                        2886\n",
       "申请收文                         2311\n",
       "商标续展中                        1830\n",
       "变更商标申请人/注册人名义/地址中            1723\n",
       "等待打印受理通知书                    1647\n",
       "开具注册证明完成                     1621\n",
       "等待打印注册证                      1561\n",
       "等待注册公告公示期                    1378\n",
       "商标无效                         1269\n",
       "驳回复审注册公告排版完成                 1256\n",
       "等待注册发文                        965\n",
       "等待实质审查                        921\n",
       "等待实审裁文发文                      757\n",
       "商标注册申请等待受理中                   732\n",
       "商标注册申请等待驳回复审                  709\n",
       "商标使用许可备案完成                    708\n",
       "核准通知打印发送                      661\n",
       "排版注册公告                        614\n",
       "                            ...  \n",
       "驳回复审排版送达公告(商标评审申请受理通知书)         1\n",
       "等待补充证据发文                        1\n",
       "打印受理通知                          1\n",
       "排版送达公告(初步审定公告通知书)               1\n",
       "有退信(关于商标继续有效的决定)                1\n",
       "排版送达公告(商标变更申请补正通知书)             1\n",
       "有退信(商标转让证明)                     1\n",
       "排版送达公告(商标转让证明)                  1\n",
       "驳回复审排版送达公告(初步审定公告通知书)           1\n",
       "排版送达公告(商标转让/移转申请视为放弃通知书)        1\n",
       "有退信(国际注册翻译收费通知单)                1\n",
       "收到驳回复审申请或补充材料,待审                1\n",
       "异议不予受理                          1\n",
       "有退信(商标注册证)                      1\n",
       "驳回复审排版送达公告(商标注册证)               1\n",
       "领退信(连续三年不使用撤销申请的结案通知)           1\n",
       "排版送达公告(商标使用许可备案通知书)             1\n",
       "排版送达公告(商标注册证商品服务附页)             1\n",
       "领退信(商标注册证商品服务附页)                1\n",
       "补发变更/转让/续展证明申请中                 1\n",
       "撤销注册商标复审评审形审不予受理通知发文            1\n",
       "商标注册证                           1\n",
       "有退信(商标注册申请受理通知书)                1\n",
       "无效宣告排版送达公告(商标评审申请受理通知书)         1\n",
       "排版送达公告(商标异议申请受理通知书)             1\n",
       "领退信(异议决定书)                      1\n",
       "撤销注册商标复审完成                      1\n",
       "领退信(关于撤销连续三年未使用商标的决定)           1\n",
       "补发注册证不予受理                       1\n",
       "有退信(关于提供注册商标使用证据的通知)            1\n",
       "Name: 商标状态, Length: 208, dtype: int64"
      ]
     },
     "execution_count": 237,
     "metadata": {},
     "output_type": "execute_result"
    }
   ],
   "source": [
    "df_shangbiao_withdate = df_shangbiao.loc[(df_shangbiao['专用权期限结束日期'].notnull())]\n",
    "df_shangbiao_withdate['专用权期限结束日期'] = pd.to_datetime(\n",
    "    df_shangbiao_withdate['专用权期限结束日期'])\n",
    "df_shangbiao_withdate = df_shangbiao_withdate.loc[(\n",
    "    df_shangbiao_withdate['专用权期限结束日期']) > current_date]\n",
    "df_shangbiao_withdate['商标状态'].value_counts()"
   ]
  },
  {
   "cell_type": "code",
   "execution_count": 238,
   "metadata": {
    "ExecuteTime": {
     "end_time": "2019-03-30T14:54:35.944126Z",
     "start_time": "2019-03-30T14:54:35.904752Z"
    }
   },
   "outputs": [
    {
     "data": {
      "text/html": [
       "<div>\n",
       "<style scoped>\n",
       "    .dataframe tbody tr th:only-of-type {\n",
       "        vertical-align: middle;\n",
       "    }\n",
       "\n",
       "    .dataframe tbody tr th {\n",
       "        vertical-align: top;\n",
       "    }\n",
       "\n",
       "    .dataframe thead th {\n",
       "        text-align: right;\n",
       "    }\n",
       "</style>\n",
       "<table border=\"1\" class=\"dataframe\">\n",
       "  <thead>\n",
       "    <tr style=\"text-align: right;\">\n",
       "      <th></th>\n",
       "      <th>商标数量</th>\n",
       "      <th>企业编号</th>\n",
       "    </tr>\n",
       "  </thead>\n",
       "  <tbody>\n",
       "    <tr>\n",
       "      <th>0</th>\n",
       "      <td>256</td>\n",
       "      <td>1001</td>\n",
       "    </tr>\n",
       "    <tr>\n",
       "      <th>1</th>\n",
       "      <td>5</td>\n",
       "      <td>1002</td>\n",
       "    </tr>\n",
       "    <tr>\n",
       "      <th>2</th>\n",
       "      <td>90</td>\n",
       "      <td>1003</td>\n",
       "    </tr>\n",
       "    <tr>\n",
       "      <th>3</th>\n",
       "      <td>6</td>\n",
       "      <td>1004</td>\n",
       "    </tr>\n",
       "    <tr>\n",
       "      <th>4</th>\n",
       "      <td>17</td>\n",
       "      <td>1005</td>\n",
       "    </tr>\n",
       "  </tbody>\n",
       "</table>\n",
       "</div>"
      ],
      "text/plain": [
       "   商标数量  企业编号\n",
       "0   256  1001\n",
       "1     5  1002\n",
       "2    90  1003\n",
       "3     6  1004\n",
       "4    17  1005"
      ]
     },
     "execution_count": 238,
     "metadata": {},
     "output_type": "execute_result"
    }
   ],
   "source": [
    "finished = ['商标已注册',\n",
    "            '注册',\n",
    "            '商标注册申请完成',\n",
    "            '商标续展完成',\n",
    "            '商标变更完成',\n",
    "            '变更商标申请人/注册人名义/地址完成',\n",
    "            '商标注册申请注册公告排版完成',\n",
    "            '商标转让完成',\n",
    "            '出具商标注册证明完成']\n",
    "df_shangbiao_withdate_clean = df_shangbiao_withdate.loc[(\n",
    "    df_shangbiao_withdate['商标状态'].isin(finished))]\n",
    "df_shangbiao_count = pd.DataFrame()\n",
    "df_shangbiao_count['商标数量'] = df_shangbiao_withdate_clean.groupby(['企业编号'])[\n",
    "    '企业编号'].count()\n",
    "df_shangbiao_count['企业编号'] = df_shangbiao_count.index\n",
    "df_shangbiao_count = df_shangbiao_count.set_index(\n",
    "    np.arange(0, len(df_shangbiao_count)))\n",
    "df_shangbiao_count.head(n=5)"
   ]
  },
  {
   "cell_type": "code",
   "execution_count": 239,
   "metadata": {
    "ExecuteTime": {
     "end_time": "2019-03-30T14:54:36.019045Z",
     "start_time": "2019-03-30T14:54:35.946940Z"
    }
   },
   "outputs": [],
   "source": [
    "res['商标数量'] = df_shangbiao_count"
   ]
  },
  {
   "cell_type": "markdown",
   "metadata": {},
   "source": [
    "# 债券信息"
   ]
  },
  {
   "cell_type": "code",
   "execution_count": 240,
   "metadata": {
    "ExecuteTime": {
     "end_time": "2019-03-30T14:54:36.526680Z",
     "start_time": "2019-03-30T14:54:36.022626Z"
    }
   },
   "outputs": [
    {
     "name": "stdout",
     "output_type": "stream",
     "text": [
      "<class 'pandas.core.frame.DataFrame'>\n",
      "RangeIndex: 2400 entries, 0 to 2399\n",
      "Data columns (total 14 columns):\n",
      "企业编号          2400 non-null int64\n",
      "债券信用评级        386 non-null object\n",
      "债券期限          2314 non-null object\n",
      "债券品种          2400 non-null object\n",
      "发行日期          2400 non-null object\n",
      "付息日期          2032 non-null object\n",
      "兑付日期          2313 non-null object\n",
      "计划发行总额（亿元）    2400 non-null float64\n",
      "实际发行总额（亿元）    35 non-null float64\n",
      "币种            2400 non-null object\n",
      "流通场所          17 non-null object\n",
      "票面利率（%）       2399 non-null float64\n",
      "主体信用评级        382 non-null object\n",
      "付息方式          2400 non-null object\n",
      "dtypes: float64(3), int64(1), object(10)\n",
      "memory usage: 262.6+ KB\n",
      "<class 'pandas.core.frame.DataFrame'>\n",
      "RangeIndex: 2400 entries, 0 to 2399\n",
      "Data columns (total 14 columns):\n",
      "企业编号          2400 non-null int64\n",
      "债券信用评级        386 non-null object\n",
      "债券期限          2296 non-null float64\n",
      "债券品种          2400 non-null object\n",
      "发行日期          2400 non-null object\n",
      "付息日期          2032 non-null object\n",
      "兑付日期          2313 non-null object\n",
      "计划发行总额（亿元）    2400 non-null float64\n",
      "实际发行总额（亿元）    35 non-null float64\n",
      "币种            2400 non-null object\n",
      "流通场所          17 non-null object\n",
      "票面利率（%）       2399 non-null float64\n",
      "主体信用评级        382 non-null object\n",
      "付息方式          2400 non-null object\n",
      "dtypes: float64(4), int64(1), object(9)\n",
      "memory usage: 262.6+ KB\n"
     ]
    }
   ],
   "source": [
    "df_operation = pd.read_excel(data_path+r'债券信息.xlsx')\n",
    "df_operation.info()\n",
    "df_operation['债券期限'] = pd.to_numeric(df_operation['债券期限'], errors='coerce')\n",
    "df_operation.info()"
   ]
  },
  {
   "cell_type": "code",
   "execution_count": 241,
   "metadata": {
    "ExecuteTime": {
     "end_time": "2019-03-30T14:54:36.568893Z",
     "start_time": "2019-03-30T14:54:36.529307Z"
    }
   },
   "outputs": [
    {
     "data": {
      "text/html": [
       "<div>\n",
       "<style scoped>\n",
       "    .dataframe tbody tr th:only-of-type {\n",
       "        vertical-align: middle;\n",
       "    }\n",
       "\n",
       "    .dataframe tbody tr th {\n",
       "        vertical-align: top;\n",
       "    }\n",
       "\n",
       "    .dataframe thead th {\n",
       "        text-align: right;\n",
       "    }\n",
       "</style>\n",
       "<table border=\"1\" class=\"dataframe\">\n",
       "  <thead>\n",
       "    <tr style=\"text-align: right;\">\n",
       "      <th></th>\n",
       "      <th>债券期限_mean</th>\n",
       "      <th>债券期限_max</th>\n",
       "      <th>债券期限_min</th>\n",
       "      <th>债券期限_std</th>\n",
       "      <th>票面利率（%）_mean</th>\n",
       "      <th>票面利率（%）_max</th>\n",
       "      <th>票面利率（%）_min</th>\n",
       "      <th>票面利率（%）_std</th>\n",
       "      <th>计划发行总额（亿元）_sum</th>\n",
       "      <th>计划发行总额（亿元）_max</th>\n",
       "      <th>计划发行总额（亿元）_min</th>\n",
       "      <th>计划发行总额（亿元）_std</th>\n",
       "      <th>企业编号</th>\n",
       "    </tr>\n",
       "    <tr>\n",
       "      <th>企业编号</th>\n",
       "      <th></th>\n",
       "      <th></th>\n",
       "      <th></th>\n",
       "      <th></th>\n",
       "      <th></th>\n",
       "      <th></th>\n",
       "      <th></th>\n",
       "      <th></th>\n",
       "      <th></th>\n",
       "      <th></th>\n",
       "      <th></th>\n",
       "      <th></th>\n",
       "      <th></th>\n",
       "    </tr>\n",
       "  </thead>\n",
       "  <tbody>\n",
       "    <tr>\n",
       "      <th>1002</th>\n",
       "      <td>0.49000</td>\n",
       "      <td>0.49</td>\n",
       "      <td>0.49</td>\n",
       "      <td>0.000000</td>\n",
       "      <td>3.700</td>\n",
       "      <td>4.35</td>\n",
       "      <td>3.05</td>\n",
       "      <td>0.712039</td>\n",
       "      <td>38.0</td>\n",
       "      <td>10.0</td>\n",
       "      <td>3.0</td>\n",
       "      <td>2.943920</td>\n",
       "      <td>1002</td>\n",
       "    </tr>\n",
       "    <tr>\n",
       "      <th>1004</th>\n",
       "      <td>3.43500</td>\n",
       "      <td>5.00</td>\n",
       "      <td>0.74</td>\n",
       "      <td>2.029015</td>\n",
       "      <td>4.692</td>\n",
       "      <td>5.50</td>\n",
       "      <td>3.88</td>\n",
       "      <td>0.580836</td>\n",
       "      <td>29.0</td>\n",
       "      <td>10.0</td>\n",
       "      <td>4.0</td>\n",
       "      <td>2.387467</td>\n",
       "      <td>1004</td>\n",
       "    </tr>\n",
       "    <tr>\n",
       "      <th>1005</th>\n",
       "      <td>2.36875</td>\n",
       "      <td>5.00</td>\n",
       "      <td>0.47</td>\n",
       "      <td>1.577896</td>\n",
       "      <td>4.376</td>\n",
       "      <td>5.30</td>\n",
       "      <td>3.30</td>\n",
       "      <td>0.628865</td>\n",
       "      <td>70.0</td>\n",
       "      <td>10.0</td>\n",
       "      <td>3.0</td>\n",
       "      <td>2.943920</td>\n",
       "      <td>1005</td>\n",
       "    </tr>\n",
       "  </tbody>\n",
       "</table>\n",
       "</div>"
      ],
      "text/plain": [
       "      债券期限_mean  债券期限_max  债券期限_min  债券期限_std  票面利率（%）_mean  票面利率（%）_max  \\\n",
       "企业编号                                                                       \n",
       "1002    0.49000      0.49      0.49  0.000000         3.700         4.35   \n",
       "1004    3.43500      5.00      0.74  2.029015         4.692         5.50   \n",
       "1005    2.36875      5.00      0.47  1.577896         4.376         5.30   \n",
       "\n",
       "      票面利率（%）_min  票面利率（%）_std  计划发行总额（亿元）_sum  计划发行总额（亿元）_max  \\\n",
       "企业编号                                                             \n",
       "1002         3.05     0.712039            38.0            10.0   \n",
       "1004         3.88     0.580836            29.0            10.0   \n",
       "1005         3.30     0.628865            70.0            10.0   \n",
       "\n",
       "      计划发行总额（亿元）_min  计划发行总额（亿元）_std  企业编号  \n",
       "企业编号                                        \n",
       "1002             3.0        2.943920  1002  \n",
       "1004             4.0        2.387467  1004  \n",
       "1005             3.0        2.943920  1005  "
      ]
     },
     "execution_count": 241,
     "metadata": {},
     "output_type": "execute_result"
    }
   ],
   "source": [
    "agg_func = {'债券期限': ['mean', 'max', 'min', 'std'], '票面利率（%）': [\n",
    "    'mean', 'max', 'min', 'std'], '计划发行总额（亿元）': ['sum', 'max', 'min', 'std']}\n",
    "df_operation_new = df_operation.groupby(['企业编号']).agg(agg_func)\n",
    "df_operation_new.columns = ['_'.join(col)\n",
    "                            for col in df_operation_new.columns.values]\n",
    "df_operation_new.columns = [\n",
    "    '债券期限_mean', '债券期限_max', '债券期限_min', '债券期限_std',\n",
    "    '票面利率（%）_mean', '票面利率（%）_max', '票面利率（%）_min', '票面利率（%）_std', '计划发行总额（亿元）_sum', '计划发行总额（亿元）_max', '计划发行总额（亿元）_min', '计划发行总额（亿元）_std']\n",
    "df_operation_new['企业编号'] = df_operation_new.index\n",
    "df_operation_new.head(n=3)\n",
    "# df_operation_new.info()"
   ]
  },
  {
   "cell_type": "code",
   "execution_count": 242,
   "metadata": {
    "ExecuteTime": {
     "end_time": "2019-03-30T14:54:36.667646Z",
     "start_time": "2019-03-30T14:54:36.572274Z"
    }
   },
   "outputs": [],
   "source": [
    "res['债券信息'] = df_operation_new"
   ]
  },
  {
   "cell_type": "markdown",
   "metadata": {},
   "source": [
    "# Check Point"
   ]
  },
  {
   "cell_type": "code",
   "execution_count": 243,
   "metadata": {
    "ExecuteTime": {
     "end_time": "2019-03-30T14:54:36.746011Z",
     "start_time": "2019-03-30T14:54:36.672196Z"
    }
   },
   "outputs": [
    {
     "name": "stdout",
     "output_type": "stream",
     "text": [
      "软著著作权 2\n",
      "作品著作 2\n",
      "项目信息 2\n",
      "纳税A级年份 5\n",
      "资质认证 5\n",
      "产品 7\n",
      "专利 6\n",
      "竞品 2\n",
      "招投标 2\n",
      "企业购地 9\n",
      "年报-对外投资信息 5\n",
      "年报-股东股权转让 7\n",
      "经营状态 3\n",
      "行业大类 19\n",
      "merge_注册资本_是否上市 3\n",
      "merge_成立年数_是否注销_是否外企 4\n",
      "企业基本信息经营状态 6\n",
      "企业担保次数 2\n",
      "网站或网点数 2\n",
      "商标数量 2\n",
      "债券信息 13\n",
      "total:  108\n"
     ]
    }
   ],
   "source": [
    "feature_count = 0\n",
    "for k, v in res.items():\n",
    "    print(k, len(v.columns))\n",
    "    feature_count += len(v.columns)\n",
    "print('total: ', feature_count)"
   ]
  },
  {
   "cell_type": "markdown",
   "metadata": {},
   "source": [
    "# 年报-社保信息"
   ]
  },
  {
   "cell_type": "code",
   "execution_count": 4,
   "metadata": {
    "ExecuteTime": {
     "end_time": "2019-04-02T14:34:33.370271Z",
     "start_time": "2019-04-02T14:34:29.241746Z"
    }
   },
   "outputs": [],
   "source": [
    "df_shebao_bkp = pd.read_excel(data_path+r'年报-社保信息.xlsx')"
   ]
  },
  {
   "cell_type": "code",
   "execution_count": 5,
   "metadata": {
    "ExecuteTime": {
     "end_time": "2019-04-02T14:34:36.680241Z",
     "start_time": "2019-04-02T14:34:36.640231Z"
    }
   },
   "outputs": [
    {
     "name": "stdout",
     "output_type": "stream",
     "text": [
      "<class 'pandas.core.frame.DataFrame'>\n",
      "RangeIndex: 15039 entries, 0 to 15038\n",
      "Data columns (total 22 columns):\n",
      "企业编号                    15039 non-null int64\n",
      "城镇职工基本养老保险人数            5597 non-null object\n",
      "失业保险人数                  5599 non-null object\n",
      "职工基本医疗保险人数              5598 non-null object\n",
      "工伤保险人数                  5599 non-null object\n",
      "生育保险人数                  5598 non-null object\n",
      "单位参加城镇职工基本养老保险缴费基数      5354 non-null object\n",
      "单位参加失业保险缴费基数            5597 non-null object\n",
      "单位参加职工基本医疗保险缴费基数        5597 non-null object\n",
      "单位参加工伤保险缴费基数            168 non-null object\n",
      "单位参加生育保险缴费基数            5598 non-null object\n",
      "参加城镇职工基本养老保险本期实际缴费金额    5597 non-null object\n",
      "参加失业保险本期实际缴费金额          5597 non-null object\n",
      "参加职工基本医疗保险本期实际缴费金额      5597 non-null object\n",
      "参加工伤保险本期实际缴费金额          5597 non-null object\n",
      "参加生育保险本期实际缴费金额          5597 non-null object\n",
      "单位参加城镇职工基本养老保险累计欠缴金额    5602 non-null object\n",
      "单位参加失业保险累计欠缴金额          5602 non-null object\n",
      "单位参加职工基本医疗保险累计欠缴金额      5602 non-null object\n",
      "单位参加工伤保险累计欠缴金额          5602 non-null object\n",
      "单位参加生育保险累计欠缴金额          5602 non-null object\n",
      "年报年份                    15032 non-null float64\n",
      "dtypes: float64(1), int64(1), object(20)\n",
      "memory usage: 2.5+ MB\n"
     ]
    }
   ],
   "source": [
    "df_shebao = df_shebao_bkp.copy()\n",
    "df_shebao.info()"
   ]
  },
  {
   "cell_type": "code",
   "execution_count": 6,
   "metadata": {
    "ExecuteTime": {
     "end_time": "2019-04-02T14:34:43.976786Z",
     "start_time": "2019-04-02T14:34:43.491527Z"
    }
   },
   "outputs": [
    {
     "name": "stdout",
     "output_type": "stream",
     "text": [
      "<class 'pandas.core.frame.DataFrame'>\n",
      "Int64Index: 5597 entries, 3 to 15038\n",
      "Data columns (total 9 columns):\n",
      "企业编号                    5597 non-null int64\n",
      "城镇职工基本养老保险人数            5597 non-null int64\n",
      "单位参加城镇职工基本养老保险缴费基数      4430 non-null float64\n",
      "参加城镇职工基本养老保险本期实际缴费金额    4431 non-null float64\n",
      "参加失业保险本期实际缴费金额          4432 non-null float64\n",
      "参加职工基本医疗保险本期实际缴费金额      4432 non-null float64\n",
      "参加工伤保险本期实际缴费金额          4354 non-null float64\n",
      "参加生育保险本期实际缴费金额          4432 non-null float64\n",
      "年报年份                    5597 non-null float64\n",
      "dtypes: float64(7), int64(2)\n",
      "memory usage: 437.3 KB\n",
      "<class 'pandas.core.frame.DataFrame'>\n",
      "Int64Index: 4349 entries, 23 to 15038\n",
      "Data columns (total 9 columns):\n",
      "企业编号                    4349 non-null int64\n",
      "城镇职工基本养老保险人数            4349 non-null int64\n",
      "单位参加城镇职工基本养老保险缴费基数      4349 non-null float64\n",
      "参加城镇职工基本养老保险本期实际缴费金额    4349 non-null float64\n",
      "参加失业保险本期实际缴费金额          4349 non-null float64\n",
      "参加职工基本医疗保险本期实际缴费金额      4349 non-null float64\n",
      "参加工伤保险本期实际缴费金额          4349 non-null float64\n",
      "参加生育保险本期实际缴费金额          4349 non-null float64\n",
      "年报年份                    4349 non-null float64\n",
      "dtypes: float64(7), int64(2)\n",
      "memory usage: 339.8 KB\n",
      "<class 'pandas.core.frame.DataFrame'>\n",
      "Int64Index: 4349 entries, 23 to 15038\n",
      "Data columns (total 10 columns):\n",
      "企业编号                    4349 non-null int64\n",
      "城镇职工基本养老保险人数            4349 non-null int64\n",
      "单位参加城镇职工基本养老保险缴费基数      4349 non-null float64\n",
      "参加城镇职工基本养老保险本期实际缴费金额    4349 non-null float64\n",
      "参加失业保险本期实际缴费金额          4349 non-null float64\n",
      "参加职工基本医疗保险本期实际缴费金额      4349 non-null float64\n",
      "参加工伤保险本期实际缴费金额          4349 non-null float64\n",
      "参加生育保险本期实际缴费金额          4349 non-null float64\n",
      "年报年份                    4349 non-null float64\n",
      "合计                      4349 non-null float64\n",
      "dtypes: float64(8), int64(2)\n",
      "memory usage: 373.7 KB\n"
     ]
    }
   ],
   "source": [
    "filter_df_shebao = df_shebao.loc[(df_shebao['城镇职工基本养老保险人数'].notnull())]\n",
    "filter_df_shebao = filter_df_shebao.drop(['失业保险人数', '职工基本医疗保险人数', '工伤保险人数', '生育保险人数',\n",
    "                                          '单位参加失业保险缴费基数', '单位参加职工基本医疗保险缴费基数', '单位参加工伤保险缴费基数', '单位参加生育保险缴费基数', '单位参加城镇职工基本养老保险累计欠缴金额', '单位参加失业保险累计欠缴金额',\n",
    "                                          '单位参加职工基本医疗保险累计欠缴金额', '单位参加工伤保险累计欠缴金额', '单位参加生育保险累计欠缴金额'], axis=1)\n",
    "A = ['单位参加城镇职工基本养老保险缴费基数', '参加城镇职工基本养老保险本期实际缴费金额', '参加失业保险本期实际缴费金额',\n",
    "     '参加职工基本医疗保险本期实际缴费金额', '参加工伤保险本期实际缴费金额', '参加生育保险本期实际缴费金额']\n",
    "filter_df_shebao['城镇职工基本养老保险人数'] = filter_df_shebao['城镇职工基本养老保险人数'].str.rstrip(\n",
    "    '人').astype(int)\n",
    "filter_df_shebao.head(n=5)\n",
    "for arr in A:\n",
    "    filter_df_shebao[arr] = filter_df_shebao[arr].str.rstrip(\n",
    "        '万元')\n",
    "    filter_df_shebao[arr] = filter_df_shebao[arr].fillna(\n",
    "        '选择不公示')\n",
    "    filter_df_shebao.loc[(filter_df_shebao[arr].str.contains(\n",
    "        '([^0-9\\.])')), arr].value_counts()\n",
    "    filter_df_shebao.loc[(filter_df_shebao[arr].str.contains(\n",
    "        '选择不公示')), arr] = np.nan\n",
    "    filter_df_shebao[arr] = filter_df_shebao[arr].str.extract(\n",
    "        '([0-9\\.]+)').astype(float)*10000\n",
    "filter_df_shebao.head(n=5)\n",
    "filter_df_shebao.info()\n",
    "filter_df_shebao1 = filter_df_shebao.dropna()\n",
    "filter_df_shebao1.info()\n",
    "filter_df_shebao1['合计'] = filter_df_shebao1['参加城镇职工基本养老保险本期实际缴费金额']+filter_df_shebao1['参加失业保险本期实际缴费金额'] + \\\n",
    "    filter_df_shebao1['参加职工基本医疗保险本期实际缴费金额'] + \\\n",
    "    filter_df_shebao1['参加工伤保险本期实际缴费金额']+filter_df_shebao1['参加生育保险本期实际缴费金额']\n",
    "filter_df_shebao1.info()"
   ]
  },
  {
   "cell_type": "code",
   "execution_count": 8,
   "metadata": {
    "ExecuteTime": {
     "end_time": "2019-04-02T14:35:19.694685Z",
     "start_time": "2019-04-02T14:35:19.663080Z"
    }
   },
   "outputs": [
    {
     "name": "stdout",
     "output_type": "stream",
     "text": [
      "<class 'pandas.core.frame.DataFrame'>\n",
      "Int64Index: 4349 entries, 23 to 15038\n",
      "Data columns (total 2 columns):\n",
      "合计    4349 non-null float64\n",
      "基数    4349 non-null float64\n",
      "dtypes: float64(2)\n",
      "memory usage: 101.9 KB\n",
      "最佳拟合线:截距 6290439672.689116 ,回归系数： [0.80087108]\n",
      "回归得分: 0.9592072862346583\n"
     ]
    },
    {
     "data": {
      "text/html": [
       "<div>\n",
       "<style scoped>\n",
       "    .dataframe tbody tr th:only-of-type {\n",
       "        vertical-align: middle;\n",
       "    }\n",
       "\n",
       "    .dataframe tbody tr th {\n",
       "        vertical-align: top;\n",
       "    }\n",
       "\n",
       "    .dataframe thead th {\n",
       "        text-align: right;\n",
       "    }\n",
       "</style>\n",
       "<table border=\"1\" class=\"dataframe\">\n",
       "  <thead>\n",
       "    <tr style=\"text-align: right;\">\n",
       "      <th></th>\n",
       "      <th>合计</th>\n",
       "      <th>基数</th>\n",
       "    </tr>\n",
       "  </thead>\n",
       "  <tbody>\n",
       "    <tr>\n",
       "      <th>合计</th>\n",
       "      <td>1.000000</td>\n",
       "      <td>0.989973</td>\n",
       "    </tr>\n",
       "    <tr>\n",
       "      <th>基数</th>\n",
       "      <td>0.989973</td>\n",
       "      <td>1.000000</td>\n",
       "    </tr>\n",
       "  </tbody>\n",
       "</table>\n",
       "</div>"
      ],
      "text/plain": [
       "          合计        基数\n",
       "合计  1.000000  0.989973\n",
       "基数  0.989973  1.000000"
      ]
     },
     "execution_count": 8,
     "metadata": {},
     "output_type": "execute_result"
    }
   ],
   "source": [
    "from sklearn.model_selection import train_test_split\n",
    "from sklearn.linear_model import LinearRegression\n",
    "data_1 = {'合计': filter_df_shebao1['合计'],\n",
    "          '基数': filter_df_shebao1['单位参加城镇职工基本养老保险缴费基数'], }\n",
    "data_1 = pd.DataFrame(data_1)\n",
    "data_1.info()\n",
    "X_train, X_test, Y_train, Y_test = train_test_split(\n",
    "    data_1.iloc[:, :1], data_1['基数'], train_size=.80)\n",
    "model = LinearRegression()\n",
    "model.fit(X_train, Y_train)\n",
    "a1 = model.intercept_\n",
    "b1 = model.coef_\n",
    "print(\"最佳拟合线:截距\", a1, \",回归系数：\", b1)\n",
    "score = model.score(X_test, Y_test)\n",
    "print(\"回归得分:\", score)\n",
    "data_1.corr()"
   ]
  },
  {
   "cell_type": "code",
   "execution_count": 9,
   "metadata": {
    "ExecuteTime": {
     "end_time": "2019-04-02T14:35:27.343548Z",
     "start_time": "2019-04-02T14:35:27.330864Z"
    }
   },
   "outputs": [],
   "source": [
    "df_shebao_16 = filter_df_shebao1.loc[(filter_df_shebao['年报年份'] == 2016)]\n",
    "df_shebao_17 = filter_df_shebao1.loc[(filter_df_shebao['年报年份'] == 2017)]"
   ]
  },
  {
   "cell_type": "code",
   "execution_count": 10,
   "metadata": {
    "ExecuteTime": {
     "end_time": "2019-04-02T14:35:31.163809Z",
     "start_time": "2019-04-02T14:35:31.075760Z"
    }
   },
   "outputs": [],
   "source": [
    "df_shebao_16_c = df_shebao_16.copy()\n",
    "df_shebao_17_c = df_shebao_17.copy()\n",
    "df_shebao_16_c = df_shebao_16_c.set_index(df_shebao_16_c['企业编号'])\n",
    "df_shebao_17_c = df_shebao_17_c.set_index(df_shebao_17_c['企业编号'])\n",
    "df_shebao_16_c = df_shebao_16_c.drop(['年报年份'], axis=1)\n",
    "df_shebao_17_c = df_shebao_17_c.drop(['年报年份'], axis=1)\n",
    "df_shebao_16_c = df_shebao_16_c.drop(['企业编号'], axis=1)\n",
    "df_shebao_17_c = df_shebao_17_c.drop(['企业编号'], axis=1)\n",
    "combine_df = df_shebao_17_c.combine_first(df_shebao_16_c)\n",
    "combine_df['城镇职工基本养老保险人数'] = combine_df['城镇职工基本养老保险人数'].replace(0.0, np.nan)\n",
    "combine_df['城镇职工基本养老保险人数'] = combine_df['城镇职工基本养老保险人数'].fillna(\n",
    "    combine_df['城镇职工基本养老保险人数'].mean())"
   ]
  },
  {
   "cell_type": "code",
   "execution_count": 11,
   "metadata": {
    "ExecuteTime": {
     "end_time": "2019-04-02T14:35:34.255953Z",
     "start_time": "2019-04-02T14:35:34.244440Z"
    }
   },
   "outputs": [],
   "source": [
    "combine_df['保险实缴/人数'] = combine_df['合计']/combine_df['城镇职工基本养老保险人数']\n",
    "combine_df['基数/人数'] = combine_df['单位参加城镇职工基本养老保险缴费基数'] / \\\n",
    "    combine_df['城镇职工基本养老保险人数']"
   ]
  },
  {
   "cell_type": "code",
   "execution_count": 12,
   "metadata": {
    "ExecuteTime": {
     "end_time": "2019-04-02T14:35:49.349219Z",
     "start_time": "2019-04-02T14:35:49.103577Z"
    }
   },
   "outputs": [
    {
     "name": "stdout",
     "output_type": "stream",
     "text": [
      "<class 'pandas.core.frame.DataFrame'>\n",
      "Int64Index: 2412 entries, 1005 to 4000\n",
      "Data columns (total 2 columns):\n",
      "合计    2412 non-null float64\n",
      "基数    2412 non-null float64\n",
      "dtypes: float64(2)\n",
      "memory usage: 56.5 KB\n",
      "最佳拟合线:截距 13552335.408303909 ,回归系数： [0.46367244]\n",
      "回归得分: 0.1788204630970972\n"
     ]
    },
    {
     "data": {
      "image/png": "[encoded data removed]",
      "text/plain": [
       "<Figure size 432x288 with 1 Axes>"
      ]
     },
     "metadata": {},
     "output_type": "display_data"
    }
   ],
   "source": [
    "from sklearn.model_selection import train_test_split\n",
    "from sklearn.linear_model import LinearRegression\n",
    "data_1 = {'合计': combine_df['保险实缴/人数'], '基数': combine_df['基数/人数'], }\n",
    "data_1 = pd.DataFrame(data_1)\n",
    "data_1.info()\n",
    "X_train, X_test, Y_train, Y_test = train_test_split(\n",
    "    data_1.iloc[:, :1], data_1['基数'], train_size=.80)\n",
    "model = LinearRegression()\n",
    "model.fit(X_train, Y_train)\n",
    "a1 = model.intercept_\n",
    "b1 = model.coef_\n",
    "print(\"最佳拟合线:截距\", a1, \",回归系数：\", b1)\n",
    "score = model.score(X_test, Y_test)\n",
    "print(\"回归得分:\", score)\n",
    "data_1.corr()\n",
    "# 箱形图\n",
    "plt.style.use(\"ggplot\")\n",
    "plt.rcParams['axes.unicode_minus'] = False\n",
    "plt.rcParams['font.sans-serif'] = ['SimHei']\n",
    "plt.boxplot(x=data_1.values, labels=data_1.columns, whis=1.5)\n",
    "plt.show()"
   ]
  },
  {
   "cell_type": "code",
   "execution_count": 72,
   "metadata": {
    "ExecuteTime": {
     "end_time": "2019-03-30T18:26:33.811010Z",
     "start_time": "2019-03-30T18:26:33.803514Z"
    }
   },
   "outputs": [
    {
     "data": {
      "text/plain": [
       "count    2.412000e+03\n",
       "mean     1.018326e+07\n",
       "std      1.651760e+08\n",
       "min      0.000000e+00\n",
       "25%      8.994061e+03\n",
       "50%      1.563872e+04\n",
       "75%      3.112959e+04\n",
       "max      7.415916e+09\n",
       "Name: 保险实缴/人数, dtype: float64"
      ]
     },
     "execution_count": 72,
     "metadata": {},
     "output_type": "execute_result"
    }
   ],
   "source": [
    "combine_df['保险实缴/人数'].describe()"
   ]
  },
  {
   "cell_type": "code",
   "execution_count": 73,
   "metadata": {
    "ExecuteTime": {
     "end_time": "2019-03-30T18:30:22.583721Z",
     "start_time": "2019-03-30T18:30:22.566010Z"
    }
   },
   "outputs": [
    {
     "data": {
      "text/plain": [
       "count    2.412000e+03\n",
       "mean     1.813158e+07\n",
       "std      1.587298e+08\n",
       "min      0.000000e+00\n",
       "25%      5.983107e+03\n",
       "50%      3.823452e+04\n",
       "75%      7.774641e+04\n",
       "max      4.818387e+09\n",
       "Name: 基数/人数, dtype: float64"
      ]
     },
     "execution_count": 73,
     "metadata": {},
     "output_type": "execute_result"
    }
   ],
   "source": [
    "combine_df['基数/人数'].describe()"
   ]
  },
  {
   "cell_type": "code",
   "execution_count": 300,
   "metadata": {
    "ExecuteTime": {
     "end_time": "2019-03-30T17:39:04.332887Z",
     "start_time": "2019-03-30T17:39:03.418791Z"
    }
   },
   "outputs": [
    {
     "data": {
      "text/plain": [
       "<matplotlib.axes._subplots.AxesSubplot at 0x7f45874bbfd0>"
      ]
     },
     "execution_count": 300,
     "metadata": {},
     "output_type": "execute_result"
    },
    {
     "data": {
      "image/png": "[encoded data removed]",
      "text/plain": [
       "<Figure size 720x720 with 1 Axes>"
      ]
     },
     "metadata": {
      "needs_background": "light"
     },
     "output_type": "display_data"
    }
   ],
   "source": [
    "# combine_df['保险实缴费金额/人数'] = combine_df['保险实缴费金额/人数'].replace(np.inf, np.nan)\n",
    "# combine_df['保险实缴费金额/人数']\n",
    "# fig, ax = plt.subplots(figsize=(10, 10))\n",
    "# sns.distplot(combine_df['养老保险人数'], bins=20, ax=ax, color='r')\n",
    "# # distplot: 带分布形态的直方图, bins: 直方图数量\n",
    "# sns.kdeplot(combine_df['养老保险人数'], shade=True, ax=ax)\n",
    "# kdeplot: 核密度估计(kernel density estimation)\n",
    "# sns.regplot(x='养老保险人数', y='养老保险实缴费金额', data=combine_df, ax=ax)  # 线性回归关系"
   ]
  },
  {
   "cell_type": "code",
   "execution_count": null,
   "metadata": {},
   "outputs": [],
   "source": []
  }
 ],
 "metadata": {
  "kernelspec": {
   "display_name": "Python 3",
   "language": "python",
   "name": "python3"
  },
  "language_info": {
   "codemirror_mode": {
    "name": "ipython",
    "version": 3
   },
   "file_extension": ".py",
   "mimetype": "text/x-python",
   "name": "python",
   "nbconvert_exporter": "python",
   "pygments_lexer": "ipython3",
   "version": "3.6.8"
  },
  "toc": {
   "base_numbering": 1,
   "nav_menu": {},
   "number_sections": true,
   "sideBar": true,
   "skip_h1_title": false,
   "title_cell": "Table of Contents",
   "title_sidebar": "Contents",
   "toc_cell": false,
   "toc_position": {},
   "toc_section_display": true,
   "toc_window_display": false
  },
  "varInspector": {
   "cols": {
    "lenName": 16,
    "lenType": 16,
    "lenVar": 40
   },
   "kernels_config": {
    "python": {
     "delete_cmd_postfix": "",
     "delete_cmd_prefix": "del ",
     "library": "var_list.py",
     "varRefreshCmd": "print(var_dic_list())"
    },
    "r": {
     "delete_cmd_postfix": ") ",
     "delete_cmd_prefix": "rm(",
     "library": "var_list.r",
     "varRefreshCmd": "cat(var_dic_list()) "
    }
   },
   "types_to_exclude": [
    "module",
    "function",
    "builtin_function_or_method",
    "instance",
    "_Feature"
   ],
   "window_display": false
  }
 },
 "nbformat": 4,
 "nbformat_minor": 2
}
