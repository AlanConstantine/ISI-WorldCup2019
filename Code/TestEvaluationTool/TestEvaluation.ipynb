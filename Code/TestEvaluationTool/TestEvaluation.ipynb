{
 "cells": [
  {
   "cell_type": "code",
   "execution_count": 128,
   "metadata": {
    "ExecuteTime": {
     "end_time": "2019-03-13T01:36:06.213609Z",
     "start_time": "2019-03-13T01:36:06.205921Z"
    }
   },
   "outputs": [],
   "source": [
    "import pandas as pd\n",
    "import numpy as np\n",
    "import random\n",
    "import os\n",
    "from openpyxl import Workbook\n",
    "from openpyxl import load_workbook\n",
    "from scipy.stats import pearsonr\n",
    "from sklearn.metrics import mean_squared_error"
   ]
  },
  {
   "cell_type": "code",
   "execution_count": 88,
   "metadata": {
    "ExecuteTime": {
     "end_time": "2019-03-12T23:55:28.659919Z",
     "start_time": "2019-03-12T23:55:28.442317Z"
    }
   },
   "outputs": [],
   "source": [
    "real_data_raw = pd.read_excel(r'../../Data/CompInfo/企业评分.xlsx')\n",
    "output_path = r'../../Evaluation/mission1_predict.xlsx'"
   ]
  },
  {
   "cell_type": "code",
   "execution_count": 89,
   "metadata": {
    "ExecuteTime": {
     "end_time": "2019-03-12T23:55:28.670381Z",
     "start_time": "2019-03-12T23:55:28.661994Z"
    }
   },
   "outputs": [
    {
     "data": {
      "text/html": [
       "<div>\n",
       "<style scoped>\n",
       "    .dataframe tbody tr th:only-of-type {\n",
       "        vertical-align: middle;\n",
       "    }\n",
       "\n",
       "    .dataframe tbody tr th {\n",
       "        vertical-align: top;\n",
       "    }\n",
       "\n",
       "    .dataframe thead th {\n",
       "        text-align: right;\n",
       "    }\n",
       "</style>\n",
       "<table border=\"1\" class=\"dataframe\">\n",
       "  <thead>\n",
       "    <tr style=\"text-align: right;\">\n",
       "      <th></th>\n",
       "      <th>企业编号</th>\n",
       "      <th>企业总评分</th>\n",
       "    </tr>\n",
       "  </thead>\n",
       "  <tbody>\n",
       "    <tr>\n",
       "      <th>0</th>\n",
       "      <td>1001</td>\n",
       "      <td>75.374276</td>\n",
       "    </tr>\n",
       "    <tr>\n",
       "      <th>1</th>\n",
       "      <td>1002</td>\n",
       "      <td>79.830122</td>\n",
       "    </tr>\n",
       "  </tbody>\n",
       "</table>\n",
       "</div>"
      ],
      "text/plain": [
       "   企业编号      企业总评分\n",
       "0  1001  75.374276\n",
       "1  1002  79.830122"
      ]
     },
     "execution_count": 89,
     "metadata": {},
     "output_type": "execute_result"
    }
   ],
   "source": [
    "real_data_raw.head(n=2)"
   ]
  },
  {
   "cell_type": "code",
   "execution_count": 90,
   "metadata": {
    "ExecuteTime": {
     "end_time": "2019-03-12T23:55:28.746983Z",
     "start_time": "2019-03-12T23:55:28.673517Z"
    }
   },
   "outputs": [],
   "source": [
    "real_data = real_data_raw.copy()"
   ]
  },
  {
   "cell_type": "code",
   "execution_count": 91,
   "metadata": {
    "ExecuteTime": {
     "end_time": "2019-03-12T23:55:28.881297Z",
     "start_time": "2019-03-12T23:55:28.755141Z"
    }
   },
   "outputs": [],
   "source": [
    "rate = real_data['企业总评分']\n",
    "rate = rate.apply(np.round)\n",
    "real_data['企业总评分'] = rate.astype(int)"
   ]
  },
  {
   "cell_type": "code",
   "execution_count": 92,
   "metadata": {
    "ExecuteTime": {
     "end_time": "2019-03-12T23:55:28.946582Z",
     "start_time": "2019-03-12T23:55:28.884019Z"
    }
   },
   "outputs": [
    {
     "data": {
      "text/plain": [
       "0    73\n",
       "Name: 企业总评分, dtype: int64"
      ]
     },
     "execution_count": 92,
     "metadata": {},
     "output_type": "execute_result"
    }
   ],
   "source": [
    "real_data.loc[(real_data['企业编号'] == 1001), '企业总评分']-2"
   ]
  },
  {
   "cell_type": "code",
   "execution_count": 132,
   "metadata": {
    "ExecuteTime": {
     "end_time": "2019-03-13T01:38:12.445301Z",
     "start_time": "2019-03-13T01:38:12.427004Z"
    }
   },
   "outputs": [],
   "source": [
    "def convert(df, error_per, diff_num):\n",
    "    error_id = random.sample(range(1001, 4000), int(error_per*(3000)))\n",
    "    for e_id in error_id:\n",
    "        df.loc[(df['企业编号'] == e_id), '企业总评分'] = df.loc[(df['企业编号'] == e_id), '企业总评分']\\\n",
    "            + random.randint(-1*diff_num, diff_num)\n",
    "    c, p = pearsonr(df['企业总评分'].values, real_data['企业总评分'].values)\n",
    "    print('Random sample: %f' % error_per)\n",
    "    print('Margin of error: %f' % diff_num)\n",
    "    print('Mean squared error: %f' % mean_squared_error(df['企业总评分'].values, real_data['企业总评分'].values))\n",
    "    print('Pearsonr: %f' % c)\n",
    "    print('P: %f' % p)"
   ]
  },
  {
   "cell_type": "code",
   "execution_count": 143,
   "metadata": {
    "ExecuteTime": {
     "end_time": "2019-03-13T01:47:10.119274Z",
     "start_time": "2019-03-13T01:47:00.220585Z"
    }
   },
   "outputs": [
    {
     "name": "stdout",
     "output_type": "stream",
     "text": [
      "Random sample: 0.800000\n",
      "Margin of error: 1.000000\n",
      "Mean squared error: 0.543573\n",
      "Pearsonr: 0.989674\n",
      "P: 0.000000\n",
      "0.0\n"
     ]
    }
   ],
   "source": [
    "real_data_change = real_data.copy()\n",
    "convert(real_data_change, 0.8, 1)\n",
    "series = real_data_change['企业总评分']\n",
    "wb = load_workbook(filename=output_path)\n",
    "ws = wb.worksheets[0]\n",
    "for i in range(len(series)):\n",
    "    ws.cell(row=i+1, column=2).value = int(series[i])\n",
    "wb.save(output_path)\n",
    "# pd.read_excel(output_path).head(n=20)\n",
    "!java -jar ../../Evaluation/mission1_test.jar ../../Evaluation/mission1_real.xlsx ../../Evaluation/mission1_predict.xlsx"
   ]
  },
  {
   "cell_type": "markdown",
   "metadata": {},
   "source": [
    "|Random sample|Margin of error[-n,n]|Pearsonr|Mean squared error|jar Result|\n",
    "|---|---|---|---|---|\n",
    "|0.1 |1|0.99872|0.06678|0.00000|\n",
    "|0.1 |3|0.99226 |0.40367 |0.00000|\n",
    "|0.3 |2|0.98757 |0.65843 |0.00000|\n",
    "|0.3 |3|0.97796 |1.19666 |1.00000|\n",
    "|0.5 |1|0.99374 |0.32688 |0.00000|\n",
    "|0.5 |3|0.96317 |2.02638 |1.41421|\n",
    "|0.5 |5|0.91622 |5.07446 |2.23607|\n",
    "|0.8 |1|0.98967 |0.54357 |0.00000|\n",
    "|0.8 |2|0.97092 |1.56661 |1.00000|"
   ]
  },
  {
   "cell_type": "code",
   "execution_count": null,
   "metadata": {},
   "outputs": [],
   "source": []
  }
 ],
 "metadata": {
  "kernelspec": {
   "display_name": "Python 3",
   "language": "python",
   "name": "python3"
  },
  "language_info": {
   "codemirror_mode": {
    "name": "ipython",
    "version": 3
   },
   "file_extension": ".py",
   "mimetype": "text/x-python",
   "name": "python",
   "nbconvert_exporter": "python",
   "pygments_lexer": "ipython3",
   "version": "3.6.8"
  },
  "toc": {
   "base_numbering": 1,
   "nav_menu": {},
   "number_sections": true,
   "sideBar": true,
   "skip_h1_title": false,
   "title_cell": "Table of Contents",
   "title_sidebar": "Contents",
   "toc_cell": false,
   "toc_position": {},
   "toc_section_display": true,
   "toc_window_display": false
  },
  "varInspector": {
   "cols": {
    "lenName": 16,
    "lenType": 16,
    "lenVar": 40
   },
   "kernels_config": {
    "python": {
     "delete_cmd_postfix": "",
     "delete_cmd_prefix": "del ",
     "library": "var_list.py",
     "varRefreshCmd": "print(var_dic_list())"
    },
    "r": {
     "delete_cmd_postfix": ") ",
     "delete_cmd_prefix": "rm(",
     "library": "var_list.r",
     "varRefreshCmd": "cat(var_dic_list()) "
    }
   },
   "types_to_exclude": [
    "module",
    "function",
    "builtin_function_or_method",
    "instance",
    "_Feature"
   ],
   "window_display": false
  }
 },
 "nbformat": 4,
 "nbformat_minor": 2
}
