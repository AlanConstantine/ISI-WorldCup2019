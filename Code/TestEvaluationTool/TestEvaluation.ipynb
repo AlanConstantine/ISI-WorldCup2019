{
 "cells": [
  {
   "cell_type": "code",
   "execution_count": 87,
   "metadata": {
    "ExecuteTime": {
     "end_time": "2019-03-12T23:55:28.439231Z",
     "start_time": "2019-03-12T23:55:28.430516Z"
    }
   },
   "outputs": [],
   "source": [
    "import pandas as pd\n",
    "import numpy as np\n",
    "import random\n",
    "import os\n",
    "from openpyxl import Workbook\n",
    "from openpyxl import load_workbook\n",
    "from scipy.stats import pearsonr"
   ]
  },
  {
   "cell_type": "code",
   "execution_count": 88,
   "metadata": {
    "ExecuteTime": {
     "end_time": "2019-03-12T23:55:28.659919Z",
     "start_time": "2019-03-12T23:55:28.442317Z"
    }
   },
   "outputs": [],
   "source": [
    "real_data_raw = pd.read_excel(r'../../Data/CompInfo/企业评分.xlsx')\n",
    "output_path = r'../../Evaluation/mission1_predict.xlsx'"
   ]
  },
  {
   "cell_type": "code",
   "execution_count": 89,
   "metadata": {
    "ExecuteTime": {
     "end_time": "2019-03-12T23:55:28.670381Z",
     "start_time": "2019-03-12T23:55:28.661994Z"
    }
   },
   "outputs": [
    {
     "data": {
      "text/html": [
       "<div>\n",
       "<style scoped>\n",
       "    .dataframe tbody tr th:only-of-type {\n",
       "        vertical-align: middle;\n",
       "    }\n",
       "\n",
       "    .dataframe tbody tr th {\n",
       "        vertical-align: top;\n",
       "    }\n",
       "\n",
       "    .dataframe thead th {\n",
       "        text-align: right;\n",
       "    }\n",
       "</style>\n",
       "<table border=\"1\" class=\"dataframe\">\n",
       "  <thead>\n",
       "    <tr style=\"text-align: right;\">\n",
       "      <th></th>\n",
       "      <th>企业编号</th>\n",
       "      <th>企业总评分</th>\n",
       "    </tr>\n",
       "  </thead>\n",
       "  <tbody>\n",
       "    <tr>\n",
       "      <th>0</th>\n",
       "      <td>1001</td>\n",
       "      <td>75.374276</td>\n",
       "    </tr>\n",
       "    <tr>\n",
       "      <th>1</th>\n",
       "      <td>1002</td>\n",
       "      <td>79.830122</td>\n",
       "    </tr>\n",
       "  </tbody>\n",
       "</table>\n",
       "</div>"
      ],
      "text/plain": [
       "   企业编号      企业总评分\n",
       "0  1001  75.374276\n",
       "1  1002  79.830122"
      ]
     },
     "execution_count": 89,
     "metadata": {},
     "output_type": "execute_result"
    }
   ],
   "source": [
    "real_data_raw.head(n=2)"
   ]
  },
  {
   "cell_type": "code",
   "execution_count": 90,
   "metadata": {
    "ExecuteTime": {
     "end_time": "2019-03-12T23:55:28.746983Z",
     "start_time": "2019-03-12T23:55:28.673517Z"
    }
   },
   "outputs": [],
   "source": [
    "real_data = real_data_raw.copy()"
   ]
  },
  {
   "cell_type": "code",
   "execution_count": 91,
   "metadata": {
    "ExecuteTime": {
     "end_time": "2019-03-12T23:55:28.881297Z",
     "start_time": "2019-03-12T23:55:28.755141Z"
    }
   },
   "outputs": [],
   "source": [
    "rate = real_data['企业总评分']\n",
    "rate = rate.apply(np.round)\n",
    "real_data['企业总评分'] = rate.astype(int)"
   ]
  },
  {
   "cell_type": "code",
   "execution_count": 92,
   "metadata": {
    "ExecuteTime": {
     "end_time": "2019-03-12T23:55:28.946582Z",
     "start_time": "2019-03-12T23:55:28.884019Z"
    }
   },
   "outputs": [
    {
     "data": {
      "text/plain": [
       "0    73\n",
       "Name: 企业总评分, dtype: int64"
      ]
     },
     "execution_count": 92,
     "metadata": {},
     "output_type": "execute_result"
    }
   ],
   "source": [
    "real_data.loc[(real_data['企业编号'] == 1001), '企业总评分']-2"
   ]
  },
  {
   "cell_type": "code",
   "execution_count": 101,
   "metadata": {
    "ExecuteTime": {
     "end_time": "2019-03-13T00:09:51.419439Z",
     "start_time": "2019-03-13T00:09:51.401509Z"
    }
   },
   "outputs": [],
   "source": [
    "def convert(df, error_per, diff_num):\n",
    "    error_id = random.sample(range(1001, 4000), int(error_per*(3000)))\n",
    "    for e_id in error_id:\n",
    "        df.loc[(df['企业编号'] == e_id), '企业总评分'] = df.loc[(df['企业编号'] == e_id), '企业总评分']\\\n",
    "            + random.randint(-1*diff_num, diff_num)\n",
    "    c, p = pearsonr(df['企业总评分'].values, real_data['企业总评分'].values)\n",
    "    print('Random sample: %f' % error_per)\n",
    "    print('Margin of error: %f' % diff_num)\n",
    "    print('Pearsonr: %f' % c)\n",
    "    print('P: %f' % p)"
   ]
  },
  {
   "cell_type": "code",
   "execution_count": 104,
   "metadata": {
    "ExecuteTime": {
     "end_time": "2019-03-13T00:11:04.170811Z",
     "start_time": "2019-03-13T00:10:54.099610Z"
    }
   },
   "outputs": [
    {
     "name": "stdout",
     "output_type": "stream",
     "text": [
      "Random sample: 0.900000\n",
      "Margin of error: 20.000000\n",
      "Pearsonr: 0.407809\n",
      "P: 0.000000\n",
      "Unrecognized option: -\n",
      "Error: Could not create the Java Virtual Machine.\n",
      "Error: A fatal exception has occurred. Program will exit.\n"
     ]
    }
   ],
   "source": [
    "real_data_change = real_data.copy()\n",
    "convert(real_data_change, 0.9, 20)\n",
    "wb = load_workbook(output_path)\n",
    "ws = wb.active\n",
    "for i in range(len(series)):\n",
    "    ws.cell(row=i+1, column=2).value = int(series[i])\n",
    "wb.save(output_path)\n",
    "wb.close()\n",
    "!java - jar ../../Evaluation/mission1_test.jar ../../Evaluation/mission1_real.xlsx ../../Evaluation/mission1_predict.xlsx"
   ]
  },
  {
   "cell_type": "code",
   "execution_count": null,
   "metadata": {},
   "outputs": [],
   "source": []
  }
 ],
 "metadata": {
  "kernelspec": {
   "display_name": "Python 3",
   "language": "python",
   "name": "python3"
  },
  "language_info": {
   "codemirror_mode": {
    "name": "ipython",
    "version": 3
   },
   "file_extension": ".py",
   "mimetype": "text/x-python",
   "name": "python",
   "nbconvert_exporter": "python",
   "pygments_lexer": "ipython3",
   "version": "3.6.8"
  },
  "toc": {
   "base_numbering": 1,
   "nav_menu": {},
   "number_sections": true,
   "sideBar": true,
   "skip_h1_title": false,
   "title_cell": "Table of Contents",
   "title_sidebar": "Contents",
   "toc_cell": false,
   "toc_position": {},
   "toc_section_display": true,
   "toc_window_display": false
  },
  "varInspector": {
   "cols": {
    "lenName": 16,
    "lenType": 16,
    "lenVar": 40
   },
   "kernels_config": {
    "python": {
     "delete_cmd_postfix": "",
     "delete_cmd_prefix": "del ",
     "library": "var_list.py",
     "varRefreshCmd": "print(var_dic_list())"
    },
    "r": {
     "delete_cmd_postfix": ") ",
     "delete_cmd_prefix": "rm(",
     "library": "var_list.r",
     "varRefreshCmd": "cat(var_dic_list()) "
    }
   },
   "types_to_exclude": [
    "module",
    "function",
    "builtin_function_or_method",
    "instance",
    "_Feature"
   ],
   "window_display": false
  }
 },
 "nbformat": 4,
 "nbformat_minor": 2
}
