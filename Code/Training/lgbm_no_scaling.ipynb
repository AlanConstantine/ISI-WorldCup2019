{
 "cells": [
  {
   "cell_type": "code",
   "execution_count": 42,
   "metadata": {
    "ExecuteTime": {
     "end_time": "2019-04-09T03:18:10.294010Z",
     "start_time": "2019-04-09T03:18:10.277587Z"
    }
   },
   "outputs": [],
   "source": [
    "from IPython.display import display\n",
    "import numpy as np\n",
    "# import modin.pandas as pd\n",
    "import pandas as pd\n",
    "import datetime\n",
    "import gc\n",
    "import matplotlib.pyplot as plt\n",
    "import seaborn as sns\n",
    "import lightgbm as lgb\n",
    "from sklearn.model_selection import StratifiedKFold\n",
    "from sklearn.metrics import mean_squared_error\n",
    "from sklearn.model_selection import KFold\n",
    "import warnings\n",
    "import time\n",
    "warnings.filterwarnings('ignore')\n",
    "\n",
    "plt.style.use(\"fivethirtyeight\")\n",
    "sns.set_style({'font.sans-serif': ['simsun', 'Arial']})\n",
    "sns.set_style('darkgrid', {'font.sans-serif': ['simhei', 'Arial']})\n",
    "%matplotlib inline\n",
    "\n",
    "np.random.seed(4590)\n",
    "\n",
    "nf_data_path = r'../../Data/noFinacialFeatures.csv'\n",
    "f_data_path = r''"
   ]
  },
  {
   "cell_type": "code",
   "execution_count": 9,
   "metadata": {
    "ExecuteTime": {
     "end_time": "2019-04-09T02:11:13.104345Z",
     "start_time": "2019-04-09T02:11:12.965272Z"
    }
   },
   "outputs": [
    {
     "data": {
      "text/html": [
       "<div>\n",
       "<style scoped>\n",
       "    .dataframe tbody tr th:only-of-type {\n",
       "        vertical-align: middle;\n",
       "    }\n",
       "\n",
       "    .dataframe tbody tr th {\n",
       "        vertical-align: top;\n",
       "    }\n",
       "\n",
       "    .dataframe thead th {\n",
       "        text-align: right;\n",
       "    }\n",
       "</style>\n",
       "<table border=\"1\" class=\"dataframe\">\n",
       "  <thead>\n",
       "    <tr style=\"text-align: right;\">\n",
       "      <th></th>\n",
       "      <th>企业编号</th>\n",
       "      <th>企业总评分</th>\n",
       "      <th>软著数量</th>\n",
       "      <th>作品著作数量</th>\n",
       "      <th>项目数量</th>\n",
       "      <th>纳税A级年份_2014</th>\n",
       "      <th>纳税A级年份_2015</th>\n",
       "      <th>纳税A级年份_2016</th>\n",
       "      <th>纳税A级年份_2017</th>\n",
       "      <th>资质证书数量</th>\n",
       "      <th>...</th>\n",
       "      <th>票面利率（%）_max</th>\n",
       "      <th>票面利率（%）_min</th>\n",
       "      <th>票面利率（%）_std</th>\n",
       "      <th>计划发行总额（亿元）_sum</th>\n",
       "      <th>计划发行总额（亿元）_max</th>\n",
       "      <th>计划发行总额（亿元）_min</th>\n",
       "      <th>计划发行总额（亿元）_std</th>\n",
       "      <th>城镇职工基本养老保险人数</th>\n",
       "      <th>保险实缴/人数</th>\n",
       "      <th>基数/人数</th>\n",
       "    </tr>\n",
       "  </thead>\n",
       "  <tbody>\n",
       "    <tr>\n",
       "      <th>0</th>\n",
       "      <td>1001</td>\n",
       "      <td>75.374276</td>\n",
       "      <td>1.0</td>\n",
       "      <td>1.0</td>\n",
       "      <td>1.0</td>\n",
       "      <td>1.0</td>\n",
       "      <td>2.0</td>\n",
       "      <td>1.0</td>\n",
       "      <td>1.0</td>\n",
       "      <td>9.0</td>\n",
       "      <td>...</td>\n",
       "      <td>0.00</td>\n",
       "      <td>0.00</td>\n",
       "      <td>0.000000</td>\n",
       "      <td>0.0</td>\n",
       "      <td>0.0</td>\n",
       "      <td>0.0</td>\n",
       "      <td>0.000000</td>\n",
       "      <td>2176</td>\n",
       "      <td>17910.412479</td>\n",
       "      <td>43390.918022</td>\n",
       "    </tr>\n",
       "    <tr>\n",
       "      <th>1</th>\n",
       "      <td>1002</td>\n",
       "      <td>79.830122</td>\n",
       "      <td>2.0</td>\n",
       "      <td>0.0</td>\n",
       "      <td>1.0</td>\n",
       "      <td>1.0</td>\n",
       "      <td>1.0</td>\n",
       "      <td>2.0</td>\n",
       "      <td>0.0</td>\n",
       "      <td>0.0</td>\n",
       "      <td>...</td>\n",
       "      <td>4.35</td>\n",
       "      <td>3.05</td>\n",
       "      <td>0.712039</td>\n",
       "      <td>38.0</td>\n",
       "      <td>10.0</td>\n",
       "      <td>3.0</td>\n",
       "      <td>2.943920</td>\n",
       "      <td>2176</td>\n",
       "      <td>17910.412479</td>\n",
       "      <td>43390.918022</td>\n",
       "    </tr>\n",
       "    <tr>\n",
       "      <th>2</th>\n",
       "      <td>1003</td>\n",
       "      <td>78.318264</td>\n",
       "      <td>2.0</td>\n",
       "      <td>0.0</td>\n",
       "      <td>1.0</td>\n",
       "      <td>1.0</td>\n",
       "      <td>1.0</td>\n",
       "      <td>0.0</td>\n",
       "      <td>1.0</td>\n",
       "      <td>442.0</td>\n",
       "      <td>...</td>\n",
       "      <td>0.00</td>\n",
       "      <td>0.00</td>\n",
       "      <td>0.000000</td>\n",
       "      <td>0.0</td>\n",
       "      <td>0.0</td>\n",
       "      <td>0.0</td>\n",
       "      <td>0.000000</td>\n",
       "      <td>2176</td>\n",
       "      <td>17910.412479</td>\n",
       "      <td>43390.918022</td>\n",
       "    </tr>\n",
       "    <tr>\n",
       "      <th>3</th>\n",
       "      <td>1004</td>\n",
       "      <td>83.253376</td>\n",
       "      <td>0.0</td>\n",
       "      <td>6.0</td>\n",
       "      <td>1.0</td>\n",
       "      <td>0.0</td>\n",
       "      <td>0.0</td>\n",
       "      <td>2.0</td>\n",
       "      <td>1.0</td>\n",
       "      <td>1.0</td>\n",
       "      <td>...</td>\n",
       "      <td>5.50</td>\n",
       "      <td>3.88</td>\n",
       "      <td>0.580836</td>\n",
       "      <td>29.0</td>\n",
       "      <td>10.0</td>\n",
       "      <td>4.0</td>\n",
       "      <td>2.387467</td>\n",
       "      <td>2176</td>\n",
       "      <td>17910.412479</td>\n",
       "      <td>43390.918022</td>\n",
       "    </tr>\n",
       "    <tr>\n",
       "      <th>4</th>\n",
       "      <td>1005</td>\n",
       "      <td>83.291493</td>\n",
       "      <td>6.0</td>\n",
       "      <td>0.0</td>\n",
       "      <td>1.0</td>\n",
       "      <td>0.0</td>\n",
       "      <td>0.0</td>\n",
       "      <td>0.0</td>\n",
       "      <td>0.0</td>\n",
       "      <td>5.0</td>\n",
       "      <td>...</td>\n",
       "      <td>5.30</td>\n",
       "      <td>3.30</td>\n",
       "      <td>0.628865</td>\n",
       "      <td>70.0</td>\n",
       "      <td>10.0</td>\n",
       "      <td>3.0</td>\n",
       "      <td>2.943920</td>\n",
       "      <td>2176</td>\n",
       "      <td>17910.412479</td>\n",
       "      <td>43390.918022</td>\n",
       "    </tr>\n",
       "  </tbody>\n",
       "</table>\n",
       "<p>5 rows × 92 columns</p>\n",
       "</div>"
      ],
      "text/plain": [
       "   企业编号      企业总评分  软著数量  作品著作数量  项目数量  纳税A级年份_2014  纳税A级年份_2015  纳税A级年份_2016  \\\n",
       "0  1001  75.374276   1.0     1.0   1.0          1.0          2.0          1.0   \n",
       "1  1002  79.830122   2.0     0.0   1.0          1.0          1.0          2.0   \n",
       "2  1003  78.318264   2.0     0.0   1.0          1.0          1.0          0.0   \n",
       "3  1004  83.253376   0.0     6.0   1.0          0.0          0.0          2.0   \n",
       "4  1005  83.291493   6.0     0.0   1.0          0.0          0.0          0.0   \n",
       "\n",
       "   纳税A级年份_2017  资质证书数量  ...  票面利率（%）_max  票面利率（%）_min  票面利率（%）_std  \\\n",
       "0          1.0     9.0  ...         0.00         0.00     0.000000   \n",
       "1          0.0     0.0  ...         4.35         3.05     0.712039   \n",
       "2          1.0   442.0  ...         0.00         0.00     0.000000   \n",
       "3          1.0     1.0  ...         5.50         3.88     0.580836   \n",
       "4          0.0     5.0  ...         5.30         3.30     0.628865   \n",
       "\n",
       "   计划发行总额（亿元）_sum  计划发行总额（亿元）_max  计划发行总额（亿元）_min  计划发行总额（亿元）_std  \\\n",
       "0             0.0             0.0             0.0        0.000000   \n",
       "1            38.0            10.0             3.0        2.943920   \n",
       "2             0.0             0.0             0.0        0.000000   \n",
       "3            29.0            10.0             4.0        2.387467   \n",
       "4            70.0            10.0             3.0        2.943920   \n",
       "\n",
       "   城镇职工基本养老保险人数       保险实缴/人数         基数/人数  \n",
       "0          2176  17910.412479  43390.918022  \n",
       "1          2176  17910.412479  43390.918022  \n",
       "2          2176  17910.412479  43390.918022  \n",
       "3          2176  17910.412479  43390.918022  \n",
       "4          2176  17910.412479  43390.918022  \n",
       "\n",
       "[5 rows x 92 columns]"
      ]
     },
     "execution_count": 9,
     "metadata": {},
     "output_type": "execute_result"
    }
   ],
   "source": [
    "nf_df = pd.read_csv(nf_data_path)\n",
    "nf_df.head(5)"
   ]
  },
  {
   "cell_type": "code",
   "execution_count": 10,
   "metadata": {
    "ExecuteTime": {
     "end_time": "2019-04-09T02:12:39.377902Z",
     "start_time": "2019-04-09T02:12:39.375444Z"
    }
   },
   "outputs": [],
   "source": [
    "# f_df = pd.read_csv(f_data_path)\n",
    "# f_df.head(5)"
   ]
  },
  {
   "cell_type": "code",
   "execution_count": 33,
   "metadata": {
    "ExecuteTime": {
     "end_time": "2019-04-09T03:16:58.654060Z",
     "start_time": "2019-04-09T03:16:58.649615Z"
    }
   },
   "outputs": [],
   "source": [
    "df = nf_df.copy()"
   ]
  },
  {
   "cell_type": "code",
   "execution_count": 34,
   "metadata": {
    "ExecuteTime": {
     "end_time": "2019-04-09T03:16:59.395057Z",
     "start_time": "2019-04-09T03:16:59.382861Z"
    }
   },
   "outputs": [],
   "source": [
    "ytrain = df['企业总评分']\n",
    "id_train = df['企业编号']\n",
    "xtrain = df.drop(['企业编号', '企业总评分'], axis=1)"
   ]
  },
  {
   "cell_type": "code",
   "execution_count": 35,
   "metadata": {
    "ExecuteTime": {
     "end_time": "2019-04-09T03:17:01.031130Z",
     "start_time": "2019-04-09T03:17:01.026140Z"
    }
   },
   "outputs": [
    {
     "data": {
      "text/plain": [
       "(2956, 90)"
      ]
     },
     "execution_count": 35,
     "metadata": {},
     "output_type": "execute_result"
    }
   ],
   "source": [
    "xtrain.shape"
   ]
  },
  {
   "cell_type": "code",
   "execution_count": 36,
   "metadata": {
    "ExecuteTime": {
     "end_time": "2019-04-09T03:17:02.010729Z",
     "start_time": "2019-04-09T03:17:01.978612Z"
    }
   },
   "outputs": [
    {
     "data": {
      "text/html": [
       "<div>\n",
       "<style scoped>\n",
       "    .dataframe tbody tr th:only-of-type {\n",
       "        vertical-align: middle;\n",
       "    }\n",
       "\n",
       "    .dataframe tbody tr th {\n",
       "        vertical-align: top;\n",
       "    }\n",
       "\n",
       "    .dataframe thead th {\n",
       "        text-align: right;\n",
       "    }\n",
       "</style>\n",
       "<table border=\"1\" class=\"dataframe\">\n",
       "  <thead>\n",
       "    <tr style=\"text-align: right;\">\n",
       "      <th></th>\n",
       "      <th>软著数量</th>\n",
       "      <th>作品著作数量</th>\n",
       "      <th>项目数量</th>\n",
       "      <th>纳税A级年份_2014</th>\n",
       "      <th>纳税A级年份_2015</th>\n",
       "      <th>纳税A级年份_2016</th>\n",
       "      <th>纳税A级年份_2017</th>\n",
       "      <th>资质证书数量</th>\n",
       "      <th>android</th>\n",
       "      <th>ios</th>\n",
       "      <th>...</th>\n",
       "      <th>票面利率（%）_max</th>\n",
       "      <th>票面利率（%）_min</th>\n",
       "      <th>票面利率（%）_std</th>\n",
       "      <th>计划发行总额（亿元）_sum</th>\n",
       "      <th>计划发行总额（亿元）_max</th>\n",
       "      <th>计划发行总额（亿元）_min</th>\n",
       "      <th>计划发行总额（亿元）_std</th>\n",
       "      <th>城镇职工基本养老保险人数</th>\n",
       "      <th>保险实缴/人数</th>\n",
       "      <th>基数/人数</th>\n",
       "    </tr>\n",
       "  </thead>\n",
       "  <tbody>\n",
       "    <tr>\n",
       "      <th>0</th>\n",
       "      <td>1.0</td>\n",
       "      <td>1.0</td>\n",
       "      <td>1.0</td>\n",
       "      <td>1.0</td>\n",
       "      <td>2.0</td>\n",
       "      <td>1.0</td>\n",
       "      <td>1.0</td>\n",
       "      <td>9.0</td>\n",
       "      <td>4.0</td>\n",
       "      <td>10.0</td>\n",
       "      <td>...</td>\n",
       "      <td>0.00</td>\n",
       "      <td>0.00</td>\n",
       "      <td>0.000000</td>\n",
       "      <td>0.0</td>\n",
       "      <td>0.0</td>\n",
       "      <td>0.0</td>\n",
       "      <td>0.000000</td>\n",
       "      <td>2176</td>\n",
       "      <td>17910.412479</td>\n",
       "      <td>43390.918022</td>\n",
       "    </tr>\n",
       "    <tr>\n",
       "      <th>1</th>\n",
       "      <td>2.0</td>\n",
       "      <td>0.0</td>\n",
       "      <td>1.0</td>\n",
       "      <td>1.0</td>\n",
       "      <td>1.0</td>\n",
       "      <td>2.0</td>\n",
       "      <td>0.0</td>\n",
       "      <td>0.0</td>\n",
       "      <td>1.0</td>\n",
       "      <td>6.0</td>\n",
       "      <td>...</td>\n",
       "      <td>4.35</td>\n",
       "      <td>3.05</td>\n",
       "      <td>0.712039</td>\n",
       "      <td>38.0</td>\n",
       "      <td>10.0</td>\n",
       "      <td>3.0</td>\n",
       "      <td>2.943920</td>\n",
       "      <td>2176</td>\n",
       "      <td>17910.412479</td>\n",
       "      <td>43390.918022</td>\n",
       "    </tr>\n",
       "    <tr>\n",
       "      <th>2</th>\n",
       "      <td>2.0</td>\n",
       "      <td>0.0</td>\n",
       "      <td>1.0</td>\n",
       "      <td>1.0</td>\n",
       "      <td>1.0</td>\n",
       "      <td>0.0</td>\n",
       "      <td>1.0</td>\n",
       "      <td>442.0</td>\n",
       "      <td>0.0</td>\n",
       "      <td>0.0</td>\n",
       "      <td>...</td>\n",
       "      <td>0.00</td>\n",
       "      <td>0.00</td>\n",
       "      <td>0.000000</td>\n",
       "      <td>0.0</td>\n",
       "      <td>0.0</td>\n",
       "      <td>0.0</td>\n",
       "      <td>0.000000</td>\n",
       "      <td>2176</td>\n",
       "      <td>17910.412479</td>\n",
       "      <td>43390.918022</td>\n",
       "    </tr>\n",
       "    <tr>\n",
       "      <th>3</th>\n",
       "      <td>0.0</td>\n",
       "      <td>6.0</td>\n",
       "      <td>1.0</td>\n",
       "      <td>0.0</td>\n",
       "      <td>0.0</td>\n",
       "      <td>2.0</td>\n",
       "      <td>1.0</td>\n",
       "      <td>1.0</td>\n",
       "      <td>2.0</td>\n",
       "      <td>2.0</td>\n",
       "      <td>...</td>\n",
       "      <td>5.50</td>\n",
       "      <td>3.88</td>\n",
       "      <td>0.580836</td>\n",
       "      <td>29.0</td>\n",
       "      <td>10.0</td>\n",
       "      <td>4.0</td>\n",
       "      <td>2.387467</td>\n",
       "      <td>2176</td>\n",
       "      <td>17910.412479</td>\n",
       "      <td>43390.918022</td>\n",
       "    </tr>\n",
       "    <tr>\n",
       "      <th>4</th>\n",
       "      <td>6.0</td>\n",
       "      <td>0.0</td>\n",
       "      <td>1.0</td>\n",
       "      <td>0.0</td>\n",
       "      <td>0.0</td>\n",
       "      <td>0.0</td>\n",
       "      <td>0.0</td>\n",
       "      <td>5.0</td>\n",
       "      <td>0.0</td>\n",
       "      <td>0.0</td>\n",
       "      <td>...</td>\n",
       "      <td>5.30</td>\n",
       "      <td>3.30</td>\n",
       "      <td>0.628865</td>\n",
       "      <td>70.0</td>\n",
       "      <td>10.0</td>\n",
       "      <td>3.0</td>\n",
       "      <td>2.943920</td>\n",
       "      <td>2176</td>\n",
       "      <td>17910.412479</td>\n",
       "      <td>43390.918022</td>\n",
       "    </tr>\n",
       "  </tbody>\n",
       "</table>\n",
       "<p>5 rows × 90 columns</p>\n",
       "</div>"
      ],
      "text/plain": [
       "   软著数量  作品著作数量  项目数量  纳税A级年份_2014  纳税A级年份_2015  纳税A级年份_2016  纳税A级年份_2017  \\\n",
       "0   1.0     1.0   1.0          1.0          2.0          1.0          1.0   \n",
       "1   2.0     0.0   1.0          1.0          1.0          2.0          0.0   \n",
       "2   2.0     0.0   1.0          1.0          1.0          0.0          1.0   \n",
       "3   0.0     6.0   1.0          0.0          0.0          2.0          1.0   \n",
       "4   6.0     0.0   1.0          0.0          0.0          0.0          0.0   \n",
       "\n",
       "   资质证书数量  android   ios  ...  票面利率（%）_max  票面利率（%）_min  票面利率（%）_std  \\\n",
       "0     9.0      4.0  10.0  ...         0.00         0.00     0.000000   \n",
       "1     0.0      1.0   6.0  ...         4.35         3.05     0.712039   \n",
       "2   442.0      0.0   0.0  ...         0.00         0.00     0.000000   \n",
       "3     1.0      2.0   2.0  ...         5.50         3.88     0.580836   \n",
       "4     5.0      0.0   0.0  ...         5.30         3.30     0.628865   \n",
       "\n",
       "   计划发行总额（亿元）_sum  计划发行总额（亿元）_max  计划发行总额（亿元）_min  计划发行总额（亿元）_std  \\\n",
       "0             0.0             0.0             0.0        0.000000   \n",
       "1            38.0            10.0             3.0        2.943920   \n",
       "2             0.0             0.0             0.0        0.000000   \n",
       "3            29.0            10.0             4.0        2.387467   \n",
       "4            70.0            10.0             3.0        2.943920   \n",
       "\n",
       "   城镇职工基本养老保险人数       保险实缴/人数         基数/人数  \n",
       "0          2176  17910.412479  43390.918022  \n",
       "1          2176  17910.412479  43390.918022  \n",
       "2          2176  17910.412479  43390.918022  \n",
       "3          2176  17910.412479  43390.918022  \n",
       "4          2176  17910.412479  43390.918022  \n",
       "\n",
       "[5 rows x 90 columns]"
      ]
     },
     "execution_count": 36,
     "metadata": {},
     "output_type": "execute_result"
    }
   ],
   "source": [
    "xtrain.head(5)"
   ]
  },
  {
   "cell_type": "code",
   "execution_count": 49,
   "metadata": {
    "ExecuteTime": {
     "end_time": "2019-04-09T03:23:30.128310Z",
     "start_time": "2019-04-09T03:23:30.121912Z"
    }
   },
   "outputs": [],
   "source": [
    "xtest = xtrain[:1000]\n",
    "id_test = df['企业编号'][:1000]"
   ]
  },
  {
   "cell_type": "code",
   "execution_count": 45,
   "metadata": {
    "ExecuteTime": {
     "end_time": "2019-04-09T03:19:45.596005Z",
     "start_time": "2019-04-09T03:19:45.592003Z"
    }
   },
   "outputs": [],
   "source": [
    "nfolds = 10\n",
    "folds = KFold(n_splits=nfolds, shuffle=True, random_state=15)"
   ]
  },
  {
   "cell_type": "code",
   "execution_count": 46,
   "metadata": {
    "ExecuteTime": {
     "end_time": "2019-04-09T03:19:46.716294Z",
     "start_time": "2019-04-09T03:19:46.710910Z"
    }
   },
   "outputs": [],
   "source": [
    "param = {'num_leaves': 50,\n",
    "         'min_data_in_leaf': 30,\n",
    "         'objective': 'regression',\n",
    "         'max_depth': 10,\n",
    "         'learning_rate': 0.005,\n",
    "         \"min_child_samples\": 100,\n",
    "         \"boosting\": \"gbdt\",\n",
    "         \"feature_fraction\": 0.9,\n",
    "         \"bagging_freq\": 1,\n",
    "         \"bagging_fraction\": 0.9,\n",
    "         \"bagging_seed\": 11,\n",
    "         \"metric\": 'rmse',\n",
    "         \"lambda_l1\": 0.1,\n",
    "         \"verbosity\": -1}"
   ]
  },
  {
   "cell_type": "code",
   "execution_count": 47,
   "metadata": {
    "ExecuteTime": {
     "end_time": "2019-04-09T03:21:00.012364Z",
     "start_time": "2019-04-09T03:19:50.321308Z"
    }
   },
   "outputs": [
    {
     "name": "stdout",
     "output_type": "stream",
     "text": [
      "----\n",
      "fold n°0\n",
      "Training until validation scores don't improve for 150 rounds.\n",
      "[500]\ttraining's rmse: 2.55021\tvalid_1's rmse: 3.10164\n",
      "[1000]\ttraining's rmse: 2.15586\tvalid_1's rmse: 3.01932\n",
      "Early stopping, best iteration is:\n",
      "[1152]\ttraining's rmse: 2.0837\tvalid_1's rmse: 3.01603\n",
      "----\n",
      "fold n°1\n",
      "Training until validation scores don't improve for 150 rounds.\n",
      "[500]\ttraining's rmse: 2.53875\tvalid_1's rmse: 3.1842\n",
      "Early stopping, best iteration is:\n",
      "[745]\ttraining's rmse: 2.29966\tvalid_1's rmse: 3.15648\n",
      "----\n",
      "fold n°2\n",
      "Training until validation scores don't improve for 150 rounds.\n",
      "[500]\ttraining's rmse: 2.52204\tvalid_1's rmse: 3.18933\n",
      "Early stopping, best iteration is:\n",
      "[709]\ttraining's rmse: 2.31428\tvalid_1's rmse: 3.17174\n",
      "----\n",
      "fold n°3\n",
      "Training until validation scores don't improve for 150 rounds.\n",
      "[500]\ttraining's rmse: 2.54012\tvalid_1's rmse: 3.22204\n",
      "[1000]\ttraining's rmse: 2.13652\tvalid_1's rmse: 3.13606\n",
      "Early stopping, best iteration is:\n",
      "[1197]\ttraining's rmse: 2.04574\tvalid_1's rmse: 3.13019\n",
      "----\n",
      "fold n°4\n",
      "Training until validation scores don't improve for 150 rounds.\n",
      "[500]\ttraining's rmse: 2.55351\tvalid_1's rmse: 2.917\n",
      "Early stopping, best iteration is:\n",
      "[498]\ttraining's rmse: 2.55614\tvalid_1's rmse: 2.91638\n",
      "----\n",
      "fold n°5\n",
      "Training until validation scores don't improve for 150 rounds.\n",
      "[500]\ttraining's rmse: 2.54728\tvalid_1's rmse: 3.18981\n",
      "[1000]\ttraining's rmse: 2.17067\tvalid_1's rmse: 3.08594\n",
      "[1500]\ttraining's rmse: 1.9518\tvalid_1's rmse: 3.07252\n",
      "[2000]\ttraining's rmse: 1.78096\tvalid_1's rmse: 3.06351\n",
      "[2500]\ttraining's rmse: 1.63708\tvalid_1's rmse: 3.05866\n",
      "Early stopping, best iteration is:\n",
      "[2524]\ttraining's rmse: 1.63046\tvalid_1's rmse: 3.05818\n",
      "----\n",
      "fold n°6\n",
      "Training until validation scores don't improve for 150 rounds.\n",
      "[500]\ttraining's rmse: 2.52329\tvalid_1's rmse: 3.36065\n",
      "Early stopping, best iteration is:\n",
      "[605]\ttraining's rmse: 2.40501\tvalid_1's rmse: 3.34491\n",
      "----\n",
      "fold n°7\n",
      "Training until validation scores don't improve for 150 rounds.\n",
      "[500]\ttraining's rmse: 2.55437\tvalid_1's rmse: 3.12869\n",
      "[1000]\ttraining's rmse: 2.1676\tvalid_1's rmse: 3.04356\n",
      "Early stopping, best iteration is:\n",
      "[1106]\ttraining's rmse: 2.11885\tvalid_1's rmse: 3.04186\n",
      "----\n",
      "fold n°8\n",
      "Training until validation scores don't improve for 150 rounds.\n",
      "[500]\ttraining's rmse: 2.5306\tvalid_1's rmse: 3.21187\n",
      "[1000]\ttraining's rmse: 2.13488\tvalid_1's rmse: 3.1629\n",
      "Early stopping, best iteration is:\n",
      "[966]\ttraining's rmse: 2.15375\tvalid_1's rmse: 3.1612\n",
      "----\n",
      "fold n°9\n",
      "Training until validation scores don't improve for 150 rounds.\n",
      "[500]\ttraining's rmse: 2.55523\tvalid_1's rmse: 3.03511\n",
      "[1000]\ttraining's rmse: 2.15757\tvalid_1's rmse: 2.96225\n",
      "Early stopping, best iteration is:\n",
      "[1317]\ttraining's rmse: 2.0119\tvalid_1's rmse: 2.95382\n"
     ]
    }
   ],
   "source": [
    "feature_importance_df = np.zeros((xtrain.shape[1], nfolds))\n",
    "mvalid = np.zeros(len(xtrain))\n",
    "mfull = np.zeros(len(xtest))\n",
    "\n",
    "\n",
    "start = time.time()\n",
    "\n",
    "for fold_, (trn_idx, val_idx) in enumerate(folds.split(xtrain.values, ytrain.values)):\n",
    "    print('----')\n",
    "    print(\"fold n°{}\".format(fold_))\n",
    "\n",
    "    x0, y0 = xtrain.iloc[trn_idx], ytrain[trn_idx]\n",
    "    x1, y1 = xtrain.iloc[val_idx], ytrain[val_idx]\n",
    "\n",
    "    trn_data = lgb.Dataset(x0, label=y0)\n",
    "    val_data = lgb.Dataset(x1, label=y1)\n",
    "\n",
    "    num_round = 10000\n",
    "    clf = lgb.train(param, trn_data, num_round, valid_sets=[trn_data, val_data],\n",
    "                    verbose_eval=500, early_stopping_rounds=150)\n",
    "    mvalid[val_idx] = clf.predict(x1, num_iteration=clf.best_iteration)\n",
    "\n",
    "    feature_importance_df[:, fold_] = clf.feature_importance()\n",
    "\n",
    "    mfull += clf.predict(xtest,\n",
    "                         num_iteration=clf.best_iteration) / folds.n_splits"
   ]
  },
  {
   "cell_type": "code",
   "execution_count": 48,
   "metadata": {
    "ExecuteTime": {
     "end_time": "2019-04-09T03:21:50.448759Z",
     "start_time": "2019-04-09T03:21:47.501469Z"
    }
   },
   "outputs": [
    {
     "data": {
      "image/png": "[encoded data removed]",
      "text/plain": [
       "<Figure size 1008x1008 with 1 Axes>"
      ]
     },
     "metadata": {
      "needs_background": "light"
     },
     "output_type": "display_data"
    }
   ],
   "source": [
    "ximp = pd.DataFrame()\n",
    "ximp['feature'] = xtrain.columns\n",
    "ximp['importance'] = feature_importance_df.mean(axis=1)\n",
    "\n",
    "plt.figure(figsize=(14, 14))\n",
    "sns.barplot(x=\"importance\",\n",
    "            y=\"feature\",\n",
    "            data=ximp.sort_values(by=\"importance\",\n",
    "                                  ascending=False))\n",
    "plt.title('LightGBM Features (avg over folds)')\n",
    "plt.tight_layout()"
   ]
  },
  {
   "cell_type": "code",
   "execution_count": 51,
   "metadata": {
    "ExecuteTime": {
     "end_time": "2019-04-09T03:27:30.803258Z",
     "start_time": "2019-04-09T03:27:30.786299Z"
    }
   },
   "outputs": [],
   "source": [
    "xsub = pd.DataFrame()\n",
    "xsub['企业编号'] = id_test\n",
    "xsub['企业总评分'] = mfull.astype(int)\n",
    "xsub.to_csv('sub_lgb_no_scaling.csv', index=False)"
   ]
  },
  {
   "cell_type": "code",
   "execution_count": null,
   "metadata": {},
   "outputs": [],
   "source": []
  }
 ],
 "metadata": {
  "kernelspec": {
   "display_name": "Python 3",
   "language": "python",
   "name": "python3"
  },
  "language_info": {
   "codemirror_mode": {
    "name": "ipython",
    "version": 3
   },
   "file_extension": ".py",
   "mimetype": "text/x-python",
   "name": "python",
   "nbconvert_exporter": "python",
   "pygments_lexer": "ipython3",
   "version": "3.6.8"
  },
  "toc": {
   "base_numbering": 1,
   "nav_menu": {},
   "number_sections": true,
   "sideBar": true,
   "skip_h1_title": false,
   "title_cell": "Table of Contents",
   "title_sidebar": "Contents",
   "toc_cell": false,
   "toc_position": {},
   "toc_section_display": true,
   "toc_window_display": false
  },
  "varInspector": {
   "cols": {
    "lenName": 16,
    "lenType": 16,
    "lenVar": 40
   },
   "kernels_config": {
    "python": {
     "delete_cmd_postfix": "",
     "delete_cmd_prefix": "del ",
     "library": "var_list.py",
     "varRefreshCmd": "print(var_dic_list())"
    },
    "r": {
     "delete_cmd_postfix": ") ",
     "delete_cmd_prefix": "rm(",
     "library": "var_list.r",
     "varRefreshCmd": "cat(var_dic_list()) "
    }
   },
   "types_to_exclude": [
    "module",
    "function",
    "builtin_function_or_method",
    "instance",
    "_Feature"
   ],
   "window_display": false
  }
 },
 "nbformat": 4,
 "nbformat_minor": 2
}
