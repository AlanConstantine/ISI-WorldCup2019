{
 "cells": [
  {
   "cell_type": "code",
   "execution_count": 1,
   "metadata": {
    "ExecuteTime": {
     "end_time": "2019-04-23T15:01:58.181444Z",
     "start_time": "2019-04-23T15:01:56.769463Z"
    },
    "colab": {
     "base_uri": "https://localhost:8080/",
     "height": 389
    },
    "colab_type": "code",
    "id": "FkDMpgK2S4fd",
    "outputId": "18e1f750-8388-4568-f5df-8340bbe5003c"
   },
   "outputs": [
    {
     "data": {
      "text/html": [
       "<div>\n",
       "<style scoped>\n",
       "    .dataframe tbody tr th:only-of-type {\n",
       "        vertical-align: middle;\n",
       "    }\n",
       "\n",
       "    .dataframe tbody tr th {\n",
       "        vertical-align: top;\n",
       "    }\n",
       "\n",
       "    .dataframe thead th {\n",
       "        text-align: right;\n",
       "    }\n",
       "</style>\n",
       "<table border=\"1\" class=\"dataframe\">\n",
       "  <thead>\n",
       "    <tr style=\"text-align: right;\">\n",
       "      <th></th>\n",
       "      <th>企业编号</th>\n",
       "      <th>企业总评分</th>\n",
       "      <th>软著数量</th>\n",
       "      <th>作品著作数量</th>\n",
       "      <th>项目数量</th>\n",
       "      <th>纳税A级年份_2014</th>\n",
       "      <th>纳税A级年份_2015</th>\n",
       "      <th>纳税A级年份_2016</th>\n",
       "      <th>纳税A级年份_2017</th>\n",
       "      <th>纳税A级年份增长1</th>\n",
       "      <th>...</th>\n",
       "      <th>应收账款周转天数(天)_mean</th>\n",
       "      <th>应收账款周转天数(天)_max</th>\n",
       "      <th>应收账款周转天数(天)_min</th>\n",
       "      <th>应收账款周转天数(天)_std</th>\n",
       "      <th>应收账款周转天数(天)滚动增长_mean</th>\n",
       "      <th>存货周转天数(天)_mean</th>\n",
       "      <th>存货周转天数(天)_max</th>\n",
       "      <th>存货周转天数(天)_min</th>\n",
       "      <th>存货周转天数(天)_std</th>\n",
       "      <th>存货周转天数(天)滚动增长_mean</th>\n",
       "    </tr>\n",
       "  </thead>\n",
       "  <tbody>\n",
       "    <tr>\n",
       "      <th>0</th>\n",
       "      <td>1001</td>\n",
       "      <td>75.374276</td>\n",
       "      <td>1.0</td>\n",
       "      <td>1.0</td>\n",
       "      <td>1.0</td>\n",
       "      <td>1.0</td>\n",
       "      <td>2.0</td>\n",
       "      <td>1.0</td>\n",
       "      <td>1.0</td>\n",
       "      <td>1.0</td>\n",
       "      <td>...</td>\n",
       "      <td>107.589270</td>\n",
       "      <td>191.707773</td>\n",
       "      <td>63.791689</td>\n",
       "      <td>44.495607</td>\n",
       "      <td>0.151392</td>\n",
       "      <td>414.778035</td>\n",
       "      <td>1089.655763</td>\n",
       "      <td>176.283983</td>\n",
       "      <td>325.371499</td>\n",
       "      <td>1.562757</td>\n",
       "    </tr>\n",
       "    <tr>\n",
       "      <th>1</th>\n",
       "      <td>1002</td>\n",
       "      <td>79.830122</td>\n",
       "      <td>2.0</td>\n",
       "      <td>0.0</td>\n",
       "      <td>1.0</td>\n",
       "      <td>1.0</td>\n",
       "      <td>1.0</td>\n",
       "      <td>2.0</td>\n",
       "      <td>0.0</td>\n",
       "      <td>0.0</td>\n",
       "      <td>...</td>\n",
       "      <td>46.903333</td>\n",
       "      <td>56.590000</td>\n",
       "      <td>39.830000</td>\n",
       "      <td>6.234116</td>\n",
       "      <td>0.023916</td>\n",
       "      <td>6.506667</td>\n",
       "      <td>7.040000</td>\n",
       "      <td>5.010000</td>\n",
       "      <td>0.702335</td>\n",
       "      <td>0.045330</td>\n",
       "    </tr>\n",
       "    <tr>\n",
       "      <th>2</th>\n",
       "      <td>1003</td>\n",
       "      <td>78.318264</td>\n",
       "      <td>2.0</td>\n",
       "      <td>0.0</td>\n",
       "      <td>1.0</td>\n",
       "      <td>1.0</td>\n",
       "      <td>1.0</td>\n",
       "      <td>0.0</td>\n",
       "      <td>1.0</td>\n",
       "      <td>0.0</td>\n",
       "      <td>...</td>\n",
       "      <td>84.275556</td>\n",
       "      <td>139.910000</td>\n",
       "      <td>56.020000</td>\n",
       "      <td>33.143654</td>\n",
       "      <td>-0.040224</td>\n",
       "      <td>54.918889</td>\n",
       "      <td>75.540000</td>\n",
       "      <td>38.010000</td>\n",
       "      <td>11.089465</td>\n",
       "      <td>0.031792</td>\n",
       "    </tr>\n",
       "    <tr>\n",
       "      <th>3</th>\n",
       "      <td>1004</td>\n",
       "      <td>83.253376</td>\n",
       "      <td>0.0</td>\n",
       "      <td>6.0</td>\n",
       "      <td>1.0</td>\n",
       "      <td>0.0</td>\n",
       "      <td>0.0</td>\n",
       "      <td>2.0</td>\n",
       "      <td>1.0</td>\n",
       "      <td>0.0</td>\n",
       "      <td>...</td>\n",
       "      <td>26.720000</td>\n",
       "      <td>35.360000</td>\n",
       "      <td>17.290000</td>\n",
       "      <td>6.024438</td>\n",
       "      <td>0.081857</td>\n",
       "      <td>6.954444</td>\n",
       "      <td>7.900000</td>\n",
       "      <td>6.240000</td>\n",
       "      <td>0.618448</td>\n",
       "      <td>0.021711</td>\n",
       "    </tr>\n",
       "    <tr>\n",
       "      <th>4</th>\n",
       "      <td>1005</td>\n",
       "      <td>83.291493</td>\n",
       "      <td>6.0</td>\n",
       "      <td>0.0</td>\n",
       "      <td>1.0</td>\n",
       "      <td>0.0</td>\n",
       "      <td>0.0</td>\n",
       "      <td>0.0</td>\n",
       "      <td>0.0</td>\n",
       "      <td>0.0</td>\n",
       "      <td>...</td>\n",
       "      <td>94.050000</td>\n",
       "      <td>110.260000</td>\n",
       "      <td>77.850000</td>\n",
       "      <td>9.652235</td>\n",
       "      <td>0.012921</td>\n",
       "      <td>108.584444</td>\n",
       "      <td>357.190000</td>\n",
       "      <td>44.160000</td>\n",
       "      <td>101.728838</td>\n",
       "      <td>0.344086</td>\n",
       "    </tr>\n",
       "  </tbody>\n",
       "</table>\n",
       "<p>5 rows × 336 columns</p>\n",
       "</div>"
      ],
      "text/plain": [
       "   企业编号      企业总评分  软著数量  作品著作数量  项目数量  纳税A级年份_2014  纳税A级年份_2015  纳税A级年份_2016  \\\n",
       "0  1001  75.374276   1.0     1.0   1.0          1.0          2.0          1.0   \n",
       "1  1002  79.830122   2.0     0.0   1.0          1.0          1.0          2.0   \n",
       "2  1003  78.318264   2.0     0.0   1.0          1.0          1.0          0.0   \n",
       "3  1004  83.253376   0.0     6.0   1.0          0.0          0.0          2.0   \n",
       "4  1005  83.291493   6.0     0.0   1.0          0.0          0.0          0.0   \n",
       "\n",
       "   纳税A级年份_2017  纳税A级年份增长1  ...  应收账款周转天数(天)_mean  应收账款周转天数(天)_max  \\\n",
       "0          1.0        1.0  ...        107.589270       191.707773   \n",
       "1          0.0        0.0  ...         46.903333        56.590000   \n",
       "2          1.0        0.0  ...         84.275556       139.910000   \n",
       "3          1.0        0.0  ...         26.720000        35.360000   \n",
       "4          0.0        0.0  ...         94.050000       110.260000   \n",
       "\n",
       "   应收账款周转天数(天)_min  应收账款周转天数(天)_std  应收账款周转天数(天)滚动增长_mean  存货周转天数(天)_mean  \\\n",
       "0        63.791689        44.495607              0.151392      414.778035   \n",
       "1        39.830000         6.234116              0.023916        6.506667   \n",
       "2        56.020000        33.143654             -0.040224       54.918889   \n",
       "3        17.290000         6.024438              0.081857        6.954444   \n",
       "4        77.850000         9.652235              0.012921      108.584444   \n",
       "\n",
       "   存货周转天数(天)_max  存货周转天数(天)_min  存货周转天数(天)_std  存货周转天数(天)滚动增长_mean  \n",
       "0    1089.655763     176.283983     325.371499            1.562757  \n",
       "1       7.040000       5.010000       0.702335            0.045330  \n",
       "2      75.540000      38.010000      11.089465            0.031792  \n",
       "3       7.900000       6.240000       0.618448            0.021711  \n",
       "4     357.190000      44.160000     101.728838            0.344086  \n",
       "\n",
       "[5 rows x 336 columns]"
      ]
     },
     "execution_count": 1,
     "metadata": {},
     "output_type": "execute_result"
    }
   ],
   "source": [
    "from IPython.display import display\n",
    "import numpy as np\n",
    "# import modin.pandas as pd\n",
    "import pandas as pd\n",
    "import datetime\n",
    "import time\n",
    "import gc\n",
    "import matplotlib.pyplot as plt\n",
    "import seaborn as sns\n",
    "import lightgbm as lgb\n",
    "\n",
    "\n",
    "from sklearn.tree import DecisionTreeRegressor\n",
    "from sklearn.ensemble import AdaBoostRegressor\n",
    "from sklearn.ensemble import RandomForestRegressor\n",
    "from sklearn.ensemble import GradientBoostingRegressor\n",
    "from sklearn.linear_model import (\n",
    "    LinearRegression, Ridge, Lasso, RandomizedLasso)\n",
    "from sklearn.model_selection import StratifiedKFold\n",
    "from sklearn.model_selection import GridSearchCV\n",
    "from sklearn.metrics import mean_squared_error\n",
    "from sklearn.metrics import accuracy_score\n",
    "from sklearn.model_selection import KFold\n",
    "from sklearn.model_selection import train_test_split\n",
    "from sklearn.preprocessing import StandardScaler\n",
    "from sklearn.feature_selection import RFECV\n",
    "from sklearn.feature_selection import RFE, f_regression\n",
    "from sklearn.metrics import r2_score\n",
    "\n",
    "import itertools\n",
    "\n",
    "import warnings\n",
    "import json\n",
    "\n",
    "warnings.filterwarnings('ignore')\n",
    "\n",
    "plt.style.use(\"fivethirtyeight\")\n",
    "sns.set_style({'font.sans-serif': ['simsun', 'Arial']})\n",
    "sns.set_style('darkgrid', {'font.sans-serif': ['simhei', 'Arial']})\n",
    "%matplotlib inline\n",
    "\n",
    "# np.random.seed(4590)\n",
    "df = pd.read_csv(r'../../../Data/train_data.csv')\n",
    "df.head(5)\n"
   ]
  },
  {
   "cell_type": "code",
   "execution_count": 2,
   "metadata": {
    "ExecuteTime": {
     "end_time": "2019-04-23T15:02:00.500884Z",
     "start_time": "2019-04-23T15:02:00.389226Z"
    },
    "colab": {
     "base_uri": "https://localhost:8080/",
     "height": 34
    },
    "colab_type": "code",
    "id": "XAU1j-EfS4fr",
    "outputId": "d8845e48-e1f0-48cf-c593-f7458e13ae82",
    "scrolled": false
   },
   "outputs": [
    {
     "name": "stdout",
     "output_type": "stream",
     "text": [
      "(2364, 335) (592, 335) (2364,) (592,)\n"
     ]
    }
   ],
   "source": [
    "y = df[['企业编号', '企业总评分']]\n",
    "x = df.drop(['企业总评分'], axis=1)\n",
    "\n",
    "xtrain, xtest, ytrain, ytest = train_test_split(\n",
    "    x, y, test_size=0.2, random_state=31)\n",
    "ytrain_id = ytrain['企业编号']\n",
    "ytrain = ytrain['企业总评分']\n",
    "ytest_id = ytest['企业编号']\n",
    "ytest = ytest['企业总评分']\n",
    "print(xtrain.shape, xtest.shape, ytrain.shape, ytest.shape)\n",
    "\n",
    "id_train = xtrain['企业编号']\n",
    "id_test = xtest['企业编号']\n",
    "xtrain.drop(['企业编号'], axis=1, inplace=True)\n",
    "xtest.drop(['企业编号'], axis=1, inplace=True)\n",
    "feature_name=xtrain.columns.values"
   ]
  },
  {
   "cell_type": "markdown",
   "metadata": {
    "colab_type": "text",
    "id": "1ga64gTlWFlG"
   },
   "source": [
    "# RFE"
   ]
  },
  {
   "cell_type": "code",
   "execution_count": 3,
   "metadata": {
    "ExecuteTime": {
     "end_time": "2019-04-23T15:02:09.700636Z",
     "start_time": "2019-04-23T15:02:09.695998Z"
    },
    "colab": {},
    "colab_type": "code",
    "id": "7Mjpglb5a0e2"
   },
   "outputs": [],
   "source": [
    "estimator = lgb.LGBMRegressor(objective='regression',\n",
    "                              num_leaves=20,\n",
    "                              learning_rate=0.005,\n",
    "                              n_estimators=1500,\n",
    "                              max_depth=7,\n",
    "                              boosting='gbdt',\n",
    "                              metric='rmse',\n",
    "                              max_bin=35,\n",
    "                              n_jobs=-1,\n",
    "                              min_child_samples=100,\n",
    "                              bagging_seed=11,\n",
    "                              bagging_fraction=0.7,\n",
    "                              bagging_freq=1,\n",
    "                              min_data_in_leaf=20\n",
    "                             )"
   ]
  },
  {
   "cell_type": "code",
   "execution_count": 13,
   "metadata": {
    "ExecuteTime": {
     "end_time": "2019-04-22T22:00:29.905605Z",
     "start_time": "2019-04-22T14:23:43.561136Z"
    },
    "colab": {},
    "colab_type": "code",
    "id": "WPTcO-y2WEtg"
   },
   "outputs": [
    {
     "name": "stdout",
     "output_type": "stream",
     "text": [
      "269 3.0638521283170714\n",
      "264 3.0616603110561837\n",
      "259 3.0582776787114994\n",
      "254 3.061953415855858\n",
      "249 3.064838436713015\n",
      "244 3.0615766009893934\n",
      "239 3.060279022738049\n",
      "234 3.0600450908996812\n",
      "229 3.059858904321477\n",
      "224 3.061015185205892\n",
      "219 3.0615174770186724\n",
      "214 3.061374247166835\n",
      "209 3.0645782046830456\n",
      "204 3.0575176340169508\n",
      "199 3.05967670674765\n",
      "194 3.0575021421427078\n",
      "189 3.0574910247895892\n",
      "184 3.058271958504811\n",
      "179 3.059158845335394\n",
      "174 3.0589430725151074\n",
      "169 3.059898782543876\n",
      "164 3.058495131038808\n",
      "159 3.0610546350674945\n",
      "154 3.0636838111748896\n",
      "149 3.062313030109125\n",
      "144 3.057065568319598\n",
      "139 3.0610593012179006\n",
      "134 3.060521397964574\n",
      "129 3.061921885299704\n",
      "124 3.054093593848125\n"
     ]
    }
   ],
   "source": [
    "for i in range(334,120, -5):\n",
    "    selector = RFE(estimator, i, step=1)\n",
    "    selector = selector.fit(xtrain, ytrain)\n",
    "    pre=selector.predict(xtest)\n",
    "    print(i, np.sqrt(mean_squared_error(pre,ytest)))\n",
    "# The best is 124"
   ]
  },
  {
   "cell_type": "code",
   "execution_count": 4,
   "metadata": {
    "ExecuteTime": {
     "end_time": "2019-04-23T15:28:23.976892Z",
     "start_time": "2019-04-23T15:02:53.567993Z"
    }
   },
   "outputs": [
    {
     "ename": "NameError",
     "evalue": "name 'i' is not defined",
     "output_type": "error",
     "traceback": [
      "\u001b[0;31m---------------------------------------------------------------------------\u001b[0m",
      "\u001b[0;31mNameError\u001b[0m                                 Traceback (most recent call last)",
      "\u001b[0;32m<ipython-input-4-ce1da5d2cf4d>\u001b[0m in \u001b[0;36m<module>\u001b[0;34m\u001b[0m\n\u001b[1;32m      2\u001b[0m \u001b[0mselector\u001b[0m \u001b[0;34m=\u001b[0m \u001b[0mselector\u001b[0m\u001b[0;34m.\u001b[0m\u001b[0mfit\u001b[0m\u001b[0;34m(\u001b[0m\u001b[0mxtrain\u001b[0m\u001b[0;34m,\u001b[0m \u001b[0mytrain\u001b[0m\u001b[0;34m)\u001b[0m\u001b[0;34m\u001b[0m\u001b[0;34m\u001b[0m\u001b[0m\n\u001b[1;32m      3\u001b[0m \u001b[0mpre\u001b[0m\u001b[0;34m=\u001b[0m\u001b[0mselector\u001b[0m\u001b[0;34m.\u001b[0m\u001b[0mpredict\u001b[0m\u001b[0;34m(\u001b[0m\u001b[0mxtest\u001b[0m\u001b[0;34m)\u001b[0m\u001b[0;34m\u001b[0m\u001b[0;34m\u001b[0m\u001b[0m\n\u001b[0;32m----> 4\u001b[0;31m \u001b[0mprint\u001b[0m\u001b[0;34m(\u001b[0m\u001b[0mi\u001b[0m\u001b[0;34m,\u001b[0m \u001b[0mnp\u001b[0m\u001b[0;34m.\u001b[0m\u001b[0msqrt\u001b[0m\u001b[0;34m(\u001b[0m\u001b[0mmean_squared_error\u001b[0m\u001b[0;34m(\u001b[0m\u001b[0mpre\u001b[0m\u001b[0;34m,\u001b[0m\u001b[0mytest\u001b[0m\u001b[0;34m)\u001b[0m\u001b[0;34m)\u001b[0m\u001b[0;34m,\u001b[0m \u001b[0mr2_score\u001b[0m\u001b[0;34m(\u001b[0m\u001b[0mpre\u001b[0m\u001b[0;34m,\u001b[0m\u001b[0mytest\u001b[0m\u001b[0;34m)\u001b[0m\u001b[0;34m)\u001b[0m\u001b[0;34m\u001b[0m\u001b[0;34m\u001b[0m\u001b[0m\n\u001b[0m",
      "\u001b[0;31mNameError\u001b[0m: name 'i' is not defined"
     ]
    }
   ],
   "source": [
    "selector = RFE(estimator, 124, step=1)\n",
    "selector = selector.fit(xtrain, ytrain)\n",
    "pre=selector.predict(xtest)\n",
    "print(np.sqrt(mean_squared_error(pre,ytest)), r2_score(pre,ytest))"
   ]
  },
  {
   "cell_type": "markdown",
   "metadata": {
    "colab": {},
    "colab_type": "code",
    "id": "YVnF28rx5T7E"
   },
   "source": [
    "# Test data"
   ]
  },
  {
   "cell_type": "code",
   "execution_count": 7,
   "metadata": {
    "ExecuteTime": {
     "end_time": "2019-04-23T15:31:23.416604Z",
     "start_time": "2019-04-23T15:31:23.323100Z"
    }
   },
   "outputs": [],
   "source": [
    "test_df = pd.read_csv(r'../../../Data/test_data.csv')\n",
    "X_test = test_df.drop(['企业编号'], axis=1)\n",
    "X_test.replace([np.inf, -np.inf], np.nan, inplace=True)\n",
    "X_test = X_test.fillna(0)\n",
    "test_id = test_df['企业编号']"
   ]
  },
  {
   "cell_type": "code",
   "execution_count": 8,
   "metadata": {
    "ExecuteTime": {
     "end_time": "2019-04-23T15:31:37.556774Z",
     "start_time": "2019-04-23T15:31:37.524021Z"
    }
   },
   "outputs": [],
   "source": [
    "pre=selector.predict(X_test)"
   ]
  },
  {
   "cell_type": "code",
   "execution_count": 10,
   "metadata": {
    "ExecuteTime": {
     "end_time": "2019-04-23T15:32:01.204716Z",
     "start_time": "2019-04-23T15:32:01.153206Z"
    }
   },
   "outputs": [],
   "source": [
    "result=pd.DataFrame({\n",
    "    '企业编号':test_id,\n",
    "    'pre_rating':pd.Series(pre).astype(int)\n",
    "})\n",
    "\n",
    "result.to_excel(r'./赛题1结果_Trainee.xlsx', index=False,header=False)"
   ]
  },
  {
   "cell_type": "code",
   "execution_count": null,
   "metadata": {},
   "outputs": [],
   "source": []
  }
 ],
 "metadata": {
  "colab": {
   "collapsed_sections": [],
   "name": "lgbm_RFE.ipynb",
   "provenance": [],
   "toc_visible": true,
   "version": "0.3.2"
  },
  "kernelspec": {
   "display_name": "Python 3",
   "language": "python",
   "name": "python3"
  },
  "language_info": {
   "codemirror_mode": {
    "name": "ipython",
    "version": 3
   },
   "file_extension": ".py",
   "mimetype": "text/x-python",
   "name": "python",
   "nbconvert_exporter": "python",
   "pygments_lexer": "ipython3",
   "version": "3.6.8"
  },
  "toc": {
   "base_numbering": 1,
   "nav_menu": {},
   "number_sections": true,
   "sideBar": true,
   "skip_h1_title": false,
   "title_cell": "Table of Contents",
   "title_sidebar": "Contents",
   "toc_cell": false,
   "toc_position": {},
   "toc_section_display": true,
   "toc_window_display": false
  },
  "varInspector": {
   "cols": {
    "lenName": 16,
    "lenType": 16,
    "lenVar": 40
   },
   "kernels_config": {
    "python": {
     "delete_cmd_postfix": "",
     "delete_cmd_prefix": "del ",
     "library": "var_list.py",
     "varRefreshCmd": "print(var_dic_list())"
    },
    "r": {
     "delete_cmd_postfix": ") ",
     "delete_cmd_prefix": "rm(",
     "library": "var_list.r",
     "varRefreshCmd": "cat(var_dic_list()) "
    }
   },
   "types_to_exclude": [
    "module",
    "function",
    "builtin_function_or_method",
    "instance",
    "_Feature"
   ],
   "window_display": false
  }
 },
 "nbformat": 4,
 "nbformat_minor": 1
}
