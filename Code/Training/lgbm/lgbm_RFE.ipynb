{
  "nbformat": 4,
  "nbformat_minor": 0,
  "metadata": {
    "colab": {
      "name": "lgbm_RFE.ipynb",
      "version": "0.3.2",
      "provenance": [],
      "collapsed_sections": [
        "-z2Oa-RDS4fy",
        "LWs2rSKXS4f4",
        "knY2oMcMS4f9",
        "EjXw600fS4gA",
        "l2xXiw3DS4gD",
        "f0LZkwvUS4gI",
        "kc8ydOamYXac",
        "-49GtC8OYgwj"
      ],
      "toc_visible": true
    },
    "language_info": {
      "codemirror_mode": {
        "name": "ipython",
        "version": 3
      },
      "file_extension": ".py",
      "mimetype": "text/x-python",
      "name": "python",
      "nbconvert_exporter": "python",
      "pygments_lexer": "ipython3",
      "version": "3.6.8"
    },
    "kernelspec": {
      "display_name": "Python 3",
      "language": "python",
      "name": "python3"
    }
  },
  "cells": [
    {
      "metadata": {
        "ExecuteTime": {
          "end_time": "2019-04-12T17:12:48.443319Z",
          "start_time": "2019-04-12T17:12:48.430799Z"
        },
        "id": "FkDMpgK2S4fd",
        "colab_type": "code",
        "colab": {
          "base_uri": "https://localhost:8080/",
          "height": 389
        },
        "outputId": "662421ae-467f-4554-92ad-66f466dd9c8f"
      },
      "cell_type": "code",
      "source": [
        "from IPython.display import display\n",
        "import numpy as np\n",
        "# import modin.pandas as pd\n",
        "import pandas as pd\n",
        "import datetime\n",
        "import time\n",
        "import gc\n",
        "import matplotlib.pyplot as plt\n",
        "import seaborn as sns\n",
        "import lightgbm as lgb\n",
        "\n",
        "\n",
        "from sklearn.tree import DecisionTreeRegressor\n",
        "from sklearn.ensemble import AdaBoostRegressor\n",
        "from sklearn.ensemble import RandomForestRegressor\n",
        "from sklearn.ensemble import GradientBoostingRegressor\n",
        "from sklearn.linear_model import (\n",
        "    LinearRegression, Ridge, Lasso, RandomizedLasso)\n",
        "from sklearn.model_selection import StratifiedKFold\n",
        "from sklearn.model_selection import GridSearchCV\n",
        "from sklearn.metrics import mean_squared_error\n",
        "from sklearn.metrics import accuracy_score\n",
        "from sklearn.model_selection import KFold\n",
        "from sklearn.model_selection import train_test_split\n",
        "from sklearn.preprocessing import StandardScaler\n",
        "from sklearn.feature_selection import RFECV\n",
        "from sklearn.feature_selection import RFE, f_regression\n",
        "\n",
        "import itertools\n",
        "\n",
        "import warnings\n",
        "import json\n",
        "\n",
        "warnings.filterwarnings('ignore')\n",
        "\n",
        "plt.style.use(\"fivethirtyeight\")\n",
        "sns.set_style({'font.sans-serif': ['simsun', 'Arial']})\n",
        "sns.set_style('darkgrid', {'font.sans-serif': ['simhei', 'Arial']})\n",
        "%matplotlib inline\n",
        "\n",
        "# np.random.seed(4590)\n",
        "data_path = r'./train_data.csv'\n",
        "df = pd.read_csv(data_path)\n",
        "df.head(5)\n"
      ],
      "execution_count": 1,
      "outputs": [
        {
          "output_type": "execute_result",
          "data": {
            "text/html": [
              "<div>\n",
              "<style scoped>\n",
              "    .dataframe tbody tr th:only-of-type {\n",
              "        vertical-align: middle;\n",
              "    }\n",
              "\n",
              "    .dataframe tbody tr th {\n",
              "        vertical-align: top;\n",
              "    }\n",
              "\n",
              "    .dataframe thead th {\n",
              "        text-align: right;\n",
              "    }\n",
              "</style>\n",
              "<table border=\"1\" class=\"dataframe\">\n",
              "  <thead>\n",
              "    <tr style=\"text-align: right;\">\n",
              "      <th></th>\n",
              "      <th>企业编号</th>\n",
              "      <th>企业总评分</th>\n",
              "      <th>软著数量</th>\n",
              "      <th>作品著作数量</th>\n",
              "      <th>项目数量</th>\n",
              "      <th>纳税A级年份_2014</th>\n",
              "      <th>纳税A级年份_2015</th>\n",
              "      <th>纳税A级年份_2016</th>\n",
              "      <th>纳税A级年份_2017</th>\n",
              "      <th>纳税A级年份增长1</th>\n",
              "      <th>...</th>\n",
              "      <th>应收账款周转天数(天)_mean</th>\n",
              "      <th>应收账款周转天数(天)_max</th>\n",
              "      <th>应收账款周转天数(天)_min</th>\n",
              "      <th>应收账款周转天数(天)_std</th>\n",
              "      <th>应收账款周转天数(天)滚动增长_mean</th>\n",
              "      <th>存货周转天数(天)_mean</th>\n",
              "      <th>存货周转天数(天)_max</th>\n",
              "      <th>存货周转天数(天)_min</th>\n",
              "      <th>存货周转天数(天)_std</th>\n",
              "      <th>存货周转天数(天)滚动增长_mean</th>\n",
              "    </tr>\n",
              "  </thead>\n",
              "  <tbody>\n",
              "    <tr>\n",
              "      <th>0</th>\n",
              "      <td>1001</td>\n",
              "      <td>75.374276</td>\n",
              "      <td>1.0</td>\n",
              "      <td>1.0</td>\n",
              "      <td>1.0</td>\n",
              "      <td>1.0</td>\n",
              "      <td>2.0</td>\n",
              "      <td>1.0</td>\n",
              "      <td>1.0</td>\n",
              "      <td>1.0</td>\n",
              "      <td>...</td>\n",
              "      <td>107.589270</td>\n",
              "      <td>191.707773</td>\n",
              "      <td>63.791689</td>\n",
              "      <td>44.495607</td>\n",
              "      <td>0.151392</td>\n",
              "      <td>414.778035</td>\n",
              "      <td>1089.655763</td>\n",
              "      <td>176.283983</td>\n",
              "      <td>325.371499</td>\n",
              "      <td>1.562757</td>\n",
              "    </tr>\n",
              "    <tr>\n",
              "      <th>1</th>\n",
              "      <td>1002</td>\n",
              "      <td>79.830122</td>\n",
              "      <td>2.0</td>\n",
              "      <td>0.0</td>\n",
              "      <td>1.0</td>\n",
              "      <td>1.0</td>\n",
              "      <td>1.0</td>\n",
              "      <td>2.0</td>\n",
              "      <td>0.0</td>\n",
              "      <td>0.0</td>\n",
              "      <td>...</td>\n",
              "      <td>46.903333</td>\n",
              "      <td>56.590000</td>\n",
              "      <td>39.830000</td>\n",
              "      <td>6.234116</td>\n",
              "      <td>0.023916</td>\n",
              "      <td>6.506667</td>\n",
              "      <td>7.040000</td>\n",
              "      <td>5.010000</td>\n",
              "      <td>0.702335</td>\n",
              "      <td>0.045330</td>\n",
              "    </tr>\n",
              "    <tr>\n",
              "      <th>2</th>\n",
              "      <td>1003</td>\n",
              "      <td>78.318264</td>\n",
              "      <td>2.0</td>\n",
              "      <td>0.0</td>\n",
              "      <td>1.0</td>\n",
              "      <td>1.0</td>\n",
              "      <td>1.0</td>\n",
              "      <td>0.0</td>\n",
              "      <td>1.0</td>\n",
              "      <td>0.0</td>\n",
              "      <td>...</td>\n",
              "      <td>84.275556</td>\n",
              "      <td>139.910000</td>\n",
              "      <td>56.020000</td>\n",
              "      <td>33.143654</td>\n",
              "      <td>-0.040224</td>\n",
              "      <td>54.918889</td>\n",
              "      <td>75.540000</td>\n",
              "      <td>38.010000</td>\n",
              "      <td>11.089465</td>\n",
              "      <td>0.031792</td>\n",
              "    </tr>\n",
              "    <tr>\n",
              "      <th>3</th>\n",
              "      <td>1004</td>\n",
              "      <td>83.253376</td>\n",
              "      <td>0.0</td>\n",
              "      <td>6.0</td>\n",
              "      <td>1.0</td>\n",
              "      <td>0.0</td>\n",
              "      <td>0.0</td>\n",
              "      <td>2.0</td>\n",
              "      <td>1.0</td>\n",
              "      <td>0.0</td>\n",
              "      <td>...</td>\n",
              "      <td>26.720000</td>\n",
              "      <td>35.360000</td>\n",
              "      <td>17.290000</td>\n",
              "      <td>6.024438</td>\n",
              "      <td>0.081857</td>\n",
              "      <td>6.954444</td>\n",
              "      <td>7.900000</td>\n",
              "      <td>6.240000</td>\n",
              "      <td>0.618448</td>\n",
              "      <td>0.021711</td>\n",
              "    </tr>\n",
              "    <tr>\n",
              "      <th>4</th>\n",
              "      <td>1005</td>\n",
              "      <td>83.291493</td>\n",
              "      <td>6.0</td>\n",
              "      <td>0.0</td>\n",
              "      <td>1.0</td>\n",
              "      <td>0.0</td>\n",
              "      <td>0.0</td>\n",
              "      <td>0.0</td>\n",
              "      <td>0.0</td>\n",
              "      <td>0.0</td>\n",
              "      <td>...</td>\n",
              "      <td>94.050000</td>\n",
              "      <td>110.260000</td>\n",
              "      <td>77.850000</td>\n",
              "      <td>9.652235</td>\n",
              "      <td>0.012921</td>\n",
              "      <td>108.584444</td>\n",
              "      <td>357.190000</td>\n",
              "      <td>44.160000</td>\n",
              "      <td>101.728838</td>\n",
              "      <td>0.344086</td>\n",
              "    </tr>\n",
              "  </tbody>\n",
              "</table>\n",
              "<p>5 rows × 336 columns</p>\n",
              "</div>"
            ],
            "text/plain": [
              "   企业编号      企业总评分  软著数量  作品著作数量  项目数量  纳税A级年份_2014  纳税A级年份_2015  纳税A级年份_2016  \\\n",
              "0  1001  75.374276   1.0     1.0   1.0          1.0          2.0          1.0   \n",
              "1  1002  79.830122   2.0     0.0   1.0          1.0          1.0          2.0   \n",
              "2  1003  78.318264   2.0     0.0   1.0          1.0          1.0          0.0   \n",
              "3  1004  83.253376   0.0     6.0   1.0          0.0          0.0          2.0   \n",
              "4  1005  83.291493   6.0     0.0   1.0          0.0          0.0          0.0   \n",
              "\n",
              "   纳税A级年份_2017  纳税A级年份增长1         ...          应收账款周转天数(天)_mean  \\\n",
              "0          1.0        1.0         ...                107.589270   \n",
              "1          0.0        0.0         ...                 46.903333   \n",
              "2          1.0        0.0         ...                 84.275556   \n",
              "3          1.0        0.0         ...                 26.720000   \n",
              "4          0.0        0.0         ...                 94.050000   \n",
              "\n",
              "   应收账款周转天数(天)_max  应收账款周转天数(天)_min  应收账款周转天数(天)_std  应收账款周转天数(天)滚动增长_mean  \\\n",
              "0       191.707773        63.791689        44.495607              0.151392   \n",
              "1        56.590000        39.830000         6.234116              0.023916   \n",
              "2       139.910000        56.020000        33.143654             -0.040224   \n",
              "3        35.360000        17.290000         6.024438              0.081857   \n",
              "4       110.260000        77.850000         9.652235              0.012921   \n",
              "\n",
              "   存货周转天数(天)_mean  存货周转天数(天)_max  存货周转天数(天)_min  存货周转天数(天)_std  \\\n",
              "0      414.778035    1089.655763     176.283983     325.371499   \n",
              "1        6.506667       7.040000       5.010000       0.702335   \n",
              "2       54.918889      75.540000      38.010000      11.089465   \n",
              "3        6.954444       7.900000       6.240000       0.618448   \n",
              "4      108.584444     357.190000      44.160000     101.728838   \n",
              "\n",
              "   存货周转天数(天)滚动增长_mean  \n",
              "0            1.562757  \n",
              "1            0.045330  \n",
              "2            0.031792  \n",
              "3            0.021711  \n",
              "4            0.344086  \n",
              "\n",
              "[5 rows x 336 columns]"
            ]
          },
          "metadata": {
            "tags": []
          },
          "execution_count": 1
        }
      ]
    },
    {
      "metadata": {
        "ExecuteTime": {
          "end_time": "2019-04-12T17:13:05.961591Z",
          "start_time": "2019-04-12T17:13:05.946308Z"
        },
        "scrolled": false,
        "id": "XAU1j-EfS4fr",
        "colab_type": "code",
        "outputId": "f892c6be-8b15-434c-c916-7fb846700f63",
        "colab": {
          "base_uri": "https://localhost:8080/",
          "height": 34
        }
      },
      "cell_type": "code",
      "source": [
        "y = df[['企业编号', '企业总评分']]\n",
        "x = df.drop(['企业总评分'], axis=1)\n",
        "\n",
        "xtrain, xtest, ytrain, ytest = train_test_split(\n",
        "    x, y, test_size=0.2, random_state=31)\n",
        "ytrain_id = ytrain['企业编号']\n",
        "ytrain = ytrain['企业总评分']\n",
        "ytest_id = ytest['企业编号']\n",
        "ytest = ytest['企业总评分']\n",
        "print(xtrain.shape, xtest.shape, ytrain.shape, ytest.shape)\n",
        "\n",
        "id_train = xtrain['企业编号']\n",
        "id_test = xtest['企业编号']\n",
        "xtrain.drop(['企业编号'], axis=1, inplace=True)\n",
        "xtest.drop(['企业编号'], axis=1, inplace=True)\n",
        "feature_name=xtrain.columns.values"
      ],
      "execution_count": 2,
      "outputs": [
        {
          "output_type": "stream",
          "text": [
            "(2364, 335) (592, 335) (2364,) (592,)\n"
          ],
          "name": "stdout"
        }
      ]
    },
    {
      "metadata": {
        "id": "nEKNc6vDV-wd",
        "colab_type": "text"
      },
      "cell_type": "markdown",
      "source": [
        "# Scaling"
      ]
    },
    {
      "metadata": {
        "id": "trYwECPbGJjq",
        "colab_type": "code",
        "colab": {}
      },
      "cell_type": "code",
      "source": [
        "sc_X = StandardScaler()\n",
        "xtrain_sc = sc_X.fit_transform(xtrain)\n",
        "xtest_sc = sc_X.transform(xtest)\n",
        "xtrain_sc=pd.DataFrame(xtrain_sc)\n",
        "xtest_sc=pd.DataFrame(xtest_sc)\n",
        "\n"
      ],
      "execution_count": 0,
      "outputs": []
    },
    {
      "metadata": {
        "id": "1ga64gTlWFlG",
        "colab_type": "text"
      },
      "cell_type": "markdown",
      "source": [
        "# RFE"
      ]
    },
    {
      "metadata": {
        "id": "7Mjpglb5a0e2",
        "colab_type": "code",
        "colab": {}
      },
      "cell_type": "code",
      "source": [
        "estimator = lgb.LGBMRegressor(objective='regression',\n",
        "                              num_leaves=31,\n",
        "                              learning_rate=0.05,\n",
        "                              n_estimators=20)"
      ],
      "execution_count": 0,
      "outputs": []
    },
    {
      "metadata": {
        "id": "WPTcO-y2WEtg",
        "colab_type": "code",
        "colab": {}
      },
      "cell_type": "code",
      "source": [
        "selector = RFE(estimator, 100, step=1)\n",
        "selector = selector.fit(xtrain_sc, ytrain)"
      ],
      "execution_count": 0,
      "outputs": []
    },
    {
      "metadata": {
        "id": "qZTOFmigbS72",
        "colab_type": "code",
        "colab": {}
      },
      "cell_type": "code",
      "source": [
        ""
      ],
      "execution_count": 0,
      "outputs": []
    }
  ]
}