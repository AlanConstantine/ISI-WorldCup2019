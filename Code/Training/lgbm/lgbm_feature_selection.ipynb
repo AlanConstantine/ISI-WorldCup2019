{
 "cells": [
  {
   "cell_type": "code",
   "execution_count": 1,
   "metadata": {
    "ExecuteTime": {
     "end_time": "2019-04-16T09:26:41.888260Z",
     "start_time": "2019-04-16T09:26:40.122746Z"
    }
   },
   "outputs": [],
   "source": [
    "from IPython.display import display\n",
    "import numpy as np\n",
    "# import modin.pandas as pd\n",
    "import pandas as pd\n",
    "import datetime\n",
    "import gc\n",
    "import matplotlib.pyplot as plt\n",
    "import seaborn as sns\n",
    "import lightgbm as lgb\n",
    "\n",
    "\n",
    "from sklearn.model_selection import StratifiedKFold\n",
    "from sklearn.model_selection import GridSearchCV\n",
    "from sklearn.metrics import mean_squared_error\n",
    "from sklearn.model_selection import KFold\n",
    "from sklearn.model_selection import train_test_split\n",
    "from sklearn.feature_selection import RFECV\n",
    "from sklearn.feature_selection import RFE, f_regression\n",
    "\n",
    "import warnings\n",
    "import json\n",
    "\n",
    "warnings.filterwarnings('ignore')\n",
    "\n",
    "plt.style.use(\"fivethirtyeight\")\n",
    "sns.set_style({'font.sans-serif': ['simsun', 'Arial']})\n",
    "sns.set_style('darkgrid', {'font.sans-serif': ['simhei', 'Arial']})\n",
    "%matplotlib inline\n",
    "\n",
    "# np.random.seed(4590)\n",
    "nf_data_path = r'../../../Data/noFinacialFeatures.csv'\n",
    "f_data_path = r'../../../Data/FinacialFeatures.csv'\n",
    "\n",
    "flevel = json.load(open(r'../../FeatureEngineering/feature_level.json'))"
   ]
  },
  {
   "cell_type": "code",
   "execution_count": 2,
   "metadata": {
    "ExecuteTime": {
     "end_time": "2019-04-16T09:28:13.516770Z",
     "start_time": "2019-04-16T09:28:13.279933Z"
    }
   },
   "outputs": [],
   "source": [
    "nf_df = pd.read_csv(nf_data_path)\n",
    "f_df = pd.read_csv(f_data_path)\n",
    "df = pd.DataFrame()\n",
    "df = nf_df.copy()\n",
    "f_df.drop(['企业总评分'], axis=1, inplace=True)\n",
    "df = df.merge(f_df, how='left', on='企业编号')"
   ]
  },
  {
   "cell_type": "code",
   "execution_count": 3,
   "metadata": {
    "ExecuteTime": {
     "end_time": "2019-04-16T09:28:38.266060Z",
     "start_time": "2019-04-16T09:28:38.234069Z"
    }
   },
   "outputs": [
    {
     "data": {
      "text/plain": [
       "((2364, 307), (592, 307), (2364,), (592,))"
      ]
     },
     "execution_count": 3,
     "metadata": {},
     "output_type": "execute_result"
    }
   ],
   "source": [
    "y = df[['企业编号', '企业总评分']]\n",
    "x = df.drop(['企业总评分'], axis=1)\n",
    "\n",
    "xtrain, xtest, ytrain, ytest = train_test_split(\n",
    "    x, y, test_size=0.2, random_state=0)\n",
    "ytrain_id = ytrain['企业编号']\n",
    "ytrain = ytrain['企业总评分']\n",
    "ytest_id = ytest['企业编号']\n",
    "ytest = ytest['企业总评分']\n",
    "xtrain.shape, xtest.shape, ytrain.shape, ytest.shape"
   ]
  },
  {
   "cell_type": "code",
   "execution_count": 4,
   "metadata": {
    "ExecuteTime": {
     "end_time": "2019-04-16T09:28:43.406821Z",
     "start_time": "2019-04-16T09:28:43.245406Z"
    }
   },
   "outputs": [],
   "source": [
    "id_train = xtrain['企业编号']\n",
    "id_test = xtest['企业编号']\n",
    "xtrain.drop(['企业编号'], axis=1, inplace=True)\n",
    "xtest.drop(['企业编号'], axis=1, inplace=True)"
   ]
  },
  {
   "cell_type": "code",
   "execution_count": 10,
   "metadata": {
    "ExecuteTime": {
     "end_time": "2019-04-16T09:31:37.180741Z",
     "start_time": "2019-04-16T09:31:37.172751Z"
    }
   },
   "outputs": [],
   "source": [
    "nfolds = 10\n",
    "folds = KFold(n_splits=nfolds, shuffle=True, random_state=15)"
   ]
  },
  {
   "cell_type": "code",
   "execution_count": 5,
   "metadata": {
    "ExecuteTime": {
     "end_time": "2019-04-16T09:29:39.682742Z",
     "start_time": "2019-04-16T09:29:39.663530Z"
    }
   },
   "outputs": [],
   "source": [
    "def train_lgbm(xtrain, ytrain, xtest, ytest, params):\n",
    "    feature_importance_df = np.zeros((xtrain.shape[1], nfolds))\n",
    "    mvalid = np.zeros(len(xtrain))\n",
    "    mfull = np.zeros(len(xtest))\n",
    "    models = []\n",
    "\n",
    "    for fold_, (trn_idx, val_idx) in enumerate(folds.split(xtrain.values, ytrain.values)):\n",
    "        print('----')\n",
    "        print(\"fold n°{}\".format(fold_))\n",
    "\n",
    "        x0, y0 = xtrain.iloc[trn_idx], ytrain.iloc[trn_idx]\n",
    "        x1, y1 = xtrain.iloc[val_idx], ytrain.iloc[val_idx]\n",
    "\n",
    "        trn_data = lgb.Dataset(x0, label=y0)\n",
    "        val_data = lgb.Dataset(x1, label=y1)\n",
    "\n",
    "        num_round = 10000\n",
    "        clf = lgb.train(params,\n",
    "                        trn_data,\n",
    "                        num_round,\n",
    "                        valid_sets=[trn_data, val_data],\n",
    "                        verbose_eval=500,\n",
    "                        early_stopping_rounds=150)\n",
    "\n",
    "        mvalid[val_idx] = clf.predict(x1, num_iteration=clf.best_iteration)\n",
    "\n",
    "        feature_importance_df[:, fold_] = clf.feature_importance()\n",
    "\n",
    "        mfull += clf.predict(xtest,\n",
    "                             num_iteration=clf.best_iteration) / folds.n_splits\n",
    "\n",
    "        models.append(clf)\n",
    "\n",
    "    print(np.sqrt(mean_squared_error(mfull.astype(int), ytest.astype(int))))\n",
    "    return models, feature_importance_df"
   ]
  },
  {
   "cell_type": "code",
   "execution_count": 14,
   "metadata": {
    "ExecuteTime": {
     "end_time": "2019-04-16T09:43:45.751899Z",
     "start_time": "2019-04-16T09:43:45.737368Z"
    }
   },
   "outputs": [],
   "source": [
    "params = {\n",
    "    # objective and metric\n",
    "    \"objective\": \"regression\",\n",
    "    \"metric\": 'rmse',\n",
    "    \"boosting\": \"gbdt\",\n",
    "\n",
    "    # for the Leaf-wise (Best-first) Tree\n",
    "    \"num_leaves\": 100,\n",
    "    # smaller than 2^(max_depth), This is the main parameter to control the complexity of the tree model. With larger can get higher accuracy\n",
    "    # Setting it to a large value can avoid growing too deep a tree, but may cause under-fitting.\n",
    "    \"min_data_in_leaf\": 20,\n",
    "    \"max_depth\": 7,  # limit the tree depth explicitly.\n",
    "\n",
    "    # For Faster Speed\n",
    "    \"bagging_fraction\": 0.7,\n",
    "    \"bagging_freq\": 1,\n",
    "    \"bagging_seed\": 11,\n",
    "\n",
    "    # For Better Accuracy\n",
    "    \"max_bin\": 40,  # lager but slower\n",
    "    \"learning_rate\": 0.005,\n",
    "\n",
    "    # deal with over fitting\n",
    "    # Use small max_bin\n",
    "    # Use small num_leaves\n",
    "    # Use min_data_in_leaf and min_sum_hessian_in_leaf\n",
    "    # Use bagging by set bagging_fraction and bagging_freq\n",
    "    # Use feature sub-sampling by set feature_fraction\n",
    "    # Use bigger training data\n",
    "    # Try lambda_l1, lambda_l2 and min_gain_to_split for regularization\n",
    "    # Try max_depth to avoid growing deep tree\n",
    "    \"feature_fraction\": 0.8,\n",
    "    \"lambda_l1\": 0.1,\n",
    "\n",
    "    \"min_child_samples\": 100,\n",
    "\n",
    "    # other\n",
    "    \"n_estimators\": 1500,  # aliases: num_itertations, iteration number or tree number, default 100\n",
    "    \"verbosity\": -1,\n",
    "    \"n_jobs\": 8,\n",
    "}"
   ]
  },
  {
   "cell_type": "code",
   "execution_count": 15,
   "metadata": {
    "ExecuteTime": {
     "end_time": "2019-04-16T09:45:07.691485Z",
     "start_time": "2019-04-16T09:43:48.593845Z"
    }
   },
   "outputs": [
    {
     "name": "stdout",
     "output_type": "stream",
     "text": [
      "----\n",
      "fold n°0\n",
      "Training until validation scores don't improve for 150 rounds.\n",
      "[500]\ttraining's rmse: 2.31482\tvalid_1's rmse: 2.97517\n",
      "[1000]\ttraining's rmse: 1.71141\tvalid_1's rmse: 2.93083\n",
      "Early stopping, best iteration is:\n",
      "[954]\ttraining's rmse: 1.75365\tvalid_1's rmse: 2.92937\n",
      "----\n",
      "fold n°1\n",
      "Training until validation scores don't improve for 150 rounds.\n",
      "[500]\ttraining's rmse: 2.29952\tvalid_1's rmse: 3.31636\n",
      "[1000]\ttraining's rmse: 1.69656\tvalid_1's rmse: 3.25221\n",
      "Early stopping, best iteration is:\n",
      "[1015]\ttraining's rmse: 1.68349\tvalid_1's rmse: 3.2514\n",
      "----\n",
      "fold n°2\n",
      "Training until validation scores don't improve for 150 rounds.\n",
      "[500]\ttraining's rmse: 2.31977\tvalid_1's rmse: 3.09026\n",
      "[1000]\ttraining's rmse: 1.70887\tvalid_1's rmse: 3.04538\n",
      "Early stopping, best iteration is:\n",
      "[863]\ttraining's rmse: 1.84514\tvalid_1's rmse: 3.04178\n",
      "----\n",
      "fold n°3\n",
      "Training until validation scores don't improve for 150 rounds.\n",
      "[500]\ttraining's rmse: 2.31227\tvalid_1's rmse: 3.2901\n",
      "[1000]\ttraining's rmse: 1.70596\tvalid_1's rmse: 3.19754\n",
      "Early stopping, best iteration is:\n",
      "[1117]\ttraining's rmse: 1.60124\tvalid_1's rmse: 3.19504\n",
      "----\n",
      "fold n°4\n",
      "Training until validation scores don't improve for 150 rounds.\n",
      "[500]\ttraining's rmse: 2.29825\tvalid_1's rmse: 3.36513\n",
      "[1000]\ttraining's rmse: 1.68991\tvalid_1's rmse: 3.25801\n",
      "Early stopping, best iteration is:\n",
      "[1188]\ttraining's rmse: 1.52559\tvalid_1's rmse: 3.25165\n",
      "----\n",
      "fold n°5\n",
      "Training until validation scores don't improve for 150 rounds.\n",
      "[500]\ttraining's rmse: 2.33482\tvalid_1's rmse: 3.05637\n",
      "[1000]\ttraining's rmse: 1.7119\tvalid_1's rmse: 3.00428\n",
      "Early stopping, best iteration is:\n",
      "[889]\ttraining's rmse: 1.82065\tvalid_1's rmse: 3.00313\n",
      "----\n",
      "fold n°6\n",
      "Training until validation scores don't improve for 150 rounds.\n",
      "[500]\ttraining's rmse: 2.30526\tvalid_1's rmse: 3.25512\n",
      "[1000]\ttraining's rmse: 1.68966\tvalid_1's rmse: 3.22195\n",
      "Early stopping, best iteration is:\n",
      "[863]\ttraining's rmse: 1.82709\tvalid_1's rmse: 3.21813\n",
      "----\n",
      "fold n°7\n",
      "Training until validation scores don't improve for 150 rounds.\n",
      "[500]\ttraining's rmse: 2.30677\tvalid_1's rmse: 3.22884\n",
      "[1000]\ttraining's rmse: 1.70515\tvalid_1's rmse: 3.15989\n",
      "Early stopping, best iteration is:\n",
      "[1037]\ttraining's rmse: 1.67458\tvalid_1's rmse: 3.15843\n",
      "----\n",
      "fold n°8\n",
      "Training until validation scores don't improve for 150 rounds.\n",
      "[500]\ttraining's rmse: 2.32205\tvalid_1's rmse: 3.16249\n",
      "[1000]\ttraining's rmse: 1.71459\tvalid_1's rmse: 3.08984\n",
      "Early stopping, best iteration is:\n",
      "[1165]\ttraining's rmse: 1.56834\tvalid_1's rmse: 3.08401\n",
      "----\n",
      "fold n°9\n",
      "Training until validation scores don't improve for 150 rounds.\n",
      "[500]\ttraining's rmse: 2.31845\tvalid_1's rmse: 3.09393\n",
      "[1000]\ttraining's rmse: 1.71026\tvalid_1's rmse: 3.03399\n",
      "Early stopping, best iteration is:\n",
      "[986]\ttraining's rmse: 1.72363\tvalid_1's rmse: 3.0326\n",
      "3.016844601790313\n"
     ]
    }
   ],
   "source": [
    "models, feature_importance_df = train_lgbm(\n",
    "    xtrain, ytrain, xtest, ytest, params)"
   ]
  },
  {
   "cell_type": "code",
   "execution_count": null,
   "metadata": {},
   "outputs": [],
   "source": []
  }
 ],
 "metadata": {
  "kernelspec": {
   "display_name": "Python 3",
   "language": "python",
   "name": "python3"
  },
  "language_info": {
   "codemirror_mode": {
    "name": "ipython",
    "version": 3
   },
   "file_extension": ".py",
   "mimetype": "text/x-python",
   "name": "python",
   "nbconvert_exporter": "python",
   "pygments_lexer": "ipython3",
   "version": "3.6.8"
  },
  "toc": {
   "base_numbering": 1,
   "nav_menu": {},
   "number_sections": true,
   "sideBar": true,
   "skip_h1_title": false,
   "title_cell": "Table of Contents",
   "title_sidebar": "Contents",
   "toc_cell": false,
   "toc_position": {},
   "toc_section_display": true,
   "toc_window_display": false
  },
  "varInspector": {
   "cols": {
    "lenName": 16,
    "lenType": 16,
    "lenVar": 40
   },
   "kernels_config": {
    "python": {
     "delete_cmd_postfix": "",
     "delete_cmd_prefix": "del ",
     "library": "var_list.py",
     "varRefreshCmd": "print(var_dic_list())"
    },
    "r": {
     "delete_cmd_postfix": ") ",
     "delete_cmd_prefix": "rm(",
     "library": "var_list.r",
     "varRefreshCmd": "cat(var_dic_list()) "
    }
   },
   "types_to_exclude": [
    "module",
    "function",
    "builtin_function_or_method",
    "instance",
    "_Feature"
   ],
   "window_display": false
  }
 },
 "nbformat": 4,
 "nbformat_minor": 2
}
