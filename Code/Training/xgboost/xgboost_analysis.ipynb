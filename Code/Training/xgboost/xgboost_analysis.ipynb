{
 "cells": [
  {
   "cell_type": "code",
   "execution_count": 20,
   "metadata": {
    "ExecuteTime": {
     "end_time": "2019-04-15T06:09:16.828844Z",
     "start_time": "2019-04-15T06:09:16.815738Z"
    }
   },
   "outputs": [],
   "source": [
    "from sklearn.model_selection import KFold\n",
    "from sklearn.metrics import mean_squared_error as mse\n",
    "from sklearn.model_selection import train_test_split\n",
    "from xgboost import XGBRegressor\n",
    "import numpy as np\n",
    "import pandas as pd\n",
    "import warnings\n",
    "import json\n",
    "\n",
    "warnings.filterwarnings('ignore')\n",
    "\n",
    "\n",
    "nf_data_path = r'../../../Data/noFinacialFeatures.csv'\n",
    "f_data_path = r'../../../Data/FinacialFeatures.csv'"
   ]
  },
  {
   "cell_type": "code",
   "execution_count": 10,
   "metadata": {
    "ExecuteTime": {
     "end_time": "2019-04-15T05:58:49.533720Z",
     "start_time": "2019-04-15T05:58:49.312962Z"
    }
   },
   "outputs": [],
   "source": [
    "nf_df = pd.read_csv(nf_data_path)\n",
    "f_df = pd.read_csv(f_data_path)"
   ]
  },
  {
   "cell_type": "code",
   "execution_count": 11,
   "metadata": {
    "ExecuteTime": {
     "end_time": "2019-04-15T05:58:50.205775Z",
     "start_time": "2019-04-15T05:58:50.175714Z"
    }
   },
   "outputs": [],
   "source": [
    "df = pd.DataFrame()\n",
    "df = nf_df.copy()\n",
    "f_df.drop(['企业总评分'], axis=1, inplace=True)\n",
    "df = df.merge(f_df, how='left', on='企业编号')"
   ]
  },
  {
   "cell_type": "code",
   "execution_count": 12,
   "metadata": {
    "ExecuteTime": {
     "end_time": "2019-04-15T05:58:51.570410Z",
     "start_time": "2019-04-15T05:58:51.264458Z"
    }
   },
   "outputs": [],
   "source": [
    "y = df[['企业编号', '企业总评分']]\n",
    "x = df.drop(['企业总评分'], axis=1)\n",
    "\n",
    "xtrain, xtest, ytrain, ytest = train_test_split(\n",
    "    x, y, test_size=0.2, random_state=0)\n",
    "ytrain_id = ytrain['企业编号']\n",
    "ytrain = ytrain['企业总评分']\n",
    "ytest_id = ytest['企业编号']\n",
    "ytest = ytest['企业总评分']\n",
    "xtrain.shape, xtest.shape, ytrain.shape, ytest.shape\n",
    "\n",
    "id_train = xtrain['企业编号']\n",
    "id_test = xtest['企业编号']\n",
    "xtrain.drop(['企业编号'], axis=1, inplace=True)\n",
    "xtest.drop(['企业编号'], axis=1, inplace=True)"
   ]
  },
  {
   "cell_type": "markdown",
   "metadata": {},
   "source": [
    "# Normal use"
   ]
  },
  {
   "cell_type": "code",
   "execution_count": 21,
   "metadata": {
    "ExecuteTime": {
     "end_time": "2019-04-15T06:09:19.215741Z",
     "start_time": "2019-04-15T06:09:19.206091Z"
    }
   },
   "outputs": [],
   "source": [
    "xgb = XGBRegressor(n_estimators=100, learning_rate=0.08, gamma=0, subsample=0.75,\n",
    "                           colsample_bytree=1, max_depth=7)"
   ]
  },
  {
   "cell_type": "code",
   "execution_count": 22,
   "metadata": {
    "ExecuteTime": {
     "end_time": "2019-04-15T06:09:55.378280Z",
     "start_time": "2019-04-15T06:09:47.729295Z"
    }
   },
   "outputs": [
    {
     "data": {
      "text/plain": [
       "XGBRegressor(base_score=0.5, booster='gbtree', colsample_bylevel=1,\n",
       "       colsample_bytree=1, gamma=0, importance_type='gain',\n",
       "       learning_rate=0.08, max_delta_step=0, max_depth=7,\n",
       "       min_child_weight=1, missing=None, n_estimators=100, n_jobs=1,\n",
       "       nthread=None, objective='reg:linear', random_state=0, reg_alpha=0,\n",
       "       reg_lambda=1, scale_pos_weight=1, seed=None, silent=True,\n",
       "       subsample=0.75)"
      ]
     },
     "execution_count": 22,
     "metadata": {},
     "output_type": "execute_result"
    }
   ],
   "source": [
    "traindf, testdf = train_test_split(xtrain, test_size = 0.3)\n",
    "xgb.fit(xtrain,ytrain)"
   ]
  },
  {
   "cell_type": "code",
   "execution_count": 25,
   "metadata": {
    "ExecuteTime": {
     "end_time": "2019-04-15T06:10:58.693204Z",
     "start_time": "2019-04-15T06:10:58.674069Z"
    }
   },
   "outputs": [],
   "source": [
    "pred = xgb.predict(xtest)"
   ]
  },
  {
   "cell_type": "code",
   "execution_count": 27,
   "metadata": {
    "ExecuteTime": {
     "end_time": "2019-04-15T06:11:13.431954Z",
     "start_time": "2019-04-15T06:11:13.421224Z"
    }
   },
   "outputs": [
    {
     "data": {
      "text/plain": [
       "3.239849012164243"
      ]
     },
     "execution_count": 27,
     "metadata": {},
     "output_type": "execute_result"
    }
   ],
   "source": [
    "np.sqrt(mse(pred.astype(int), ytest.astype(int)))"
   ]
  },
  {
   "cell_type": "markdown",
   "metadata": {},
   "source": [
    "# Cross Validation"
   ]
  },
  {
   "cell_type": "code",
   "execution_count": 15,
   "metadata": {
    "ExecuteTime": {
     "end_time": "2019-04-15T06:00:05.895708Z",
     "start_time": "2019-04-15T06:00:05.886328Z"
    }
   },
   "outputs": [],
   "source": [
    "K = 10\n",
    "kf = KFold(n_splits=K, random_state=3228, shuffle=True)"
   ]
  },
  {
   "cell_type": "code",
   "execution_count": null,
   "metadata": {},
   "outputs": [],
   "source": [
    "xgb_params = {'eta': 0.02, \n",
    "              'max_depth': 4, \n",
    "              'subsample': 0.9, \n",
    "              'colsample_bytree': 0.9,\n",
    "              'objective': 'binary:logistic',\n",
    "              'eval_metric': 'rmse', \n",
    "              'seed': 99, \n",
    "              'silent': True}"
   ]
  },
  {
   "cell_type": "code",
   "execution_count": 18,
   "metadata": {
    "ExecuteTime": {
     "end_time": "2019-04-15T06:08:51.240633Z",
     "start_time": "2019-04-15T06:08:51.234553Z"
    }
   },
   "outputs": [],
   "source": [
    "for fold_, (trn_idx, val_idx) in enumerate(folds.split(xtrain.values, ytrain.values)):\n",
    "    print('----')\n",
    "    print(\"fold n°{}\".format(fold_))\n",
    "    \n",
    "    train_X, valid_X = xtrain.iloc[trn_idx], ytrain.iloc[trn_idx]\n",
    "    train_y, valid_y = xtrain.iloc[val_idx], ytrain.iloc[val_idx]\n",
    "\n",
    "    d_train = xgb.DMatrix(train_X, train_y)\n",
    "    d_valid = xgb.DMatrix(valid_X, valid_y)\n",
    "    d_test = xgb.DMatrix(xtest)\n",
    "\n",
    "    watchlist = [(d_train, 'train'), (d_valid, 'valid')]\n",
    "    model = XGBRegressor(n_estimators=100, learning_rate=0.08, gamma=0, subsample=0.75,\n",
    "                           colsample_bytree=1, max_depth=7)\n",
    "\n",
    "    xgb_pred = model.predict(d_test)\n",
    "    xgb_preds.append(list(xgb_pred))"
   ]
  }
 ],
 "metadata": {
  "kernelspec": {
   "display_name": "Python 3",
   "language": "python",
   "name": "python3"
  },
  "language_info": {
   "codemirror_mode": {
    "name": "ipython",
    "version": 3
   },
   "file_extension": ".py",
   "mimetype": "text/x-python",
   "name": "python",
   "nbconvert_exporter": "python",
   "pygments_lexer": "ipython3",
   "version": "3.6.8"
  },
  "toc": {
   "base_numbering": 1,
   "nav_menu": {},
   "number_sections": true,
   "sideBar": true,
   "skip_h1_title": false,
   "title_cell": "Table of Contents",
   "title_sidebar": "Contents",
   "toc_cell": false,
   "toc_position": {},
   "toc_section_display": true,
   "toc_window_display": false
  },
  "varInspector": {
   "cols": {
    "lenName": 16,
    "lenType": 16,
    "lenVar": 40
   },
   "kernels_config": {
    "python": {
     "delete_cmd_postfix": "",
     "delete_cmd_prefix": "del ",
     "library": "var_list.py",
     "varRefreshCmd": "print(var_dic_list())"
    },
    "r": {
     "delete_cmd_postfix": ") ",
     "delete_cmd_prefix": "rm(",
     "library": "var_list.r",
     "varRefreshCmd": "cat(var_dic_list()) "
    }
   },
   "types_to_exclude": [
    "module",
    "function",
    "builtin_function_or_method",
    "instance",
    "_Feature"
   ],
   "window_display": false
  }
 },
 "nbformat": 4,
 "nbformat_minor": 2
}
