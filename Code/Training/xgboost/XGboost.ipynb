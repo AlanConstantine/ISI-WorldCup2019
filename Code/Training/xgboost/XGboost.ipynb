{
 "cells": [
  {
   "cell_type": "code",
   "execution_count": 0,
   "metadata": {
    "ExecuteTime": {
     "end_time": "2019-04-12T17:07:45.986867Z",
     "start_time": "2019-04-12T17:07:45.984110Z"
    },
    "colab": {},
    "colab_type": "code",
    "id": "KNyJppyvs73I"
   },
   "outputs": [],
   "source": [
    "from sklearn.model_selection import KFold\n",
    "from sklearn.metrics import mean_squared_error as mse\n",
    "from sklearn.model_selection import train_test_split\n",
    "import xgboost as xgb\n",
    "from xgboost import XGBRegressor\n",
    "from sklearn.model_selection import GridSearchCV\n",
    "import numpy as np\n",
    "import pandas as pd\n",
    "import warnings\n",
    "import json\n",
    "\n",
    "\n",
    "import matplotlib.pyplot as plt\n",
    "import seaborn as sns\n",
    "\n",
    "plt.style.use(\"fivethirtyeight\")\n",
    "sns.set_style({'font.sans-serif': ['simsun', 'Arial']})\n",
    "sns.set_style('darkgrid', {'font.sans-serif': ['simhei', 'Arial']})\n",
    "%matplotlib inline\n",
    "\n",
    "\n",
    "warnings.filterwarnings('ignore')\n",
    "\n",
    "\n",
    "nf_data_path = r'./noFinacialFeatures.csv'\n",
    "f_data_path = r'./FinacialFeatures.csv'\n",
    "flevel = json.load(open(r'./feature_level.json'))"
   ]
  },
  {
   "cell_type": "code",
   "execution_count": 283,
   "metadata": {
    "colab": {
     "base_uri": "https://localhost:8080/",
     "height": 245
    },
    "colab_type": "code",
    "id": "Yf0fGm03tYAK",
    "outputId": "336d67f1-227e-4a6c-9dd1-b7acea53d36c"
   },
   "outputs": [
    {
     "data": {
      "text/html": [
       "<div>\n",
       "<style scoped>\n",
       "    .dataframe tbody tr th:only-of-type {\n",
       "        vertical-align: middle;\n",
       "    }\n",
       "\n",
       "    .dataframe tbody tr th {\n",
       "        vertical-align: top;\n",
       "    }\n",
       "\n",
       "    .dataframe thead th {\n",
       "        text-align: right;\n",
       "    }\n",
       "</style>\n",
       "<table border=\"1\" class=\"dataframe\">\n",
       "  <thead>\n",
       "    <tr style=\"text-align: right;\">\n",
       "      <th></th>\n",
       "      <th>企业编号</th>\n",
       "      <th>企业总评分</th>\n",
       "      <th>软著数量</th>\n",
       "      <th>作品著作数量</th>\n",
       "      <th>项目数量</th>\n",
       "      <th>纳税A级年份_2014</th>\n",
       "      <th>纳税A级年份_2015</th>\n",
       "      <th>纳税A级年份_2016</th>\n",
       "      <th>纳税A级年份_2017</th>\n",
       "      <th>资质证书数量</th>\n",
       "      <th>...</th>\n",
       "      <th>应收账款周转天数(天)_mean</th>\n",
       "      <th>应收账款周转天数(天)_max</th>\n",
       "      <th>应收账款周转天数(天)_min</th>\n",
       "      <th>应收账款周转天数(天)_std</th>\n",
       "      <th>应收账款周转天数(天)滚动增长_mean</th>\n",
       "      <th>存货周转天数(天)_mean</th>\n",
       "      <th>存货周转天数(天)_max</th>\n",
       "      <th>存货周转天数(天)_min</th>\n",
       "      <th>存货周转天数(天)_std</th>\n",
       "      <th>存货周转天数(天)滚动增长_mean</th>\n",
       "    </tr>\n",
       "  </thead>\n",
       "  <tbody>\n",
       "    <tr>\n",
       "      <th>0</th>\n",
       "      <td>1001</td>\n",
       "      <td>75.374276</td>\n",
       "      <td>1.0</td>\n",
       "      <td>1.0</td>\n",
       "      <td>1.0</td>\n",
       "      <td>1.0</td>\n",
       "      <td>2.0</td>\n",
       "      <td>1.0</td>\n",
       "      <td>1.0</td>\n",
       "      <td>9.0</td>\n",
       "      <td>...</td>\n",
       "      <td>107.589270</td>\n",
       "      <td>191.707773</td>\n",
       "      <td>63.791689</td>\n",
       "      <td>44.495607</td>\n",
       "      <td>0.151392</td>\n",
       "      <td>414.778035</td>\n",
       "      <td>1089.655763</td>\n",
       "      <td>176.283983</td>\n",
       "      <td>325.371499</td>\n",
       "      <td>1.562757</td>\n",
       "    </tr>\n",
       "    <tr>\n",
       "      <th>1</th>\n",
       "      <td>1002</td>\n",
       "      <td>79.830122</td>\n",
       "      <td>2.0</td>\n",
       "      <td>0.0</td>\n",
       "      <td>1.0</td>\n",
       "      <td>1.0</td>\n",
       "      <td>1.0</td>\n",
       "      <td>2.0</td>\n",
       "      <td>0.0</td>\n",
       "      <td>0.0</td>\n",
       "      <td>...</td>\n",
       "      <td>46.903333</td>\n",
       "      <td>56.590000</td>\n",
       "      <td>39.830000</td>\n",
       "      <td>6.234116</td>\n",
       "      <td>0.023916</td>\n",
       "      <td>6.506667</td>\n",
       "      <td>7.040000</td>\n",
       "      <td>5.010000</td>\n",
       "      <td>0.702335</td>\n",
       "      <td>0.045330</td>\n",
       "    </tr>\n",
       "  </tbody>\n",
       "</table>\n",
       "<p>2 rows × 308 columns</p>\n",
       "</div>"
      ],
      "text/plain": [
       "   企业编号      企业总评分  软著数量  作品著作数量  项目数量  纳税A级年份_2014  纳税A级年份_2015  纳税A级年份_2016  \\\n",
       "0  1001  75.374276   1.0     1.0   1.0          1.0          2.0          1.0   \n",
       "1  1002  79.830122   2.0     0.0   1.0          1.0          1.0          2.0   \n",
       "\n",
       "   纳税A级年份_2017  资质证书数量         ...          应收账款周转天数(天)_mean  应收账款周转天数(天)_max  \\\n",
       "0          1.0     9.0         ...                107.589270       191.707773   \n",
       "1          0.0     0.0         ...                 46.903333        56.590000   \n",
       "\n",
       "   应收账款周转天数(天)_min  应收账款周转天数(天)_std  应收账款周转天数(天)滚动增长_mean  存货周转天数(天)_mean  \\\n",
       "0        63.791689        44.495607              0.151392      414.778035   \n",
       "1        39.830000         6.234116              0.023916        6.506667   \n",
       "\n",
       "   存货周转天数(天)_max  存货周转天数(天)_min  存货周转天数(天)_std  存货周转天数(天)滚动增长_mean  \n",
       "0    1089.655763     176.283983     325.371499            1.562757  \n",
       "1       7.040000       5.010000       0.702335            0.045330  \n",
       "\n",
       "[2 rows x 308 columns]"
      ]
     },
     "execution_count": 283,
     "metadata": {
      "tags": []
     },
     "output_type": "execute_result"
    }
   ],
   "source": [
    "nf_df = pd.read_csv(nf_data_path)\n",
    "f_df = pd.read_csv(f_data_path)\n",
    "df = pd.DataFrame()\n",
    "df = nf_df.copy()\n",
    "f_df.drop(['企业总评分'], axis=1, inplace=True)\n",
    "df = df.merge(f_df, how='left', on='企业编号')\n",
    "# first_level = flevel['first_level']\n",
    "# first_level.append('企业编号')\n",
    "# first_level.append('企业总评分')\n",
    "# df = df[first_level]\n",
    "df.head(n=2)"
   ]
  },
  {
   "cell_type": "code",
   "execution_count": 0,
   "metadata": {
    "colab": {},
    "colab_type": "code",
    "id": "skYFT6Xdtdlq"
   },
   "outputs": [],
   "source": [
    "y = df[['企业编号', '企业总评分']]\n",
    "x = df.drop(['企业总评分'], axis=1)\n",
    "xtrain, xtest, ytrain, ytest = train_test_split(\n",
    "    x, y, test_size=0.2, random_state=0)\n",
    "ytrain_id = ytrain['企业编号']\n",
    "ytrain = ytrain['企业总评分']\n",
    "ytest_id = ytest['企业编号']\n",
    "ytest = ytest['企业总评分']\n",
    "\n",
    "\n",
    "id_train = xtrain['企业编号']\n",
    "id_test = xtest['企业编号']\n",
    "xtrain.drop(['企业编号'], axis=1, inplace=True)\n",
    "xtest.drop(['企业编号'], axis=1, inplace=True)"
   ]
  },
  {
   "cell_type": "code",
   "execution_count": 285,
   "metadata": {
    "colab": {
     "base_uri": "https://localhost:8080/",
     "height": 34
    },
    "colab_type": "code",
    "id": "uBs9HRth_JSn",
    "outputId": "00fc1908-00cb-44ec-954b-70ec1f34b09e"
   },
   "outputs": [
    {
     "data": {
      "text/plain": [
       "((2364, 306), (592, 306), (2364,), (592,))"
      ]
     },
     "execution_count": 285,
     "metadata": {
      "tags": []
     },
     "output_type": "execute_result"
    }
   ],
   "source": [
    "xtrain.shape, xtest.shape, ytrain.shape, ytest.shape\n"
   ]
  },
  {
   "cell_type": "code",
   "execution_count": 286,
   "metadata": {
    "colab": {
     "base_uri": "https://localhost:8080/",
     "height": 85
    },
    "colab_type": "code",
    "id": "7uBem_Ynt-s8",
    "outputId": "6c8b3a1f-e583-42a3-efa9-d26d8691e0e9"
   },
   "outputs": [
    {
     "name": "stdout",
     "output_type": "stream",
     "text": [
      "False\n",
      "False\n",
      "False\n",
      "False\n"
     ]
    }
   ],
   "source": [
    "print(xtrain.isnull().values.any())\n",
    "print(ytrain.isnull().values.any())\n",
    "print(xtest.isnull().values.any())\n",
    "print(ytest.isnull().values.any())\n"
   ]
  },
  {
   "cell_type": "markdown",
   "metadata": {},
   "source": [
    "# normal xgboost"
   ]
  },
  {
   "cell_type": "code",
   "execution_count": 0,
   "metadata": {
    "colab": {},
    "colab_type": "code",
    "id": "y3ukbPuct_Dr"
   },
   "outputs": [],
   "source": [
    "xgb = XGBRegressor(n_estimators=150, learning_rate=0.05, gamma=0.6, subsample=0.9,\n",
    "                           colsample_bytree=0.7, max_depth=10)"
   ]
  },
  {
   "cell_type": "code",
   "execution_count": 277,
   "metadata": {
    "colab": {
     "base_uri": "https://localhost:8080/",
     "height": 34
    },
    "colab_type": "code",
    "id": "F76LtuwQt_ij",
    "outputId": "e4d1a14b-5d8f-4ec7-9014-87022a9dc8e0"
   },
   "outputs": [
    {
     "data": {
      "text/plain": [
       "3.144869266392914"
      ]
     },
     "execution_count": 277,
     "metadata": {
      "tags": []
     },
     "output_type": "execute_result"
    }
   ],
   "source": [
    "traindf, testdf = train_test_split(xtrain, test_size = 0.25)\n",
    "xgb.fit(xtrain,ytrain)\n",
    "pred = xgb.predict(xtest)\n",
    "np.sqrt(mse(pred.astype(int), ytest.astype(int)))"
   ]
  },
  {
   "cell_type": "markdown",
   "metadata": {},
   "source": [
    "# CV xgboost"
   ]
  },
  {
   "cell_type": "code",
   "execution_count": 0,
   "metadata": {
    "colab": {},
    "colab_type": "code",
    "id": "i_NiD9b2xL1R"
   },
   "outputs": [],
   "source": [
    "nfolds = 10\n",
    "folds = KFold(n_splits=nfolds, random_state=3228, shuffle=True)\n"
   ]
  },
  {
   "cell_type": "code",
   "execution_count": 289,
   "metadata": {
    "colab": {
     "base_uri": "https://localhost:8080/",
     "height": 527
    },
    "colab_type": "code",
    "id": "SqFNYmDN__0Y",
    "outputId": "06a2bb04-e84f-4285-8735-de91110528bb"
   },
   "outputs": [
    {
     "name": "stdout",
     "output_type": "stream",
     "text": [
      "----\n",
      "fold n°0\n",
      "validation's rmse: 3.008426982891957\n",
      "----\n",
      "fold n°1\n",
      "validation's rmse: 3.0119312671118355\n",
      "----\n",
      "fold n°2\n",
      "validation's rmse: 3.583247472232051\n",
      "----\n",
      "fold n°3\n",
      "validation's rmse: 3.1462253856351725\n",
      "----\n",
      "fold n°4\n",
      "validation's rmse: 3.458592836223955\n",
      "----\n",
      "fold n°5\n",
      "validation's rmse: 3.3830334397160913\n",
      "----\n",
      "fold n°6\n",
      "validation's rmse: 3.0952396473579022\n",
      "----\n",
      "fold n°7\n",
      "validation's rmse: 3.131307194409822\n",
      "----\n",
      "fold n°8\n",
      "validation's rmse: 3.3185406226844325\n",
      "----\n",
      "fold n°9\n",
      "validation's rmse: 3.058746835452361\n"
     ]
    }
   ],
   "source": [
    "feature_importance_df = np.zeros((xtrain.shape[1], nfolds))\n",
    "mvalid = np.zeros(len(xtrain))\n",
    "mfull = np.zeros(len(xtest))\n",
    "\n",
    "for fold_, (trn_idx, val_idx) in enumerate(folds.split(xtrain.values, ytrain.values)):\n",
    "    print('----')\n",
    "    print(\"fold n°{}\".format(fold_))\n",
    "    \n",
    "    x0, y0 = xtrain.iloc[trn_idx], ytrain.iloc[trn_idx]\n",
    "    x1, y1 = xtrain.iloc[val_idx], ytrain.iloc[val_idx]\n",
    "    \n",
    "    eval_s = [(x0, y0),(x1, y1)]\n",
    "    model = XGBRegressor(n_estimators=150, \n",
    "                         #Booster Parameters\n",
    "                         gamma=0.6, #minimum loss reduction required to make a further partition on a leaf node of the tree. the larger, the more conservative the algorithm will be.\n",
    "                         subsample=0.9,#用于训练模型的子样本占整个样本集合的比例，越小越不容易过拟合\n",
    "                         colsample_bytree=0.7, #列采样率\n",
    "                         max_depth=10,\n",
    "                         min_child_weight=2,#bigger lead to the more conservative model\n",
    "                         #Task Parameters\n",
    "                         learning_rate=0.05, \n",
    "                         seed=0,#random number seed.\n",
    "                         reg_alpha=0.05, #L1 加快收敛\n",
    "                         reg_lambda=0.05,#L2 减少欠拟合\n",
    "                         silent=0,\n",
    "                         n_jobs=4,\n",
    "               )\n",
    "    \n",
    "#     model.fit(x0, y0, eval_set=eval_s)\n",
    "    model.fit(x0, y0)\n",
    "    val_pred = model.predict(x1)\n",
    "    \n",
    "#     print(model.evals_result())\n",
    "#     print(\"Training's rmse:\", model.evals_result())\n",
    "    print(\"validation's rmse:\", np.sqrt(mse(val_pred.astype(int), y1.astype(int))))\n",
    "    \n",
    "    mvalid[val_idx] = val_pred\n",
    "    feature_importance_df[:, fold_] = model.feature_importances_\n",
    "    mfull += model.predict(xtest) / folds.n_splits"
   ]
  },
  {
   "cell_type": "code",
   "execution_count": 290,
   "metadata": {
    "colab": {
     "base_uri": "https://localhost:8080/",
     "height": 34
    },
    "colab_type": "code",
    "id": "JZqU8NIxPlcw",
    "outputId": "65fa4c89-5aaa-4984-e7c1-89b897d2b79e"
   },
   "outputs": [
    {
     "data": {
      "text/plain": [
       "3.0022514074463373"
      ]
     },
     "execution_count": 290,
     "metadata": {
      "tags": []
     },
     "output_type": "execute_result"
    }
   ],
   "source": [
    "np.sqrt(mse(mfull.astype(int), ytest.astype(int)))"
   ]
  },
  {
   "cell_type": "markdown",
   "metadata": {},
   "source": [
    "# 调参"
   ]
  },
  {
   "cell_type": "markdown",
   "metadata": {},
   "source": [
    "# n_estimators"
   ]
  },
  {
   "cell_type": "code",
   "execution_count": 194,
   "metadata": {
    "colab": {
     "base_uri": "https://localhost:8080/",
     "height": 207
    },
    "colab_type": "code",
    "id": "k6vvmpG0QNUb",
    "outputId": "bc6d0ccd-35dc-4c81-e4ee-24f12e98dd9a"
   },
   "outputs": [
    {
     "name": "stdout",
     "output_type": "stream",
     "text": [
      "Fitting 5 folds for each of 5 candidates, totalling 25 fits\n"
     ]
    },
    {
     "name": "stderr",
     "output_type": "stream",
     "text": [
      "[Parallel(n_jobs=4)]: Using backend LokyBackend with 4 concurrent workers.\n",
      "[Parallel(n_jobs=4)]: Done  25 out of  25 | elapsed:  2.3min finished\n"
     ]
    },
    {
     "name": "stdout",
     "output_type": "stream",
     "text": [
      "每轮迭代运行结果:{'mean_fit_time': array([17.56424332, 18.87256732, 20.36423516, 22.04060564, 23.7859684 ]), 'std_fit_time': array([0.2002459 , 0.03778668, 0.06950662, 0.19184203, 6.38827431]), 'mean_score_time': array([0.03501558, 0.03356137, 0.03444905, 0.03532848, 0.02332377]), 'std_score_time': array([0.00436023, 0.00359544, 0.00533983, 0.00365936, 0.00964787]), 'param_n_estimators': masked_array(data=[130, 140, 150, 160, 200],\n",
      "             mask=[False, False, False, False, False],\n",
      "       fill_value='?',\n",
      "            dtype=object), 'params': [{'n_estimators': 130}, {'n_estimators': 140}, {'n_estimators': 150}, {'n_estimators': 160}, {'n_estimators': 200}], 'split0_test_score': array([0.57621054, 0.57594076, 0.5759394 , 0.57576252, 0.57582863]), 'split1_test_score': array([0.54465649, 0.54502697, 0.54518926, 0.54511477, 0.54490472]), 'split2_test_score': array([0.56828119, 0.56842966, 0.56847902, 0.56845502, 0.56834584]), 'split3_test_score': array([0.60683492, 0.60674911, 0.6067486 , 0.60684048, 0.60698277]), 'split4_test_score': array([0.58463771, 0.58458081, 0.58477277, 0.58464353, 0.58446656]), 'mean_test_score': array([0.57610574, 0.57612712, 0.57620745, 0.57614486, 0.57608727]), 'std_test_score': array([0.02033185, 0.02017532, 0.02013751, 0.02017982, 0.02028111]), 'rank_test_score': array([4, 3, 1, 2, 5], dtype=int32), 'split0_train_score': array([0.99804548, 0.99821161, 0.99829411, 0.99838294, 0.99852579]), 'split1_train_score': array([0.9980571 , 0.99822427, 0.99832131, 0.99837172, 0.99849871]), 'split2_train_score': array([0.99821516, 0.99831389, 0.9983743 , 0.99842212, 0.99852859]), 'split3_train_score': array([0.99808268, 0.99814683, 0.9982311 , 0.99829883, 0.99845082]), 'split4_train_score': array([0.99810371, 0.99824724, 0.99835171, 0.99840099, 0.9985406 ]), 'mean_train_score': array([0.99810083, 0.99822877, 0.9983145 , 0.99837532, 0.9985089 ]), 'std_train_score': array([6.06390053e-05, 5.40675523e-05, 4.97548624e-05, 4.18825464e-05,\n",
      "       3.21098993e-05])}\n",
      "参数的最佳取值：{'n_estimators': 150}\n",
      "最佳模型得分:0.5762074493000698\n"
     ]
    }
   ],
   "source": [
    "if __name__ == '__main__':\n",
    "    cv_params = {'n_estimators': [130, 140, 150, 160, 200]}\n",
    "    other_params = {'learning_rate': 0.08, 'n_estimators': 110, 'max_depth': 9, 'min_child_weight': 3, 'seed': 0,\n",
    "                    'subsample': 0.9, 'colsample_bytree': 0.7, 'gamma': 0.6, 'reg_alpha': 0.05, 'reg_lambda': 0.05}\n",
    "#     other_params = {'learning_rate': 0.07, 'n_estimators': 110, 'max_depth': 9, 'min_child_weight': 1, 'seed': 0,\n",
    "#                     'subsample': 0.7, 'colsample_bytree': 0.8, 'gamma': 0.2, 'reg_alpha': 0, 'reg_lambda': 1}\n",
    "    model = XGBRegressor(**other_params)\n",
    "    optimized_GBM = GridSearchCV(estimator=model, param_grid=cv_params, scoring='r2', cv=5, verbose=1, n_jobs=4)\n",
    "    optimized_GBM.fit(x0, y0)\n",
    "    evalute_result = optimized_GBM.cv_results_\n",
    "    print('每轮迭代运行结果:{0}'.format(evalute_result))\n",
    "    print('参数的最佳取值：{0}'.format(optimized_GBM.best_params_))\n",
    "    print('最佳模型得分:{0}'.format(optimized_GBM.best_score_))"
   ]
  },
  {
   "cell_type": "markdown",
   "metadata": {},
   "source": [
    "# max_depth and min_child_weight"
   ]
  },
  {
   "cell_type": "code",
   "execution_count": 195,
   "metadata": {
    "colab": {
     "base_uri": "https://localhost:8080/",
     "height": 3386
    },
    "colab_type": "code",
    "id": "zKPYybriRhxe",
    "outputId": "bbf96418-21a0-4b4b-cf1c-a1c0bf8fb667"
   },
   "outputs": [
    {
     "name": "stdout",
     "output_type": "stream",
     "text": [
      "Fitting 5 folds for each of 48 candidates, totalling 240 fits\n"
     ]
    },
    {
     "name": "stderr",
     "output_type": "stream",
     "text": [
      "[Parallel(n_jobs=4)]: Using backend LokyBackend with 4 concurrent workers.\n",
      "[Parallel(n_jobs=4)]: Done  42 tasks      | elapsed:  1.5min\n",
      "[Parallel(n_jobs=4)]: Done 192 tasks      | elapsed: 10.9min\n",
      "[Parallel(n_jobs=4)]: Done 240 out of 240 | elapsed: 15.1min finished\n"
     ]
    },
    {
     "name": "stdout",
     "output_type": "stream",
     "text": [
      "每轮迭代运行结果:{'mean_fit_time': array([ 7.33323565,  7.34172034,  7.33722315,  7.37527423,  7.38466058,\n",
      "        7.3447473 ,  9.56732731,  9.5601944 ,  9.56833911,  9.58485465,\n",
      "        9.55017705,  9.50229411, 11.83558292, 11.83603787, 11.8510437 ,\n",
      "       11.71834865, 11.74273438, 11.68965731, 14.28775902, 14.17074885,\n",
      "       13.98038678, 13.9750639 , 13.92168508, 13.82806854, 16.38414764,\n",
      "       16.37769084, 16.20836487, 16.17229252, 16.12688875, 15.99377122,\n",
      "       18.75542045, 18.62781868, 18.52733736, 18.36606259, 18.38191996,\n",
      "       18.10140471, 20.8496942 , 20.66397872, 20.57886796, 20.35616512,\n",
      "       20.09561081, 19.83977056, 23.07948689, 22.87864523, 22.4667717 ,\n",
      "       22.21467595, 21.97876868, 20.26660161]), 'std_fit_time': array([0.09825663, 0.0222067 , 0.02517359, 0.04563102, 0.0449517 ,\n",
      "       0.06922516, 0.07778709, 0.05614836, 0.05301108, 0.06239906,\n",
      "       0.0599641 , 0.04118426, 0.06459701, 0.03353321, 0.09099415,\n",
      "       0.09641914, 0.07068686, 0.04752075, 0.18199112, 0.11162354,\n",
      "       0.07350757, 0.06229284, 0.11976752, 0.07127375, 0.04896675,\n",
      "       0.10718025, 0.05491547, 0.06463313, 0.05946668, 0.04383002,\n",
      "       0.08860379, 0.10979569, 0.16191378, 0.14308217, 0.2949217 ,\n",
      "       0.09644829, 0.04996849, 0.04509507, 0.12985832, 0.11540301,\n",
      "       0.15573715, 0.03603678, 0.30414629, 0.11621473, 0.08339728,\n",
      "       0.16556988, 0.27904679, 1.90121916]), 'mean_score_time': array([0.02474504, 0.02323194, 0.02212911, 0.02401748, 0.02167983,\n",
      "       0.02644677, 0.02301168, 0.02650557, 0.02265563, 0.02437391,\n",
      "       0.02034535, 0.02654929, 0.02765279, 0.02609248, 0.02647724,\n",
      "       0.02717323, 0.02478676, 0.02694969, 0.0285944 , 0.02688575,\n",
      "       0.02954473, 0.02832165, 0.02748208, 0.02979522, 0.0309495 ,\n",
      "       0.02947145, 0.0311132 , 0.030373  , 0.02963576, 0.0304739 ,\n",
      "       0.03123574, 0.03426661, 0.03351555, 0.03506956, 0.03049078,\n",
      "       0.0316196 , 0.03178411, 0.02906389, 0.03288927, 0.03373137,\n",
      "       0.03454485, 0.03280692, 0.03005843, 0.02937984, 0.03076229,\n",
      "       0.03231144, 0.03324418, 0.02632604]), 'std_score_time': array([3.67539143e-03, 4.27126891e-03, 3.80724700e-03, 3.52037258e-03,\n",
      "       3.66611960e-03, 1.62068929e-03, 4.55325470e-03, 4.53071142e-03,\n",
      "       3.08822805e-03, 3.32518039e-03, 5.66897341e-03, 4.53684995e-03,\n",
      "       2.96608213e-04, 3.02670916e-03, 1.30159471e-03, 8.67092735e-04,\n",
      "       4.67125814e-03, 4.14851475e-03, 3.00854297e-03, 2.15952924e-03,\n",
      "       1.57269957e-03, 4.92542087e-05, 1.68526888e-03, 5.35902721e-03,\n",
      "       1.62757004e-03, 1.60849719e-04, 2.95999582e-03, 2.78367690e-03,\n",
      "       1.69838739e-03, 2.83173306e-03, 4.87134048e-03, 3.81487932e-03,\n",
      "       3.28198718e-03, 3.53224804e-03, 6.45703823e-03, 3.30114366e-03,\n",
      "       2.89160364e-03, 2.02353586e-03, 5.30392204e-03, 3.72569558e-03,\n",
      "       3.39353949e-03, 4.23796637e-03, 4.57301582e-03, 2.17396848e-03,\n",
      "       5.86536814e-04, 1.47800584e-03, 4.32552109e-03, 9.42780947e-03]), 'param_max_depth': masked_array(data=[3, 3, 3, 3, 3, 3, 4, 4, 4, 4, 4, 4, 5, 5, 5, 5, 5, 5,\n",
      "                   6, 6, 6, 6, 6, 6, 7, 7, 7, 7, 7, 7, 8, 8, 8, 8, 8, 8,\n",
      "                   9, 9, 9, 9, 9, 9, 10, 10, 10, 10, 10, 10],\n",
      "             mask=[False, False, False, False, False, False, False, False,\n",
      "                   False, False, False, False, False, False, False, False,\n",
      "                   False, False, False, False, False, False, False, False,\n",
      "                   False, False, False, False, False, False, False, False,\n",
      "                   False, False, False, False, False, False, False, False,\n",
      "                   False, False, False, False, False, False, False, False],\n",
      "       fill_value='?',\n",
      "            dtype=object), 'param_min_child_weight': masked_array(data=[1, 2, 3, 4, 5, 6, 1, 2, 3, 4, 5, 6, 1, 2, 3, 4, 5, 6,\n",
      "                   1, 2, 3, 4, 5, 6, 1, 2, 3, 4, 5, 6, 1, 2, 3, 4, 5, 6,\n",
      "                   1, 2, 3, 4, 5, 6, 1, 2, 3, 4, 5, 6],\n",
      "             mask=[False, False, False, False, False, False, False, False,\n",
      "                   False, False, False, False, False, False, False, False,\n",
      "                   False, False, False, False, False, False, False, False,\n",
      "                   False, False, False, False, False, False, False, False,\n",
      "                   False, False, False, False, False, False, False, False,\n",
      "                   False, False, False, False, False, False, False, False],\n",
      "       fill_value='?',\n",
      "            dtype=object), 'params': [{'max_depth': 3, 'min_child_weight': 1}, {'max_depth': 3, 'min_child_weight': 2}, {'max_depth': 3, 'min_child_weight': 3}, {'max_depth': 3, 'min_child_weight': 4}, {'max_depth': 3, 'min_child_weight': 5}, {'max_depth': 3, 'min_child_weight': 6}, {'max_depth': 4, 'min_child_weight': 1}, {'max_depth': 4, 'min_child_weight': 2}, {'max_depth': 4, 'min_child_weight': 3}, {'max_depth': 4, 'min_child_weight': 4}, {'max_depth': 4, 'min_child_weight': 5}, {'max_depth': 4, 'min_child_weight': 6}, {'max_depth': 5, 'min_child_weight': 1}, {'max_depth': 5, 'min_child_weight': 2}, {'max_depth': 5, 'min_child_weight': 3}, {'max_depth': 5, 'min_child_weight': 4}, {'max_depth': 5, 'min_child_weight': 5}, {'max_depth': 5, 'min_child_weight': 6}, {'max_depth': 6, 'min_child_weight': 1}, {'max_depth': 6, 'min_child_weight': 2}, {'max_depth': 6, 'min_child_weight': 3}, {'max_depth': 6, 'min_child_weight': 4}, {'max_depth': 6, 'min_child_weight': 5}, {'max_depth': 6, 'min_child_weight': 6}, {'max_depth': 7, 'min_child_weight': 1}, {'max_depth': 7, 'min_child_weight': 2}, {'max_depth': 7, 'min_child_weight': 3}, {'max_depth': 7, 'min_child_weight': 4}, {'max_depth': 7, 'min_child_weight': 5}, {'max_depth': 7, 'min_child_weight': 6}, {'max_depth': 8, 'min_child_weight': 1}, {'max_depth': 8, 'min_child_weight': 2}, {'max_depth': 8, 'min_child_weight': 3}, {'max_depth': 8, 'min_child_weight': 4}, {'max_depth': 8, 'min_child_weight': 5}, {'max_depth': 8, 'min_child_weight': 6}, {'max_depth': 9, 'min_child_weight': 1}, {'max_depth': 9, 'min_child_weight': 2}, {'max_depth': 9, 'min_child_weight': 3}, {'max_depth': 9, 'min_child_weight': 4}, {'max_depth': 9, 'min_child_weight': 5}, {'max_depth': 9, 'min_child_weight': 6}, {'max_depth': 10, 'min_child_weight': 1}, {'max_depth': 10, 'min_child_weight': 2}, {'max_depth': 10, 'min_child_weight': 3}, {'max_depth': 10, 'min_child_weight': 4}, {'max_depth': 10, 'min_child_weight': 5}, {'max_depth': 10, 'min_child_weight': 6}], 'split0_test_score': array([0.58009896, 0.57701999, 0.57934864, 0.59017616, 0.58954421,\n",
      "       0.58990866, 0.57578166, 0.59615525, 0.57783234, 0.56979988,\n",
      "       0.57852043, 0.57464281, 0.5804618 , 0.57505782, 0.58571947,\n",
      "       0.59190482, 0.58419578, 0.58623293, 0.57082785, 0.56513504,\n",
      "       0.56909482, 0.58333678, 0.59067688, 0.5829891 , 0.58353801,\n",
      "       0.58178583, 0.58495712, 0.57975819, 0.57319252, 0.59162444,\n",
      "       0.58382584, 0.58031016, 0.58162311, 0.58140312, 0.58223313,\n",
      "       0.5689498 , 0.57475144, 0.58112686, 0.5759394 , 0.59620882,\n",
      "       0.58783472, 0.57631041, 0.58514288, 0.60512939, 0.58275945,\n",
      "       0.58408864, 0.59639135, 0.58640626]), 'split1_test_score': array([0.53379312, 0.53681038, 0.53656976, 0.53680544, 0.54124173,\n",
      "       0.5352262 , 0.53119711, 0.54507862, 0.53319724, 0.52709077,\n",
      "       0.52918348, 0.54000611, 0.52560162, 0.54113599, 0.52791437,\n",
      "       0.53837578, 0.52313144, 0.51674654, 0.54025457, 0.51821558,\n",
      "       0.52428733, 0.54541   , 0.53867867, 0.51130075, 0.54130044,\n",
      "       0.52967371, 0.53446642, 0.54670416, 0.53805183, 0.53444874,\n",
      "       0.51897964, 0.53564838, 0.53551541, 0.5433727 , 0.52558022,\n",
      "       0.53603823, 0.54286101, 0.54654763, 0.54518926, 0.54041787,\n",
      "       0.53140284, 0.54098144, 0.53266353, 0.54851615, 0.53038211,\n",
      "       0.55909445, 0.52333355, 0.54739648]), 'split2_test_score': array([0.55111474, 0.55226964, 0.56703805, 0.56129193, 0.562144  ,\n",
      "       0.55635207, 0.55442518, 0.55684591, 0.56570075, 0.56935847,\n",
      "       0.54785938, 0.55992877, 0.55950369, 0.536356  , 0.55348486,\n",
      "       0.56161314, 0.55996588, 0.55636062, 0.54478119, 0.54757839,\n",
      "       0.55415417, 0.56136142, 0.54077706, 0.55116928, 0.55803778,\n",
      "       0.55210694, 0.56878831, 0.56222689, 0.56300218, 0.55727175,\n",
      "       0.55735954, 0.54295282, 0.56087294, 0.55649666, 0.56133297,\n",
      "       0.54396807, 0.54277059, 0.55225842, 0.56847902, 0.55290955,\n",
      "       0.54306977, 0.55424971, 0.55741336, 0.55546025, 0.55844054,\n",
      "       0.55464181, 0.5530173 , 0.56796093]), 'split3_test_score': array([0.58943909, 0.6022412 , 0.59502406, 0.59656738, 0.60711173,\n",
      "       0.61495092, 0.58716542, 0.59750374, 0.59982793, 0.5948546 ,\n",
      "       0.59886854, 0.60309403, 0.57783823, 0.60107364, 0.60433903,\n",
      "       0.59593639, 0.60202923, 0.60955368, 0.60740611, 0.59670246,\n",
      "       0.60075259, 0.600834  , 0.61065519, 0.60958049, 0.60969481,\n",
      "       0.60422965, 0.60619031, 0.61132331, 0.6130701 , 0.60464158,\n",
      "       0.60571434, 0.59890141, 0.58903775, 0.59507034, 0.61951262,\n",
      "       0.61480519, 0.60625945, 0.60669748, 0.6067486 , 0.61613694,\n",
      "       0.61418947, 0.61070788, 0.60887034, 0.60739604, 0.60900773,\n",
      "       0.59948848, 0.61185029, 0.61082782]), 'split4_test_score': array([0.57347451, 0.57467422, 0.57199994, 0.57259359, 0.56817376,\n",
      "       0.57480772, 0.57600811, 0.56098972, 0.57451674, 0.57232744,\n",
      "       0.56941479, 0.57162068, 0.58041993, 0.57533165, 0.57628458,\n",
      "       0.56410649, 0.57661748, 0.57169859, 0.57815721, 0.56432027,\n",
      "       0.58660309, 0.56754634, 0.57578281, 0.5803973 , 0.57797995,\n",
      "       0.59041336, 0.58274841, 0.58593294, 0.5817831 , 0.57475563,\n",
      "       0.57010437, 0.57315978, 0.58768685, 0.58879187, 0.57596957,\n",
      "       0.56621531, 0.57071063, 0.58482404, 0.58477277, 0.58235509,\n",
      "       0.58536144, 0.57438911, 0.57036195, 0.59213402, 0.60313369,\n",
      "       0.57567965, 0.57522359, 0.58130054]), 'mean_test_score': array([0.56556917, 0.56858442, 0.56998339, 0.57147459, 0.57362993,\n",
      "       0.57422972, 0.56489983, 0.57130719, 0.57019906, 0.56667034,\n",
      "       0.56475112, 0.56984203, 0.56475155, 0.56576996, 0.56952895,\n",
      "       0.57037827, 0.56916904, 0.56809732, 0.56826236, 0.55836955,\n",
      "       0.5669533 , 0.57168597, 0.57129353, 0.56706116, 0.57409166,\n",
      "       0.57161776, 0.57541222, 0.57716895, 0.57379776, 0.57253231,\n",
      "       0.56717728, 0.56617587, 0.57093084, 0.57300917, 0.57290238,\n",
      "       0.56597228, 0.56745087, 0.57427071, 0.57620745, 0.57758531,\n",
      "       0.57234589, 0.57130776, 0.57087281, 0.58171022, 0.57671714,\n",
      "       0.5745864 , 0.57194294, 0.57876216]), 'std_test_score': array([0.02031001, 0.02243391, 0.01920524, 0.02138669, 0.02273637,\n",
      "       0.02736745, 0.01991766, 0.02148259, 0.02165292, 0.0219556 ,\n",
      "       0.02418964, 0.02059004, 0.02109473, 0.02406504, 0.02649167,\n",
      "       0.02124818, 0.02670549, 0.03109864, 0.02437822, 0.02560833,\n",
      "       0.02652172, 0.01896926, 0.02807208, 0.03347184, 0.02325707,\n",
      "       0.02705656, 0.02371894, 0.02191226, 0.02449413, 0.02483612,\n",
      "       0.02895057, 0.02362517, 0.02039061, 0.01978556, 0.03046788,\n",
      "       0.02746545, 0.02359178, 0.02219265, 0.02013751, 0.02773516,\n",
      "       0.03063827, 0.02364958, 0.02564571, 0.0249355 , 0.02918187,\n",
      "       0.01642679, 0.03137832, 0.02094366]), 'rank_test_score': array([44, 33, 29, 21, 13, 10, 45, 23, 28, 40, 47, 30, 46, 43, 31, 27, 32,\n",
      "       35, 34, 48, 39, 19, 24, 38, 11, 20,  7,  4, 12, 16, 37, 41, 25, 14,\n",
      "       15, 42, 36,  9,  6,  3, 17, 22, 26,  1,  5,  8, 18,  2],\n",
      "      dtype=int32), 'split0_train_score': array([0.81087291, 0.81274061, 0.81096471, 0.81107031, 0.81088987,\n",
      "       0.81015858, 0.90197104, 0.90205017, 0.90373422, 0.89917882,\n",
      "       0.89843721, 0.89726152, 0.9576189 , 0.95967579, 0.95865554,\n",
      "       0.95998663, 0.95911287, 0.95634784, 0.98847059, 0.98720666,\n",
      "       0.98806493, 0.98747892, 0.98597614, 0.98478876, 0.99598193,\n",
      "       0.99626378, 0.99647747, 0.99579932, 0.99566926, 0.99502269,\n",
      "       0.99806266, 0.99785535, 0.99808981, 0.99783737, 0.99767137,\n",
      "       0.99750178, 0.99835978, 0.99840093, 0.99829411, 0.99823117,\n",
      "       0.99786369, 0.9976301 , 0.99846679, 0.9984697 , 0.99849296,\n",
      "       0.99833065, 0.99812868, 0.99790092]), 'split1_train_score': array([0.82311624, 0.82334541, 0.81939633, 0.8218654 , 0.81978891,\n",
      "       0.8186143 , 0.90877385, 0.90728644, 0.91065168, 0.90611428,\n",
      "       0.9051824 , 0.90381921, 0.96742505, 0.96476059, 0.96442361,\n",
      "       0.96520933, 0.96025266, 0.96198554, 0.98859241, 0.98873248,\n",
      "       0.98825791, 0.98676266, 0.98730794, 0.98680167, 0.99676208,\n",
      "       0.99674038, 0.99683473, 0.99634597, 0.99629612, 0.99578872,\n",
      "       0.99816877, 0.99803222, 0.9981354 , 0.99795122, 0.99805754,\n",
      "       0.99780832, 0.99836197, 0.99842488, 0.99832131, 0.99842087,\n",
      "       0.99832987, 0.99815955, 0.99849339, 0.99847355, 0.99841463,\n",
      "       0.99842606, 0.99838547, 0.99846387]), 'split2_train_score': array([0.81713578, 0.81867141, 0.81856826, 0.81997328, 0.81805807,\n",
      "       0.81162446, 0.90258619, 0.90441291, 0.903797  , 0.90373663,\n",
      "       0.89971691, 0.89681271, 0.95921403, 0.96056426, 0.96188091,\n",
      "       0.96054409, 0.95601276, 0.95696822, 0.9889654 , 0.98860076,\n",
      "       0.98851944, 0.98649729, 0.98599253, 0.98090751, 0.99613319,\n",
      "       0.99683988, 0.99691019, 0.99613769, 0.99571234, 0.99524754,\n",
      "       0.99799982, 0.99811759, 0.9980896 , 0.99806617, 0.99796298,\n",
      "       0.99757431, 0.99834061, 0.99839543, 0.9983743 , 0.99832437,\n",
      "       0.9982783 , 0.99796924, 0.99850289, 0.99845553, 0.99847438,\n",
      "       0.99835161, 0.99824118, 0.99824916]), 'split3_train_score': array([0.81482434, 0.81720721, 0.81844391, 0.81378164, 0.81082785,\n",
      "       0.80998829, 0.90345276, 0.90728536, 0.90411391, 0.90261493,\n",
      "       0.90144298, 0.90163478, 0.96252968, 0.96355103, 0.96361505,\n",
      "       0.96158528, 0.95861672, 0.9594199 , 0.98736078, 0.9884024 ,\n",
      "       0.98809669, 0.98834205, 0.98660492, 0.98467226, 0.99649278,\n",
      "       0.99634361, 0.99624427, 0.99645009, 0.99557808, 0.99532733,\n",
      "       0.99801217, 0.99795722, 0.99801724, 0.99798875, 0.99751715,\n",
      "       0.99758124, 0.99821279, 0.99831691, 0.9982311 , 0.99818375,\n",
      "       0.99780666, 0.99753487, 0.99845624, 0.99838955, 0.99841047,\n",
      "       0.99827907, 0.99802338, 0.99793624]), 'split4_train_score': array([0.82348989, 0.82383171, 0.82333032, 0.8216767 , 0.81957456,\n",
      "       0.81880727, 0.9081132 , 0.91016235, 0.91005673, 0.90970082,\n",
      "       0.90970596, 0.90485315, 0.96344108, 0.96321133, 0.96239476,\n",
      "       0.96582138, 0.96280353, 0.9613107 , 0.98890929, 0.98920504,\n",
      "       0.9875879 , 0.98862042, 0.9881952 , 0.98675146, 0.99647569,\n",
      "       0.9969501 , 0.99649058, 0.99649229, 0.99629705, 0.99547964,\n",
      "       0.99801193, 0.99810035, 0.99807529, 0.99790667, 0.99788004,\n",
      "       0.99739651, 0.9983651 , 0.99842348, 0.99835171, 0.9983288 ,\n",
      "       0.99824234, 0.99780737, 0.99848929, 0.99852573, 0.99847685,\n",
      "       0.99836445, 0.9981889 , 0.99786235]), 'mean_train_score': array([0.81788783, 0.81915927, 0.8181407 , 0.81767346, 0.81582785,\n",
      "       0.81383858, 0.90497941, 0.90623945, 0.90647071, 0.9042691 ,\n",
      "       0.90289709, 0.90087627, 0.96204575, 0.9623526 , 0.96219397,\n",
      "       0.96262934, 0.95935971, 0.95920644, 0.98845969, 0.98842947,\n",
      "       0.98810538, 0.98754027, 0.98681535, 0.98478433, 0.99636913,\n",
      "       0.99662755, 0.99659145, 0.99624507, 0.99591057, 0.99537318,\n",
      "       0.99805107, 0.99801255, 0.99808147, 0.99795004, 0.99781782,\n",
      "       0.99757243, 0.99832805, 0.99839233, 0.9983145 , 0.99829779,\n",
      "       0.99810417, 0.99782023, 0.99848172, 0.99846281, 0.99845386,\n",
      "       0.99835037, 0.99819352, 0.99808251]), 'std_train_score': array([4.85549190e-03, 4.11347241e-03, 4.00695181e-03, 4.41894545e-03,\n",
      "       4.10086448e-03, 4.01907646e-03, 2.87495714e-03, 2.77364543e-03,\n",
      "       3.17904731e-03, 3.51678891e-03, 4.09150066e-03, 3.30547342e-03,\n",
      "       3.42735016e-03, 1.91496933e-03, 1.98240184e-03, 2.41941102e-03,\n",
      "       2.21234253e-03, 2.25291312e-03, 5.80210586e-04, 6.66131277e-04,\n",
      "       3.04699958e-04, 8.37355142e-04, 8.45247779e-04, 2.14390085e-03,\n",
      "       2.78081753e-04, 2.73787504e-04, 2.46768622e-04, 2.54383188e-04,\n",
      "       3.18148678e-04, 2.54848182e-04, 6.27029823e-05, 9.68531039e-05,\n",
      "       3.79684532e-05, 7.68905746e-05, 1.97108123e-04, 1.35397854e-04,\n",
      "       5.82604270e-05, 3.95024544e-05, 4.97548624e-05, 8.27765284e-05,\n",
      "       2.22123698e-04, 2.25871985e-04, 1.74015980e-05, 4.36863444e-05,\n",
      "       3.43503899e-05, 4.77540321e-05, 1.20242343e-04, 2.34967186e-04])}\n",
      "max_depth：{'max_depth': 10, 'min_child_weight': 2},min_child_weight:{'max_depth': 10, 'min_child_weight': 2}\n",
      "最佳模型得分:0.5817102155370623\n"
     ]
    }
   ],
   "source": [
    "if __name__ == '__main__':\n",
    "    cv_params = {'max_depth': [3, 4, 5, 6, 7, 8, 9, 10], 'min_child_weight': [1, 2, 3, 4, 5, 6]}\n",
    "    other_params = {'learning_rate': 0.08, 'n_estimators': 150, 'max_depth': 9, 'min_child_weight': 3, 'seed': 0,\n",
    "                    'subsample': 0.9, 'colsample_bytree': 0.7, 'gamma': 0.6, 'reg_alpha': 0.05, 'reg_lambda': 0.05}\n",
    "#     other_params = {'learning_rate': 0.07, 'n_estimators': 110, 'max_depth': 9, 'min_child_weight': 1, 'seed': 0,\n",
    "#                     'subsample': 0.7, 'colsample_bytree': 0.8, 'gamma': 0.2, 'reg_alpha': 0, 'reg_lambda': 1}\n",
    "    model = XGBRegressor(**other_params)\n",
    "    optimized_GBM = GridSearchCV(estimator=model, param_grid=cv_params, scoring='r2', cv=5, verbose=1, n_jobs=4)\n",
    "    optimized_GBM.fit(x0, y0)\n",
    "    evalute_result = optimized_GBM.cv_results_\n",
    "    print('每轮迭代运行结果:{0}'.format(evalute_result))\n",
    "    print('max_depth：{0},min_child_weight:{0}'.format(optimized_GBM.best_params_))\n",
    "    print('最佳模型得分:{0}'.format(optimized_GBM.best_score_))"
   ]
  },
  {
   "cell_type": "markdown",
   "metadata": {},
   "source": [
    "# gamma"
   ]
  },
  {
   "cell_type": "code",
   "execution_count": 226,
   "metadata": {
    "colab": {
     "base_uri": "https://localhost:8080/",
     "height": 496
    },
    "colab_type": "code",
    "id": "Z0uIOCO5kPHL",
    "outputId": "a23bd510-ec6d-4ab9-f76b-6a9291f53ae5"
   },
   "outputs": [
    {
     "name": "stdout",
     "output_type": "stream",
     "text": [
      "Fitting 5 folds for each of 6 candidates, totalling 30 fits\n"
     ]
    },
    {
     "name": "stderr",
     "output_type": "stream",
     "text": [
      "[Parallel(n_jobs=4)]: Using backend LokyBackend with 4 concurrent workers.\n",
      "[Parallel(n_jobs=4)]: Done  30 out of  30 | elapsed:  4.0min finished\n"
     ]
    },
    {
     "name": "stdout",
     "output_type": "stream",
     "text": [
      "每轮迭代运行结果:{'mean_fit_time': array([31.96277976, 31.55468364, 31.63713984, 31.62883296, 31.6820189 ,\n",
      "       25.3752059 ]), 'std_fit_time': array([0.1363462 , 0.15351636, 0.11222892, 0.11722323, 0.13633238,\n",
      "       7.67446434]), 'mean_score_time': array([0.04524426, 0.03843417, 0.04507022, 0.03960347, 0.04141483,\n",
      "       0.02984662]), 'std_score_time': array([0.00197618, 0.00346056, 0.00550068, 0.002842  , 0.00102647,\n",
      "       0.01056791]), 'param_gamma': masked_array(data=[0.1, 0.2, 0.3, 0.4, 0.5, 0.6],\n",
      "             mask=[False, False, False, False, False, False],\n",
      "       fill_value='?',\n",
      "            dtype=object), 'params': [{'gamma': 0.1}, {'gamma': 0.2}, {'gamma': 0.3}, {'gamma': 0.4}, {'gamma': 0.5}, {'gamma': 0.6}], 'split0_test_score': array([0.60039072, 0.60343671, 0.60975426, 0.60284804, 0.60881705,\n",
      "       0.60842844]), 'split1_test_score': array([0.54828033, 0.54390742, 0.5494109 , 0.5595681 , 0.5672792 ,\n",
      "       0.56091868]), 'split2_test_score': array([0.58823163, 0.59094944, 0.57005202, 0.57554179, 0.57915766,\n",
      "       0.58078423]), 'split3_test_score': array([0.62650593, 0.62093551, 0.62387103, 0.61656173, 0.61927588,\n",
      "       0.61841993]), 'split4_test_score': array([0.59556133, 0.58995029, 0.59570853, 0.59504968, 0.5925441 ,\n",
      "       0.59913058]), 'mean_test_score': array([0.59177591, 0.58982121, 0.58974052, 0.58989893, 0.59340303,\n",
      "       0.59352205]), 'std_test_score': array([0.02529539, 0.02554854, 0.02689145, 0.02015628, 0.01893795,\n",
      "       0.02049016]), 'rank_test_score': array([3, 5, 6, 4, 2, 1], dtype=int32), 'split0_train_score': array([0.99970054, 0.99945889, 0.9991871 , 0.99894639, 0.99872051,\n",
      "       0.99847764]), 'split1_train_score': array([0.99971841, 0.99945528, 0.99922779, 0.99895946, 0.99869475,\n",
      "       0.99844646]), 'split2_train_score': array([0.99970843, 0.99944563, 0.99919824, 0.99897343, 0.99874617,\n",
      "       0.99850281]), 'split3_train_score': array([0.99969869, 0.99944259, 0.99918004, 0.99897651, 0.99871311,\n",
      "       0.99846499]), 'split4_train_score': array([0.99972394, 0.99948037, 0.99922953, 0.99901733, 0.99877806,\n",
      "       0.99855323]), 'mean_train_score': array([0.99971   , 0.99945655, 0.99920454, 0.99897463, 0.99873052,\n",
      "       0.99848903]), 'std_train_score': array([9.84632558e-06, 1.33323438e-05, 2.05386489e-05, 2.38989145e-05,\n",
      "       2.89400804e-05, 3.69622747e-05])}\n",
      "gamma：{'gamma': 0.6}\n",
      "最佳模型得分:0.5935220505046027\n"
     ]
    }
   ],
   "source": [
    "if __name__ == '__main__':\n",
    "    cv_params = {'gamma': [0.1, 0.2, 0.3, 0.4, 0.5, 0.6]}\n",
    "    other_params = {'learning_rate': 0.07, 'n_estimators': 150, 'max_depth': 10, 'min_child_weight': 2, 'seed': 0,\n",
    "                    'subsample': 0.9, 'colsample_bytree': 0.7, 'gamma': 0.6, 'reg_alpha': 0.05, 'reg_lambda': 0.05}\n",
    "#     other_params = {'learning_rate': 0.07, 'n_estimators': 110, 'max_depth': 9, 'min_child_weight': 1, 'seed': 0,\n",
    "#                     'subsample': 0.7, 'colsample_bytree': 0.8, 'gamma': 0.2, 'reg_alpha': 0, 'reg_lambda': 1}\n",
    "    model = XGBRegressor(**other_params)\n",
    "    optimized_GBM = GridSearchCV(estimator=model, param_grid=cv_params, scoring='r2', cv=5, verbose=1, n_jobs=4)\n",
    "    optimized_GBM.fit(x0, y0)\n",
    "    evalute_result = optimized_GBM.cv_results_\n",
    "    print('每轮迭代运行结果:{0}'.format(evalute_result))\n",
    "    print('gamma：{0}'.format(optimized_GBM.best_params_))\n",
    "    print('最佳模型得分:{0}'.format(optimized_GBM.best_score_))"
   ]
  },
  {
   "cell_type": "markdown",
   "metadata": {},
   "source": [
    "# subsample and colsample_bytree"
   ]
  },
  {
   "cell_type": "code",
   "execution_count": 227,
   "metadata": {
    "colab": {
     "base_uri": "https://localhost:8080/",
     "height": 1261
    },
    "colab_type": "code",
    "id": "mBz5gquulJRW",
    "outputId": "bec7e7f2-a22d-413a-f685-e009b10bc424"
   },
   "outputs": [
    {
     "name": "stdout",
     "output_type": "stream",
     "text": [
      "Fitting 5 folds for each of 16 candidates, totalling 80 fits\n"
     ]
    },
    {
     "name": "stderr",
     "output_type": "stream",
     "text": [
      "[Parallel(n_jobs=4)]: Using backend LokyBackend with 4 concurrent workers.\n",
      "[Parallel(n_jobs=4)]: Done  42 tasks      | elapsed:  5.2min\n",
      "[Parallel(n_jobs=4)]: Done  80 out of  80 | elapsed: 10.7min finished\n"
     ]
    },
    {
     "name": "stdout",
     "output_type": "stream",
     "text": [
      "每轮迭代运行结果:{'mean_fit_time': array([23.78242092, 25.67630014, 26.67252574, 27.56512985, 27.986903  ,\n",
      "       29.40303636, 30.6237556 , 31.75930157, 31.81347132, 33.21566505,\n",
      "       34.51553679, 35.78695545, 35.14440069, 37.06083379, 38.54237328,\n",
      "       36.82359896]), 'std_fit_time': array([0.28741622, 0.10859971, 0.07416588, 0.08045897, 0.12632599,\n",
      "       0.10696252, 0.08962261, 0.23795924, 0.18993598, 0.09655119,\n",
      "       0.05753449, 0.11539296, 0.13100526, 0.22912155, 0.2168005 ,\n",
      "       3.36809262]), 'mean_score_time': array([0.04358253, 0.04231687, 0.04251099, 0.04080462, 0.04355788,\n",
      "       0.04292064, 0.04326615, 0.04056525, 0.04438891, 0.03955889,\n",
      "       0.04130726, 0.04213924, 0.0419158 , 0.04172258, 0.0414259 ,\n",
      "       0.02244325]), 'std_score_time': array([0.00190018, 0.0035572 , 0.0024762 , 0.00324208, 0.00328437,\n",
      "       0.00287318, 0.0059837 , 0.00568023, 0.00434104, 0.0028873 ,\n",
      "       0.00160382, 0.00190768, 0.004543  , 0.00262743, 0.00265836,\n",
      "       0.00889284]), 'param_colsample_bytree': masked_array(data=[0.6, 0.6, 0.6, 0.6, 0.7, 0.7, 0.7, 0.7, 0.8, 0.8, 0.8,\n",
      "                   0.8, 0.9, 0.9, 0.9, 0.9],\n",
      "             mask=[False, False, False, False, False, False, False, False,\n",
      "                   False, False, False, False, False, False, False, False],\n",
      "       fill_value='?',\n",
      "            dtype=object), 'param_subsample': masked_array(data=[0.6, 0.7, 0.8, 0.9, 0.6, 0.7, 0.8, 0.9, 0.6, 0.7, 0.8,\n",
      "                   0.9, 0.6, 0.7, 0.8, 0.9],\n",
      "             mask=[False, False, False, False, False, False, False, False,\n",
      "                   False, False, False, False, False, False, False, False],\n",
      "       fill_value='?',\n",
      "            dtype=object), 'params': [{'colsample_bytree': 0.6, 'subsample': 0.6}, {'colsample_bytree': 0.6, 'subsample': 0.7}, {'colsample_bytree': 0.6, 'subsample': 0.8}, {'colsample_bytree': 0.6, 'subsample': 0.9}, {'colsample_bytree': 0.7, 'subsample': 0.6}, {'colsample_bytree': 0.7, 'subsample': 0.7}, {'colsample_bytree': 0.7, 'subsample': 0.8}, {'colsample_bytree': 0.7, 'subsample': 0.9}, {'colsample_bytree': 0.8, 'subsample': 0.6}, {'colsample_bytree': 0.8, 'subsample': 0.7}, {'colsample_bytree': 0.8, 'subsample': 0.8}, {'colsample_bytree': 0.8, 'subsample': 0.9}, {'colsample_bytree': 0.9, 'subsample': 0.6}, {'colsample_bytree': 0.9, 'subsample': 0.7}, {'colsample_bytree': 0.9, 'subsample': 0.8}, {'colsample_bytree': 0.9, 'subsample': 0.9}], 'split0_test_score': array([0.61398841, 0.61505726, 0.5906354 , 0.59953324, 0.59829824,\n",
      "       0.60852538, 0.58703326, 0.60842844, 0.59832078, 0.61644903,\n",
      "       0.58036531, 0.59946394, 0.58543418, 0.59429978, 0.58340994,\n",
      "       0.5974314 ]), 'split1_test_score': array([0.53293258, 0.54808574, 0.54110408, 0.54181932, 0.5280073 ,\n",
      "       0.52732254, 0.55274273, 0.56091868, 0.52596242, 0.53459302,\n",
      "       0.53718398, 0.53302771, 0.52657199, 0.54021256, 0.55241316,\n",
      "       0.54900967]), 'split2_test_score': array([0.5470632 , 0.57780005, 0.58165868, 0.58945825, 0.57447017,\n",
      "       0.5973185 , 0.58973635, 0.58078423, 0.56893865, 0.57304322,\n",
      "       0.56637508, 0.58923983, 0.54331949, 0.5678942 , 0.55885811,\n",
      "       0.57144852]), 'split3_test_score': array([0.61359051, 0.61240322, 0.62633348, 0.63097532, 0.59673327,\n",
      "       0.62283926, 0.62554454, 0.61841993, 0.61626161, 0.63650534,\n",
      "       0.61844352, 0.62871898, 0.62145385, 0.61353125, 0.62328575,\n",
      "       0.62499395]), 'split4_test_score': array([0.56556834, 0.58728159, 0.58110295, 0.57920392, 0.57550281,\n",
      "       0.58174069, 0.5917314 , 0.59913058, 0.56718531, 0.58614778,\n",
      "       0.58195325, 0.58183699, 0.56955113, 0.58574857, 0.57882465,\n",
      "       0.57968921]), 'mean_test_score': array([0.57461456, 0.58811456, 0.58414854, 0.58818213, 0.57459154,\n",
      "       0.58753542, 0.58933954, 0.59352205, 0.57531835, 0.58932702,\n",
      "       0.5768423 , 0.5864398 , 0.56924147, 0.58031913, 0.57933793,\n",
      "       0.58449779]), 'std_test_score': array([0.0336133 , 0.02460363, 0.02716326, 0.02895272, 0.02539715,\n",
      "       0.03299674, 0.0230683 , 0.02049016, 0.03081781, 0.03530745,\n",
      "       0.02627035, 0.03111056, 0.03310532, 0.0248642 , 0.02486359,\n",
      "       0.0255311 ]), 'rank_test_score': array([14,  5,  9,  4, 15,  6,  2,  1, 13,  3, 12,  7, 16, 10, 11,  8],\n",
      "      dtype=int32), 'split0_train_score': array([0.99795954, 0.99830002, 0.99842885, 0.99850214, 0.9980024 ,\n",
      "       0.99826091, 0.99837051, 0.99847764, 0.99808345, 0.99832923,\n",
      "       0.99844197, 0.99845146, 0.99803359, 0.99831499, 0.99845946,\n",
      "       0.99848661]), 'split1_train_score': array([0.99797318, 0.99828784, 0.99844425, 0.99849673, 0.99802059,\n",
      "       0.99832733, 0.99845045, 0.99844646, 0.9981029 , 0.9983033 ,\n",
      "       0.99847585, 0.99851759, 0.99820589, 0.99831735, 0.99845752,\n",
      "       0.99856076]), 'split2_train_score': array([0.99799737, 0.99831782, 0.99842826, 0.99847691, 0.99799515,\n",
      "       0.99834649, 0.99840703, 0.99850281, 0.99808125, 0.99836416,\n",
      "       0.99844862, 0.99855057, 0.99815821, 0.99839313, 0.99848924,\n",
      "       0.99852807]), 'split3_train_score': array([0.99787859, 0.99817011, 0.99835402, 0.99845089, 0.99803969,\n",
      "       0.99824372, 0.99839687, 0.99846499, 0.99807246, 0.99829703,\n",
      "       0.99843739, 0.99849482, 0.99801181, 0.99830999, 0.99850376,\n",
      "       0.99852027]), 'split4_train_score': array([0.99796832, 0.9982984 , 0.99843826, 0.99852493, 0.99806762,\n",
      "       0.99833881, 0.99849961, 0.99855323, 0.99811383, 0.99836545,\n",
      "       0.99849891, 0.99853853, 0.99819443, 0.99840165, 0.99854044,\n",
      "       0.99858326]), 'mean_train_score': array([0.9979554 , 0.99827484, 0.99841873, 0.99849032, 0.99802509,\n",
      "       0.99830345, 0.99842489, 0.99848903, 0.99809078, 0.99833183,\n",
      "       0.99846055, 0.99851059, 0.99812078, 0.99834742, 0.99849008,\n",
      "       0.99853579]), 'std_train_score': array([4.03993142e-05, 5.32413508e-05, 3.29022126e-05, 2.49531353e-05,\n",
      "       2.62808931e-05, 4.25458763e-05, 4.53809897e-05, 3.69622747e-05,\n",
      "       1.52203720e-05, 2.90080955e-05, 2.33652417e-05, 3.51368968e-05,\n",
      "       8.19082459e-05, 4.09562310e-05, 3.07294666e-05, 3.34527734e-05])}\n",
      "{'colsample_bytree': 0.7, 'subsample': 0.9}\n",
      "最佳模型得分:0.5935220505046027\n"
     ]
    }
   ],
   "source": [
    "if __name__ == '__main__':\n",
    "    cv_params = {'subsample': [0.6, 0.7, 0.8, 0.9], 'colsample_bytree': [0.6, 0.7, 0.8, 0.9]}\n",
    "    other_params = {'learning_rate': 0.07, 'n_estimators': 150, 'max_depth': 10, 'min_child_weight': 2, 'seed': 0,\n",
    "                    'subsample': 0.9, 'colsample_bytree': 0.6, 'gamma': 0.6, 'reg_alpha': 0.05, 'reg_lambda': 0.05}\n",
    "#     other_params = {'learning_rate': 0.07, 'n_estimators': 110, 'max_depth': 9, 'min_child_weight': 1, 'seed': 0,\n",
    "#                     'subsample': 0.7, 'colsample_bytree': 0.8, 'gamma': 0.2, 'reg_alpha': 0, 'reg_lambda': 1}\n",
    "    model = XGBRegressor(**other_params)\n",
    "    optimized_GBM = GridSearchCV(estimator=model, param_grid=cv_params, scoring='r2', cv=5, verbose=1, n_jobs=4)\n",
    "    optimized_GBM.fit(x0, y0)\n",
    "    evalute_result = optimized_GBM.cv_results_\n",
    "    print('每轮迭代运行结果:{0}'.format(evalute_result))\n",
    "    print('{0}'.format(optimized_GBM.best_params_))\n",
    "    print('最佳模型得分:{0}'.format(optimized_GBM.best_score_))"
   ]
  },
  {
   "cell_type": "markdown",
   "metadata": {},
   "source": [
    "# 正则 reg_alpha and reg_lambda"
   ]
  },
  {
   "cell_type": "code",
   "execution_count": 228,
   "metadata": {
    "colab": {
     "base_uri": "https://localhost:8080/",
     "height": 3471
    },
    "colab_type": "code",
    "id": "fwcrt1E1lt8u",
    "outputId": "9c03364a-4ff9-4697-8a02-10778f5d6fe3"
   },
   "outputs": [
    {
     "name": "stdout",
     "output_type": "stream",
     "text": [
      "Fitting 5 folds for each of 49 candidates, totalling 245 fits\n"
     ]
    },
    {
     "name": "stderr",
     "output_type": "stream",
     "text": [
      "[Parallel(n_jobs=4)]: Using backend LokyBackend with 4 concurrent workers.\n",
      "[Parallel(n_jobs=4)]: Done  42 tasks      | elapsed:  5.9min\n",
      "[Parallel(n_jobs=4)]: Done 192 tasks      | elapsed: 25.6min\n",
      "[Parallel(n_jobs=4)]: Done 245 out of 245 | elapsed: 32.6min finished\n"
     ]
    },
    {
     "name": "stdout",
     "output_type": "stream",
     "text": [
      "每轮迭代运行结果:{'mean_fit_time': array([31.74635334, 32.68744974, 32.35825982, 32.3144978 , 31.70077744,\n",
      "       30.54707174, 29.9909071 , 32.78620605, 32.75365443, 32.39127998,\n",
      "       32.18095555, 31.83298364, 30.55723367, 29.89607196, 32.65318594,\n",
      "       32.64464431, 32.55304632, 32.01894317, 31.48980231, 30.73541589,\n",
      "       29.93264618, 32.48803935, 32.38079925, 32.44187436, 32.02948995,\n",
      "       31.46555958, 30.41905293, 30.27556448, 32.42674761, 32.5166348 ,\n",
      "       32.35944681, 31.96868734, 31.36340075, 30.44204345, 30.00032744,\n",
      "       32.87184796, 32.57523446, 32.488486  , 32.13642836, 31.69837403,\n",
      "       30.73108311, 30.31398211, 32.73294029, 32.96053123, 32.6097384 ,\n",
      "       32.42431841, 31.80779476, 30.85275521, 26.34174571]), 'std_fit_time': array([0.56210664, 0.22780692, 0.17774728, 0.22982524, 0.10308531,\n",
      "       0.17632833, 0.21796178, 0.16473184, 0.19314507, 0.12609506,\n",
      "       0.18901487, 0.14481106, 0.20262197, 0.14381712, 0.1842557 ,\n",
      "       0.32372791, 0.11114398, 0.14403201, 0.15095543, 0.2601492 ,\n",
      "       0.10763313, 0.13948385, 0.17051293, 0.0398095 , 0.2142149 ,\n",
      "       0.14057834, 0.12319217, 0.21001734, 0.11170278, 0.12622978,\n",
      "       0.23708762, 0.1905247 , 0.19556744, 0.10875667, 0.05833557,\n",
      "       0.1780249 , 0.17027466, 0.11984457, 0.09188788, 0.15312643,\n",
      "       0.08159504, 0.13433367, 0.07371957, 0.30921911, 0.19278906,\n",
      "       0.22613011, 0.13533235, 0.14682815, 6.51371647]), 'mean_score_time': array([0.04196162, 0.04108334, 0.04408488, 0.0400928 , 0.04089217,\n",
      "       0.04043484, 0.04376855, 0.04292345, 0.03941522, 0.04050202,\n",
      "       0.0403296 , 0.04374828, 0.03920059, 0.04077458, 0.04031324,\n",
      "       0.0404357 , 0.03983512, 0.03876648, 0.04221282, 0.03536029,\n",
      "       0.03869081, 0.03917675, 0.04076509, 0.03959336, 0.04289546,\n",
      "       0.03934655, 0.03894062, 0.04127555, 0.0425735 , 0.03923903,\n",
      "       0.0390975 , 0.03835964, 0.04081659, 0.04109511, 0.0387959 ,\n",
      "       0.0376492 , 0.03587809, 0.03619542, 0.03962693, 0.04169474,\n",
      "       0.03806119, 0.04107957, 0.04064426, 0.03784132, 0.04188557,\n",
      "       0.03856101, 0.03941636, 0.04324031, 0.0302062 ]), 'std_score_time': array([0.00320446, 0.00034413, 0.00416026, 0.00288777, 0.00115228,\n",
      "       0.00417205, 0.0038018 , 0.00245804, 0.00266914, 0.00332367,\n",
      "       0.0040628 , 0.00293677, 0.003109  , 0.00077493, 0.00449371,\n",
      "       0.00144043, 0.00388486, 0.00300298, 0.00327373, 0.00784445,\n",
      "       0.00301863, 0.00275322, 0.0002108 , 0.00343451, 0.00218494,\n",
      "       0.00301597, 0.00352455, 0.00125316, 0.00160033, 0.00298479,\n",
      "       0.0029596 , 0.00387443, 0.00118089, 0.00485595, 0.00291462,\n",
      "       0.00324966, 0.00420823, 0.00470247, 0.00303516, 0.00383633,\n",
      "       0.00347123, 0.00438713, 0.00502053, 0.0043398 , 0.00539897,\n",
      "       0.00469548, 0.00274485, 0.003206  , 0.01102299]), 'param_reg_alpha': masked_array(data=[0, 0, 0, 0, 0, 0, 0, 0.001, 0.001, 0.001, 0.001, 0.001,\n",
      "                   0.001, 0.001, 0.01, 0.01, 0.01, 0.01, 0.01, 0.01, 0.01,\n",
      "                   0.03, 0.03, 0.03, 0.03, 0.03, 0.03, 0.03, 0.08, 0.08,\n",
      "                   0.08, 0.08, 0.08, 0.08, 0.08, 0.3, 0.3, 0.3, 0.3, 0.3,\n",
      "                   0.3, 0.3, 0.5, 0.5, 0.5, 0.5, 0.5, 0.5, 0.5],\n",
      "             mask=[False, False, False, False, False, False, False, False,\n",
      "                   False, False, False, False, False, False, False, False,\n",
      "                   False, False, False, False, False, False, False, False,\n",
      "                   False, False, False, False, False, False, False, False,\n",
      "                   False, False, False, False, False, False, False, False,\n",
      "                   False, False, False, False, False, False, False, False,\n",
      "                   False],\n",
      "       fill_value='?',\n",
      "            dtype=object), 'param_reg_lambda': masked_array(data=[0, 0.001, 0.01, 0.03, 0.08, 0.3, 0.5, 0, 0.001, 0.01,\n",
      "                   0.03, 0.08, 0.3, 0.5, 0, 0.001, 0.01, 0.03, 0.08, 0.3,\n",
      "                   0.5, 0, 0.001, 0.01, 0.03, 0.08, 0.3, 0.5, 0, 0.001,\n",
      "                   0.01, 0.03, 0.08, 0.3, 0.5, 0, 0.001, 0.01, 0.03, 0.08,\n",
      "                   0.3, 0.5, 0, 0.001, 0.01, 0.03, 0.08, 0.3, 0.5],\n",
      "             mask=[False, False, False, False, False, False, False, False,\n",
      "                   False, False, False, False, False, False, False, False,\n",
      "                   False, False, False, False, False, False, False, False,\n",
      "                   False, False, False, False, False, False, False, False,\n",
      "                   False, False, False, False, False, False, False, False,\n",
      "                   False, False, False, False, False, False, False, False,\n",
      "                   False],\n",
      "       fill_value='?',\n",
      "            dtype=object), 'params': [{'reg_alpha': 0, 'reg_lambda': 0}, {'reg_alpha': 0, 'reg_lambda': 0.001}, {'reg_alpha': 0, 'reg_lambda': 0.01}, {'reg_alpha': 0, 'reg_lambda': 0.03}, {'reg_alpha': 0, 'reg_lambda': 0.08}, {'reg_alpha': 0, 'reg_lambda': 0.3}, {'reg_alpha': 0, 'reg_lambda': 0.5}, {'reg_alpha': 0.001, 'reg_lambda': 0}, {'reg_alpha': 0.001, 'reg_lambda': 0.001}, {'reg_alpha': 0.001, 'reg_lambda': 0.01}, {'reg_alpha': 0.001, 'reg_lambda': 0.03}, {'reg_alpha': 0.001, 'reg_lambda': 0.08}, {'reg_alpha': 0.001, 'reg_lambda': 0.3}, {'reg_alpha': 0.001, 'reg_lambda': 0.5}, {'reg_alpha': 0.01, 'reg_lambda': 0}, {'reg_alpha': 0.01, 'reg_lambda': 0.001}, {'reg_alpha': 0.01, 'reg_lambda': 0.01}, {'reg_alpha': 0.01, 'reg_lambda': 0.03}, {'reg_alpha': 0.01, 'reg_lambda': 0.08}, {'reg_alpha': 0.01, 'reg_lambda': 0.3}, {'reg_alpha': 0.01, 'reg_lambda': 0.5}, {'reg_alpha': 0.03, 'reg_lambda': 0}, {'reg_alpha': 0.03, 'reg_lambda': 0.001}, {'reg_alpha': 0.03, 'reg_lambda': 0.01}, {'reg_alpha': 0.03, 'reg_lambda': 0.03}, {'reg_alpha': 0.03, 'reg_lambda': 0.08}, {'reg_alpha': 0.03, 'reg_lambda': 0.3}, {'reg_alpha': 0.03, 'reg_lambda': 0.5}, {'reg_alpha': 0.08, 'reg_lambda': 0}, {'reg_alpha': 0.08, 'reg_lambda': 0.001}, {'reg_alpha': 0.08, 'reg_lambda': 0.01}, {'reg_alpha': 0.08, 'reg_lambda': 0.03}, {'reg_alpha': 0.08, 'reg_lambda': 0.08}, {'reg_alpha': 0.08, 'reg_lambda': 0.3}, {'reg_alpha': 0.08, 'reg_lambda': 0.5}, {'reg_alpha': 0.3, 'reg_lambda': 0}, {'reg_alpha': 0.3, 'reg_lambda': 0.001}, {'reg_alpha': 0.3, 'reg_lambda': 0.01}, {'reg_alpha': 0.3, 'reg_lambda': 0.03}, {'reg_alpha': 0.3, 'reg_lambda': 0.08}, {'reg_alpha': 0.3, 'reg_lambda': 0.3}, {'reg_alpha': 0.3, 'reg_lambda': 0.5}, {'reg_alpha': 0.5, 'reg_lambda': 0}, {'reg_alpha': 0.5, 'reg_lambda': 0.001}, {'reg_alpha': 0.5, 'reg_lambda': 0.01}, {'reg_alpha': 0.5, 'reg_lambda': 0.03}, {'reg_alpha': 0.5, 'reg_lambda': 0.08}, {'reg_alpha': 0.5, 'reg_lambda': 0.3}, {'reg_alpha': 0.5, 'reg_lambda': 0.5}], 'split0_test_score': array([0.59767068, 0.59175479, 0.58948969, 0.58310882, 0.58679217,\n",
      "       0.58078334, 0.59181453, 0.58834732, 0.59448579, 0.59607669,\n",
      "       0.58852776, 0.57640954, 0.58583133, 0.58723665, 0.59005308,\n",
      "       0.59704253, 0.59676199, 0.59229658, 0.59961853, 0.59429581,\n",
      "       0.58872479, 0.60140403, 0.58820873, 0.59691194, 0.58875466,\n",
      "       0.60295258, 0.58173703, 0.5861477 , 0.58760077, 0.59768529,\n",
      "       0.60402492, 0.58297395, 0.60044398, 0.56741737, 0.6025076 ,\n",
      "       0.59375331, 0.59898306, 0.5992937 , 0.61057931, 0.58890012,\n",
      "       0.56519878, 0.59305028, 0.60137857, 0.59926141, 0.60440508,\n",
      "       0.60111355, 0.59479741, 0.57564617, 0.60287604]), 'split1_test_score': array([0.53545747, 0.53366954, 0.53337511, 0.54688826, 0.56095892,\n",
      "       0.53898008, 0.55208071, 0.53184892, 0.53137196, 0.53490274,\n",
      "       0.53958548, 0.54873585, 0.54114163, 0.54922849, 0.54061836,\n",
      "       0.53643423, 0.53637565, 0.54214553, 0.57100861, 0.54802812,\n",
      "       0.56101769, 0.53237052, 0.53196382, 0.53421284, 0.54047534,\n",
      "       0.54945048, 0.5548239 , 0.5455212 , 0.53781126, 0.52902235,\n",
      "       0.54299869, 0.54012238, 0.54557561, 0.55102528, 0.54997605,\n",
      "       0.53025452, 0.53346795, 0.54776839, 0.55164585, 0.54546434,\n",
      "       0.54196459, 0.54583128, 0.54211395, 0.53322867, 0.54912069,\n",
      "       0.55685817, 0.56525446, 0.53856521, 0.54414138]), 'split2_test_score': array([0.56393355, 0.57714442, 0.57973948, 0.5700593 , 0.5797649 ,\n",
      "       0.57523106, 0.58504579, 0.56570188, 0.57592739, 0.58144522,\n",
      "       0.58050275, 0.58109091, 0.57312343, 0.55515071, 0.56168312,\n",
      "       0.56280475, 0.5786767 , 0.57885411, 0.56852155, 0.57707335,\n",
      "       0.56964999, 0.57987972, 0.56776386, 0.58022886, 0.57362914,\n",
      "       0.58165207, 0.57467476, 0.57754443, 0.56516989, 0.56343533,\n",
      "       0.57438906, 0.59296252, 0.58549959, 0.58164176, 0.56656071,\n",
      "       0.57642894, 0.59228753, 0.58671397, 0.58457677, 0.57676082,\n",
      "       0.5729665 , 0.57368628, 0.56954237, 0.57259565, 0.56937878,\n",
      "       0.5848287 , 0.58632506, 0.56849826, 0.58005704]), 'split3_test_score': array([0.61702329, 0.61846448, 0.61855941, 0.62876285, 0.61671911,\n",
      "       0.61589015, 0.60857601, 0.6218795 , 0.61293393, 0.6206499 ,\n",
      "       0.62930651, 0.61869604, 0.61827311, 0.61012407, 0.61955504,\n",
      "       0.61265591, 0.60771471, 0.62895777, 0.61589195, 0.62308785,\n",
      "       0.60831751, 0.61537308, 0.61110535, 0.61749519, 0.63208647,\n",
      "       0.61049091, 0.61022191, 0.61767992, 0.61732539, 0.62106591,\n",
      "       0.62803165, 0.62910153, 0.63253246, 0.62314438, 0.61548124,\n",
      "       0.61486923, 0.62018485, 0.63083266, 0.63082784, 0.62291761,\n",
      "       0.61864851, 0.61853299, 0.63553515, 0.62923676, 0.62459869,\n",
      "       0.63033246, 0.62618011, 0.61265231, 0.61717616]), 'split4_test_score': array([0.57824062, 0.58734759, 0.59322284, 0.58394993, 0.5742412 ,\n",
      "       0.58960188, 0.58535692, 0.59223057, 0.59890732, 0.58675448,\n",
      "       0.59520691, 0.57822837, 0.56861321, 0.5791404 , 0.59397656,\n",
      "       0.60536849, 0.59610909, 0.57806854, 0.57175168, 0.5872504 ,\n",
      "       0.57330053, 0.58804967, 0.59365173, 0.58496463, 0.58665251,\n",
      "       0.57313252, 0.57790457, 0.58165472, 0.59943362, 0.59259792,\n",
      "       0.59088715, 0.57795821, 0.57728569, 0.57777223, 0.57878478,\n",
      "       0.59585573, 0.60085455, 0.59120282, 0.58469962, 0.57511624,\n",
      "       0.5869494 , 0.5645228 , 0.58958782, 0.58386065, 0.59450075,\n",
      "       0.58391128, 0.58482368, 0.56540239, 0.56061287]), 'mean_test_score': array([0.57844711, 0.58165621, 0.58285568, 0.58253146, 0.58368418,\n",
      "       0.58007601, 0.58456315, 0.57997621, 0.58270348, 0.58394726,\n",
      "       0.58660179, 0.58061539, 0.57738146, 0.57615872, 0.58115318,\n",
      "       0.5828366 , 0.58310997, 0.58404623, 0.58535051, 0.58592904,\n",
      "       0.58019213, 0.58339821, 0.57851629, 0.58274533, 0.58429608,\n",
      "       0.58352794, 0.5798591 , 0.58169272, 0.58144289, 0.58073686,\n",
      "       0.58804619, 0.58460595, 0.58825183, 0.58018116, 0.58264847,\n",
      "       0.58221061, 0.58913551, 0.59114365, 0.5924515 , 0.58181568,\n",
      "       0.57712145, 0.57911307, 0.58760814, 0.5836151 , 0.58838092,\n",
      "       0.59139406, 0.59146296, 0.57213701, 0.58096525]), 'std_test_score': array([0.02798802, 0.02761384, 0.02787359, 0.02669833, 0.01855144,\n",
      "       0.02484318, 0.01835973, 0.02998623, 0.02827402, 0.02797931,\n",
      "       0.02880494, 0.02231131, 0.02510266, 0.02214228, 0.02735021,\n",
      "       0.02882277, 0.02516209, 0.02793679, 0.01902242, 0.02435968,\n",
      "       0.01667015, 0.02823379, 0.02708591, 0.02747947, 0.02946896,\n",
      "       0.02180572, 0.01778875, 0.02297804, 0.0276314 , 0.03171332,\n",
      "       0.02855899, 0.02854613, 0.02848662, 0.02393783, 0.02372207,\n",
      "       0.0287047 , 0.02935522, 0.02661694, 0.02678931, 0.02502111,\n",
      "       0.02535842, 0.02488751, 0.03125963, 0.03157917, 0.02648973,\n",
      "       0.02408952, 0.01986294, 0.02382508, 0.0266895 ]), 'rank_test_score': array([45, 32, 23, 28, 18, 40, 14, 41, 26, 17, 10, 37, 46, 48, 34, 24, 22,\n",
      "       16, 12, 11, 38, 21, 44, 25, 15, 20, 42, 31, 33, 36,  8, 13,  7, 39,\n",
      "       27, 29,  5,  4,  1, 30, 47, 43,  9, 19,  6,  3,  2, 49, 35],\n",
      "      dtype=int32), 'split0_train_score': array([0.9985964 , 0.99862787, 0.99854834, 0.99859751, 0.99853237,\n",
      "       0.99838672, 0.99833791, 0.99867111, 0.99854048, 0.9985578 ,\n",
      "       0.99854592, 0.99843241, 0.99839121, 0.99834077, 0.99856664,\n",
      "       0.99856058, 0.99861599, 0.99851295, 0.99847127, 0.99837658,\n",
      "       0.99835553, 0.99855799, 0.99851106, 0.99853783, 0.99857651,\n",
      "       0.99850747, 0.99840068, 0.99834892, 0.99848097, 0.99855079,\n",
      "       0.99853658, 0.99852156, 0.99846167, 0.99832268, 0.99832804,\n",
      "       0.99841731, 0.99837699, 0.99833851, 0.99833009, 0.99828761,\n",
      "       0.99822081, 0.99817544, 0.9982203 , 0.99824181, 0.99821653,\n",
      "       0.9981651 , 0.99817712, 0.99808143, 0.99807765]), 'split1_train_score': array([0.99861681, 0.99859416, 0.99860113, 0.99850844, 0.99850255,\n",
      "       0.99835598, 0.99837127, 0.99861031, 0.99862538, 0.99857081,\n",
      "       0.99851972, 0.99849217, 0.9984441 , 0.9983497 , 0.99859672,\n",
      "       0.99859969, 0.99854486, 0.99851139, 0.99851049, 0.99846055,\n",
      "       0.99834957, 0.99855651, 0.99860317, 0.99854773, 0.99854835,\n",
      "       0.99852545, 0.99843063, 0.99839648, 0.99855122, 0.99853267,\n",
      "       0.99849506, 0.99847418, 0.9983936 , 0.99839104, 0.99829649,\n",
      "       0.99835509, 0.99838259, 0.99832432, 0.99835038, 0.99831852,\n",
      "       0.99824462, 0.99816481, 0.99817026, 0.99824498, 0.99819554,\n",
      "       0.99823747, 0.99818184, 0.99810606, 0.99807294]), 'split2_train_score': array([0.9986261 , 0.99861141, 0.99862727, 0.99856667, 0.99856284,\n",
      "       0.99848577, 0.9983839 , 0.99854327, 0.99863964, 0.99857193,\n",
      "       0.99860108, 0.99853001, 0.99848944, 0.99837412, 0.99862312,\n",
      "       0.9985736 , 0.99856531, 0.99860672, 0.99850934, 0.99841788,\n",
      "       0.99843078, 0.99856065, 0.99858505, 0.99856139, 0.99852836,\n",
      "       0.99853459, 0.9984392 , 0.99844472, 0.99855419, 0.99855815,\n",
      "       0.99851658, 0.99852439, 0.99847902, 0.99838513, 0.99834577,\n",
      "       0.99839236, 0.99840696, 0.99833659, 0.99836775, 0.99835086,\n",
      "       0.99825797, 0.99822366, 0.99823832, 0.99827156, 0.9982532 ,\n",
      "       0.99824701, 0.99824443, 0.9981404 , 0.99811303]), 'split3_train_score': array([0.99858374, 0.99855398, 0.99853211, 0.99852293, 0.99846638,\n",
      "       0.9983457 , 0.99830451, 0.99858265, 0.99856012, 0.99855189,\n",
      "       0.99851322, 0.99847249, 0.99837057, 0.9983296 , 0.99858742,\n",
      "       0.99849229, 0.99855294, 0.99852535, 0.99849003, 0.99835632,\n",
      "       0.99834583, 0.99849601, 0.99850447, 0.99851996, 0.99850011,\n",
      "       0.99846031, 0.99838284, 0.99834308, 0.99847763, 0.99847498,\n",
      "       0.99849814, 0.9984756 , 0.99841239, 0.9983671 , 0.99828808,\n",
      "       0.99827012, 0.99835501, 0.99832541, 0.9983117 , 0.99832859,\n",
      "       0.99814178, 0.99817391, 0.99810934, 0.99822148, 0.99819978,\n",
      "       0.99813954, 0.99812635, 0.99806314, 0.99802377]), 'split4_train_score': array([0.99866579, 0.99868057, 0.99858493, 0.99857118, 0.9985813 ,\n",
      "       0.99844448, 0.99843281, 0.99864246, 0.99864896, 0.99862808,\n",
      "       0.99860865, 0.99854246, 0.99842628, 0.99844601, 0.9986058 ,\n",
      "       0.99862394, 0.99860875, 0.9985877 , 0.99855643, 0.99846473,\n",
      "       0.99844016, 0.99860127, 0.99860422, 0.99854917, 0.99855948,\n",
      "       0.9985205 , 0.99844478, 0.99840155, 0.99854462, 0.99857403,\n",
      "       0.99852623, 0.99857138, 0.99852164, 0.998442  , 0.99839938,\n",
      "       0.99840246, 0.99836122, 0.99840193, 0.99834895, 0.99837993,\n",
      "       0.99832695, 0.99822543, 0.99823776, 0.99825913, 0.99826687,\n",
      "       0.99822458, 0.9981811 , 0.9981591 , 0.99815357]), 'mean_train_score': array([0.99861777, 0.9986136 , 0.99857875, 0.99855335, 0.99852909,\n",
      "       0.99840373, 0.99836608, 0.99860996, 0.99860292, 0.9985761 ,\n",
      "       0.99855772, 0.99849391, 0.99842432, 0.99836804, 0.99859594,\n",
      "       0.99857002, 0.99857757, 0.99854882, 0.99850751, 0.99841521,\n",
      "       0.99838438, 0.99855449, 0.9985616 , 0.99854321, 0.99854256,\n",
      "       0.99850966, 0.99841963, 0.99838695, 0.99852173, 0.99853812,\n",
      "       0.99851452, 0.99851342, 0.99845366, 0.99838159, 0.99833155,\n",
      "       0.99836747, 0.99837655, 0.99834535, 0.99834177, 0.9983331 ,\n",
      "       0.99823842, 0.99819265, 0.9981952 , 0.99824779, 0.99822638,\n",
      "       0.99820274, 0.99818217, 0.99811003, 0.99808819]), 'std_train_score': array([2.82519003e-05, 4.15329259e-05, 3.46225703e-05, 3.28264905e-05,\n",
      "       4.12622449e-05, 5.35294212e-05, 4.33161691e-05, 4.46966395e-05,\n",
      "       4.40523842e-05, 2.70870180e-05, 4.00966885e-05, 3.97594903e-05,\n",
      "       4.15235889e-05, 4.16508264e-05, 1.88019150e-05, 4.45676156e-05,\n",
      "       2.92385410e-05, 4.02574426e-05, 2.83691387e-05, 4.35324866e-05,\n",
      "       4.19362580e-05, 3.36522592e-05, 4.45233317e-05, 1.38278589e-05,\n",
      "       2.63684365e-05, 2.61843096e-05, 2.38696632e-05, 3.74503868e-05,\n",
      "       3.47944486e-05, 3.42571390e-05, 1.59690278e-05, 3.60983302e-05,\n",
      "       4.61265983e-05, 3.85548805e-05, 3.98347821e-05, 5.28352336e-05,\n",
      "       1.82230376e-05, 2.88586769e-05, 1.91909040e-05, 3.10190683e-05,\n",
      "       5.98453944e-05, 2.62981956e-05, 4.95875550e-05, 1.69085562e-05,\n",
      "       2.86868095e-05, 4.25548537e-05, 3.74652172e-05, 3.56749985e-05,\n",
      "       4.33243287e-05])}\n",
      "{'reg_alpha': 0.3, 'reg_lambda': 0.03}\n",
      "最佳模型得分:0.5924515015192159\n"
     ]
    }
   ],
   "source": [
    "if __name__ == '__main__':\n",
    "    cv_params = {'reg_alpha':  [0, 0.001, 0.01, 0.03, 0.08, 0.3, 0.5], 'reg_lambda':  [0, 0.001, 0.01, 0.03, 0.08, 0.3, 0.5]}\n",
    "    other_params = {'learning_rate': 0.07, 'n_estimators': 150, 'max_depth': 10, 'min_child_weight': 2, 'seed': 0,\n",
    "                    'subsample': 0.9, 'colsample_bytree': 0.7, 'gamma': 0.6, 'reg_alpha': 0.05, 'reg_lambda': 0.05}\n",
    "#     other_params = {'learning_rate': 0.07, 'n_estimators': 110, 'max_depth': 9, 'min_child_weight': 1, 'seed': 0,\n",
    "#                     'subsample': 0.7, 'colsample_bytree': 0.8, 'gamma': 0.2, 'reg_alpha': 0, 'reg_lambda': 1}\n",
    "    model = XGBRegressor(**other_params)\n",
    "    optimized_GBM = GridSearchCV(estimator=model, param_grid=cv_params, scoring='r2', cv=5, verbose=1, n_jobs=4)\n",
    "    optimized_GBM.fit(x0, y0)\n",
    "    evalute_result = optimized_GBM.cv_results_\n",
    "    print('每轮迭代运行结果:{0}'.format(evalute_result))\n",
    "    print('{0}'.format(optimized_GBM.best_params_))\n",
    "    print('最佳模型得分:{0}'.format(optimized_GBM.best_score_))"
   ]
  },
  {
   "cell_type": "markdown",
   "metadata": {},
   "source": [
    "# learning_rat"
   ]
  },
  {
   "cell_type": "code",
   "execution_count": 229,
   "metadata": {
    "colab": {
     "base_uri": "https://localhost:8080/",
     "height": 496
    },
    "colab_type": "code",
    "id": "91adm8_El6B4",
    "outputId": "6f19e3c8-8b7e-44a6-edce-8b0e9ffa9c0b"
   },
   "outputs": [
    {
     "name": "stdout",
     "output_type": "stream",
     "text": [
      "Fitting 5 folds for each of 6 candidates, totalling 30 fits\n"
     ]
    },
    {
     "name": "stderr",
     "output_type": "stream",
     "text": [
      "[Parallel(n_jobs=4)]: Using backend LokyBackend with 4 concurrent workers.\n",
      "[Parallel(n_jobs=4)]: Done  30 out of  30 | elapsed:  3.8min finished\n"
     ]
    },
    {
     "name": "stdout",
     "output_type": "stream",
     "text": [
      "每轮迭代运行结果:{'mean_fit_time': array([25.80720282, 28.30362964, 31.09535322, 31.88126473, 32.59619751,\n",
      "       27.60748568]), 'std_fit_time': array([0.42770693, 0.25723501, 0.13083627, 0.1503857 , 0.10376498,\n",
      "       6.8424069 ]), 'mean_score_time': array([0.03715777, 0.04055247, 0.04266539, 0.03888044, 0.03668323,\n",
      "       0.0209456 ]), 'std_score_time': array([0.00381923, 0.00442107, 0.00108792, 0.00277953, 0.00265494,\n",
      "       0.00856437]), 'param_learning_rate': masked_array(data=[0.005, 0.01, 0.05, 0.07, 0.1, 0.2],\n",
      "             mask=[False, False, False, False, False, False],\n",
      "       fill_value='?',\n",
      "            dtype=object), 'params': [{'learning_rate': 0.005}, {'learning_rate': 0.01}, {'learning_rate': 0.05}, {'learning_rate': 0.07}, {'learning_rate': 0.1}, {'learning_rate': 0.2}], 'split0_test_score': array([-59.07117015, -12.73865776,   0.60044317,   0.58875466,\n",
      "         0.59089138,   0.55519002]), 'split1_test_score': array([-58.87767054, -12.75342084,   0.54284798,   0.54047534,\n",
      "         0.54181317,   0.52489992]), 'split2_test_score': array([-62.48278667, -13.2741534 ,   0.57293658,   0.57362914,\n",
      "         0.56596356,   0.55043624]), 'split3_test_score': array([-55.42122783, -11.85193488,   0.63512176,   0.63208647,\n",
      "         0.61265563,   0.61078687]), 'split4_test_score': array([-61.5393173 , -13.18465214,   0.60910474,   0.58665251,\n",
      "         0.59067026,   0.57289916]), 'mean_test_score': array([-59.47937262, -12.7607915 ,   0.59206263,   0.58429608,\n",
      "         0.58037881,   0.56281519]), 'std_test_score': array([2.45930305, 0.50370493, 0.03163007, 0.02946896, 0.02430394,\n",
      "       0.02846078]), 'rank_test_score': array([6, 5, 1, 2, 3, 4], dtype=int32), 'split0_train_score': array([-59.04871942, -12.36018124,   0.99811014,   0.99857651,\n",
      "         0.9986447 ,   0.99888564]), 'split1_train_score': array([-59.12914731, -12.37334874,   0.9980963 ,   0.99854835,\n",
      "         0.99870512,   0.99877062]), 'split2_train_score': array([-58.26333784, -12.18144012,   0.99812657,   0.99852836,\n",
      "         0.99869849,   0.99871785]), 'split3_train_score': array([-60.15967914, -12.60633209,   0.9980917 ,   0.99850011,\n",
      "         0.99860554,   0.99875664]), 'split4_train_score': array([-58.41888964, -12.22052553,   0.99821474,   0.99855948,\n",
      "         0.99869328,   0.99883201]), 'mean_train_score': array([-59.00395467, -12.34836555,   0.99812789,   0.99854256,\n",
      "         0.99866943,   0.99879255]), 'std_train_score': array([6.69953806e-01, 1.49343683e-01, 4.50944453e-05, 2.63684365e-05,\n",
      "       3.84215340e-05, 5.92847921e-05])}\n",
      "{'learning_rate': 0.05}\n",
      "最佳模型得分:0.5920626299852858\n"
     ]
    }
   ],
   "source": [
    "if __name__ == '__main__':\n",
    "    cv_params = {'learning_rate': [0.005,0.01,0.05, 0.07, 0.1, 0.2]}\n",
    "    other_params = {'learning_rate': 0.07, 'n_estimators': 150, 'max_depth': 10, 'min_child_weight': 2, 'seed': 0,\n",
    "                    'subsample': 0.9, 'colsample_bytree': 0.7, 'gamma': 0.6, 'reg_alpha': 0.03, 'reg_lambda': 0.03}\n",
    "#     other_params = {'learning_rate': 0.07, 'n_estimators': 110, 'max_depth': 9, 'min_child_weight': 1, 'seed': 0,\n",
    "#                     'subsample': 0.7, 'colsample_bytree': 0.9, 'gamma': 0.2, 'reg_alpha': 0, 'reg_lambda': 1}\n",
    "    model = XGBRegressor(**other_params)\n",
    "    optimized_GBM = GridSearchCV(estimator=model, param_grid=cv_params, scoring='r2', cv=5, verbose=1, n_jobs=4)\n",
    "    optimized_GBM.fit(x0, y0)\n",
    "    evalute_result = optimized_GBM.cv_results_\n",
    "    print('每轮迭代运行结果:{0}'.format(evalute_result))\n",
    "    print('{0}'.format(optimized_GBM.best_params_))\n",
    "    print('最佳模型得分:{0}'.format(optimized_GBM.best_score_))"
   ]
  },
  {
   "cell_type": "markdown",
   "metadata": {},
   "source": [
    "# feature select"
   ]
  }
 ],
 "metadata": {
  "colab": {
   "collapsed_sections": [],
   "name": "TrainingLog-Copy1.ipynb",
   "provenance": [],
   "toc_visible": true,
   "version": "0.3.2"
  },
  "kernelspec": {
   "display_name": "Python 3",
   "language": "python",
   "name": "python3"
  },
  "language_info": {
   "codemirror_mode": {
    "name": "ipython",
    "version": 3
   },
   "file_extension": ".py",
   "mimetype": "text/x-python",
   "name": "python",
   "nbconvert_exporter": "python",
   "pygments_lexer": "ipython3",
   "version": "3.7.2"
  }
 },
 "nbformat": 4,
 "nbformat_minor": 1
}
