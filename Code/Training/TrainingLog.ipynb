{
 "cells": [
  {
   "cell_type": "markdown",
   "metadata": {},
   "source": [
    "# lgbm"
   ]
  },
  {
   "cell_type": "markdown",
   "metadata": {},
   "source": [
    "## First param\n",
    "```\n",
    "param = {'num_leaves': 50,\n",
    "         'min_data_in_leaf': 30,\n",
    "         'objective': 'regression',\n",
    "         'max_depth': 6,\n",
    "         'learning_rate': 0.005,\n",
    "         \"min_child_samples\": 100,\n",
    "         \"boosting\": \"gbdt\",\n",
    "         \"feature_fraction\": 0.9,\n",
    "         \"bagging_freq\": 1,\n",
    "         \"bagging_fraction\": 0.9,\n",
    "         \"bagging_seed\": 11,\n",
    "         \"metric\": 'rmse',\n",
    "         \"lambda_l1\": 0.1,\n",
    "         \"verbosity\": -1}\n",
    "```\n",
    "* no scaling with all features rmse: 2.997465145301492\n",
    "* scaling with all features rmse: 3.548410378777547\n",
    "* no scaling with first level features: 3.0118011132785556"
   ]
  },
  {
   "cell_type": "markdown",
   "metadata": {
    "ExecuteTime": {
     "end_time": "2019-04-15T11:58:43.280329Z",
     "start_time": "2019-04-15T11:58:43.275039Z"
    }
   },
   "source": [
    "## Second param\n",
    "```\n",
    "params = {'num_leaves': 12,\n",
    "          'min_data_in_leaf': 30,\n",
    "          'objective': 'regression',\n",
    "          'max_depth': 6,\n",
    "          'learning_rate': 0.1,\n",
    "          \"min_child_samples\": 100,\n",
    "          \"boosting\": \"gbdt\",\n",
    "          \"feature_fraction\": 0.8,\n",
    "          \"bagging_freq\": 1,\n",
    "          \"bagging_fraction\": 0.7,\n",
    "          \"bagging_seed\": 11,\n",
    "          \"metric\": 'rmse',\n",
    "          \"lambda_l1\": 0.1,\n",
    "          \"verbosity\": -1,\n",
    "          \"device\":'cpu',\n",
    "          \"n_jobs\":4,\n",
    "          \"n_estimators\":1000}\n",
    "```\n",
    "* no scaling with all features rmse: 3.0274643747764465"
   ]
  },
  {
   "cell_type": "code",
   "execution_count": null,
   "metadata": {},
   "outputs": [],
   "source": []
  }
 ],
 "metadata": {
  "kernelspec": {
   "display_name": "Python 3",
   "language": "python",
   "name": "python3"
  },
  "language_info": {
   "codemirror_mode": {
    "name": "ipython",
    "version": 3
   },
   "file_extension": ".py",
   "mimetype": "text/x-python",
   "name": "python",
   "nbconvert_exporter": "python",
   "pygments_lexer": "ipython3",
   "version": "3.6.2"
  },
  "toc": {
   "base_numbering": 1,
   "nav_menu": {},
   "number_sections": true,
   "sideBar": true,
   "skip_h1_title": false,
   "title_cell": "Table of Contents",
   "title_sidebar": "Contents",
   "toc_cell": false,
   "toc_position": {},
   "toc_section_display": true,
   "toc_window_display": false
  },
  "varInspector": {
   "cols": {
    "lenName": 16,
    "lenType": 16,
    "lenVar": 40
   },
   "kernels_config": {
    "python": {
     "delete_cmd_postfix": "",
     "delete_cmd_prefix": "del ",
     "library": "var_list.py",
     "varRefreshCmd": "print(var_dic_list())"
    },
    "r": {
     "delete_cmd_postfix": ") ",
     "delete_cmd_prefix": "rm(",
     "library": "var_list.r",
     "varRefreshCmd": "cat(var_dic_list()) "
    }
   },
   "types_to_exclude": [
    "module",
    "function",
    "builtin_function_or_method",
    "instance",
    "_Feature"
   ],
   "window_display": false
  }
 },
 "nbformat": 4,
 "nbformat_minor": 2
}
