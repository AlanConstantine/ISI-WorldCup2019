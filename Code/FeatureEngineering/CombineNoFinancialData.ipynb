{
 "cells": [
  {
   "cell_type": "code",
   "execution_count": 4,
   "metadata": {
    "ExecuteTime": {
     "end_time": "2019-04-05T16:01:02.566969Z",
     "start_time": "2019-04-05T16:01:02.555035Z"
    }
   },
   "outputs": [
    {
     "data": {
      "text/plain": [
       "Timestamp('2019-04-06 00:00:00')"
      ]
     },
     "execution_count": 4,
     "metadata": {},
     "output_type": "execute_result"
    }
   ],
   "source": [
    "from IPython.display import display\n",
    "import matplotlib.pyplot as plt\n",
    "import pandas as pd\n",
    "import numpy as np\n",
    "import seaborn as sns\n",
    "import matplotlib as mpl\n",
    "import warnings\n",
    "import time\n",
    "from collections import Counter\n",
    "warnings.filterwarnings(\"ignore\")\n",
    "\n",
    "\n",
    "plt.style.use(\"fivethirtyeight\")\n",
    "\n",
    "sns.set_style({'font.sans-serif': ['simsun', 'Arial']})\n",
    "sns.set_style('darkgrid', {'font.sans-serif': ['simhei', 'Arial']})\n",
    "%matplotlib inline\n",
    "current_date = pd.to_datetime(\n",
    "    time.strftime('%Y-%m-%d', time.localtime(time.time())))\n",
    "\n",
    "res = {}\n",
    "# data_path = r'../../.././Documents/赛题1数据集/'\n",
    "data_path = r'../../Data/CompInfo/'\n",
    "current_date"
   ]
  },
  {
   "cell_type": "markdown",
   "metadata": {},
   "source": [
    "# 企业得分"
   ]
  },
  {
   "cell_type": "code",
   "execution_count": 5,
   "metadata": {
    "ExecuteTime": {
     "end_time": "2019-04-05T16:01:02.794454Z",
     "start_time": "2019-04-05T16:01:02.569099Z"
    }
   },
   "outputs": [],
   "source": [
    "df_rating_copy = pd.read_excel(data_path+r'企业评分.xlsx')"
   ]
  },
  {
   "cell_type": "code",
   "execution_count": 6,
   "metadata": {
    "ExecuteTime": {
     "end_time": "2019-04-05T16:01:02.808988Z",
     "start_time": "2019-04-05T16:01:02.796710Z"
    }
   },
   "outputs": [
    {
     "name": "stdout",
     "output_type": "stream",
     "text": [
      "<class 'pandas.core.frame.DataFrame'>\n",
      "RangeIndex: 2995 entries, 0 to 2994\n",
      "Data columns (total 2 columns):\n",
      "企业编号     2995 non-null int64\n",
      "企业总评分    2995 non-null float64\n",
      "dtypes: float64(1), int64(1)\n",
      "memory usage: 46.9 KB\n"
     ]
    }
   ],
   "source": [
    "df_rating = df_rating_copy.copy()\n",
    "df_rating.info()"
   ]
  },
  {
   "cell_type": "code",
   "execution_count": 7,
   "metadata": {
    "ExecuteTime": {
     "end_time": "2019-04-05T16:01:02.819320Z",
     "start_time": "2019-04-05T16:01:02.811402Z"
    }
   },
   "outputs": [],
   "source": [
    "df_rating = df_rating.drop_duplicates()\n",
    "res['企业得分'] = df_rating"
   ]
  },
  {
   "cell_type": "code",
   "execution_count": 8,
   "metadata": {
    "ExecuteTime": {
     "end_time": "2019-04-05T16:01:02.824585Z",
     "start_time": "2019-04-05T16:01:02.821501Z"
    }
   },
   "outputs": [],
   "source": [
    "df_base = pd.DataFrame({'企业编号': df_rating['企业编号']})"
   ]
  },
  {
   "cell_type": "code",
   "execution_count": 9,
   "metadata": {
    "ExecuteTime": {
     "end_time": "2019-04-05T16:01:02.830618Z",
     "start_time": "2019-04-05T16:01:02.827102Z"
    }
   },
   "outputs": [],
   "source": [
    "def merge_df(df, cols, name):\n",
    "    new_df_merge = df_base.merge(df, how='left', on='企业编号')\n",
    "    for col in cols:\n",
    "        new_df_merge[col] = new_df_merge[col].fillna(0)\n",
    "    res[name] = new_df_merge"
   ]
  },
  {
   "cell_type": "markdown",
   "metadata": {},
   "source": [
    "# 软著著作权"
   ]
  },
  {
   "cell_type": "code",
   "execution_count": 10,
   "metadata": {
    "ExecuteTime": {
     "end_time": "2019-04-05T16:01:04.876205Z",
     "start_time": "2019-04-05T16:01:02.832987Z"
    }
   },
   "outputs": [],
   "source": [
    "df_soft_bpk = pd.read_excel(data_path+r'软著著作权.xlsx')\n",
    "df_soft = df_soft_bpk.copy()"
   ]
  },
  {
   "cell_type": "code",
   "execution_count": 11,
   "metadata": {
    "ExecuteTime": {
     "end_time": "2019-04-05T16:01:04.895409Z",
     "start_time": "2019-04-05T16:01:04.878425Z"
    }
   },
   "outputs": [
    {
     "name": "stdout",
     "output_type": "stream",
     "text": [
      "<class 'pandas.core.frame.DataFrame'>\n",
      "RangeIndex: 36858 entries, 0 to 36857\n",
      "Data columns (total 4 columns):\n",
      "企业编号           36858 non-null int64\n",
      "软件全称           36858 non-null object\n",
      "软件著作权版本号       30878 non-null object\n",
      "软件著作权登记批准日期    36818 non-null object\n",
      "dtypes: int64(1), object(3)\n",
      "memory usage: 1.1+ MB\n"
     ]
    }
   ],
   "source": [
    "df_soft.info()"
   ]
  },
  {
   "cell_type": "code",
   "execution_count": 12,
   "metadata": {
    "ExecuteTime": {
     "end_time": "2019-04-05T16:01:04.912498Z",
     "start_time": "2019-04-05T16:01:04.898811Z"
    }
   },
   "outputs": [],
   "source": [
    "new_df_soft = pd.DataFrame(df_soft['企业编号'].value_counts())\n",
    "new_df_soft.columns = ['软著数量']\n",
    "new_df_soft['企业编号'] = new_df_soft.index\n",
    "new_df_soft.sort_values(by=['企业编号'], inplace=True)\n",
    "new_df_soft = new_df_soft[['企业编号', '软著数量']]\n",
    "new_df_soft = new_df_soft.set_index(np.arange(0, len(new_df_soft)))\n",
    "# res['软著著作权'] = new_df_soft"
   ]
  },
  {
   "cell_type": "code",
   "execution_count": 13,
   "metadata": {
    "ExecuteTime": {
     "end_time": "2019-04-05T16:01:04.926656Z",
     "start_time": "2019-04-05T16:01:04.915137Z"
    }
   },
   "outputs": [],
   "source": [
    "new_df_soft_merge = df_base.merge(new_df_soft, how='left', on='企业编号')\n",
    "new_df_soft_merge['软著数量'] = new_df_soft_merge['软著数量'].fillna(0)\n",
    "res['软著著作权'] = new_df_soft_merge"
   ]
  },
  {
   "cell_type": "markdown",
   "metadata": {},
   "source": [
    "# 作品著作"
   ]
  },
  {
   "cell_type": "code",
   "execution_count": 14,
   "metadata": {
    "ExecuteTime": {
     "end_time": "2019-04-05T16:01:06.791801Z",
     "start_time": "2019-04-05T16:01:04.928784Z"
    }
   },
   "outputs": [],
   "source": [
    "df_zuopin_bpk = pd.read_excel(data_path+r'作品著作权.xlsx')\n",
    "df_zuopin = df_zuopin_bpk.copy()"
   ]
  },
  {
   "cell_type": "code",
   "execution_count": 15,
   "metadata": {
    "ExecuteTime": {
     "end_time": "2019-04-05T16:01:06.807047Z",
     "start_time": "2019-04-05T16:01:06.793697Z"
    }
   },
   "outputs": [
    {
     "name": "stdout",
     "output_type": "stream",
     "text": [
      "<class 'pandas.core.frame.DataFrame'>\n",
      "RangeIndex: 33555 entries, 0 to 33554\n",
      "Data columns (total 5 columns):\n",
      "企业编号           33555 non-null int64\n",
      "作品著作权类别        33379 non-null object\n",
      "作品著作权登记日期      33178 non-null object\n",
      "作品著作权创作完成日期    32177 non-null object\n",
      "作品著作权首次发布日期    22118 non-null object\n",
      "dtypes: int64(1), object(4)\n",
      "memory usage: 1.3+ MB\n"
     ]
    }
   ],
   "source": [
    "df_zuopin.info()"
   ]
  },
  {
   "cell_type": "code",
   "execution_count": 16,
   "metadata": {
    "ExecuteTime": {
     "end_time": "2019-04-05T16:01:06.813545Z",
     "start_time": "2019-04-05T16:01:06.809106Z"
    }
   },
   "outputs": [],
   "source": [
    "df_zuopin = df_zuopin_bpk.copy()"
   ]
  },
  {
   "cell_type": "code",
   "execution_count": 17,
   "metadata": {
    "ExecuteTime": {
     "end_time": "2019-04-05T16:01:06.823646Z",
     "start_time": "2019-04-05T16:01:06.815924Z"
    }
   },
   "outputs": [],
   "source": [
    "new_df_zuopin = pd.DataFrame(df_zuopin['企业编号'].value_counts())\n",
    "new_df_zuopin.columns = ['作品著作数量']\n",
    "new_df_zuopin['企业编号'] = new_df_zuopin.index\n",
    "new_df_zuopin.sort_values(by=['企业编号'], inplace=True)\n",
    "new_df_zuopin = new_df_zuopin[['企业编号', '作品著作数量']]\n",
    "new_df_zuopin = new_df_zuopin.set_index(np.arange(0, len(new_df_zuopin)))"
   ]
  },
  {
   "cell_type": "code",
   "execution_count": 18,
   "metadata": {
    "ExecuteTime": {
     "end_time": "2019-04-05T16:01:06.831703Z",
     "start_time": "2019-04-05T16:01:06.825723Z"
    }
   },
   "outputs": [],
   "source": [
    "new_df_zuopin_merge = df_base.merge(new_df_zuopin, how='left', on='企业编号')\n",
    "new_df_zuopin_merge['作品著作数量'] = new_df_zuopin_merge['作品著作数量'].fillna(0)\n",
    "res['作品著作'] = new_df_zuopin_merge"
   ]
  },
  {
   "cell_type": "markdown",
   "metadata": {},
   "source": [
    "# 项目信息"
   ]
  },
  {
   "cell_type": "code",
   "execution_count": 19,
   "metadata": {
    "ExecuteTime": {
     "end_time": "2019-04-05T16:01:07.159071Z",
     "start_time": "2019-04-05T16:01:06.834446Z"
    }
   },
   "outputs": [],
   "source": [
    "df_project_bkp = pd.read_excel(data_path+r'项目信息.xlsx')\n",
    "df_project = df_project_bkp.copy()"
   ]
  },
  {
   "cell_type": "code",
   "execution_count": 20,
   "metadata": {
    "ExecuteTime": {
     "end_time": "2019-04-05T16:01:07.168618Z",
     "start_time": "2019-04-05T16:01:07.160912Z"
    }
   },
   "outputs": [
    {
     "name": "stdout",
     "output_type": "stream",
     "text": [
      "<class 'pandas.core.frame.DataFrame'>\n",
      "RangeIndex: 3054 entries, 0 to 3053\n",
      "Data columns (total 7 columns):\n",
      "企业编号      3054 non-null int64\n",
      "行业        170 non-null object\n",
      "标签        3047 non-null object\n",
      "企业规模      168 non-null object\n",
      "运营状态      2934 non-null object\n",
      "简介        3026 non-null object\n",
      "项目成立时间    2876 non-null object\n",
      "dtypes: int64(1), object(6)\n",
      "memory usage: 167.1+ KB\n"
     ]
    }
   ],
   "source": [
    "df_project.info()"
   ]
  },
  {
   "cell_type": "code",
   "execution_count": 21,
   "metadata": {
    "ExecuteTime": {
     "end_time": "2019-04-05T16:01:07.177218Z",
     "start_time": "2019-04-05T16:01:07.170852Z"
    }
   },
   "outputs": [
    {
     "data": {
      "text/plain": [
       "运营中    2932\n",
       "融资中       2\n",
       "Name: 运营状态, dtype: int64"
      ]
     },
     "execution_count": 21,
     "metadata": {},
     "output_type": "execute_result"
    }
   ],
   "source": [
    "df_project['运营状态'].value_counts()"
   ]
  },
  {
   "cell_type": "code",
   "execution_count": 22,
   "metadata": {
    "ExecuteTime": {
     "end_time": "2019-04-05T16:01:07.188873Z",
     "start_time": "2019-04-05T16:01:07.179271Z"
    }
   },
   "outputs": [],
   "source": [
    "new_df_project = pd.DataFrame(\n",
    "    df_project.loc[(df_project['运营状态'] == '运营中'), '企业编号'].value_counts())\n",
    "new_df_project.columns = ['项目数量']\n",
    "new_df_project['企业编号'] = new_df_project.index\n",
    "new_df_project.sort_values(by=['企业编号'], inplace=True)\n",
    "new_df_project = new_df_project[['企业编号', '项目数量']]\n",
    "new_df_project = new_df_project.set_index(np.arange(0, len(new_df_project)))\n",
    "# new_df_project.head(n=20)"
   ]
  },
  {
   "cell_type": "code",
   "execution_count": 23,
   "metadata": {
    "ExecuteTime": {
     "end_time": "2019-04-05T16:01:07.199126Z",
     "start_time": "2019-04-05T16:01:07.191827Z"
    }
   },
   "outputs": [],
   "source": [
    "new_df_project_merge = df_base.merge(new_df_project, how='left', on='企业编号')\n",
    "new_df_project_merge['项目数量'] = new_df_project_merge['项目数量'].fillna(0)\n",
    "res['项目信息'] = new_df_project_merge"
   ]
  },
  {
   "cell_type": "markdown",
   "metadata": {},
   "source": [
    "# 纳税A级年份"
   ]
  },
  {
   "cell_type": "code",
   "execution_count": 24,
   "metadata": {
    "ExecuteTime": {
     "end_time": "2019-04-05T16:01:07.424877Z",
     "start_time": "2019-04-05T16:01:07.201363Z"
    }
   },
   "outputs": [],
   "source": [
    "df_nashuiyear_bkp = pd.read_excel(data_path+r'纳税A级年份.xlsx')\n",
    "df_nashuiyear = df_nashuiyear_bkp.copy()"
   ]
  },
  {
   "cell_type": "code",
   "execution_count": 25,
   "metadata": {
    "ExecuteTime": {
     "end_time": "2019-04-05T16:01:07.435134Z",
     "start_time": "2019-04-05T16:01:07.427718Z"
    }
   },
   "outputs": [
    {
     "name": "stdout",
     "output_type": "stream",
     "text": [
      "<class 'pandas.core.frame.DataFrame'>\n",
      "RangeIndex: 7927 entries, 0 to 7926\n",
      "Data columns (total 2 columns):\n",
      "企业编号      7927 non-null int64\n",
      "纳税A级年份    7927 non-null int64\n",
      "dtypes: int64(2)\n",
      "memory usage: 123.9 KB\n"
     ]
    }
   ],
   "source": [
    "df_nashuiyear.info()"
   ]
  },
  {
   "cell_type": "code",
   "execution_count": 26,
   "metadata": {
    "ExecuteTime": {
     "end_time": "2019-04-05T16:01:07.446510Z",
     "start_time": "2019-04-05T16:01:07.438147Z"
    }
   },
   "outputs": [
    {
     "data": {
      "text/plain": [
       "2016    2380\n",
       "2017    1978\n",
       "2015    1858\n",
       "2014    1711\n",
       "Name: 纳税A级年份, dtype: int64"
      ]
     },
     "execution_count": 26,
     "metadata": {},
     "output_type": "execute_result"
    }
   ],
   "source": [
    "df_nashuiyear['纳税A级年份'].value_counts()"
   ]
  },
  {
   "cell_type": "code",
   "execution_count": 27,
   "metadata": {
    "ExecuteTime": {
     "end_time": "2019-04-05T16:01:07.468953Z",
     "start_time": "2019-04-05T16:01:07.449851Z"
    }
   },
   "outputs": [],
   "source": [
    "new_df_nashuiyear = df_nashuiyear.groupby(['企业编号', '纳税A级年份'])[\n",
    "    '纳税A级年份'].count().unstack()\n",
    "\n",
    "new_df_nashuiyear['企业编号'] = new_df_nashuiyear.index\n",
    "new_df_nashuiyear = new_df_nashuiyear[['企业编号', 2014, 2015, 2016, 2017]]\n",
    "columns = {'企业编号': '企业编号', 2014: '纳税A级年份_2014', 2015: '纳税A级年份_2015',\n",
    "           2016: '纳税A级年份_2016', 2017: '纳税A级年份_2017'}\n",
    "columns = ['企业编号', '纳税A级年份_2014', '纳税A级年份_2015', '纳税A级年份_2016', '纳税A级年份_2017']\n",
    "# new_df_nashuiyear.rename(columns, inplace=True)\n",
    "new_df_nashuiyear.columns = columns\n",
    "new_df_nashuiyear = new_df_nashuiyear.set_index(\n",
    "    np.arange(0, len(new_df_nashuiyear))).fillna(0).astype(int)\n",
    "# new_df_nashuiyear.head(n=5)"
   ]
  },
  {
   "cell_type": "code",
   "execution_count": 28,
   "metadata": {
    "ExecuteTime": {
     "end_time": "2019-04-05T16:01:07.480566Z",
     "start_time": "2019-04-05T16:01:07.471169Z"
    }
   },
   "outputs": [],
   "source": [
    "merge_df(new_df_nashuiyear, [\n",
    "         '纳税A级年份_2014', '纳税A级年份_2015', '纳税A级年份_2016', '纳税A级年份_2017'], '纳税A级年份')"
   ]
  },
  {
   "cell_type": "markdown",
   "metadata": {},
   "source": [
    "# 资质认证"
   ]
  },
  {
   "cell_type": "code",
   "execution_count": 29,
   "metadata": {
    "ExecuteTime": {
     "end_time": "2019-04-05T16:01:15.371857Z",
     "start_time": "2019-04-05T16:01:07.482712Z"
    }
   },
   "outputs": [],
   "source": [
    "df_zizhi_bkp = pd.read_excel(data_path+r'资质认证.xlsx')"
   ]
  },
  {
   "cell_type": "code",
   "execution_count": 30,
   "metadata": {
    "ExecuteTime": {
     "end_time": "2019-04-05T16:01:15.430320Z",
     "start_time": "2019-04-05T16:01:15.373707Z"
    }
   },
   "outputs": [
    {
     "name": "stdout",
     "output_type": "stream",
     "text": [
      "<class 'pandas.core.frame.DataFrame'>\n",
      "RangeIndex: 169898 entries, 0 to 169897\n",
      "Data columns (total 5 columns):\n",
      "企业编号       169898 non-null int64\n",
      "证书名称       169898 non-null object\n",
      "有效期起止日期    161662 non-null object\n",
      "有效期截至日期    124035 non-null object\n",
      "状态         148665 non-null object\n",
      "dtypes: int64(1), object(4)\n",
      "memory usage: 6.5+ MB\n"
     ]
    }
   ],
   "source": [
    "df_zizhi = df_zizhi_bkp.copy()\n",
    "df_zizhi.info()"
   ]
  },
  {
   "cell_type": "code",
   "execution_count": 31,
   "metadata": {
    "ExecuteTime": {
     "end_time": "2019-04-05T16:01:15.458552Z",
     "start_time": "2019-04-05T16:01:15.432625Z"
    }
   },
   "outputs": [
    {
     "data": {
      "text/plain": [
       "有效           70917\n",
       "已注销          28220\n",
       "注销           15805\n",
       "已撤销          12601\n",
       "过期失效          9762\n",
       "撤销            9719\n",
       "暂停             580\n",
       "已暂停            494\n",
       "当前批件           238\n",
       "已过期            212\n",
       "延续              41\n",
       "变更              23\n",
       "正常              16\n",
       "历史批件            14\n",
       "旧版               7\n",
       "新立               5\n",
       "注销(非申请)          5\n",
       "无效（依申请注销）        3\n",
       "无效（逾期未换证）        2\n",
       "证书注销             1\n",
       "Name: 状态, dtype: int64"
      ]
     },
     "execution_count": 31,
     "metadata": {},
     "output_type": "execute_result"
    }
   ],
   "source": [
    "df_zizhi = df_zizhi_bkp.copy()\n",
    "df_zizhi['状态'].value_counts()"
   ]
  },
  {
   "cell_type": "code",
   "execution_count": 32,
   "metadata": {
    "ExecuteTime": {
     "end_time": "2019-04-05T16:01:15.674125Z",
     "start_time": "2019-04-05T16:01:15.460976Z"
    }
   },
   "outputs": [],
   "source": [
    "status = ['有效', '延续', '变更', '正常', '新立']\n",
    "new_df_zizhi = df_zizhi.loc[(df_zizhi['有效期截至日期'].notnull())]\n",
    "new_df_zizhi = new_df_zizhi.loc[(new_df_zizhi['状态'].notnull())]\n",
    "new_df_zizhi['有效期截至日期'] = pd.to_datetime(new_df_zizhi['有效期截至日期'])"
   ]
  },
  {
   "cell_type": "code",
   "execution_count": 33,
   "metadata": {
    "ExecuteTime": {
     "end_time": "2019-04-05T16:01:15.695785Z",
     "start_time": "2019-04-05T16:01:15.676126Z"
    }
   },
   "outputs": [
    {
     "data": {
      "text/plain": [
       "有效      58947\n",
       "已注销      3169\n",
       "注销       2124\n",
       "已撤销      1391\n",
       "撤销       1122\n",
       "已暂停       478\n",
       "暂停        418\n",
       "过期失效       45\n",
       "延续         21\n",
       "变更         18\n",
       "正常         16\n",
       "旧版          7\n",
       "新立          4\n",
       "证书注销        1\n",
       "Name: 状态, dtype: int64"
      ]
     },
     "execution_count": 33,
     "metadata": {},
     "output_type": "execute_result"
    }
   ],
   "source": [
    "new_df_zizhi = new_df_zizhi.loc[(new_df_zizhi['有效期截至日期'] > current_date)]\n",
    "new_df_zizhi['状态'].value_counts()"
   ]
  },
  {
   "cell_type": "code",
   "execution_count": 34,
   "metadata": {
    "ExecuteTime": {
     "end_time": "2019-04-05T16:01:15.748105Z",
     "start_time": "2019-04-05T16:01:15.697910Z"
    }
   },
   "outputs": [],
   "source": [
    "new_df_zizhi = new_df_zizhi.loc[(\n",
    "    new_df_zizhi['状态'].str.contains('[有效|延续|变更|正常|新立]'))]\n",
    "# new_df_zizhi.head(n=5)"
   ]
  },
  {
   "cell_type": "code",
   "execution_count": 35,
   "metadata": {
    "ExecuteTime": {
     "end_time": "2019-04-05T16:01:15.766778Z",
     "start_time": "2019-04-05T16:01:15.750951Z"
    }
   },
   "outputs": [
    {
     "data": {
      "text/html": [
       "<div>\n",
       "<style scoped>\n",
       "    .dataframe tbody tr th:only-of-type {\n",
       "        vertical-align: middle;\n",
       "    }\n",
       "\n",
       "    .dataframe tbody tr th {\n",
       "        vertical-align: top;\n",
       "    }\n",
       "\n",
       "    .dataframe thead th {\n",
       "        text-align: right;\n",
       "    }\n",
       "</style>\n",
       "<table border=\"1\" class=\"dataframe\">\n",
       "  <thead>\n",
       "    <tr style=\"text-align: right;\">\n",
       "      <th></th>\n",
       "      <th>企业编号</th>\n",
       "      <th>资质证书数量</th>\n",
       "    </tr>\n",
       "  </thead>\n",
       "  <tbody>\n",
       "    <tr>\n",
       "      <th>0</th>\n",
       "      <td>1001</td>\n",
       "      <td>9</td>\n",
       "    </tr>\n",
       "    <tr>\n",
       "      <th>1</th>\n",
       "      <td>1003</td>\n",
       "      <td>442</td>\n",
       "    </tr>\n",
       "    <tr>\n",
       "      <th>2</th>\n",
       "      <td>1004</td>\n",
       "      <td>1</td>\n",
       "    </tr>\n",
       "    <tr>\n",
       "      <th>3</th>\n",
       "      <td>1005</td>\n",
       "      <td>5</td>\n",
       "    </tr>\n",
       "    <tr>\n",
       "      <th>4</th>\n",
       "      <td>1006</td>\n",
       "      <td>6</td>\n",
       "    </tr>\n",
       "  </tbody>\n",
       "</table>\n",
       "</div>"
      ],
      "text/plain": [
       "   企业编号  资质证书数量\n",
       "0  1001       9\n",
       "1  1003     442\n",
       "2  1004       1\n",
       "3  1005       5\n",
       "4  1006       6"
      ]
     },
     "execution_count": 35,
     "metadata": {},
     "output_type": "execute_result"
    }
   ],
   "source": [
    "new_df_zizhi_count = pd.DataFrame(new_df_zizhi['企业编号'].value_counts())\n",
    "new_df_zizhi_count.columns = ['资质证书数量']\n",
    "new_df_zizhi_count['企业编号'] = new_df_zizhi_count.index\n",
    "new_df_zizhi_count.sort_values(by=['企业编号'], inplace=True)\n",
    "# new_df_zizhi_count\n",
    "new_df_zizhi_count = new_df_zizhi_count[['企业编号', '资质证书数量']]\n",
    "new_df_zizhi_count = new_df_zizhi_count.set_index(\n",
    "    np.arange(0, len(new_df_zizhi_count)))\n",
    "new_df_zizhi_count.head(n=5)"
   ]
  },
  {
   "cell_type": "code",
   "execution_count": 36,
   "metadata": {
    "ExecuteTime": {
     "end_time": "2019-04-05T16:01:15.776454Z",
     "start_time": "2019-04-05T16:01:15.769734Z"
    }
   },
   "outputs": [],
   "source": [
    "merge_df(new_df_zizhi_count, ['资质证书数量'], '资质认证')"
   ]
  },
  {
   "cell_type": "markdown",
   "metadata": {},
   "source": [
    "# 产品"
   ]
  },
  {
   "cell_type": "code",
   "execution_count": 37,
   "metadata": {
    "ExecuteTime": {
     "end_time": "2019-04-05T16:01:16.134255Z",
     "start_time": "2019-04-05T16:01:15.779318Z"
    }
   },
   "outputs": [],
   "source": [
    "df_product = pd.read_excel(data_path+r'产品.xlsx')\n",
    "new_df_product = df_product.groupby(\n",
    "    ['企业编号', '产品类型'])['产品类型'].count().unstack()\n",
    "\n",
    "new_df_product['企业编号'] = new_df_product.index\n",
    "columns = ['企业编号', 'android', 'ios', 'miniapp', 'website', 'wechat', 'weibo']\n",
    "new_df_product = pd.DataFrame(new_df_product, columns=columns)\n",
    "new_df_product = new_df_product.set_index(np.arange(0, len(new_df_product)))\n",
    "# new_df_product.head(n=10)"
   ]
  },
  {
   "cell_type": "code",
   "execution_count": 38,
   "metadata": {
    "ExecuteTime": {
     "end_time": "2019-04-05T16:01:16.144599Z",
     "start_time": "2019-04-05T16:01:16.136313Z"
    }
   },
   "outputs": [],
   "source": [
    "# res['产品'] = new_df_product\n",
    "merge_df(new_df_product, ['android', 'ios',\n",
    "                          'miniapp', 'website', 'wechat', 'weibo'], '产品')"
   ]
  },
  {
   "cell_type": "markdown",
   "metadata": {},
   "source": [
    "# 专利"
   ]
  },
  {
   "cell_type": "code",
   "execution_count": 39,
   "metadata": {
    "ExecuteTime": {
     "end_time": "2019-04-05T16:01:57.912067Z",
     "start_time": "2019-04-05T16:01:16.146534Z"
    }
   },
   "outputs": [],
   "source": [
    "df_zhuanli = pd.read_excel(data_path+r'专利.xlsx')\n",
    "df_zhuanli['专利类型'] = df_zhuanli['专利类型'].str.replace('更正', '', regex=True)\n",
    "\n",
    "df_zhuanli['授权公告日'] = df_zhuanli['授权公告日'].str.replace(\n",
    "    r'[^0-9\\-]', '', regex=True)\n",
    "df_zhuanli['申请日'] = df_zhuanli['申请日'].str.replace(r'[^0-9\\-]', '', regex=True)\n",
    "\n",
    "df_zhuanli['授权公告日'] = pd.to_datetime(df_zhuanli['授权公告日'])\n",
    "df_zhuanli['申请日'] = pd.to_datetime(df_zhuanli['申请日'])"
   ]
  },
  {
   "cell_type": "code",
   "execution_count": 40,
   "metadata": {
    "ExecuteTime": {
     "end_time": "2019-04-05T16:01:58.465420Z",
     "start_time": "2019-04-05T16:01:57.914891Z"
    }
   },
   "outputs": [],
   "source": [
    "tmp1 = df_zhuanli.loc[(df_zhuanli['专利类型'] == '发明专利')]\n",
    "tmp1 = tmp1.loc[(abs(tmp1['申请日'].sub(pd.to_datetime(\n",
    "    time.strftime('%Y-%m-%d', time.localtime(time.time()))), axis=0).dt.days)/365) <= 20]\n",
    "\n",
    "tmp2 = df_zhuanli.loc[(df_zhuanli['专利类型'] == '发明公布')]\n",
    "tmp2 = tmp2.loc[(abs(tmp2['申请日'].sub(pd.to_datetime(\n",
    "    time.strftime('%Y-%m-%d', time.localtime(time.time()))), axis=0).dt.days)/365) <= 20]\n",
    "\n",
    "tmp3 = df_zhuanli.loc[(df_zhuanli['专利类型'] == '发明授权')]\n",
    "tmp3 = tmp3.loc[(abs(tmp3['申请日'].sub(pd.to_datetime(\n",
    "    time.strftime('%Y-%m-%d', time.localtime(time.time()))), axis=0).dt.days)/365) <= 20]\n",
    "\n",
    "tmp4 = df_zhuanli.loc[(df_zhuanli['专利类型'] == '外观设计')]\n",
    "tmp4 = tmp4.loc[(abs(tmp4['申请日'].sub(pd.to_datetime(\n",
    "    time.strftime('%Y-%m-%d', time.localtime(time.time()))), axis=0).dt.days)/365) <= 10]\n",
    "\n",
    "tmp5 = df_zhuanli.loc[(df_zhuanli['专利类型'] == '实用新型')]\n",
    "tmp5 = tmp5.loc[(abs(tmp5['申请日'].sub(pd.to_datetime(\n",
    "    time.strftime('%Y-%m-%d', time.localtime(time.time()))), axis=0).dt.days)/365) <= 10]\n",
    "\n",
    "filter_df_zhuanli = pd.concat([tmp1, tmp2, tmp3, tmp4, tmp5])"
   ]
  },
  {
   "cell_type": "code",
   "execution_count": 41,
   "metadata": {
    "ExecuteTime": {
     "end_time": "2019-04-05T16:01:58.595198Z",
     "start_time": "2019-04-05T16:01:58.467362Z"
    }
   },
   "outputs": [],
   "source": [
    "filter_df_zhuanli = filter_df_zhuanli.drop(columns=['授权公告日', '申请日'])\n",
    "new_df_zhuanli = filter_df_zhuanli.groupby(\n",
    "    ['企业编号', '专利类型'])['专利类型'].count().unstack()\n",
    "new_df_zhuanli['企业编号'] = new_df_zhuanli.index\n",
    "columns = ['企业编号', '发明专利', '发明公布', '发明授权', '外观设计', '实用新型']\n",
    "new_df_zhuanli = pd.DataFrame(new_df_zhuanli, columns=columns)\n",
    "new_df_zhuanli = new_df_zhuanli.set_index(np.arange(0, len(new_df_zhuanli)))\n",
    "# new_df_zhuanli.head(n=5)"
   ]
  },
  {
   "cell_type": "code",
   "execution_count": 42,
   "metadata": {
    "ExecuteTime": {
     "end_time": "2019-04-05T16:01:58.605383Z",
     "start_time": "2019-04-05T16:01:58.597550Z"
    }
   },
   "outputs": [],
   "source": [
    "merge_df(new_df_zhuanli, ['发明专利', '发明公布', '发明授权', '外观设计', '实用新型'], '专利')\n",
    "# res['专利'] = new_df_zhuanli"
   ]
  },
  {
   "cell_type": "markdown",
   "metadata": {},
   "source": [
    "# 竞品"
   ]
  },
  {
   "cell_type": "code",
   "execution_count": 43,
   "metadata": {
    "ExecuteTime": {
     "end_time": "2019-04-05T16:02:00.349342Z",
     "start_time": "2019-04-05T16:01:58.607202Z"
    }
   },
   "outputs": [],
   "source": [
    "df_jingpin_bkp = pd.read_excel(data_path+r'竞品.xlsx')"
   ]
  },
  {
   "cell_type": "code",
   "execution_count": 44,
   "metadata": {
    "ExecuteTime": {
     "end_time": "2019-04-05T16:02:00.371357Z",
     "start_time": "2019-04-05T16:02:00.352354Z"
    }
   },
   "outputs": [
    {
     "name": "stdout",
     "output_type": "stream",
     "text": [
      "<class 'pandas.core.frame.DataFrame'>\n",
      "RangeIndex: 33883 entries, 0 to 33882\n",
      "Data columns (total 7 columns):\n",
      "企业编号      33883 non-null int64\n",
      "竞品的行业     2076 non-null object\n",
      "竞品的标签     33875 non-null object\n",
      "竞品轮次      23416 non-null object\n",
      "竞品详细地址    31384 non-null object\n",
      "竞品运营状态    31002 non-null object\n",
      "竞品成立时间    31561 non-null object\n",
      "dtypes: int64(1), object(6)\n",
      "memory usage: 1.8+ MB\n"
     ]
    }
   ],
   "source": [
    "df_jingpin = df_jingpin_bkp.copy()\n",
    "df_jingpin.info()"
   ]
  },
  {
   "cell_type": "code",
   "execution_count": 45,
   "metadata": {
    "ExecuteTime": {
     "end_time": "2019-04-05T16:02:00.385636Z",
     "start_time": "2019-04-05T16:02:00.373445Z"
    }
   },
   "outputs": [],
   "source": [
    "df_jingpin = df_jingpin.loc[(df_jingpin['竞品运营状态'] == '运营中')]\n",
    "df_jingpin = df_jingpin.loc[(df_jingpin['竞品的标签'].notnull())]"
   ]
  },
  {
   "cell_type": "code",
   "execution_count": 46,
   "metadata": {
    "ExecuteTime": {
     "end_time": "2019-04-05T16:02:00.399477Z",
     "start_time": "2019-04-05T16:02:00.387947Z"
    }
   },
   "outputs": [],
   "source": [
    "new_df_jingpin = pd.DataFrame(df_jingpin['企业编号'].value_counts())\n",
    "new_df_jingpin.columns = ['竞品数量']\n",
    "new_df_jingpin['企业编号'] = new_df_jingpin.index\n",
    "new_df_jingpin.sort_values(by=['企业编号'], inplace=True)\n",
    "new_df_jingpin = new_df_jingpin[['企业编号', '竞品数量']]\n",
    "new_df_jingpin = new_df_jingpin.set_index(np.arange(0, len(new_df_jingpin)))\n",
    "# new_df_jingpin.head(n=20)"
   ]
  },
  {
   "cell_type": "code",
   "execution_count": 47,
   "metadata": {
    "ExecuteTime": {
     "end_time": "2019-04-05T16:02:00.406765Z",
     "start_time": "2019-04-05T16:02:00.401340Z"
    }
   },
   "outputs": [],
   "source": [
    "merge_df(new_df_jingpin, ['竞品数量'], '竞品')\n",
    "# res['竞品'] = new_df_jingpin"
   ]
  },
  {
   "cell_type": "markdown",
   "metadata": {},
   "source": [
    "# 招投标"
   ]
  },
  {
   "cell_type": "code",
   "execution_count": 48,
   "metadata": {
    "ExecuteTime": {
     "end_time": "2019-04-05T16:02:08.595027Z",
     "start_time": "2019-04-05T16:02:00.408681Z"
    }
   },
   "outputs": [
    {
     "name": "stdout",
     "output_type": "stream",
     "text": [
      "<class 'pandas.core.frame.DataFrame'>\n",
      "RangeIndex: 158309 entries, 0 to 158308\n",
      "Data columns (total 5 columns):\n",
      "企业编号     158309 non-null int64\n",
      "公告类型     146194 non-null object\n",
      "中标或招标    158309 non-null object\n",
      "省份       158309 non-null object\n",
      "发布时间     158309 non-null object\n",
      "dtypes: int64(1), object(4)\n",
      "memory usage: 6.0+ MB\n"
     ]
    }
   ],
   "source": [
    "df_zhaotoubiao_bkp = pd.read_excel(data_path+r'招投标.xlsx')\n",
    "df_zhaotoubiao = df_zhaotoubiao_bkp.copy()\n",
    "df_zhaotoubiao.info()"
   ]
  },
  {
   "cell_type": "code",
   "execution_count": 49,
   "metadata": {
    "ExecuteTime": {
     "end_time": "2019-04-05T16:02:08.615579Z",
     "start_time": "2019-04-05T16:02:08.597568Z"
    }
   },
   "outputs": [
    {
     "data": {
      "text/plain": [
       "中标    139286\n",
       "招标     19023\n",
       "Name: 中标或招标, dtype: int64"
      ]
     },
     "execution_count": 49,
     "metadata": {},
     "output_type": "execute_result"
    }
   ],
   "source": [
    "df_zhaotoubiao['中标或招标'].value_counts()"
   ]
  },
  {
   "cell_type": "code",
   "execution_count": 50,
   "metadata": {
    "ExecuteTime": {
     "end_time": "2019-04-05T16:02:08.634276Z",
     "start_time": "2019-04-05T16:02:08.617332Z"
    }
   },
   "outputs": [
    {
     "data": {
      "text/plain": [
       "中标       110781\n",
       "成交        17653\n",
       "合同        11509\n",
       "预告         2777\n",
       "其它         1233\n",
       "招标          984\n",
       "废标          559\n",
       "单一          210\n",
       "流标          188\n",
       "变更          145\n",
       "询价           85\n",
       "竞谈           23\n",
       "拟建           18\n",
       "验收           15\n",
       "结果变更          8\n",
       "公开招标          2\n",
       "竞价            1\n",
       "竞争性谈判         1\n",
       "违规            1\n",
       "其他            1\n",
       "Name: 公告类型, dtype: int64"
      ]
     },
     "execution_count": 50,
     "metadata": {},
     "output_type": "execute_result"
    }
   ],
   "source": [
    "df_zhaotoubiao['公告类型'].value_counts()"
   ]
  },
  {
   "cell_type": "code",
   "execution_count": 51,
   "metadata": {
    "ExecuteTime": {
     "end_time": "2019-04-05T16:02:08.674674Z",
     "start_time": "2019-04-05T16:02:08.636752Z"
    }
   },
   "outputs": [
    {
     "data": {
      "text/html": [
       "<div>\n",
       "<style scoped>\n",
       "    .dataframe tbody tr th:only-of-type {\n",
       "        vertical-align: middle;\n",
       "    }\n",
       "\n",
       "    .dataframe tbody tr th {\n",
       "        vertical-align: top;\n",
       "    }\n",
       "\n",
       "    .dataframe thead th {\n",
       "        text-align: right;\n",
       "    }\n",
       "</style>\n",
       "<table border=\"1\" class=\"dataframe\">\n",
       "  <thead>\n",
       "    <tr style=\"text-align: right;\">\n",
       "      <th>中标或招标</th>\n",
       "      <th>企业编号</th>\n",
       "      <th>中标</th>\n",
       "    </tr>\n",
       "  </thead>\n",
       "  <tbody>\n",
       "    <tr>\n",
       "      <th>0</th>\n",
       "      <td>1001</td>\n",
       "      <td>74.0</td>\n",
       "    </tr>\n",
       "    <tr>\n",
       "      <th>1</th>\n",
       "      <td>1002</td>\n",
       "      <td>8.0</td>\n",
       "    </tr>\n",
       "    <tr>\n",
       "      <th>2</th>\n",
       "      <td>1003</td>\n",
       "      <td>17.0</td>\n",
       "    </tr>\n",
       "    <tr>\n",
       "      <th>3</th>\n",
       "      <td>1004</td>\n",
       "      <td>NaN</td>\n",
       "    </tr>\n",
       "    <tr>\n",
       "      <th>4</th>\n",
       "      <td>1005</td>\n",
       "      <td>46.0</td>\n",
       "    </tr>\n",
       "  </tbody>\n",
       "</table>\n",
       "</div>"
      ],
      "text/plain": [
       "中标或招标  企业编号    中标\n",
       "0      1001  74.0\n",
       "1      1002   8.0\n",
       "2      1003  17.0\n",
       "3      1004   NaN\n",
       "4      1005  46.0"
      ]
     },
     "execution_count": 51,
     "metadata": {},
     "output_type": "execute_result"
    }
   ],
   "source": [
    "new_df_zhaotoubiao = df_zhaotoubiao.groupby(\n",
    "    ['企业编号', '中标或招标'])['中标或招标'].count().unstack()\n",
    "\n",
    "\n",
    "new_df_zhaotoubiao['企业编号'] = new_df_zhaotoubiao.index\n",
    "new_df_zhaotoubiao = new_df_zhaotoubiao[['企业编号', '中标', '招标']]\n",
    "new_df_zhaotoubiao = new_df_zhaotoubiao.set_index(\n",
    "    np.arange(0, len(new_df_zhaotoubiao)))\n",
    "new_df_zhaotoubiao = new_df_zhaotoubiao.drop(['招标'], axis=1)\n",
    "new_df_zhaotoubiao.head(n=5)"
   ]
  },
  {
   "cell_type": "code",
   "execution_count": 52,
   "metadata": {
    "ExecuteTime": {
     "end_time": "2019-04-05T16:02:08.682763Z",
     "start_time": "2019-04-05T16:02:08.676870Z"
    }
   },
   "outputs": [],
   "source": [
    "merge_df(new_df_zhaotoubiao, ['中标'], '招投标')\n",
    "# res['招投标'] = new_df_zhaotoubiao"
   ]
  },
  {
   "cell_type": "markdown",
   "metadata": {
    "ExecuteTime": {
     "end_time": "2019-03-23T01:51:56.449688Z",
     "start_time": "2019-03-23T01:51:55.041438Z"
    }
   },
   "source": [
    "# 购地"
   ]
  },
  {
   "cell_type": "code",
   "execution_count": 53,
   "metadata": {
    "ExecuteTime": {
     "end_time": "2019-04-05T16:02:19.706152Z",
     "start_time": "2019-04-05T16:02:08.684718Z"
    },
    "scrolled": true
   },
   "outputs": [
    {
     "name": "stdout",
     "output_type": "stream",
     "text": [
      "<class 'pandas.core.frame.DataFrame'>\n",
      "RangeIndex: 20033 entries, 0 to 20032\n",
      "Data columns (total 9 columns):\n",
      "企业编号        20033 non-null int64\n",
      "行政区         19993 non-null object\n",
      "时间          20033 non-null object\n",
      "公示日期        5046 non-null object\n",
      "土地用途        20027 non-null object\n",
      "土地面积（公顷）    20033 non-null float64\n",
      "出让年限        3970 non-null object\n",
      "成交价（万元）     4894 non-null float64\n",
      "土地使用条件      2032 non-null object\n",
      "dtypes: float64(2), int64(1), object(6)\n",
      "memory usage: 1.4+ MB\n",
      "None \n",
      "地块公示\n",
      "=================\n",
      "<class 'pandas.core.frame.DataFrame'>\n",
      "RangeIndex: 20033 entries, 0 to 20032\n",
      "Data columns (total 11 columns):\n",
      "企业编号         20033 non-null int64\n",
      "行政区          19993 non-null object\n",
      "签订日期         20033 non-null object\n",
      "供地总面积（公顷）    20033 non-null float64\n",
      "约定动工时间       1084 non-null object\n",
      "土地用途         20027 non-null object\n",
      "供应方式         1032 non-null object\n",
      "最小容积率        513 non-null float64\n",
      "最大容积率        517 non-null float64\n",
      "成交价款（万元）     4894 non-null float64\n",
      "约定竣工时间       631 non-null object\n",
      "dtypes: float64(4), int64(1), object(6)\n",
      "memory usage: 1.7+ MB\n",
      "None \n",
      "房地产大企业购地情况\n",
      "=================\n",
      "<class 'pandas.core.frame.DataFrame'>\n",
      "RangeIndex: 33744 entries, 0 to 33743\n",
      "Data columns (total 10 columns):\n",
      "企业编号        33744 non-null int64\n",
      "成交时间        33744 non-null object\n",
      "土地面积(公顷)    33743 non-null float64\n",
      "土地用途        33737 non-null object\n",
      "土地使用年限      1331 non-null object\n",
      "土地级别        1541 non-null object\n",
      "土地使用权类型     1040 non-null object\n",
      "土地利用状况      2125 non-null object\n",
      "转让方式        1063 non-null object\n",
      "转让价格(万元)    1063 non-null float64\n",
      "dtypes: float64(2), int64(1), object(7)\n",
      "memory usage: 2.6+ MB\n",
      "None \n",
      "市场交易-土地转让\n",
      "=================\n",
      "<class 'pandas.core.frame.DataFrame'>\n",
      "RangeIndex: 33744 entries, 0 to 33743\n",
      "Data columns (total 10 columns):\n",
      "企业编号        33744 non-null int64\n",
      "签订日期        33744 non-null object\n",
      "供地总面积       33743 non-null float64\n",
      "约定动工时间      1089 non-null object\n",
      "土地用途        33737 non-null object\n",
      "供应方式        1039 non-null object\n",
      "容积率下限       513 non-null float64\n",
      "容积率上限       517 non-null float64\n",
      "成交价款（万元）    5007 non-null float64\n",
      "约定竣工时间      631 non-null object\n",
      "dtypes: float64(4), int64(1), object(5)\n",
      "memory usage: 2.6+ MB\n",
      "None \n",
      "房地产大地块出让情况\n",
      "=================\n",
      "<class 'pandas.core.frame.DataFrame'>\n",
      "RangeIndex: 33744 entries, 0 to 33743\n",
      "Data columns (total 11 columns):\n",
      "企业编号              33744 non-null int64\n",
      "土地抵押人性质           24353 non-null object\n",
      "抵押面积(公顷)          26410 non-null float64\n",
      "土地用途              33737 non-null object\n",
      "抵押土地用途            26403 non-null object\n",
      "抵押土地权属性质与使用权类型    25843 non-null object\n",
      "土地面积              33743 non-null float64\n",
      "评估金额(万元)          25479 non-null float64\n",
      "抵押金额(万元)          26387 non-null float64\n",
      "土地抵押登记起始时间        33744 non-null object\n",
      "土地抵押登记结束时间        26405 non-null object\n",
      "dtypes: float64(4), int64(1), object(6)\n",
      "memory usage: 2.8+ MB\n",
      "None \n",
      "市场交易-土地抵押\n",
      "=================\n",
      "<class 'pandas.core.frame.DataFrame'>\n",
      "RangeIndex: 33744 entries, 0 to 33743\n",
      "Data columns (total 18 columns):\n",
      "企业编号        33744 non-null int64\n",
      "总面积         33743 non-null float64\n",
      "土地用途        33737 non-null object\n",
      "供应方式        1039 non-null object\n",
      "签订日期        33744 non-null object\n",
      "土地来源        488 non-null object\n",
      "土地使用年限      1331 non-null object\n",
      "行业分类        486 non-null object\n",
      "土地级别        1541 non-null object\n",
      "成交价格（万元）    5007 non-null float64\n",
      "约定容积率上限     325 non-null float64\n",
      "约定容积率下限     345 non-null float64\n",
      "约定交地时间      478 non-null object\n",
      "约定开工时间      1089 non-null object\n",
      "约定竣工时间      457 non-null object\n",
      "实际开工时间      0 non-null float64\n",
      "实际竣工时间      0 non-null float64\n",
      "批准单位        477 non-null object\n",
      "dtypes: float64(6), int64(1), object(11)\n",
      "memory usage: 4.6+ MB\n",
      "None \n",
      "结果公告\n"
     ]
    }
   ],
   "source": [
    "df_goudi1_bkp = pd.read_excel(data_path+'购地-地块公示.xlsx')\n",
    "df_goudi2_bkp = pd.read_excel(data_path+'购地-市场交易-土地转让.xlsx')\n",
    "df_goudi3_bkp = pd.read_excel(data_path+'购地-房地产大企业购地情况.xlsx')\n",
    "df_goudi4_bkp = pd.read_excel(data_path+'购地-房地产大地块出让情况.xlsx')\n",
    "df_goudi5_bkp = pd.read_excel(data_path+'购地-市场交易-土地抵押.xlsx')\n",
    "df_goudi6_bkp = pd.read_excel(data_path+'购地-结果公告.xlsx')\n",
    "df_goudi1 = df_goudi1_bkp.copy()\n",
    "df_goudi2 = df_goudi2_bkp.copy()\n",
    "df_goudi3 = df_goudi3_bkp.copy()\n",
    "df_goudi4 = df_goudi4_bkp.copy()\n",
    "df_goudi5 = df_goudi5_bkp.copy()\n",
    "df_goudi6 = df_goudi6_bkp.copy()\n",
    "print(df_goudi1.info(), '\\n地块公示')\n",
    "print('=================')\n",
    "print(df_goudi3.info(), '\\n房地产大企业购地情况')\n",
    "print('=================')\n",
    "print(df_goudi2.info(), '\\n市场交易-土地转让')\n",
    "print('=================')\n",
    "print(df_goudi4.info(), '\\n房地产大地块出让情况')\n",
    "print('=================')\n",
    "print(df_goudi5.info(), '\\n市场交易-土地抵押')\n",
    "print('=================')\n",
    "print(df_goudi6.info(), '\\n结果公告')"
   ]
  },
  {
   "cell_type": "code",
   "execution_count": 54,
   "metadata": {
    "ExecuteTime": {
     "end_time": "2019-04-05T16:02:19.729832Z",
     "start_time": "2019-04-05T16:02:19.708735Z"
    }
   },
   "outputs": [
    {
     "name": "stdout",
     "output_type": "stream",
     "text": [
      "地块公示 vs 房地产大企业购地情况: True True\n",
      "市场交易-土地转让 vs 房地产大地块出让情况: True True\n",
      "市场交易-土地转让 vs 市场交易-土地抵押: False True\n",
      "市场交易-土地转让 vs 结果公告: True True\n"
     ]
    }
   ],
   "source": [
    "print('地块公示 vs 房地产大企业购地情况:', df_goudi1['土地面积（公顷）'].equals(\n",
    "    df_goudi3['供地总面积（公顷）']), df_goudi1['企业编号'].equals(\n",
    "    df_goudi3['企业编号']))\n",
    "print('市场交易-土地转让 vs 房地产大地块出让情况:',\n",
    "      df_goudi2['土地面积(公顷)'].equals(df_goudi4['供地总面积']), df_goudi2['企业编号'].equals(df_goudi4['企业编号']))\n",
    "print('市场交易-土地转让 vs 市场交易-土地抵押:',\n",
    "      df_goudi2['土地面积(公顷)'].equals(df_goudi5['抵押面积(公顷)']), df_goudi2['企业编号'].equals(df_goudi5['企业编号']))\n",
    "print('市场交易-土地转让 vs 结果公告:', df_goudi2['土地面积(公顷)'].equals(\n",
    "    df_goudi6['总面积']), df_goudi2['企业编号'].equals(df_goudi6['企业编号']))"
   ]
  },
  {
   "cell_type": "code",
   "execution_count": 55,
   "metadata": {
    "ExecuteTime": {
     "end_time": "2019-04-05T16:02:19.751916Z",
     "start_time": "2019-04-05T16:02:19.732570Z"
    }
   },
   "outputs": [
    {
     "data": {
      "text/html": [
       "<div>\n",
       "<style scoped>\n",
       "    .dataframe tbody tr th:only-of-type {\n",
       "        vertical-align: middle;\n",
       "    }\n",
       "\n",
       "    .dataframe tbody tr th {\n",
       "        vertical-align: top;\n",
       "    }\n",
       "\n",
       "    .dataframe thead th {\n",
       "        text-align: right;\n",
       "    }\n",
       "</style>\n",
       "<table border=\"1\" class=\"dataframe\">\n",
       "  <thead>\n",
       "    <tr style=\"text-align: right;\">\n",
       "      <th></th>\n",
       "      <th>土地面积（公顷）_sum</th>\n",
       "      <th>土地面积（公顷）_min</th>\n",
       "      <th>土地面积（公顷）_max</th>\n",
       "      <th>企业编号</th>\n",
       "    </tr>\n",
       "  </thead>\n",
       "  <tbody>\n",
       "    <tr>\n",
       "      <th>0</th>\n",
       "      <td>158135.998846</td>\n",
       "      <td>0.00030</td>\n",
       "      <td>80001.80000</td>\n",
       "      <td>1001</td>\n",
       "    </tr>\n",
       "    <tr>\n",
       "      <th>1</th>\n",
       "      <td>55.668100</td>\n",
       "      <td>4.15927</td>\n",
       "      <td>41.40896</td>\n",
       "      <td>1003</td>\n",
       "    </tr>\n",
       "    <tr>\n",
       "      <th>2</th>\n",
       "      <td>4.000000</td>\n",
       "      <td>0.60000</td>\n",
       "      <td>3.40000</td>\n",
       "      <td>1004</td>\n",
       "    </tr>\n",
       "  </tbody>\n",
       "</table>\n",
       "</div>"
      ],
      "text/plain": [
       "    土地面积（公顷）_sum  土地面积（公顷）_min  土地面积（公顷）_max  企业编号\n",
       "0  158135.998846       0.00030   80001.80000  1001\n",
       "1      55.668100       4.15927      41.40896  1003\n",
       "2       4.000000       0.60000       3.40000  1004"
      ]
     },
     "execution_count": 55,
     "metadata": {},
     "output_type": "execute_result"
    }
   ],
   "source": [
    "df_goudi1['土地面积（公顷）'] = df_goudi1['土地面积（公顷）'].astype(float)\n",
    "goudi_grouped = df_goudi1.groupby(['企业编号'])\n",
    "\n",
    "agg_goudi_func = {\n",
    "    '土地面积（公顷）': ['sum', 'min', 'max']\n",
    "}\n",
    "goudi_grouped_info = goudi_grouped.agg(agg_goudi_func)\n",
    "goudi_grouped_info.columns = [\n",
    "    '_'.join(col).strip() for col in goudi_grouped_info.columns.values]\n",
    "goudi_grouped_info['企业编号'] = goudi_grouped_info.index\n",
    "goudi_grouped_info = goudi_grouped_info.set_index(\n",
    "    np.arange(0, len(goudi_grouped_info)))\n",
    "goudi_grouped_info.head(n=3)\n",
    "# drop goudi3"
   ]
  },
  {
   "cell_type": "code",
   "execution_count": 56,
   "metadata": {
    "ExecuteTime": {
     "end_time": "2019-04-05T16:02:19.873860Z",
     "start_time": "2019-04-05T16:02:19.754939Z"
    }
   },
   "outputs": [
    {
     "data": {
      "text/html": [
       "<div>\n",
       "<style scoped>\n",
       "    .dataframe tbody tr th:only-of-type {\n",
       "        vertical-align: middle;\n",
       "    }\n",
       "\n",
       "    .dataframe tbody tr th {\n",
       "        vertical-align: top;\n",
       "    }\n",
       "\n",
       "    .dataframe thead th {\n",
       "        text-align: right;\n",
       "    }\n",
       "</style>\n",
       "<table border=\"1\" class=\"dataframe\">\n",
       "  <thead>\n",
       "    <tr style=\"text-align: right;\">\n",
       "      <th></th>\n",
       "      <th>评估金额(亿元)_sum</th>\n",
       "      <th>评估金额(亿元)_max</th>\n",
       "      <th>企业编号</th>\n",
       "    </tr>\n",
       "  </thead>\n",
       "  <tbody>\n",
       "    <tr>\n",
       "      <th>0</th>\n",
       "      <td>54454.534553</td>\n",
       "      <td>16793.953500</td>\n",
       "      <td>1001</td>\n",
       "    </tr>\n",
       "    <tr>\n",
       "      <th>1</th>\n",
       "      <td>1072.827287</td>\n",
       "      <td>304.009500</td>\n",
       "      <td>1010</td>\n",
       "    </tr>\n",
       "    <tr>\n",
       "      <th>2</th>\n",
       "      <td>1831.685186</td>\n",
       "      <td>40.403526</td>\n",
       "      <td>1011</td>\n",
       "    </tr>\n",
       "  </tbody>\n",
       "</table>\n",
       "</div>"
      ],
      "text/plain": [
       "   评估金额(亿元)_sum  评估金额(亿元)_max  企业编号\n",
       "0  54454.534553  16793.953500  1001\n",
       "1   1072.827287    304.009500  1010\n",
       "2   1831.685186     40.403526  1011"
      ]
     },
     "execution_count": 56,
     "metadata": {},
     "output_type": "execute_result"
    }
   ],
   "source": [
    "df_jine = df_goudi5.loc[(df_goudi5['评估金额(万元)'].notnull())]\n",
    "\n",
    "df_jine['评估金额(亿元)'] = df_jine['评估金额(万元)'].astype(float)/10000\n",
    "goudi_grouped_jine = df_jine.groupby(['企业编号'])\n",
    "\n",
    "agg_goudi_func = {\n",
    "    '评估金额(亿元)': ['sum', 'max']\n",
    "}\n",
    "goudi_grouped_jine_info = goudi_grouped_jine.agg(agg_goudi_func)\n",
    "goudi_grouped_jine_info.columns = [\n",
    "    '_'.join(col).strip() for col in goudi_grouped_jine_info.columns.values]\n",
    "goudi_grouped_jine_info['企业编号'] = goudi_grouped_jine_info.index\n",
    "goudi_grouped_jine_info = goudi_grouped_jine_info.set_index(\n",
    "    np.arange(0, len(goudi_grouped_jine_info)))\n",
    "goudi_grouped_jine_info.head(n=3)"
   ]
  },
  {
   "cell_type": "code",
   "execution_count": 57,
   "metadata": {
    "ExecuteTime": {
     "end_time": "2019-04-05T16:02:19.902660Z",
     "start_time": "2019-04-05T16:02:19.876103Z"
    }
   },
   "outputs": [],
   "source": [
    "merge_goudi = goudi_grouped_info.merge(\n",
    "    goudi_grouped_jine_info, how='outer', on='企业编号')\n",
    "merge_goudi['土地面积评估均值(公顷/亿元)'] = (merge_goudi['土地面积（公顷）_sum'] /\n",
    "                                  merge_goudi['评估金额(亿元)_sum']).replace(np.inf, np.nan)\n",
    "cols = ['企业编号', '土地面积（公顷）_sum', '土地面积（公顷）_min', '土地面积（公顷）_max',\n",
    "        '评估金额(亿元)_sum', '评估金额(亿元)_max', '土地面积评估均值(公顷/亿元)']\n",
    "merge_goudi = merge_goudi[cols]\n",
    "diyacishu = pd.DataFrame()\n",
    "diyacishu['抵押次数'] = df_goudi5.loc[(df_goudi5['评估金额(万元)'].notnull())].groupby(['企业编号'])[\n",
    "    '企业编号'].count()\n",
    "\n",
    "goudicishu = pd.DataFrame()\n",
    "goudicishu['购地次数'] = df_goudi1.loc[(df_goudi1['土地面积（公顷）'].notnull())].groupby(['企业编号'])[\n",
    "    '企业编号'].count()\n",
    "goudicishu = goudicishu.merge(\n",
    "    diyacishu, how='outer', on='企业编号')\n",
    "merge_goudi = merge_goudi.merge(goudicishu, how='outer', on='企业编号')\n",
    "merge_goudi.columns = ['企业编号', '企业购地面积（公顷）_sum', '企业购地面积（公顷）_min', '企业购地面积（公顷）_max',\n",
    "                       '土地评估金额(亿元)_sum', '土地评估金额(亿元)_max', '土地面积评估均值(公顷/亿元)', '购地次数', '抵押次数']\n",
    "\n"
   ]
  },
  {
   "cell_type": "code",
   "execution_count": 58,
   "metadata": {
    "ExecuteTime": {
     "end_time": "2019-04-05T16:02:19.914192Z",
     "start_time": "2019-04-05T16:02:19.905460Z"
    }
   },
   "outputs": [],
   "source": [
    "merge_df(merge_goudi, ['企业购地面积（公顷）_sum', '企业购地面积（公顷）_min', '企业购地面积（公顷）_max',\n",
    "                       '土地评估金额(亿元)_sum', '土地评估金额(亿元)_max', '土地面积评估均值(公顷/亿元)', '购地次数', '抵押次数'], '企业购地')\n",
    "\n",
    "# res['企业购地'] = merge_goudi"
   ]
  },
  {
   "cell_type": "markdown",
   "metadata": {},
   "source": [
    "# 年报-对外投资信息"
   ]
  },
  {
   "cell_type": "code",
   "execution_count": 59,
   "metadata": {
    "ExecuteTime": {
     "end_time": "2019-04-05T16:02:22.492698Z",
     "start_time": "2019-04-05T16:02:19.916358Z"
    }
   },
   "outputs": [
    {
     "name": "stdout",
     "output_type": "stream",
     "text": [
      "<class 'pandas.core.frame.DataFrame'>\n",
      "RangeIndex: 93369 entries, 0 to 93368\n",
      "Data columns (total 4 columns):\n",
      "企业编号    93369 non-null int64\n",
      "投资金额    1456 non-null float64\n",
      "投资占比    1456 non-null float64\n",
      "年报年份    93367 non-null float64\n",
      "dtypes: float64(3), int64(1)\n",
      "memory usage: 2.8 MB\n"
     ]
    }
   ],
   "source": [
    "df_nianbao_touzi_bkp = pd.read_excel(data_path+r'年报-对外投资信息.xlsx')\n",
    "df_nianbao_touzi = df_nianbao_touzi_bkp.copy()\n",
    "df_nianbao_touzi.info()"
   ]
  },
  {
   "cell_type": "code",
   "execution_count": 60,
   "metadata": {
    "ExecuteTime": {
     "end_time": "2019-04-05T16:02:22.515236Z",
     "start_time": "2019-04-05T16:02:22.495157Z"
    }
   },
   "outputs": [
    {
     "data": {
      "text/html": [
       "<div>\n",
       "<style scoped>\n",
       "    .dataframe tbody tr th:only-of-type {\n",
       "        vertical-align: middle;\n",
       "    }\n",
       "\n",
       "    .dataframe tbody tr th {\n",
       "        vertical-align: top;\n",
       "    }\n",
       "\n",
       "    .dataframe thead th {\n",
       "        text-align: right;\n",
       "    }\n",
       "</style>\n",
       "<table border=\"1\" class=\"dataframe\">\n",
       "  <thead>\n",
       "    <tr style=\"text-align: right;\">\n",
       "      <th></th>\n",
       "      <th>投资金额_sum</th>\n",
       "      <th>投资金额_min</th>\n",
       "      <th>投资金额_max</th>\n",
       "      <th>投资次数</th>\n",
       "      <th>企业编号</th>\n",
       "    </tr>\n",
       "  </thead>\n",
       "  <tbody>\n",
       "    <tr>\n",
       "      <th>0</th>\n",
       "      <td>3703345.70</td>\n",
       "      <td>11600.0</td>\n",
       "      <td>3208193.70</td>\n",
       "      <td>7</td>\n",
       "      <td>1028</td>\n",
       "    </tr>\n",
       "    <tr>\n",
       "      <th>1</th>\n",
       "      <td>170384.71</td>\n",
       "      <td>3.0</td>\n",
       "      <td>25505.71</td>\n",
       "      <td>56</td>\n",
       "      <td>1134</td>\n",
       "    </tr>\n",
       "  </tbody>\n",
       "</table>\n",
       "</div>"
      ],
      "text/plain": [
       "     投资金额_sum  投资金额_min    投资金额_max  投资次数  企业编号\n",
       "0  3703345.70   11600.0  3208193.70     7  1028\n",
       "1   170384.71       3.0    25505.71    56  1134"
      ]
     },
     "execution_count": 60,
     "metadata": {},
     "output_type": "execute_result"
    }
   ],
   "source": [
    "df_nianbao_touzi_clean = df_nianbao_touzi.loc[(\n",
    "    df_nianbao_touzi['投资金额'].notnull())]\n",
    "\n",
    "agg_func = {\n",
    "    '投资金额': ['sum', 'min', 'max'],\n",
    "    '企业编号': ['count']\n",
    "}\n",
    "df_nianbao_touzi_group = df_nianbao_touzi_clean.groupby(\n",
    "    ['企业编号']).agg(agg_func)\n",
    "df_nianbao_touzi_group.columns = [\n",
    "    '_'.join(col).strip() for col in df_nianbao_touzi_group.columns.values]\n",
    "df_nianbao_touzi_group['企业编号'] = df_nianbao_touzi_group.index\n",
    "df_nianbao_touzi_group.rename(columns={'企业编号_count': '投资次数'}, inplace=True)\n",
    "df_nianbao_touzi_group = df_nianbao_touzi_group.set_index(\n",
    "    np.arange(0, len(df_nianbao_touzi_group)))\n",
    "df_nianbao_touzi_group.head(n=2)"
   ]
  },
  {
   "cell_type": "code",
   "execution_count": 61,
   "metadata": {
    "ExecuteTime": {
     "end_time": "2019-04-05T16:02:22.525331Z",
     "start_time": "2019-04-05T16:02:22.517306Z"
    }
   },
   "outputs": [],
   "source": [
    "# res['年报-对外投资信息'] = df_nianbao_touzi_group\n",
    "# [\"投资金额_sum\", \"投资金额_min\", \"投资金额_max\", \"投资次数\"]\n",
    "merge_df(df_nianbao_touzi_group, [\"投资金额_sum\",\n",
    "                                  \"投资金额_min\", \"投资金额_max\", \"投资次数\"], '年报-对外投资信息')"
   ]
  },
  {
   "cell_type": "markdown",
   "metadata": {},
   "source": [
    "# 年报-股东股权转让"
   ]
  },
  {
   "cell_type": "code",
   "execution_count": 62,
   "metadata": {
    "ExecuteTime": {
     "end_time": "2019-04-05T16:02:22.941523Z",
     "start_time": "2019-04-05T16:02:22.527202Z"
    }
   },
   "outputs": [],
   "source": [
    "df_nianbao_gudongguquanzhuanrang_bkp = pd.read_excel(\n",
    "    data_path+r'年报-股东股权转让.xlsx')"
   ]
  },
  {
   "cell_type": "code",
   "execution_count": 63,
   "metadata": {
    "ExecuteTime": {
     "end_time": "2019-04-05T16:02:22.951720Z",
     "start_time": "2019-04-05T16:02:22.943520Z"
    }
   },
   "outputs": [
    {
     "name": "stdout",
     "output_type": "stream",
     "text": [
      "<class 'pandas.core.frame.DataFrame'>\n",
      "RangeIndex: 6855 entries, 0 to 6854\n",
      "Data columns (total 5 columns):\n",
      "企业编号       6855 non-null int64\n",
      "变更前股权比例    5010 non-null object\n",
      "变更后股权比例    5015 non-null object\n",
      "股权变更日期     5022 non-null object\n",
      "年报年份       6849 non-null float64\n",
      "dtypes: float64(1), int64(1), object(3)\n",
      "memory usage: 267.9+ KB\n"
     ]
    }
   ],
   "source": [
    "df_nianbao_gudongguquanzhuanrang = df_nianbao_gudongguquanzhuanrang_bkp.copy()\n",
    "df_nianbao_gudongguquanzhuanrang.info()"
   ]
  },
  {
   "cell_type": "code",
   "execution_count": 64,
   "metadata": {
    "ExecuteTime": {
     "end_time": "2019-04-05T16:02:23.137531Z",
     "start_time": "2019-04-05T16:02:22.954087Z"
    }
   },
   "outputs": [
    {
     "data": {
      "text/html": [
       "<div>\n",
       "<style scoped>\n",
       "    .dataframe tbody tr th:only-of-type {\n",
       "        vertical-align: middle;\n",
       "    }\n",
       "\n",
       "    .dataframe tbody tr th {\n",
       "        vertical-align: top;\n",
       "    }\n",
       "\n",
       "    .dataframe thead th {\n",
       "        text-align: right;\n",
       "    }\n",
       "</style>\n",
       "<table border=\"1\" class=\"dataframe\">\n",
       "  <thead>\n",
       "    <tr style=\"text-align: right;\">\n",
       "      <th></th>\n",
       "      <th>变更股权比例差_sum</th>\n",
       "      <th>变更股权比例差_max</th>\n",
       "      <th>变更股权比例差_min</th>\n",
       "      <th>变更前股权比例_sum</th>\n",
       "      <th>变更后股权比例_sum</th>\n",
       "      <th>变更次数</th>\n",
       "      <th>企业编号</th>\n",
       "    </tr>\n",
       "  </thead>\n",
       "  <tbody>\n",
       "    <tr>\n",
       "      <th>0</th>\n",
       "      <td>5.24</td>\n",
       "      <td>2.60</td>\n",
       "      <td>-0.80</td>\n",
       "      <td>90.35</td>\n",
       "      <td>95.59</td>\n",
       "      <td>11</td>\n",
       "      <td>1001</td>\n",
       "    </tr>\n",
       "    <tr>\n",
       "      <th>1</th>\n",
       "      <td>-10.91</td>\n",
       "      <td>-10.91</td>\n",
       "      <td>-10.91</td>\n",
       "      <td>61.96</td>\n",
       "      <td>51.05</td>\n",
       "      <td>1</td>\n",
       "      <td>1002</td>\n",
       "    </tr>\n",
       "    <tr>\n",
       "      <th>2</th>\n",
       "      <td>-13.89</td>\n",
       "      <td>1.11</td>\n",
       "      <td>-15.00</td>\n",
       "      <td>43.90</td>\n",
       "      <td>30.01</td>\n",
       "      <td>2</td>\n",
       "      <td>1013</td>\n",
       "    </tr>\n",
       "  </tbody>\n",
       "</table>\n",
       "</div>"
      ],
      "text/plain": [
       "   变更股权比例差_sum  变更股权比例差_max  变更股权比例差_min  变更前股权比例_sum  变更后股权比例_sum  变更次数  企业编号\n",
       "0         5.24         2.60        -0.80        90.35        95.59    11  1001\n",
       "1       -10.91       -10.91       -10.91        61.96        51.05     1  1002\n",
       "2       -13.89         1.11       -15.00        43.90        30.01     2  1013"
      ]
     },
     "execution_count": 64,
     "metadata": {},
     "output_type": "execute_result"
    }
   ],
   "source": [
    "df_nianbao_gudongguquanzhuanrang['变更前股权比例'] = df_nianbao_gudongguquanzhuanrang['变更前股权比例'].str.rstrip(\n",
    "    '%').astype(float)\n",
    "df_nianbao_gudongguquanzhuanrang_clean = df_nianbao_gudongguquanzhuanrang.loc[(\n",
    "    df_nianbao_gudongguquanzhuanrang['变更后股权比例'].notnull())]\n",
    "df_nianbao_gudongguquanzhuanrang_clean['变更后股权比例'] = df_nianbao_gudongguquanzhuanrang_clean[~df_nianbao_gudongguquanzhuanrang_clean[\"变更后股权比例\"].str.contains(\n",
    "    '-')]['变更后股权比例'].str.rstrip('%').astype(float)\n",
    "\n",
    "df_nianbao_gudongguquanzhuanrang_clean['变更股权比例差'] = df_nianbao_gudongguquanzhuanrang_clean['变更后股权比例'] - \\\n",
    "    df_nianbao_gudongguquanzhuanrang_clean['变更前股权比例']\n",
    "# df_nianbao_gudongguquanzhuanrang_clean.head(n=3)\n",
    "agg_func = {\n",
    "    '变更股权比例差': ['sum', 'max', 'min'],\n",
    "    '变更前股权比例': ['sum'],\n",
    "    '变更后股权比例': ['sum'],\n",
    "    '企业编号': ['count']\n",
    "}\n",
    "df_nianbao_gudongguquanzhuanrang_clean_new = df_nianbao_gudongguquanzhuanrang_clean.groupby([\n",
    "                                                                                            '企业编号']).agg(agg_func)\n",
    "df_nianbao_gudongguquanzhuanrang_clean_new.columns = [\n",
    "    '_'.join(col) for col in df_nianbao_gudongguquanzhuanrang_clean_new.columns.values]\n",
    "df_nianbao_gudongguquanzhuanrang_clean_new.columns = [\n",
    "    '变更股权比例差_sum', '变更股权比例差_max', '变更股权比例差_min', '变更前股权比例_sum', '变更后股权比例_sum', '变更次数']\n",
    "df_nianbao_gudongguquanzhuanrang_clean_new['企业编号'] = df_nianbao_gudongguquanzhuanrang_clean_new.index\n",
    "df_nianbao_gudongguquanzhuanrang_clean_new = df_nianbao_gudongguquanzhuanrang_clean_new.set_index(\n",
    "    np.arange(0, len(df_nianbao_gudongguquanzhuanrang_clean_new)))\n",
    "df_nianbao_gudongguquanzhuanrang_clean_new.head(n=3)"
   ]
  },
  {
   "cell_type": "code",
   "execution_count": 65,
   "metadata": {
    "ExecuteTime": {
     "end_time": "2019-04-05T16:02:23.148296Z",
     "start_time": "2019-04-05T16:02:23.139677Z"
    }
   },
   "outputs": [],
   "source": [
    "merge_df(df_nianbao_gudongguquanzhuanrang_clean_new, [\n",
    "         '变更股权比例差_sum', '变更股权比例差_max', '变更股权比例差_min', '变更前股权比例_sum', '变更后股权比例_sum', '变更次数'], '年报-股东股权转让')\n",
    "# res['年报-股东股权转让'] = df_nianbao_gudongguquanzhuanrang_clean_new"
   ]
  },
  {
   "cell_type": "markdown",
   "metadata": {},
   "source": [
    "# 工商基本信息表"
   ]
  },
  {
   "cell_type": "code",
   "execution_count": 66,
   "metadata": {
    "ExecuteTime": {
     "end_time": "2019-04-05T16:02:23.549659Z",
     "start_time": "2019-04-05T16:02:23.150479Z"
    }
   },
   "outputs": [],
   "source": [
    "df_gongshangxinxi_bkp = pd.read_excel(data_path+r'工商基本信息表.xlsx')"
   ]
  },
  {
   "cell_type": "code",
   "execution_count": 67,
   "metadata": {
    "ExecuteTime": {
     "end_time": "2019-04-05T16:02:23.562792Z",
     "start_time": "2019-04-05T16:02:23.551943Z"
    }
   },
   "outputs": [
    {
     "name": "stdout",
     "output_type": "stream",
     "text": [
      "<class 'pandas.core.frame.DataFrame'>\n",
      "RangeIndex: 3000 entries, 0 to 2999\n",
      "Data columns (total 19 columns):\n",
      "企业编号          3000 non-null int64\n",
      "注册资本（万元）      3000 non-null float64\n",
      "注册资本币种(正则)    3000 non-null object\n",
      "成立日期          3000 non-null object\n",
      "经营状态          3000 non-null object\n",
      "行业大类（代码）      2999 non-null object\n",
      "行业小类（代码）      2999 non-null object\n",
      "类型            3000 non-null object\n",
      "省份代码          3000 non-null int64\n",
      "城市代码          3000 non-null int64\n",
      "地区代码          3000 non-null int64\n",
      "是否上市          3000 non-null object\n",
      "经营期限自         2987 non-null object\n",
      "经营期限至         521 non-null object\n",
      "登记机关区域代码      2992 non-null float64\n",
      "发照日期          2979 non-null object\n",
      "员工人数          2986 non-null float64\n",
      "注销原因          227 non-null object\n",
      "注销时间          1 non-null object\n",
      "dtypes: float64(3), int64(4), object(12)\n",
      "memory usage: 445.4+ KB\n"
     ]
    }
   ],
   "source": [
    "df_gongshangxinxi = df_gongshangxinxi_bkp.copy()\n",
    "df_gongshangxinxi.info()"
   ]
  },
  {
   "cell_type": "code",
   "execution_count": 68,
   "metadata": {
    "ExecuteTime": {
     "end_time": "2019-04-05T16:02:23.570568Z",
     "start_time": "2019-04-05T16:02:23.564866Z"
    }
   },
   "outputs": [
    {
     "data": {
      "text/plain": [
       "存续（在营、开业、在册）    1762\n",
       "在营（开业）企业         401\n",
       "存续               362\n",
       "开业               343\n",
       "在业                63\n",
       "存续(在营、开业、在册)      48\n",
       "迁出                21\n",
       "Name: 经营状态, dtype: int64"
      ]
     },
     "execution_count": 68,
     "metadata": {},
     "output_type": "execute_result"
    }
   ],
   "source": [
    "df_gongshangxinxi['经营状态'].value_counts()"
   ]
  },
  {
   "cell_type": "code",
   "execution_count": 69,
   "metadata": {
    "ExecuteTime": {
     "end_time": "2019-04-05T16:02:23.586893Z",
     "start_time": "2019-04-05T16:02:23.572918Z"
    }
   },
   "outputs": [
    {
     "data": {
      "text/plain": [
       "开业              2569\n",
       "存续               362\n",
       "存续(在营、开业、在册)      48\n",
       "迁出                21\n",
       "Name: 经营状态, dtype: int64"
      ]
     },
     "execution_count": 69,
     "metadata": {},
     "output_type": "execute_result"
    }
   ],
   "source": [
    "df_gongshangxinxi['经营状态'] = df_gongshangxinxi['经营状态'].str.replace(\n",
    "    '存续（在营、开业、在册）', '开业')\n",
    "df_gongshangxinxi['经营状态'] = df_gongshangxinxi['经营状态'].str.replace(\n",
    "    '在业', '开业')\n",
    "df_gongshangxinxi['经营状态'] = df_gongshangxinxi['经营状态'].str.replace(\n",
    "    '在营（开业）企业', '开业')\n",
    "df_gongshangxinxi['经营状态'].value_counts()"
   ]
  },
  {
   "cell_type": "code",
   "execution_count": 70,
   "metadata": {
    "ExecuteTime": {
     "end_time": "2019-04-05T16:02:23.607435Z",
     "start_time": "2019-04-05T16:02:23.589414Z"
    }
   },
   "outputs": [],
   "source": [
    "zhuangtai = df_gongshangxinxi.groupby(['企业编号', '经营状态'])[\n",
    "    '经营状态'].count().unstack().fillna(0).astype(int)\n",
    "zhuangtai['企业编号'] = zhuangtai.index\n",
    "zhuangtai['开业'] = zhuangtai['存续']+zhuangtai['存续(在营、开业、在册)']+zhuangtai['开业']\n",
    "zhuangtai = pd.DataFrame(\n",
    "    {'企业编号': zhuangtai['企业编号'], '经营状态_开业': zhuangtai['开业'], '经营状态_迁出': zhuangtai['迁出']})\n",
    "# res['经营状态'] = zhuangtai\n",
    "zhuangtai = zhuangtai.set_index(np.arange(0, len(zhuangtai)))\n",
    "zhuangtai.loc[(zhuangtai['经营状态_开业'] == 0)]\n",
    "zhuangtai = zhuangtai.drop(['经营状态_迁出'], axis=1)\n",
    "zhuangtai.rename(columns={'经营状态_开业': '经营状态'}, inplace=True)\n",
    "zhuangtai_merge = df_base.merge(zhuangtai, how='left', on='企业编号')\n",
    "zhuangtai_merge['经营状态'] = zhuangtai_merge['经营状态'].fillna(\n",
    "    zhuangtai_merge['经营状态'].mode())\n",
    "res['经营状态'] = zhuangtai_merge"
   ]
  },
  {
   "cell_type": "code",
   "execution_count": 71,
   "metadata": {
    "ExecuteTime": {
     "end_time": "2019-04-05T16:02:23.628539Z",
     "start_time": "2019-04-05T16:02:23.609586Z"
    }
   },
   "outputs": [],
   "source": [
    "df_hangye = df_gongshangxinxi.groupby(['企业编号', '行业大类（代码）'])[\n",
    "    '行业大类（代码）'].count().unstack().fillna(0).astype(int)\n",
    "df_hangye.columns = ['行业大类_'+col for col in df_hangye.columns.values]\n",
    "df_hangye['企业编号'] = df_hangye.index\n",
    "# res['行业大类'] = df_hangye\n",
    "df_hangye = df_hangye.set_index(np.arange(0, len(df_hangye)))\n",
    "df_hangye_merge = df_base.merge(df_hangye, how='left', on='企业编号')\n",
    "# df_hangye_merge.columns\n",
    "hangye_cols = ['行业大类_A', '行业大类_B', '行业大类_C', '行业大类_D', '行业大类_E', '行业大类_F',\n",
    "               '行业大类_G', '行业大类_H', '行业大类_I', '行业大类_J', '行业大类_K', '行业大类_L', '行业大类_M',\n",
    "               '行业大类_N', '行业大类_O', '行业大类_P', '行业大类_Q', '行业大类_R']\n",
    "for col in hangye_cols:\n",
    "    df_hangye_merge[col] = df_hangye_merge[col].fillna(0)\n",
    "res['行业大类'] = df_hangye_merge"
   ]
  },
  {
   "cell_type": "code",
   "execution_count": 72,
   "metadata": {
    "ExecuteTime": {
     "end_time": "2019-04-05T16:02:23.641145Z",
     "start_time": "2019-04-05T16:02:23.630276Z"
    }
   },
   "outputs": [
    {
     "data": {
      "text/html": [
       "<div>\n",
       "<style scoped>\n",
       "    .dataframe tbody tr th:only-of-type {\n",
       "        vertical-align: middle;\n",
       "    }\n",
       "\n",
       "    .dataframe tbody tr th {\n",
       "        vertical-align: top;\n",
       "    }\n",
       "\n",
       "    .dataframe thead th {\n",
       "        text-align: right;\n",
       "    }\n",
       "</style>\n",
       "<table border=\"1\" class=\"dataframe\">\n",
       "  <thead>\n",
       "    <tr style=\"text-align: right;\">\n",
       "      <th></th>\n",
       "      <th>企业编号</th>\n",
       "      <th>行业大类_A</th>\n",
       "      <th>行业大类_B</th>\n",
       "      <th>行业大类_C</th>\n",
       "      <th>行业大类_D</th>\n",
       "      <th>行业大类_E</th>\n",
       "      <th>行业大类_F</th>\n",
       "      <th>行业大类_G</th>\n",
       "      <th>行业大类_H</th>\n",
       "      <th>行业大类_I</th>\n",
       "      <th>行业大类_J</th>\n",
       "      <th>行业大类_K</th>\n",
       "      <th>行业大类_L</th>\n",
       "      <th>行业大类_M</th>\n",
       "      <th>行业大类_N</th>\n",
       "      <th>行业大类_O</th>\n",
       "      <th>行业大类_P</th>\n",
       "      <th>行业大类_Q</th>\n",
       "      <th>行业大类_R</th>\n",
       "    </tr>\n",
       "  </thead>\n",
       "  <tbody>\n",
       "  </tbody>\n",
       "</table>\n",
       "</div>"
      ],
      "text/plain": [
       "Empty DataFrame\n",
       "Columns: [企业编号, 行业大类_A, 行业大类_B, 行业大类_C, 行业大类_D, 行业大类_E, 行业大类_F, 行业大类_G, 行业大类_H, 行业大类_I, 行业大类_J, 行业大类_K, 行业大类_L, 行业大类_M, 行业大类_N, 行业大类_O, 行业大类_P, 行业大类_Q, 行业大类_R]\n",
       "Index: []"
      ]
     },
     "execution_count": 72,
     "metadata": {},
     "output_type": "execute_result"
    }
   ],
   "source": [
    "df_hangye_merge.loc[(df_hangye_merge['行业大类_E'].isnull())]"
   ]
  },
  {
   "cell_type": "code",
   "execution_count": 73,
   "metadata": {
    "ExecuteTime": {
     "end_time": "2019-04-05T16:02:23.649214Z",
     "start_time": "2019-04-05T16:02:23.642859Z"
    }
   },
   "outputs": [],
   "source": [
    "df_gongshangxinxi['是否上市'] = df_gongshangxinxi['是否上市'].str.replace('Y', '1')\n",
    "df_gongshangxinxi['是否上市'] = df_gongshangxinxi['是否上市'].str.replace('N', '0')\n",
    "df_gongshangxinxi['是否上市'] = df_gongshangxinxi['是否上市'].astype(int)"
   ]
  },
  {
   "cell_type": "code",
   "execution_count": 74,
   "metadata": {
    "ExecuteTime": {
     "end_time": "2019-04-05T16:02:23.676030Z",
     "start_time": "2019-04-05T16:02:23.651467Z"
    }
   },
   "outputs": [
    {
     "data": {
      "text/html": [
       "<div>\n",
       "<style scoped>\n",
       "    .dataframe tbody tr th:only-of-type {\n",
       "        vertical-align: middle;\n",
       "    }\n",
       "\n",
       "    .dataframe tbody tr th {\n",
       "        vertical-align: top;\n",
       "    }\n",
       "\n",
       "    .dataframe thead th {\n",
       "        text-align: right;\n",
       "    }\n",
       "</style>\n",
       "<table border=\"1\" class=\"dataframe\">\n",
       "  <thead>\n",
       "    <tr style=\"text-align: right;\">\n",
       "      <th></th>\n",
       "      <th>企业编号</th>\n",
       "      <th>注册资本（万元）</th>\n",
       "      <th>注册资本币种(正则)</th>\n",
       "      <th>成立日期</th>\n",
       "      <th>经营状态</th>\n",
       "      <th>行业大类（代码）</th>\n",
       "      <th>行业小类（代码）</th>\n",
       "      <th>类型</th>\n",
       "      <th>省份代码</th>\n",
       "      <th>城市代码</th>\n",
       "      <th>地区代码</th>\n",
       "      <th>是否上市</th>\n",
       "      <th>经营期限自</th>\n",
       "      <th>经营期限至</th>\n",
       "      <th>登记机关区域代码</th>\n",
       "      <th>发照日期</th>\n",
       "      <th>员工人数</th>\n",
       "      <th>注销原因</th>\n",
       "      <th>注销时间</th>\n",
       "    </tr>\n",
       "  </thead>\n",
       "  <tbody>\n",
       "    <tr>\n",
       "      <th>1309</th>\n",
       "      <td>2310</td>\n",
       "      <td>17.429525</td>\n",
       "      <td>美元</td>\n",
       "      <td>2000-05-15</td>\n",
       "      <td>开业</td>\n",
       "      <td>C</td>\n",
       "      <td>29</td>\n",
       "      <td>外企</td>\n",
       "      <td>44</td>\n",
       "      <td>4406</td>\n",
       "      <td>440600</td>\n",
       "      <td>1</td>\n",
       "      <td>2000-05-15</td>\n",
       "      <td>2015-05-14</td>\n",
       "      <td>440600.0</td>\n",
       "      <td>2008-05-19</td>\n",
       "      <td>14.0</td>\n",
       "      <td>NaN</td>\n",
       "      <td>NaN</td>\n",
       "    </tr>\n",
       "  </tbody>\n",
       "</table>\n",
       "</div>"
      ],
      "text/plain": [
       "      企业编号   注册资本（万元） 注册资本币种(正则)        成立日期 经营状态 行业大类（代码） 行业小类（代码）  类型  省份代码  \\\n",
       "1309  2310  17.429525         美元  2000-05-15   开业        C       29  外企    44   \n",
       "\n",
       "      城市代码    地区代码  是否上市       经营期限自       经营期限至  登记机关区域代码        发照日期  员工人数  \\\n",
       "1309  4406  440600     1  2000-05-15  2015-05-14  440600.0  2008-05-19  14.0   \n",
       "\n",
       "     注销原因 注销时间  \n",
       "1309  NaN  NaN  "
      ]
     },
     "execution_count": 74,
     "metadata": {},
     "output_type": "execute_result"
    }
   ],
   "source": [
    "df_gongshangxinxi.loc[df_gongshangxinxi['注册资本币种(正则)'] == '美元', [\n",
    "    '注册资本（万元）']] = df_gongshangxinxi.loc[df_gongshangxinxi['注册资本币种(正则)'] == '美元', ['注册资本（万元）']]*8.2777\n",
    "df_gongshangxinxi.loc[df_gongshangxinxi['注册资本币种(正则)'] == '美元']"
   ]
  },
  {
   "cell_type": "code",
   "execution_count": 75,
   "metadata": {
    "ExecuteTime": {
     "end_time": "2019-04-05T16:02:23.681064Z",
     "start_time": "2019-04-05T16:02:23.677787Z"
    }
   },
   "outputs": [],
   "source": [
    "temp = pd.DataFrame({'企业编号': df_gongshangxinxi['企业编号'],\n",
    "                     '注册资本（万元）': df_gongshangxinxi['注册资本（万元）'],\n",
    "                     '是否上市': df_gongshangxinxi['是否上市']})\n",
    "# res['merge_注册资本_是否上市'] = temp"
   ]
  },
  {
   "cell_type": "code",
   "execution_count": 76,
   "metadata": {
    "ExecuteTime": {
     "end_time": "2019-04-05T16:02:23.692630Z",
     "start_time": "2019-04-05T16:02:23.682955Z"
    }
   },
   "outputs": [],
   "source": [
    "temp_merge = df_base.merge(temp, how='left', on='企业编号')\n",
    "temp_merge['注册资本（万元）'] = temp_merge['注册资本（万元）'].fillna(\n",
    "    temp_merge['注册资本（万元）'].mean())\n",
    "temp_merge['是否上市'] = temp_merge['是否上市'].fillna(temp_merge['是否上市'].mode())\n",
    "res['注册资本_是否上市'] = temp_merge"
   ]
  },
  {
   "cell_type": "code",
   "execution_count": 77,
   "metadata": {
    "ExecuteTime": {
     "end_time": "2019-04-05T16:02:23.719582Z",
     "start_time": "2019-04-05T16:02:23.694688Z"
    }
   },
   "outputs": [
    {
     "data": {
      "text/html": [
       "<div>\n",
       "<style scoped>\n",
       "    .dataframe tbody tr th:only-of-type {\n",
       "        vertical-align: middle;\n",
       "    }\n",
       "\n",
       "    .dataframe tbody tr th {\n",
       "        vertical-align: top;\n",
       "    }\n",
       "\n",
       "    .dataframe thead th {\n",
       "        text-align: right;\n",
       "    }\n",
       "</style>\n",
       "<table border=\"1\" class=\"dataframe\">\n",
       "  <thead>\n",
       "    <tr style=\"text-align: right;\">\n",
       "      <th></th>\n",
       "      <th>企业编号</th>\n",
       "      <th>注册资本（万元）</th>\n",
       "      <th>注册资本币种(正则)</th>\n",
       "      <th>成立日期</th>\n",
       "      <th>经营状态</th>\n",
       "      <th>行业大类（代码）</th>\n",
       "      <th>行业小类（代码）</th>\n",
       "      <th>类型</th>\n",
       "      <th>省份代码</th>\n",
       "      <th>城市代码</th>\n",
       "      <th>地区代码</th>\n",
       "      <th>是否上市</th>\n",
       "      <th>经营期限自</th>\n",
       "      <th>经营期限至</th>\n",
       "      <th>登记机关区域代码</th>\n",
       "      <th>发照日期</th>\n",
       "      <th>员工人数</th>\n",
       "      <th>注销原因</th>\n",
       "      <th>注销时间</th>\n",
       "      <th>成立年数</th>\n",
       "    </tr>\n",
       "  </thead>\n",
       "  <tbody>\n",
       "    <tr>\n",
       "      <th>0</th>\n",
       "      <td>1001</td>\n",
       "      <td>746.138857</td>\n",
       "      <td>人民币</td>\n",
       "      <td>1992-10-19</td>\n",
       "      <td>开业</td>\n",
       "      <td>J</td>\n",
       "      <td>66</td>\n",
       "      <td>民营</td>\n",
       "      <td>31</td>\n",
       "      <td>3100</td>\n",
       "      <td>310000</td>\n",
       "      <td>1</td>\n",
       "      <td>1992-10-19</td>\n",
       "      <td>NaN</td>\n",
       "      <td>310100.0</td>\n",
       "      <td>1992-10-19</td>\n",
       "      <td>19.0</td>\n",
       "      <td>NaN</td>\n",
       "      <td>NaN</td>\n",
       "      <td>26</td>\n",
       "    </tr>\n",
       "    <tr>\n",
       "      <th>1</th>\n",
       "      <td>1002</td>\n",
       "      <td>82.772800</td>\n",
       "      <td>人民币</td>\n",
       "      <td>2000-09-19</td>\n",
       "      <td>开业</td>\n",
       "      <td>O</td>\n",
       "      <td>80</td>\n",
       "      <td>民营</td>\n",
       "      <td>44</td>\n",
       "      <td>4400</td>\n",
       "      <td>440000</td>\n",
       "      <td>1</td>\n",
       "      <td>2000-09-19</td>\n",
       "      <td>NaN</td>\n",
       "      <td>440000.0</td>\n",
       "      <td>2017-12-21</td>\n",
       "      <td>12.0</td>\n",
       "      <td>NaN</td>\n",
       "      <td>NaN</td>\n",
       "      <td>19</td>\n",
       "    </tr>\n",
       "    <tr>\n",
       "      <th>2</th>\n",
       "      <td>1003</td>\n",
       "      <td>80.000000</td>\n",
       "      <td>人民币</td>\n",
       "      <td>1999-07-21</td>\n",
       "      <td>开业</td>\n",
       "      <td>C</td>\n",
       "      <td>36</td>\n",
       "      <td>民营</td>\n",
       "      <td>42</td>\n",
       "      <td>4200</td>\n",
       "      <td>420000</td>\n",
       "      <td>1</td>\n",
       "      <td>1999-07-21</td>\n",
       "      <td>NaN</td>\n",
       "      <td>420000.0</td>\n",
       "      <td>2018-10-22</td>\n",
       "      <td>11.0</td>\n",
       "      <td>NaN</td>\n",
       "      <td>NaN</td>\n",
       "      <td>20</td>\n",
       "    </tr>\n",
       "  </tbody>\n",
       "</table>\n",
       "</div>"
      ],
      "text/plain": [
       "   企业编号    注册资本（万元） 注册资本币种(正则)       成立日期 经营状态 行业大类（代码） 行业小类（代码）  类型  省份代码  \\\n",
       "0  1001  746.138857        人民币 1992-10-19   开业        J       66  民营    31   \n",
       "1  1002   82.772800        人民币 2000-09-19   开业        O       80  民营    44   \n",
       "2  1003   80.000000        人民币 1999-07-21   开业        C       36  民营    42   \n",
       "\n",
       "   城市代码    地区代码  是否上市       经营期限自 经营期限至  登记机关区域代码        发照日期  员工人数 注销原因 注销时间  \\\n",
       "0  3100  310000     1  1992-10-19   NaN  310100.0  1992-10-19  19.0  NaN  NaN   \n",
       "1  4400  440000     1  2000-09-19   NaN  440000.0  2017-12-21  12.0  NaN  NaN   \n",
       "2  4200  420000     1  1999-07-21   NaN  420000.0  2018-10-22  11.0  NaN  NaN   \n",
       "\n",
       "   成立年数  \n",
       "0    26  \n",
       "1    19  \n",
       "2    20  "
      ]
     },
     "execution_count": 77,
     "metadata": {},
     "output_type": "execute_result"
    }
   ],
   "source": [
    "df_gongshangxinxi['成立日期'] = pd.to_datetime(df_gongshangxinxi['成立日期'])\n",
    "df_gongshangxinxi['成立年数'] = round(abs(df_gongshangxinxi['成立日期'].sub(\n",
    "    current_date, axis=0).dt.days)/365).astype(int)\n",
    "df_gongshangxinxi.head(n=3)"
   ]
  },
  {
   "cell_type": "code",
   "execution_count": 78,
   "metadata": {
    "ExecuteTime": {
     "end_time": "2019-04-05T16:02:23.727404Z",
     "start_time": "2019-04-05T16:02:23.722037Z"
    }
   },
   "outputs": [
    {
     "data": {
      "text/plain": [
       "其他原因           121\n",
       "决议解散           101\n",
       "因公司合并或分立         2\n",
       "宣告破产             2\n",
       "章程规定的解散事由出现      1\n",
       "Name: 注销原因, dtype: int64"
      ]
     },
     "execution_count": 78,
     "metadata": {},
     "output_type": "execute_result"
    }
   ],
   "source": [
    "df_gongshangxinxi['注销原因'].value_counts()"
   ]
  },
  {
   "cell_type": "code",
   "execution_count": 79,
   "metadata": {
    "ExecuteTime": {
     "end_time": "2019-04-05T16:02:23.739530Z",
     "start_time": "2019-04-05T16:02:23.729261Z"
    }
   },
   "outputs": [
    {
     "data": {
      "text/plain": [
       "1.0    227\n",
       "Name: 是否注销, dtype: int64"
      ]
     },
     "execution_count": 79,
     "metadata": {},
     "output_type": "execute_result"
    }
   ],
   "source": [
    "# df_gongshangxinxi['是否注销'] = df_gongshangxinxi['注销原因'].fillna(0, inplace=True)\n",
    "df_gongshangxinxi.loc[(df_gongshangxinxi['注销原因'].notnull()), '是否注销'] = 1\n",
    "df_gongshangxinxi['是否注销'].value_counts()"
   ]
  },
  {
   "cell_type": "code",
   "execution_count": 80,
   "metadata": {
    "ExecuteTime": {
     "end_time": "2019-04-05T16:02:23.753011Z",
     "start_time": "2019-04-05T16:02:23.741772Z"
    }
   },
   "outputs": [],
   "source": [
    "waiqi = df_gongshangxinxi.groupby(['企业编号', '类型'])[\n",
    "    '类型'].count().unstack().fillna(0).astype(int)\n",
    "\n",
    "waiqi['企业编号'] = waiqi.index\n",
    "merge_waiqi_zhuxiao_nianshu = pd.DataFrame({\n",
    "    '是否注销': df_gongshangxinxi['是否注销'],\n",
    "    '是否外企': waiqi['外企'],\n",
    "    '企业编号': waiqi['企业编号'],\n",
    "    '成立年数': df_gongshangxinxi['成立年数']\n",
    "})\n",
    "# waiqi.head(n=5)"
   ]
  },
  {
   "cell_type": "code",
   "execution_count": 81,
   "metadata": {
    "ExecuteTime": {
     "end_time": "2019-04-05T16:02:23.764166Z",
     "start_time": "2019-04-05T16:02:23.754952Z"
    }
   },
   "outputs": [],
   "source": [
    "# merge_df(merge_waiqi_zhuxiao_nianshu, [\n",
    "#          '是否注销', '是否外企', '企业编号', '成立年数'], '成立年数_是否注销_是否外企')\n",
    "waiqi_zhuxiao_nianshu = df_base.merge(\n",
    "    merge_waiqi_zhuxiao_nianshu, how='left', on='企业编号')\n",
    "waiqi_zhuxiao_nianshu['是否注销'].fillna(\n",
    "    waiqi_zhuxiao_nianshu['是否注销'].mode()[0], inplace=True)\n",
    "waiqi_zhuxiao_nianshu['是否外企'].fillna(\n",
    "    waiqi_zhuxiao_nianshu['是否外企'].mode()[0], inplace=True)\n",
    "waiqi_zhuxiao_nianshu['成立年数'].fillna(int(\n",
    "    waiqi_zhuxiao_nianshu['成立年数'].mean()), inplace=True)\n",
    "res['外企_注销_成立年数'] = waiqi_zhuxiao_nianshu"
   ]
  },
  {
   "cell_type": "code",
   "execution_count": 82,
   "metadata": {
    "ExecuteTime": {
     "end_time": "2019-04-05T16:02:23.768146Z",
     "start_time": "2019-04-05T16:02:23.765885Z"
    }
   },
   "outputs": [],
   "source": [
    "# waiqi_zhuxiao_nianshu.loc[(waiqi_zhuxiao_nianshu['成立年数'].isnull(\n",
    "# )), '成立年数'] = waiqi_zhuxiao_nianshu['成立年数'].mode()\n",
    "# waiqi_zhuxiao_nianshu['成立年数'].fillna(\n",
    "#     waiqi_zhuxiao_nianshu['成立年数'].mean(), inplace=True)\n",
    "# waiqi_zhuxiao_nianshu.loc[(waiqi_zhuxiao_nianshu['是否注销'].isnull())]"
   ]
  },
  {
   "cell_type": "markdown",
   "metadata": {},
   "source": [
    "# 年报企业基本信息"
   ]
  },
  {
   "cell_type": "code",
   "execution_count": 83,
   "metadata": {
    "ExecuteTime": {
     "end_time": "2019-04-05T16:02:24.918612Z",
     "start_time": "2019-04-05T16:02:23.769980Z"
    }
   },
   "outputs": [],
   "source": [
    "df_qiyejiben_bkp = pd.read_excel(data_path+r'年报-企业基本信息.xlsx')"
   ]
  },
  {
   "cell_type": "code",
   "execution_count": 84,
   "metadata": {
    "ExecuteTime": {
     "end_time": "2019-04-05T16:02:24.934689Z",
     "start_time": "2019-04-05T16:02:24.920317Z"
    }
   },
   "outputs": [
    {
     "name": "stdout",
     "output_type": "stream",
     "text": [
      "<class 'pandas.core.frame.DataFrame'>\n",
      "RangeIndex: 15056 entries, 0 to 15055\n",
      "Data columns (total 10 columns):\n",
      "企业编号                  15056 non-null int64\n",
      "注册资本                  1750 non-null object\n",
      "企业经营状态                14837 non-null object\n",
      "从业人数                  14838 non-null object\n",
      "是否有网站或网点              14838 non-null object\n",
      "企业是否有投资信息或购买其他公司股权    14835 non-null object\n",
      "有限责任公司本年度是否发生股东股权转    14836 non-null object\n",
      "是否提供对外担保              14827 non-null object\n",
      "发布日期                  15039 non-null object\n",
      "年报年份                  15048 non-null float64\n",
      "dtypes: float64(1), int64(1), object(8)\n",
      "memory usage: 1.1+ MB\n"
     ]
    }
   ],
   "source": [
    "df_qiyejiben = df_qiyejiben_bkp.copy()\n",
    "df_qiyejiben.info()"
   ]
  },
  {
   "cell_type": "code",
   "execution_count": 85,
   "metadata": {
    "ExecuteTime": {
     "end_time": "2019-04-05T16:02:24.945064Z",
     "start_time": "2019-04-05T16:02:24.936725Z"
    }
   },
   "outputs": [
    {
     "data": {
      "text/plain": [
       "开业         13590\n",
       "正常开业         739\n",
       "开业/正常经营      420\n",
       "存续            64\n",
       "其他            10\n",
       "歇业             7\n",
       "清算             6\n",
       "停业             1\n",
       "Name: 企业经营状态, dtype: int64"
      ]
     },
     "execution_count": 85,
     "metadata": {},
     "output_type": "execute_result"
    }
   ],
   "source": [
    "df_qiyejiben['企业经营状态'].value_counts()"
   ]
  },
  {
   "cell_type": "code",
   "execution_count": 86,
   "metadata": {
    "ExecuteTime": {
     "end_time": "2019-04-05T16:02:24.959242Z",
     "start_time": "2019-04-05T16:02:24.946968Z"
    }
   },
   "outputs": [],
   "source": [
    "jingyingzhaungtai = df_qiyejiben.groupby(['企业编号', '企业经营状态'])[\n",
    "    '企业经营状态'].count().unstack().fillna(0).astype(int)\n",
    "jingyingzhaungtai['企业编号'] = jingyingzhaungtai.index\n",
    "jingyingzhaungtai['开业'] = jingyingzhaungtai['开业'] + \\\n",
    "    jingyingzhaungtai['开业/正常经营'] + \\\n",
    "    jingyingzhaungtai['正常开业']+jingyingzhaungtai['存续']\n",
    "jingying = pd.DataFrame({\n",
    "    '企业编号': jingyingzhaungtai['企业编号'],\n",
    "    '停业': jingyingzhaungtai['停业'],\n",
    "    '其他': jingyingzhaungtai['其他'],\n",
    "    '开业': jingyingzhaungtai['开业'],\n",
    "    '歇业': jingyingzhaungtai['歇业'],\n",
    "    '清算': jingyingzhaungtai['清算'],\n",
    "})\n",
    "jingying = jingying.set_index(np.arange(0, len(jingying)))"
   ]
  },
  {
   "cell_type": "code",
   "execution_count": 87,
   "metadata": {
    "ExecuteTime": {
     "end_time": "2019-04-05T16:02:24.968741Z",
     "start_time": "2019-04-05T16:02:24.961220Z"
    }
   },
   "outputs": [],
   "source": [
    "merge_df(jingying, [\n",
    "         '停业', '其他', '开业', '歇业', '清算'], '企业基本信息经营状态')"
   ]
  },
  {
   "cell_type": "markdown",
   "metadata": {},
   "source": [
    "# 年报-的对外提供保证担保信息"
   ]
  },
  {
   "cell_type": "code",
   "execution_count": 88,
   "metadata": {
    "ExecuteTime": {
     "end_time": "2019-04-05T16:02:25.718645Z",
     "start_time": "2019-04-05T16:02:24.970993Z"
    }
   },
   "outputs": [],
   "source": [
    "df_duiwaidanbao_bkp = pd.read_excel(data_path+r'年报-的对外提供保证担保信息.xlsx')"
   ]
  },
  {
   "cell_type": "code",
   "execution_count": 89,
   "metadata": {
    "ExecuteTime": {
     "end_time": "2019-04-05T16:02:25.731058Z",
     "start_time": "2019-04-05T16:02:25.720615Z"
    }
   },
   "outputs": [
    {
     "name": "stdout",
     "output_type": "stream",
     "text": [
      "<class 'pandas.core.frame.DataFrame'>\n",
      "RangeIndex: 10875 entries, 0 to 10874\n",
      "Data columns (total 8 columns):\n",
      "企业编号       10875 non-null int64\n",
      "主债权数额      8777 non-null object\n",
      "保证担保的范围    594 non-null object\n",
      "保证的期间      8751 non-null object\n",
      "保证的方式      8754 non-null object\n",
      "主债权种类      8746 non-null object\n",
      "履行债务的期限    10864 non-null object\n",
      "年报年份       10875 non-null int64\n",
      "dtypes: int64(2), object(6)\n",
      "memory usage: 679.8+ KB\n"
     ]
    }
   ],
   "source": [
    "df_duiwaidanbao = df_duiwaidanbao_bkp.copy()\n",
    "df_duiwaidanbao.info()"
   ]
  },
  {
   "cell_type": "code",
   "execution_count": 90,
   "metadata": {
    "ExecuteTime": {
     "end_time": "2019-04-05T16:02:25.744380Z",
     "start_time": "2019-04-05T16:02:25.732960Z"
    }
   },
   "outputs": [
    {
     "data": {
      "text/html": [
       "<div>\n",
       "<style scoped>\n",
       "    .dataframe tbody tr th:only-of-type {\n",
       "        vertical-align: middle;\n",
       "    }\n",
       "\n",
       "    .dataframe tbody tr th {\n",
       "        vertical-align: top;\n",
       "    }\n",
       "\n",
       "    .dataframe thead th {\n",
       "        text-align: right;\n",
       "    }\n",
       "</style>\n",
       "<table border=\"1\" class=\"dataframe\">\n",
       "  <thead>\n",
       "    <tr style=\"text-align: right;\">\n",
       "      <th></th>\n",
       "      <th>担保次数</th>\n",
       "      <th>企业编号</th>\n",
       "    </tr>\n",
       "  </thead>\n",
       "  <tbody>\n",
       "    <tr>\n",
       "      <th>0</th>\n",
       "      <td>3</td>\n",
       "      <td>1004</td>\n",
       "    </tr>\n",
       "    <tr>\n",
       "      <th>1</th>\n",
       "      <td>8</td>\n",
       "      <td>1012</td>\n",
       "    </tr>\n",
       "    <tr>\n",
       "      <th>2</th>\n",
       "      <td>3</td>\n",
       "      <td>1013</td>\n",
       "    </tr>\n",
       "    <tr>\n",
       "      <th>3</th>\n",
       "      <td>2</td>\n",
       "      <td>1014</td>\n",
       "    </tr>\n",
       "    <tr>\n",
       "      <th>4</th>\n",
       "      <td>4</td>\n",
       "      <td>1016</td>\n",
       "    </tr>\n",
       "  </tbody>\n",
       "</table>\n",
       "</div>"
      ],
      "text/plain": [
       "   担保次数  企业编号\n",
       "0     3  1004\n",
       "1     8  1012\n",
       "2     3  1013\n",
       "3     2  1014\n",
       "4     4  1016"
      ]
     },
     "execution_count": 90,
     "metadata": {},
     "output_type": "execute_result"
    }
   ],
   "source": [
    "tmpdf = pd.DataFrame()\n",
    "tmpdf['担保次数'] = df_duiwaidanbao.groupby(['企业编号'])['企业编号'].count()\n",
    "tmpdf['企业编号'] = tmpdf.index\n",
    "tmpdf = tmpdf.set_index(np.arange(0, len(tmpdf)))\n",
    "tmpdf.head(n=5)"
   ]
  },
  {
   "cell_type": "code",
   "execution_count": 91,
   "metadata": {
    "ExecuteTime": {
     "end_time": "2019-04-05T16:02:25.751953Z",
     "start_time": "2019-04-05T16:02:25.746185Z"
    }
   },
   "outputs": [],
   "source": [
    "merge_df(tmpdf, ['担保次数'], '企业担保次数')\n",
    "# res['企业担保次数'] = tmpdf"
   ]
  },
  {
   "cell_type": "markdown",
   "metadata": {},
   "source": [
    "# 年报-网站或网点信息"
   ]
  },
  {
   "cell_type": "code",
   "execution_count": 92,
   "metadata": {
    "ExecuteTime": {
     "end_time": "2019-04-05T16:02:26.104347Z",
     "start_time": "2019-04-05T16:02:25.754294Z"
    }
   },
   "outputs": [],
   "source": [
    "df_wangzhan_bkp = pd.read_excel(data_path+r'年报-网站或网点信息.xlsx')"
   ]
  },
  {
   "cell_type": "code",
   "execution_count": 93,
   "metadata": {
    "ExecuteTime": {
     "end_time": "2019-04-05T16:02:26.113632Z",
     "start_time": "2019-04-05T16:02:26.106066Z"
    }
   },
   "outputs": [
    {
     "name": "stdout",
     "output_type": "stream",
     "text": [
      "<class 'pandas.core.frame.DataFrame'>\n",
      "RangeIndex: 13553 entries, 0 to 13552\n",
      "Data columns (total 2 columns):\n",
      "企业编号    13553 non-null int64\n",
      "年报年份    13546 non-null float64\n",
      "dtypes: float64(1), int64(1)\n",
      "memory usage: 211.8 KB\n"
     ]
    }
   ],
   "source": [
    "df_wangzhan = df_wangzhan_bkp.copy()\n",
    "df_wangzhan.info()"
   ]
  },
  {
   "cell_type": "code",
   "execution_count": 94,
   "metadata": {
    "ExecuteTime": {
     "end_time": "2019-04-05T16:02:26.130341Z",
     "start_time": "2019-04-05T16:02:26.116366Z"
    }
   },
   "outputs": [
    {
     "data": {
      "text/html": [
       "<div>\n",
       "<style scoped>\n",
       "    .dataframe tbody tr th:only-of-type {\n",
       "        vertical-align: middle;\n",
       "    }\n",
       "\n",
       "    .dataframe tbody tr th {\n",
       "        vertical-align: top;\n",
       "    }\n",
       "\n",
       "    .dataframe thead th {\n",
       "        text-align: right;\n",
       "    }\n",
       "</style>\n",
       "<table border=\"1\" class=\"dataframe\">\n",
       "  <thead>\n",
       "    <tr style=\"text-align: right;\">\n",
       "      <th></th>\n",
       "      <th>网站或网点数</th>\n",
       "      <th>企业编号</th>\n",
       "    </tr>\n",
       "  </thead>\n",
       "  <tbody>\n",
       "    <tr>\n",
       "      <th>0</th>\n",
       "      <td>12</td>\n",
       "      <td>1001</td>\n",
       "    </tr>\n",
       "    <tr>\n",
       "      <th>1</th>\n",
       "      <td>5</td>\n",
       "      <td>1002</td>\n",
       "    </tr>\n",
       "    <tr>\n",
       "      <th>2</th>\n",
       "      <td>1</td>\n",
       "      <td>1003</td>\n",
       "    </tr>\n",
       "    <tr>\n",
       "      <th>3</th>\n",
       "      <td>5</td>\n",
       "      <td>1004</td>\n",
       "    </tr>\n",
       "    <tr>\n",
       "      <th>4</th>\n",
       "      <td>5</td>\n",
       "      <td>1005</td>\n",
       "    </tr>\n",
       "  </tbody>\n",
       "</table>\n",
       "</div>"
      ],
      "text/plain": [
       "   网站或网点数  企业编号\n",
       "0      12  1001\n",
       "1       5  1002\n",
       "2       1  1003\n",
       "3       5  1004\n",
       "4       5  1005"
      ]
     },
     "execution_count": 94,
     "metadata": {},
     "output_type": "execute_result"
    }
   ],
   "source": [
    "tmpdf = pd.DataFrame()\n",
    "tmpdf['网站或网点数'] = df_wangzhan.groupby(['企业编号'])['企业编号'].count()\n",
    "tmpdf['企业编号'] = tmpdf.index\n",
    "tmpdf = tmpdf.set_index(np.arange(0, len(tmpdf)))\n",
    "# res['网站或网点数'] = tmpdf\n",
    "tmpdf.head(n=5)"
   ]
  },
  {
   "cell_type": "code",
   "execution_count": 95,
   "metadata": {
    "ExecuteTime": {
     "end_time": "2019-04-05T16:02:26.138762Z",
     "start_time": "2019-04-05T16:02:26.132387Z"
    }
   },
   "outputs": [],
   "source": [
    "merge_df(tmpdf, ['网站或网点数'], '网站或网点数')"
   ]
  },
  {
   "cell_type": "markdown",
   "metadata": {},
   "source": [
    "# 商标"
   ]
  },
  {
   "cell_type": "code",
   "execution_count": 96,
   "metadata": {
    "ExecuteTime": {
     "end_time": "2019-04-05T16:02:42.018849Z",
     "start_time": "2019-04-05T16:02:26.140723Z"
    }
   },
   "outputs": [],
   "source": [
    "df_shangbiao_bkp = pd.read_excel(data_path+r'商标.xlsx')"
   ]
  },
  {
   "cell_type": "code",
   "execution_count": 97,
   "metadata": {
    "ExecuteTime": {
     "end_time": "2019-04-05T16:02:42.131364Z",
     "start_time": "2019-04-05T16:02:42.021602Z"
    }
   },
   "outputs": [
    {
     "name": "stdout",
     "output_type": "stream",
     "text": [
      "<class 'pandas.core.frame.DataFrame'>\n",
      "RangeIndex: 345417 entries, 0 to 345416\n",
      "Data columns (total 6 columns):\n",
      "企业编号         345417 non-null int64\n",
      "商标状态         343755 non-null object\n",
      "申请日期         343433 non-null object\n",
      "专用权期限开始日期    0 non-null float64\n",
      "专用权期限结束日期    226554 non-null object\n",
      "商标使用期限时间段    340948 non-null object\n",
      "dtypes: float64(1), int64(1), object(4)\n",
      "memory usage: 15.8+ MB\n"
     ]
    }
   ],
   "source": [
    "df_shangbiao = df_shangbiao_bkp.copy()\n",
    "df_shangbiao.info()"
   ]
  },
  {
   "cell_type": "code",
   "execution_count": 98,
   "metadata": {
    "ExecuteTime": {
     "end_time": "2019-04-05T16:02:42.521306Z",
     "start_time": "2019-04-05T16:02:42.134027Z"
    }
   },
   "outputs": [
    {
     "data": {
      "text/plain": [
       "商标已注册                        42808\n",
       "注册                           22874\n",
       "商标注册申请完成                     22085\n",
       "商标续展完成                       19053\n",
       "商标变更完成                       14727\n",
       "核准证明打印发送                     14101\n",
       "变更商标申请人/注册人名义/地址完成            8877\n",
       "等待受理通知书发文                     8220\n",
       "等待受理通知发文                      7854\n",
       "商标注册申请注册公告排版完成                6928\n",
       "出具商标注册证明完成                    4769\n",
       "商标转让完成                        4624\n",
       "商标转让中                         2883\n",
       "申请收文                          2311\n",
       "商标续展中                         1830\n",
       "变更商标申请人/注册人名义/地址中             1723\n",
       "等待打印受理通知书                     1647\n",
       "开具注册证明完成                      1618\n",
       "等待打印注册证                       1560\n",
       "等待注册公告公示期                     1378\n",
       "商标无效                          1265\n",
       "驳回复审注册公告排版完成                  1256\n",
       "等待注册发文                         965\n",
       "等待实质审查                         921\n",
       "等待实审裁文发文                       757\n",
       "商标注册申请等待受理中                    732\n",
       "商标注册申请等待驳回复审                   709\n",
       "商标使用许可备案完成                     707\n",
       "核准通知打印发送                       658\n",
       "排版注册公告                         614\n",
       "                             ...  \n",
       "排版送达公告(商标异议申请受理通知书)              1\n",
       "领退信(连续三年不使用撤销申请的结案通知)            1\n",
       "有退信(关于商标继续有效的决定)                 1\n",
       "撤销注册商标复审有退信(商标撤销复审答辩通知书)         1\n",
       "排版送达公告(商标异议申请不予受理通知书)            1\n",
       "无效宣告排版送达公告(商标评审申请受理通知书)          1\n",
       "商标使用许可合同变更中                      1\n",
       "打印受理通知                           1\n",
       "排版送达公告(商标转让证明)                   1\n",
       "排版送达公告(初步审定公告通知书)                1\n",
       "有退信(关于提供注册商标使用证据的通知)             1\n",
       "领退信(异议决定书)                       1\n",
       "排版送达公告(出具商标注册证明申请不予核准通知书)        1\n",
       "发答辩通知书发文                         1\n",
       "领退信(关于撤销连续三年未使用商标的决定)            1\n",
       "收到驳回复审申请或补充材料,待审                 1\n",
       "商标注册证                            1\n",
       "异议不予受理                           1\n",
       "有退信(商标注册证)                       1\n",
       "撤销注册商标复审评审形审不予受理通知发文             1\n",
       "异议复审不予受理                         1\n",
       "驳回复审排版送达公告(初步审定公告通知书)            1\n",
       "领退信(商标使用许可备案受理通知书)               1\n",
       "有退信(国际注册翻译收费通知单)                 1\n",
       "补发注册证不予受理                        1\n",
       "领退信(撤销连续三年不使用注册商标申请补正通知书)        1\n",
       "撤销注册商标复审完成                       1\n",
       "驳回复审有退信(商标评审申请受理通知书)             1\n",
       "驳回复审排版送达公告(商标注册证)                1\n",
       "排版送达公告(商标转让/移转申请视为放弃通知书)         1\n",
       "Name: 商标状态, Length: 208, dtype: int64"
      ]
     },
     "execution_count": 98,
     "metadata": {},
     "output_type": "execute_result"
    }
   ],
   "source": [
    "df_shangbiao_withdate = df_shangbiao.loc[(df_shangbiao['专用权期限结束日期'].notnull())]\n",
    "df_shangbiao_withdate['专用权期限结束日期'] = pd.to_datetime(\n",
    "    df_shangbiao_withdate['专用权期限结束日期'])\n",
    "df_shangbiao_withdate = df_shangbiao_withdate.loc[(\n",
    "    df_shangbiao_withdate['专用权期限结束日期']) > current_date]\n",
    "df_shangbiao_withdate['商标状态'].value_counts()"
   ]
  },
  {
   "cell_type": "code",
   "execution_count": 99,
   "metadata": {
    "ExecuteTime": {
     "end_time": "2019-04-05T16:02:42.553515Z",
     "start_time": "2019-04-05T16:02:42.524074Z"
    }
   },
   "outputs": [
    {
     "data": {
      "text/html": [
       "<div>\n",
       "<style scoped>\n",
       "    .dataframe tbody tr th:only-of-type {\n",
       "        vertical-align: middle;\n",
       "    }\n",
       "\n",
       "    .dataframe tbody tr th {\n",
       "        vertical-align: top;\n",
       "    }\n",
       "\n",
       "    .dataframe thead th {\n",
       "        text-align: right;\n",
       "    }\n",
       "</style>\n",
       "<table border=\"1\" class=\"dataframe\">\n",
       "  <thead>\n",
       "    <tr style=\"text-align: right;\">\n",
       "      <th></th>\n",
       "      <th>商标数量</th>\n",
       "      <th>企业编号</th>\n",
       "    </tr>\n",
       "  </thead>\n",
       "  <tbody>\n",
       "    <tr>\n",
       "      <th>0</th>\n",
       "      <td>255</td>\n",
       "      <td>1001</td>\n",
       "    </tr>\n",
       "    <tr>\n",
       "      <th>1</th>\n",
       "      <td>5</td>\n",
       "      <td>1002</td>\n",
       "    </tr>\n",
       "    <tr>\n",
       "      <th>2</th>\n",
       "      <td>90</td>\n",
       "      <td>1003</td>\n",
       "    </tr>\n",
       "    <tr>\n",
       "      <th>3</th>\n",
       "      <td>6</td>\n",
       "      <td>1004</td>\n",
       "    </tr>\n",
       "    <tr>\n",
       "      <th>4</th>\n",
       "      <td>17</td>\n",
       "      <td>1005</td>\n",
       "    </tr>\n",
       "  </tbody>\n",
       "</table>\n",
       "</div>"
      ],
      "text/plain": [
       "   商标数量  企业编号\n",
       "0   255  1001\n",
       "1     5  1002\n",
       "2    90  1003\n",
       "3     6  1004\n",
       "4    17  1005"
      ]
     },
     "execution_count": 99,
     "metadata": {},
     "output_type": "execute_result"
    }
   ],
   "source": [
    "finished = ['商标已注册',\n",
    "            '注册',\n",
    "            '商标注册申请完成',\n",
    "            '商标续展完成',\n",
    "            '商标变更完成',\n",
    "            '变更商标申请人/注册人名义/地址完成',\n",
    "            '商标注册申请注册公告排版完成',\n",
    "            '商标转让完成',\n",
    "            '出具商标注册证明完成']\n",
    "df_shangbiao_withdate_clean = df_shangbiao_withdate.loc[(\n",
    "    df_shangbiao_withdate['商标状态'].isin(finished))]\n",
    "df_shangbiao_count = pd.DataFrame()\n",
    "df_shangbiao_count['商标数量'] = df_shangbiao_withdate_clean.groupby(['企业编号'])[\n",
    "    '企业编号'].count()\n",
    "df_shangbiao_count['企业编号'] = df_shangbiao_count.index\n",
    "df_shangbiao_count = df_shangbiao_count.set_index(\n",
    "    np.arange(0, len(df_shangbiao_count)))\n",
    "df_shangbiao_count.head(n=5)"
   ]
  },
  {
   "cell_type": "code",
   "execution_count": 100,
   "metadata": {
    "ExecuteTime": {
     "end_time": "2019-04-05T16:02:42.561012Z",
     "start_time": "2019-04-05T16:02:42.555734Z"
    }
   },
   "outputs": [],
   "source": [
    "merge_df(df_shangbiao_count, ['商标数量'], '商标数量')\n",
    "# res['商标数量'] = df_shangbiao_count"
   ]
  },
  {
   "cell_type": "markdown",
   "metadata": {},
   "source": [
    "# 债券信息"
   ]
  },
  {
   "cell_type": "code",
   "execution_count": 101,
   "metadata": {
    "ExecuteTime": {
     "end_time": "2019-04-05T16:02:42.805724Z",
     "start_time": "2019-04-05T16:02:42.562968Z"
    }
   },
   "outputs": [
    {
     "name": "stdout",
     "output_type": "stream",
     "text": [
      "<class 'pandas.core.frame.DataFrame'>\n",
      "RangeIndex: 2400 entries, 0 to 2399\n",
      "Data columns (total 14 columns):\n",
      "企业编号          2400 non-null int64\n",
      "债券信用评级        386 non-null object\n",
      "债券期限          2314 non-null object\n",
      "债券品种          2400 non-null object\n",
      "发行日期          2400 non-null object\n",
      "付息日期          2032 non-null object\n",
      "兑付日期          2313 non-null object\n",
      "计划发行总额（亿元）    2400 non-null float64\n",
      "实际发行总额（亿元）    35 non-null float64\n",
      "币种            2400 non-null object\n",
      "流通场所          17 non-null object\n",
      "票面利率（%）       2399 non-null float64\n",
      "主体信用评级        382 non-null object\n",
      "付息方式          2400 non-null object\n",
      "dtypes: float64(3), int64(1), object(10)\n",
      "memory usage: 262.6+ KB\n",
      "<class 'pandas.core.frame.DataFrame'>\n",
      "RangeIndex: 2400 entries, 0 to 2399\n",
      "Data columns (total 14 columns):\n",
      "企业编号          2400 non-null int64\n",
      "债券信用评级        386 non-null object\n",
      "债券期限          2296 non-null float64\n",
      "债券品种          2400 non-null object\n",
      "发行日期          2400 non-null object\n",
      "付息日期          2032 non-null object\n",
      "兑付日期          2313 non-null object\n",
      "计划发行总额（亿元）    2400 non-null float64\n",
      "实际发行总额（亿元）    35 non-null float64\n",
      "币种            2400 non-null object\n",
      "流通场所          17 non-null object\n",
      "票面利率（%）       2399 non-null float64\n",
      "主体信用评级        382 non-null object\n",
      "付息方式          2400 non-null object\n",
      "dtypes: float64(4), int64(1), object(9)\n",
      "memory usage: 262.6+ KB\n"
     ]
    }
   ],
   "source": [
    "df_operation = pd.read_excel(data_path+r'债券信息.xlsx')\n",
    "df_operation.info()\n",
    "df_operation['债券期限'] = pd.to_numeric(df_operation['债券期限'], errors='coerce')\n",
    "df_operation.info()"
   ]
  },
  {
   "cell_type": "code",
   "execution_count": 102,
   "metadata": {
    "ExecuteTime": {
     "end_time": "2019-04-05T16:02:42.841386Z",
     "start_time": "2019-04-05T16:02:42.808351Z"
    }
   },
   "outputs": [
    {
     "data": {
      "text/html": [
       "<div>\n",
       "<style scoped>\n",
       "    .dataframe tbody tr th:only-of-type {\n",
       "        vertical-align: middle;\n",
       "    }\n",
       "\n",
       "    .dataframe tbody tr th {\n",
       "        vertical-align: top;\n",
       "    }\n",
       "\n",
       "    .dataframe thead th {\n",
       "        text-align: right;\n",
       "    }\n",
       "</style>\n",
       "<table border=\"1\" class=\"dataframe\">\n",
       "  <thead>\n",
       "    <tr style=\"text-align: right;\">\n",
       "      <th></th>\n",
       "      <th>债券期限_mean</th>\n",
       "      <th>债券期限_max</th>\n",
       "      <th>债券期限_min</th>\n",
       "      <th>债券期限_std</th>\n",
       "      <th>票面利率（%）_mean</th>\n",
       "      <th>票面利率（%）_max</th>\n",
       "      <th>票面利率（%）_min</th>\n",
       "      <th>票面利率（%）_std</th>\n",
       "      <th>计划发行总额（亿元）_sum</th>\n",
       "      <th>计划发行总额（亿元）_max</th>\n",
       "      <th>计划发行总额（亿元）_min</th>\n",
       "      <th>计划发行总额（亿元）_std</th>\n",
       "      <th>企业编号</th>\n",
       "    </tr>\n",
       "  </thead>\n",
       "  <tbody>\n",
       "    <tr>\n",
       "      <th>0</th>\n",
       "      <td>0.49000</td>\n",
       "      <td>0.49</td>\n",
       "      <td>0.49</td>\n",
       "      <td>0.000000</td>\n",
       "      <td>3.700</td>\n",
       "      <td>4.35</td>\n",
       "      <td>3.05</td>\n",
       "      <td>0.712039</td>\n",
       "      <td>38.0</td>\n",
       "      <td>10.0</td>\n",
       "      <td>3.0</td>\n",
       "      <td>2.943920</td>\n",
       "      <td>1002</td>\n",
       "    </tr>\n",
       "    <tr>\n",
       "      <th>1</th>\n",
       "      <td>3.43500</td>\n",
       "      <td>5.00</td>\n",
       "      <td>0.74</td>\n",
       "      <td>2.029015</td>\n",
       "      <td>4.692</td>\n",
       "      <td>5.50</td>\n",
       "      <td>3.88</td>\n",
       "      <td>0.580836</td>\n",
       "      <td>29.0</td>\n",
       "      <td>10.0</td>\n",
       "      <td>4.0</td>\n",
       "      <td>2.387467</td>\n",
       "      <td>1004</td>\n",
       "    </tr>\n",
       "    <tr>\n",
       "      <th>2</th>\n",
       "      <td>2.36875</td>\n",
       "      <td>5.00</td>\n",
       "      <td>0.47</td>\n",
       "      <td>1.577896</td>\n",
       "      <td>4.376</td>\n",
       "      <td>5.30</td>\n",
       "      <td>3.30</td>\n",
       "      <td>0.628865</td>\n",
       "      <td>70.0</td>\n",
       "      <td>10.0</td>\n",
       "      <td>3.0</td>\n",
       "      <td>2.943920</td>\n",
       "      <td>1005</td>\n",
       "    </tr>\n",
       "  </tbody>\n",
       "</table>\n",
       "</div>"
      ],
      "text/plain": [
       "   债券期限_mean  债券期限_max  债券期限_min  债券期限_std  票面利率（%）_mean  票面利率（%）_max  \\\n",
       "0    0.49000      0.49      0.49  0.000000         3.700         4.35   \n",
       "1    3.43500      5.00      0.74  2.029015         4.692         5.50   \n",
       "2    2.36875      5.00      0.47  1.577896         4.376         5.30   \n",
       "\n",
       "   票面利率（%）_min  票面利率（%）_std  计划发行总额（亿元）_sum  计划发行总额（亿元）_max  计划发行总额（亿元）_min  \\\n",
       "0         3.05     0.712039            38.0            10.0             3.0   \n",
       "1         3.88     0.580836            29.0            10.0             4.0   \n",
       "2         3.30     0.628865            70.0            10.0             3.0   \n",
       "\n",
       "   计划发行总额（亿元）_std  企业编号  \n",
       "0        2.943920  1002  \n",
       "1        2.387467  1004  \n",
       "2        2.943920  1005  "
      ]
     },
     "execution_count": 102,
     "metadata": {},
     "output_type": "execute_result"
    }
   ],
   "source": [
    "agg_func = {'债券期限': ['mean', 'max', 'min', 'std'], '票面利率（%）': [\n",
    "    'mean', 'max', 'min', 'std'], '计划发行总额（亿元）': ['sum', 'max', 'min', 'std']}\n",
    "df_operation_new = df_operation.groupby(['企业编号']).agg(agg_func)\n",
    "df_operation_new.columns = ['_'.join(col)\n",
    "                            for col in df_operation_new.columns.values]\n",
    "df_operation_new.columns = [\n",
    "    '债券期限_mean',\n",
    "    '债券期限_max',\n",
    "    '债券期限_min',\n",
    "    '债券期限_std',\n",
    "    '票面利率（%）_mean',\n",
    "    '票面利率（%）_max',\n",
    "    '票面利率（%）_min',\n",
    "    '票面利率（%）_std',\n",
    "    '计划发行总额（亿元）_sum',\n",
    "    '计划发行总额（亿元）_max',\n",
    "    '计划发行总额（亿元）_min',\n",
    "    '计划发行总额（亿元）_std']\n",
    "df_operation_new['企业编号'] = df_operation_new.index\n",
    "df_operation_new = df_operation_new.set_index(\n",
    "    np.arange(0, len(df_operation_new)))\n",
    "df_operation_new.head(n=3)\n",
    "# df_operation_new.info()"
   ]
  },
  {
   "cell_type": "code",
   "execution_count": 103,
   "metadata": {
    "ExecuteTime": {
     "end_time": "2019-04-05T16:02:42.853994Z",
     "start_time": "2019-04-05T16:02:42.843779Z"
    }
   },
   "outputs": [],
   "source": [
    "# res['债券信息'] = df_operation_new\n",
    "merge_df(df_operation_new, [\n",
    "    '债券期限_mean',\n",
    "    '债券期限_max',\n",
    "    '债券期限_min',\n",
    "    '债券期限_std',\n",
    "    '票面利率（%）_mean',\n",
    "    '票面利率（%）_max',\n",
    "    '票面利率（%）_min',\n",
    "    '票面利率（%）_std',\n",
    "    '计划发行总额（亿元）_sum',\n",
    "    '计划发行总额（亿元）_max',\n",
    "    '计划发行总额（亿元）_min',\n",
    "    '计划发行总额（亿元）_std'], '债券信息')"
   ]
  },
  {
   "cell_type": "markdown",
   "metadata": {},
   "source": [
    "# 年报-社保信息"
   ]
  },
  {
   "cell_type": "code",
   "execution_count": 104,
   "metadata": {
    "ExecuteTime": {
     "end_time": "2019-04-05T16:02:44.987278Z",
     "start_time": "2019-04-05T16:02:42.855953Z"
    }
   },
   "outputs": [],
   "source": [
    "df_shebao_bkp = pd.read_excel(data_path+r'年报-社保信息.xlsx')"
   ]
  },
  {
   "cell_type": "code",
   "execution_count": 105,
   "metadata": {
    "ExecuteTime": {
     "end_time": "2019-04-05T16:02:45.016571Z",
     "start_time": "2019-04-05T16:02:44.989826Z"
    }
   },
   "outputs": [
    {
     "name": "stdout",
     "output_type": "stream",
     "text": [
      "<class 'pandas.core.frame.DataFrame'>\n",
      "RangeIndex: 15039 entries, 0 to 15038\n",
      "Data columns (total 22 columns):\n",
      "企业编号                    15039 non-null int64\n",
      "城镇职工基本养老保险人数            5597 non-null object\n",
      "失业保险人数                  5599 non-null object\n",
      "职工基本医疗保险人数              5598 non-null object\n",
      "工伤保险人数                  5599 non-null object\n",
      "生育保险人数                  5598 non-null object\n",
      "单位参加城镇职工基本养老保险缴费基数      5354 non-null object\n",
      "单位参加失业保险缴费基数            5597 non-null object\n",
      "单位参加职工基本医疗保险缴费基数        5597 non-null object\n",
      "单位参加工伤保险缴费基数            168 non-null object\n",
      "单位参加生育保险缴费基数            5598 non-null object\n",
      "参加城镇职工基本养老保险本期实际缴费金额    5597 non-null object\n",
      "参加失业保险本期实际缴费金额          5597 non-null object\n",
      "参加职工基本医疗保险本期实际缴费金额      5597 non-null object\n",
      "参加工伤保险本期实际缴费金额          5597 non-null object\n",
      "参加生育保险本期实际缴费金额          5597 non-null object\n",
      "单位参加城镇职工基本养老保险累计欠缴金额    5602 non-null object\n",
      "单位参加失业保险累计欠缴金额          5602 non-null object\n",
      "单位参加职工基本医疗保险累计欠缴金额      5602 non-null object\n",
      "单位参加工伤保险累计欠缴金额          5602 non-null object\n",
      "单位参加生育保险累计欠缴金额          5602 non-null object\n",
      "年报年份                    15032 non-null float64\n",
      "dtypes: float64(1), int64(1), object(20)\n",
      "memory usage: 2.5+ MB\n"
     ]
    }
   ],
   "source": [
    "df_shebao = df_shebao_bkp.copy()\n",
    "df_shebao.info()"
   ]
  },
  {
   "cell_type": "code",
   "execution_count": 106,
   "metadata": {
    "ExecuteTime": {
     "end_time": "2019-04-05T16:02:45.021367Z",
     "start_time": "2019-04-05T16:02:45.018677Z"
    }
   },
   "outputs": [],
   "source": [
    "# filter_df_shebao = df_shebao.loc[(df_shebao['城镇职工基本养老保险人数'].notnull())]\n",
    "# filter_df_shebao = filter_df_shebao.drop(['失业保险人数', '职工基本医疗保险人数', '工伤保险人数', '生育保险人数',\n",
    "#                                           '单位参加失业保险缴费基数', '单位参加职工基本医疗保险缴费基数', '单位参加城镇职工基本养老保险缴费基数',\n",
    "#                                           '单位参加工伤保险缴费基数', '单位参加生育保险缴费基数',\n",
    "#                                           '参加失业保险本期实际缴费金额', '参加职工基本医疗保险本期实际缴费金额', '参加工伤保险本期实际缴费金额',\n",
    "#                                           '参加生育保险本期实际缴费金额', '单位参加城镇职工基本养老保险累计欠缴金额', '单位参加失业保险累计欠缴金额',\n",
    "#                                           '单位参加职工基本医疗保险累计欠缴金额', '单位参加工伤保险累计欠缴金额', '单位参加生育保险累计欠缴金额'], axis=1)\n",
    "# filter_df_shebao['城镇职工基本养老保险人数'] = filter_df_shebao['城镇职工基本养老保险人数'].str.rstrip(\n",
    "#     '人').astype(int)\n",
    "# filter_df_shebao['参加城镇职工基本养老保险本期实际缴费金额'] = filter_df_shebao['参加城镇职工基本养老保险本期实际缴费金额'].str.rstrip(\n",
    "#     '万元')\n",
    "\n",
    "# filter_df_shebao['参加城镇职工基本养老保险本期实际缴费金额'] = filter_df_shebao['参加城镇职工基本养老保险本期实际缴费金额'].fillna(\n",
    "#     '选择不公示')\n",
    "\n",
    "# filter_df_shebao.loc[(filter_df_shebao['参加城镇职工基本养老保险本期实际缴费金额'].str.contains(\n",
    "#     '([^0-9\\.])')), '参加城镇职工基本养老保险本期实际缴费金额'].value_counts()\n",
    "\n",
    "# filter_df_shebao.loc[(filter_df_shebao['参加城镇职工基本养老保险本期实际缴费金额'].str.contains(\n",
    "#     '选择不公示')), '参加城镇职工基本养老保险本期实际缴费金额'] = np.nan\n",
    "\n",
    "# filter_df_shebao['城镇职工基本养老保险本期实际缴费金额'] = filter_df_shebao['参加城镇职工基本养老保险本期实际缴费金额'].str.extract(\n",
    "#     '([0-9\\.]+)').astype(float)*10000\n",
    "# filter_df_shebao = filter_df_shebao.drop(['参加城镇职工基本养老保险本期实际缴费金额'], axis=1)\n",
    "# filter_df_shebao = filter_df_shebao[[\n",
    "#     '企业编号', '城镇职工基本养老保险人数', '城镇职工基本养老保险本期实际缴费金额', '年报年份']]\n",
    "# filter_df_shebao.columns = ['企业编号', '养老保险人数', '养老保险实缴费金额', '年报年份']\n",
    "\n",
    "# filter_df_shebao1['合计'] = filter_df_shebao1['参加城镇职工基本养老保险本期实际缴费金额']+filter_df_shebao1['参加失业保险本期实际缴费金额'] + \\\n",
    "#     filter_df_shebao1['参加职工基本医疗保险本期实际缴费金额'] + \\\n",
    "#     filter_df_shebao1['参加工伤保险本期实际缴费金额']+filter_df_shebao1['参加生育保险本期实际缴费金额']\n",
    "# filter_df_shebao1.info()\n",
    "# filter_df_shebao.head(n=5)"
   ]
  },
  {
   "cell_type": "code",
   "execution_count": 107,
   "metadata": {
    "ExecuteTime": {
     "end_time": "2019-04-05T16:02:45.307174Z",
     "start_time": "2019-04-05T16:02:45.023980Z"
    }
   },
   "outputs": [
    {
     "data": {
      "text/html": [
       "<div>\n",
       "<style scoped>\n",
       "    .dataframe tbody tr th:only-of-type {\n",
       "        vertical-align: middle;\n",
       "    }\n",
       "\n",
       "    .dataframe tbody tr th {\n",
       "        vertical-align: top;\n",
       "    }\n",
       "\n",
       "    .dataframe thead th {\n",
       "        text-align: right;\n",
       "    }\n",
       "</style>\n",
       "<table border=\"1\" class=\"dataframe\">\n",
       "  <thead>\n",
       "    <tr style=\"text-align: right;\">\n",
       "      <th></th>\n",
       "      <th>企业编号</th>\n",
       "      <th>城镇职工基本养老保险人数</th>\n",
       "      <th>单位参加城镇职工基本养老保险缴费基数</th>\n",
       "      <th>参加城镇职工基本养老保险本期实际缴费金额</th>\n",
       "      <th>参加失业保险本期实际缴费金额</th>\n",
       "      <th>参加职工基本医疗保险本期实际缴费金额</th>\n",
       "      <th>参加工伤保险本期实际缴费金额</th>\n",
       "      <th>参加生育保险本期实际缴费金额</th>\n",
       "      <th>年报年份</th>\n",
       "      <th>合计</th>\n",
       "    </tr>\n",
       "  </thead>\n",
       "  <tbody>\n",
       "    <tr>\n",
       "      <th>3</th>\n",
       "      <td>1001</td>\n",
       "      <td>2652</td>\n",
       "      <td>NaN</td>\n",
       "      <td>NaN</td>\n",
       "      <td>NaN</td>\n",
       "      <td>NaN</td>\n",
       "      <td>NaN</td>\n",
       "      <td>NaN</td>\n",
       "      <td>2016.0</td>\n",
       "      <td>NaN</td>\n",
       "    </tr>\n",
       "    <tr>\n",
       "      <th>4</th>\n",
       "      <td>1001</td>\n",
       "      <td>39620</td>\n",
       "      <td>NaN</td>\n",
       "      <td>NaN</td>\n",
       "      <td>NaN</td>\n",
       "      <td>NaN</td>\n",
       "      <td>NaN</td>\n",
       "      <td>NaN</td>\n",
       "      <td>2017.0</td>\n",
       "      <td>NaN</td>\n",
       "    </tr>\n",
       "    <tr>\n",
       "      <th>13</th>\n",
       "      <td>1003</td>\n",
       "      <td>7069</td>\n",
       "      <td>NaN</td>\n",
       "      <td>NaN</td>\n",
       "      <td>NaN</td>\n",
       "      <td>NaN</td>\n",
       "      <td>NaN</td>\n",
       "      <td>NaN</td>\n",
       "      <td>2016.0</td>\n",
       "      <td>NaN</td>\n",
       "    </tr>\n",
       "    <tr>\n",
       "      <th>14</th>\n",
       "      <td>1003</td>\n",
       "      <td>6915</td>\n",
       "      <td>NaN</td>\n",
       "      <td>NaN</td>\n",
       "      <td>NaN</td>\n",
       "      <td>NaN</td>\n",
       "      <td>NaN</td>\n",
       "      <td>NaN</td>\n",
       "      <td>2017.0</td>\n",
       "      <td>NaN</td>\n",
       "    </tr>\n",
       "    <tr>\n",
       "      <th>18</th>\n",
       "      <td>1004</td>\n",
       "      <td>926</td>\n",
       "      <td>NaN</td>\n",
       "      <td>NaN</td>\n",
       "      <td>NaN</td>\n",
       "      <td>NaN</td>\n",
       "      <td>NaN</td>\n",
       "      <td>NaN</td>\n",
       "      <td>2016.0</td>\n",
       "      <td>NaN</td>\n",
       "    </tr>\n",
       "    <tr>\n",
       "      <th>19</th>\n",
       "      <td>1004</td>\n",
       "      <td>1206</td>\n",
       "      <td>NaN</td>\n",
       "      <td>NaN</td>\n",
       "      <td>NaN</td>\n",
       "      <td>NaN</td>\n",
       "      <td>NaN</td>\n",
       "      <td>NaN</td>\n",
       "      <td>2017.0</td>\n",
       "      <td>NaN</td>\n",
       "    </tr>\n",
       "    <tr>\n",
       "      <th>23</th>\n",
       "      <td>1005</td>\n",
       "      <td>206</td>\n",
       "      <td>62069600.0</td>\n",
       "      <td>11479500.0</td>\n",
       "      <td>445400.0</td>\n",
       "      <td>4630200.0</td>\n",
       "      <td>126200.0</td>\n",
       "      <td>336600.0</td>\n",
       "      <td>2016.0</td>\n",
       "      <td>17017900.0</td>\n",
       "    </tr>\n",
       "    <tr>\n",
       "      <th>24</th>\n",
       "      <td>1005</td>\n",
       "      <td>230</td>\n",
       "      <td>49441800.0</td>\n",
       "      <td>13311700.0</td>\n",
       "      <td>491900.0</td>\n",
       "      <td>5432200.0</td>\n",
       "      <td>148100.0</td>\n",
       "      <td>395100.0</td>\n",
       "      <td>2017.0</td>\n",
       "      <td>19779000.0</td>\n",
       "    </tr>\n",
       "    <tr>\n",
       "      <th>28</th>\n",
       "      <td>1006</td>\n",
       "      <td>2035</td>\n",
       "      <td>NaN</td>\n",
       "      <td>NaN</td>\n",
       "      <td>NaN</td>\n",
       "      <td>NaN</td>\n",
       "      <td>NaN</td>\n",
       "      <td>NaN</td>\n",
       "      <td>2016.0</td>\n",
       "      <td>NaN</td>\n",
       "    </tr>\n",
       "    <tr>\n",
       "      <th>29</th>\n",
       "      <td>1006</td>\n",
       "      <td>2046</td>\n",
       "      <td>NaN</td>\n",
       "      <td>NaN</td>\n",
       "      <td>NaN</td>\n",
       "      <td>NaN</td>\n",
       "      <td>NaN</td>\n",
       "      <td>NaN</td>\n",
       "      <td>2017.0</td>\n",
       "      <td>NaN</td>\n",
       "    </tr>\n",
       "  </tbody>\n",
       "</table>\n",
       "</div>"
      ],
      "text/plain": [
       "    企业编号  城镇职工基本养老保险人数  单位参加城镇职工基本养老保险缴费基数  参加城镇职工基本养老保险本期实际缴费金额  \\\n",
       "3   1001          2652                 NaN                   NaN   \n",
       "4   1001         39620                 NaN                   NaN   \n",
       "13  1003          7069                 NaN                   NaN   \n",
       "14  1003          6915                 NaN                   NaN   \n",
       "18  1004           926                 NaN                   NaN   \n",
       "19  1004          1206                 NaN                   NaN   \n",
       "23  1005           206          62069600.0            11479500.0   \n",
       "24  1005           230          49441800.0            13311700.0   \n",
       "28  1006          2035                 NaN                   NaN   \n",
       "29  1006          2046                 NaN                   NaN   \n",
       "\n",
       "    参加失业保险本期实际缴费金额  参加职工基本医疗保险本期实际缴费金额  参加工伤保险本期实际缴费金额  参加生育保险本期实际缴费金额  \\\n",
       "3              NaN                 NaN             NaN             NaN   \n",
       "4              NaN                 NaN             NaN             NaN   \n",
       "13             NaN                 NaN             NaN             NaN   \n",
       "14             NaN                 NaN             NaN             NaN   \n",
       "18             NaN                 NaN             NaN             NaN   \n",
       "19             NaN                 NaN             NaN             NaN   \n",
       "23        445400.0           4630200.0        126200.0        336600.0   \n",
       "24        491900.0           5432200.0        148100.0        395100.0   \n",
       "28             NaN                 NaN             NaN             NaN   \n",
       "29             NaN                 NaN             NaN             NaN   \n",
       "\n",
       "      年报年份          合计  \n",
       "3   2016.0         NaN  \n",
       "4   2017.0         NaN  \n",
       "13  2016.0         NaN  \n",
       "14  2017.0         NaN  \n",
       "18  2016.0         NaN  \n",
       "19  2017.0         NaN  \n",
       "23  2016.0  17017900.0  \n",
       "24  2017.0  19779000.0  \n",
       "28  2016.0         NaN  \n",
       "29  2017.0         NaN  "
      ]
     },
     "execution_count": 107,
     "metadata": {},
     "output_type": "execute_result"
    }
   ],
   "source": [
    "filter_df_shebao = df_shebao.loc[(df_shebao['城镇职工基本养老保险人数'].notnull())]\n",
    "filter_df_shebao = filter_df_shebao.drop(['失业保险人数', '职工基本医疗保险人数', '工伤保险人数', '生育保险人数',\n",
    "                                          '单位参加失业保险缴费基数', '单位参加职工基本医疗保险缴费基数', '单位参加工伤保险缴费基数', '单位参加生育保险缴费基数', '单位参加城镇职工基本养老保险累计欠缴金额', '单位参加失业保险累计欠缴金额',\n",
    "                                          '单位参加职工基本医疗保险累计欠缴金额', '单位参加工伤保险累计欠缴金额', '单位参加生育保险累计欠缴金额'], axis=1)\n",
    "A = ['单位参加城镇职工基本养老保险缴费基数', '参加城镇职工基本养老保险本期实际缴费金额', '参加失业保险本期实际缴费金额',\n",
    "     '参加职工基本医疗保险本期实际缴费金额', '参加工伤保险本期实际缴费金额', '参加生育保险本期实际缴费金额']\n",
    "filter_df_shebao['城镇职工基本养老保险人数'] = filter_df_shebao['城镇职工基本养老保险人数'].str.rstrip(\n",
    "    '人').astype(int)\n",
    "# filter_df_shebao.head(n=5)\n",
    "for arr in A:\n",
    "    filter_df_shebao[arr] = filter_df_shebao[arr].str.rstrip(\n",
    "        '万元')\n",
    "    filter_df_shebao[arr] = filter_df_shebao[arr].fillna(\n",
    "        '选择不公示')\n",
    "    filter_df_shebao.loc[(filter_df_shebao[arr].str.contains(\n",
    "        '([^0-9\\.])')), arr].value_counts()\n",
    "    filter_df_shebao.loc[(filter_df_shebao[arr].str.contains(\n",
    "        '选择不公示')), arr] = np.nan\n",
    "    filter_df_shebao[arr] = filter_df_shebao[arr].str.extract(\n",
    "        '([0-9\\.]+)').astype(float)*10000\n",
    "# filter_df_shebao.head(n=5)\n",
    "# filter_df_shebao.info()\n",
    "filter_df_shebao1 = filter_df_shebao.copy()\n",
    "# filter_df_shebao1.info()\n",
    "filter_df_shebao1['合计'] = filter_df_shebao1['参加城镇职工基本养老保险本期实际缴费金额']+filter_df_shebao1['参加失业保险本期实际缴费金额'] + \\\n",
    "    filter_df_shebao1['参加职工基本医疗保险本期实际缴费金额'] + \\\n",
    "    filter_df_shebao1['参加工伤保险本期实际缴费金额']+filter_df_shebao1['参加生育保险本期实际缴费金额']\n",
    "filter_df_shebao1.head(n=10)"
   ]
  },
  {
   "cell_type": "code",
   "execution_count": 108,
   "metadata": {
    "ExecuteTime": {
     "end_time": "2019-04-05T16:02:45.315227Z",
     "start_time": "2019-04-05T16:02:45.309812Z"
    }
   },
   "outputs": [],
   "source": [
    "df_shebao_16 = filter_df_shebao1.loc[(filter_df_shebao['年报年份'] == 2016)]\n",
    "df_shebao_17 = filter_df_shebao1.loc[(filter_df_shebao['年报年份'] == 2017)]"
   ]
  },
  {
   "cell_type": "code",
   "execution_count": 109,
   "metadata": {
    "ExecuteTime": {
     "end_time": "2019-04-05T16:02:45.319309Z",
     "start_time": "2019-04-05T16:02:45.317249Z"
    }
   },
   "outputs": [],
   "source": [
    "# df_shebao_16_c = df_shebao_16.copy()\n",
    "# df_shebao_17_c = df_shebao_17.copy()\n",
    "# df_shebao_16_c = df_shebao_16_c.set_index(df_shebao_16_c['企业编号'])\n",
    "# df_shebao_17_c = df_shebao_17_c.set_index(df_shebao_17_c['企业编号'])\n",
    "# df_shebao_16_c = df_shebao_16_c.drop(['年报年份'], axis=1)\n",
    "# df_shebao_17_c = df_shebao_17_c.drop(['年报年份'], axis=1)\n",
    "# df_shebao_16_c = df_shebao_16_c.drop(['企业编号'], axis=1)\n",
    "# df_shebao_17_c = df_shebao_17_c.drop(['企业编号'], axis=1)\n",
    "# combine_df = df_shebao_17_c.combine_first(df_shebao_16_c)\n",
    "# combine_df['养老保险人数'] = combine_df['养老保险人数'].replace(0.0, np.nan)\n",
    "# combine_df['养老保险人数'] = combine_df['养老保险人数'].fillna(combine_df['养老保险人数'].mean())"
   ]
  },
  {
   "cell_type": "code",
   "execution_count": 110,
   "metadata": {
    "ExecuteTime": {
     "end_time": "2019-04-05T16:02:45.350384Z",
     "start_time": "2019-04-05T16:02:45.321726Z"
    }
   },
   "outputs": [
    {
     "data": {
      "text/html": [
       "<div>\n",
       "<style scoped>\n",
       "    .dataframe tbody tr th:only-of-type {\n",
       "        vertical-align: middle;\n",
       "    }\n",
       "\n",
       "    .dataframe tbody tr th {\n",
       "        vertical-align: top;\n",
       "    }\n",
       "\n",
       "    .dataframe thead th {\n",
       "        text-align: right;\n",
       "    }\n",
       "</style>\n",
       "<table border=\"1\" class=\"dataframe\">\n",
       "  <thead>\n",
       "    <tr style=\"text-align: right;\">\n",
       "      <th></th>\n",
       "      <th>城镇职工基本养老保险人数</th>\n",
       "      <th>保险实缴/人数</th>\n",
       "      <th>基数/人数</th>\n",
       "    </tr>\n",
       "    <tr>\n",
       "      <th>企业编号</th>\n",
       "      <th></th>\n",
       "      <th></th>\n",
       "      <th></th>\n",
       "    </tr>\n",
       "  </thead>\n",
       "  <tbody>\n",
       "    <tr>\n",
       "      <th>1001</th>\n",
       "      <td>39620.0</td>\n",
       "      <td>NaN</td>\n",
       "      <td>NaN</td>\n",
       "    </tr>\n",
       "    <tr>\n",
       "      <th>1003</th>\n",
       "      <td>6915.0</td>\n",
       "      <td>NaN</td>\n",
       "      <td>NaN</td>\n",
       "    </tr>\n",
       "    <tr>\n",
       "      <th>1004</th>\n",
       "      <td>1206.0</td>\n",
       "      <td>NaN</td>\n",
       "      <td>NaN</td>\n",
       "    </tr>\n",
       "    <tr>\n",
       "      <th>1005</th>\n",
       "      <td>230.0</td>\n",
       "      <td>85995.652174</td>\n",
       "      <td>214964.347826</td>\n",
       "    </tr>\n",
       "    <tr>\n",
       "      <th>1006</th>\n",
       "      <td>2046.0</td>\n",
       "      <td>NaN</td>\n",
       "      <td>NaN</td>\n",
       "    </tr>\n",
       "    <tr>\n",
       "      <th>1007</th>\n",
       "      <td>29722.0</td>\n",
       "      <td>2181.885472</td>\n",
       "      <td>5585.424938</td>\n",
       "    </tr>\n",
       "    <tr>\n",
       "      <th>1008</th>\n",
       "      <td>286.0</td>\n",
       "      <td>77237.762238</td>\n",
       "      <td>248076.923077</td>\n",
       "    </tr>\n",
       "    <tr>\n",
       "      <th>1009</th>\n",
       "      <td>2077.0</td>\n",
       "      <td>12888.956933</td>\n",
       "      <td>46014.047439</td>\n",
       "    </tr>\n",
       "    <tr>\n",
       "      <th>1010</th>\n",
       "      <td>2585.0</td>\n",
       "      <td>77801.994197</td>\n",
       "      <td>189139.437524</td>\n",
       "    </tr>\n",
       "    <tr>\n",
       "      <th>1011</th>\n",
       "      <td>45808.0</td>\n",
       "      <td>NaN</td>\n",
       "      <td>NaN</td>\n",
       "    </tr>\n",
       "  </tbody>\n",
       "</table>\n",
       "</div>"
      ],
      "text/plain": [
       "      城镇职工基本养老保险人数       保险实缴/人数          基数/人数\n",
       "企业编号                                           \n",
       "1001       39620.0           NaN            NaN\n",
       "1003        6915.0           NaN            NaN\n",
       "1004        1206.0           NaN            NaN\n",
       "1005         230.0  85995.652174  214964.347826\n",
       "1006        2046.0           NaN            NaN\n",
       "1007       29722.0   2181.885472    5585.424938\n",
       "1008         286.0  77237.762238  248076.923077\n",
       "1009        2077.0  12888.956933   46014.047439\n",
       "1010        2585.0  77801.994197  189139.437524\n",
       "1011       45808.0           NaN            NaN"
      ]
     },
     "execution_count": 110,
     "metadata": {},
     "output_type": "execute_result"
    }
   ],
   "source": [
    "df_shebao_16_c = df_shebao_16.copy()\n",
    "df_shebao_17_c = df_shebao_17.copy()\n",
    "df_shebao_16_c = df_shebao_16_c.set_index(df_shebao_16_c['企业编号'])\n",
    "df_shebao_17_c = df_shebao_17_c.set_index(df_shebao_17_c['企业编号'])\n",
    "df_shebao_16_c = df_shebao_16_c.drop(['年报年份'], axis=1)\n",
    "df_shebao_17_c = df_shebao_17_c.drop(['年报年份'], axis=1)\n",
    "df_shebao_16_c = df_shebao_16_c.drop(['企业编号'], axis=1)\n",
    "df_shebao_17_c = df_shebao_17_c.drop(['企业编号'], axis=1)\n",
    "combine_df = df_shebao_17_c.combine_first(df_shebao_16_c)\n",
    "combine_df['城镇职工基本养老保险人数'] = combine_df['城镇职工基本养老保险人数'].replace(0.0, np.nan)\n",
    "combine_df['城镇职工基本养老保险人数'] = combine_df['城镇职工基本养老保险人数'].fillna(\n",
    "    combine_df['城镇职工基本养老保险人数'].mean())\n",
    "combine_df['保险实缴/人数'] = combine_df['合计']/combine_df['城镇职工基本养老保险人数']\n",
    "combine_df['基数/人数'] = combine_df['单位参加城镇职工基本养老保险缴费基数'] / \\\n",
    "    combine_df['城镇职工基本养老保险人数']\n",
    "combine_df['保险实缴/人数'] = combine_df['保险实缴/人数'].replace(np.inf, np.nan)\n",
    "combine_df['保险实缴/人数'] = combine_df['保险实缴/人数'].replace(0.0, np.nan)\n",
    "combine_df['基数/人数'] = combine_df['基数/人数'].replace(np.inf, np.nan)\n",
    "combine_df['基数/人数'] = combine_df['基数/人数'].replace(0.0, np.nan)\n",
    "combine_df = combine_df.drop(['单位参加城镇职工基本养老保险缴费基数', '参加城镇职工基本养老保险本期实际缴费金额',\n",
    "                              '参加失业保险本期实际缴费金额', '参加职工基本医疗保险本期实际缴费金额', '参加工伤保险本期实际缴费金额',\n",
    "                              '参加生育保险本期实际缴费金额', '合计'], axis=1)\n",
    "combine_df.head(n=10)"
   ]
  },
  {
   "cell_type": "code",
   "execution_count": 111,
   "metadata": {
    "ExecuteTime": {
     "end_time": "2019-04-05T16:02:45.360884Z",
     "start_time": "2019-04-05T16:02:45.352425Z"
    }
   },
   "outputs": [
    {
     "data": {
      "text/plain": [
       "count    2.331000e+03\n",
       "mean     1.071056e+07\n",
       "std      1.681021e+08\n",
       "min      9.703994e+00\n",
       "25%      9.684409e+03\n",
       "50%      1.605753e+04\n",
       "75%      3.206429e+04\n",
       "max      7.415916e+09\n",
       "Name: 保险实缴/人数, dtype: float64"
      ]
     },
     "execution_count": 111,
     "metadata": {},
     "output_type": "execute_result"
    }
   ],
   "source": [
    "combine_df['保险实缴/人数'].describe()"
   ]
  },
  {
   "cell_type": "code",
   "execution_count": 112,
   "metadata": {
    "ExecuteTime": {
     "end_time": "2019-04-05T16:02:45.372981Z",
     "start_time": "2019-04-05T16:02:45.363132Z"
    }
   },
   "outputs": [
    {
     "data": {
      "text/plain": [
       "count    2.362000e+03\n",
       "mean     1.881929e+07\n",
       "std      1.614143e+08\n",
       "min      1.970814e-01\n",
       "25%      7.114967e+03\n",
       "50%      3.922830e+04\n",
       "75%      7.921930e+04\n",
       "max      4.818387e+09\n",
       "Name: 基数/人数, dtype: float64"
      ]
     },
     "execution_count": 112,
     "metadata": {},
     "output_type": "execute_result"
    }
   ],
   "source": [
    "combine_df['基数/人数'].describe()"
   ]
  },
  {
   "cell_type": "code",
   "execution_count": 113,
   "metadata": {
    "ExecuteTime": {
     "end_time": "2019-04-05T16:02:45.378312Z",
     "start_time": "2019-04-05T16:02:45.374885Z"
    }
   },
   "outputs": [],
   "source": [
    "def remove_outlier(df_in, col_name):\n",
    "    q1 = df_in[col_name].quantile(0.25)\n",
    "    q3 = df_in[col_name].quantile(0.75)\n",
    "    iqr = q3-q1\n",
    "    fence_low = q1-1.5*iqr\n",
    "    fence_high = q3+1.5*iqr\n",
    "    df_out = df_in.loc[(df_in[col_name] > fence_low) &\n",
    "                       (df_in[col_name] < fence_high)]\n",
    "    return df_out"
   ]
  },
  {
   "cell_type": "code",
   "execution_count": 114,
   "metadata": {
    "ExecuteTime": {
     "end_time": "2019-04-05T16:02:45.469420Z",
     "start_time": "2019-04-05T16:02:45.380858Z"
    }
   },
   "outputs": [
    {
     "data": {
      "text/html": [
       "<div>\n",
       "<style scoped>\n",
       "    .dataframe tbody tr th:only-of-type {\n",
       "        vertical-align: middle;\n",
       "    }\n",
       "\n",
       "    .dataframe tbody tr th {\n",
       "        vertical-align: top;\n",
       "    }\n",
       "\n",
       "    .dataframe thead th {\n",
       "        text-align: right;\n",
       "    }\n",
       "</style>\n",
       "<table border=\"1\" class=\"dataframe\">\n",
       "  <thead>\n",
       "    <tr style=\"text-align: right;\">\n",
       "      <th></th>\n",
       "      <th>城镇职工基本养老保险人数</th>\n",
       "      <th>保险实缴/人数</th>\n",
       "      <th>基数/人数</th>\n",
       "      <th>企业编号</th>\n",
       "    </tr>\n",
       "  </thead>\n",
       "  <tbody>\n",
       "    <tr>\n",
       "      <th>0</th>\n",
       "      <td>29722.0</td>\n",
       "      <td>2181.885472</td>\n",
       "      <td>5585.424938</td>\n",
       "      <td>1007</td>\n",
       "    </tr>\n",
       "    <tr>\n",
       "      <th>1</th>\n",
       "      <td>2077.0</td>\n",
       "      <td>12888.956933</td>\n",
       "      <td>46014.047439</td>\n",
       "      <td>1009</td>\n",
       "    </tr>\n",
       "    <tr>\n",
       "      <th>2</th>\n",
       "      <td>5302.0</td>\n",
       "      <td>26252.357601</td>\n",
       "      <td>66329.686911</td>\n",
       "      <td>1012</td>\n",
       "    </tr>\n",
       "    <tr>\n",
       "      <th>3</th>\n",
       "      <td>13671.0</td>\n",
       "      <td>27786.628630</td>\n",
       "      <td>73293.833662</td>\n",
       "      <td>1017</td>\n",
       "    </tr>\n",
       "    <tr>\n",
       "      <th>4</th>\n",
       "      <td>2547.0</td>\n",
       "      <td>43177.934825</td>\n",
       "      <td>143040.714566</td>\n",
       "      <td>1019</td>\n",
       "    </tr>\n",
       "  </tbody>\n",
       "</table>\n",
       "</div>"
      ],
      "text/plain": [
       "   城镇职工基本养老保险人数       保险实缴/人数          基数/人数  企业编号\n",
       "0       29722.0   2181.885472    5585.424938  1007\n",
       "1        2077.0  12888.956933   46014.047439  1009\n",
       "2        5302.0  26252.357601   66329.686911  1012\n",
       "3       13671.0  27786.628630   73293.833662  1017\n",
       "4        2547.0  43177.934825  143040.714566  1019"
      ]
     },
     "execution_count": 114,
     "metadata": {},
     "output_type": "execute_result"
    }
   ],
   "source": [
    "combine_df_rm_outlier = remove_outlier(combine_df, '保险实缴/人数')\n",
    "combine_df_rm_outlier = remove_outlier(combine_df_rm_outlier, '基数/人数')\n",
    "combine_df_rm_outlier['企业编号'] = combine_df_rm_outlier.index\n",
    "combine_df_rm_outlier = combine_df_rm_outlier.set_index(\n",
    "    np.arange(0, len(combine_df_rm_outlier)))\n",
    "combine_df_rm_outlier.head(n=5)"
   ]
  },
  {
   "cell_type": "code",
   "execution_count": 115,
   "metadata": {
    "ExecuteTime": {
     "end_time": "2019-04-05T16:02:45.479843Z",
     "start_time": "2019-04-05T16:02:45.471439Z"
    }
   },
   "outputs": [
    {
     "data": {
      "text/plain": [
       "count     2006.000000\n",
       "mean     17722.860979\n",
       "std      13157.622777\n",
       "min          9.703994\n",
       "25%       8993.636795\n",
       "50%      14369.853513\n",
       "75%      23873.740345\n",
       "max      64745.833333\n",
       "Name: 保险实缴/人数, dtype: float64"
      ]
     },
     "execution_count": 115,
     "metadata": {},
     "output_type": "execute_result"
    }
   ],
   "source": [
    "combine_df_rm_outlier['保险实缴/人数'].describe()"
   ]
  },
  {
   "cell_type": "code",
   "execution_count": 116,
   "metadata": {
    "ExecuteTime": {
     "end_time": "2019-04-05T16:02:45.490117Z",
     "start_time": "2019-04-05T16:02:45.481983Z"
    }
   },
   "outputs": [
    {
     "data": {
      "text/plain": [
       "count      2006.000000\n",
       "mean      42853.508114\n",
       "std       38907.063020\n",
       "min           0.197081\n",
       "25%        6177.369262\n",
       "50%       36148.903709\n",
       "75%       63540.587571\n",
       "max      161808.631922\n",
       "Name: 基数/人数, dtype: float64"
      ]
     },
     "execution_count": 116,
     "metadata": {},
     "output_type": "execute_result"
    }
   ],
   "source": [
    "combine_df_rm_outlier['基数/人数'].describe()"
   ]
  },
  {
   "cell_type": "code",
   "execution_count": 117,
   "metadata": {
    "ExecuteTime": {
     "end_time": "2019-04-05T16:02:45.503486Z",
     "start_time": "2019-04-05T16:02:45.491968Z"
    }
   },
   "outputs": [],
   "source": [
    "combine_df_rm_outlier = combine_df_rm_outlier.drop_duplicates()\n",
    "merge_shebao = df_base.merge(\n",
    "    combine_df_rm_outlier, how='left', on='企业编号')\n",
    "merge_shebao['城镇职工基本养老保险人数'] = merge_shebao['城镇职工基本养老保险人数'].fillna(\n",
    "    merge_shebao['城镇职工基本养老保险人数'].mean()).astype(int)\n",
    "merge_shebao['保险实缴/人数'] = merge_shebao['保险实缴/人数'].fillna(\n",
    "    merge_shebao['保险实缴/人数'].mean())\n",
    "merge_shebao['基数/人数'] = merge_shebao['基数/人数'].fillna(\n",
    "    merge_shebao['基数/人数'].mean())\n",
    "res['社保信息'] = merge_shebao"
   ]
  },
  {
   "cell_type": "markdown",
   "metadata": {},
   "source": [
    "# Check Point"
   ]
  },
  {
   "cell_type": "code",
   "execution_count": 118,
   "metadata": {
    "ExecuteTime": {
     "end_time": "2019-04-05T16:02:45.510322Z",
     "start_time": "2019-04-05T16:02:45.505684Z"
    }
   },
   "outputs": [
    {
     "name": "stdout",
     "output_type": "stream",
     "text": [
      "企业得分 2\n",
      "软著著作权 2\n",
      "作品著作 2\n",
      "项目信息 2\n",
      "纳税A级年份 5\n",
      "资质认证 2\n",
      "产品 7\n",
      "专利 6\n",
      "竞品 2\n",
      "招投标 2\n",
      "企业购地 9\n",
      "年报-对外投资信息 5\n",
      "年报-股东股权转让 7\n",
      "经营状态 2\n",
      "行业大类 19\n",
      "注册资本_是否上市 3\n",
      "外企_注销_成立年数 4\n",
      "企业基本信息经营状态 6\n",
      "企业担保次数 2\n",
      "网站或网点数 2\n",
      "商标数量 2\n",
      "债券信息 13\n",
      "社保信息 4\n",
      "total:  87\n"
     ]
    }
   ],
   "source": [
    "feature_count = 0\n",
    "for k, v in res.items():\n",
    "    print(k, len(v.columns))\n",
    "    feature_count += (len(v.columns)-1)\n",
    "print('total: ', feature_count)"
   ]
  },
  {
   "cell_type": "markdown",
   "metadata": {},
   "source": [
    "# Combine all"
   ]
  },
  {
   "cell_type": "code",
   "execution_count": 119,
   "metadata": {
    "ExecuteTime": {
     "end_time": "2019-04-05T16:02:45.625822Z",
     "start_time": "2019-04-05T16:02:45.514997Z"
    }
   },
   "outputs": [
    {
     "name": "stdout",
     "output_type": "stream",
     "text": [
      "企业得分\n",
      "软著著作权\n",
      "作品著作\n",
      "项目信息\n",
      "纳税A级年份\n",
      "资质认证\n",
      "产品\n",
      "专利\n",
      "竞品\n",
      "招投标\n",
      "企业购地\n",
      "年报-对外投资信息\n",
      "年报-股东股权转让\n",
      "经营状态\n",
      "行业大类\n",
      "注册资本_是否上市\n",
      "外企_注销_成立年数\n",
      "企业基本信息经营状态\n",
      "企业担保次数\n",
      "网站或网点数\n",
      "商标数量\n",
      "债券信息\n",
      "社保信息\n"
     ]
    }
   ],
   "source": [
    "noFinacialFeatures = df_base\n",
    "for k, v in res.items():\n",
    "    print(k)\n",
    "    noFinacialFeatures = noFinacialFeatures.merge(v, how='left', on='企业编号')\n",
    "noFinacialFeatures.set_index(\n",
    "    np.arange(0, len(noFinacialFeatures)), inplace=True)"
   ]
  },
  {
   "cell_type": "code",
   "execution_count": 120,
   "metadata": {
    "ExecuteTime": {
     "end_time": "2019-04-05T16:02:45.650491Z",
     "start_time": "2019-04-05T16:02:45.628185Z"
    }
   },
   "outputs": [
    {
     "data": {
      "text/html": [
       "<div>\n",
       "<style scoped>\n",
       "    .dataframe tbody tr th:only-of-type {\n",
       "        vertical-align: middle;\n",
       "    }\n",
       "\n",
       "    .dataframe tbody tr th {\n",
       "        vertical-align: top;\n",
       "    }\n",
       "\n",
       "    .dataframe thead th {\n",
       "        text-align: right;\n",
       "    }\n",
       "</style>\n",
       "<table border=\"1\" class=\"dataframe\">\n",
       "  <thead>\n",
       "    <tr style=\"text-align: right;\">\n",
       "      <th></th>\n",
       "      <th>企业编号</th>\n",
       "      <th>企业总评分</th>\n",
       "      <th>软著数量</th>\n",
       "      <th>作品著作数量</th>\n",
       "      <th>项目数量</th>\n",
       "      <th>纳税A级年份_2014</th>\n",
       "      <th>纳税A级年份_2015</th>\n",
       "      <th>纳税A级年份_2016</th>\n",
       "      <th>纳税A级年份_2017</th>\n",
       "      <th>资质证书数量</th>\n",
       "      <th>...</th>\n",
       "      <th>票面利率（%）_max</th>\n",
       "      <th>票面利率（%）_min</th>\n",
       "      <th>票面利率（%）_std</th>\n",
       "      <th>计划发行总额（亿元）_sum</th>\n",
       "      <th>计划发行总额（亿元）_max</th>\n",
       "      <th>计划发行总额（亿元）_min</th>\n",
       "      <th>计划发行总额（亿元）_std</th>\n",
       "      <th>城镇职工基本养老保险人数</th>\n",
       "      <th>保险实缴/人数</th>\n",
       "      <th>基数/人数</th>\n",
       "    </tr>\n",
       "  </thead>\n",
       "  <tbody>\n",
       "    <tr>\n",
       "      <th>0</th>\n",
       "      <td>1001</td>\n",
       "      <td>75.374276</td>\n",
       "      <td>1.0</td>\n",
       "      <td>1.0</td>\n",
       "      <td>1.0</td>\n",
       "      <td>1.0</td>\n",
       "      <td>2.0</td>\n",
       "      <td>1.0</td>\n",
       "      <td>1.0</td>\n",
       "      <td>9.0</td>\n",
       "      <td>...</td>\n",
       "      <td>0.00</td>\n",
       "      <td>0.00</td>\n",
       "      <td>0.000000</td>\n",
       "      <td>0.0</td>\n",
       "      <td>0.0</td>\n",
       "      <td>0.0</td>\n",
       "      <td>0.000000</td>\n",
       "      <td>2176</td>\n",
       "      <td>17910.412479</td>\n",
       "      <td>43390.918022</td>\n",
       "    </tr>\n",
       "    <tr>\n",
       "      <th>1</th>\n",
       "      <td>1002</td>\n",
       "      <td>79.830122</td>\n",
       "      <td>2.0</td>\n",
       "      <td>0.0</td>\n",
       "      <td>1.0</td>\n",
       "      <td>1.0</td>\n",
       "      <td>1.0</td>\n",
       "      <td>2.0</td>\n",
       "      <td>0.0</td>\n",
       "      <td>0.0</td>\n",
       "      <td>...</td>\n",
       "      <td>4.35</td>\n",
       "      <td>3.05</td>\n",
       "      <td>0.712039</td>\n",
       "      <td>38.0</td>\n",
       "      <td>10.0</td>\n",
       "      <td>3.0</td>\n",
       "      <td>2.943920</td>\n",
       "      <td>2176</td>\n",
       "      <td>17910.412479</td>\n",
       "      <td>43390.918022</td>\n",
       "    </tr>\n",
       "    <tr>\n",
       "      <th>2</th>\n",
       "      <td>1003</td>\n",
       "      <td>78.318264</td>\n",
       "      <td>2.0</td>\n",
       "      <td>0.0</td>\n",
       "      <td>1.0</td>\n",
       "      <td>1.0</td>\n",
       "      <td>1.0</td>\n",
       "      <td>0.0</td>\n",
       "      <td>1.0</td>\n",
       "      <td>442.0</td>\n",
       "      <td>...</td>\n",
       "      <td>0.00</td>\n",
       "      <td>0.00</td>\n",
       "      <td>0.000000</td>\n",
       "      <td>0.0</td>\n",
       "      <td>0.0</td>\n",
       "      <td>0.0</td>\n",
       "      <td>0.000000</td>\n",
       "      <td>2176</td>\n",
       "      <td>17910.412479</td>\n",
       "      <td>43390.918022</td>\n",
       "    </tr>\n",
       "    <tr>\n",
       "      <th>3</th>\n",
       "      <td>1004</td>\n",
       "      <td>83.253376</td>\n",
       "      <td>0.0</td>\n",
       "      <td>6.0</td>\n",
       "      <td>1.0</td>\n",
       "      <td>0.0</td>\n",
       "      <td>0.0</td>\n",
       "      <td>2.0</td>\n",
       "      <td>1.0</td>\n",
       "      <td>1.0</td>\n",
       "      <td>...</td>\n",
       "      <td>5.50</td>\n",
       "      <td>3.88</td>\n",
       "      <td>0.580836</td>\n",
       "      <td>29.0</td>\n",
       "      <td>10.0</td>\n",
       "      <td>4.0</td>\n",
       "      <td>2.387467</td>\n",
       "      <td>2176</td>\n",
       "      <td>17910.412479</td>\n",
       "      <td>43390.918022</td>\n",
       "    </tr>\n",
       "    <tr>\n",
       "      <th>4</th>\n",
       "      <td>1005</td>\n",
       "      <td>83.291493</td>\n",
       "      <td>6.0</td>\n",
       "      <td>0.0</td>\n",
       "      <td>1.0</td>\n",
       "      <td>0.0</td>\n",
       "      <td>0.0</td>\n",
       "      <td>0.0</td>\n",
       "      <td>0.0</td>\n",
       "      <td>5.0</td>\n",
       "      <td>...</td>\n",
       "      <td>5.30</td>\n",
       "      <td>3.30</td>\n",
       "      <td>0.628865</td>\n",
       "      <td>70.0</td>\n",
       "      <td>10.0</td>\n",
       "      <td>3.0</td>\n",
       "      <td>2.943920</td>\n",
       "      <td>2176</td>\n",
       "      <td>17910.412479</td>\n",
       "      <td>43390.918022</td>\n",
       "    </tr>\n",
       "  </tbody>\n",
       "</table>\n",
       "<p>5 rows × 88 columns</p>\n",
       "</div>"
      ],
      "text/plain": [
       "   企业编号      企业总评分  软著数量  作品著作数量  项目数量  纳税A级年份_2014  纳税A级年份_2015  纳税A级年份_2016  \\\n",
       "0  1001  75.374276   1.0     1.0   1.0          1.0          2.0          1.0   \n",
       "1  1002  79.830122   2.0     0.0   1.0          1.0          1.0          2.0   \n",
       "2  1003  78.318264   2.0     0.0   1.0          1.0          1.0          0.0   \n",
       "3  1004  83.253376   0.0     6.0   1.0          0.0          0.0          2.0   \n",
       "4  1005  83.291493   6.0     0.0   1.0          0.0          0.0          0.0   \n",
       "\n",
       "   纳税A级年份_2017  资质证书数量      ...       票面利率（%）_max  票面利率（%）_min  票面利率（%）_std  \\\n",
       "0          1.0     9.0      ...              0.00         0.00     0.000000   \n",
       "1          0.0     0.0      ...              4.35         3.05     0.712039   \n",
       "2          1.0   442.0      ...              0.00         0.00     0.000000   \n",
       "3          1.0     1.0      ...              5.50         3.88     0.580836   \n",
       "4          0.0     5.0      ...              5.30         3.30     0.628865   \n",
       "\n",
       "   计划发行总额（亿元）_sum  计划发行总额（亿元）_max  计划发行总额（亿元）_min  计划发行总额（亿元）_std  \\\n",
       "0             0.0             0.0             0.0        0.000000   \n",
       "1            38.0            10.0             3.0        2.943920   \n",
       "2             0.0             0.0             0.0        0.000000   \n",
       "3            29.0            10.0             4.0        2.387467   \n",
       "4            70.0            10.0             3.0        2.943920   \n",
       "\n",
       "   城镇职工基本养老保险人数       保险实缴/人数         基数/人数  \n",
       "0          2176  17910.412479  43390.918022  \n",
       "1          2176  17910.412479  43390.918022  \n",
       "2          2176  17910.412479  43390.918022  \n",
       "3          2176  17910.412479  43390.918022  \n",
       "4          2176  17910.412479  43390.918022  \n",
       "\n",
       "[5 rows x 88 columns]"
      ]
     },
     "execution_count": 120,
     "metadata": {},
     "output_type": "execute_result"
    }
   ],
   "source": [
    "noFinacialFeatures.head(n=5)"
   ]
  },
  {
   "cell_type": "code",
   "execution_count": 121,
   "metadata": {
    "ExecuteTime": {
     "end_time": "2019-04-05T16:02:45.669932Z",
     "start_time": "2019-04-05T16:02:45.652424Z"
    }
   },
   "outputs": [
    {
     "name": "stdout",
     "output_type": "stream",
     "text": [
      "<class 'pandas.core.frame.DataFrame'>\n",
      "Int64Index: 2956 entries, 0 to 2955\n",
      "Data columns (total 88 columns):\n",
      "企业编号               2956 non-null int64\n",
      "企业总评分              2956 non-null float64\n",
      "软著数量               2956 non-null float64\n",
      "作品著作数量             2956 non-null float64\n",
      "项目数量               2956 non-null float64\n",
      "纳税A级年份_2014        2956 non-null float64\n",
      "纳税A级年份_2015        2956 non-null float64\n",
      "纳税A级年份_2016        2956 non-null float64\n",
      "纳税A级年份_2017        2956 non-null float64\n",
      "资质证书数量             2956 non-null float64\n",
      "android            2956 non-null float64\n",
      "ios                2956 non-null float64\n",
      "miniapp            2956 non-null float64\n",
      "website            2956 non-null float64\n",
      "wechat             2956 non-null float64\n",
      "weibo              2956 non-null float64\n",
      "发明专利               2956 non-null float64\n",
      "发明公布               2956 non-null float64\n",
      "发明授权               2956 non-null float64\n",
      "外观设计               2956 non-null float64\n",
      "实用新型               2956 non-null float64\n",
      "竞品数量               2956 non-null float64\n",
      "中标                 2956 non-null float64\n",
      "企业购地面积（公顷）_sum     2956 non-null float64\n",
      "企业购地面积（公顷）_min     2956 non-null float64\n",
      "企业购地面积（公顷）_max     2956 non-null float64\n",
      "土地评估金额(亿元)_sum     2956 non-null float64\n",
      "土地评估金额(亿元)_max     2956 non-null float64\n",
      "土地面积评估均值(公顷/亿元)    2956 non-null float64\n",
      "购地次数               2956 non-null float64\n",
      "抵押次数               2956 non-null float64\n",
      "投资金额_sum           2956 non-null float64\n",
      "投资金额_min           2956 non-null float64\n",
      "投资金额_max           2956 non-null float64\n",
      "投资次数               2956 non-null float64\n",
      "变更股权比例差_sum        2956 non-null float64\n",
      "变更股权比例差_max        2956 non-null float64\n",
      "变更股权比例差_min        2956 non-null float64\n",
      "变更前股权比例_sum        2956 non-null float64\n",
      "变更后股权比例_sum        2956 non-null float64\n",
      "变更次数               2956 non-null float64\n",
      "经营状态               2956 non-null int64\n",
      "行业大类_A             2956 non-null float64\n",
      "行业大类_B             2956 non-null float64\n",
      "行业大类_C             2956 non-null float64\n",
      "行业大类_D             2956 non-null float64\n",
      "行业大类_E             2956 non-null float64\n",
      "行业大类_F             2956 non-null float64\n",
      "行业大类_G             2956 non-null float64\n",
      "行业大类_H             2956 non-null float64\n",
      "行业大类_I             2956 non-null float64\n",
      "行业大类_J             2956 non-null float64\n",
      "行业大类_K             2956 non-null float64\n",
      "行业大类_L             2956 non-null float64\n",
      "行业大类_M             2956 non-null float64\n",
      "行业大类_N             2956 non-null float64\n",
      "行业大类_O             2956 non-null float64\n",
      "行业大类_P             2956 non-null float64\n",
      "行业大类_Q             2956 non-null float64\n",
      "行业大类_R             2956 non-null float64\n",
      "注册资本（万元）           2956 non-null float64\n",
      "是否上市               2956 non-null int64\n",
      "是否注销               2956 non-null float64\n",
      "是否外企               2956 non-null float64\n",
      "成立年数               2956 non-null float64\n",
      "停业                 2956 non-null float64\n",
      "其他                 2956 non-null float64\n",
      "开业                 2956 non-null float64\n",
      "歇业                 2956 non-null float64\n",
      "清算                 2956 non-null float64\n",
      "担保次数               2956 non-null float64\n",
      "网站或网点数             2956 non-null float64\n",
      "商标数量               2956 non-null float64\n",
      "债券期限_mean          2956 non-null float64\n",
      "债券期限_max           2956 non-null float64\n",
      "债券期限_min           2956 non-null float64\n",
      "债券期限_std           2956 non-null float64\n",
      "票面利率（%）_mean       2956 non-null float64\n",
      "票面利率（%）_max        2956 non-null float64\n",
      "票面利率（%）_min        2956 non-null float64\n",
      "票面利率（%）_std        2956 non-null float64\n",
      "计划发行总额（亿元）_sum     2956 non-null float64\n",
      "计划发行总额（亿元）_max     2956 non-null float64\n",
      "计划发行总额（亿元）_min     2956 non-null float64\n",
      "计划发行总额（亿元）_std     2956 non-null float64\n",
      "城镇职工基本养老保险人数       2956 non-null int64\n",
      "保险实缴/人数            2956 non-null float64\n",
      "基数/人数              2956 non-null float64\n",
      "dtypes: float64(84), int64(4)\n",
      "memory usage: 2.0 MB\n"
     ]
    }
   ],
   "source": [
    "noFinacialFeatures.info()"
   ]
  },
  {
   "cell_type": "code",
   "execution_count": 122,
   "metadata": {
    "ExecuteTime": {
     "end_time": "2019-04-05T16:02:45.896182Z",
     "start_time": "2019-04-05T16:02:45.671905Z"
    }
   },
   "outputs": [
    {
     "data": {
      "text/html": [
       "<div>\n",
       "<style scoped>\n",
       "    .dataframe tbody tr th:only-of-type {\n",
       "        vertical-align: middle;\n",
       "    }\n",
       "\n",
       "    .dataframe tbody tr th {\n",
       "        vertical-align: top;\n",
       "    }\n",
       "\n",
       "    .dataframe thead th {\n",
       "        text-align: right;\n",
       "    }\n",
       "</style>\n",
       "<table border=\"1\" class=\"dataframe\">\n",
       "  <thead>\n",
       "    <tr style=\"text-align: right;\">\n",
       "      <th></th>\n",
       "      <th>企业编号</th>\n",
       "      <th>企业总评分</th>\n",
       "      <th>软著数量</th>\n",
       "      <th>作品著作数量</th>\n",
       "      <th>项目数量</th>\n",
       "      <th>纳税A级年份_2014</th>\n",
       "      <th>纳税A级年份_2015</th>\n",
       "      <th>纳税A级年份_2016</th>\n",
       "      <th>纳税A级年份_2017</th>\n",
       "      <th>资质证书数量</th>\n",
       "      <th>...</th>\n",
       "      <th>票面利率（%）_max</th>\n",
       "      <th>票面利率（%）_min</th>\n",
       "      <th>票面利率（%）_std</th>\n",
       "      <th>计划发行总额（亿元）_sum</th>\n",
       "      <th>计划发行总额（亿元）_max</th>\n",
       "      <th>计划发行总额（亿元）_min</th>\n",
       "      <th>计划发行总额（亿元）_std</th>\n",
       "      <th>城镇职工基本养老保险人数</th>\n",
       "      <th>保险实缴/人数</th>\n",
       "      <th>基数/人数</th>\n",
       "    </tr>\n",
       "  </thead>\n",
       "  <tbody>\n",
       "    <tr>\n",
       "      <th>count</th>\n",
       "      <td>2956.000000</td>\n",
       "      <td>2956.000000</td>\n",
       "      <td>2956.000000</td>\n",
       "      <td>2956.000000</td>\n",
       "      <td>2956.000000</td>\n",
       "      <td>2956.000000</td>\n",
       "      <td>2956.000000</td>\n",
       "      <td>2956.000000</td>\n",
       "      <td>2956.000000</td>\n",
       "      <td>2956.000000</td>\n",
       "      <td>...</td>\n",
       "      <td>2956.000000</td>\n",
       "      <td>2956.000000</td>\n",
       "      <td>2956.000000</td>\n",
       "      <td>2956.000000</td>\n",
       "      <td>2956.000000</td>\n",
       "      <td>2956.000000</td>\n",
       "      <td>2956.000000</td>\n",
       "      <td>2956.000000</td>\n",
       "      <td>2956.000000</td>\n",
       "      <td>2956.000000</td>\n",
       "    </tr>\n",
       "    <tr>\n",
       "      <th>mean</th>\n",
       "      <td>2502.771651</td>\n",
       "      <td>83.739845</td>\n",
       "      <td>12.364344</td>\n",
       "      <td>11.120095</td>\n",
       "      <td>0.983424</td>\n",
       "      <td>0.576116</td>\n",
       "      <td>0.624154</td>\n",
       "      <td>0.801083</td>\n",
       "      <td>0.664750</td>\n",
       "      <td>19.898173</td>\n",
       "      <td>...</td>\n",
       "      <td>1.381417</td>\n",
       "      <td>1.159966</td>\n",
       "      <td>0.101149</td>\n",
       "      <td>11.203106</td>\n",
       "      <td>3.335003</td>\n",
       "      <td>1.648630</td>\n",
       "      <td>0.690065</td>\n",
       "      <td>2176.281123</td>\n",
       "      <td>17910.412479</td>\n",
       "      <td>43390.918022</td>\n",
       "    </tr>\n",
       "    <tr>\n",
       "      <th>std</th>\n",
       "      <td>867.163675</td>\n",
       "      <td>5.098489</td>\n",
       "      <td>57.731652</td>\n",
       "      <td>173.357735</td>\n",
       "      <td>0.234277</td>\n",
       "      <td>0.516356</td>\n",
       "      <td>0.587356</td>\n",
       "      <td>0.819607</td>\n",
       "      <td>0.553948</td>\n",
       "      <td>204.058315</td>\n",
       "      <td>...</td>\n",
       "      <td>2.609044</td>\n",
       "      <td>2.243032</td>\n",
       "      <td>0.303594</td>\n",
       "      <td>54.091235</td>\n",
       "      <td>10.836609</td>\n",
       "      <td>4.898727</td>\n",
       "      <td>3.079984</td>\n",
       "      <td>15336.840152</td>\n",
       "      <td>10675.847850</td>\n",
       "      <td>31483.751381</td>\n",
       "    </tr>\n",
       "    <tr>\n",
       "      <th>min</th>\n",
       "      <td>1001.000000</td>\n",
       "      <td>60.024840</td>\n",
       "      <td>0.000000</td>\n",
       "      <td>0.000000</td>\n",
       "      <td>0.000000</td>\n",
       "      <td>0.000000</td>\n",
       "      <td>0.000000</td>\n",
       "      <td>0.000000</td>\n",
       "      <td>0.000000</td>\n",
       "      <td>0.000000</td>\n",
       "      <td>...</td>\n",
       "      <td>0.000000</td>\n",
       "      <td>0.000000</td>\n",
       "      <td>0.000000</td>\n",
       "      <td>0.000000</td>\n",
       "      <td>0.000000</td>\n",
       "      <td>0.000000</td>\n",
       "      <td>0.000000</td>\n",
       "      <td>1.000000</td>\n",
       "      <td>9.703994</td>\n",
       "      <td>0.197081</td>\n",
       "    </tr>\n",
       "    <tr>\n",
       "      <th>25%</th>\n",
       "      <td>1750.750000</td>\n",
       "      <td>79.638031</td>\n",
       "      <td>0.000000</td>\n",
       "      <td>0.000000</td>\n",
       "      <td>1.000000</td>\n",
       "      <td>0.000000</td>\n",
       "      <td>0.000000</td>\n",
       "      <td>0.000000</td>\n",
       "      <td>0.000000</td>\n",
       "      <td>0.000000</td>\n",
       "      <td>...</td>\n",
       "      <td>0.000000</td>\n",
       "      <td>0.000000</td>\n",
       "      <td>0.000000</td>\n",
       "      <td>0.000000</td>\n",
       "      <td>0.000000</td>\n",
       "      <td>0.000000</td>\n",
       "      <td>0.000000</td>\n",
       "      <td>374.000000</td>\n",
       "      <td>12090.340597</td>\n",
       "      <td>28386.572872</td>\n",
       "    </tr>\n",
       "    <tr>\n",
       "      <th>50%</th>\n",
       "      <td>2502.500000</td>\n",
       "      <td>83.343093</td>\n",
       "      <td>0.000000</td>\n",
       "      <td>0.000000</td>\n",
       "      <td>1.000000</td>\n",
       "      <td>1.000000</td>\n",
       "      <td>1.000000</td>\n",
       "      <td>1.000000</td>\n",
       "      <td>1.000000</td>\n",
       "      <td>2.000000</td>\n",
       "      <td>...</td>\n",
       "      <td>0.000000</td>\n",
       "      <td>0.000000</td>\n",
       "      <td>0.000000</td>\n",
       "      <td>0.000000</td>\n",
       "      <td>0.000000</td>\n",
       "      <td>0.000000</td>\n",
       "      <td>0.000000</td>\n",
       "      <td>1607.500000</td>\n",
       "      <td>17910.412479</td>\n",
       "      <td>43390.918022</td>\n",
       "    </tr>\n",
       "    <tr>\n",
       "      <th>75%</th>\n",
       "      <td>3252.250000</td>\n",
       "      <td>87.439268</td>\n",
       "      <td>3.000000</td>\n",
       "      <td>0.000000</td>\n",
       "      <td>1.000000</td>\n",
       "      <td>1.000000</td>\n",
       "      <td>1.000000</td>\n",
       "      <td>1.000000</td>\n",
       "      <td>1.000000</td>\n",
       "      <td>5.000000</td>\n",
       "      <td>...</td>\n",
       "      <td>0.000000</td>\n",
       "      <td>0.000000</td>\n",
       "      <td>0.000000</td>\n",
       "      <td>0.000000</td>\n",
       "      <td>0.000000</td>\n",
       "      <td>0.000000</td>\n",
       "      <td>0.000000</td>\n",
       "      <td>2176.000000</td>\n",
       "      <td>17959.613815</td>\n",
       "      <td>46224.031034</td>\n",
       "    </tr>\n",
       "    <tr>\n",
       "      <th>max</th>\n",
       "      <td>4000.000000</td>\n",
       "      <td>94.990901</td>\n",
       "      <td>1205.000000</td>\n",
       "      <td>5726.000000</td>\n",
       "      <td>3.000000</td>\n",
       "      <td>2.000000</td>\n",
       "      <td>3.000000</td>\n",
       "      <td>4.000000</td>\n",
       "      <td>2.000000</td>\n",
       "      <td>9315.000000</td>\n",
       "      <td>...</td>\n",
       "      <td>9.500000</td>\n",
       "      <td>9.500000</td>\n",
       "      <td>3.620387</td>\n",
       "      <td>1405.000000</td>\n",
       "      <td>200.000000</td>\n",
       "      <td>100.000000</td>\n",
       "      <td>69.391049</td>\n",
       "      <td>806578.000000</td>\n",
       "      <td>64745.833333</td>\n",
       "      <td>161808.631922</td>\n",
       "    </tr>\n",
       "  </tbody>\n",
       "</table>\n",
       "<p>8 rows × 88 columns</p>\n",
       "</div>"
      ],
      "text/plain": [
       "              企业编号        企业总评分         软著数量       作品著作数量         项目数量  \\\n",
       "count  2956.000000  2956.000000  2956.000000  2956.000000  2956.000000   \n",
       "mean   2502.771651    83.739845    12.364344    11.120095     0.983424   \n",
       "std     867.163675     5.098489    57.731652   173.357735     0.234277   \n",
       "min    1001.000000    60.024840     0.000000     0.000000     0.000000   \n",
       "25%    1750.750000    79.638031     0.000000     0.000000     1.000000   \n",
       "50%    2502.500000    83.343093     0.000000     0.000000     1.000000   \n",
       "75%    3252.250000    87.439268     3.000000     0.000000     1.000000   \n",
       "max    4000.000000    94.990901  1205.000000  5726.000000     3.000000   \n",
       "\n",
       "       纳税A级年份_2014  纳税A级年份_2015  纳税A级年份_2016  纳税A级年份_2017       资质证书数量  \\\n",
       "count  2956.000000  2956.000000  2956.000000  2956.000000  2956.000000   \n",
       "mean      0.576116     0.624154     0.801083     0.664750    19.898173   \n",
       "std       0.516356     0.587356     0.819607     0.553948   204.058315   \n",
       "min       0.000000     0.000000     0.000000     0.000000     0.000000   \n",
       "25%       0.000000     0.000000     0.000000     0.000000     0.000000   \n",
       "50%       1.000000     1.000000     1.000000     1.000000     2.000000   \n",
       "75%       1.000000     1.000000     1.000000     1.000000     5.000000   \n",
       "max       2.000000     3.000000     4.000000     2.000000  9315.000000   \n",
       "\n",
       "           ...        票面利率（%）_max  票面利率（%）_min  票面利率（%）_std  计划发行总额（亿元）_sum  \\\n",
       "count      ...        2956.000000  2956.000000  2956.000000     2956.000000   \n",
       "mean       ...           1.381417     1.159966     0.101149       11.203106   \n",
       "std        ...           2.609044     2.243032     0.303594       54.091235   \n",
       "min        ...           0.000000     0.000000     0.000000        0.000000   \n",
       "25%        ...           0.000000     0.000000     0.000000        0.000000   \n",
       "50%        ...           0.000000     0.000000     0.000000        0.000000   \n",
       "75%        ...           0.000000     0.000000     0.000000        0.000000   \n",
       "max        ...           9.500000     9.500000     3.620387     1405.000000   \n",
       "\n",
       "       计划发行总额（亿元）_max  计划发行总额（亿元）_min  计划发行总额（亿元）_std   城镇职工基本养老保险人数  \\\n",
       "count     2956.000000     2956.000000     2956.000000    2956.000000   \n",
       "mean         3.335003        1.648630        0.690065    2176.281123   \n",
       "std         10.836609        4.898727        3.079984   15336.840152   \n",
       "min          0.000000        0.000000        0.000000       1.000000   \n",
       "25%          0.000000        0.000000        0.000000     374.000000   \n",
       "50%          0.000000        0.000000        0.000000    1607.500000   \n",
       "75%          0.000000        0.000000        0.000000    2176.000000   \n",
       "max        200.000000      100.000000       69.391049  806578.000000   \n",
       "\n",
       "            保险实缴/人数          基数/人数  \n",
       "count   2956.000000    2956.000000  \n",
       "mean   17910.412479   43390.918022  \n",
       "std    10675.847850   31483.751381  \n",
       "min        9.703994       0.197081  \n",
       "25%    12090.340597   28386.572872  \n",
       "50%    17910.412479   43390.918022  \n",
       "75%    17959.613815   46224.031034  \n",
       "max    64745.833333  161808.631922  \n",
       "\n",
       "[8 rows x 88 columns]"
      ]
     },
     "execution_count": 122,
     "metadata": {},
     "output_type": "execute_result"
    }
   ],
   "source": [
    "noFinacialFeatures.describe()"
   ]
  },
  {
   "cell_type": "code",
   "execution_count": 123,
   "metadata": {
    "ExecuteTime": {
     "end_time": "2019-04-05T16:02:46.102240Z",
     "start_time": "2019-04-05T16:02:45.898523Z"
    }
   },
   "outputs": [],
   "source": [
    "noFinacialFeatures.to_csv(r'../../Data/noFinacialFeatures.csv', index=False)"
   ]
  },
  {
   "cell_type": "code",
   "execution_count": 124,
   "metadata": {
    "ExecuteTime": {
     "end_time": "2019-04-05T16:02:51.226010Z",
     "start_time": "2019-04-05T16:02:46.104419Z"
    }
   },
   "outputs": [
    {
     "data": {
      "text/plain": [
       "<matplotlib.axes._subplots.AxesSubplot at 0x129acd438>"
      ]
     },
     "execution_count": 124,
     "metadata": {},
     "output_type": "execute_result"
    },
    {
     "data": {
      "image/png": "[encoded data removed]",
      "text/plain": [
       "<Figure size 3600x3600 with 2 Axes>"
      ]
     },
     "metadata": {
      "needs_background": "light"
     },
     "output_type": "display_data"
    }
   ],
   "source": [
    "noFinacialFeatures_drop = noFinacialFeatures.drop(['企业编号'], axis=1)\n",
    "colormap = plt.cm.RdBu\n",
    "plt.figure(figsize=(50, 50))\n",
    "sns.heatmap(noFinacialFeatures_drop.corr(),\n",
    "            linewidths=0.1,\n",
    "            vmax=1.0,\n",
    "            square=True,\n",
    "            cmap=colormap,\n",
    "            linecolor='white',\n",
    "            annot=False)"
   ]
  }
 ],
 "metadata": {
  "kernelspec": {
   "display_name": "Python 3",
   "language": "python",
   "name": "python3"
  },
  "language_info": {
   "codemirror_mode": {
    "name": "ipython",
    "version": 3
   },
   "file_extension": ".py",
   "mimetype": "text/x-python",
   "name": "python",
   "nbconvert_exporter": "python",
   "pygments_lexer": "ipython3",
   "version": "3.6.2"
  },
  "toc": {
   "base_numbering": 1,
   "nav_menu": {},
   "number_sections": true,
   "sideBar": true,
   "skip_h1_title": false,
   "title_cell": "Table of Contents",
   "title_sidebar": "Contents",
   "toc_cell": false,
   "toc_position": {},
   "toc_section_display": true,
   "toc_window_display": false
  },
  "varInspector": {
   "cols": {
    "lenName": 16,
    "lenType": 16,
    "lenVar": 40
   },
   "kernels_config": {
    "python": {
     "delete_cmd_postfix": "",
     "delete_cmd_prefix": "del ",
     "library": "var_list.py",
     "varRefreshCmd": "print(var_dic_list())"
    },
    "r": {
     "delete_cmd_postfix": ") ",
     "delete_cmd_prefix": "rm(",
     "library": "var_list.r",
     "varRefreshCmd": "cat(var_dic_list()) "
    }
   },
   "types_to_exclude": [
    "module",
    "function",
    "builtin_function_or_method",
    "instance",
    "_Feature"
   ],
   "window_display": false
  }
 },
 "nbformat": 4,
 "nbformat_minor": 2
}
