{
 "cells": [
  {
   "cell_type": "code",
   "execution_count": 2,
   "metadata": {},
   "outputs": [
    {
     "data": {
      "text/plain": [
       "Timestamp('2019-04-05 00:00:00')"
      ]
     },
     "execution_count": 2,
     "metadata": {},
     "output_type": "execute_result"
    }
   ],
   "source": [
    "from IPython.display import display\n",
    "import matplotlib.pyplot as plt\n",
    "import pandas as pd\n",
    "import numpy as np\n",
    "import seaborn as sns\n",
    "import matplotlib as mpl\n",
    "import warnings\n",
    "import time\n",
    "from collections import Counter\n",
    "warnings.filterwarnings(\"ignore\")\n",
    "\n",
    "\n",
    "plt.style.use(\"fivethirtyeight\")\n",
    "\n",
    "sns.set_style({'font.sans-serif': ['simsun', 'Arial']})\n",
    "sns.set_style('darkgrid', {'font.sans-serif': ['simhei', 'Arial']})\n",
    "%matplotlib inline\n",
    "current_date = pd.to_datetime(\n",
    "    time.strftime('%Y-%m-%d', time.localtime(time.time())))\n",
    "\n",
    "res = {}\n",
    "data_path = r'../../.././Documents/赛题1数据集/'\n",
    "current_date"
   ]
  },
  {
   "cell_type": "markdown",
   "metadata": {},
   "source": [
    "# 资产负债表"
   ]
  },
  {
   "cell_type": "code",
   "execution_count": 35,
   "metadata": {},
   "outputs": [],
   "source": [
    "df_asset_bpk = pd.read_excel(data_path+r'上市信息财务信息资产负债表.xlsx')\n",
    "df_asset = df_asset_bpk.copy()"
   ]
  },
  {
   "cell_type": "code",
   "execution_count": 92,
   "metadata": {},
   "outputs": [],
   "source": [
    "A = ['资产:货币资金(元)', '资产:长期股权投资(元)', '资产:固定资产(元)', '资产:无形资产(元)','负债:长期负债合计(元)','权益:实收资本(或股本)(元)',\n",
    "     '资产:流动资产合计(元)','资产:资产总计(元)','负债:流动负债合计(元)','负债:负债合计(元)','权益:股东权益合计(元)']\n",
    "df_asset=df_asset[~df_asset['权益:股东权益合计(元)'].isin(['正无穷大万亿'])]\n",
    "df_asset1= pd.DataFrame({'企业编号':df_asset['企业编号'],'资产:货币资金(元)':df_asset['资产:货币资金(元)'],'资产:长期股权投资(元)': df_asset['资产:长期股权投资(元)'],\n",
    "                         '资产:固定资产(元)': df_asset['资产:固定资产(元)'],'资产:无形资产(元)': df_asset['资产:无形资产(元)'],'负债:长期负债合计(元)':df_asset['负债:长期负债合计(元)'],\n",
    "                         '权益:实收资本(或股本)(元)':df_asset['权益:实收资本(或股本)(元)'],'资产:流动资产合计(元)': df_asset['资产:流动资产合计(元)'],\n",
    "                         '资产:资产总计(元)': df_asset['资产:资产总计(元)'],'负债:流动负债合计(元)': df_asset['负债:流动负债合计(元)'],'负债:负债合计(元)':df_asset['负债:负债合计(元)'],\n",
    "                         '权益:股东权益合计(元)':df_asset['权益:股东权益合计(元)'],\n",
    "})\n",
    "\n"
   ]
  },
  {
   "cell_type": "code",
   "execution_count": 93,
   "metadata": {},
   "outputs": [],
   "source": [
    "# for arr in A:\n",
    "#     chinese = set(df_asset1[arr].str.extract(\n",
    "#         \"([^0-9\\.\\-]+)\", expand=False).dropna())\n",
    "#     print(arr, chinese)\n",
    "for arr in A:\n",
    "    df_asset1.loc[(df_asset1[arr].str.contains(\"万\") == True), arr] = df_asset1.loc[(\n",
    "        df_asset1[arr].str.contains(\"万\") == True), arr].str.replace('万', '').astype(float)*0.0001\n",
    "    df_asset1.loc[(df_asset1[arr].str.contains(\"亿\") == True), arr] = df_asset1.loc[(\n",
    "        df_asset1[arr].str.contains(\"亿\") == True), arr].str.replace('亿', '').astype(float)*1\n",
    "for arr in A:\n",
    "     df_asset1[arr]=pd.to_numeric( df_asset1[arr],errors='coerce')"
   ]
  },
  {
   "cell_type": "code",
   "execution_count": 108,
   "metadata": {},
   "outputs": [],
   "source": [
    "df_asset1.loc[(df_asset1['资产:货币资金(元)'] >1718) ==True,'资产:货币资金(元)']=1718\n",
    "df_asset1.loc[(df_asset1['资产:长期股权投资(元)'] >5700) ==True,'资产:长期股权投资(元)']=5700\n",
    "df_asset1.loc[(df_asset1['资产:固定资产(元)'] >6900) ==True,'资产:固定资产(元)']=6900\n",
    "df_asset1.loc[(df_asset1['资产:无形资产(元)'] >1800) ==True,'资产:无形资产(元)']=1800\n",
    "df_asset1.loc[(df_asset1['负债:长期负债合计(元)'] >3994) ==True,'负债:长期负债合计(元)']=3994\n",
    "df_asset1.loc[(df_asset1['权益:实收资本(或股本)(元)'] >3564) ==True,'权益:实收资本(或股本)(元)']=3564\n",
    "df_asset1.loc[(df_asset1['资产:流动资产合计(元)'] >13264) ==True,'资产:流动资产合计(元)']=13264\n",
    "df_asset1.loc[(df_asset1['资产:资产总计(元)'] >38981) ==True,'资产:资产总计(元)']=38981\n",
    "df_asset1.loc[(df_asset1['负债:流动负债合计(元)'] >10441) ==True,'负债:流动负债合计(元)']=10441\n",
    "df_asset1.loc[(df_asset1['负债:负债合计(元)'] >259172) ==True,'负债:负债合计(元)']=259172\n",
    "df_asset1.loc[(df_asset1['权益:股东权益合计(元)'] >22808) ==True,'权益:股东权益合计(元)']=22808\n",
    "\n",
    "    \n",
    "\n"
   ]
  },
  {
   "cell_type": "code",
   "execution_count": 112,
   "metadata": {},
   "outputs": [],
   "source": [
    "agg_func1 ={'资产:流动资产合计(元)': ['mean', 'max', 'min'],\n",
    "    '资产:资产总计(元)': ['mean', 'max', 'min'],\n",
    "    '负债:流动负债合计(元)': ['mean', 'max', 'min'],\n",
    "    '负债:负债合计(元)': ['mean', 'max', 'min'],\n",
    "    '权益:股东权益合计(元)':['mean', 'max', 'min'],\n",
    "     '资产:货币资金(元)': ['mean', 'max', 'min'],\n",
    "     '资产:长期股权投资(元)': ['mean', 'max', 'min'],\n",
    "    '资产:固定资产(元)': ['mean', 'max', 'min'],\n",
    "    '资产:无形资产(元)': ['mean', 'max', 'min'],\n",
    "    '权益:实收资本(或股本)(元)':['mean', 'max', 'min'],}\n",
    "df_asset1_new = df_asset1.groupby(['企业编号']).agg(agg_func1)\n",
    "df_asset1_new.columns = ['_'.join(col) for col in df_asset1_new.columns.values]\n",
    "df_asset1_new.columns = [\n",
    "    '资产:流动资产合计(元)_mean', '资产:流动资产合计(元)_max', '资产:流动资产合计(元)_min','资产:资产总计(元)_mean', '资产:资产总计(元)_max', '资产:资产总计(元)_min', \n",
    "     '负债:流动负债合计(元)_mean', '负债:流动负债合计(元)_max', '负债:流动负债合计(元)_min', '负债:负债合计(元)_mean', '负债:负债合计(元)_max', '负债:负债合计(元)_min',\n",
    "     '权益:股东权益合计(元)_mean', '权益:股东权益合计(元)_max', '权益:股东权益合计(元)_min','资产:货币资金(元)_mean', '资产:货币资金(元)_max', '资产:货币资金(元)_min',\n",
    "    '资产:长期股权投资(元)_mean', '资产:长期股权投资(元)_max', '资产:长期股权投资(元)_min', '资产:固定资产(元)_mean', '资产:固定资产(元)_max', '资产:固定资产(元)_min', \n",
    "    '资产:无形资产(元)_mean', '资产:无形资产(元)_max', '资产:无形资产(元)_min','权益:实收资本(或股本)(元)_mean', '权益:实收资本(或股本)(元)_max', '权益:实收资本(或股本)(元)_min' ]\n",
    "df_asset1_new['企业编号'] = df_asset1_new.index\n",
    "df_asset1_new.fillna(df_asset1_new.mean(),inplace=True)\n"
   ]
  },
  {
   "cell_type": "code",
   "execution_count": 118,
   "metadata": {},
   "outputs": [],
   "source": [
    "res['资产负债表']=df_asset1_new"
   ]
  },
  {
   "cell_type": "markdown",
   "metadata": {},
   "source": [
    "# 利润表"
   ]
  },
  {
   "cell_type": "code",
   "execution_count": 3,
   "metadata": {},
   "outputs": [],
   "source": [
    "df_profit_bpk = pd.read_excel(data_path+r'上市信息财务信息-利润表.xlsx')\n",
    "df_profit = df_profit_bpk.copy()\n",
    "B=['营业成本(元)','销售费用(元)','财务费用(元)','管理费用(元)','投资收益(元)','营业利润(元)','利润总额(元)','归属母公司所有者净利润(元)']\n",
    "# for arr in B:\n",
    "#     chinese = set(df_profit[arr].str.extract(\n",
    "#         \"([^0-9\\.\\-]+)\", expand=False).dropna())\n",
    "#     print(arr, chinese)\n",
    "for arr in B:\n",
    "    df_profit.loc[(df_profit[arr].str.contains(\"万\") == True), arr] = df_profit.loc[(\n",
    "       df_profit[arr].str.contains(\"万\") == True), arr].str.replace('万', '').astype(float)*10000\n",
    "    df_profit.loc[(df_profit[arr].str.contains(\"亿\") == True), arr] = df_profit.loc[(\n",
    "        df_profit[arr].str.contains(\"亿\") == True), arr].str.replace('亿', '').astype(float)*100000000\n",
    "    df_profit[arr]=pd.to_numeric(df_profit[arr],errors='coerce')\n",
    "df_profit1=df_profit.drop(['标题','日期','营业收入(元)','资产减值损失(元)','资产减值损失(元)','所得税(元)'],axis=1)\n",
    "\n"
   ]
  },
  {
   "cell_type": "code",
   "execution_count": 4,
   "metadata": {},
   "outputs": [],
   "source": [
    "agg_func2 = {\n",
    "     '营业成本(元)':  ['mean', 'max', 'min'],\n",
    "    '营业利润(元)': ['mean', 'max', 'min'], '利润总额(元)':['mean', 'max', 'min'],\n",
    "     '销售费用(元)': ['mean', 'max', 'min'],\n",
    "    '财务费用(元)':  ['mean', 'max', 'min'],\n",
    "    '管理费用(元)': ['mean', 'max', 'min'],\n",
    "    '投资收益(元)': ['mean', 'max', 'min'],\n",
    "}\n",
    "df_profit1_new= df_profit1.groupby(['企业编号']).agg(agg_func2)\n",
    "df_profit1_new.columns = ['_'.join(col) for col in df_profit1_new.columns.values]\n",
    "df_profit1_new.columns = [\n",
    "'营业成本(元)_mean', '营业成本(元)_max', '营业成本(元)_min','营业利润(元)_mean', '营业利润(元)_max', '营业利润(元)_min', \n",
    "     '利润总额(元)_mean', '利润总额(元)_max', '利润总额(元)_min', '销售费用(元)_mean', '销售费用(元)_max', '销售费用(元)_min','财务费用(元)_mean', '财务费用(元)_max', '财务费用(元)_min', \n",
    "     '管理费用(元)_mean', '管理费用(元)_max', '管理费用(元)_min', '投资收益(元)_mean', '投资收益(元)_max', '投资收益(元)_min',]\n",
    "df_profit1_new['企业编号'] = df_profit1_new.index\n",
    "df_profit1_new.fillna(df_profit1_new.mean(),inplace=True)\n"
   ]
  },
  {
   "cell_type": "code",
   "execution_count": 5,
   "metadata": {},
   "outputs": [],
   "source": [
    "res['利润表']=df_profit1_new"
   ]
  },
  {
   "cell_type": "markdown",
   "metadata": {},
   "source": [
    "# 现金流量表"
   ]
  },
  {
   "cell_type": "code",
   "execution_count": 65,
   "metadata": {},
   "outputs": [],
   "source": [
    "df_cash_bpk = pd.read_excel(data_path+r'上市信息财务信息-现金流量表.xlsx')\n",
    "df_cash = df_cash_bpk.copy()"
   ]
  },
  {
   "cell_type": "code",
   "execution_count": 119,
   "metadata": {},
   "outputs": [],
   "source": [
    "df_cash1=pd.DataFrame({'企业编号':df_cash['企业编号'],'经营流入':df_cash['经营:经营活动现金流入小计(元)'],\n",
    "                '经营净额':df_cash['经营:经营活动产生的现金流量净额(元)'], '投资流出':df_cash['投资:投资活动现金流出小计(元)'], '投资净额':df_cash['投资:投资活动产生的现金流量净额(元)'],\n",
    "                  '筹资流入':df_cash['筹资:筹资活动现金流入小计(元)'],'筹资净额':df_cash['筹资活动产生的现金流量净额(元)'],})\n",
    "C=['经营流入','经营净额','投资流出','投资净额', '筹资流入','筹资净额']\n",
    "# for arr in C:\n",
    "#     chinese = set(df_cash1[arr].str.extract(\n",
    "#         \"([^0-9\\.\\-]+)\", expand=False).dropna())\n",
    "#     print(arr, chinese)\n",
    "for arr in C:\n",
    "    df_cash1.loc[(df_cash1[arr].str.contains(\"万\") == True), arr] = df_cash1.loc[(\n",
    "        df_cash1[arr].str.contains(\"万\") == True), arr].str.replace('万', '').astype(float)*0.0001\n",
    "    df_cash1.loc[(df_cash1[arr].str.contains(\"亿\") == True), arr] = df_cash1.loc[(\n",
    "        df_cash1[arr].str.contains(\"亿\") == True), arr].str.replace('亿', '').astype(float)*1\n",
    "    df_cash1[arr]=pd.to_numeric(df_cash1[arr],errors='coerce')\n",
    "\n"
   ]
  },
  {
   "cell_type": "code",
   "execution_count": 122,
   "metadata": {},
   "outputs": [],
   "source": [
    "agg_func3 = {\n",
    "     '经营流入':  ['mean', 'max', 'min'],\n",
    "    '经营净额': ['mean', 'max', 'min'], '投资流出':['mean', 'max', 'min'],'投资净额': ['mean', 'max', 'min'],\n",
    "     '筹资流入': ['mean', 'max', 'min'],\n",
    "    '筹资净额':  ['mean', 'max', 'min'],\n",
    "}\n",
    "df_cash1_new= df_cash1.groupby(['企业编号']).agg(agg_func3)\n",
    "df_cash1_new.columns = ['_'.join(col) for col in df_cash1_new.columns.values]\n",
    "df_cash1_new.columns = [\n",
    "'经营流入_mean', '经营流入_max', '经营流入_min','经营净额_mean', '经营净额_max', '经营净额_min', \n",
    "     '投资流出_mean', '投资流出_max', '投资流出_min', '投资净额_mean', '投资净额_max',\n",
    "    '投资净额_min','筹资流入_mean', '筹资流入_max', '筹资流入_min','筹资净额_mean', '筹资净额_max', '筹资净额_min']\n",
    "df_cash1_new['企业编号'] =df_cash1_new.index\n",
    "df_cash1_new.fillna(df_cash1_new.mean(),inplace=True)"
   ]
  },
  {
   "cell_type": "code",
   "execution_count": 126,
   "metadata": {},
   "outputs": [],
   "source": [
    "res['现金流量表']=df_cash1_new"
   ]
  },
  {
   "cell_type": "markdown",
   "metadata": {},
   "source": [
    "# 每股指标"
   ]
  },
  {
   "cell_type": "code",
   "execution_count": 127,
   "metadata": {},
   "outputs": [],
   "source": [
    "df_meiguzhibiao_bpk = pd.read_excel(data_path+r'上市公司财务信息-每股指标.xlsx')\n",
    "df_meiguzhibiao = df_meiguzhibiao_bpk.copy()\n",
    "df_meiguzhibiao1=df_meiguzhibiao.drop(['标题','日期','稀释每股收益(元)'],axis=1)\n",
    "D=['基本每股收益(元)','每股净资产(元)','每股公积金(元)','每股未分配利润(元)','每股经营现金流(元)']\n",
    "for arr in D:\n",
    "    df_meiguzhibiao1[arr]=pd.to_numeric(df_meiguzhibiao1[arr],errors='coerce')\n"
   ]
  },
  {
   "cell_type": "code",
   "execution_count": 128,
   "metadata": {},
   "outputs": [],
   "source": [
    "agg_func4 = {\n",
    "     '基本每股收益(元)':  ['mean', 'max', 'min'],\n",
    "    '每股净资产(元)':['mean', 'max', 'min'],\n",
    "     '每股未分配利润(元)': ['mean', 'max', 'min'],\n",
    "    '每股经营现金流(元)':  ['mean', 'max', 'min'],\n",
    "}\n",
    "df_meiguzhibiao1_new= df_meiguzhibiao1.groupby(['企业编号']).agg(agg_func4)\n",
    "df_meiguzhibiao1_new.columns = ['_'.join(col) for col in df_meiguzhibiao1_new.columns.values]\n",
    "df_meiguzhibiao1_new.columns = [\n",
    "'基本每股收益(元)_mean', '基本每股收益(元)_max', '基本每股收益(元)_min','每股净资产(元)_mean', '每股净资产(元)_max', '每股净资产(元)_min', \n",
    "     '每股未分配利润(元)_mean', '每股未分配利润(元)_max', '每股未分配利润(元)_min', '每股经营现金流(元)_mean', '每股经营现金流(元)_max',\n",
    "    '每股经营现金流(元)_min']\n",
    "df_meiguzhibiao1_new['企业编号'] =df_meiguzhibiao1_new.index\n",
    "df_meiguzhibiao1_new.fillna(df_meiguzhibiao1_new.mean(),inplace=True)\n"
   ]
  },
  {
   "cell_type": "code",
   "execution_count": 129,
   "metadata": {},
   "outputs": [],
   "source": [
    "res['每股指标']=df_meiguzhibiao1_new"
   ]
  },
  {
   "cell_type": "markdown",
   "metadata": {},
   "source": [
    "# 成长能力指标"
   ]
  },
  {
   "cell_type": "code",
   "execution_count": 8,
   "metadata": {},
   "outputs": [],
   "source": [
    "df_growth_bpk = pd.read_excel(data_path+r'上市信息财务信息-成长能力指标.xlsx')\n",
    "df_growth= df_growth_bpk.copy()\n",
    "df_growth=df_growth.drop(['标题','日期','扣非净利润(元)','归属净利润同比增长(元)','营业总收入滚动环比增长(元)', '归属净利润滚动环比增长(元)', '扣非净利润滚动环比增长(元)'],axis=1)\n",
    "E = ['营业总收入(元)', '毛利润(元)', '归属净利润(元)']\n",
    "for arr in E:\n",
    "    df_growth.loc[(df_growth[arr].str.contains(\"万亿\") == True), arr] = df_growth.loc[(\n",
    "        df_growth[arr].str.contains(\"万亿\") == True), arr].str.replace('万亿', '').astype(float)*1000000000000\n",
    "    df_growth.loc[(df_growth[arr].str.contains(\"万\") == True), arr] = df_growth.loc[(\n",
    "        df_growth[arr].str.contains(\"万\") == True), arr].str.replace('万', '').astype(float)*10000\n",
    "    df_growth.loc[(df_growth[arr].str.contains(\"亿\") == True), arr] = df_growth.loc[(\n",
    "        df_growth[arr].str.contains(\"亿\") == True), arr].str.replace('亿', '').astype(float)*100000000\n",
    "F = ['营业总收入同比增长(元)', '扣非净利润同比增长(元)']\n",
    "for arr in F:\n",
    "    df_growth[arr] = df_growth[arr].replace('--%', np.nan)\n",
    "for arr in F:\n",
    "    df_growth.loc[(df_growth[arr].str.contains(\"%\") == True), arr] = df_growth.loc[(\n",
    "        df_growth[arr].str.contains(\"%\") == True), arr].str.replace(',', '').str.rstrip('%').astype(float)/100\n",
    "df_growth = df_growth.convert_objects(convert_numeric=True)"
   ]
  },
  {
   "cell_type": "code",
   "execution_count": 9,
   "metadata": {},
   "outputs": [],
   "source": [
    "agg_func5= {\n",
    "     '营业总收入(元)':  ['mean', 'max', 'min'],\n",
    "     '归属净利润(元)':['mean', 'max', 'min'],\n",
    "     '营业总收入同比增长(元)': ['mean', 'max', 'min'],\n",
    "   '扣非净利润同比增长(元)':  ['mean', 'max', 'min'],'毛利润(元)': ['mean', 'max', 'min'],\n",
    "}\n",
    "df_growth_new= df_growth.groupby(['企业编号']).agg(agg_func5)\n",
    "df_growth_new.columns = ['_'.join(col) for col in df_growth_new.columns.values]\n",
    "df_growth_new.columns = [\n",
    "'营业总收入(元)_mean', '营业总收入(元)_max', '营业总收入(元)_min','归属净利润(元)_mean', '归属净利润(元)_max', '归属净利润(元)_min', \n",
    "     '营业总收入同比增长(元)_mean', '营业总收入同比增长(元)_max', '营业总收入同比增长(元)_min', '扣非净利润同比增长(元)_mean', '扣非净利润同比增长(元)_max',\n",
    "    '扣非净利润同比增长(元)_min','毛利润(元)_mean', '毛利润(元)_max', '毛利润(元)_min']\n",
    "df_growth_new['企业编号'] =df_growth_new.index\n",
    "df_growth_new.fillna(df_growth_new.mean(),inplace=True)\n",
    "\n"
   ]
  },
  {
   "cell_type": "code",
   "execution_count": 10,
   "metadata": {},
   "outputs": [],
   "source": [
    "res['成长能力']=df_growth_new"
   ]
  },
  {
   "cell_type": "markdown",
   "metadata": {},
   "source": [
    "# 盈利能力指标"
   ]
  },
  {
   "cell_type": "code",
   "execution_count": 11,
   "metadata": {},
   "outputs": [],
   "source": [
    "df_abilityofprofit_bpk= pd.read_excel(data_path+r'上市信息财务信息盈利能力指标.xlsx')\n",
    "df_abilityofprofit= df_abilityofprofit_bpk.copy()\n",
    "G=['加权净资产收益率(%)','摊薄净资产收益率(%)','摊薄总资产收益率(%)','毛利率(%)','净利率(%)','实际税率(%)']\n",
    "for arr in G:\n",
    "        df_abilityofprofit[arr] = df_abilityofprofit[arr].replace('--%', np.nan)\n",
    "        df_abilityofprofit[arr] =df_abilityofprofit[arr].str.rstrip('%').astype(float)/100\n",
    "df_abilityofprofit.convert_objects(convert_numeric=True)\n",
    "df_abilityofprofit=df_abilityofprofit.drop(['标题','日期'],axis=1)"
   ]
  },
  {
   "cell_type": "code",
   "execution_count": 13,
   "metadata": {},
   "outputs": [],
   "source": [
    "agg_func6= {\n",
    "     '加权净资产收益率(%)':  ['mean', 'max', 'min'],\n",
    "   '毛利率(%)':['mean', 'max', 'min'],'净利率(%)': ['mean', 'max', 'min'],'实际税率(%)': ['mean', 'max', 'min'],\n",
    "    '摊薄总资产收益率(%)': ['mean', 'max', 'min'],\n",
    "}\n",
    "df_abilityofprofit_new= df_abilityofprofit.groupby(['企业编号']).agg(agg_func6)\n",
    "df_abilityofprofit_new.columns = ['_'.join(col) for col in df_abilityofprofit_new.columns.values]\n",
    "df_abilityofprofit_new.columns = [\n",
    "'加权净资产收益率(%)_mean', '加权净资产收益率(%)_max', '加权净资产收益率(%)_min',\n",
    "'毛利率(%)_mean', '毛利率(%)_max', '毛利率(%)_min', '净利率(%)_mean', '净利率(%)_max','净利率(%)_min',\n",
    "    '实际税率(%)_mean', '实际税率(%)_max', '实际税率(%)_min', '摊薄总资产收益率(%)_mean', '摊薄总资产收益率(%)_max', \n",
    "    '摊薄总资产收益率(%)_min']\n",
    "df_abilityofprofit_new['企业编号'] =df_abilityofprofit_new.index\n",
    "df_abilityofprofit_new.fillna(df_abilityofprofit_new.mean(),inplace=True)\n"
   ]
  },
  {
   "cell_type": "code",
   "execution_count": 14,
   "metadata": {},
   "outputs": [],
   "source": [
    "res['盈利能力能力']=df_abilityofprofit_new"
   ]
  },
  {
   "cell_type": "markdown",
   "metadata": {},
   "source": [
    "# 财务风险指标"
   ]
  },
  {
   "cell_type": "code",
   "execution_count": 178,
   "metadata": {},
   "outputs": [],
   "source": [
    "df_risk_bpk= pd.read_excel(data_path+r'上市信息财务信息-财务风险指标.xlsx')\n",
    "df_risk= df_risk_bpk.copy()\n",
    "H=['流动比率','速动比率']\n",
    "for arr in H:\n",
    "      df_risk[arr] = pd.to_numeric(df_risk[arr],errors='coerce')\n",
    "I=['资产负债率(%)','流动负债/总负债(%)']\n",
    "for arr in I:\n",
    "     df_risk[arr] = df_risk[arr].replace('--%', np.nan)\n",
    "df_risk.convert_objects(convert_numeric=True)\n",
    "for arr in I:\n",
    "    df_risk[arr] =df_risk[arr].str.rstrip('%').astype(float)/100\n",
    "df_risk.convert_objects(convert_numeric=True)\n",
    "df_risk=df_risk.drop(['标题','日期','速动比率'],axis=1)\n",
    "df_risk=df_risk[~df_risk['流动比率'].isin([103.22])]\n",
    "df_risk=df_risk[~df_risk['资产负债率(%)'].isin([5.6089])]\n",
    "df_risk=df_risk[~df_risk['资产负债率(%)'].isin([4.5429])]"
   ]
  },
  {
   "cell_type": "code",
   "execution_count": 161,
   "metadata": {},
   "outputs": [],
   "source": [
    "agg_func7= {\n",
    "     '资产负债率(%)':  ['mean', 'max', 'min'],\n",
    "     '流动负债/总负债(%)':['mean', 'max', 'min'],\n",
    "     '流动比率': ['mean', 'max', 'min'],\n",
    "}\n",
    "df_risk_new= df_risk.groupby(['企业编号']).agg(agg_func7)\n",
    "df_risk_new.columns = ['_'.join(col) for col in df_risk_new.columns.values]\n",
    "df_risk_new.columns = [\n",
    "'资产负债率_mean', '资产负债率_max', '资产负债率_min','流动负债/总负债_mean', '流动负债/总负债_max', '流动负债/总负债_min', \n",
    " '流动比率_mean', '流动比率_max', '流动比率_min']\n",
    "df_risk_new['企业编号'] =df_risk_new.index\n",
    "df_risk_new.fillna(df_risk_new.mean(),inplace=True)\n"
   ]
  },
  {
   "cell_type": "code",
   "execution_count": 162,
   "metadata": {},
   "outputs": [],
   "source": [
    "res['财务风险能力']=df_risk_new"
   ]
  },
  {
   "cell_type": "markdown",
   "metadata": {},
   "source": [
    "# 运营能力指标"
   ]
  },
  {
   "cell_type": "code",
   "execution_count": 9,
   "metadata": {},
   "outputs": [],
   "source": [
    "df_operation_bpk= pd.read_excel(data_path+r'上市信息财务信息运营能力指标.xlsx')\n",
    "df_operation= df_operation_bpk.copy()\n",
    "J=['应收账款周转天数(天)','存货周转天数(天)']\n",
    "for arr in J:\n",
    "    df_operation[arr]=pd.to_numeric(df_operation[arr],errors='coerce')\n",
    "df_operation=df_operation.drop(['标题','日期'],axis=1)\n",
    "df_operation=df_operation[~df_operation['应收账款周转天数(天)'].isin([47789.4])]\n",
    "df_operation=df_operation[~df_operation['应收账款周转天数(天)'].isin([176659.70])]\n"
   ]
  },
  {
   "cell_type": "code",
   "execution_count": 10,
   "metadata": {},
   "outputs": [],
   "source": [
    "agg_func8= {\n",
    "     '总资产周转率(次)':  ['mean', 'max', 'min'],\n",
    "     '应收账款周转天数(天)':['mean', 'max', 'min'],\n",
    "     '存货周转天数(天)': ['mean', 'max', 'min'],\n",
    "}\n",
    "df_operation_new= df_operation.groupby(['企业编号']).agg(agg_func8)\n",
    "df_operation_new.columns = ['_'.join(col) for col in df_operation_new.columns.values]\n",
    "df_operation_new.columns = [\n",
    "'总资产周转率(次)_mean', '总资产周转率(次)_max', '总资产周转率(次)_min','应收账款周转天数(天)_mean', '应收账款周转天数(天)_max', '应收账款周转天数(天)_min', \n",
    " '存货周转天数(天)_mean', '存货周转天数(天)_max', '存货周转天数(天)_min']\n",
    "df_operation_new['企业编号'] =df_operation_new.index\n",
    "df_operation_new.fillna(df_operation_new.mean(),inplace=True)\n",
    "\n"
   ]
  },
  {
   "cell_type": "code",
   "execution_count": 11,
   "metadata": {},
   "outputs": [],
   "source": [
    "res['运营能力指标']=df_operation_new"
   ]
  },
  {
   "cell_type": "code",
   "execution_count": null,
   "metadata": {},
   "outputs": [],
   "source": []
  }
 ],
 "metadata": {
  "kernelspec": {
   "display_name": "Python 3",
   "language": "python",
   "name": "python3"
  },
  "language_info": {
   "codemirror_mode": {
    "name": "ipython",
    "version": 3
   },
   "file_extension": ".py",
   "mimetype": "text/x-python",
   "name": "python",
   "nbconvert_exporter": "python",
   "pygments_lexer": "ipython3",
   "version": "3.6.2"
  },
  "toc": {
   "base_numbering": 1,
   "nav_menu": {},
   "number_sections": true,
   "sideBar": true,
   "skip_h1_title": false,
   "title_cell": "Table of Contents",
   "title_sidebar": "Contents",
   "toc_cell": false,
   "toc_position": {},
   "toc_section_display": true,
   "toc_window_display": false
  },
  "varInspector": {
   "cols": {
    "lenName": 16,
    "lenType": 16,
    "lenVar": 40
   },
   "kernels_config": {
    "python": {
     "delete_cmd_postfix": "",
     "delete_cmd_prefix": "del ",
     "library": "var_list.py",
     "varRefreshCmd": "print(var_dic_list())"
    },
    "r": {
     "delete_cmd_postfix": ") ",
     "delete_cmd_prefix": "rm(",
     "library": "var_list.r",
     "varRefreshCmd": "cat(var_dic_list()) "
    }
   },
   "types_to_exclude": [
    "module",
    "function",
    "builtin_function_or_method",
    "instance",
    "_Feature"
   ],
   "window_display": false
  }
 },
 "nbformat": 4,
 "nbformat_minor": 2
}
