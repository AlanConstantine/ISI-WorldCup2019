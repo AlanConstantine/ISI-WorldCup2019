{
 "cells": [
  {
   "cell_type": "code",
   "execution_count": 3,
   "metadata": {
    "ExecuteTime": {
     "end_time": "2019-04-12T10:38:16.574164Z",
     "start_time": "2019-04-12T10:38:16.560935Z"
    }
   },
   "outputs": [
    {
     "data": {
      "text/plain": [
       "Timestamp('2019-04-12 00:00:00')"
      ]
     },
     "execution_count": 3,
     "metadata": {},
     "output_type": "execute_result"
    }
   ],
   "source": [
    "from IPython.display import display\n",
    "import matplotlib.pyplot as plt\n",
    "import pandas as pd\n",
    "import numpy as np\n",
    "import seaborn as sns\n",
    "import matplotlib as mpl\n",
    "import warnings\n",
    "import time\n",
    "from collections import Counter\n",
    "warnings.filterwarnings(\"ignore\")\n",
    "\n",
    "\n",
    "plt.style.use(\"fivethirtyeight\")\n",
    "\n",
    "sns.set_style({'font.sans-serif': ['simsun', 'Arial']})\n",
    "sns.set_style('darkgrid', {'font.sans-serif': ['simhei', 'Arial']})\n",
    "%matplotlib inline\n",
    "current_date = pd.to_datetime(\n",
    "    time.strftime('%Y-%m-%d', time.localtime(time.time())))\n",
    "\n",
    "res = {}\n",
    "# data_path = r'../../.././Documents/赛题1数据集/'\n",
    "data_path = r'../../Data/CompInfo/'\n",
    "current_date"
   ]
  },
  {
   "cell_type": "markdown",
   "metadata": {},
   "source": [
    "# 企业评分"
   ]
  },
  {
   "cell_type": "code",
   "execution_count": 4,
   "metadata": {
    "ExecuteTime": {
     "end_time": "2019-04-12T10:38:16.686602Z",
     "start_time": "2019-04-12T10:38:16.576442Z"
    }
   },
   "outputs": [],
   "source": [
    "df_rating_copy = pd.read_excel(data_path+r'企业评分.xlsx')\n",
    "df_rating = df_rating_copy.copy()\n",
    "df_rating = df_rating.drop_duplicates()\n",
    "res['企业得分'] = df_rating\n",
    "df_base = pd.DataFrame({'企业编号': df_rating['企业编号']})"
   ]
  },
  {
   "cell_type": "markdown",
   "metadata": {},
   "source": [
    "# 资产负债表"
   ]
  },
  {
   "cell_type": "code",
   "execution_count": 5,
   "metadata": {
    "ExecuteTime": {
     "end_time": "2019-04-12T10:38:21.691506Z",
     "start_time": "2019-04-12T10:38:16.688910Z"
    }
   },
   "outputs": [],
   "source": [
    "df_asset_bpk = pd.read_excel(data_path+r'上市信息财务信息资产负债表.xlsx')\n",
    "df_asset = df_asset_bpk.copy()"
   ]
  },
  {
   "cell_type": "code",
   "execution_count": 6,
   "metadata": {
    "ExecuteTime": {
     "end_time": "2019-04-12T10:38:21.716928Z",
     "start_time": "2019-04-12T10:38:21.693451Z"
    }
   },
   "outputs": [],
   "source": [
    "A = ['资产:货币资金(元)', '资产:长期股权投资(元)', '资产:固定资产(元)', '资产:无形资产(元)', '负债:长期负债合计(元)', '权益:实收资本(或股本)(元)',\n",
    "     '资产:流动资产合计(元)', '资产:资产总计(元)', '负债:流动负债合计(元)', '负债:负债合计(元)', '权益:股东权益合计(元)']\n",
    "df_asset = df_asset[~df_asset['权益:股东权益合计(元)'].isin(['正无穷大万亿'])]\n",
    "df_asset1 = pd.DataFrame({'企业编号': df_asset['企业编号'], '资产:货币资金(元)': df_asset['资产:货币资金(元)'], '资产:长期股权投资(元)': df_asset['资产:长期股权投资(元)'],\n",
    "                          '资产:固定资产(元)': df_asset['资产:固定资产(元)'], '资产:无形资产(元)': df_asset['资产:无形资产(元)'], '负债:长期负债合计(元)': df_asset['负债:长期负债合计(元)'],\n",
    "                          '权益:实收资本(或股本)(元)': df_asset['权益:实收资本(或股本)(元)'], '资产:流动资产合计(元)': df_asset['资产:流动资产合计(元)'],\n",
    "                          '资产:资产总计(元)': df_asset['资产:资产总计(元)'], '负债:流动负债合计(元)': df_asset['负债:流动负债合计(元)'], '负债:负债合计(元)': df_asset['负债:负债合计(元)'],\n",
    "                          '权益:股东权益合计(元)': df_asset['权益:股东权益合计(元)'],\n",
    "                          })"
   ]
  },
  {
   "cell_type": "code",
   "execution_count": 7,
   "metadata": {
    "ExecuteTime": {
     "end_time": "2019-04-12T10:38:22.645188Z",
     "start_time": "2019-04-12T10:38:21.719517Z"
    }
   },
   "outputs": [],
   "source": [
    "# for arr in A:\n",
    "#     chinese = set(df_asset1[arr].str.extract(\n",
    "#         \"([^0-9\\.\\-]+)\", expand=False).dropna())\n",
    "#     print(arr, chinese)\n",
    "for arr in A:\n",
    "    df_asset1.loc[(df_asset1[arr].str.contains(\"万\") == True), arr] = df_asset1.loc[(\n",
    "        df_asset1[arr].str.contains(\"万\") == True), arr].str.replace('万', '').astype(float)*0.0001\n",
    "    df_asset1.loc[(df_asset1[arr].str.contains(\"亿\") == True), arr] = df_asset1.loc[(\n",
    "        df_asset1[arr].str.contains(\"亿\") == True), arr].str.replace('亿', '').astype(float)*1\n",
    "for arr in A:\n",
    "    df_asset1[arr] = pd.to_numeric(df_asset1[arr], errors='coerce')"
   ]
  },
  {
   "cell_type": "code",
   "execution_count": 8,
   "metadata": {
    "ExecuteTime": {
     "end_time": "2019-04-12T10:38:22.784917Z",
     "start_time": "2019-04-12T10:38:22.647422Z"
    }
   },
   "outputs": [],
   "source": [
    "df_asset1.loc[(df_asset1['资产:货币资金(元)'] > 1718) == True, '资产:货币资金(元)'] = 1718\n",
    "df_asset1.loc[(df_asset1['资产:长期股权投资(元)'] > 5700)\n",
    "              == True, '资产:长期股权投资(元)'] = 5700\n",
    "df_asset1.loc[(df_asset1['资产:固定资产(元)'] > 6900) == True, '资产:固定资产(元)'] = 6900\n",
    "df_asset1.loc[(df_asset1['资产:无形资产(元)'] > 1800) == True, '资产:无形资产(元)'] = 1800\n",
    "df_asset1.loc[(df_asset1['负债:长期负债合计(元)'] > 3994)\n",
    "              == True, '负债:长期负债合计(元)'] = 3994\n",
    "df_asset1.loc[(df_asset1['权益:实收资本(或股本)(元)'] > 3564)\n",
    "              == True, '权益:实收资本(或股本)(元)'] = 3564\n",
    "df_asset1.loc[(df_asset1['资产:流动资产合计(元)'] > 13264)\n",
    "              == True, '资产:流动资产合计(元)'] = 13264\n",
    "df_asset1.loc[(df_asset1['资产:资产总计(元)'] > 38981) == True, '资产:资产总计(元)'] = 38981\n",
    "df_asset1.loc[(df_asset1['负债:流动负债合计(元)'] > 10441)\n",
    "              == True, '负债:流动负债合计(元)'] = 10441\n",
    "df_asset1.loc[(df_asset1['负债:负债合计(元)'] > 259172)\n",
    "              == True, '负债:负债合计(元)'] = 259172\n",
    "df_asset1.loc[(df_asset1['权益:股东权益合计(元)'] > 22808)\n",
    "              == True, '权益:股东权益合计(元)'] = 22808\n",
    "for arr in A:\n",
    "    df_asset1[arr+\"滚动增长率\"] = df_asset1.groupby([\"企业编号\"])[arr].pct_change()"
   ]
  },
  {
   "cell_type": "code",
   "execution_count": 9,
   "metadata": {
    "ExecuteTime": {
     "end_time": "2019-04-12T10:38:22.917638Z",
     "start_time": "2019-04-12T10:38:22.787081Z"
    }
   },
   "outputs": [],
   "source": [
    "agg_func1 = {'资产:流动资产合计(元)': ['mean', 'max', 'min', 'std'], '资产:流动资产合计(元)滚动增长率': ['mean'],\n",
    "             '资产:资产总计(元)': ['mean', 'max', 'min', 'std'], '资产:资产总计(元)滚动增长率': ['mean'],\n",
    "             '负债:流动负债合计(元)': ['mean', 'max', 'min', 'std'], '负债:流动负债合计(元)滚动增长率': ['mean'],\n",
    "             '负债:负债合计(元)': ['mean', 'max', 'min', 'std'], '负债:负债合计(元)滚动增长率': ['mean'],\n",
    "             '权益:股东权益合计(元)': ['mean', 'max', 'min', 'std'], '权益:股东权益合计(元)滚动增长率': ['mean'],\n",
    "             '资产:货币资金(元)': ['mean', 'max', 'min', 'std'], '资产:货币资金(元)滚动增长率': ['mean'],\n",
    "             '资产:长期股权投资(元)': ['mean', 'max', 'min', 'std'], '资产:长期股权投资(元)滚动增长率': ['mean'],\n",
    "             '资产:固定资产(元)': ['mean', 'max', 'min', 'std'], '资产:固定资产(元)滚动增长率': ['mean'],\n",
    "             '资产:无形资产(元)': ['mean', 'max', 'min', 'std'], '资产:无形资产(元)滚动增长率': ['mean'],\n",
    "             '权益:实收资本(或股本)(元)': ['mean', 'max', 'min', 'std'], '权益:实收资本(或股本)(元)滚动增长率': ['mean'], }\n",
    "df_asset1_new = df_asset1.groupby(['企业编号']).agg(agg_func1)\n",
    "df_asset1_new.columns = ['_'.join(col) for col in df_asset1_new.columns.values]\n",
    "df_asset1_new.columns = [\n",
    "    '资产:流动资产合计(元)_mean', '资产:流动资产合计(元)_max', '资产:流动资产合计(元)_min', '资产:流动资产合计(元)_std', '资产:流动资产合计(元)滚动增长_mean',\n",
    "    '资产:资产总计(元)_mean', '资产:资产总计(元)_max', '资产:资产总计(元)_min', '资产:资产总计(元)_std', '资产:资产总计(元)滚动增长_mean',\n",
    "    '负债:流动负债合计(元)_mean', '负债:流动负债合计(元)_max', '负债:流动负债合计(元)_min', '负债:流动负债合计(元)_std', '负债:流动负债合计(元)滚动增长_mean',\n",
    "    '负债:负债合计(元)_mean', '负债:负债合计(元)_max', '负债:负债合计(元)_min', '负债:负债合计(元)_std', '负债:负债合计(元)滚动增长_mean',\n",
    "    '权益:股东权益合计(元)_mean', '权益:股东权益合计(元)_max', '权益:股东权益合计(元)_min', '权益:股东权益合计(元)_std', '权益:股东权益合计(元)滚动增长_mean',\n",
    "    '资产:货币资金(元)_mean', '资产:货币资金(元)_max', '资产:货币资金(元)_min', '资产:货币资金(元)_std', '资产:货币资金(元)滚动增长_mean',\n",
    "    '资产:长期股权投资(元)_mean', '资产:长期股权投资(元)_max', '资产:长期股权投资(元)_min', '资产:长期股权投资(元)_std', '资产:长期股权投资(元)滚动增长_mean',\n",
    "    '资产:固定资产(元)_mean', '资产:固定资产(元)_max', '资产:固定资产(元)_min', '资产:固定资产(元)_std', '资产:固定资产(元)滚动增长_mean',\n",
    "    '资产:无形资产(元)_mean', '资产:无形资产(元)_max', '资产:无形资产(元)_min', '资产:无形资产(元)_std', '资产:无形资产(元)滚动增长_mean',\n",
    "    '权益:实收资本(或股本)(元)_mean', '权益:实收资本(或股本)(元)_max', '权益:实收资本(或股本)(元)_min', '权益:实收资本(或股本)(元)__std', '权益:实收资本(或股本)(元)滚动增长_mean', ]\n",
    "df_asset1_new.loc[(df_asset1_new['资产:长期股权投资(元)滚动增长_mean'] ==\n",
    "                   np.inf) == True, '资产:长期股权投资(元)滚动增长_mean'] = np.nan\n",
    "df_asset1_new.loc[(df_asset1_new['资产:长期股权投资(元)滚动增长_mean'] == \n",
    "                   -np.inf) ==True,'资产:长期股权投资(元)滚动增长_mean'] = np.nan\n",
    "df_asset1_new.loc[(df_asset1_new['权益:实收资本(或股本)(元)滚动增长_mean']\n",
    "                   == np.inf) == True, '权益:实收资本(或股本)(元)滚动增长_mean'] = np.nan\n",
    "df_asset1_new.loc[(df_asset1_new['权益:实收资本(或股本)(元)滚动增长_mean'] ==  \n",
    "                   -np.inf) ==True,'权益:实收资本(或股本)(元)滚动增长_mean'] = np.nan\n",
    "df_asset1_new.fillna(df_asset1_new.mean(), inplace=True)"
   ]
  },
  {
   "cell_type": "code",
   "execution_count": 10,
   "metadata": {
    "ExecuteTime": {
     "end_time": "2019-04-12T10:38:22.926323Z",
     "start_time": "2019-04-12T10:38:22.920220Z"
    }
   },
   "outputs": [],
   "source": [
    "df_asset1_new_merge = df_base.merge(\n",
    "    df_asset1_new, how='left', right_index=True, left_on=\"企业编号\")\n",
    "# df_asset1_new_merge.max()\n",
    "# df_asset1_new_merge.min()"
   ]
  },
  {
   "cell_type": "code",
   "execution_count": 11,
   "metadata": {
    "ExecuteTime": {
     "end_time": "2019-04-12T10:38:22.931186Z",
     "start_time": "2019-04-12T10:38:22.928576Z"
    }
   },
   "outputs": [],
   "source": [
    "res['资产负债表'] = df_asset1_new_merge"
   ]
  },
  {
   "cell_type": "markdown",
   "metadata": {},
   "source": [
    "# 利润表"
   ]
  },
  {
   "cell_type": "code",
   "execution_count": 12,
   "metadata": {
    "ExecuteTime": {
     "end_time": "2019-04-12T10:38:26.904580Z",
     "start_time": "2019-04-12T10:38:22.933310Z"
    }
   },
   "outputs": [],
   "source": [
    "df_profit_bpk = pd.read_excel(data_path+r'上市信息财务信息-利润表.xlsx')\n",
    "df_profit = df_profit_bpk.copy()\n",
    "B = ['营业成本(元)', '销售费用(元)', '财务费用(元)', '管理费用(元)', '投资收益(元)',\n",
    "     '营业利润(元)', '利润总额(元)', '归属母公司所有者净利润(元)']\n",
    "# for arr in B:\n",
    "#     chinese = set(df_profit[arr].str.extract(\n",
    "#         \"([^0-9\\.\\-]+)\", expand=False).dropna())\n",
    "#     print(arr, chinese)\n",
    "for arr in B:\n",
    "    df_profit.loc[(df_profit[arr].str.contains(\"万\") == True), arr] = df_profit.loc[(\n",
    "        df_profit[arr].str.contains(\"万\") == True), arr].str.replace('万', '').astype(float)*10000\n",
    "    df_profit.loc[(df_profit[arr].str.contains(\"亿\") == True), arr] = df_profit.loc[(\n",
    "        df_profit[arr].str.contains(\"亿\") == True), arr].str.replace('亿', '').astype(float)*100000000\n",
    "    df_profit[arr] = pd.to_numeric(df_profit[arr], errors='coerce')\n",
    "df_profit1 = df_profit.drop(\n",
    "    ['标题', '日期', '营业收入(元)', '资产减值损失(元)', '资产减值损失(元)', '所得税(元)'], axis=1)\n",
    "for arr in B:\n",
    "    df_profit1[arr+\"滚动增长率\"] = df_profit1.groupby([\"企业编号\"])[arr].pct_change()"
   ]
  },
  {
   "cell_type": "code",
   "execution_count": 13,
   "metadata": {
    "ExecuteTime": {
     "end_time": "2019-04-12T10:38:26.995984Z",
     "start_time": "2019-04-12T10:38:26.906618Z"
    }
   },
   "outputs": [],
   "source": [
    "agg_func2 = {\n",
    "    '营业成本(元)':  ['mean', 'max', 'min', 'std'], '营业成本(元)滚动增长率':  ['mean'],\n",
    "    '营业利润(元)': ['mean', 'max', 'min', 'std'], '营业利润(元)滚动增长率':  ['mean'],\n",
    "    '利润总额(元)': ['mean', 'max', 'min', 'std'], '利润总额(元)滚动增长率':  ['mean'],\n",
    "    '销售费用(元)': ['mean', 'max', 'min', 'std'], '销售费用(元)滚动增长率':  ['mean'],\n",
    "    '财务费用(元)':  ['mean', 'max', 'min', 'std'], '财务费用(元)滚动增长率':  ['mean'],\n",
    "    '管理费用(元)': ['mean', 'max', 'min', 'std'], '管理费用(元)滚动增长率':  ['mean'],\n",
    "    '投资收益(元)': ['mean', 'max', 'min', 'std'], '投资收益(元)滚动增长率':  ['mean'],\n",
    "}\n",
    "df_profit1_new = df_profit1.groupby(['企业编号']).agg(agg_func2)\n",
    "df_profit1_new.columns = ['_'.join(col)\n",
    "                          for col in df_profit1_new.columns.values]\n",
    "df_profit1_new.columns = [\n",
    "    '营业成本(元)_mean', '营业成本(元)_max', '营业成本(元)_min', '营业成本(元)_std', '营业成本(元)滚动增长_mean',\n",
    "    '营业利润(元)_mean', '营业利润(元)_max', '营业利润(元)_min', '营业利润(元)_std', '营业利润(元)滚动增长_mean',\n",
    "    '利润总额(元)_mean', '利润总额(元)_max', '利润总额(元)_min', '利润总额(元)_std', '利润总额(元)滚动增长_mean',\n",
    "    '销售费用(元)_mean', '销售费用(元)_max', '销售费用(元)_min', '销售费用(元)_std', '销售费用(元)滚动增长_mean',\n",
    "    '财务费用(元)_mean', '财务费用(元)_max', '财务费用(元)_min', '财务费用(元)_std', '财务费用(元)滚动增长_mean',\n",
    "    '管理费用(元)_mean', '管理费用(元)_max', '管理费用(元)_min', '管理费用(元)_std', '管理费用(元)滚动增长_mean',\n",
    "    '投资收益(元)_mean', '投资收益(元)_max', '投资收益(元)_min', '投资收益(元)_std', '投资收益(元)滚动增长_mean']\n",
    "df_profit1_new.loc[(df_profit1_new['投资收益(元)滚动增长_mean'] ==\n",
    "                    np.inf) == True, '投资收益(元)滚动增长_mean'] = np.nan\n",
    "df_profit1_new.loc[(df_profit1_new['投资收益(元)滚动增长_mean'] == \n",
    "                    -np.inf) ==True,'投资收益(元)滚动增长_mean'] = np.nan\n",
    "df_profit1_new.loc[(df_profit1_new['管理费用(元)滚动增长_mean'] ==\n",
    "                    np.inf) == True, '管理费用(元)滚动增长_mean'] = np.nan\n",
    "df_profit1_new.loc[(df_profit1_new['营业成本(元)滚动增长_mean'] ==\n",
    "                    np.inf) == True, '营业成本(元)滚动增长_mean'] = np.nan\n",
    "df_profit1_new.loc[(df_profit1_new['销售费用(元)滚动增长_mean'] == \n",
    "                    np.inf) ==True,'销售费用(元)滚动增长_mean'] = np.nan\n",
    "df_profit1_new.fillna(df_profit1_new.mean(), inplace=True)\n"
   ]
  },
  {
   "cell_type": "code",
   "execution_count": 14,
   "metadata": {
    "ExecuteTime": {
     "end_time": "2019-04-12T10:38:27.003020Z",
     "start_time": "2019-04-12T10:38:26.997799Z"
    }
   },
   "outputs": [],
   "source": [
    "df_profit1_new_merge = df_base.merge(\n",
    "    df_profit1_new, how='left', right_index=True, left_on=\"企业编号\")\n",
    "# df_profit1_new_merge.max()\n",
    "# df_profit1_new_merge.min()"
   ]
  },
  {
   "cell_type": "code",
   "execution_count": 15,
   "metadata": {
    "ExecuteTime": {
     "end_time": "2019-04-12T10:38:27.007907Z",
     "start_time": "2019-04-12T10:38:27.005055Z"
    }
   },
   "outputs": [],
   "source": [
    "res['利润表'] = df_profit1_new_merge"
   ]
  },
  {
   "cell_type": "markdown",
   "metadata": {},
   "source": [
    "# 现金流量表"
   ]
  },
  {
   "cell_type": "code",
   "execution_count": 16,
   "metadata": {
    "ExecuteTime": {
     "end_time": "2019-04-12T10:38:32.762786Z",
     "start_time": "2019-04-12T10:38:27.010093Z"
    }
   },
   "outputs": [],
   "source": [
    "df_cash_bpk = pd.read_excel(data_path+r'上市信息财务信息-现金流量表.xlsx')\n",
    "df_cash = df_cash_bpk.copy()"
   ]
  },
  {
   "cell_type": "code",
   "execution_count": 17,
   "metadata": {
    "ExecuteTime": {
     "end_time": "2019-04-12T10:38:33.331830Z",
     "start_time": "2019-04-12T10:38:32.765426Z"
    }
   },
   "outputs": [],
   "source": [
    "df_cash1 = pd.DataFrame({'企业编号': df_cash['企业编号'], '经营流入': df_cash['经营:经营活动现金流入小计(元)'],\n",
    "                         '经营净额': df_cash['经营:经营活动产生的现金流量净额(元)'], '投资流出': df_cash['投资:投资活动现金流出小计(元)'], '投资净额': df_cash['投资:投资活动产生的现金流量净额(元)'],\n",
    "                         '筹资流入': df_cash['筹资:筹资活动现金流入小计(元)'], '筹资净额': df_cash['筹资活动产生的现金流量净额(元)'], })\n",
    "C = ['经营流入', '经营净额', '投资流出', '投资净额', '筹资流入', '筹资净额']\n",
    "# for arr in C:\n",
    "#     chinese = set(df_cash1[arr].str.extract(\n",
    "#         \"([^0-9\\.\\-]+)\", expand=False).dropna())\n",
    "#     print(arr, chinese)\n",
    "for arr in C:\n",
    "    df_cash1.loc[(df_cash1[arr].str.contains(\"万\") == True), arr] = df_cash1.loc[(\n",
    "        df_cash1[arr].str.contains(\"万\") == True), arr].str.replace('万', '').astype(float)*0.0001\n",
    "    df_cash1.loc[(df_cash1[arr].str.contains(\"亿\") == True), arr] = df_cash1.loc[(\n",
    "        df_cash1[arr].str.contains(\"亿\") == True), arr].str.replace('亿', '').astype(float)*1\n",
    "    df_cash1[arr] = pd.to_numeric(df_cash1[arr], errors='coerce')\n",
    "    df_cash1[arr+\"滚动增长率\"] = df_cash1.groupby([\"企业编号\"])[arr].pct_change()"
   ]
  },
  {
   "cell_type": "code",
   "execution_count": 18,
   "metadata": {
    "ExecuteTime": {
     "end_time": "2019-04-12T10:38:33.422797Z",
     "start_time": "2019-04-12T10:38:33.333998Z"
    }
   },
   "outputs": [],
   "source": [
    "agg_func3 = {\n",
    "    '经营流入':  ['mean', 'max', 'min', 'std'], '经营流入滚动增长率':  ['mean'],\n",
    "    '经营净额': ['mean', 'max', 'min', 'std'], '经营净额滚动增长率':  ['mean'],\n",
    "    '投资流出': ['mean', 'max', 'min', 'std'], '投资流出滚动增长率':  ['mean'],\n",
    "    '投资净额': ['mean', 'max', 'min', 'std'], '投资净额滚动增长率':  ['mean'],\n",
    "    '筹资流入': ['mean', 'max', 'min', 'std'], '筹资流入滚动增长率':  ['mean'],\n",
    "    '筹资净额':  ['mean', 'max', 'min', 'std'], '筹资净额滚动增长率':  ['mean'],\n",
    "}\n",
    "df_cash1_new = df_cash1.groupby(['企业编号']).agg(agg_func3)\n",
    "df_cash1_new.columns = ['_'.join(col) for col in df_cash1_new.columns.values]\n",
    "df_cash1_new.columns = [\n",
    "    '经营流入_mean', '经营流入_max', '经营流入_min', '经营流入_std', '经营流入滚动增长_mean',\n",
    "    '经营净额_mean', '经营净额_max', '经营净额_min', '经营净额_std', '经营净额滚动增长_mean',\n",
    "    '投资流出_mean', '投资流出_max', '投资流出_min', '投资流出_std', '投资流出滚动增长_mean',\n",
    "    '投资净额_mean', '投资净额_max', '投资净额_min', '投资净额_std', '投资净额滚动增长_mean',\n",
    "    '筹资流入_mean', '筹资流入_max', '筹资流入_min', '筹资流入_std', '筹资流入滚动增长_mean',\n",
    "    '筹资净额_mean', '筹资净额_max', '筹资净额_min', '筹资净额_std', '筹资净额滚动增长_mean', ]\n",
    "df_cash1_new.loc[(df_cash1_new['筹资流入滚动增长_mean'] == np.inf)\n",
    "                 == True, '筹资流入滚动增长_mean'] = np.nan\n",
    "df_cash1_new.loc[(df_cash1_new['筹资流入滚动增长_mean'] == -np.inf) \n",
    "                 ==True,'筹资流入滚动增长_mean'] = np.nan\n",
    "df_cash1_new.loc[(df_cash1_new['筹资净额滚动增长_mean'] == np.inf)\n",
    "                 == True, '筹资净额滚动增长_mean'] = np.nan\n",
    "df_cash1_new.loc[(df_cash1_new['筹资净额滚动增长_mean'] == -np.inf) \n",
    "                 ==True,'筹资净额滚动增长_mean'] = np.nan\n",
    "df_cash1_new.loc[(df_cash1_new['投资流出滚动增长_mean'] == np.inf)\n",
    "                 == True, '投资流出滚动增长_mean'] = np.nan\n",
    "df_cash1_new.loc[(df_cash1_new['投资净额滚动增长_mean'] == -np.inf) \n",
    "                 ==True,'投资净额滚动增长_mean'] = np.nan\n",
    "df_cash1_new.fillna(df_cash1_new.mean(), inplace=True)"
   ]
  },
  {
   "cell_type": "code",
   "execution_count": 19,
   "metadata": {
    "ExecuteTime": {
     "end_time": "2019-04-12T10:38:33.430385Z",
     "start_time": "2019-04-12T10:38:33.425072Z"
    }
   },
   "outputs": [],
   "source": [
    "df_cash1_new_merge = df_base.merge(\n",
    "    df_cash1_new, how='left', right_index=True, left_on=\"企业编号\")\n",
    "# df_cash1_new_merge.max()\n",
    "# df_cash1_new_merge.min()"
   ]
  },
  {
   "cell_type": "code",
   "execution_count": 20,
   "metadata": {
    "ExecuteTime": {
     "end_time": "2019-04-12T10:38:33.435051Z",
     "start_time": "2019-04-12T10:38:33.432440Z"
    }
   },
   "outputs": [],
   "source": [
    "res['现金流量表'] = df_cash1_new_merge"
   ]
  },
  {
   "cell_type": "markdown",
   "metadata": {},
   "source": [
    "# 每股指标"
   ]
  },
  {
   "cell_type": "code",
   "execution_count": 21,
   "metadata": {
    "ExecuteTime": {
     "end_time": "2019-04-12T10:38:36.230285Z",
     "start_time": "2019-04-12T10:38:33.437424Z"
    }
   },
   "outputs": [],
   "source": [
    "df_meiguzhibiao_bpk = pd.read_excel(data_path+r'上市公司财务信息-每股指标.xlsx')\n",
    "df_meiguzhibiao = df_meiguzhibiao_bpk.copy()\n",
    "df_meiguzhibiao1 = df_meiguzhibiao.drop(['标题', '日期', '稀释每股收益(元)'], axis=1)\n",
    "D = ['基本每股收益(元)', '每股净资产(元)', '每股公积金(元)', '每股未分配利润(元)', '每股经营现金流(元)']\n",
    "for arr in D:\n",
    "    df_meiguzhibiao1[arr] = pd.to_numeric(\n",
    "        df_meiguzhibiao1[arr], errors='coerce')\n",
    "    df_meiguzhibiao1[arr +\n",
    "                     \"滚动增长率\"] = df_meiguzhibiao1.groupby([\"企业编号\"])[arr].pct_change()"
   ]
  },
  {
   "cell_type": "code",
   "execution_count": 22,
   "metadata": {
    "ExecuteTime": {
     "end_time": "2019-04-12T10:38:36.312242Z",
     "start_time": "2019-04-12T10:38:36.232281Z"
    }
   },
   "outputs": [],
   "source": [
    "agg_func4 = {\n",
    "    '基本每股收益(元)':  ['mean', 'max', 'min', 'std'], '基本每股收益(元)滚动增长率':  ['mean'],\n",
    "    '每股净资产(元)': ['mean', 'max', 'min', 'std'], '每股净资产(元)滚动增长率':  ['mean'],\n",
    "    '每股未分配利润(元)': ['mean', 'max', 'min', 'std'], '每股未分配利润(元)滚动增长率':  ['mean'],\n",
    "    '每股经营现金流(元)':  ['mean', 'max', 'min', 'std'], '每股经营现金流(元)滚动增长率':  ['mean'],\n",
    "    '每股公积金(元)':  ['mean', 'max', 'min', 'std'],\n",
    "}\n",
    "df_meiguzhibiao1_new = df_meiguzhibiao1.groupby(['企业编号']).agg(agg_func4)\n",
    "df_meiguzhibiao1_new.columns = [\n",
    "    '_'.join(col) for col in df_meiguzhibiao1_new.columns.values]\n",
    "df_meiguzhibiao1_new.columns = [\n",
    "    '基本每股收益(元)_mean', '基本每股收益(元)_max', '基本每股收益(元)_min', '基本每股收益(元)_std', '基本每股收益(元)滚动增长_mean',\n",
    "    '每股净资产(元)_mean', '每股净资产(元)_max', '每股净资产(元)_min', '每股净资产(元)_std', '每股净资产(元)滚动增长_mean',\n",
    "    '每股未分配利润(元)_mean', '每股未分配利润(元)_max', '每股未分配利润(元)_min', '每股未分配利润(元)_std', '每股未分配利润(元)滚动增长_mean',\n",
    "    '每股经营现金流(元)_mean', '每股经营现金流(元)_max', '每股经营现金流(元)_min', '每股经营现金流(元)_std', '每股经营现金流(元)滚动增长_mean', '每股公积金(元)_mean', '每股公积金(元)_max', '每股公积金(元)_min', '每股公积金(元)_std']\n",
    "df_meiguzhibiao1_new.loc[(df_meiguzhibiao1_new['基本每股收益(元)滚动增长_mean']\n",
    "                          == np.inf) == True, '基本每股收益(元)滚动增长_mean'] = np.nan\n",
    "df_meiguzhibiao1_new.loc[(df_meiguzhibiao1_new['每股经营现金流(元)滚动增长_mean']\n",
    "                          == np.inf) == True, '每股经营现金流(元)滚动增长_mean'] = np.nan\n",
    "df_meiguzhibiao1_new.loc[(df_meiguzhibiao1_new['基本每股收益(元)滚动增长_mean'] \n",
    "                          == -np.inf) ==True,'基本每股收益(元)滚动增长_mean'] = np.nan\n",
    "df_meiguzhibiao1_new.loc[(df_meiguzhibiao1_new['每股经营现金流(元)滚动增长_mean'] \n",
    "                          == -np.inf) ==True,'每股经营现金流(元)滚动增长_mean'] = np.nan\n",
    "df_meiguzhibiao1_new.fillna(df_meiguzhibiao1_new.mean(), inplace=True)"
   ]
  },
  {
   "cell_type": "code",
   "execution_count": 23,
   "metadata": {
    "ExecuteTime": {
     "end_time": "2019-04-12T10:38:36.319985Z",
     "start_time": "2019-04-12T10:38:36.314427Z"
    }
   },
   "outputs": [],
   "source": [
    "df_meiguzhibiao1_new_merge = df_base.merge(\n",
    "    df_meiguzhibiao1_new, how='left', right_index=True, left_on=\"企业编号\")\n",
    "# df_meiguzhibiao1_new_merge.max()\n",
    "# df_meiguzhibiao1_new_merge.min()"
   ]
  },
  {
   "cell_type": "code",
   "execution_count": 24,
   "metadata": {
    "ExecuteTime": {
     "end_time": "2019-04-12T10:38:36.325046Z",
     "start_time": "2019-04-12T10:38:36.322467Z"
    }
   },
   "outputs": [],
   "source": [
    "res['每股指标'] = df_meiguzhibiao1_new_merge"
   ]
  },
  {
   "cell_type": "markdown",
   "metadata": {},
   "source": [
    "# 成长能力指标"
   ]
  },
  {
   "cell_type": "code",
   "execution_count": 25,
   "metadata": {
    "ExecuteTime": {
     "end_time": "2019-04-12T10:38:40.372319Z",
     "start_time": "2019-04-12T10:38:36.327174Z"
    }
   },
   "outputs": [
    {
     "name": "stdout",
     "output_type": "stream",
     "text": [
      "<class 'pandas.core.frame.DataFrame'>\n",
      "RangeIndex: 28887 entries, 0 to 28886\n",
      "Data columns (total 8 columns):\n",
      "企业编号              28887 non-null int64\n",
      "营业总收入(元)          28877 non-null float64\n",
      "毛利润(元)            28185 non-null float64\n",
      "归属净利润(元)          28887 non-null float64\n",
      "营业总收入同比增长(元)      28229 non-null float64\n",
      "扣非净利润同比增长(元)      22907 non-null float64\n",
      "营业总收入滚动环比增长(元)    27449 non-null float64\n",
      "归属净利润滚动环比增长(元)    25957 non-null float64\n",
      "dtypes: float64(7), int64(1)\n",
      "memory usage: 1.8 MB\n"
     ]
    }
   ],
   "source": [
    "df_growth_bpk = pd.read_excel(data_path+r'上市信息财务信息-成长能力指标.xlsx')\n",
    "df_growth = df_growth_bpk.copy()\n",
    "df_growth = df_growth.drop(\n",
    "    ['标题', '日期', '扣非净利润(元)', '归属净利润同比增长(元)', '扣非净利润滚动环比增长(元)'], axis=1)\n",
    "E = ['营业总收入(元)', '毛利润(元)', '归属净利润(元)']\n",
    "for arr in E:\n",
    "    df_growth.loc[(df_growth[arr].str.contains(\"万亿\") == True), arr] = df_growth.loc[(\n",
    "        df_growth[arr].str.contains(\"万亿\") == True), arr].str.replace('万亿', '').astype(float)*1000000000000\n",
    "    df_growth.loc[(df_growth[arr].str.contains(\"万\") == True), arr] = df_growth.loc[(\n",
    "        df_growth[arr].str.contains(\"万\") == True), arr].str.replace('万', '').astype(float)*10000\n",
    "    df_growth.loc[(df_growth[arr].str.contains(\"亿\") == True), arr] = df_growth.loc[(\n",
    "        df_growth[arr].str.contains(\"亿\") == True), arr].str.replace('亿', '').astype(float)*100000000\n",
    "F = ['营业总收入同比增长(元)', '扣非净利润同比增长(元)', '营业总收入滚动环比增长(元)', '归属净利润滚动环比增长(元)']\n",
    "for arr in F:\n",
    "    df_growth[arr] = df_growth[arr].replace('--%', np.nan)\n",
    "for arr in F:\n",
    "    df_growth.loc[(df_growth[arr].str.contains(\"%\") == True), arr] = df_growth.loc[(\n",
    "        df_growth[arr].str.contains(\"%\") == True), arr].str.replace(',', '').str.rstrip('%').astype(float)/100\n",
    "df_growth = df_growth.convert_objects(convert_numeric=True)\n",
    "df_growth.info()"
   ]
  },
  {
   "cell_type": "code",
   "execution_count": 26,
   "metadata": {
    "ExecuteTime": {
     "end_time": "2019-04-12T10:38:40.419251Z",
     "start_time": "2019-04-12T10:38:40.375139Z"
    }
   },
   "outputs": [],
   "source": [
    "agg_func5 = {\n",
    "    '营业总收入(元)':   ['mean', 'max', 'min', 'std'],\n",
    "    '归属净利润(元)':  ['mean', 'max', 'min', 'std'],\n",
    "    '营业总收入同比增长(元)':  ['mean', 'max', 'min', 'std'],\n",
    "    '扣非净利润同比增长(元)':   ['mean', 'max', 'min', 'std'],\n",
    "    '毛利润(元)': ['mean', 'max', 'min', 'std'],\n",
    "    '营业总收入滚动环比增长(元)':  ['mean'], '归属净利润滚动环比增长(元)':  ['mean'],\n",
    "}\n",
    "df_growth_new = df_growth.groupby(['企业编号']).agg(agg_func5)\n",
    "df_growth_new.columns = ['_'.join(col) for col in df_growth_new.columns.values]\n",
    "df_growth_new.columns = [\n",
    "    '营业总收入(元)_mean', '营业总收入(元)_max', '营业总收入(元)_min', '营业总收入(元)_std',\n",
    "    '归属净利润(元)_mean', '归属净利润(元)_max', '归属净利润(元)_min',  '归属净利润(元)_std',\n",
    "    '营业总收入同比增长(元)_mean', '营业总收入同比增长(元)_max', '营业总收入同比增长(元)_min', '营业总收入同比增长(元)_std',\n",
    "    '扣非净利润同比增长(元)_mean', '扣非净利润同比增长(元)_max', '扣非净利润同比增长(元)_min', '扣非净利润同比增长(元)_std',\n",
    "    '毛利润(元)_mean', '毛利润(元)_max', '毛利润(元)_min', '毛利润(元)_std', '营业总收入滚动环比增长_mean', '归属净利润滚动环比增长_mean']\n",
    "df_growth_new.fillna(df_growth_new.mean(), inplace=True)"
   ]
  },
  {
   "cell_type": "code",
   "execution_count": 27,
   "metadata": {
    "ExecuteTime": {
     "end_time": "2019-04-12T10:38:40.427131Z",
     "start_time": "2019-04-12T10:38:40.421744Z"
    }
   },
   "outputs": [],
   "source": [
    "df_growth_new_merge = df_base.merge(\n",
    "    df_growth_new, how='left', right_index=True, left_on=\"企业编号\")\n",
    "# df_growth_new_merge.max()\n",
    "# df_growth_new_merge.min()"
   ]
  },
  {
   "cell_type": "code",
   "execution_count": 28,
   "metadata": {
    "ExecuteTime": {
     "end_time": "2019-04-12T10:38:40.434845Z",
     "start_time": "2019-04-12T10:38:40.430755Z"
    }
   },
   "outputs": [],
   "source": [
    "res['成长能力指标'] = df_growth_new_merge"
   ]
  },
  {
   "cell_type": "markdown",
   "metadata": {},
   "source": [
    "# 盈利能力指标"
   ]
  },
  {
   "cell_type": "code",
   "execution_count": 29,
   "metadata": {
    "ExecuteTime": {
     "end_time": "2019-04-12T10:38:43.031520Z",
     "start_time": "2019-04-12T10:38:40.439190Z"
    }
   },
   "outputs": [],
   "source": [
    "df_abilityofprofit_bpk = pd.read_excel(data_path+r'上市信息财务信息盈利能力指标.xlsx')\n",
    "df_abilityofprofit = df_abilityofprofit_bpk.copy()\n",
    "G = ['加权净资产收益率(%)', '摊薄净资产收益率(%)', '摊薄总资产收益率(%)',\n",
    "     '毛利率(%)', '净利率(%)', '实际税率(%)']\n",
    "for arr in G:\n",
    "    df_abilityofprofit[arr] = df_abilityofprofit[arr].replace('--%', np.nan)\n",
    "    df_abilityofprofit[arr] = df_abilityofprofit[arr].str.rstrip(\n",
    "        '%').astype(float)/100\n",
    "df_abilityofprofit.convert_objects(convert_numeric=True)\n",
    "df_abilityofprofit = df_abilityofprofit.drop(['标题', '日期'], axis=1)\n",
    "for arr in G:\n",
    "    df_abilityofprofit[arr +\n",
    "                       \"滚动增长率\"] = df_abilityofprofit.groupby([\"企业编号\"])[arr].pct_change()"
   ]
  },
  {
   "cell_type": "code",
   "execution_count": 30,
   "metadata": {
    "ExecuteTime": {
     "end_time": "2019-04-12T10:38:43.123220Z",
     "start_time": "2019-04-12T10:38:43.033619Z"
    }
   },
   "outputs": [],
   "source": [
    "agg_func6 = {\n",
    "    '加权净资产收益率(%)':  ['mean', 'max', 'min', 'std'], '加权净资产收益率(%)滚动增长率':  ['mean'],\n",
    "    '毛利率(%)': ['mean', 'max', 'min', 'std'], '毛利率(%)滚动增长率':  ['mean'],\n",
    "    '净利率(%)':  ['mean', 'max', 'min', 'std'], '净利率(%)滚动增长率':  ['mean'],\n",
    "    '实际税率(%)':  ['mean', 'max', 'min', 'std'], '实际税率(%)滚动增长率':  ['mean'],\n",
    "    '摊薄总资产收益率(%)':  ['mean', 'max', 'min', 'std'], '摊薄总资产收益率(%)滚动增长率':  ['mean'],\n",
    "}\n",
    "df_abilityofprofit_new = df_abilityofprofit.groupby(['企业编号']).agg(agg_func6)\n",
    "df_abilityofprofit_new.columns = [\n",
    "    '_'.join(col) for col in df_abilityofprofit_new.columns.values]\n",
    "df_abilityofprofit_new.columns = [\n",
    "    '加权净资产收益率(%)_mean', '加权净资产收益率(%)_max', '加权净资产收益率(%)_min', '加权净资产收益率(%)_std', '加权净资产收益率滚动增长_mean',\n",
    "    '毛利率(%)_mean', '毛利率(%)_max', '毛利率(%)_min',  '毛利率(%)_std', '毛利率滚动增长_mean',\n",
    "    '净利率(%)_mean', '净利率(%)_max', '净利率(%)_min', '净利率(%)_std', '净利率滚动增长_mean',\n",
    "    '实际税率(%)_mean', '实际税率(%)_max', '实际税率(%)_min',  '实际税率(%)_std', '实际税率滚动增长_mean',\n",
    "    '摊薄总资产收益率(%)_mean', '摊薄总资产收益率(%)_max', '摊薄总资产收益率(%)_min', '摊薄总资产收益率(%)_std', '摊薄总资产收益率滚动增长_mean', ]\n",
    "df_abilityofprofit_new.loc[(df_abilityofprofit_new['实际税率滚动增长_mean'] == np.inf) \n",
    "                           ==True,'实际税率滚动增长_mean'] = np.nan\n",
    "df_abilityofprofit_new.loc[(df_abilityofprofit_new['摊薄总资产收益率滚动增长_mean'] == np.inf) \n",
    "                           ==True,'摊薄总资产收益率滚动增长_mean'] = np.nan\n",
    "df_abilityofprofit_new.loc[(df_abilityofprofit_new['实际税率滚动增长_mean'] == -np.inf) \n",
    "                           ==True,'实际税率滚动增长_mean'] = np.nan\n",
    "df_abilityofprofit_new.loc[(df_abilityofprofit_new['摊薄总资产收益率滚动增长_mean'] \n",
    "                            == -np.inf) ==True,'摊薄总资产收益率滚动增长_mean'] = np.nan\n",
    "df_abilityofprofit_new.loc[(df_abilityofprofit_new['加权净资产收益率滚动增长_mean'] \n",
    "                            == -np.inf) ==True,'加权净资产收益率滚动增长_mean'] = np.nan\n",
    "df_abilityofprofit_new.loc[(df_abilityofprofit_new['净利率滚动增长_mean'] == np.inf) \n",
    "                           ==True,'净利率滚动增长_mean'] = np.nan\n",
    "df_abilityofprofit_new.loc[(df_abilityofprofit_new['加权净资产收益率滚动增长_mean'] \n",
    "                            ==  np.inf) ==True,'加权净资产收益率滚动增长_mean'] = np.nan\n",
    "df_abilityofprofit_new.fillna(df_abilityofprofit_new.mean(),inplace=True)"
   ]
  },
  {
   "cell_type": "code",
   "execution_count": 31,
   "metadata": {
    "ExecuteTime": {
     "end_time": "2019-04-12T10:38:43.130822Z",
     "start_time": "2019-04-12T10:38:43.125118Z"
    }
   },
   "outputs": [],
   "source": [
    "df_abilityofprofit_new_merge = df_base.merge(\n",
    "    df_abilityofprofit_new, how='left', right_index=True, left_on=\"企业编号\")\n",
    "# df_abilityofprofit_new_merge.max()\n",
    "# df_abilityofprofit_new_merge.min()"
   ]
  },
  {
   "cell_type": "code",
   "execution_count": 32,
   "metadata": {
    "ExecuteTime": {
     "end_time": "2019-04-12T10:38:43.135116Z",
     "start_time": "2019-04-12T10:38:43.132733Z"
    }
   },
   "outputs": [],
   "source": [
    "res['盈利能力能力'] = df_abilityofprofit_new_merge"
   ]
  },
  {
   "cell_type": "markdown",
   "metadata": {},
   "source": [
    "# 财务风险指标"
   ]
  },
  {
   "cell_type": "code",
   "execution_count": 33,
   "metadata": {
    "ExecuteTime": {
     "end_time": "2019-04-12T10:38:45.396323Z",
     "start_time": "2019-04-12T10:38:43.137470Z"
    }
   },
   "outputs": [],
   "source": [
    "df_risk_bpk = pd.read_excel(data_path+r'上市信息财务信息-财务风险指标.xlsx')\n",
    "df_risk = df_risk_bpk.copy()\n",
    "H = ['流动比率', '速动比率']\n",
    "for arr in H:\n",
    "    df_risk[arr] = pd.to_numeric(df_risk[arr], errors='coerce')\n",
    "I = ['资产负债率(%)', '流动负债/总负债(%)']\n",
    "for arr in I:\n",
    "    df_risk[arr] = df_risk[arr].replace('--%', np.nan)\n",
    "df_risk.convert_objects(convert_numeric=True)\n",
    "for arr in I:\n",
    "    df_risk[arr] = df_risk[arr].str.rstrip('%').astype(float)/100\n",
    "df_risk.convert_objects(convert_numeric=True)\n",
    "df_risk = df_risk.drop(['标题', '日期', '速动比率'], axis=1)\n",
    "df_risk = df_risk.loc[df_risk['流动比率'] < 66.6]\n",
    "df_risk = df_risk.loc[df_risk['资产负债率(%)'] < 2.93]\n",
    "for arr in I:\n",
    "    df_risk[arr+'滚动增长率'] = df_risk.groupby(['企业编号'])[arr].pct_change()\n",
    "df_risk['流动比率滚动增长率'] = df_risk.groupby(['企业编号'])['流动比率'].pct_change()"
   ]
  },
  {
   "cell_type": "code",
   "execution_count": 34,
   "metadata": {
    "ExecuteTime": {
     "end_time": "2019-04-12T10:38:45.445507Z",
     "start_time": "2019-04-12T10:38:45.398637Z"
    }
   },
   "outputs": [],
   "source": [
    "agg_func7 = {\n",
    "    '资产负债率(%)':   ['mean', 'max', 'min', 'std'], '资产负债率(%)滚动增长率':  ['mean'],\n",
    "    '流动负债/总负债(%)': ['mean', 'max', 'min', 'std'], '流动负债/总负债(%)滚动增长率':  ['mean'],\n",
    "    '流动比率':  ['mean', 'max', 'min', 'std'], '流动比率滚动增长率':  ['mean'],\n",
    "}\n",
    "df_risk_new = df_risk.groupby(['企业编号']).agg(agg_func7)\n",
    "df_risk_new.columns = ['_'.join(col) for col in df_risk_new.columns.values]\n",
    "df_risk_new.columns = [\n",
    "    '资产负债率_mean', '资产负债率_max', '资产负债率_min', '资产负债率_std', '资产负债率滚动增长_mean',\n",
    "    '流动负债/总负债_mean', '流动负债/总负债_max', '流动负债/总负债_min', '流动负债/总负债_std', '流动负债/总负债滚动增长_mean',\n",
    "    '流动比率_mean', '流动比率_max', '流动比率_min', '流动比率_std', '流动比率滚动增长_mean', ]\n",
    "df_risk_new.fillna(df_risk_new.mean(), inplace=True)"
   ]
  },
  {
   "cell_type": "code",
   "execution_count": 35,
   "metadata": {
    "ExecuteTime": {
     "end_time": "2019-04-12T10:38:45.463157Z",
     "start_time": "2019-04-12T10:38:45.448555Z"
    }
   },
   "outputs": [],
   "source": [
    "df_risk_new_merge = df_base.merge(\n",
    "    df_risk_new, how='left', right_index=True, left_on=\"企业编号\")\n",
    "df_risk_new_merge.fillna(df_risk_new_merge.mean(), inplace=True)\n",
    "# df_risk_new_merge.max()\n",
    "# df_risk_new_merge.min()"
   ]
  },
  {
   "cell_type": "code",
   "execution_count": 36,
   "metadata": {
    "ExecuteTime": {
     "end_time": "2019-04-12T10:38:45.468275Z",
     "start_time": "2019-04-12T10:38:45.465312Z"
    }
   },
   "outputs": [],
   "source": [
    "res['财务风险能力'] = df_risk_new_merge"
   ]
  },
  {
   "cell_type": "markdown",
   "metadata": {},
   "source": [
    "# 运营能力指标"
   ]
  },
  {
   "cell_type": "code",
   "execution_count": 37,
   "metadata": {
    "ExecuteTime": {
     "end_time": "2019-04-12T10:38:47.364508Z",
     "start_time": "2019-04-12T10:38:45.470558Z"
    }
   },
   "outputs": [],
   "source": [
    "df_operation_bpk = pd.read_excel(data_path+r'上市信息财务信息运营能力指标.xlsx')\n",
    "df_operation = df_operation_bpk.copy()\n",
    "J = ['总资产周转率(次)', '应收账款周转天数(天)', '存货周转天数(天)']\n",
    "for arr in J:\n",
    "    df_operation[arr] = pd.to_numeric(df_operation[arr], errors='coerce')\n",
    "df_operation = df_operation.drop(['标题', '日期'], axis=1)\n",
    "df_operation = df_operation.loc[df_operation['应收账款周转天数(天)'] > 0]\n",
    "df_operation = df_operation.loc[(df_operation['存货周转天数(天)'] > 0) & (\n",
    "    df_operation['存货周转天数(天)'] < 600000)]\n",
    "for arr in J:\n",
    "    df_operation[arr +\n",
    "                 \"滚动增长率\"] = df_operation.groupby([\"企业编号\"])[arr].pct_change()"
   ]
  },
  {
   "cell_type": "code",
   "execution_count": 38,
   "metadata": {
    "ExecuteTime": {
     "end_time": "2019-04-12T10:38:47.414309Z",
     "start_time": "2019-04-12T10:38:47.366846Z"
    }
   },
   "outputs": [],
   "source": [
    "agg_func8 = {\n",
    "    '总资产周转率(次)':  ['mean', 'max', 'min', 'std'], '总资产周转率(次)滚动增长率': ['mean'],\n",
    "    '应收账款周转天数(天)': ['mean', 'max', 'min', 'std'], '应收账款周转天数(天)滚动增长率': ['mean'],\n",
    "    '存货周转天数(天)': ['mean', 'max', 'min', 'std'], '存货周转天数(天)滚动增长率': ['mean'],\n",
    "}\n",
    "df_operation_new = df_operation.groupby(['企业编号']).agg(agg_func8)\n",
    "df_operation_new.columns = ['_'.join(col)\n",
    "                            for col in df_operation_new.columns.values]\n",
    "df_operation_new.columns = [\n",
    "    '总资产周转率(次)_mean', '总资产周转率(次)_max', '总资产周转率(次)_min', '总资产周转率(次)_std', '总资产周转率(次)滚动增长_mean',\n",
    "    '应收账款周转天数(天)_mean', '应收账款周转天数(天)_max', '应收账款周转天数(天)_min', '应收账款周转天数(天)_std', '应收账款周转天数(天)滚动增长_mean',\n",
    "    '存货周转天数(天)_mean', '存货周转天数(天)_max', '存货周转天数(天)_min', '存货周转天数(天)_std', '存货周转天数(天)滚动增长_mean']\n",
    "df_operation_new.loc[(\n",
    "    df_operation_new['总资产周转率(次)滚动增长_mean'] == np.inf) == True, '总资产周转率(次)滚动增长_mean'] = np.nan\n",
    "df_operation_new.fillna(df_operation_new.mean(), inplace = True)"
   ]
  },
  {
   "cell_type": "code",
   "execution_count": 39,
   "metadata": {
    "ExecuteTime": {
     "end_time": "2019-04-12T10:38:47.432251Z",
     "start_time": "2019-04-12T10:38:47.416655Z"
    }
   },
   "outputs": [
    {
     "data": {
      "text/plain": [
       "企业编号                    1001.000000\n",
       "总资产周转率(次)_mean             0.004444\n",
       "总资产周转率(次)_max              0.010000\n",
       "总资产周转率(次)_min              0.000000\n",
       "总资产周转率(次)_std              0.007071\n",
       "总资产周转率(次)滚动增长_mean        -0.538981\n",
       "应收账款周转天数(天)_mean           0.040000\n",
       "应收账款周转天数(天)_max            0.040000\n",
       "应收账款周转天数(天)_min            0.010000\n",
       "应收账款周转天数(天)_std            0.013973\n",
       "应收账款周转天数(天)滚动增长_mean      -0.963611\n",
       "存货周转天数(天)_mean             0.011429\n",
       "存货周转天数(天)_max              0.020000\n",
       "存货周转天数(天)_min              0.010000\n",
       "存货周转天数(天)_std              0.003780\n",
       "存货周转天数(天)滚动增长_mean        -0.953313\n",
       "dtype: float64"
      ]
     },
     "execution_count": 39,
     "metadata": {},
     "output_type": "execute_result"
    }
   ],
   "source": [
    "df_operation_new_merge = df_base.merge(\n",
    "    df_operation_new, how='left', right_index=True, left_on=\"企业编号\")\n",
    "df_operation_new_merge.fillna(df_operation_new_merge.mean(), inplace=True)\n",
    "df_operation_new_merge.min()"
   ]
  },
  {
   "cell_type": "code",
   "execution_count": 40,
   "metadata": {
    "ExecuteTime": {
     "end_time": "2019-04-12T10:38:47.437245Z",
     "start_time": "2019-04-12T10:38:47.434314Z"
    }
   },
   "outputs": [],
   "source": [
    "res['运营能力指标'] = df_operation_new_merge"
   ]
  },
  {
   "cell_type": "markdown",
   "metadata": {},
   "source": [
    "# Check Point"
   ]
  },
  {
   "cell_type": "code",
   "execution_count": 41,
   "metadata": {
    "ExecuteTime": {
     "end_time": "2019-04-12T10:38:47.445208Z",
     "start_time": "2019-04-12T10:38:47.440054Z"
    }
   },
   "outputs": [
    {
     "name": "stdout",
     "output_type": "stream",
     "text": [
      "企业得分 2\n",
      "资产负债表 51\n",
      "利润表 36\n",
      "现金流量表 31\n",
      "每股指标 25\n",
      "成长能力指标 23\n",
      "盈利能力能力 26\n",
      "财务风险能力 16\n",
      "运营能力指标 16\n",
      "total:  217\n"
     ]
    }
   ],
   "source": [
    "feature_count = 0\n",
    "for k, v in res.items():\n",
    "    print(k, len(v.columns))\n",
    "    feature_count += (len(v.columns)-1)\n",
    "print('total: ', feature_count)"
   ]
  },
  {
   "cell_type": "markdown",
   "metadata": {},
   "source": [
    "# Combine all"
   ]
  },
  {
   "cell_type": "code",
   "execution_count": 42,
   "metadata": {
    "ExecuteTime": {
     "end_time": "2019-04-12T10:38:47.512409Z",
     "start_time": "2019-04-12T10:38:47.448220Z"
    }
   },
   "outputs": [
    {
     "name": "stdout",
     "output_type": "stream",
     "text": [
      "企业得分\n",
      "资产负债表\n",
      "利润表\n",
      "现金流量表\n",
      "每股指标\n",
      "成长能力指标\n",
      "盈利能力能力\n",
      "财务风险能力\n",
      "运营能力指标\n"
     ]
    }
   ],
   "source": [
    "FinacialFeatures = df_base\n",
    "for k, v in res.items():\n",
    "    print(k)\n",
    "    FinacialFeatures = FinacialFeatures.merge(v, how='left', on='企业编号')\n",
    "FinacialFeatures.set_index(\n",
    "    np.arange(0, len(FinacialFeatures)), inplace=True)"
   ]
  },
  {
   "cell_type": "code",
   "execution_count": 43,
   "metadata": {
    "ExecuteTime": {
     "end_time": "2019-04-12T10:38:47.544212Z",
     "start_time": "2019-04-12T10:38:47.514447Z"
    }
   },
   "outputs": [
    {
     "data": {
      "text/html": [
       "<div>\n",
       "<style scoped>\n",
       "    .dataframe tbody tr th:only-of-type {\n",
       "        vertical-align: middle;\n",
       "    }\n",
       "\n",
       "    .dataframe tbody tr th {\n",
       "        vertical-align: top;\n",
       "    }\n",
       "\n",
       "    .dataframe thead th {\n",
       "        text-align: right;\n",
       "    }\n",
       "</style>\n",
       "<table border=\"1\" class=\"dataframe\">\n",
       "  <thead>\n",
       "    <tr style=\"text-align: right;\">\n",
       "      <th></th>\n",
       "      <th>企业编号</th>\n",
       "      <th>企业总评分</th>\n",
       "      <th>资产:流动资产合计(元)_mean</th>\n",
       "      <th>资产:流动资产合计(元)_max</th>\n",
       "      <th>资产:流动资产合计(元)_min</th>\n",
       "      <th>资产:流动资产合计(元)_std</th>\n",
       "      <th>资产:流动资产合计(元)滚动增长_mean</th>\n",
       "      <th>资产:资产总计(元)_mean</th>\n",
       "      <th>资产:资产总计(元)_max</th>\n",
       "      <th>资产:资产总计(元)_min</th>\n",
       "      <th>...</th>\n",
       "      <th>应收账款周转天数(天)_mean</th>\n",
       "      <th>应收账款周转天数(天)_max</th>\n",
       "      <th>应收账款周转天数(天)_min</th>\n",
       "      <th>应收账款周转天数(天)_std</th>\n",
       "      <th>应收账款周转天数(天)滚动增长_mean</th>\n",
       "      <th>存货周转天数(天)_mean</th>\n",
       "      <th>存货周转天数(天)_max</th>\n",
       "      <th>存货周转天数(天)_min</th>\n",
       "      <th>存货周转天数(天)_std</th>\n",
       "      <th>存货周转天数(天)滚动增长_mean</th>\n",
       "    </tr>\n",
       "  </thead>\n",
       "  <tbody>\n",
       "    <tr>\n",
       "      <th>0</th>\n",
       "      <td>1001</td>\n",
       "      <td>75.374276</td>\n",
       "      <td>37.138558</td>\n",
       "      <td>102.982866</td>\n",
       "      <td>-3.422013</td>\n",
       "      <td>45.402146</td>\n",
       "      <td>0.526979</td>\n",
       "      <td>5.236450</td>\n",
       "      <td>10.129814</td>\n",
       "      <td>0.418085</td>\n",
       "      <td>...</td>\n",
       "      <td>107.589270</td>\n",
       "      <td>191.707773</td>\n",
       "      <td>63.791689</td>\n",
       "      <td>44.495607</td>\n",
       "      <td>0.151392</td>\n",
       "      <td>414.778035</td>\n",
       "      <td>1089.655763</td>\n",
       "      <td>176.283983</td>\n",
       "      <td>325.371499</td>\n",
       "      <td>1.562757</td>\n",
       "    </tr>\n",
       "    <tr>\n",
       "      <th>1</th>\n",
       "      <td>1002</td>\n",
       "      <td>79.830122</td>\n",
       "      <td>53.649848</td>\n",
       "      <td>102.805115</td>\n",
       "      <td>-40.517576</td>\n",
       "      <td>70.738587</td>\n",
       "      <td>-0.250285</td>\n",
       "      <td>28.653568</td>\n",
       "      <td>44.691555</td>\n",
       "      <td>16.642118</td>\n",
       "      <td>...</td>\n",
       "      <td>46.903333</td>\n",
       "      <td>56.590000</td>\n",
       "      <td>39.830000</td>\n",
       "      <td>6.234116</td>\n",
       "      <td>0.023916</td>\n",
       "      <td>6.506667</td>\n",
       "      <td>7.040000</td>\n",
       "      <td>5.010000</td>\n",
       "      <td>0.702335</td>\n",
       "      <td>0.045330</td>\n",
       "    </tr>\n",
       "    <tr>\n",
       "      <th>2</th>\n",
       "      <td>1003</td>\n",
       "      <td>78.318264</td>\n",
       "      <td>-0.078404</td>\n",
       "      <td>23.757798</td>\n",
       "      <td>-18.510366</td>\n",
       "      <td>16.111779</td>\n",
       "      <td>-2.589393</td>\n",
       "      <td>-9.319352</td>\n",
       "      <td>15.939361</td>\n",
       "      <td>-24.609220</td>\n",
       "      <td>...</td>\n",
       "      <td>84.275556</td>\n",
       "      <td>139.910000</td>\n",
       "      <td>56.020000</td>\n",
       "      <td>33.143654</td>\n",
       "      <td>-0.040224</td>\n",
       "      <td>54.918889</td>\n",
       "      <td>75.540000</td>\n",
       "      <td>38.010000</td>\n",
       "      <td>11.089465</td>\n",
       "      <td>0.031792</td>\n",
       "    </tr>\n",
       "    <tr>\n",
       "      <th>3</th>\n",
       "      <td>1004</td>\n",
       "      <td>83.253376</td>\n",
       "      <td>43.189113</td>\n",
       "      <td>105.787782</td>\n",
       "      <td>1.316974</td>\n",
       "      <td>47.110533</td>\n",
       "      <td>15.573363</td>\n",
       "      <td>2.084637</td>\n",
       "      <td>7.893039</td>\n",
       "      <td>-2.714605</td>\n",
       "      <td>...</td>\n",
       "      <td>26.720000</td>\n",
       "      <td>35.360000</td>\n",
       "      <td>17.290000</td>\n",
       "      <td>6.024438</td>\n",
       "      <td>0.081857</td>\n",
       "      <td>6.954444</td>\n",
       "      <td>7.900000</td>\n",
       "      <td>6.240000</td>\n",
       "      <td>0.618448</td>\n",
       "      <td>0.021711</td>\n",
       "    </tr>\n",
       "    <tr>\n",
       "      <th>4</th>\n",
       "      <td>1005</td>\n",
       "      <td>83.291493</td>\n",
       "      <td>-8.351909</td>\n",
       "      <td>40.883944</td>\n",
       "      <td>-36.417633</td>\n",
       "      <td>32.154606</td>\n",
       "      <td>-0.489689</td>\n",
       "      <td>26.580415</td>\n",
       "      <td>34.378493</td>\n",
       "      <td>19.680974</td>\n",
       "      <td>...</td>\n",
       "      <td>94.050000</td>\n",
       "      <td>110.260000</td>\n",
       "      <td>77.850000</td>\n",
       "      <td>9.652235</td>\n",
       "      <td>0.012921</td>\n",
       "      <td>108.584444</td>\n",
       "      <td>357.190000</td>\n",
       "      <td>44.160000</td>\n",
       "      <td>101.728838</td>\n",
       "      <td>0.344086</td>\n",
       "    </tr>\n",
       "  </tbody>\n",
       "</table>\n",
       "<p>5 rows × 218 columns</p>\n",
       "</div>"
      ],
      "text/plain": [
       "   企业编号      企业总评分  资产:流动资产合计(元)_mean  资产:流动资产合计(元)_max  资产:流动资产合计(元)_min  \\\n",
       "0  1001  75.374276          37.138558        102.982866         -3.422013   \n",
       "1  1002  79.830122          53.649848        102.805115        -40.517576   \n",
       "2  1003  78.318264          -0.078404         23.757798        -18.510366   \n",
       "3  1004  83.253376          43.189113        105.787782          1.316974   \n",
       "4  1005  83.291493          -8.351909         40.883944        -36.417633   \n",
       "\n",
       "   资产:流动资产合计(元)_std  资产:流动资产合计(元)滚动增长_mean  资产:资产总计(元)_mean  资产:资产总计(元)_max  \\\n",
       "0         45.402146               0.526979         5.236450       10.129814   \n",
       "1         70.738587              -0.250285        28.653568       44.691555   \n",
       "2         16.111779              -2.589393        -9.319352       15.939361   \n",
       "3         47.110533              15.573363         2.084637        7.893039   \n",
       "4         32.154606              -0.489689        26.580415       34.378493   \n",
       "\n",
       "   资产:资产总计(元)_min  ...  应收账款周转天数(天)_mean  应收账款周转天数(天)_max  应收账款周转天数(天)_min  \\\n",
       "0        0.418085  ...        107.589270       191.707773        63.791689   \n",
       "1       16.642118  ...         46.903333        56.590000        39.830000   \n",
       "2      -24.609220  ...         84.275556       139.910000        56.020000   \n",
       "3       -2.714605  ...         26.720000        35.360000        17.290000   \n",
       "4       19.680974  ...         94.050000       110.260000        77.850000   \n",
       "\n",
       "   应收账款周转天数(天)_std  应收账款周转天数(天)滚动增长_mean  存货周转天数(天)_mean  存货周转天数(天)_max  \\\n",
       "0        44.495607              0.151392      414.778035    1089.655763   \n",
       "1         6.234116              0.023916        6.506667       7.040000   \n",
       "2        33.143654             -0.040224       54.918889      75.540000   \n",
       "3         6.024438              0.081857        6.954444       7.900000   \n",
       "4         9.652235              0.012921      108.584444     357.190000   \n",
       "\n",
       "   存货周转天数(天)_min  存货周转天数(天)_std  存货周转天数(天)滚动增长_mean  \n",
       "0     176.283983     325.371499            1.562757  \n",
       "1       5.010000       0.702335            0.045330  \n",
       "2      38.010000      11.089465            0.031792  \n",
       "3       6.240000       0.618448            0.021711  \n",
       "4      44.160000     101.728838            0.344086  \n",
       "\n",
       "[5 rows x 218 columns]"
      ]
     },
     "execution_count": 43,
     "metadata": {},
     "output_type": "execute_result"
    }
   ],
   "source": [
    "FinacialFeatures.head(5)"
   ]
  },
  {
   "cell_type": "code",
   "execution_count": 44,
   "metadata": {
    "ExecuteTime": {
     "end_time": "2019-04-12T10:38:47.569682Z",
     "start_time": "2019-04-12T10:38:47.546380Z"
    }
   },
   "outputs": [
    {
     "name": "stdout",
     "output_type": "stream",
     "text": [
      "<class 'pandas.core.frame.DataFrame'>\n",
      "Int64Index: 2956 entries, 0 to 2955\n",
      "Columns: 218 entries, 企业编号 to 存货周转天数(天)滚动增长_mean\n",
      "dtypes: float64(217), int64(1)\n",
      "memory usage: 4.9 MB\n"
     ]
    }
   ],
   "source": [
    "FinacialFeatures.info()"
   ]
  },
  {
   "cell_type": "code",
   "execution_count": 46,
   "metadata": {
    "ExecuteTime": {
     "end_time": "2019-04-12T10:39:15.229128Z",
     "start_time": "2019-04-12T10:39:14.340295Z"
    }
   },
   "outputs": [],
   "source": [
    "FinacialFeatures.to_csv(r'./FinacialFeatures_3.csv', index=False)\n"
   ]
  },
  {
   "cell_type": "code",
   "execution_count": null,
   "metadata": {
    "ExecuteTime": {
     "end_time": "2019-04-12T10:38:47.597564Z",
     "start_time": "2019-04-12T10:38:16.671Z"
    }
   },
   "outputs": [],
   "source": [
    "FinacialFeatures_drop = FinacialFeatures.drop(['企业编号'], axis=1)\n",
    "colormap = plt.cm.RdBu\n",
    "plt.figure(figsize=(50, 50))\n",
    "sns.heatmap(FinacialFeatures_drop.corr(),\n",
    "            linewidths=0.1,\n",
    "            vmax=1.0,\n",
    "            square=True,\n",
    "            cmap=colormap,\n",
    "            linecolor='white',\n",
    "            annot=False)"
   ]
  },
  {
   "cell_type": "code",
   "execution_count": null,
   "metadata": {
    "ExecuteTime": {
     "end_time": "2019-04-12T06:22:38.195002Z",
     "start_time": "2019-04-12T06:22:38.183819Z"
    }
   },
   "outputs": [],
   "source": []
  }
 ],
 "metadata": {
  "kernelspec": {
   "display_name": "Python 3",
   "language": "python",
   "name": "python3"
  },
  "language_info": {
   "codemirror_mode": {
    "name": "ipython",
    "version": 3
   },
   "file_extension": ".py",
   "mimetype": "text/x-python",
   "name": "python",
   "nbconvert_exporter": "python",
   "pygments_lexer": "ipython3",
   "version": "3.6.2"
  },
  "toc": {
   "base_numbering": 1,
   "nav_menu": {},
   "number_sections": true,
   "sideBar": true,
   "skip_h1_title": false,
   "title_cell": "Table of Contents",
   "title_sidebar": "Contents",
   "toc_cell": false,
   "toc_position": {},
   "toc_section_display": true,
   "toc_window_display": false
  },
  "varInspector": {
   "cols": {
    "lenName": 16,
    "lenType": 16,
    "lenVar": 40
   },
   "kernels_config": {
    "python": {
     "delete_cmd_postfix": "",
     "delete_cmd_prefix": "del ",
     "library": "var_list.py",
     "varRefreshCmd": "print(var_dic_list())"
    },
    "r": {
     "delete_cmd_postfix": ") ",
     "delete_cmd_prefix": "rm(",
     "library": "var_list.r",
     "varRefreshCmd": "cat(var_dic_list()) "
    }
   },
   "types_to_exclude": [
    "module",
    "function",
    "builtin_function_or_method",
    "instance",
    "_Feature"
   ],
   "window_display": false
  }
 },
 "nbformat": 4,
 "nbformat_minor": 2
}
