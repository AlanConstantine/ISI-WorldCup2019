{
 "cells": [
  {
   "cell_type": "code",
   "execution_count": 70,
   "metadata": {},
   "outputs": [
    {
     "data": {
      "text/plain": [
       "Timestamp('2019-04-02 00:00:00')"
      ]
     },
     "execution_count": 70,
     "metadata": {},
     "output_type": "execute_result"
    }
   ],
   "source": [
    "from IPython.display import display\n",
    "import matplotlib.pyplot as plt\n",
    "import pandas as pd\n",
    "import numpy as np\n",
    "import seaborn as sns\n",
    "import matplotlib as mpl\n",
    "import warnings\n",
    "import time\n",
    "from collections import Counter\n",
    "warnings.filterwarnings(\"ignore\")\n",
    "\n",
    "\n",
    "plt.style.use(\"fivethirtyeight\")\n",
    "\n",
    "sns.set_style({'font.sans-serif': ['simsun', 'Arial']})\n",
    "sns.set_style('darkgrid', {'font.sans-serif': ['simhei', 'Arial']})\n",
    "%matplotlib inline\n",
    "current_date = pd.to_datetime(\n",
    "    time.strftime('%Y-%m-%d', time.localtime(time.time())))\n",
    "\n",
    "res = {}\n",
    "data_path = r'./Documents/赛题1数据集/'\n",
    "current_date"
   ]
  },
  {
   "cell_type": "markdown",
   "metadata": {},
   "source": [
    "# 资产负债表"
   ]
  },
  {
   "cell_type": "code",
   "execution_count": 71,
   "metadata": {},
   "outputs": [],
   "source": [
    "df_asset_bpk = pd.read_excel(data_path+r'上市信息财务信息资产负债表.xlsx')\n",
    "df_asset = df_asset_bpk.copy()"
   ]
  },
  {
   "cell_type": "code",
   "execution_count": 72,
   "metadata": {},
   "outputs": [
    {
     "name": "stdout",
     "output_type": "stream",
     "text": [
      "<class 'pandas.core.frame.DataFrame'>\n",
      "RangeIndex: 19620 entries, 0 to 19619\n",
      "Data columns (total 24 columns):\n",
      "企业编号               19620 non-null int64\n",
      "标题                 19620 non-null object\n",
      "日期                 19620 non-null object\n",
      "资产:货币资金(元)         18862 non-null object\n",
      "资产:应收账款(元)         18291 non-null object\n",
      "资产:其它应收款(元)        18460 non-null object\n",
      "资产:存货(元)           18115 non-null object\n",
      "资产:流动资产合计(元)       18455 non-null object\n",
      "资产:长期股权投资(元)       12873 non-null object\n",
      "资产:累计折旧(元)         1446 non-null object\n",
      "资产:固定资产(元)         18854 non-null object\n",
      "资产:无形资产(元)         18595 non-null object\n",
      "资产:资产总计(元)         18862 non-null object\n",
      "负债:应付账款(元)         15646 non-null object\n",
      "负债:预收账款(元)         18117 non-null object\n",
      "负债:存货跌价准备(元)       1446 non-null object\n",
      "负债:流动负债合计(元)       18455 non-null object\n",
      "负债:长期负债合计(元)       17729 non-null object\n",
      "负债:负债合计(元)         18862 non-null object\n",
      "权益:实收资本(或股本)(元)    18851 non-null object\n",
      "权益:资本公积金(元)        18731 non-null object\n",
      "权益:盈余公积金(元)        18669 non-null object\n",
      "权益:股东权益合计(元)       18854 non-null object\n",
      "流动比率               1446 non-null object\n",
      "dtypes: int64(1), object(23)\n",
      "memory usage: 3.6+ MB\n"
     ]
    }
   ],
   "source": [
    "df_asset.info()"
   ]
  },
  {
   "cell_type": "code",
   "execution_count": 73,
   "metadata": {},
   "outputs": [
    {
     "name": "stdout",
     "output_type": "stream",
     "text": [
      "<class 'pandas.core.frame.DataFrame'>\n",
      "Int64Index: 19619 entries, 0 to 19619\n",
      "Data columns (total 12 columns):\n",
      "企业编号               19619 non-null int64\n",
      "资产:货币资金(元)         18861 non-null object\n",
      "资产:长期股权投资(元)       12872 non-null object\n",
      "资产:固定资产(元)         18853 non-null object\n",
      "资产:无形资产(元)         18594 non-null object\n",
      "负债:长期负债合计(元)       17728 non-null object\n",
      "权益:实收资本(或股本)(元)    18850 non-null object\n",
      "资产:流动资产合计(元)       18454 non-null object\n",
      "资产:资产总计(元)         18861 non-null object\n",
      "负债:流动负债合计(元)       18454 non-null object\n",
      "负债:负债合计(元)         18861 non-null object\n",
      "权益:股东权益合计(元)       18853 non-null object\n",
      "dtypes: int64(1), object(11)\n",
      "memory usage: 1.9+ MB\n"
     ]
    }
   ],
   "source": [
    "A = ['资产:货币资金(元)', '资产:长期股权投资(元)', '资产:固定资产(元)', '资产:无形资产(元)','负债:长期负债合计(元)','权益:实收资本(或股本)(元)',\n",
    "     '资产:流动资产合计(元)','资产:资产总计(元)','负债:流动负债合计(元)','负债:负债合计(元)','权益:股东权益合计(元)']\n",
    "df_asset=df_asset[~df_asset['权益:股东权益合计(元)'].isin(['正无穷大万亿'])]\n",
    "df_asset1= pd.DataFrame({'企业编号':df_asset['企业编号'],'资产:货币资金(元)':df_asset['资产:货币资金(元)'],'资产:长期股权投资(元)': df_asset['资产:长期股权投资(元)'],\n",
    "                         '资产:固定资产(元)': df_asset['资产:固定资产(元)'],'资产:无形资产(元)': df_asset['资产:无形资产(元)'],'负债:长期负债合计(元)':df_asset['负债:长期负债合计(元)'],\n",
    "                         '权益:实收资本(或股本)(元)':df_asset['权益:实收资本(或股本)(元)'],'资产:流动资产合计(元)': df_asset['资产:流动资产合计(元)'],\n",
    "                         '资产:资产总计(元)': df_asset['资产:资产总计(元)'],'负债:流动负债合计(元)': df_asset['负债:流动负债合计(元)'],'负债:负债合计(元)':df_asset['负债:负债合计(元)'],\n",
    "                         '权益:股东权益合计(元)':df_asset['权益:股东权益合计(元)'],\n",
    "})\n",
    "df_asset1.info()\n"
   ]
  },
  {
   "cell_type": "code",
   "execution_count": 74,
   "metadata": {},
   "outputs": [
    {
     "name": "stdout",
     "output_type": "stream",
     "text": [
      "资产:货币资金(元) {'万', '亿'}\n",
      "资产:长期股权投资(元) {'万', '亿'}\n",
      "资产:固定资产(元) {'万', '亿'}\n",
      "资产:无形资产(元) {'万', '亿'}\n",
      "负债:长期负债合计(元) {'万', '亿'}\n",
      "权益:实收资本(或股本)(元) {'万', '亿'}\n",
      "资产:流动资产合计(元) {'万', '亿'}\n",
      "资产:资产总计(元) {'万', '亿'}\n",
      "负债:流动负债合计(元) {'万', '亿'}\n",
      "负债:负债合计(元) {'万', '亿'}\n",
      "权益:股东权益合计(元) {'万', '亿'}\n"
     ]
    }
   ],
   "source": [
    "for arr in A:\n",
    "    chinese = set(df_asset1[arr].str.extract(\n",
    "        \"([^0-9\\.\\-]+)\", expand=False).dropna())\n",
    "    print(arr, chinese)\n",
    "for arr in A:\n",
    "    df_asset1.loc[(df_asset1[arr].str.contains(\"万\") == True), arr] = df_asset1.loc[(\n",
    "        df_asset1[arr].str.contains(\"万\") == True), arr].str.replace('万', '').astype(float)*0.0001\n",
    "    df_asset1.loc[(df_asset1[arr].str.contains(\"亿\") == True), arr] = df_asset1.loc[(\n",
    "        df_asset1[arr].str.contains(\"亿\") == True), arr].str.replace('亿', '').astype(float)*1\n",
    "for arr in A:\n",
    "     df_asset1[arr]=pd.to_numeric( df_asset1[arr],errors='coerce')"
   ]
  },
  {
   "cell_type": "code",
   "execution_count": 76,
   "metadata": {},
   "outputs": [
    {
     "name": "stdout",
     "output_type": "stream",
     "text": [
      "<class 'pandas.core.frame.DataFrame'>\n",
      "Int64Index: 19619 entries, 0 to 19619\n",
      "Data columns (total 12 columns):\n",
      "企业编号               19619 non-null int64\n",
      "资产:货币资金(元)         18831 non-null float64\n",
      "资产:长期股权投资(元)       12342 non-null float64\n",
      "资产:固定资产(元)         18823 non-null float64\n",
      "资产:无形资产(元)         18540 non-null float64\n",
      "负债:长期负债合计(元)       17643 non-null float64\n",
      "权益:实收资本(或股本)(元)    18820 non-null float64\n",
      "资产:流动资产合计(元)       18424 non-null float64\n",
      "资产:资产总计(元)         18835 non-null float64\n",
      "负债:流动负债合计(元)       18424 non-null float64\n",
      "负债:负债合计(元)         18831 non-null float64\n",
      "权益:股东权益合计(元)       18823 non-null float64\n",
      "dtypes: float64(11), int64(1)\n",
      "memory usage: 1.9 MB\n"
     ]
    }
   ],
   "source": [
    "df_asset1.info()"
   ]
  },
  {
   "cell_type": "code",
   "execution_count": 77,
   "metadata": {},
   "outputs": [
    {
     "data": {
      "text/html": [
       "<div>\n",
       "<style scoped>\n",
       "    .dataframe tbody tr th:only-of-type {\n",
       "        vertical-align: middle;\n",
       "    }\n",
       "\n",
       "    .dataframe tbody tr th {\n",
       "        vertical-align: top;\n",
       "    }\n",
       "\n",
       "    .dataframe thead th {\n",
       "        text-align: right;\n",
       "    }\n",
       "</style>\n",
       "<table border=\"1\" class=\"dataframe\">\n",
       "  <thead>\n",
       "    <tr style=\"text-align: right;\">\n",
       "      <th></th>\n",
       "      <th>企业编号</th>\n",
       "      <th>资产:货币资金(元)</th>\n",
       "      <th>资产:长期股权投资(元)</th>\n",
       "      <th>资产:固定资产(元)</th>\n",
       "      <th>资产:无形资产(元)</th>\n",
       "      <th>负债:长期负债合计(元)</th>\n",
       "      <th>权益:实收资本(或股本)(元)</th>\n",
       "      <th>资产:流动资产合计(元)</th>\n",
       "      <th>资产:资产总计(元)</th>\n",
       "      <th>负债:流动负债合计(元)</th>\n",
       "      <th>负债:负债合计(元)</th>\n",
       "      <th>权益:股东权益合计(元)</th>\n",
       "    </tr>\n",
       "  </thead>\n",
       "  <tbody>\n",
       "    <tr>\n",
       "      <th>count</th>\n",
       "      <td>19619.000000</td>\n",
       "      <td>18831.000000</td>\n",
       "      <td>12342.000000</td>\n",
       "      <td>1.882300e+04</td>\n",
       "      <td>1.854000e+04</td>\n",
       "      <td>1.764300e+04</td>\n",
       "      <td>18820.000000</td>\n",
       "      <td>18424.000000</td>\n",
       "      <td>18835.000000</td>\n",
       "      <td>18424.000000</td>\n",
       "      <td>18831.000000</td>\n",
       "      <td>18823.000000</td>\n",
       "    </tr>\n",
       "    <tr>\n",
       "      <th>mean</th>\n",
       "      <td>2502.105102</td>\n",
       "      <td>142.584761</td>\n",
       "      <td>363.644876</td>\n",
       "      <td>4.029315e+02</td>\n",
       "      <td>5.467092e+03</td>\n",
       "      <td>1.008947e+04</td>\n",
       "      <td>16.540032</td>\n",
       "      <td>46.438059</td>\n",
       "      <td>43.027878</td>\n",
       "      <td>50.199079</td>\n",
       "      <td>50.217094</td>\n",
       "      <td>46.735165</td>\n",
       "    </tr>\n",
       "    <tr>\n",
       "      <th>std</th>\n",
       "      <td>861.625393</td>\n",
       "      <td>6427.783670</td>\n",
       "      <td>5438.401654</td>\n",
       "      <td>2.290755e+04</td>\n",
       "      <td>6.473206e+05</td>\n",
       "      <td>8.152211e+05</td>\n",
       "      <td>74.559939</td>\n",
       "      <td>713.716339</td>\n",
       "      <td>634.801261</td>\n",
       "      <td>566.068392</td>\n",
       "      <td>549.517782</td>\n",
       "      <td>1073.566228</td>\n",
       "    </tr>\n",
       "    <tr>\n",
       "      <th>min</th>\n",
       "      <td>1001.000000</td>\n",
       "      <td>-99.944766</td>\n",
       "      <td>-427.729651</td>\n",
       "      <td>-1.000000e+02</td>\n",
       "      <td>-9.997863e+01</td>\n",
       "      <td>-1.502334e+02</td>\n",
       "      <td>-72.556880</td>\n",
       "      <td>-98.036005</td>\n",
       "      <td>-82.513013</td>\n",
       "      <td>-97.254836</td>\n",
       "      <td>-97.063776</td>\n",
       "      <td>-14251.488710</td>\n",
       "    </tr>\n",
       "    <tr>\n",
       "      <th>25%</th>\n",
       "      <td>1756.000000</td>\n",
       "      <td>-19.485657</td>\n",
       "      <td>-2.845502</td>\n",
       "      <td>-4.576672e+00</td>\n",
       "      <td>-3.822040e+00</td>\n",
       "      <td>-1.591428e+01</td>\n",
       "      <td>0.000000</td>\n",
       "      <td>0.165046</td>\n",
       "      <td>2.501147</td>\n",
       "      <td>-2.596546</td>\n",
       "      <td>-2.020631</td>\n",
       "      <td>2.499618</td>\n",
       "    </tr>\n",
       "    <tr>\n",
       "      <th>50%</th>\n",
       "      <td>2514.000000</td>\n",
       "      <td>4.950000</td>\n",
       "      <td>5.756586</td>\n",
       "      <td>2.698150e+00</td>\n",
       "      <td>1.098947e-01</td>\n",
       "      <td>1.810000e+00</td>\n",
       "      <td>0.000000</td>\n",
       "      <td>11.959687</td>\n",
       "      <td>11.078739</td>\n",
       "      <td>13.758170</td>\n",
       "      <td>11.807447</td>\n",
       "      <td>7.905877</td>\n",
       "    </tr>\n",
       "    <tr>\n",
       "      <th>75%</th>\n",
       "      <td>3240.500000</td>\n",
       "      <td>42.707068</td>\n",
       "      <td>41.036065</td>\n",
       "      <td>1.853456e+01</td>\n",
       "      <td>1.454140e+01</td>\n",
       "      <td>4.660194e+01</td>\n",
       "      <td>10.214753</td>\n",
       "      <td>31.492096</td>\n",
       "      <td>27.314823</td>\n",
       "      <td>40.725344</td>\n",
       "      <td>37.818915</td>\n",
       "      <td>21.096949</td>\n",
       "    </tr>\n",
       "    <tr>\n",
       "      <th>max</th>\n",
       "      <td>4000.000000</td>\n",
       "      <td>622866.080393</td>\n",
       "      <td>381473.529340</td>\n",
       "      <td>1.948040e+06</td>\n",
       "      <td>8.790694e+07</td>\n",
       "      <td>1.047902e+08</td>\n",
       "      <td>4939.714566</td>\n",
       "      <td>45279.835862</td>\n",
       "      <td>43345.620140</td>\n",
       "      <td>44971.460810</td>\n",
       "      <td>43868.417546</td>\n",
       "      <td>85332.932385</td>\n",
       "    </tr>\n",
       "  </tbody>\n",
       "</table>\n",
       "</div>"
      ],
      "text/plain": [
       "               企业编号     资产:货币资金(元)   资产:长期股权投资(元)    资产:固定资产(元)    资产:无形资产(元)  \\\n",
       "count  19619.000000   18831.000000   12342.000000  1.882300e+04  1.854000e+04   \n",
       "mean    2502.105102     142.584761     363.644876  4.029315e+02  5.467092e+03   \n",
       "std      861.625393    6427.783670    5438.401654  2.290755e+04  6.473206e+05   \n",
       "min     1001.000000     -99.944766    -427.729651 -1.000000e+02 -9.997863e+01   \n",
       "25%     1756.000000     -19.485657      -2.845502 -4.576672e+00 -3.822040e+00   \n",
       "50%     2514.000000       4.950000       5.756586  2.698150e+00  1.098947e-01   \n",
       "75%     3240.500000      42.707068      41.036065  1.853456e+01  1.454140e+01   \n",
       "max     4000.000000  622866.080393  381473.529340  1.948040e+06  8.790694e+07   \n",
       "\n",
       "       负债:长期负债合计(元)  权益:实收资本(或股本)(元)  资产:流动资产合计(元)    资产:资产总计(元)  \\\n",
       "count  1.764300e+04     18820.000000  18424.000000  18835.000000   \n",
       "mean   1.008947e+04        16.540032     46.438059     43.027878   \n",
       "std    8.152211e+05        74.559939    713.716339    634.801261   \n",
       "min   -1.502334e+02       -72.556880    -98.036005    -82.513013   \n",
       "25%   -1.591428e+01         0.000000      0.165046      2.501147   \n",
       "50%    1.810000e+00         0.000000     11.959687     11.078739   \n",
       "75%    4.660194e+01        10.214753     31.492096     27.314823   \n",
       "max    1.047902e+08      4939.714566  45279.835862  43345.620140   \n",
       "\n",
       "       负债:流动负债合计(元)    负债:负债合计(元)  权益:股东权益合计(元)  \n",
       "count  18424.000000  18831.000000  18823.000000  \n",
       "mean      50.199079     50.217094     46.735165  \n",
       "std      566.068392    549.517782   1073.566228  \n",
       "min      -97.254836    -97.063776 -14251.488710  \n",
       "25%       -2.596546     -2.020631      2.499618  \n",
       "50%       13.758170     11.807447      7.905877  \n",
       "75%       40.725344     37.818915     21.096949  \n",
       "max    44971.460810  43868.417546  85332.932385  "
      ]
     },
     "execution_count": 77,
     "metadata": {},
     "output_type": "execute_result"
    }
   ],
   "source": [
    "df_asset1.describe()\n"
   ]
  },
  {
   "cell_type": "code",
   "execution_count": 117,
   "metadata": {},
   "outputs": [],
   "source": [
    "res['资产负债表']=df_asset1"
   ]
  },
  {
   "cell_type": "markdown",
   "metadata": {},
   "source": [
    "# 利润表"
   ]
  },
  {
   "cell_type": "code",
   "execution_count": 157,
   "metadata": {},
   "outputs": [
    {
     "name": "stdout",
     "output_type": "stream",
     "text": [
      "营业成本(元) {'万', '亿'}\n",
      "销售费用(元) {'万', '亿'}\n",
      "财务费用(元) {'万', '亿'}\n",
      "管理费用(元) {'万', '亿'}\n",
      "投资收益(元) {'万', '亿'}\n",
      "营业利润(元) {'万', '亿'}\n",
      "利润总额(元) {'万', '亿'}\n",
      "归属母公司所有者净利润(元) {'万', '亿'}\n",
      "<class 'pandas.core.frame.DataFrame'>\n",
      "RangeIndex: 19621 entries, 0 to 19620\n",
      "Data columns (total 9 columns):\n",
      "企业编号              19621 non-null int64\n",
      "营业成本(元)           19174 non-null float64\n",
      "销售费用(元)           18717 non-null float64\n",
      "财务费用(元)           19197 non-null float64\n",
      "管理费用(元)           19621 non-null float64\n",
      "投资收益(元)           17532 non-null float64\n",
      "营业利润(元)           19613 non-null float64\n",
      "利润总额(元)           19613 non-null float64\n",
      "归属母公司所有者净利润(元)    19600 non-null float64\n",
      "dtypes: float64(8), int64(1)\n",
      "memory usage: 1.3 MB\n"
     ]
    }
   ],
   "source": [
    "df_profit_bpk = pd.read_excel(data_path+r'上市信息财务信息-利润表.xlsx')\n",
    "df_profit = df_profit_bpk.copy()\n",
    "B=['营业成本(元)','销售费用(元)','财务费用(元)','管理费用(元)','投资收益(元)','营业利润(元)','利润总额(元)','归属母公司所有者净利润(元)']\n",
    "for arr in B:\n",
    "    chinese = set(df_profit[arr].str.extract(\n",
    "        \"([^0-9\\.\\-]+)\", expand=False).dropna())\n",
    "    print(arr, chinese)\n",
    "for arr in B:\n",
    "    df_profit.loc[(df_profit[arr].str.contains(\"万\") == True), arr] = df_profit.loc[(\n",
    "       df_profit[arr].str.contains(\"万\") == True), arr].str.replace('万', '').astype(float)*10000\n",
    "    df_profit.loc[(df_profit[arr].str.contains(\"亿\") == True), arr] = df_profit.loc[(\n",
    "        df_profit[arr].str.contains(\"亿\") == True), arr].str.replace('亿', '').astype(float)*100000000\n",
    "    df_profit[arr]=pd.to_numeric(df_profit[arr],errors='coerce')\n",
    "df_profit1=df_profit.drop(['标题','日期','营业收入(元)','资产减值损失(元)','资产减值损失(元)','所得税(元)'],axis=1)\n",
    "df_profit1.describe()\n",
    "df_profit1.info()"
   ]
  },
  {
   "cell_type": "code",
   "execution_count": 158,
   "metadata": {},
   "outputs": [],
   "source": [
    "res['利润表']=df_profit1"
   ]
  },
  {
   "cell_type": "markdown",
   "metadata": {},
   "source": [
    "# 现金流量表"
   ]
  },
  {
   "cell_type": "code",
   "execution_count": 105,
   "metadata": {},
   "outputs": [],
   "source": [
    "df_cash_bpk = pd.read_excel(data_path+r'上市信息财务信息-现金流量表.xlsx')\n",
    "df_cash = df_cash_bpk.copy()"
   ]
  },
  {
   "cell_type": "code",
   "execution_count": 106,
   "metadata": {},
   "outputs": [
    {
     "name": "stdout",
     "output_type": "stream",
     "text": [
      "<class 'pandas.core.frame.DataFrame'>\n",
      "RangeIndex: 19621 entries, 0 to 19620\n",
      "Data columns (total 27 columns):\n",
      "企业编号                               19621 non-null int64\n",
      "标题                                 19621 non-null object\n",
      "日期                                 19621 non-null object\n",
      "经营:销售商品、提供劳务收到的现金(元)               19191 non-null object\n",
      "经营:收到的税费返还(元)                      13718 non-null object\n",
      "经营:收到其他与经营活动有关的现金(元)               19602 non-null object\n",
      "经营:经营活动现金流入小计(元)                   19621 non-null object\n",
      "经营:购买商品、接受劳务支付的现金(元)               19160 non-null object\n",
      "经营:支付给职工以及为职工支付的现金(元)              19620 non-null object\n",
      "经营:支付的各项税费(元)                      19620 non-null object\n",
      "经营:支付其他与经营活动有关的现金(元)               19620 non-null object\n",
      "经营:经营活动现金流出小计(元)                   19621 non-null object\n",
      "经营:经营活动产生的现金流量净额(元)                19621 non-null object\n",
      "投资:取得投资收益所收到的现金(元)                 14283 non-null object\n",
      "投资:处置固定资产、无形资产和其他长期资产收回的现金净额(元)    16016 non-null object\n",
      "投资:投资活动现金流入小计(元)                   18723 non-null object\n",
      "投资:购建固定资产、无形资产和其他长期资产支付的现金(元)      19532 non-null object\n",
      "投资:投资支付的现金(元)                      14010 non-null object\n",
      "投资:投资活动现金流出小计(元)                   19567 non-null object\n",
      "投资:投资活动产生的现金流量净额(元)                19583 non-null object\n",
      "筹资:吸收投资收到的现金(元)                    9092 non-null object\n",
      "筹资:取得借款收到的现金(元)                    15548 non-null object\n",
      "筹资:筹资活动现金流入小计(元)                   17443 non-null object\n",
      "筹资:偿还债务支付的现金(元)                    16206 non-null object\n",
      "筹资:分配股利、利润或偿付利息支付的现金(元)            18651 non-null object\n",
      "筹资:筹资活动现金流出小计(元)                   18948 non-null object\n",
      "筹资活动产生的现金流量净额(元)                   19114 non-null object\n",
      "dtypes: int64(1), object(26)\n",
      "memory usage: 4.0+ MB\n"
     ]
    }
   ],
   "source": [
    "df_cash.info()"
   ]
  },
  {
   "cell_type": "code",
   "execution_count": 115,
   "metadata": {},
   "outputs": [
    {
     "name": "stdout",
     "output_type": "stream",
     "text": [
      "经营流入 {'万', '亿'}\n",
      "经营净额 {'万', '亿'}\n",
      "投资流出 {'万', '亿'}\n",
      "投资净额 {'万', '亿'}\n",
      "筹资流入 {'万', '亿'}\n",
      "筹资净额 {'万', '亿'}\n",
      "<class 'pandas.core.frame.DataFrame'>\n",
      "RangeIndex: 19621 entries, 0 to 19620\n",
      "Data columns (total 7 columns):\n",
      "企业编号    19621 non-null int64\n",
      "经营流入    19621 non-null float64\n",
      "经营净额    19621 non-null float64\n",
      "投资流出    19550 non-null float64\n",
      "投资净额    19566 non-null float64\n",
      "筹资流入    17268 non-null float64\n",
      "筹资净额    19066 non-null float64\n",
      "dtypes: float64(6), int64(1)\n",
      "memory usage: 1.0 MB\n"
     ]
    }
   ],
   "source": [
    "df_cash1=pd.DataFrame({'企业编号':df_cash['企业编号'],'经营流入':df_cash['经营:经营活动现金流入小计(元)'],\n",
    "                '经营净额':df_cash['经营:经营活动产生的现金流量净额(元)'], '投资流出':df_cash['投资:投资活动现金流出小计(元)'], '投资净额':df_cash['投资:投资活动产生的现金流量净额(元)'],\n",
    "                  '筹资流入':df_cash['筹资:筹资活动现金流入小计(元)'],'筹资净额':df_cash['筹资活动产生的现金流量净额(元)'],})\n",
    "C=['经营流入','经营净额','投资流出','投资净额', '筹资流入','筹资净额']\n",
    "for arr in C:\n",
    "    chinese = set(df_cash1[arr].str.extract(\n",
    "        \"([^0-9\\.\\-]+)\", expand=False).dropna())\n",
    "    print(arr, chinese)\n",
    "for arr in C:\n",
    "    df_cash1.loc[(df_cash1[arr].str.contains(\"万\") == True), arr] = df_cash1.loc[(\n",
    "        df_cash1[arr].str.contains(\"万\") == True), arr].str.replace('万', '').astype(float)*0.0001\n",
    "    df_cash1.loc[(df_cash1[arr].str.contains(\"亿\") == True), arr] = df_cash1.loc[(\n",
    "        df_cash1[arr].str.contains(\"亿\") == True), arr].str.replace('亿', '').astype(float)*1\n",
    "    df_cash1[arr]=pd.to_numeric(df_cash1[arr],errors='coerce')\n",
    "df_cash1.info()"
   ]
  },
  {
   "cell_type": "code",
   "execution_count": 119,
   "metadata": {},
   "outputs": [],
   "source": [
    "res['现金流量表']=df_cash1"
   ]
  },
  {
   "cell_type": "markdown",
   "metadata": {},
   "source": [
    "# 每股指标"
   ]
  },
  {
   "cell_type": "code",
   "execution_count": 128,
   "metadata": {},
   "outputs": [
    {
     "name": "stdout",
     "output_type": "stream",
     "text": [
      "<class 'pandas.core.frame.DataFrame'>\n",
      "RangeIndex: 28887 entries, 0 to 28886\n",
      "Data columns (total 7 columns):\n",
      "企业编号          28887 non-null int64\n",
      "基本每股收益(元)     28824 non-null float64\n",
      "扣非每股收益(元)     28073 non-null float64\n",
      "每股净资产(元)      25597 non-null float64\n",
      "每股公积金(元)      25456 non-null float64\n",
      "每股未分配利润(元)    25586 non-null float64\n",
      "每股经营现金流(元)    25613 non-null float64\n",
      "dtypes: float64(6), int64(1)\n",
      "memory usage: 1.5 MB\n"
     ]
    }
   ],
   "source": [
    "df_meiguzhibiao_bpk = pd.read_excel(data_path+r'上市公司财务信息-每股指标.xlsx')\n",
    "df_meiguzhibiao = df_meiguzhibiao_bpk.copy()\n",
    "df_meiguzhibiao1=df_meiguzhibiao.drop(['标题','日期','稀释每股收益(元)'],axis=1)\n",
    "D=['基本每股收益(元)','扣非每股收益(元)','每股净资产(元)','每股公积金(元)','每股未分配利润(元)','每股经营现金流(元)']\n",
    "for arr in D:\n",
    "    df_meiguzhibiao1[arr]=pd.to_numeric(df_meiguzhibiao1[arr],errors='coerce')\n",
    "df_meiguzhibiao1.info()"
   ]
  },
  {
   "cell_type": "code",
   "execution_count": 129,
   "metadata": {},
   "outputs": [],
   "source": [
    "res['每股指标']=df_meiguzhibiao1"
   ]
  },
  {
   "cell_type": "markdown",
   "metadata": {},
   "source": [
    "# 成长能力指标"
   ]
  },
  {
   "cell_type": "code",
   "execution_count": 134,
   "metadata": {},
   "outputs": [],
   "source": [
    "df_growth_bpk = pd.read_excel(data_path+r'上市信息财务信息-成长能力指标.xlsx')\n",
    "df_growth= df_growth_bpk.copy()\n",
    "df_growth=df_growth.drop(['标题','日期','扣非净利润(元)','归属净利润同比增长(元)','营业总收入滚动环比增长(元)', '归属净利润滚动环比增长(元)', '扣非净利润滚动环比增长(元)'],axis=1)\n",
    "E = ['营业总收入(元)', '毛利润(元)', '归属净利润(元)']\n",
    "for arr in E:\n",
    "    df_growth.loc[(df_growth[arr].str.contains(\"万亿\") == True), arr] = df_growth.loc[(\n",
    "        df_growth[arr].str.contains(\"万亿\") == True), arr].str.replace('万亿', '').astype(float)*1000000000000\n",
    "    df_growth.loc[(df_growth[arr].str.contains(\"万\") == True), arr] = df_growth.loc[(\n",
    "        df_growth[arr].str.contains(\"万\") == True), arr].str.replace('万', '').astype(float)*10000\n",
    "    df_growth.loc[(df_growth[arr].str.contains(\"亿\") == True), arr] = df_growth.loc[(\n",
    "        df_growth[arr].str.contains(\"亿\") == True), arr].str.replace('亿', '').astype(float)*100000000\n",
    "F = ['营业总收入同比增长(元)', '扣非净利润同比增长(元)']\n",
    "for arr in F:\n",
    "    df_growth[arr] = df_growth[arr].replace('--%', np.nan)\n",
    "for arr in F:\n",
    "    df_growth.loc[(df_growth[arr].str.contains(\"%\") == True), arr] = df_growth.loc[(\n",
    "        df_growth[arr].str.contains(\"%\") == True), arr].str.replace(',', '').str.rstrip('%').astype(float)/100\n",
    "df_growth = df_growth.convert_objects(convert_numeric=True)"
   ]
  },
  {
   "cell_type": "code",
   "execution_count": 135,
   "metadata": {},
   "outputs": [
    {
     "name": "stdout",
     "output_type": "stream",
     "text": [
      "<class 'pandas.core.frame.DataFrame'>\n",
      "RangeIndex: 28887 entries, 0 to 28886\n",
      "Data columns (total 6 columns):\n",
      "企业编号            28887 non-null int64\n",
      "营业总收入(元)        28877 non-null float64\n",
      "毛利润(元)          28185 non-null float64\n",
      "归属净利润(元)        28887 non-null float64\n",
      "营业总收入同比增长(元)    28229 non-null float64\n",
      "扣非净利润同比增长(元)    22907 non-null float64\n",
      "dtypes: float64(5), int64(1)\n",
      "memory usage: 1.3 MB\n"
     ]
    }
   ],
   "source": [
    "df_growth.info()"
   ]
  },
  {
   "cell_type": "code",
   "execution_count": 136,
   "metadata": {},
   "outputs": [],
   "source": [
    "res['成长能力']=df_growth"
   ]
  },
  {
   "cell_type": "markdown",
   "metadata": {},
   "source": [
    "# 盈利能力指标"
   ]
  },
  {
   "cell_type": "code",
   "execution_count": 148,
   "metadata": {},
   "outputs": [
    {
     "name": "stdout",
     "output_type": "stream",
     "text": [
      "<class 'pandas.core.frame.DataFrame'>\n",
      "RangeIndex: 28887 entries, 0 to 28886\n",
      "Data columns (total 7 columns):\n",
      "企业编号           28887 non-null int64\n",
      "加权净资产收益率(%)    28218 non-null float64\n",
      "摊薄净资产收益率(%)    28316 non-null float64\n",
      "摊薄总资产收益率(%)    28887 non-null float64\n",
      "毛利率(%)         28203 non-null float64\n",
      "净利率(%)         28875 non-null float64\n",
      "实际税率(%)        25648 non-null float64\n",
      "dtypes: float64(6), int64(1)\n",
      "memory usage: 1.5 MB\n"
     ]
    }
   ],
   "source": [
    "df_abilityofprofit_bpk= pd.read_excel(data_path+r'上市信息财务信息盈利能力指标.xlsx')\n",
    "df_abilityofprofit= df_abilityofprofit_bpk.copy()\n",
    "G=['加权净资产收益率(%)','摊薄净资产收益率(%)','摊薄总资产收益率(%)','毛利率(%)','净利率(%)','实际税率(%)']\n",
    "for arr in G:\n",
    "        df_abilityofprofit[arr] = df_abilityofprofit[arr].replace('--%', np.nan)\n",
    "        df_abilityofprofit[arr] =df_abilityofprofit[arr].str.rstrip('%').astype(float)/100\n",
    "df_abilityofprofit.convert_objects(convert_numeric=True)\n",
    "df_abilityofprofit=df_abilityofprofit.drop(['标题','日期'],axis=1)\n",
    "df_abilityofprofit.info()"
   ]
  },
  {
   "cell_type": "code",
   "execution_count": 142,
   "metadata": {},
   "outputs": [],
   "source": [
    "res['盈利能力能力']=df_abilityofprofit"
   ]
  },
  {
   "cell_type": "markdown",
   "metadata": {},
   "source": [
    "# 财务风险指标"
   ]
  },
  {
   "cell_type": "code",
   "execution_count": 154,
   "metadata": {},
   "outputs": [
    {
     "name": "stdout",
     "output_type": "stream",
     "text": [
      "<class 'pandas.core.frame.DataFrame'>\n",
      "RangeIndex: 28887 entries, 0 to 28886\n",
      "Data columns (total 4 columns):\n",
      "企业编号           28887 non-null int64\n",
      "资产负债率(%)       28437 non-null float64\n",
      "流动负债/总负债(%)    28355 non-null float64\n",
      "流动比率           27703 non-null float64\n",
      "dtypes: float64(3), int64(1)\n",
      "memory usage: 902.8 KB\n"
     ]
    }
   ],
   "source": [
    "df_risk_bpk= pd.read_excel(data_path+r'上市信息财务信息-财务风险指标.xlsx')\n",
    "df_risk= df_risk_bpk.copy()\n",
    "H=['流动比率','速动比率']\n",
    "for arr in H:\n",
    "      df_risk[arr] = pd.to_numeric(df_risk[arr],errors='coerce')\n",
    "I=['资产负债率(%)','流动负债/总负债(%)']\n",
    "for arr in I:\n",
    "     df_risk[arr] = df_risk[arr].replace('--%', np.nan)\n",
    "df_risk.convert_objects(convert_numeric=True)\n",
    "for arr in I:\n",
    "    df_risk[arr] =df_risk[arr].str.rstrip('%').astype(float)/100\n",
    "df_risk.convert_objects(convert_numeric=True)\n",
    "df_risk=df_risk.drop(['标题','日期','速动比率'],axis=1)\n",
    "df_risk.info()"
   ]
  },
  {
   "cell_type": "code",
   "execution_count": 155,
   "metadata": {},
   "outputs": [],
   "source": [
    "res['财务风险能力']=df_risk"
   ]
  },
  {
   "cell_type": "markdown",
   "metadata": {},
   "source": [
    "# 运营能力指标"
   ]
  },
  {
   "cell_type": "code",
   "execution_count": 153,
   "metadata": {},
   "outputs": [
    {
     "name": "stdout",
     "output_type": "stream",
     "text": [
      "<class 'pandas.core.frame.DataFrame'>\n",
      "RangeIndex: 28887 entries, 0 to 28886\n",
      "Data columns (total 7 columns):\n",
      "企业编号           28887 non-null int64\n",
      "标题             28887 non-null object\n",
      "日期             28887 non-null object\n",
      "总资产周转率(次)      28797 non-null float64\n",
      "应收账款周转天数(天)    27922 non-null float64\n",
      "存货周转天数(天)      27776 non-null float64\n",
      "总资产周转天数        28797 non-null float64\n",
      "dtypes: float64(4), int64(1), object(2)\n",
      "memory usage: 1.5+ MB\n",
      "<class 'pandas.core.frame.DataFrame'>\n",
      "RangeIndex: 28887 entries, 0 to 28886\n",
      "Data columns (total 4 columns):\n",
      "企业编号           28887 non-null int64\n",
      "应收账款周转天数(天)    27922 non-null float64\n",
      "存货周转天数(天)      27776 non-null float64\n",
      "总资产周转天数        28797 non-null float64\n",
      "dtypes: float64(3), int64(1)\n",
      "memory usage: 902.8 KB\n"
     ]
    }
   ],
   "source": [
    "df_operation_bpk= pd.read_excel(data_path+r'上市信息财务信息运营能力指标.xlsx')\n",
    "df_operation= df_operation_bpk.copy()\n",
    "J=['应收账款周转天数(天)','存货周转天数(天)']\n",
    "for arr in J:\n",
    "    df_operation[arr]=pd.to_numeric(df_operation[arr],errors='coerce')\n",
    "df_operation['总资产周转天数']=365/df_operation['总资产周转率(次)']\n",
    "df_operation.info()\n",
    "df_operation=df_operation.drop(['标题','日期','总资产周转率(次)'],axis=1)\n",
    "df_operation.info()"
   ]
  },
  {
   "cell_type": "code",
   "execution_count": 156,
   "metadata": {},
   "outputs": [],
   "source": [
    "res['财务风险能力']=df_operation"
   ]
  },
  {
   "cell_type": "code",
   "execution_count": null,
   "metadata": {},
   "outputs": [],
   "source": []
  }
 ],
 "metadata": {
  "kernelspec": {
   "display_name": "Python 3",
   "language": "python",
   "name": "python3"
  },
  "language_info": {
   "codemirror_mode": {
    "name": "ipython",
    "version": 3
   },
   "file_extension": ".py",
   "mimetype": "text/x-python",
   "name": "python",
   "nbconvert_exporter": "python",
   "pygments_lexer": "ipython3",
   "version": "3.7.2"
  }
 },
 "nbformat": 4,
 "nbformat_minor": 2
}
